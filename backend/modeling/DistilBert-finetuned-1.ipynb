{
 "cells": [
  {
   "cell_type": "markdown",
   "metadata": {},
   "source": [
    "### Import the necessary packages"
   ]
  },
  {
   "cell_type": "code",
   "execution_count": 1,
   "metadata": {},
   "outputs": [
    {
     "name": "stderr",
     "output_type": "stream",
     "text": [
      "/Users/alicepope/Capstone project/Capstone_project/backend/.venv/lib/python3.11/site-packages/tqdm/auto.py:21: TqdmWarning: IProgress not found. Please update jupyter and ipywidgets. See https://ipywidgets.readthedocs.io/en/stable/user_install.html\n",
      "  from .autonotebook import tqdm as notebook_tqdm\n"
     ]
    }
   ],
   "source": [
    "import pandas as pd\n",
    "import numpy as np\n",
    "from sklearn.preprocessing import LabelEncoder\n",
    "from sklearn.utils.class_weight import compute_class_weight\n",
    "from datasets import Dataset\n",
    "from transformers import AutoTokenizer, AutoModelForSequenceClassification, TrainingArguments, Trainer, TextClassificationPipeline \n",
    "from sklearn.metrics import accuracy_score, recall_score, precision_score, f1_score, classification_report, confusion_matrix\n",
    "import mlflow\n",
    "from mlflow.transformers import log_model\n",
    "import logging \n",
    "import torch\n",
    "from torch.nn import CrossEntropyLoss\n",
    "\n",
    "\n",
    "\n",
    "from sklearn.model_selection import train_test_split\n",
    "import pickle\n",
    "import warnings\n",
    "warnings.filterwarnings('ignore') \n",
    "from mlflow.sklearn import save_model \n",
    "import os\n",
    "os.environ[\"TOKENIZERS_PARALLELISM\"] = \"false\"  # This tells Hugging Face: “Don’t use parallel tokenization — avoid possible deadlocks.”\n",
    "\n",
    "import seaborn as sns\n",
    "import matplotlib.pyplot as plt\n",
    "\n",
    "import config \n",
    "\n",
    "\n",
    "# tokenizer = AutoTokenizer.from_pretrained(\"distilbert/distilbert-base-uncased\")\n",
    "# model = AutoModelForMaskedLM.from_pretrained(\"distilbert/distilbert-base-uncased\")"
   ]
  },
  {
   "cell_type": "code",
   "execution_count": 2,
   "metadata": {},
   "outputs": [],
   "source": [
    "MODEL_NAME = \"distilbert-base-uncased\" # pulls the general-purpose DistilBERT model\n",
    "DATA_PATH = \"../data/data_small.csv\"\n",
    "TRACKING_URI = config.TRACKING_URI #??? TRACKING_URI = open(\"../.mlflow_uri\").read().strip()\n",
    "EXPERIMENT_NAME = config.EXPERIMENT_NAME\n",
    "\n",
    "logging.basicConfig(format=\"%(asctime)s: %(message)s\") # Configure logging format to show timestamp before every message\n",
    "\n",
    "logger = logging.getLogger()\n",
    "logger.setLevel(logging.INFO) # Only show logs that are INFO or more important (e.g., WARNING, ERROR) — but ignore DEBUG."
   ]
  },
  {
   "cell_type": "code",
   "execution_count": 3,
   "metadata": {},
   "outputs": [
    {
     "name": "stderr",
     "output_type": "stream",
     "text": [
      "2025-04-03 10:17:08,756: Loading and preprocessing data...\n",
      "Map: 100%|██████████| 7/7 [00:00<00:00, 423.44 examples/s]\n",
      "Map: 100%|██████████| 3/3 [00:00<00:00, 381.68 examples/s]\n"
     ]
    }
   ],
   "source": [
    "# Load and preprocess data\n",
    "logger.info(\"Loading and preprocessing data...\")\n",
    "df = pd.read_csv(DATA_PATH)\n",
    "\n",
    "# use only 10 rows to test end-to-end run (comment this line out later)\n",
    "df = df.sample(10, random_state=42).reset_index(drop=True)\n",
    "\n",
    "le = LabelEncoder()\n",
    "df[\"label\"] = le.fit_transform(df[\"logical_fallacies\"])\n",
    "dataset = Dataset.from_pandas(df[[\"text\", \"label\"]])\n",
    "dataset = dataset.train_test_split(test_size=0.3)\n",
    "\n",
    "tokenizer = AutoTokenizer.from_pretrained(MODEL_NAME)\n",
    "\n",
    "def tokenize(batch):\n",
    "    return tokenizer(batch[\"text\"], padding=True, truncation=True)\n",
    "\n",
    "dataset = dataset.map(tokenize, batched=True)"
   ]
  },
  {
   "cell_type": "code",
   "execution_count": 4,
   "metadata": {},
   "outputs": [
    {
     "name": "stderr",
     "output_type": "stream",
     "text": [
      "Some weights of DistilBertForSequenceClassification were not initialized from the model checkpoint at distilbert-base-uncased and are newly initialized: ['classifier.bias', 'classifier.weight', 'pre_classifier.bias', 'pre_classifier.weight']\n",
      "You should probably TRAIN this model on a down-stream task to be able to use it for predictions and inference.\n"
     ]
    }
   ],
   "source": [
    "# Initialize model, we should use AutoModelForSequenceClassification and not AutoModelForMaskedLM because we are doing classification\n",
    "model = AutoModelForSequenceClassification.from_pretrained(MODEL_NAME, num_labels=len(le.classes_))"
   ]
  },
  {
   "cell_type": "code",
   "execution_count": 5,
   "metadata": {},
   "outputs": [
    {
     "name": "stdout",
     "output_type": "stream",
     "text": [
      "DistilBertConfig {\n",
      "  \"_attn_implementation_autoset\": true,\n",
      "  \"activation\": \"gelu\",\n",
      "  \"architectures\": [\n",
      "    \"DistilBertForMaskedLM\"\n",
      "  ],\n",
      "  \"attention_dropout\": 0.1,\n",
      "  \"dim\": 768,\n",
      "  \"dropout\": 0.1,\n",
      "  \"hidden_dim\": 3072,\n",
      "  \"id2label\": {\n",
      "    \"0\": \"LABEL_0\",\n",
      "    \"1\": \"LABEL_1\",\n",
      "    \"2\": \"LABEL_2\",\n",
      "    \"3\": \"LABEL_3\"\n",
      "  },\n",
      "  \"initializer_range\": 0.02,\n",
      "  \"label2id\": {\n",
      "    \"LABEL_0\": 0,\n",
      "    \"LABEL_1\": 1,\n",
      "    \"LABEL_2\": 2,\n",
      "    \"LABEL_3\": 3\n",
      "  },\n",
      "  \"max_position_embeddings\": 512,\n",
      "  \"model_type\": \"distilbert\",\n",
      "  \"n_heads\": 12,\n",
      "  \"n_layers\": 6,\n",
      "  \"pad_token_id\": 0,\n",
      "  \"qa_dropout\": 0.1,\n",
      "  \"seq_classif_dropout\": 0.2,\n",
      "  \"sinusoidal_pos_embds\": false,\n",
      "  \"tie_weights_\": true,\n",
      "  \"torch_dtype\": \"float32\",\n",
      "  \"transformers_version\": \"4.50.3\",\n",
      "  \"vocab_size\": 30522\n",
      "}\n",
      "\n"
     ]
    }
   ],
   "source": [
    "# To see a summary of the model\n",
    "print(model.config)"
   ]
  },
  {
   "cell_type": "code",
   "execution_count": null,
   "metadata": {},
   "outputs": [],
   "source": [
    "# # Get labels from training set\n",
    "# y_train = dataset[\"train\"][\"label\"]\n",
    "# # all_labels = list(range(len(le.classes_))) \n",
    "# present_labels = np.unique(y_train)\n",
    "\n",
    "# # Compute class weights\n",
    "# class_weights = compute_class_weight(class_weight='balanced', classes=present_labels, y=y_train)\n",
    "# class_weights_tensor = torch.tensor(class_weights, dtype=torch.float)"
   ]
  },
  {
   "cell_type": "code",
   "execution_count": 24,
   "metadata": {},
   "outputs": [],
   "source": [
    "\n",
    "# Get full list of label indices\n",
    "full_class_indices = np.arange(len(le.classes_))  # e.g., [0, 1, 2, 3, 4, 5]\n",
    "\n",
    "# Get only the classes that appear in y_train\n",
    "y_train = dataset[\"train\"][\"label\"]\n",
    "present_classes = np.unique(y_train)\n",
    "\n",
    "# Compute weights ONLY for the present ones\n",
    "present_weights = compute_class_weight(\n",
    "    class_weight=\"balanced\",\n",
    "    classes=present_classes,\n",
    "    y=y_train\n",
    ")\n",
    "\n",
    "# Initialize full weight vector with 0s, then insert the computed ones\n",
    "full_weights = np.zeros(len(full_class_indices), dtype=np.float32)\n",
    "for idx, cls in enumerate(present_classes):\n",
    "    full_weights[cls] = present_weights[idx]\n",
    "\n",
    "# Convert to tensor\n",
    "class_weights_tensor = torch.tensor(full_weights, dtype=torch.float)\n"
   ]
  },
  {
   "cell_type": "code",
   "execution_count": 25,
   "metadata": {},
   "outputs": [],
   "source": [
    "# Hugging Face’s Trainer does not support class weights out-of-the-box, so we must override the loss\n",
    "\n",
    "class WeightedTrainer(Trainer):\n",
    "    def compute_loss(self, model, inputs, return_outputs=False, **kwargs): # **kwargs captures unexpected/optional arguments (like num_items_in_batch) without breaking your function\n",
    "        labels = inputs.get(\"labels\")\n",
    "        outputs = model(**inputs)\n",
    "        logits = outputs.get(\"logits\")\n",
    "\n",
    "        loss_fn = torch.nn.CrossEntropyLoss(weight=class_weights_tensor.to(model.device))\n",
    "        loss = loss_fn(logits, labels)\n",
    "\n",
    "        return (loss, outputs) if return_outputs else loss\n"
   ]
  },
  {
   "cell_type": "code",
   "execution_count": 26,
   "metadata": {},
   "outputs": [],
   "source": [
    "# Define metric logging function\n",
    "def compute_metrics(eval_pred):\n",
    "    logits, labels = eval_pred\n",
    "    preds = logits.argmax(axis=1)\n",
    "    acc = accuracy_score(labels, preds)\n",
    "    precision = precision_score(labels, preds, average=\"macro\")\n",
    "    recall = recall_score(labels, preds, average=\"macro\")\n",
    "    f1 = f1_score(labels, preds, average=\"macro\")\n",
    "    return {\"accuracy\": acc, \"precision\": precision, \"recall\": recall, \"f1\": f1}"
   ]
  },
  {
   "cell_type": "code",
   "execution_count": 27,
   "metadata": {},
   "outputs": [],
   "source": [
    "# TrainingArguments This config tells the Trainer: \n",
    "# “Train for 3 epochs, evaluate and save the model after each one, \n",
    "# use moderate batch sizes, \n",
    "# and keep logs and checkpoints local — don’t auto-report to external dashboards.” --> can it be set to report to MLFlow?\n",
    "\n",
    "args = TrainingArguments(\n",
    "    output_dir=\"fallacy-model\",\n",
    "    learning_rate=3e-5, # added for fine-tuning, 5e-5 by default\n",
    "    weight_decay=0.01,  # added for fine-tuning, 0 by default\n",
    "    evaluation_strategy=\"epoch\",\n",
    "    per_device_train_batch_size=16,\n",
    "    per_device_eval_batch_size=64,\n",
    "    num_train_epochs=4,  # increased from 3 for fine-tuning\n",
    "    logging_dir=\"./logs\",\n",
    "    save_strategy=\"epoch\",\n",
    "    report_to=\"none\"\n",
    ")"
   ]
  },
  {
   "cell_type": "code",
   "execution_count": null,
   "metadata": {},
   "outputs": [
    {
     "name": "stdout",
     "output_type": "stream",
     "text": [
      "Active run_id: 6134a29fcd9441ff81bbad7209de45f9\n"
     ]
    },
    {
     "data": {
      "text/html": [
       "\n",
       "    <div>\n",
       "      \n",
       "      <progress value='4' max='4' style='width:300px; height:20px; vertical-align: middle;'></progress>\n",
       "      [4/4 00:16, Epoch 4/4]\n",
       "    </div>\n",
       "    <table border=\"1\" class=\"dataframe\">\n",
       "  <thead>\n",
       " <tr style=\"text-align: left;\">\n",
       "      <th>Epoch</th>\n",
       "      <th>Training Loss</th>\n",
       "      <th>Validation Loss</th>\n",
       "      <th>Accuracy</th>\n",
       "      <th>Precision</th>\n",
       "      <th>Recall</th>\n",
       "      <th>F1</th>\n",
       "    </tr>\n",
       "  </thead>\n",
       "  <tbody>\n",
       "    <tr>\n",
       "      <td>1</td>\n",
       "      <td>No log</td>\n",
       "      <td>1.361869</td>\n",
       "      <td>0.000000</td>\n",
       "      <td>0.000000</td>\n",
       "      <td>0.000000</td>\n",
       "      <td>0.000000</td>\n",
       "    </tr>\n",
       "    <tr>\n",
       "      <td>2</td>\n",
       "      <td>No log</td>\n",
       "      <td>1.349172</td>\n",
       "      <td>0.000000</td>\n",
       "      <td>0.000000</td>\n",
       "      <td>0.000000</td>\n",
       "      <td>0.000000</td>\n",
       "    </tr>\n",
       "    <tr>\n",
       "      <td>3</td>\n",
       "      <td>No log</td>\n",
       "      <td>1.342854</td>\n",
       "      <td>0.000000</td>\n",
       "      <td>0.000000</td>\n",
       "      <td>0.000000</td>\n",
       "      <td>0.000000</td>\n",
       "    </tr>\n",
       "    <tr>\n",
       "      <td>4</td>\n",
       "      <td>No log</td>\n",
       "      <td>1.339488</td>\n",
       "      <td>0.000000</td>\n",
       "      <td>0.000000</td>\n",
       "      <td>0.000000</td>\n",
       "      <td>0.000000</td>\n",
       "    </tr>\n",
       "  </tbody>\n",
       "</table><p>"
      ],
      "text/plain": [
       "<IPython.core.display.HTML object>"
      ]
     },
     "metadata": {},
     "output_type": "display_data"
    },
    {
     "data": {
      "text/html": [
       "\n",
       "    <div>\n",
       "      \n",
       "      <progress value='1' max='1' style='width:300px; height:20px; vertical-align: middle;'></progress>\n",
       "      [1/1 : < :]\n",
       "    </div>\n",
       "    "
      ],
      "text/plain": [
       "<IPython.core.display.HTML object>"
      ]
     },
     "metadata": {},
     "output_type": "display_data"
    },
    {
     "name": "stderr",
     "output_type": "stream",
     "text": [
      "Device set to use cpu\n",
      "2025/04/03 10:30:45 WARNING mlflow.transformers.signature: An unsupported task type was supplied for signature inference. Either provide an `input_example` or generate a signature manually via `infer_signature` to have a signature recorded in the MLmodel file.\n",
      "2025/04/03 10:31:08 WARNING mlflow.utils.environment: Encountered an unexpected error while inferring pip requirements (model URI: /var/folders/qt/8rxmyyc907sdnc599f4rg0080000gn/T/tmpw4m84xoj/model, flavor: transformers). Fall back to return ['transformers==4.50.3', 'torch==2.2.2', 'torchvision==0.17.2', 'accelerate==1.5.2']. Set logging level to DEBUG to see the full traceback. \n",
      "\u001b[31m2025/04/03 10:31:08 WARNING mlflow.models.model: Model logged without a signature and input example. Please set `input_example` parameter when logging the model to auto infer the model signature.\u001b[0m\n"
     ]
    },
    {
     "data": {
      "text/plain": [
       "<Run: data=<RunData: metrics={}, params={'evaluation_strategy': 'epoch',\n",
       " 'learning_rate': '3e-05',\n",
       " 'num_train_epochs': '3',\n",
       " 'weight_decay': '0.01'}, tags={'mlflow.log-model.history': '[{\"run_id\": \"6134a29fcd9441ff81bbad7209de45f9\", '\n",
       "                             '\"artifact_path\": \"model\", \"utc_time_created\": '\n",
       "                             '\"2025-04-03 08:30:43.750501\", \"model_uuid\": '\n",
       "                             '\"a1ff9e82a89948f9ba07e185f0421c41\", \"flavors\": '\n",
       "                             '{\"transformers\": {\"transformers_version\": '\n",
       "                             '\"4.50.3\", \"code\": null, \"task\": \"\", '\n",
       "                             '\"instance_type\": \"TextClassificationPipeline\", '\n",
       "                             '\"framework\": \"pt\", \"torch_dtype\": '\n",
       "                             '\"torch.float32\", \"pipeline_model_type\": '\n",
       "                             '\"DistilBertForSequenceClassification\", '\n",
       "                             '\"source_model_name\": \"distilbert-base-uncased\", '\n",
       "                             '\"model_binary\": \"model\", \"tokenizer_type\": '\n",
       "                             '\"DistilBertTokenizerFast\", \"components\": '\n",
       "                             '[\"tokenizer\"]}, \"python_function\": '\n",
       "                             '{\"loader_module\": \"mlflow.transformers\", '\n",
       "                             '\"python_version\": \"3.11.3\", \"env\": {\"conda\": '\n",
       "                             '\"conda.yaml\", \"virtualenv\": '\n",
       "                             '\"python_env.yaml\"}}}}]',\n",
       " 'mlflow.runName': 'capable-auk-759',\n",
       " 'mlflow.source.name': '/Users/alicepope/Capstone '\n",
       "                       'project/Capstone_project/backend/.venv/lib/python3.11/site-packages/ipykernel_launcher.py',\n",
       " 'mlflow.source.type': 'LOCAL',\n",
       " 'mlflow.user': 'alicepope',\n",
       " 'model_name': 'distilbert-base-uncased'}>, info=<RunInfo: artifact_uri='file:///Users/alicepope/Capstone%20project/Capstone_project/backend/modeling/mlruns/903635950068256248/6134a29fcd9441ff81bbad7209de45f9/artifacts', end_time=1743669068966, experiment_id='903635950068256248', lifecycle_stage='active', run_id='6134a29fcd9441ff81bbad7209de45f9', run_name='capable-auk-759', run_uuid='6134a29fcd9441ff81bbad7209de45f9', start_time=1743669023760, status='FINISHED', user_id='alicepope'>, inputs=<RunInputs: dataset_inputs=[]>>"
      ]
     },
     "execution_count": 28,
     "metadata": {},
     "output_type": "execute_result"
    }
   ],
   "source": [
    "# Train using Trainer and log to MLflow\n",
    "# setting the MLFlow connection and experiment\n",
    "\n",
    "params = {\n",
    "      \"learning_rate\": 3e-5,\n",
    "      \"weight_decay\": 0.01,\n",
    "      \"num_train_epochs\": 4,\n",
    "      \"evaluation_strategy\": \"epoch\",\n",
    "  }\n",
    "\n",
    "\n",
    "# setting the MLFlow connection and experiment\n",
    "mlflow.set_tracking_uri(TRACKING_URI)\n",
    "mlflow.set_experiment(EXPERIMENT_NAME)\n",
    "\n",
    "\n",
    "with mlflow.start_run():\n",
    "    run = mlflow.active_run()\n",
    "    print(\"Active run_id: {}\".format(run.info.run_id))\n",
    "    mlflow.set_tag(\"model_name\", MODEL_NAME)\n",
    "    mlflow.log_params(params)\n",
    "    trainer = WeightedTrainer(\n",
    "        model=model,\n",
    "        args=args,\n",
    "        train_dataset=dataset[\"train\"],\n",
    "        eval_dataset=dataset[\"test\"],\n",
    "        tokenizer=tokenizer,\n",
    "        compute_metrics=compute_metrics\n",
    "    )\n",
    "\n",
    "    trainer.train()\n",
    "    trainer.evaluate()\n",
    "\n",
    "    # Wrap model in a Hugging Face pipeline so MLflow can log it properly\n",
    "    pipeline = TextClassificationPipeline(model=trainer.model, tokenizer=tokenizer)\n",
    "    log_model(pipeline, artifact_path=\"model\") \n",
    "\n",
    "# Even though with mlflow.start_run(): handles ending automatically, it's good style to include the end\n",
    "mlflow.end_run()\n",
    "\n",
    "# to inspect the run after it finishes\n",
    "mlflow.get_run(run_id=run.info.run_id)\n"
   ]
  },
  {
   "cell_type": "code",
   "execution_count": 24,
   "metadata": {},
   "outputs": [
    {
     "name": "stdout",
     "output_type": "stream",
     "text": [
      "                       precision    recall  f1-score   support\n",
      "\n",
      "           ad_hominem       0.72      0.61      0.66       157\n",
      "  appeal_to_authority       0.63      0.61      0.62        92\n",
      "    appeal_to_emotion       0.74      0.71      0.72       219\n",
      "        false_dilemma       0.72      0.67      0.69       134\n",
      "faulty_generalization       0.60      0.56      0.58       197\n",
      "                 none       0.80      0.86      0.83       701\n",
      "\n",
      "             accuracy                           0.74      1500\n",
      "            macro avg       0.70      0.67      0.68      1500\n",
      "         weighted avg       0.74      0.74      0.74      1500\n",
      "\n",
      "Confusion Matrix:\n",
      "[[ 96   6  23   5   6  21]\n",
      " [  7  56   5   0   6  18]\n",
      " [ 11   5 156   4  13  30]\n",
      " [  3   3   7  90   7  24]\n",
      " [  9   4   7   5 111  61]\n",
      " [  7  15  14  21  43 601]]\n"
     ]
    },
    {
     "data": {
      "image/png": "[encoded data removed]",
      "text/plain": [
       "<Figure size 1000x800 with 2 Axes>"
      ]
     },
     "metadata": {},
     "output_type": "display_data"
    }
   ],
   "source": [
    "# Add prediction and reporting here\n",
    "output = trainer.predict(dataset[\"test\"])\n",
    "predictions = np.argmax(output.predictions, axis=1)\n",
    "y_true = output.label_ids\n",
    "\n",
    "# Classification report\n",
    "label_names = le.classes_\n",
    "print(classification_report(y_true, predictions, target_names=label_names))\n",
    "\n",
    "# Confusion matrix\n",
    "cm = confusion_matrix(y_true, predictions)\n",
    "print(\"Confusion Matrix:\")\n",
    "print(cm)\n",
    "\n",
    "# plotting\n",
    "plt.figure(figsize=(10, 8))\n",
    "sns.heatmap(cm, annot=True, fmt=\"d\", cmap=\"Blues\", xticklabels=label_names, yticklabels=label_names)\n",
    "plt.xlabel(\"Predicted\")\n",
    "plt.ylabel(\"True\")\n",
    "plt.title(\"Confusion Matrix\")\n",
    "plt.show()\n"
   ]
  },
  {
   "cell_type": "code",
   "execution_count": null,
   "metadata": {},
   "outputs": [
    {
     "name": "stderr",
     "output_type": "stream",
     "text": [
      "2025/04/02 17:00:46 WARNING mlflow.sklearn: Model was missing function: predict. Not logging python_function flavor!\n"
     ]
    }
   ],
   "source": [
    "path = \"../models/DistilBert\"\n",
    "save_model(sk_model=model, path=path)"
   ]
  },
  {
   "cell_type": "code",
   "execution_count": null,
   "metadata": {},
   "outputs": [],
   "source": [
    "# To optimize: \n",
    "\n",
    "# 1. modify learning rate, epochs, and weights --> What is the default? epoch, I set to 3\n",
    "\n",
    "# 2. Give higher weight to classes with fewer examples"
   ]
  }
 ],
 "metadata": {
  "kernelspec": {
   "display_name": ".venv",
   "language": "python",
   "name": "python3"
  },
  "language_info": {
   "codemirror_mode": {
    "name": "ipython",
    "version": 3
   },
   "file_extension": ".py",
   "mimetype": "text/x-python",
   "name": "python",
   "nbconvert_exporter": "python",
   "pygments_lexer": "ipython3",
   "version": "3.11.3"
  }
 },
 "nbformat": 4,
 "nbformat_minor": 2
}
