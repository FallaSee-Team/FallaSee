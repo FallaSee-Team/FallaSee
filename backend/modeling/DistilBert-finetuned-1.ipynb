{
 "cells": [
  {
   "cell_type": "markdown",
   "metadata": {},
   "source": [
    "# DistilBert"
   ]
  },
  {
   "cell_type": "markdown",
   "metadata": {},
   "source": [
    "### Import necessary packages"
   ]
  },
  {
   "cell_type": "code",
   "execution_count": 1,
   "metadata": {},
   "outputs": [
    {
     "name": "stderr",
     "output_type": "stream",
     "text": [
      "/Users/katharinabaumgartner/Documents/NeueFische/scripts/34_capstone/Capstone_project/backend/.venv/lib/python3.11/site-packages/tqdm/auto.py:21: TqdmWarning: IProgress not found. Please update jupyter and ipywidgets. See https://ipywidgets.readthedocs.io/en/stable/user_install.html\n",
      "  from .autonotebook import tqdm as notebook_tqdm\n"
     ]
    }
   ],
   "source": [
    "import numpy as np\n",
    "import mlflow\n",
    "import logging \n",
    "import torch \n",
    "import config \n",
    "import os \n",
    "from mlflow.sklearn import save_model\n",
    "from transformers import AutoModelForSequenceClassification, AutoConfig\n",
    "\n",
    "# import mlflow.pytorch\n",
    "os.environ[\"TOKENIZERS_PARALLELISM\"] = \"false\"  # This tells Hugging Face: “Don’t use parallel tokenization — avoid possible deadlocks.”"
   ]
  },
  {
   "cell_type": "code",
   "execution_count": 2,
   "metadata": {},
   "outputs": [],
   "source": [
    "from basic_functions import(\n",
    "    get_encode_tokenize_data,\n",
    "    createTrainer,\n",
    "    get_eval_metrics,\n",
    "    get_error_analysis,\n",
    "    print_error_df\n",
    ")"
   ]
  },
  {
   "cell_type": "markdown",
   "metadata": {},
   "source": [
    "### Setup"
   ]
  },
  {
   "cell_type": "code",
   "execution_count": 3,
   "metadata": {},
   "outputs": [],
   "source": [
    "MODEL_NAME = \"distilbert-base-uncased\" # pulls the general-purpose DistilBERT model\n",
    "TRACKING_URI = open(\"../.mlflow_uri\").read().strip()\n",
    "EXPERIMENT_NAME = config.EXPERIMENT_NAME\n",
    "\n",
    "logging.basicConfig(format=\"%(asctime)s: %(message)s\") # Configure logging format to show timestamp before every message\n",
    "\n",
    "logger = logging.getLogger()\n",
    "logger.setLevel(logging.INFO) # Only show logs that are INFO or more important (e.g., WARNING, ERROR) — but ignore DEBUG."
   ]
  },
  {
   "cell_type": "code",
   "execution_count": 4,
   "metadata": {},
   "outputs": [],
   "source": [
    "# DATA_PATH = \"../data/data_small.csv\"\n",
    "DATA_PATH = \"../data/data_tiny.csv\" # uncomment this when checking that everything is just running properly. \n",
    "MODEL_PATH = \"distilbert-base-uncased\"\n",
    "MODEL_TRAINING_PATH =\"distilbert-base-uncased\"\n",
    "OUTPUT_DIR = \"../models/distilbert_finetuned_1/trainer_output\"\n",
    "SAVE_PATH = \"../models/distilbert_finetuned_1/pytorch_model\""
   ]
  },
  {
   "cell_type": "markdown",
   "metadata": {},
   "source": [
    "### Get data"
   ]
  },
  {
   "cell_type": "code",
   "execution_count": 5,
   "metadata": {},
   "outputs": [
    {
     "name": "stderr",
     "output_type": "stream",
     "text": [
      "INFO:basic_functions:Loading data...\n",
      "INFO:basic_functions:Train test split, test-size 0.3\n",
      "INFO:root:create encoded dataframes\n",
      "INFO:root:encode the label column\n",
      "INFO:root:tokenize\n",
      "INFO:basic_functions:create tokenizer & load model\n",
      "INFO:basic_functions:create tokenizer & load model\n",
      "INFO:root:create TextDatasets (train & test)\n"
     ]
    }
   ],
   "source": [
    "train_dataset, test_dataset, encoded_train_dataset, encoded_test_dataset, le = get_encode_tokenize_data(DATA_PATH, MODEL_PATH)"
   ]
  },
  {
   "cell_type": "code",
   "execution_count": 6,
   "metadata": {},
   "outputs": [],
   "source": [
    "y_train = encoded_train_dataset['logical_fallacies']"
   ]
  },
  {
   "cell_type": "markdown",
   "metadata": {},
   "source": [
    "### Model Initialization"
   ]
  },
  {
   "cell_type": "code",
   "execution_count": 7,
   "metadata": {},
   "outputs": [
    {
     "name": "stdout",
     "output_type": "stream",
     "text": [
      "Active run_id: e192db999371481ca879c04614c3e2c7\n"
     ]
    }
   ],
   "source": [
    "learning_rate= 3e-5\n",
    "weight_decay= 0.01\n",
    "num_train_epochs= 1\n",
    "# num_train_epochs= 4\n",
    "evaluation_strategy= 'epoch'\n",
    "class_weight=True\n",
    "dropout= 0.3\n",
    "\n",
    "\n",
    "params = {\n",
    "      \"learning_rate\": learning_rate,\n",
    "      \"weight_decay\": weight_decay,\n",
    "      \"num_train_epochs\": num_train_epochs,\n",
    "      \"evaluation_strategy\": evaluation_strategy,\n",
    "      \"class_weight\":class_weight,\n",
    "      \"dropout\": dropout,\n",
    "      \"dataset\": DATA_PATH\n",
    "  }\n",
    "\n",
    "\n",
    "# setting the MLFlow connection and experiment\n",
    "mlflow.set_tracking_uri(TRACKING_URI)\n",
    "mlflow.set_experiment(EXPERIMENT_NAME)\n",
    "\n",
    "\n",
    "mlflow.start_run()\n",
    "run = mlflow.active_run()\n",
    "print(\"Active run_id: {}\".format(run.info.run_id))\n",
    "\n",
    "mlflow.set_tag(\"model_name\", MODEL_NAME)\n",
    "mlflow.set_tag(\"mlflow.runName\", \"distilbert finetuned\")\n",
    "mlflow.log_params(params)"
   ]
  },
  {
   "cell_type": "code",
   "execution_count": 8,
   "metadata": {},
   "outputs": [
    {
     "data": {
      "text/plain": [
       "6"
      ]
     },
     "execution_count": 8,
     "metadata": {},
     "output_type": "execute_result"
    }
   ],
   "source": [
    "num_classes = len(np.unique(y_train))\n",
    "num_classes"
   ]
  },
  {
   "cell_type": "code",
   "execution_count": 9,
   "metadata": {},
   "outputs": [
    {
     "name": "stderr",
     "output_type": "stream",
     "text": [
      "Some weights of DistilBertForSequenceClassification were not initialized from the model checkpoint at distilbert-base-uncased and are newly initialized: ['classifier.bias', 'classifier.weight', 'pre_classifier.bias', 'pre_classifier.weight']\n",
      "You should probably TRAIN this model on a down-stream task to be able to use it for predictions and inference.\n"
     ]
    }
   ],
   "source": [
    "# Load config and set dropout\n",
    "config = AutoConfig.from_pretrained(MODEL_TRAINING_PATH)\n",
    "config.num_labels = num_classes # Set number of labels for classification\n",
    "config.dropout = dropout # Set dropout, default is 0.1\n",
    "\n",
    "# Load model with updated config\n",
    "model = AutoModelForSequenceClassification.from_pretrained(\n",
    "    MODEL_TRAINING_PATH,\n",
    "    config=config  # Pass modified config\n",
    ")\n",
    "\n",
    "# model.gradient_checkpointing_enable() "
   ]
  },
  {
   "cell_type": "code",
   "execution_count": 10,
   "metadata": {},
   "outputs": [
    {
     "name": "stderr",
     "output_type": "stream",
     "text": [
      "INFO:root:defining training arguments\n",
      "INFO:root:get weighted loss trainer\n"
     ]
    }
   ],
   "source": [
    "trainer = createTrainer(\n",
    "    model= model, \n",
    "    train_dataset = train_dataset,\n",
    "    test_dataset = test_dataset,\n",
    "    output_dir= OUTPUT_DIR, \n",
    "    y_train=y_train, \n",
    "    class_weight=class_weight, \n",
    "    epochs=num_train_epochs, \n",
    "    learning_rate=learning_rate, \n",
    "    weight_decay = weight_decay, \n",
    "    train_batch_size=4, \n",
    "    eval_batch_size=8 )"
   ]
  },
  {
   "cell_type": "markdown",
   "metadata": {},
   "source": [
    "### Execute Training"
   ]
  },
  {
   "cell_type": "code",
   "execution_count": 11,
   "metadata": {},
   "outputs": [],
   "source": [
    "torch.mps.empty_cache()  # Clears unused GPU memory"
   ]
  },
  {
   "cell_type": "code",
   "execution_count": 12,
   "metadata": {},
   "outputs": [],
   "source": [
    "# disable upper limit for memory\n",
    "os.environ[\"PYTORCH_MPS_HIGH_WATERMARK_RATIO\"] = \"0.0\"\n",
    "\n",
    "# Allows up to 100% of available memory\n",
    "torch.mps.set_per_process_memory_fraction(1.0)  "
   ]
  },
  {
   "cell_type": "code",
   "execution_count": 13,
   "metadata": {},
   "outputs": [
    {
     "name": "stderr",
     "output_type": "stream",
     "text": [
      "INFO:root:training is running\n"
     ]
    },
    {
     "data": {
      "text/html": [
       "\n",
       "    <div>\n",
       "      \n",
       "      <progress value='18' max='18' style='width:300px; height:20px; vertical-align: middle;'></progress>\n",
       "      [18/18 00:16, Epoch 1/1]\n",
       "    </div>\n",
       "    <table border=\"1\" class=\"dataframe\">\n",
       "  <thead>\n",
       " <tr style=\"text-align: left;\">\n",
       "      <th>Epoch</th>\n",
       "      <th>Training Loss</th>\n",
       "      <th>Validation Loss</th>\n",
       "      <th>Accuracy</th>\n",
       "    </tr>\n",
       "  </thead>\n",
       "  <tbody>\n",
       "    <tr>\n",
       "      <td>1</td>\n",
       "      <td>No log</td>\n",
       "      <td>1.798904</td>\n",
       "      <td>0.166667</td>\n",
       "    </tr>\n",
       "  </tbody>\n",
       "</table><p>"
      ],
      "text/plain": [
       "<IPython.core.display.HTML object>"
      ]
     },
     "metadata": {},
     "output_type": "display_data"
    },
    {
     "data": {
      "text/plain": [
       "TrainOutput(global_step=18, training_loss=1.80632570054796, metrics={'train_runtime': 17.535, 'train_samples_per_second': 3.992, 'train_steps_per_second': 1.027, 'total_flos': 9273379368960.0, 'train_loss': 1.80632570054796, 'epoch': 1.0})"
      ]
     },
     "execution_count": 13,
     "metadata": {},
     "output_type": "execute_result"
    }
   ],
   "source": [
    "logger.info('training is running')\n",
    "trainer.train()"
   ]
  },
  {
   "cell_type": "markdown",
   "metadata": {},
   "source": [
    "### Evaluation\n"
   ]
  },
  {
   "cell_type": "code",
   "execution_count": 14,
   "metadata": {},
   "outputs": [],
   "source": [
    "def log_metrics(cr, brier, split):\n",
    "    mlflow.log_metric(f\"{split}_brier\", brier)\n",
    "\n",
    "    for key, value in cr.items():\n",
    "        if (key == \"accuracy\"):\n",
    "                # print(f\"{split}_{key}\", round(value,2))\n",
    "                mlflow.log_metric(f\"{split}_{key}\", value)\n",
    "        else:\n",
    "            for metric in value:\n",
    "                mlflow.log_metric(f\"{split}_{key}_{metric}\", value.get(metric))\n",
    "                # print(f\"{split}_{key}_{metric}\", round(value.get(metric),2))\n",
    "\n",
    "    "
   ]
  },
  {
   "cell_type": "code",
   "execution_count": 15,
   "metadata": {},
   "outputs": [
    {
     "name": "stderr",
     "output_type": "stream",
     "text": [
      "INFO:root:predict on test_dataset\n"
     ]
    },
    {
     "data": {
      "text/html": [],
      "text/plain": [
       "<IPython.core.display.HTML object>"
      ]
     },
     "metadata": {},
     "output_type": "display_data"
    },
    {
     "name": "stderr",
     "output_type": "stream",
     "text": [
      "INFO:basic_functions:get evaluation metrics\n",
      "INFO:basic_functions:classification_report\n",
      "/Users/katharinabaumgartner/Documents/NeueFische/scripts/34_capstone/Capstone_project/backend/.venv/lib/python3.11/site-packages/sklearn/metrics/_classification.py:1344: UndefinedMetricWarning: Precision and F-score are ill-defined and being set to 0.0 in labels with no predicted samples. Use `zero_division` parameter to control this behavior.\n",
      "  _warn_prf(average, modifier, msg_start, len(result))\n",
      "/Users/katharinabaumgartner/Documents/NeueFische/scripts/34_capstone/Capstone_project/backend/.venv/lib/python3.11/site-packages/sklearn/metrics/_classification.py:1344: UndefinedMetricWarning: Precision and F-score are ill-defined and being set to 0.0 in labels with no predicted samples. Use `zero_division` parameter to control this behavior.\n",
      "  _warn_prf(average, modifier, msg_start, len(result))\n",
      "/Users/katharinabaumgartner/Documents/NeueFische/scripts/34_capstone/Capstone_project/backend/.venv/lib/python3.11/site-packages/sklearn/metrics/_classification.py:1344: UndefinedMetricWarning: Precision and F-score are ill-defined and being set to 0.0 in labels with no predicted samples. Use `zero_division` parameter to control this behavior.\n",
      "  _warn_prf(average, modifier, msg_start, len(result))\n",
      "/Users/katharinabaumgartner/Documents/NeueFische/scripts/34_capstone/Capstone_project/backend/.venv/lib/python3.11/site-packages/sklearn/metrics/_classification.py:1344: UndefinedMetricWarning: Precision and F-score are ill-defined and being set to 0.0 in labels with no predicted samples. Use `zero_division` parameter to control this behavior.\n",
      "  _warn_prf(average, modifier, msg_start, len(result))\n",
      "/Users/katharinabaumgartner/Documents/NeueFische/scripts/34_capstone/Capstone_project/backend/.venv/lib/python3.11/site-packages/sklearn/metrics/_classification.py:1344: UndefinedMetricWarning: Precision and F-score are ill-defined and being set to 0.0 in labels with no predicted samples. Use `zero_division` parameter to control this behavior.\n",
      "  _warn_prf(average, modifier, msg_start, len(result))\n",
      "/Users/katharinabaumgartner/Documents/NeueFische/scripts/34_capstone/Capstone_project/backend/.venv/lib/python3.11/site-packages/sklearn/metrics/_classification.py:1344: UndefinedMetricWarning: Precision and F-score are ill-defined and being set to 0.0 in labels with no predicted samples. Use `zero_division` parameter to control this behavior.\n",
      "  _warn_prf(average, modifier, msg_start, len(result))\n",
      "INFO:basic_functions:confusion_matrix\n",
      "INFO:basic_functions:heatmap\n"
     ]
    },
    {
     "name": "stdout",
     "output_type": "stream",
     "text": [
      "                       precision    recall  f1-score   support\n",
      "\n",
      "           ad_hominem       0.00      0.00      0.00         8\n",
      "  appeal_to_authority       0.00      0.00      0.00         4\n",
      "    appeal_to_emotion       0.00      0.00      0.00         5\n",
      "        false_dilemma       0.00      0.00      0.00         4\n",
      "faulty_generalization       0.11      0.20      0.14         5\n",
      "                 none       0.25      1.00      0.40         4\n",
      "\n",
      "             accuracy                           0.17        30\n",
      "            macro avg       0.06      0.20      0.09        30\n",
      "         weighted avg       0.05      0.17      0.08        30\n",
      "\n"
     ]
    },
    {
     "data": {
      "image/png": "[encoded data removed]",
      "text/plain": [
       "<Figure size 800x600 with 2 Axes>"
      ]
     },
     "metadata": {},
     "output_type": "display_data"
    },
    {
     "name": "stderr",
     "output_type": "stream",
     "text": [
      "INFO:basic_functions:brier score\n"
     ]
    },
    {
     "name": "stdout",
     "output_type": "stream",
     "text": [
      "Multiclass Brier score: 0.8322347914403974\n"
     ]
    }
   ],
   "source": [
    "logger.info('predict on test_dataset')\n",
    "test_output = trainer.predict(test_dataset)\n",
    "\n",
    "classification_report, brier = get_eval_metrics(test_output, le)\n",
    "log_metrics(classification_report, brier, \"test\")\n"
   ]
  },
  {
   "cell_type": "code",
   "execution_count": 16,
   "metadata": {},
   "outputs": [
    {
     "name": "stderr",
     "output_type": "stream",
     "text": [
      "INFO:root:predict on train_dataset\n"
     ]
    },
    {
     "data": {
      "text/html": [],
      "text/plain": [
       "<IPython.core.display.HTML object>"
      ]
     },
     "metadata": {},
     "output_type": "display_data"
    },
    {
     "name": "stderr",
     "output_type": "stream",
     "text": [
      "INFO:basic_functions:get evaluation metrics\n",
      "INFO:basic_functions:classification_report\n",
      "/Users/katharinabaumgartner/Documents/NeueFische/scripts/34_capstone/Capstone_project/backend/.venv/lib/python3.11/site-packages/sklearn/metrics/_classification.py:1344: UndefinedMetricWarning: Precision and F-score are ill-defined and being set to 0.0 in labels with no predicted samples. Use `zero_division` parameter to control this behavior.\n",
      "  _warn_prf(average, modifier, msg_start, len(result))\n",
      "/Users/katharinabaumgartner/Documents/NeueFische/scripts/34_capstone/Capstone_project/backend/.venv/lib/python3.11/site-packages/sklearn/metrics/_classification.py:1344: UndefinedMetricWarning: Precision and F-score are ill-defined and being set to 0.0 in labels with no predicted samples. Use `zero_division` parameter to control this behavior.\n",
      "  _warn_prf(average, modifier, msg_start, len(result))\n",
      "/Users/katharinabaumgartner/Documents/NeueFische/scripts/34_capstone/Capstone_project/backend/.venv/lib/python3.11/site-packages/sklearn/metrics/_classification.py:1344: UndefinedMetricWarning: Precision and F-score are ill-defined and being set to 0.0 in labels with no predicted samples. Use `zero_division` parameter to control this behavior.\n",
      "  _warn_prf(average, modifier, msg_start, len(result))\n",
      "/Users/katharinabaumgartner/Documents/NeueFische/scripts/34_capstone/Capstone_project/backend/.venv/lib/python3.11/site-packages/sklearn/metrics/_classification.py:1344: UndefinedMetricWarning: Precision and F-score are ill-defined and being set to 0.0 in labels with no predicted samples. Use `zero_division` parameter to control this behavior.\n",
      "  _warn_prf(average, modifier, msg_start, len(result))\n",
      "/Users/katharinabaumgartner/Documents/NeueFische/scripts/34_capstone/Capstone_project/backend/.venv/lib/python3.11/site-packages/sklearn/metrics/_classification.py:1344: UndefinedMetricWarning: Precision and F-score are ill-defined and being set to 0.0 in labels with no predicted samples. Use `zero_division` parameter to control this behavior.\n",
      "  _warn_prf(average, modifier, msg_start, len(result))\n",
      "/Users/katharinabaumgartner/Documents/NeueFische/scripts/34_capstone/Capstone_project/backend/.venv/lib/python3.11/site-packages/sklearn/metrics/_classification.py:1344: UndefinedMetricWarning: Precision and F-score are ill-defined and being set to 0.0 in labels with no predicted samples. Use `zero_division` parameter to control this behavior.\n",
      "  _warn_prf(average, modifier, msg_start, len(result))\n",
      "INFO:basic_functions:confusion_matrix\n",
      "INFO:basic_functions:heatmap\n"
     ]
    },
    {
     "name": "stdout",
     "output_type": "stream",
     "text": [
      "                       precision    recall  f1-score   support\n",
      "\n",
      "           ad_hominem       0.50      0.11      0.18        18\n",
      "  appeal_to_authority       0.00      0.00      0.00         9\n",
      "    appeal_to_emotion       0.00      0.00      0.00        10\n",
      "        false_dilemma       0.41      0.64      0.50        11\n",
      "faulty_generalization       0.26      0.38      0.31        13\n",
      "                 none       0.27      0.89      0.41         9\n",
      "\n",
      "             accuracy                           0.31        70\n",
      "            macro avg       0.24      0.34      0.23        70\n",
      "         weighted avg       0.28      0.31      0.24        70\n",
      "\n"
     ]
    },
    {
     "data": {
      "image/png": "[encoded data removed]",
      "text/plain": [
       "<Figure size 800x600 with 2 Axes>"
      ]
     },
     "metadata": {},
     "output_type": "display_data"
    },
    {
     "name": "stderr",
     "output_type": "stream",
     "text": [
      "INFO:basic_functions:brier score\n"
     ]
    },
    {
     "name": "stdout",
     "output_type": "stream",
     "text": [
      "Multiclass Brier score: 0.8240622968282466\n"
     ]
    }
   ],
   "source": [
    "logger.info('predict on train_dataset')\n",
    "train_output = trainer.predict(train_dataset)\n",
    "\n",
    "classification_report, brier= get_eval_metrics(train_output, le)\n",
    "log_metrics(classification_report, brier, \"train\")\n"
   ]
  },
  {
   "cell_type": "code",
   "execution_count": 17,
   "metadata": {},
   "outputs": [
    {
     "name": "stdout",
     "output_type": "stream",
     "text": [
      "🏃 View run distilbert finetuned at: http://127.0.0.1:5001/#/experiments/118053630762497624/runs/e192db999371481ca879c04614c3e2c7\n",
      "🧪 View experiment at: http://127.0.0.1:5001/#/experiments/118053630762497624\n"
     ]
    }
   ],
   "source": [
    "mlflow.end_run()"
   ]
  },
  {
   "cell_type": "markdown",
   "metadata": {},
   "source": [
    "### Save model"
   ]
  },
  {
   "cell_type": "code",
   "execution_count": 18,
   "metadata": {},
   "outputs": [
    {
     "ename": "MlflowException",
     "evalue": "Path '/Users/katharinabaumgartner/Documents/NeueFische/scripts/34_capstone/Capstone_project/backend/models/distilbert_finetuned_1/pytorch_model' already exists and is not empty",
     "output_type": "error",
     "traceback": [
      "\u001b[31m---------------------------------------------------------------------------\u001b[39m",
      "\u001b[31mMlflowException\u001b[39m                           Traceback (most recent call last)",
      "\u001b[36mCell\u001b[39m\u001b[36m \u001b[39m\u001b[32mIn[18]\u001b[39m\u001b[32m, line 2\u001b[39m\n\u001b[32m      1\u001b[39m \u001b[38;5;66;03m#save with pytorch\u001b[39;00m\n\u001b[32m----> \u001b[39m\u001b[32m2\u001b[39m \u001b[43mmlflow\u001b[49m\u001b[43m.\u001b[49m\u001b[43mpytorch\u001b[49m\u001b[43m.\u001b[49m\u001b[43msave_model\u001b[49m\u001b[43m(\u001b[49m\u001b[43mmodel\u001b[49m\u001b[43m,\u001b[49m\u001b[43m \u001b[49m\u001b[43mpath\u001b[49m\u001b[43m=\u001b[49m\u001b[43mSAVE_PATH\u001b[49m\u001b[43m)\u001b[49m\n",
      "\u001b[36mFile \u001b[39m\u001b[32m~/Documents/NeueFische/scripts/34_capstone/Capstone_project/backend/.venv/lib/python3.11/site-packages/mlflow/pytorch/__init__.py:442\u001b[39m, in \u001b[36msave_model\u001b[39m\u001b[34m(pytorch_model, path, conda_env, mlflow_model, code_paths, pickle_module, signature, input_example, requirements_file, extra_files, pip_requirements, extra_pip_requirements, metadata, **kwargs)\u001b[39m\n\u001b[32m    440\u001b[39m     \u001b[38;5;28;01mraise\u001b[39;00m \u001b[38;5;167;01mTypeError\u001b[39;00m(\u001b[33m\"\u001b[39m\u001b[33mArgument \u001b[39m\u001b[33m'\u001b[39m\u001b[33mpytorch_model\u001b[39m\u001b[33m'\u001b[39m\u001b[33m should be a torch.nn.Module\u001b[39m\u001b[33m\"\u001b[39m)\n\u001b[32m    441\u001b[39m path = os.path.abspath(path)\n\u001b[32m--> \u001b[39m\u001b[32m442\u001b[39m \u001b[43m_validate_and_prepare_target_save_path\u001b[49m\u001b[43m(\u001b[49m\u001b[43mpath\u001b[49m\u001b[43m)\u001b[49m\n\u001b[32m    444\u001b[39m \u001b[38;5;28;01mif\u001b[39;00m mlflow_model \u001b[38;5;129;01mis\u001b[39;00m \u001b[38;5;28;01mNone\u001b[39;00m:\n\u001b[32m    445\u001b[39m     mlflow_model = Model()\n",
      "\u001b[36mFile \u001b[39m\u001b[32m~/Documents/NeueFische/scripts/34_capstone/Capstone_project/backend/.venv/lib/python3.11/site-packages/mlflow/utils/model_utils.py:268\u001b[39m, in \u001b[36m_validate_and_prepare_target_save_path\u001b[39m\u001b[34m(path)\u001b[39m\n\u001b[32m    266\u001b[39m \u001b[38;5;28;01mdef\u001b[39;00m\u001b[38;5;250m \u001b[39m\u001b[34m_validate_and_prepare_target_save_path\u001b[39m(path):\n\u001b[32m    267\u001b[39m     \u001b[38;5;28;01mif\u001b[39;00m os.path.exists(path) \u001b[38;5;129;01mand\u001b[39;00m \u001b[38;5;28many\u001b[39m(os.scandir(path)):\n\u001b[32m--> \u001b[39m\u001b[32m268\u001b[39m         \u001b[38;5;28;01mraise\u001b[39;00m MlflowException(\n\u001b[32m    269\u001b[39m             message=\u001b[33mf\u001b[39m\u001b[33m\"\u001b[39m\u001b[33mPath \u001b[39m\u001b[33m'\u001b[39m\u001b[38;5;132;01m{\u001b[39;00mpath\u001b[38;5;132;01m}\u001b[39;00m\u001b[33m'\u001b[39m\u001b[33m already exists and is not empty\u001b[39m\u001b[33m\"\u001b[39m,\n\u001b[32m    270\u001b[39m             error_code=RESOURCE_ALREADY_EXISTS,\n\u001b[32m    271\u001b[39m         )\n\u001b[32m    273\u001b[39m     os.makedirs(path, exist_ok=\u001b[38;5;28;01mTrue\u001b[39;00m)\n",
      "\u001b[31mMlflowException\u001b[39m: Path '/Users/katharinabaumgartner/Documents/NeueFische/scripts/34_capstone/Capstone_project/backend/models/distilbert_finetuned_1/pytorch_model' already exists and is not empty"
     ]
    }
   ],
   "source": [
    "#save with pytorch\n",
    "mlflow.pytorch.save_model(model, path=SAVE_PATH)"
   ]
  },
  {
   "cell_type": "markdown",
   "metadata": {},
   "source": [
    "### Error Analysis"
   ]
  },
  {
   "cell_type": "code",
   "execution_count": 19,
   "metadata": {},
   "outputs": [],
   "source": [
    "df_error_test = get_error_analysis(test_output, encoded_test_dataset)"
   ]
  },
  {
   "cell_type": "code",
   "execution_count": 20,
   "metadata": {},
   "outputs": [
    {
     "name": "stdout",
     "output_type": "stream",
     "text": [
      "Example 0:\n",
      "Text: This is not going to end well\n",
      "True Label: 2, Predicted Label: 4\n",
      "Example 1:\n",
      "Text: I favor higher salaries for teachers\n",
      "True Label: 2, Predicted Label: 4\n",
      "Example 2:\n",
      "Text: The Chinese only go to Australia to proliferate Whether propaganda or create new settlements They are probably working on a new china town where they carry out covert activity\n",
      "True Label: 3, Predicted Label: 4\n",
      "Example 3:\n",
      "Text: very sick ideas\n",
      "True Label: 2, Predicted Label: 4\n",
      "Example 4:\n",
      "Text: The police seem to be trying to keep track of the statistics regarding street harassment But hopefully they can do more and help these women to feel like their voices are heard The article said an officer for the tourist police said that most people don t complain of Street harassment But maybe this is because they are not there for long periods of time The experts at UNPFA said 90 percent have\n",
      "True Label: 1, Predicted Label: 5\n",
      "Example 5:\n",
      "Text: Holding an election in these conditions is wildly irresponsible My relative decided to hold a simple birthday party and at least two dozen people got COVID as a result Imagine what happens here Millions of people going to the polls instead of 50 people at a birthday The whole country is gonna get infected\n",
      "True Label: 4, Predicted Label: 5\n",
      "Example 6:\n",
      "Text: Dolores would be sooo proud of you\n",
      "True Label: 0, Predicted Label: 4\n",
      "Example 7:\n",
      "Text: Dr Bloom cannot be a competent marriage counselor because he is divorced\n",
      "True Label: 0, Predicted Label: 4\n",
      "Example 8:\n",
      "Text: It is a bad economy It s a tough economy\n",
      "True Label: 2, Predicted Label: 5\n",
      "Example 9:\n",
      "Text: Senator Obama as a member of the Illinois State Senate voted in the Judiciary Committee against a law that would provide immediate medical attention to a child born of a failed abortion He voted against that And then on the floor of the State Senate as he did 130 times as a state senator he voted present Then there was another bill before the Senate Judiciary Committee in the state of Illinois not that long ago where he voted against a ban on partial birth abortion one of the late term abortion a really one of the bad procedures a terrible And then on the floor of the Illinois State Senate he voted present\n",
      "True Label: 0, Predicted Label: 5\n",
      "Example 10:\n",
      "Text: I think that the way the Iranian government has treated the Baloch people is reprehensible these are their own citizens and they deserved none of this I can only see a couple of choices for the Baloch civilians to end this nightmare situation They could just stop protesting and accept the treatment from the Iranian government as it always has been or they could protest even more until all of their demands are fully met Both of these options definitely have flaws but when you are in a bad situation you sometimes get imperfect solutions I truly believe that these are the only real choices to pick from that make any sense I just hope these poor people get the freedom and justice they deserve soon\n",
      "True Label: 3, Predicted Label: 5\n",
      "Example 11:\n",
      "Text: James the company you work for just filed for bankruptcy How can I trust you with our money\n",
      "True Label: 4, Predicted Label: 3\n",
      "Example 12:\n",
      "Text: He s only pretending to care it s all an act\n",
      "True Label: 0, Predicted Label: 5\n",
      "Example 13:\n",
      "Text: Ramping up wind power to 10 20 or 30 of U S electricity production would likely increase annual bat kills to 10 to 30 million every year\n",
      "True Label: 4, Predicted Label: 5\n",
      "Example 14:\n",
      "Text: The leader of the rebels in Punjab is quite right Nawaz is a traitor for more reasons than one he sits abroad absconding lying about his medical condition and says he wants to rule over the Muslim League and the nation with charters of lies\n",
      "True Label: 0, Predicted Label: 5\n",
      "Example 15:\n",
      "Text: Experts say they have crushed the opposition That way they can win without much resistance from little parties The new and small parties and their candidates stand no chance\n",
      "True Label: 1, Predicted Label: 4\n",
      "Example 16:\n",
      "Text: my wonderful city\n",
      "True Label: 2, Predicted Label: 4\n",
      "Example 17:\n",
      "Text: So sad to see the flooding going on in Bangladesh I believe to solve this flooding issue we only have a couple of choices to pick between We either need to have India stop opening their floodgates in the monsoon season or we allow them to do so and build up the Bangladesh riverbanks I can see problems arising from either of these choices but can anyone see any other solution here They open the floodgates and Bangladesh rivers endure erosion they keep them closed and India suffers from excess flooding It s sad to say but we have to choose one or the other here I just hope we choose the right one\n",
      "True Label: 3, Predicted Label: 5\n",
      "Example 18:\n",
      "Text: Charlie Fast food is filled with salt fat and added sugars We need better regulation of the industry Bob That my be but you re such a hypocrite I saw you devour a Triple Baconator super sized fries and 64oz of soda yesterday\n",
      "True Label: 0, Predicted Label: 5\n",
      "Example 19:\n",
      "Text: DonaldTrumpIsTheTypeOfGuy who loves junk science\n",
      "True Label: 0, Predicted Label: 3\n",
      "Example 20:\n",
      "Text: Either we allow pet ownership in Turkey or ban it completely right Or is there a way animal ownership can be regulated in a way that is best for everyone Many countries have regulations that balance human and animal rights I think a ban would just cause people to find a way around the law\n",
      "True Label: 4, Predicted Label: 5\n",
      "Example 21:\n",
      "Text: The new government needs to take a much stronger turn against the kind of repression their predecessors were known for It s not enough to just be a little better and it s in everyone s best interests to respect the rights of civil society As JFK said those who make peaceful revolution impossible make violent revolution inevitable\n",
      "True Label: 1, Predicted Label: 3\n",
      "Example 22:\n",
      "Text: If we don t innovate we ll be obsolete\n",
      "True Label: 3, Predicted Label: 0\n",
      "Example 23:\n",
      "Text: It seems like the government in Mexico is trying to use its power in order to intimidate and silence its residents I wonder where they get off taking away what is seen as a basic need from its own people I am sure they listened some expert paid by lobbyist who are lining their pockets when it comes to dealing with this crisis The people need to keep fighting as if you let them get away with this then no telling what is next A lot of these people have been taken advantage of by the government for as long as they have been alive It s about time we took a stand and end this Water is a right not a privilege\n",
      "True Label: 1, Predicted Label: 5\n",
      "Example 24:\n",
      "Text: I like school uniforms You just don t want it because you can t afford it\n",
      "True Label: 0, Predicted Label: 3\n"
     ]
    }
   ],
   "source": [
    "# get text, which is predicted false\n",
    "print_error_df(df_error_test)"
   ]
  },
  {
   "cell_type": "code",
   "execution_count": 21,
   "metadata": {},
   "outputs": [
    {
     "data": {
      "text/html": [
       "<div>\n",
       "<style scoped>\n",
       "    .dataframe tbody tr th:only-of-type {\n",
       "        vertical-align: middle;\n",
       "    }\n",
       "\n",
       "    .dataframe tbody tr th {\n",
       "        vertical-align: top;\n",
       "    }\n",
       "\n",
       "    .dataframe thead th {\n",
       "        text-align: right;\n",
       "    }\n",
       "</style>\n",
       "<table border=\"1\" class=\"dataframe\">\n",
       "  <thead>\n",
       "    <tr style=\"text-align: right;\">\n",
       "      <th></th>\n",
       "      <th>dataset</th>\n",
       "      <th>true_label</th>\n",
       "      <th>pred_label</th>\n",
       "      <th>count</th>\n",
       "    </tr>\n",
       "  </thead>\n",
       "  <tbody>\n",
       "    <tr>\n",
       "      <th>16</th>\n",
       "      <td>9</td>\n",
       "      <td>2</td>\n",
       "      <td>4</td>\n",
       "      <td>4</td>\n",
       "    </tr>\n",
       "    <tr>\n",
       "      <th>5</th>\n",
       "      <td>3</td>\n",
       "      <td>1</td>\n",
       "      <td>5</td>\n",
       "      <td>2</td>\n",
       "    </tr>\n",
       "    <tr>\n",
       "      <th>8</th>\n",
       "      <td>3</td>\n",
       "      <td>3</td>\n",
       "      <td>5</td>\n",
       "      <td>2</td>\n",
       "    </tr>\n",
       "    <tr>\n",
       "      <th>1</th>\n",
       "      <td>2</td>\n",
       "      <td>0</td>\n",
       "      <td>5</td>\n",
       "      <td>2</td>\n",
       "    </tr>\n",
       "    <tr>\n",
       "      <th>10</th>\n",
       "      <td>3</td>\n",
       "      <td>4</td>\n",
       "      <td>5</td>\n",
       "      <td>2</td>\n",
       "    </tr>\n",
       "    <tr>\n",
       "      <th>0</th>\n",
       "      <td>1</td>\n",
       "      <td>4</td>\n",
       "      <td>5</td>\n",
       "      <td>1</td>\n",
       "    </tr>\n",
       "    <tr>\n",
       "      <th>11</th>\n",
       "      <td>4</td>\n",
       "      <td>0</td>\n",
       "      <td>5</td>\n",
       "      <td>1</td>\n",
       "    </tr>\n",
       "    <tr>\n",
       "      <th>15</th>\n",
       "      <td>9</td>\n",
       "      <td>0</td>\n",
       "      <td>5</td>\n",
       "      <td>1</td>\n",
       "    </tr>\n",
       "    <tr>\n",
       "      <th>14</th>\n",
       "      <td>8</td>\n",
       "      <td>0</td>\n",
       "      <td>3</td>\n",
       "      <td>1</td>\n",
       "    </tr>\n",
       "    <tr>\n",
       "      <th>13</th>\n",
       "      <td>4</td>\n",
       "      <td>0</td>\n",
       "      <td>3</td>\n",
       "      <td>1</td>\n",
       "    </tr>\n",
       "    <tr>\n",
       "      <th>12</th>\n",
       "      <td>4</td>\n",
       "      <td>0</td>\n",
       "      <td>4</td>\n",
       "      <td>1</td>\n",
       "    </tr>\n",
       "    <tr>\n",
       "      <th>9</th>\n",
       "      <td>3</td>\n",
       "      <td>3</td>\n",
       "      <td>4</td>\n",
       "      <td>1</td>\n",
       "    </tr>\n",
       "    <tr>\n",
       "      <th>7</th>\n",
       "      <td>3</td>\n",
       "      <td>1</td>\n",
       "      <td>3</td>\n",
       "      <td>1</td>\n",
       "    </tr>\n",
       "    <tr>\n",
       "      <th>6</th>\n",
       "      <td>3</td>\n",
       "      <td>1</td>\n",
       "      <td>4</td>\n",
       "      <td>1</td>\n",
       "    </tr>\n",
       "    <tr>\n",
       "      <th>4</th>\n",
       "      <td>2</td>\n",
       "      <td>4</td>\n",
       "      <td>3</td>\n",
       "      <td>1</td>\n",
       "    </tr>\n",
       "    <tr>\n",
       "      <th>3</th>\n",
       "      <td>2</td>\n",
       "      <td>3</td>\n",
       "      <td>0</td>\n",
       "      <td>1</td>\n",
       "    </tr>\n",
       "    <tr>\n",
       "      <th>2</th>\n",
       "      <td>2</td>\n",
       "      <td>0</td>\n",
       "      <td>4</td>\n",
       "      <td>1</td>\n",
       "    </tr>\n",
       "    <tr>\n",
       "      <th>17</th>\n",
       "      <td>9</td>\n",
       "      <td>2</td>\n",
       "      <td>5</td>\n",
       "      <td>1</td>\n",
       "    </tr>\n",
       "  </tbody>\n",
       "</table>\n",
       "</div>"
      ],
      "text/plain": [
       "    dataset  true_label  pred_label  count\n",
       "16        9           2           4      4\n",
       "5         3           1           5      2\n",
       "8         3           3           5      2\n",
       "1         2           0           5      2\n",
       "10        3           4           5      2\n",
       "0         1           4           5      1\n",
       "11        4           0           5      1\n",
       "15        9           0           5      1\n",
       "14        8           0           3      1\n",
       "13        4           0           3      1\n",
       "12        4           0           4      1\n",
       "9         3           3           4      1\n",
       "7         3           1           3      1\n",
       "6         3           1           4      1\n",
       "4         2           4           3      1\n",
       "3         2           3           0      1\n",
       "2         2           0           4      1\n",
       "17        9           2           5      1"
      ]
     },
     "execution_count": 21,
     "metadata": {},
     "output_type": "execute_result"
    }
   ],
   "source": [
    "# get dataset, with most false predicted values\n",
    "df_counts = df_error_test[['dataset', 'true_label', 'pred_label']].groupby(['dataset', 'true_label']).value_counts().reset_index()\n",
    "df_counts.sort_values('count', ascending=False)"
   ]
  }
 ],
 "metadata": {
  "kernelspec": {
   "display_name": ".venv",
   "language": "python",
   "name": "python3"
  },
  "language_info": {
   "codemirror_mode": {
    "name": "ipython",
    "version": 3
   },
   "file_extension": ".py",
   "mimetype": "text/x-python",
   "name": "python",
   "nbconvert_exporter": "python",
   "pygments_lexer": "ipython3",
   "version": "3.11.3"
  }
 },
 "nbformat": 4,
 "nbformat_minor": 2
}
