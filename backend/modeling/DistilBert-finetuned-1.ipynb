{
 "cells": [
  {
   "cell_type": "markdown",
   "metadata": {},
   "source": [
    "### Import the necessary packages"
   ]
  },
  {
   "cell_type": "code",
   "execution_count": 1,
   "metadata": {},
   "outputs": [
    {
     "name": "stderr",
     "output_type": "stream",
     "text": [
      "/Users/alicepope/Capstone project/Capstone_project/backend/.venv/lib/python3.11/site-packages/tqdm/auto.py:21: TqdmWarning: IProgress not found. Please update jupyter and ipywidgets. See https://ipywidgets.readthedocs.io/en/stable/user_install.html\n",
      "  from .autonotebook import tqdm as notebook_tqdm\n"
     ]
    }
   ],
   "source": [
    "import pandas as pd\n",
    "import numpy as np\n",
    "from sklearn.preprocessing import LabelEncoder\n",
    "from sklearn.utils.class_weight import compute_class_weight\n",
    "from datasets import Dataset\n",
    "from transformers import AutoTokenizer, AutoModelForSequenceClassification, TrainingArguments, Trainer, Pipeline \n",
    "from sklearn.metrics import accuracy_score, recall_score, precision_score, f1_score, classification_report, confusion_matrix\n",
    "import mlflow\n",
    "from mlflow.transformers import log_model\n",
    "import logging \n",
    "import torch\n",
    "from torch.nn import CrossEntropyLoss\n",
    "from mlflow.models.signature import infer_signature\n",
    "\n",
    "\n",
    "\n",
    "from sklearn.model_selection import train_test_split\n",
    "import pickle\n",
    "import warnings\n",
    "warnings.filterwarnings('ignore') \n",
    "from mlflow.sklearn import save_model \n",
    "import os\n",
    "os.environ[\"TOKENIZERS_PARALLELISM\"] = \"false\"  # This tells Hugging Face: “Don’t use parallel tokenization — avoid possible deadlocks.”\n",
    "\n",
    "import seaborn as sns\n",
    "import matplotlib.pyplot as plt\n",
    "\n",
    "import config \n",
    "\n",
    "\n",
    "# tokenizer = AutoTokenizer.from_pretrained(\"distilbert/distilbert-base-uncased\")\n",
    "# model = AutoModelForMaskedLM.from_pretrained(\"distilbert/distilbert-base-uncased\")"
   ]
  },
  {
   "cell_type": "code",
   "execution_count": 2,
   "metadata": {},
   "outputs": [],
   "source": [
    "MODEL_NAME = \"distilbert-base-uncased\" # pulls the general-purpose DistilBERT model\n",
    "DATA_PATH = \"../data/data_small.csv\"\n",
    "TRACKING_URI = open(\"../.mlflow_uri\").read().strip()\n",
    "EXPERIMENT_NAME = config.EXPERIMENT_NAME\n",
    "\n",
    "logging.basicConfig(format=\"%(asctime)s: %(message)s\") # Configure logging format to show timestamp before every message\n",
    "\n",
    "logger = logging.getLogger()\n",
    "logger.setLevel(logging.INFO) # Only show logs that are INFO or more important (e.g., WARNING, ERROR) — but ignore DEBUG."
   ]
  },
  {
   "cell_type": "code",
   "execution_count": 3,
   "metadata": {},
   "outputs": [
    {
     "name": "stderr",
     "output_type": "stream",
     "text": [
      "2025-04-03 17:13:40,256: Loading and preprocessing data...\n",
      "Map: 100%|██████████| 3500/3500 [00:01<00:00, 2484.03 examples/s]\n",
      "Map: 100%|██████████| 1500/1500 [00:00<00:00, 3384.07 examples/s]\n"
     ]
    }
   ],
   "source": [
    "# Load and preprocess data\n",
    "logger.info(\"Loading and preprocessing data...\")\n",
    "df = pd.read_csv(DATA_PATH)\n",
    "\n",
    "# # use only 10 rows to test end-to-end run (comment this line out later)\n",
    "# df = df.sample(10, random_state=42).reset_index(drop=True)\n",
    "\n",
    "le = LabelEncoder()\n",
    "df[\"label\"] = le.fit_transform(df[\"logical_fallacies\"])\n",
    "dataset = Dataset.from_pandas(df[[\"text\", \"label\"]])\n",
    "dataset = dataset.train_test_split(test_size=0.3)\n",
    "\n",
    "tokenizer = AutoTokenizer.from_pretrained(MODEL_NAME)\n",
    "\n",
    "def tokenize(batch):\n",
    "    return tokenizer(batch[\"text\"], padding=True, truncation=True)\n",
    "\n",
    "dataset = dataset.map(tokenize, batched=True)"
   ]
  },
  {
   "cell_type": "code",
   "execution_count": 4,
   "metadata": {},
   "outputs": [
    {
     "name": "stderr",
     "output_type": "stream",
     "text": [
      "Some weights of DistilBertForSequenceClassification were not initialized from the model checkpoint at distilbert-base-uncased and are newly initialized: ['classifier.bias', 'classifier.weight', 'pre_classifier.bias', 'pre_classifier.weight']\n",
      "You should probably TRAIN this model on a down-stream task to be able to use it for predictions and inference.\n"
     ]
    }
   ],
   "source": [
    "# Initialize model, we should use AutoModelForSequenceClassification and not AutoModelForMaskedLM because we are doing classification\n",
    "model = AutoModelForSequenceClassification.from_pretrained(MODEL_NAME, num_labels=len(le.classes_))"
   ]
  },
  {
   "cell_type": "code",
   "execution_count": 5,
   "metadata": {},
   "outputs": [],
   "source": [
    "# Get labels from training set\n",
    "y_train = dataset[\"train\"][\"label\"]\n",
    "# all_labels = list(range(len(le.classes_))) \n",
    "present_labels = np.unique(y_train)\n",
    "\n",
    "# Compute class weights\n",
    "class_weights = compute_class_weight(class_weight='balanced', classes=present_labels, y=y_train)\n",
    "class_weights_tensor = torch.tensor(class_weights, dtype=torch.float)"
   ]
  },
  {
   "cell_type": "code",
   "execution_count": null,
   "metadata": {},
   "outputs": [],
   "source": [
    "\n",
    "# # Get full list of label indices\n",
    "# full_class_indices = np.arange(len(le.classes_))  # e.g., [0, 1, 2, 3, 4, 5]\n",
    "\n",
    "# # Get only the classes that appear in y_train\n",
    "# y_train = dataset[\"train\"][\"label\"]\n",
    "# present_classes = np.unique(y_train)\n",
    "\n",
    "# # Compute weights ONLY for the present ones\n",
    "# present_weights = compute_class_weight(\n",
    "#     class_weight=\"balanced\",\n",
    "#     classes=present_classes,\n",
    "#     y=y_train\n",
    "# )\n",
    "\n",
    "# # Initialize full weight vector with 0s, then insert the computed ones\n",
    "# full_weights = np.zeros(len(full_class_indices), dtype=np.float32)\n",
    "# for idx, cls in enumerate(present_classes):\n",
    "#     full_weights[cls] = present_weights[idx]\n",
    "\n",
    "# # Convert to tensor\n",
    "# class_weights_tensor = torch.tensor(full_weights, dtype=torch.float)\n"
   ]
  },
  {
   "cell_type": "code",
   "execution_count": 6,
   "metadata": {},
   "outputs": [],
   "source": [
    "# Hugging Face’s Trainer does not support class weights out-of-the-box, so we must override the loss\n",
    "\n",
    "class WeightedTrainer(Trainer):\n",
    "    def compute_loss(self, model, inputs, return_outputs=False, **kwargs): # **kwargs captures unexpected/optional arguments (like num_items_in_batch) without breaking your function\n",
    "        labels = inputs.get(\"labels\")\n",
    "        outputs = model(**inputs)\n",
    "        logits = outputs.get(\"logits\")\n",
    "\n",
    "        loss_fn = torch.nn.CrossEntropyLoss(weight=class_weights_tensor.to(model.device))\n",
    "        loss = loss_fn(logits, labels)\n",
    "\n",
    "        return (loss, outputs) if return_outputs else loss\n"
   ]
  },
  {
   "cell_type": "code",
   "execution_count": 7,
   "metadata": {},
   "outputs": [],
   "source": [
    "# Define metric logging function\n",
    "def compute_metrics(eval_pred):\n",
    "    logits, labels = eval_pred\n",
    "    preds = logits.argmax(axis=1)\n",
    "    acc = accuracy_score(labels, preds)\n",
    "    precision = precision_score(labels, preds, average=\"macro\")\n",
    "    recall = recall_score(labels, preds, average=\"macro\")\n",
    "    f1 = f1_score(labels, preds, average=\"macro\")\n",
    "    return {\"accuracy\": acc, \"precision\": precision, \"recall\": recall, \"f1\": f1}"
   ]
  },
  {
   "cell_type": "code",
   "execution_count": 8,
   "metadata": {},
   "outputs": [],
   "source": [
    "# TrainingArguments This config tells the Trainer: \n",
    "# “Train for 3 epochs, evaluate and save the model after each one, \n",
    "# use moderate batch sizes, \n",
    "# and keep logs and checkpoints local — don’t auto-report to external dashboards.” --> can it be set to report to MLFlow?\n",
    "\n",
    "args = TrainingArguments(\n",
    "    output_dir=\"fallacy-model\",\n",
    "    learning_rate=3e-5, # added for fine-tuning, 5e-5 by default\n",
    "    weight_decay=0.01,  # added for fine-tuning, 0 by default\n",
    "    evaluation_strategy=\"epoch\",\n",
    "    per_device_train_batch_size=16,\n",
    "    per_device_eval_batch_size=64,\n",
    "    num_train_epochs=4,  # increased from 3 for fine-tuning\n",
    "    logging_dir=\"./logs\",\n",
    "    save_strategy=\"epoch\",\n",
    "    report_to=\"none\"\n",
    ")"
   ]
  },
  {
   "cell_type": "code",
   "execution_count": 9,
   "metadata": {},
   "outputs": [
    {
     "name": "stdout",
     "output_type": "stream",
     "text": [
      "Active run_id: 2e3ecbd87faf42819cdb77addc01fce7\n"
     ]
    },
    {
     "data": {
      "text/html": [
       "\n",
       "    <div>\n",
       "      \n",
       "      <progress value='876' max='876' style='width:300px; height:20px; vertical-align: middle;'></progress>\n",
       "      [876/876 2:45:31, Epoch 4/4]\n",
       "    </div>\n",
       "    <table border=\"1\" class=\"dataframe\">\n",
       "  <thead>\n",
       " <tr style=\"text-align: left;\">\n",
       "      <th>Epoch</th>\n",
       "      <th>Training Loss</th>\n",
       "      <th>Validation Loss</th>\n",
       "      <th>Accuracy</th>\n",
       "      <th>Precision</th>\n",
       "      <th>Recall</th>\n",
       "      <th>F1</th>\n",
       "    </tr>\n",
       "  </thead>\n",
       "  <tbody>\n",
       "    <tr>\n",
       "      <td>1</td>\n",
       "      <td>No log</td>\n",
       "      <td>1.128775</td>\n",
       "      <td>0.490000</td>\n",
       "      <td>0.504957</td>\n",
       "      <td>0.574216</td>\n",
       "      <td>0.478874</td>\n",
       "    </tr>\n",
       "    <tr>\n",
       "      <td>2</td>\n",
       "      <td>No log</td>\n",
       "      <td>0.956021</td>\n",
       "      <td>0.679333</td>\n",
       "      <td>0.623335</td>\n",
       "      <td>0.660985</td>\n",
       "      <td>0.632255</td>\n",
       "    </tr>\n",
       "    <tr>\n",
       "      <td>3</td>\n",
       "      <td>1.071200</td>\n",
       "      <td>0.926195</td>\n",
       "      <td>0.702667</td>\n",
       "      <td>0.636903</td>\n",
       "      <td>0.684273</td>\n",
       "      <td>0.655190</td>\n",
       "    </tr>\n",
       "    <tr>\n",
       "      <td>4</td>\n",
       "      <td>1.071200</td>\n",
       "      <td>0.963200</td>\n",
       "      <td>0.703333</td>\n",
       "      <td>0.639729</td>\n",
       "      <td>0.666736</td>\n",
       "      <td>0.650073</td>\n",
       "    </tr>\n",
       "  </tbody>\n",
       "</table><p>"
      ],
      "text/plain": [
       "<IPython.core.display.HTML object>"
      ]
     },
     "metadata": {},
     "output_type": "display_data"
    },
    {
     "data": {
      "text/html": [],
      "text/plain": [
       "<IPython.core.display.HTML object>"
      ]
     },
     "metadata": {},
     "output_type": "display_data"
    },
    {
     "name": "stderr",
     "output_type": "stream",
     "text": [
      "Device set to use cpu\n",
      "Device set to use cpu\n"
     ]
    },
    {
     "data": {
      "text/html": [],
      "text/plain": [
       "<IPython.core.display.HTML object>"
      ]
     },
     "metadata": {},
     "output_type": "display_data"
    },
    {
     "name": "stdout",
     "output_type": "stream",
     "text": [
      "🏃 View run honorable-carp-158 at: http://127.0.0.1:5001/#/experiments/445989666823303942/runs/2e3ecbd87faf42819cdb77addc01fce7\n",
      "🧪 View experiment at: http://127.0.0.1:5001/#/experiments/445989666823303942\n"
     ]
    }
   ],
   "source": [
    "# Train using Trainer and log to MLflow\n",
    "# setting the MLFlow connection and experiment\n",
    "\n",
    "from transformers import pipeline\n",
    "from mlflow.models.signature import infer_signature\n",
    "\n",
    "\n",
    "# Define training params to log\n",
    "params = {\n",
    "      \"learning_rate\": 3e-5,\n",
    "      \"weight_decay\": 0.01,\n",
    "      \"num_train_epochs\": 4,\n",
    "      \"evaluation_strategy\": \"epoch\",\n",
    "  }\n",
    "\n",
    "\n",
    "# setting the MLFlow connection and experiment\n",
    "mlflow.set_tracking_uri(TRACKING_URI)\n",
    "mlflow.set_experiment(EXPERIMENT_NAME)\n",
    "\n",
    "\n",
    "with mlflow.start_run():\n",
    "    run = mlflow.active_run()\n",
    "    print(\"Active run_id: {}\".format(run.info.run_id))\n",
    "\n",
    "    mlflow.set_tag(\"model_name\", MODEL_NAME)\n",
    "    mlflow.log_params(params)\n",
    "\n",
    "    trainer = WeightedTrainer(\n",
    "        model=model,\n",
    "        args=args,\n",
    "        train_dataset=dataset[\"train\"],\n",
    "        eval_dataset=dataset[\"test\"],\n",
    "        tokenizer=tokenizer,\n",
    "        compute_metrics=compute_metrics\n",
    "    )\n",
    "\n",
    "    trainer.train()\n",
    "    trainer.evaluate()\n",
    "\n",
    "     # Use a properly named pipeline object (so that I don'r overwrite the original pipeline)\n",
    "    clf_pipeline = pipeline(\"text-classification\", model=trainer.model, tokenizer=tokenizer)\n",
    "\n",
    "    # Input format for logging\n",
    "    example_input = [{\"text\": dataset[\"test\"][0][\"text\"]}]\n",
    "    sample_output = clf_pipeline(example_input)\n",
    "    signature = infer_signature(example_input, sample_output)\n",
    "\n",
    "    # Log model with example input + signature\n",
    "    log_model(\n",
    "        clf_pipeline,\n",
    "        artifact_path=\"model\",\n",
    "        input_example=example_input,\n",
    "        signature=signature\n",
    "    )\n",
    "\n",
    "    # Evaluate and extract predictions\n",
    "    y_test_output = trainer.predict(dataset[\"test\"])\n",
    "    y_train_output = trainer.predict(dataset[\"train\"])\n",
    "\n",
    "    y_test_preds = y_test_output.predictions.argmax(axis=1)\n",
    "    y_test_true = y_test_output.label_ids\n",
    "\n",
    "    y_train_preds = y_train_output.predictions.argmax(axis=1)\n",
    "    y_train_true = y_train_output.label_ids\n",
    "\n",
    "    # Define and log metrics\n",
    "    def log_metrics(true, pred, split):\n",
    "        mlflow.log_metric(f\"{split}_accuracy\", accuracy_score(true, pred))\n",
    "        mlflow.log_metric(f\"{split}_f1\", f1_score(true, pred, average=\"macro\"))\n",
    "        mlflow.log_metric(f\"{split}_precision\", precision_score(true, pred, average=\"macro\"))\n",
    "        mlflow.log_metric(f\"{split}_recall\", recall_score(true, pred, average=\"macro\"))\n",
    "\n",
    "    log_metrics(y_train_true, y_train_preds, \"train\")\n",
    "    log_metrics(y_test_true, y_test_preds, \"test\")\n",
    "\n",
    "# Optional: inspect the run\n",
    "# mlflow.get_run(run_id=run.info.run_id)"
   ]
  },
  {
   "cell_type": "code",
   "execution_count": null,
   "metadata": {},
   "outputs": [],
   "source": [
    "# from sklearn.metrics import brier_score_loss\n",
    "# brier_score_loss(y_true, y_prob)"
   ]
  },
  {
   "cell_type": "code",
   "execution_count": 10,
   "metadata": {},
   "outputs": [
    {
     "data": {
      "text/html": [],
      "text/plain": [
       "<IPython.core.display.HTML object>"
      ]
     },
     "metadata": {},
     "output_type": "display_data"
    },
    {
     "name": "stdout",
     "output_type": "stream",
     "text": [
      "                       precision    recall  f1-score   support\n",
      "\n",
      "           ad_hominem       0.59      0.69      0.64       154\n",
      "  appeal_to_authority       0.63      0.56      0.59       103\n",
      "    appeal_to_emotion       0.66      0.63      0.64       226\n",
      "        false_dilemma       0.58      0.73      0.64       117\n",
      "faulty_generalization       0.54      0.62      0.58       173\n",
      "                 none       0.83      0.76      0.80       727\n",
      "\n",
      "             accuracy                           0.70      1500\n",
      "            macro avg       0.64      0.67      0.65      1500\n",
      "         weighted avg       0.71      0.70      0.71      1500\n",
      "\n",
      "Confusion Matrix:\n",
      "[[107   4  21   4  10   8]\n",
      " [  7  58   7   1   6  24]\n",
      " [ 25   7 142  18  12  22]\n",
      " [  3   1   5  85   5  18]\n",
      " [  7   1  16   1 108  40]\n",
      " [ 31  21  24  38  58 555]]\n"
     ]
    },
    {
     "data": {
      "image/png": "[encoded data removed]",
      "text/plain": [
       "<Figure size 1000x800 with 2 Axes>"
      ]
     },
     "metadata": {},
     "output_type": "display_data"
    }
   ],
   "source": [
    "# Add prediction and reporting here\n",
    "output = trainer.predict(dataset[\"test\"])\n",
    "predictions = np.argmax(output.predictions, axis=1)\n",
    "y_true = output.label_ids\n",
    "\n",
    "# Classification report\n",
    "label_names = le.classes_\n",
    "print(classification_report(y_true, predictions, target_names=label_names))\n",
    "\n",
    "# Confusion matrix\n",
    "cm = confusion_matrix(y_true, predictions)\n",
    "print(\"Confusion Matrix:\")\n",
    "print(cm)\n",
    "\n",
    "# plotting\n",
    "plt.figure(figsize=(10, 8))\n",
    "sns.heatmap(cm, annot=True, fmt=\"d\", cmap=\"Blues\", xticklabels=label_names, yticklabels=label_names)\n",
    "plt.xlabel(\"Predicted\")\n",
    "plt.ylabel(\"True\")\n",
    "plt.title(\"Confusion Matrix\")\n",
    "plt.show()\n",
    "\n"
   ]
  },
  {
   "cell_type": "code",
   "execution_count": null,
   "metadata": {},
   "outputs": [
    {
     "name": "stderr",
     "output_type": "stream",
     "text": [
      "2025/04/02 17:00:46 WARNING mlflow.sklearn: Model was missing function: predict. Not logging python_function flavor!\n"
     ]
    }
   ],
   "source": [
    "path = \"../models/DistilBert\"\n",
    "save_model(sk_model=model, path=path)"
   ]
  },
  {
   "cell_type": "code",
   "execution_count": null,
   "metadata": {},
   "outputs": [],
   "source": [
    "# To optimize: \n",
    "\n",
    "# 1. modify learning rate, epochs, and weights --> What is the default? epoch, I set to 3\n",
    "\n",
    "# 2. Give higher weight to classes with fewer examples"
   ]
  }
 ],
 "metadata": {
  "kernelspec": {
   "display_name": ".venv",
   "language": "python",
   "name": "python3"
  },
  "language_info": {
   "codemirror_mode": {
    "name": "ipython",
    "version": 3
   },
   "file_extension": ".py",
   "mimetype": "text/x-python",
   "name": "python",
   "nbconvert_exporter": "python",
   "pygments_lexer": "ipython3",
   "version": "3.11.3"
  }
 },
 "nbformat": 4,
 "nbformat_minor": 2
}
