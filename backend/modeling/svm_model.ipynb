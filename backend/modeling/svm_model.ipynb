{
 "cells": [
  {
   "cell_type": "markdown",
   "metadata": {},
   "source": [
    "# Basic Models: SVM and Naive Bayes"
   ]
  },
  {
   "cell_type": "markdown",
   "metadata": {},
   "source": [
    "### Import necessary packages"
   ]
  },
  {
   "cell_type": "code",
   "execution_count": 2,
   "metadata": {},
   "outputs": [],
   "source": [
    "import pandas as pd\n",
    "import numpy as np\n",
    "import pickle\n",
    "from sklearn.model_selection import train_test_split\n",
    "from sklearn.metrics import accuracy_score, recall_score, precision_score, f1_score, classification_report\n",
    "from sklearn.preprocessing import LabelBinarizer\n",
    "from sklearn.feature_extraction.text import TfidfVectorizer\n",
    "from sklearn.naive_bayes import MultinomialNB\n",
    "from sklearn.pipeline import Pipeline\n",
    "import nltk\n",
    "import re\n",
    "from sklearn.metrics import confusion_matrix\n",
    "import seaborn as sns\n",
    "import matplotlib.pyplot as plt\n",
    "from sklearn.model_selection import GridSearchCV\n",
    "from sklearn.svm import SVC\n",
    "\n",
    "import mlflow\n",
    "import os\n",
    "import logging \n",
    "import config \n"
   ]
  },
  {
   "cell_type": "markdown",
   "metadata": {},
   "source": [
    "### Setup"
   ]
  },
  {
   "cell_type": "code",
   "execution_count": 3,
   "metadata": {},
   "outputs": [],
   "source": [
    "MODEL_NAME = \"SVM\" \n",
    "TRACKING_URI = open(\"../.mlflow_uri\").read().strip()\n",
    "EXPERIMENT_NAME = config.EXPERIMENT_NAME\n",
    "\n",
    "logging.basicConfig(format=\"%(asctime)s: %(message)s\") # Configure logging format to show timestamp before every message\n",
    "\n",
    "logger = logging.getLogger()\n",
    "logger.setLevel(logging.INFO) # Only show logs that are INFO or more important (e.g., WARNING, ERROR) — but ignore DEBUG."
   ]
  },
  {
   "cell_type": "code",
   "execution_count": null,
   "metadata": {},
   "outputs": [],
   "source": [
    "DATA_PATH = \"../data/data_dropped_duplicates_small.csv\""
   ]
  },
  {
   "cell_type": "markdown",
   "metadata": {},
   "source": [
    "### Get  data"
   ]
  },
  {
   "cell_type": "code",
   "execution_count": 5,
   "metadata": {},
   "outputs": [],
   "source": [
    "df = pd.read_csv(DATA_PATH, index_col=0)"
   ]
  },
  {
   "cell_type": "code",
   "execution_count": 6,
   "metadata": {},
   "outputs": [
    {
     "data": {
      "text/html": [
       "<div>\n",
       "<style scoped>\n",
       "    .dataframe tbody tr th:only-of-type {\n",
       "        vertical-align: middle;\n",
       "    }\n",
       "\n",
       "    .dataframe tbody tr th {\n",
       "        vertical-align: top;\n",
       "    }\n",
       "\n",
       "    .dataframe thead th {\n",
       "        text-align: right;\n",
       "    }\n",
       "</style>\n",
       "<table border=\"1\" class=\"dataframe\">\n",
       "  <thead>\n",
       "    <tr style=\"text-align: right;\">\n",
       "      <th></th>\n",
       "      <th>dataset</th>\n",
       "      <th>text</th>\n",
       "      <th>logical_fallacies</th>\n",
       "      <th>source</th>\n",
       "    </tr>\n",
       "  </thead>\n",
       "  <tbody>\n",
       "    <tr>\n",
       "      <th>18384</th>\n",
       "      <td>8</td>\n",
       "      <td>Testing on animals could save the life of you ...</td>\n",
       "      <td>appeal_to_emotion</td>\n",
       "      <td>NaN</td>\n",
       "    </tr>\n",
       "    <tr>\n",
       "      <th>11271</th>\n",
       "      <td>3</td>\n",
       "      <td>I remember when China took over Hong Kong, I r...</td>\n",
       "      <td>none</td>\n",
       "      <td>NaN</td>\n",
       "    </tr>\n",
       "    <tr>\n",
       "      <th>15702</th>\n",
       "      <td>4</td>\n",
       "      <td>: The only \"Light at the End of the Tunnel\", i...</td>\n",
       "      <td>appeal_to_emotion</td>\n",
       "      <td>NaN</td>\n",
       "    </tr>\n",
       "    <tr>\n",
       "      <th>7148</th>\n",
       "      <td>3</td>\n",
       "      <td>So you only believe there are two ways to run ...</td>\n",
       "      <td>none</td>\n",
       "      <td>NaN</td>\n",
       "    </tr>\n",
       "    <tr>\n",
       "      <th>8147</th>\n",
       "      <td>3</td>\n",
       "      <td>Keep things the way they are or change them co...</td>\n",
       "      <td>false_dilemma</td>\n",
       "      <td>NaN</td>\n",
       "    </tr>\n",
       "  </tbody>\n",
       "</table>\n",
       "</div>"
      ],
      "text/plain": [
       "       dataset                                               text   \n",
       "18384        8  Testing on animals could save the life of you ...  \\\n",
       "11271        3  I remember when China took over Hong Kong, I r...   \n",
       "15702        4  : The only \"Light at the End of the Tunnel\", i...   \n",
       "7148         3  So you only believe there are two ways to run ...   \n",
       "8147         3  Keep things the way they are or change them co...   \n",
       "\n",
       "       logical_fallacies source  \n",
       "18384  appeal_to_emotion    NaN  \n",
       "11271               none    NaN  \n",
       "15702  appeal_to_emotion    NaN  \n",
       "7148                none    NaN  \n",
       "8147       false_dilemma    NaN  "
      ]
     },
     "execution_count": 6,
     "metadata": {},
     "output_type": "execute_result"
    }
   ],
   "source": [
    "df.head()"
   ]
  },
  {
   "cell_type": "markdown",
   "metadata": {},
   "source": [
    "### Preprocess text"
   ]
  },
  {
   "cell_type": "code",
   "execution_count": 7,
   "metadata": {},
   "outputs": [],
   "source": [
    "def preprocess_text(text):\n",
    "    # Change text to lower cases\n",
    "    text = text.lower()\n",
    "    return text"
   ]
  },
  {
   "cell_type": "code",
   "execution_count": 8,
   "metadata": {},
   "outputs": [
    {
     "data": {
      "text/html": [
       "<div>\n",
       "<style scoped>\n",
       "    .dataframe tbody tr th:only-of-type {\n",
       "        vertical-align: middle;\n",
       "    }\n",
       "\n",
       "    .dataframe tbody tr th {\n",
       "        vertical-align: top;\n",
       "    }\n",
       "\n",
       "    .dataframe thead th {\n",
       "        text-align: right;\n",
       "    }\n",
       "</style>\n",
       "<table border=\"1\" class=\"dataframe\">\n",
       "  <thead>\n",
       "    <tr style=\"text-align: right;\">\n",
       "      <th></th>\n",
       "      <th>dataset</th>\n",
       "      <th>text</th>\n",
       "      <th>logical_fallacies</th>\n",
       "      <th>source</th>\n",
       "    </tr>\n",
       "  </thead>\n",
       "  <tbody>\n",
       "    <tr>\n",
       "      <th>18384</th>\n",
       "      <td>8</td>\n",
       "      <td>testing on animals could save the life of you ...</td>\n",
       "      <td>appeal_to_emotion</td>\n",
       "      <td>NaN</td>\n",
       "    </tr>\n",
       "    <tr>\n",
       "      <th>11271</th>\n",
       "      <td>3</td>\n",
       "      <td>i remember when china took over hong kong, i r...</td>\n",
       "      <td>none</td>\n",
       "      <td>NaN</td>\n",
       "    </tr>\n",
       "    <tr>\n",
       "      <th>15702</th>\n",
       "      <td>4</td>\n",
       "      <td>: the only \"light at the end of the tunnel\", i...</td>\n",
       "      <td>appeal_to_emotion</td>\n",
       "      <td>NaN</td>\n",
       "    </tr>\n",
       "    <tr>\n",
       "      <th>7148</th>\n",
       "      <td>3</td>\n",
       "      <td>so you only believe there are two ways to run ...</td>\n",
       "      <td>none</td>\n",
       "      <td>NaN</td>\n",
       "    </tr>\n",
       "    <tr>\n",
       "      <th>8147</th>\n",
       "      <td>3</td>\n",
       "      <td>keep things the way they are or change them co...</td>\n",
       "      <td>false_dilemma</td>\n",
       "      <td>NaN</td>\n",
       "    </tr>\n",
       "  </tbody>\n",
       "</table>\n",
       "</div>"
      ],
      "text/plain": [
       "       dataset                                               text   \n",
       "18384        8  testing on animals could save the life of you ...  \\\n",
       "11271        3  i remember when china took over hong kong, i r...   \n",
       "15702        4  : the only \"light at the end of the tunnel\", i...   \n",
       "7148         3  so you only believe there are two ways to run ...   \n",
       "8147         3  keep things the way they are or change them co...   \n",
       "\n",
       "       logical_fallacies source  \n",
       "18384  appeal_to_emotion    NaN  \n",
       "11271               none    NaN  \n",
       "15702  appeal_to_emotion    NaN  \n",
       "7148                none    NaN  \n",
       "8147       false_dilemma    NaN  "
      ]
     },
     "execution_count": 8,
     "metadata": {},
     "output_type": "execute_result"
    }
   ],
   "source": [
    "df['text'] = df['text'].apply(preprocess_text)\n",
    "df.head()"
   ]
  },
  {
   "cell_type": "code",
   "execution_count": 9,
   "metadata": {},
   "outputs": [
    {
     "name": "stderr",
     "output_type": "stream",
     "text": [
      "[nltk_data] Downloading package wordnet to\n",
      "[nltk_data]     /Users/katharinabaumgartner/nltk_data...\n",
      "[nltk_data]   Package wordnet is already up-to-date!\n"
     ]
    },
    {
     "data": {
      "text/plain": [
       "True"
      ]
     },
     "execution_count": 9,
     "metadata": {},
     "output_type": "execute_result"
    }
   ],
   "source": [
    "nltk.download('wordnet')"
   ]
  },
  {
   "cell_type": "code",
   "execution_count": 10,
   "metadata": {},
   "outputs": [
    {
     "data": {
      "text/html": [
       "<div>\n",
       "<style scoped>\n",
       "    .dataframe tbody tr th:only-of-type {\n",
       "        vertical-align: middle;\n",
       "    }\n",
       "\n",
       "    .dataframe tbody tr th {\n",
       "        vertical-align: top;\n",
       "    }\n",
       "\n",
       "    .dataframe thead th {\n",
       "        text-align: right;\n",
       "    }\n",
       "</style>\n",
       "<table border=\"1\" class=\"dataframe\">\n",
       "  <thead>\n",
       "    <tr style=\"text-align: right;\">\n",
       "      <th></th>\n",
       "      <th>dataset</th>\n",
       "      <th>text</th>\n",
       "      <th>logical_fallacies</th>\n",
       "      <th>source</th>\n",
       "    </tr>\n",
       "  </thead>\n",
       "  <tbody>\n",
       "    <tr>\n",
       "      <th>18384</th>\n",
       "      <td>8</td>\n",
       "      <td>testing on animal could save the life of you o...</td>\n",
       "      <td>appeal_to_emotion</td>\n",
       "      <td>NaN</td>\n",
       "    </tr>\n",
       "    <tr>\n",
       "      <th>11271</th>\n",
       "      <td>3</td>\n",
       "      <td>i remember when china took over hong kong, i r...</td>\n",
       "      <td>none</td>\n",
       "      <td>NaN</td>\n",
       "    </tr>\n",
       "    <tr>\n",
       "      <th>15702</th>\n",
       "      <td>4</td>\n",
       "      <td>: the only \"light at the end of the tunnel\", i...</td>\n",
       "      <td>appeal_to_emotion</td>\n",
       "      <td>NaN</td>\n",
       "    </tr>\n",
       "    <tr>\n",
       "      <th>7148</th>\n",
       "      <td>3</td>\n",
       "      <td>so you only believe there are two way to run a...</td>\n",
       "      <td>none</td>\n",
       "      <td>NaN</td>\n",
       "    </tr>\n",
       "    <tr>\n",
       "      <th>8147</th>\n",
       "      <td>3</td>\n",
       "      <td>keep thing the way they are or change them com...</td>\n",
       "      <td>false_dilemma</td>\n",
       "      <td>NaN</td>\n",
       "    </tr>\n",
       "  </tbody>\n",
       "</table>\n",
       "</div>"
      ],
      "text/plain": [
       "       dataset                                               text   \n",
       "18384        8  testing on animal could save the life of you o...  \\\n",
       "11271        3  i remember when china took over hong kong, i r...   \n",
       "15702        4  : the only \"light at the end of the tunnel\", i...   \n",
       "7148         3  so you only believe there are two way to run a...   \n",
       "8147         3  keep thing the way they are or change them com...   \n",
       "\n",
       "       logical_fallacies source  \n",
       "18384  appeal_to_emotion    NaN  \n",
       "11271               none    NaN  \n",
       "15702  appeal_to_emotion    NaN  \n",
       "7148                none    NaN  \n",
       "8147       false_dilemma    NaN  "
      ]
     },
     "execution_count": 10,
     "metadata": {},
     "output_type": "execute_result"
    }
   ],
   "source": [
    "# Lemmatize text\n",
    "lemmatize = nltk.WordNetLemmatizer()\n",
    "def lemmatize_text(text):\n",
    "    return ' '.join([lemmatize.lemmatize(word) for word in text.split()])\n",
    "\n",
    "df['text'] = df['text'].apply(lemmatize_text)\n",
    "df.head()"
   ]
  },
  {
   "cell_type": "code",
   "execution_count": 11,
   "metadata": {},
   "outputs": [],
   "source": [
    "y = df[\"logical_fallacies\"]\n",
    "X = df[\"text\"]\n",
    "\n",
    "X_train, X_test, y_train, y_test = train_test_split(\n",
    "    X, y, test_size=0.30, random_state=42, stratify=y)"
   ]
  },
  {
   "cell_type": "markdown",
   "metadata": {},
   "source": [
    "### SVM"
   ]
  },
  {
   "cell_type": "code",
   "execution_count": 12,
   "metadata": {},
   "outputs": [],
   "source": [
    "mlflow.set_tracking_uri(TRACKING_URI)\n",
    "mlflow.set_experiment(EXPERIMENT_NAME)\n",
    "mlflow.start_run()\n",
    "run = mlflow.active_run()\n",
    "mlflow.set_tag(\"model_name\", MODEL_NAME)\n",
    "mlflow.set_tag(\"mlflow.runName\", \"svm baseline\")\n",
    "# mlflow.log_params(params)"
   ]
  },
  {
   "cell_type": "code",
   "execution_count": 13,
   "metadata": {},
   "outputs": [],
   "source": [
    "# Use TF-IDF Vecorizer to transform text into numerical data\n",
    "tfidf_vectorizer = TfidfVectorizer()\n",
    "X_vectorized = tfidf_vectorizer.fit_transform(X_train)\n",
    "X_vectorized_test = tfidf_vectorizer.transform(X_test)"
   ]
  },
  {
   "cell_type": "code",
   "execution_count": 14,
   "metadata": {},
   "outputs": [
    {
     "name": "stderr",
     "output_type": "stream",
     "text": [
      "/Users/katharinabaumgartner/Documents/NeueFische/scripts/34_capstone/Capstone_project/backend/.venv/lib/python3.11/site-packages/sklearn/model_selection/_split.py:700: UserWarning: The least populated class in y has only 4 members, which is less than n_splits=5.\n",
      "  warnings.warn(\n"
     ]
    },
    {
     "name": "stdout",
     "output_type": "stream",
     "text": [
      "{'C': 10, 'gamma': 'scale', 'kernel': 'linear'}\n"
     ]
    }
   ],
   "source": [
    "\n",
    "# Grid search\n",
    "param_grid = {\n",
    "'C': [0.1, 1, 10, 100],\n",
    "'gamma': ['scale', 'auto'],\n",
    "'kernel': ['linear', 'rbf']\n",
    "}\n",
    "\n",
    "svm = SVC(probability=True)\n",
    "# svm = SVC()\n",
    "\n",
    "\n",
    "grid_search = GridSearchCV(svm, param_grid, cv=5)\n",
    "grid_search.fit(X_vectorized, y_train)\n",
    "\n",
    "best_params = grid_search.best_params_\n",
    "print(best_params)\n",
    "\n",
    "# Predict on train and test data\n",
    "best_model = grid_search.best_estimator_\n",
    "y_train_pred = best_model.predict(X_vectorized)\n",
    "y_test_pred = best_model.predict(X_vectorized_test)\n",
    "\n",
    "mlflow.log_params(best_params)\n",
    "\n",
    "# Save model to pickle file:\n",
    "with open('../models/svm/svm_model.pkl', 'wb') as f:\n",
    "    pickle.dump(best_model, f)\n",
    "    \n"
   ]
  },
  {
   "cell_type": "markdown",
   "metadata": {},
   "source": [
    "### Evaluation\n"
   ]
  },
  {
   "cell_type": "code",
   "execution_count": 15,
   "metadata": {},
   "outputs": [],
   "source": [
    "def get_metrics(y_true, y_pred, proba):\n",
    "    logger.info('classification_report')\n",
    "    classification_report_dict = classification_report(y_true, y_pred, output_dict=True)\n",
    "    print(classification_report(y_true, y_pred))\n",
    "\n",
    "    logger.info('confusion_matrix')\n",
    "    print(confusion_matrix(y_true, y_pred))\n",
    "\n",
    "    logger.info('brier score')\n",
    "    # 1. One-hot encode the true labels (y_test)\n",
    "    lb = LabelBinarizer()\n",
    "    y_true_onehot = lb.fit_transform(y_true)  # Shape: (n_samples, n_classes)\n",
    "\n",
    "    # 2. Compute Brier score for multiclass\n",
    "    brier_score = np.mean(np.sum((proba - y_true_onehot) ** 2, axis=1))\n",
    "    print(\"Multiclass Brier score:\", brier_score)\n",
    "\n",
    "    return classification_report_dict, brier_score\n"
   ]
  },
  {
   "cell_type": "code",
   "execution_count": 16,
   "metadata": {},
   "outputs": [],
   "source": [
    "def log_metrics(cr, brier, split):\n",
    "    mlflow.log_metric(f\"{split}_brier\", brier)\n",
    "\n",
    "    for key, value in cr.items():\n",
    "        if (key == \"accuracy\"):\n",
    "                # print(f\"{split}_{key}\", round(value,2))\n",
    "                mlflow.log_metric(f\"{split}_{key}\", value)\n",
    "        else:\n",
    "            for metric in value:\n",
    "                mlflow.log_metric(f\"{split}_{key}_{metric}\", value.get(metric))\n",
    "                # print(f\"{split}_{key}_{metric}\", round(value.get(metri"
   ]
  },
  {
   "cell_type": "code",
   "execution_count": 17,
   "metadata": {},
   "outputs": [
    {
     "name": "stderr",
     "output_type": "stream",
     "text": [
      "2025-04-07 11:19:08,681: classification_report\n",
      "2025-04-07 11:19:08,691: confusion_matrix\n",
      "2025-04-07 11:19:08,693: brier score\n"
     ]
    },
    {
     "name": "stdout",
     "output_type": "stream",
     "text": [
      "                       precision    recall  f1-score   support\n",
      "\n",
      "           ad_hominem       1.00      1.00      1.00         5\n",
      "  appeal_to_authority       1.00      1.00      1.00         4\n",
      "    appeal_to_emotion       1.00      1.00      1.00        14\n",
      "        false_dilemma       1.00      1.00      1.00         7\n",
      "faulty_generalization       1.00      1.00      1.00        10\n",
      "                 none       1.00      1.00      1.00        30\n",
      "\n",
      "             accuracy                           1.00        70\n",
      "            macro avg       1.00      1.00      1.00        70\n",
      "         weighted avg       1.00      1.00      1.00        70\n",
      "\n",
      "[[ 5  0  0  0  0  0]\n",
      " [ 0  4  0  0  0  0]\n",
      " [ 0  0 14  0  0  0]\n",
      " [ 0  0  0  7  0  0]\n",
      " [ 0  0  0  0 10  0]\n",
      " [ 0  0  0  0  0 30]]\n",
      "Multiclass Brier score: 0.5841322361809406\n"
     ]
    }
   ],
   "source": [
    "# # Get base_probs\n",
    "base_probs_train = best_model.predict_proba(X_vectorized)\n",
    "base_probs_train\n",
    "classification_report_train, brier= get_metrics(y_train, y_train_pred, base_probs_train)\n",
    "log_metrics(classification_report_train, brier, \"train\")"
   ]
  },
  {
   "cell_type": "code",
   "execution_count": 18,
   "metadata": {},
   "outputs": [
    {
     "name": "stderr",
     "output_type": "stream",
     "text": [
      "2025-04-07 11:19:09,079: classification_report\n",
      "/Users/katharinabaumgartner/Documents/NeueFische/scripts/34_capstone/Capstone_project/backend/.venv/lib/python3.11/site-packages/sklearn/metrics/_classification.py:1344: UndefinedMetricWarning: Precision and F-score are ill-defined and being set to 0.0 in labels with no predicted samples. Use `zero_division` parameter to control this behavior.\n",
      "  _warn_prf(average, modifier, msg_start, len(result))\n",
      "/Users/katharinabaumgartner/Documents/NeueFische/scripts/34_capstone/Capstone_project/backend/.venv/lib/python3.11/site-packages/sklearn/metrics/_classification.py:1344: UndefinedMetricWarning: Precision and F-score are ill-defined and being set to 0.0 in labels with no predicted samples. Use `zero_division` parameter to control this behavior.\n",
      "  _warn_prf(average, modifier, msg_start, len(result))\n",
      "/Users/katharinabaumgartner/Documents/NeueFische/scripts/34_capstone/Capstone_project/backend/.venv/lib/python3.11/site-packages/sklearn/metrics/_classification.py:1344: UndefinedMetricWarning: Precision and F-score are ill-defined and being set to 0.0 in labels with no predicted samples. Use `zero_division` parameter to control this behavior.\n",
      "  _warn_prf(average, modifier, msg_start, len(result))\n",
      "/Users/katharinabaumgartner/Documents/NeueFische/scripts/34_capstone/Capstone_project/backend/.venv/lib/python3.11/site-packages/sklearn/metrics/_classification.py:1344: UndefinedMetricWarning: Precision and F-score are ill-defined and being set to 0.0 in labels with no predicted samples. Use `zero_division` parameter to control this behavior.\n",
      "  _warn_prf(average, modifier, msg_start, len(result))\n",
      "/Users/katharinabaumgartner/Documents/NeueFische/scripts/34_capstone/Capstone_project/backend/.venv/lib/python3.11/site-packages/sklearn/metrics/_classification.py:1344: UndefinedMetricWarning: Precision and F-score are ill-defined and being set to 0.0 in labels with no predicted samples. Use `zero_division` parameter to control this behavior.\n",
      "  _warn_prf(average, modifier, msg_start, len(result))\n",
      "/Users/katharinabaumgartner/Documents/NeueFische/scripts/34_capstone/Capstone_project/backend/.venv/lib/python3.11/site-packages/sklearn/metrics/_classification.py:1344: UndefinedMetricWarning: Precision and F-score are ill-defined and being set to 0.0 in labels with no predicted samples. Use `zero_division` parameter to control this behavior.\n",
      "  _warn_prf(average, modifier, msg_start, len(result))\n",
      "2025-04-07 11:19:09,088: confusion_matrix\n",
      "2025-04-07 11:19:09,089: brier score\n"
     ]
    },
    {
     "name": "stdout",
     "output_type": "stream",
     "text": [
      "                       precision    recall  f1-score   support\n",
      "\n",
      "           ad_hominem       0.00      0.00      0.00         2\n",
      "  appeal_to_authority       0.00      0.00      0.00         2\n",
      "    appeal_to_emotion       0.00      0.00      0.00         6\n",
      "        false_dilemma       0.33      0.33      0.33         3\n",
      "faulty_generalization       0.00      0.00      0.00         4\n",
      "                 none       0.46      0.85      0.59        13\n",
      "\n",
      "             accuracy                           0.40        30\n",
      "            macro avg       0.13      0.20      0.15        30\n",
      "         weighted avg       0.23      0.40      0.29        30\n",
      "\n",
      "[[ 0  0  1  0  0  1]\n",
      " [ 0  0  1  0  0  1]\n",
      " [ 0  0  0  1  0  5]\n",
      " [ 0  0  0  1  0  2]\n",
      " [ 0  0  0  0  0  4]\n",
      " [ 0  0  1  1  0 11]]\n",
      "Multiclass Brier score: 0.6794802496510479\n"
     ]
    }
   ],
   "source": [
    "base_probs_test = best_model.predict_proba(X_vectorized_test)\n",
    "base_probs_test\n",
    "classification_report_test, brier_test= get_metrics(y_test, y_test_pred,base_probs_test)\n",
    "log_metrics(classification_report_test, brier_test, \"test\")"
   ]
  },
  {
   "cell_type": "code",
   "execution_count": 19,
   "metadata": {},
   "outputs": [
    {
     "name": "stdout",
     "output_type": "stream",
     "text": [
      "🏃 View run svm baseline at: http://127.0.0.1:5001/#/experiments/118053630762497624/runs/3d51c81189804c4fb3e0845ad526540f\n",
      "🧪 View experiment at: http://127.0.0.1:5001/#/experiments/118053630762497624\n"
     ]
    }
   ],
   "source": [
    "mlflow.end_run()"
   ]
  },
  {
   "cell_type": "markdown",
   "metadata": {},
   "source": [
    "### Naive Bayes"
   ]
  },
  {
   "cell_type": "code",
   "execution_count": 27,
   "metadata": {},
   "outputs": [
    {
     "ename": "NameError",
     "evalue": "name '__compute_and_log_metrics' is not defined",
     "output_type": "error",
     "traceback": [
      "\u001b[31m---------------------------------------------------------------------------\u001b[39m",
      "\u001b[31mNameError\u001b[39m                                 Traceback (most recent call last)",
      "\u001b[36mCell\u001b[39m\u001b[36m \u001b[39m\u001b[32mIn[27]\u001b[39m\u001b[32m, line 14\u001b[39m\n\u001b[32m     11\u001b[39m y_train_pred_bayes = pipeline_bayes.predict(X_train)\n\u001b[32m     12\u001b[39m y_test_pred_bayes = pipeline_bayes.predict(X_test)\n\u001b[32m---> \u001b[39m\u001b[32m14\u001b[39m \u001b[43m__compute_and_log_metrics\u001b[49m(y_train, y_train_pred_bayes, \u001b[33m\"\u001b[39m\u001b[33mtrain\u001b[39m\u001b[33m\"\u001b[39m)\n\u001b[32m     15\u001b[39m __compute_and_log_metrics(y_test, y_test_pred_bayes, \u001b[33m\"\u001b[39m\u001b[33mtest\u001b[39m\u001b[33m\"\u001b[39m)\n",
      "\u001b[31mNameError\u001b[39m: name '__compute_and_log_metrics' is not defined"
     ]
    }
   ],
   "source": [
    "# Pipeline for TF-IFD and Naive Bayes\n",
    "# pipeline_bayes = Pipeline([\n",
    "#     ('tfidf', TfidfVectorizer()),\n",
    "#     ('nb', MultinomialNB()),\n",
    "# ])\n",
    "\n",
    "# # Train the model\n",
    "# pipeline_bayes.fit(X_train, y_train)\n",
    "\n",
    "# # Predict on train and test data\n",
    "# y_train_pred_bayes = pipeline_bayes.predict(X_train)\n",
    "# y_test_pred_bayes = pipeline_bayes.predict(X_test)\n",
    "\n",
    "# __compute_and_log_metrics(y_train, y_train_pred_bayes, \"train\")\n",
    "# __compute_and_log_metrics(y_test, y_test_pred_bayes, \"test\")"
   ]
  }
 ],
 "metadata": {
  "kernelspec": {
   "display_name": ".venv",
   "language": "python",
   "name": "python3"
  },
  "language_info": {
   "codemirror_mode": {
    "name": "ipython",
    "version": 3
   },
   "file_extension": ".py",
   "mimetype": "text/x-python",
   "name": "python",
   "nbconvert_exporter": "python",
   "pygments_lexer": "ipython3",
   "version": "3.11.3"
  }
 },
 "nbformat": 4,
 "nbformat_minor": 2
}
