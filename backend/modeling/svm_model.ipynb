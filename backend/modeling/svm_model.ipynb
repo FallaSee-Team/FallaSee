{
 "cells": [
  {
   "cell_type": "markdown",
   "metadata": {},
   "source": [
    "# Basic Models: SVM and Naive Bayes"
   ]
  },
  {
   "cell_type": "markdown",
   "metadata": {},
   "source": [
    "### Import necessary packages"
   ]
  },
  {
   "cell_type": "code",
   "execution_count": 1,
   "metadata": {},
   "outputs": [],
   "source": [
    "import pickle\n",
    "from sklearn.model_selection import train_test_split\n",
    "from sklearn.feature_extraction.text import TfidfVectorizer\n",
    "import nltk\n",
    "from sklearn.model_selection import GridSearchCV\n",
    "from sklearn.svm import SVC\n",
    "\n",
    "import mlflow\n",
    "import logging \n",
    "import config \n",
    "\n",
    "from basic_functions import (\n",
    "    get_preprocess_data,\n",
    "    get_lemmatized_data,\n",
    "    get_metrics\n",
    ")\n"
   ]
  },
  {
   "cell_type": "markdown",
   "metadata": {},
   "source": [
    "### Setup"
   ]
  },
  {
   "cell_type": "code",
   "execution_count": 2,
   "metadata": {},
   "outputs": [],
   "source": [
    "MODEL_NAME = \"SVM\" \n",
    "TRACKING_URI = open(\"../.mlflow_uri\").read().strip()\n",
    "EXPERIMENT_NAME = config.EXPERIMENT_NAME\n",
    "\n",
    "logging.basicConfig(format=\"%(asctime)s: %(message)s\") # Configure logging format to show timestamp before every message\n",
    "\n",
    "logger = logging.getLogger()\n",
    "logger.setLevel(logging.INFO) # Only show logs that are INFO or more important (e.g., WARNING, ERROR) — but ignore DEBUG."
   ]
  },
  {
   "cell_type": "code",
   "execution_count": 3,
   "metadata": {},
   "outputs": [],
   "source": [
    "DATA_PATH = \"../data/data_dropped_duplicates_small.csv\""
   ]
  },
  {
   "cell_type": "markdown",
   "metadata": {},
   "source": [
    "### Get and process data"
   ]
  },
  {
   "cell_type": "code",
   "execution_count": 4,
   "metadata": {},
   "outputs": [],
   "source": [
    "df = get_preprocess_data(DATA_PATH)"
   ]
  },
  {
   "cell_type": "code",
   "execution_count": 5,
   "metadata": {},
   "outputs": [
    {
     "name": "stderr",
     "output_type": "stream",
     "text": [
      "[nltk_data] Downloading package wordnet to /Users/maren/nltk_data...\n",
      "[nltk_data]   Package wordnet is already up-to-date!\n"
     ]
    },
    {
     "data": {
      "text/plain": [
       "True"
      ]
     },
     "execution_count": 5,
     "metadata": {},
     "output_type": "execute_result"
    }
   ],
   "source": [
    "nltk.download('wordnet')"
   ]
  },
  {
   "cell_type": "markdown",
   "metadata": {},
   "source": [
    "### Lemmatize text"
   ]
  },
  {
   "cell_type": "code",
   "execution_count": 6,
   "metadata": {},
   "outputs": [
    {
     "data": {
      "text/html": [
       "<div>\n",
       "<style scoped>\n",
       "    .dataframe tbody tr th:only-of-type {\n",
       "        vertical-align: middle;\n",
       "    }\n",
       "\n",
       "    .dataframe tbody tr th {\n",
       "        vertical-align: top;\n",
       "    }\n",
       "\n",
       "    .dataframe thead th {\n",
       "        text-align: right;\n",
       "    }\n",
       "</style>\n",
       "<table border=\"1\" class=\"dataframe\">\n",
       "  <thead>\n",
       "    <tr style=\"text-align: right;\">\n",
       "      <th></th>\n",
       "      <th>dataset</th>\n",
       "      <th>text</th>\n",
       "      <th>logical_fallacies</th>\n",
       "      <th>source</th>\n",
       "    </tr>\n",
       "  </thead>\n",
       "  <tbody>\n",
       "    <tr>\n",
       "      <th>18418</th>\n",
       "      <td>8</td>\n",
       "      <td>yes anything to help people live loinger</td>\n",
       "      <td>ad_hominem</td>\n",
       "      <td>NaN</td>\n",
       "    </tr>\n",
       "    <tr>\n",
       "      <th>7891</th>\n",
       "      <td>3</td>\n",
       "      <td>yes, i can see why some people would find this...</td>\n",
       "      <td>none</td>\n",
       "      <td>NaN</td>\n",
       "    </tr>\n",
       "    <tr>\n",
       "      <th>19326</th>\n",
       "      <td>9</td>\n",
       "      <td>a sorry little post office that can't do anyth...</td>\n",
       "      <td>appeal_to_emotion</td>\n",
       "      <td>NaN</td>\n",
       "    </tr>\n",
       "    <tr>\n",
       "      <th>19159</th>\n",
       "      <td>9</td>\n",
       "      <td>american lives that have been lost, families t...</td>\n",
       "      <td>appeal_to_emotion</td>\n",
       "      <td>NaN</td>\n",
       "    </tr>\n",
       "    <tr>\n",
       "      <th>8695</th>\n",
       "      <td>3</td>\n",
       "      <td>i kind of understand part of this problem. i h...</td>\n",
       "      <td>faulty_generalization</td>\n",
       "      <td>NaN</td>\n",
       "    </tr>\n",
       "  </tbody>\n",
       "</table>\n",
       "</div>"
      ],
      "text/plain": [
       "       dataset                                               text   \n",
       "18418        8           yes anything to help people live loinger  \\\n",
       "7891         3  yes, i can see why some people would find this...   \n",
       "19326        9  a sorry little post office that can't do anyth...   \n",
       "19159        9  american lives that have been lost, families t...   \n",
       "8695         3  i kind of understand part of this problem. i h...   \n",
       "\n",
       "           logical_fallacies source  \n",
       "18418             ad_hominem    NaN  \n",
       "7891                    none    NaN  \n",
       "19326      appeal_to_emotion    NaN  \n",
       "19159      appeal_to_emotion    NaN  \n",
       "8695   faulty_generalization    NaN  "
      ]
     },
     "execution_count": 6,
     "metadata": {},
     "output_type": "execute_result"
    }
   ],
   "source": [
    "df.head()"
   ]
  },
  {
   "cell_type": "code",
   "execution_count": 7,
   "metadata": {},
   "outputs": [],
   "source": [
    "df = get_lemmatized_data(df)"
   ]
  },
  {
   "cell_type": "markdown",
   "metadata": {},
   "source": [
    "### Train-test split"
   ]
  },
  {
   "cell_type": "code",
   "execution_count": 8,
   "metadata": {},
   "outputs": [],
   "source": [
    "y = df[\"logical_fallacies\"]\n",
    "X = df[\"text\"]\n",
    "\n",
    "X_train, X_test, y_train, y_test = train_test_split(\n",
    "    X, y, test_size=0.30, random_state=42, stratify=y)"
   ]
  },
  {
   "cell_type": "markdown",
   "metadata": {},
   "source": [
    "### SVM"
   ]
  },
  {
   "cell_type": "code",
   "execution_count": 9,
   "metadata": {},
   "outputs": [],
   "source": [
    "mlflow.set_tracking_uri(TRACKING_URI)\n",
    "mlflow.set_experiment(EXPERIMENT_NAME)\n",
    "mlflow.start_run()\n",
    "run = mlflow.active_run()\n",
    "mlflow.set_tag(\"model_name\", MODEL_NAME)\n",
    "mlflow.set_tag(\"mlflow.runName\", \"svm baseline\")\n",
    "# mlflow.log_params(params)"
   ]
  },
  {
   "cell_type": "code",
   "execution_count": 10,
   "metadata": {},
   "outputs": [],
   "source": [
    "# Use TF-IDF Vecorizer to transform text into numerical data\n",
    "tfidf_vectorizer = TfidfVectorizer()\n",
    "X_vectorized = tfidf_vectorizer.fit_transform(X_train)\n",
    "X_vectorized_test = tfidf_vectorizer.transform(X_test)"
   ]
  },
  {
   "cell_type": "code",
   "execution_count": 11,
   "metadata": {},
   "outputs": [
    {
     "name": "stdout",
     "output_type": "stream",
     "text": [
      "{'C': 1, 'gamma': 'scale', 'kernel': 'linear'}\n"
     ]
    },
    {
     "ename": "FileNotFoundError",
     "evalue": "[Errno 2] No such file or directory: '../models/svm/svm_model.pkl'",
     "output_type": "error",
     "traceback": [
      "\u001b[31m---------------------------------------------------------------------------\u001b[39m",
      "\u001b[31mFileNotFoundError\u001b[39m                         Traceback (most recent call last)",
      "\u001b[36mCell\u001b[39m\u001b[36m \u001b[39m\u001b[32mIn[11]\u001b[39m\u001b[32m, line 26\u001b[39m\n\u001b[32m     23\u001b[39m mlflow.log_params(best_params)\n\u001b[32m     25\u001b[39m \u001b[38;5;66;03m# Save model to pickle file:\u001b[39;00m\n\u001b[32m---> \u001b[39m\u001b[32m26\u001b[39m \u001b[38;5;28;01mwith\u001b[39;00m \u001b[38;5;28;43mopen\u001b[39;49m\u001b[43m(\u001b[49m\u001b[33;43m'\u001b[39;49m\u001b[33;43m../models/svm/svm_model.pkl\u001b[39;49m\u001b[33;43m'\u001b[39;49m\u001b[43m,\u001b[49m\u001b[43m \u001b[49m\u001b[33;43m'\u001b[39;49m\u001b[33;43mwb\u001b[39;49m\u001b[33;43m'\u001b[39;49m\u001b[43m)\u001b[49m \u001b[38;5;28;01mas\u001b[39;00m f:\n\u001b[32m     27\u001b[39m     pickle.dump(best_model, f)\n",
      "\u001b[36mFile \u001b[39m\u001b[32m~/Library/CloudStorage/OneDrive-Persönlich/Dokumente/neue_fische/Capstone Project/Capstone_project/backend/.venv/lib/python3.11/site-packages/IPython/core/interactiveshell.py:325\u001b[39m, in \u001b[36m_modified_open\u001b[39m\u001b[34m(file, *args, **kwargs)\u001b[39m\n\u001b[32m    318\u001b[39m \u001b[38;5;28;01mif\u001b[39;00m file \u001b[38;5;129;01min\u001b[39;00m {\u001b[32m0\u001b[39m, \u001b[32m1\u001b[39m, \u001b[32m2\u001b[39m}:\n\u001b[32m    319\u001b[39m     \u001b[38;5;28;01mraise\u001b[39;00m \u001b[38;5;167;01mValueError\u001b[39;00m(\n\u001b[32m    320\u001b[39m         \u001b[33mf\u001b[39m\u001b[33m\"\u001b[39m\u001b[33mIPython won\u001b[39m\u001b[33m'\u001b[39m\u001b[33mt let you open fd=\u001b[39m\u001b[38;5;132;01m{\u001b[39;00mfile\u001b[38;5;132;01m}\u001b[39;00m\u001b[33m by default \u001b[39m\u001b[33m\"\u001b[39m\n\u001b[32m    321\u001b[39m         \u001b[33m\"\u001b[39m\u001b[33mas it is likely to crash IPython. If you know what you are doing, \u001b[39m\u001b[33m\"\u001b[39m\n\u001b[32m    322\u001b[39m         \u001b[33m\"\u001b[39m\u001b[33myou can use builtins\u001b[39m\u001b[33m'\u001b[39m\u001b[33m open.\u001b[39m\u001b[33m\"\u001b[39m\n\u001b[32m    323\u001b[39m     )\n\u001b[32m--> \u001b[39m\u001b[32m325\u001b[39m \u001b[38;5;28;01mreturn\u001b[39;00m \u001b[43mio_open\u001b[49m\u001b[43m(\u001b[49m\u001b[43mfile\u001b[49m\u001b[43m,\u001b[49m\u001b[43m \u001b[49m\u001b[43m*\u001b[49m\u001b[43margs\u001b[49m\u001b[43m,\u001b[49m\u001b[43m \u001b[49m\u001b[43m*\u001b[49m\u001b[43m*\u001b[49m\u001b[43mkwargs\u001b[49m\u001b[43m)\u001b[49m\n",
      "\u001b[31mFileNotFoundError\u001b[39m: [Errno 2] No such file or directory: '../models/svm/svm_model.pkl'"
     ]
    }
   ],
   "source": [
    "\n",
    "# Grid search\n",
    "param_grid = {\n",
    "'C': [0.1, 1, 10, 100],\n",
    "'gamma': ['scale', 'auto'],\n",
    "'kernel': ['linear', 'rbf']\n",
    "}\n",
    "\n",
    "# svm = SVC(probability=True)\n",
    "svm = SVC()\n",
    "\n",
    "\n",
    "grid_search = GridSearchCV(svm, param_grid, cv=5)\n",
    "grid_search.fit(X_vectorized, y_train)\n",
    "\n",
    "best_params = grid_search.best_params_\n",
    "print(best_params)\n",
    "\n",
    "# Predict on train and test data\n",
    "best_model = grid_search.best_estimator_\n",
    "y_train_pred = best_model.predict(X_vectorized)\n",
    "y_test_pred = best_model.predict(X_vectorized_test)\n",
    "\n",
    "mlflow.log_params(best_params)\n",
    "\n",
    "\n",
    "    \n"
   ]
  },
  {
   "cell_type": "code",
   "execution_count": 12,
   "metadata": {},
   "outputs": [],
   "source": [
    "# Save model to pickle file:\n",
    "with open('../models/svm/svm_model.pkl', 'wb') as f:\n",
    "    pickle.dump(best_model, f)"
   ]
  },
  {
   "cell_type": "markdown",
   "metadata": {},
   "source": [
    "### Evaluation\n"
   ]
  },
  {
   "cell_type": "code",
   "execution_count": 13,
   "metadata": {},
   "outputs": [],
   "source": [
    "def log_metrics(cr, split):\n",
    "    for key, value in cr.items():\n",
    "        if (key == \"accuracy\"):\n",
    "                # print(f\"{split}_{key}\", round(value,2))\n",
    "                mlflow.log_metric(f\"{split}_{key}\", value)\n",
    "        else:\n",
    "            for metric in value:\n",
    "                mlflow.log_metric(f\"{split}_{key}_{metric}\", value.get(metric))\n",
    "                # print(f\"{split}_{key}_{metric}\", round(value.get(metri"
   ]
  },
  {
   "cell_type": "code",
   "execution_count": null,
   "metadata": {},
   "outputs": [
    {
     "name": "stderr",
     "output_type": "stream",
     "text": [
      "2025-04-08 09:46:48,591: classification_report\n",
      "2025-04-08 09:46:48,700: confusion_matrix\n"
     ]
    },
    {
     "name": "stdout",
     "output_type": "stream",
     "text": [
      "                       precision    recall  f1-score   support\n",
      "\n",
      "           ad_hominem       0.93      0.86      0.89       331\n",
      "  appeal_to_authority       0.99      0.72      0.83       227\n",
      "    appeal_to_emotion       0.94      0.90      0.92       504\n",
      "        false_dilemma       0.99      0.75      0.85       319\n",
      "faulty_generalization       0.98      0.74      0.85       449\n",
      "                 none       0.85      1.00      0.92      1670\n",
      "\n",
      "             accuracy                           0.90      3500\n",
      "            macro avg       0.95      0.83      0.88      3500\n",
      "         weighted avg       0.91      0.90      0.89      3500\n",
      "\n",
      "[[ 286    1    8    0    1   35]\n",
      " [   5  164    8    0    0   50]\n",
      " [   8    0  452    1    2   41]\n",
      " [   5    0    4  238    2   70]\n",
      " [   4    1    8    0  334  102]\n",
      " [   1    0    3    1    1 1664]]\n"
     ]
    }
   ],
   "source": [
    "logger.info('get_train_metrics')\n",
    "classification_report_train = get_metrics(y_train, y_train_pred)\n",
    "log_metrics(classification_report_train, \"train\")"
   ]
  },
  {
   "cell_type": "code",
   "execution_count": 16,
   "metadata": {},
   "outputs": [
    {
     "name": "stderr",
     "output_type": "stream",
     "text": [
      "2025-04-08 09:46:57,071: classification_report\n",
      "2025-04-08 09:46:57,126: confusion_matrix\n"
     ]
    },
    {
     "name": "stdout",
     "output_type": "stream",
     "text": [
      "                       precision    recall  f1-score   support\n",
      "\n",
      "           ad_hominem       0.54      0.41      0.46       142\n",
      "  appeal_to_authority       0.67      0.16      0.26        97\n",
      "    appeal_to_emotion       0.55      0.43      0.48       216\n",
      "        false_dilemma       0.81      0.42      0.55       137\n",
      "faulty_generalization       0.67      0.29      0.41       192\n",
      "                 none       0.64      0.93      0.76       716\n",
      "\n",
      "             accuracy                           0.63      1500\n",
      "            macro avg       0.65      0.44      0.49      1500\n",
      "         weighted avg       0.64      0.63      0.59      1500\n",
      "\n",
      "[[ 58   0  28   1   2  53]\n",
      " [  6  16  14   0   3  58]\n",
      " [ 19   4  93   2   6  92]\n",
      " [  6   0   1  57   3  70]\n",
      " [ 10   1  14   4  56 107]\n",
      " [  9   3  18   6  13 667]]\n"
     ]
    }
   ],
   "source": [
    "logger.info('get_test_metrics')\n",
    "classification_report_test = get_metrics(y_test, y_test_pred)\n",
    "log_metrics(classification_report_test, \"test\")"
   ]
  },
  {
   "cell_type": "code",
   "execution_count": 17,
   "metadata": {},
   "outputs": [
    {
     "name": "stdout",
     "output_type": "stream",
     "text": [
      "🏃 View run svm baseline at: http://127.0.0.1:5001/#/experiments/823412171152425451/runs/17e21bfb91d642a6982283fa0fb62b6c\n",
      "🧪 View experiment at: http://127.0.0.1:5001/#/experiments/823412171152425451\n"
     ]
    }
   ],
   "source": [
    "mlflow.end_run()"
   ]
  },
  {
   "cell_type": "markdown",
   "metadata": {},
   "source": [
    "### Naive Bayes"
   ]
  },
  {
   "cell_type": "code",
   "execution_count": null,
   "metadata": {},
   "outputs": [],
   "source": [
    "# Pipeline for TF-IFD and Naive Bayes\n",
    "# pipeline_bayes = Pipeline([\n",
    "#     ('tfidf', TfidfVectorizer()),\n",
    "#     ('nb', MultinomialNB()),\n",
    "# ])\n",
    "\n",
    "# # Train the model\n",
    "# pipeline_bayes.fit(X_train, y_train)\n",
    "\n",
    "# # Predict on train and test data\n",
    "# y_train_pred_bayes = pipeline_bayes.predict(X_train)\n",
    "# y_test_pred_bayes = pipeline_bayes.predict(X_test)\n",
    "\n",
    "# __compute_and_log_metrics(y_train, y_train_pred_bayes, \"train\")\n",
    "# __compute_and_log_metrics(y_test, y_test_pred_bayes, \"test\")"
   ]
  }
 ],
 "metadata": {
  "kernelspec": {
   "display_name": ".venv",
   "language": "python",
   "name": "python3"
  },
  "language_info": {
   "codemirror_mode": {
    "name": "ipython",
    "version": 3
   },
   "file_extension": ".py",
   "mimetype": "text/x-python",
   "name": "python",
   "nbconvert_exporter": "python",
   "pygments_lexer": "ipython3",
   "version": "3.11.3"
  }
 },
 "nbformat": 4,
 "nbformat_minor": 2
}
