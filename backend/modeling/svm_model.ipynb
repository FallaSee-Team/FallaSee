{
 "cells": [
  {
   "cell_type": "markdown",
   "metadata": {},
   "source": [
    "# Basic Models: SVM and Naive Bayes"
   ]
  },
  {
   "cell_type": "code",
   "execution_count": 34,
   "metadata": {},
   "outputs": [],
   "source": [
    "import pandas as pd\n",
    "import numpy as np\n",
    "import pickle\n",
    "from sklearn.model_selection import train_test_split\n",
    "from sklearn.metrics import accuracy_score, recall_score, precision_score, f1_score, classification_report\n",
    "from sklearn.preprocessing import LabelBinarizer\n",
    "from sklearn.feature_extraction.text import TfidfVectorizer\n",
    "from sklearn.naive_bayes import MultinomialNB\n",
    "from sklearn.pipeline import Pipeline\n",
    "import nltk\n",
    "import re\n",
    "from sklearn.metrics import confusion_matrix\n",
    "import seaborn as sns\n",
    "import matplotlib.pyplot as plt\n",
    "from sklearn.model_selection import GridSearchCV\n",
    "from sklearn.svm import SVC"
   ]
  },
  {
   "cell_type": "code",
   "execution_count": 2,
   "metadata": {},
   "outputs": [],
   "source": [
    "df = pd.read_csv(\"../data/data_small.csv\", index_col=0)"
   ]
  },
  {
   "cell_type": "code",
   "execution_count": 3,
   "metadata": {},
   "outputs": [
    {
     "data": {
      "text/html": [
       "<div>\n",
       "<style scoped>\n",
       "    .dataframe tbody tr th:only-of-type {\n",
       "        vertical-align: middle;\n",
       "    }\n",
       "\n",
       "    .dataframe tbody tr th {\n",
       "        vertical-align: top;\n",
       "    }\n",
       "\n",
       "    .dataframe thead th {\n",
       "        text-align: right;\n",
       "    }\n",
       "</style>\n",
       "<table border=\"1\" class=\"dataframe\">\n",
       "  <thead>\n",
       "    <tr style=\"text-align: right;\">\n",
       "      <th></th>\n",
       "      <th>dataset</th>\n",
       "      <th>text</th>\n",
       "      <th>logical_fallacies</th>\n",
       "      <th>source</th>\n",
       "    </tr>\n",
       "  </thead>\n",
       "  <tbody>\n",
       "    <tr>\n",
       "      <th>18384</th>\n",
       "      <td>8</td>\n",
       "      <td>Testing on animals could save the life of you ...</td>\n",
       "      <td>appeal_to_emotion</td>\n",
       "      <td>NaN</td>\n",
       "    </tr>\n",
       "    <tr>\n",
       "      <th>11271</th>\n",
       "      <td>3</td>\n",
       "      <td>I remember when China took over Hong Kong, I r...</td>\n",
       "      <td>none</td>\n",
       "      <td>NaN</td>\n",
       "    </tr>\n",
       "    <tr>\n",
       "      <th>15702</th>\n",
       "      <td>4</td>\n",
       "      <td>: The only \"Light at the End of the Tunnel\", i...</td>\n",
       "      <td>appeal_to_emotion</td>\n",
       "      <td>NaN</td>\n",
       "    </tr>\n",
       "    <tr>\n",
       "      <th>7148</th>\n",
       "      <td>3</td>\n",
       "      <td>So you only believe there are two ways to run ...</td>\n",
       "      <td>none</td>\n",
       "      <td>NaN</td>\n",
       "    </tr>\n",
       "    <tr>\n",
       "      <th>8147</th>\n",
       "      <td>3</td>\n",
       "      <td>Keep things the way they are or change them co...</td>\n",
       "      <td>false_dilemma</td>\n",
       "      <td>NaN</td>\n",
       "    </tr>\n",
       "  </tbody>\n",
       "</table>\n",
       "</div>"
      ],
      "text/plain": [
       "       dataset                                               text   \n",
       "18384        8  Testing on animals could save the life of you ...  \\\n",
       "11271        3  I remember when China took over Hong Kong, I r...   \n",
       "15702        4  : The only \"Light at the End of the Tunnel\", i...   \n",
       "7148         3  So you only believe there are two ways to run ...   \n",
       "8147         3  Keep things the way they are or change them co...   \n",
       "\n",
       "       logical_fallacies source  \n",
       "18384  appeal_to_emotion    NaN  \n",
       "11271               none    NaN  \n",
       "15702  appeal_to_emotion    NaN  \n",
       "7148                none    NaN  \n",
       "8147       false_dilemma    NaN  "
      ]
     },
     "execution_count": 3,
     "metadata": {},
     "output_type": "execute_result"
    }
   ],
   "source": [
    "df.head()"
   ]
  },
  {
   "cell_type": "markdown",
   "metadata": {},
   "source": [
    "### Preprocess text"
   ]
  },
  {
   "cell_type": "code",
   "execution_count": 4,
   "metadata": {},
   "outputs": [],
   "source": [
    "def preprocess_text(text):\n",
    "    # Change text to lower cases\n",
    "    text = text.lower()\n",
    "    # Remove punctuation\n",
    "    text = re.sub(r'\\W', ' ', text)\n",
    "    # Remove extra spaces\n",
    "    text = re.sub(r'\\s+', ' ', text).strip()\n",
    "    return text"
   ]
  },
  {
   "cell_type": "code",
   "execution_count": 5,
   "metadata": {},
   "outputs": [
    {
     "data": {
      "text/html": [
       "<div>\n",
       "<style scoped>\n",
       "    .dataframe tbody tr th:only-of-type {\n",
       "        vertical-align: middle;\n",
       "    }\n",
       "\n",
       "    .dataframe tbody tr th {\n",
       "        vertical-align: top;\n",
       "    }\n",
       "\n",
       "    .dataframe thead th {\n",
       "        text-align: right;\n",
       "    }\n",
       "</style>\n",
       "<table border=\"1\" class=\"dataframe\">\n",
       "  <thead>\n",
       "    <tr style=\"text-align: right;\">\n",
       "      <th></th>\n",
       "      <th>dataset</th>\n",
       "      <th>text</th>\n",
       "      <th>logical_fallacies</th>\n",
       "      <th>source</th>\n",
       "    </tr>\n",
       "  </thead>\n",
       "  <tbody>\n",
       "    <tr>\n",
       "      <th>18384</th>\n",
       "      <td>8</td>\n",
       "      <td>testing on animals could save the life of you ...</td>\n",
       "      <td>appeal_to_emotion</td>\n",
       "      <td>NaN</td>\n",
       "    </tr>\n",
       "    <tr>\n",
       "      <th>11271</th>\n",
       "      <td>3</td>\n",
       "      <td>i remember when china took over hong kong i re...</td>\n",
       "      <td>none</td>\n",
       "      <td>NaN</td>\n",
       "    </tr>\n",
       "    <tr>\n",
       "      <th>15702</th>\n",
       "      <td>4</td>\n",
       "      <td>the only light at the end of the tunnel is the...</td>\n",
       "      <td>appeal_to_emotion</td>\n",
       "      <td>NaN</td>\n",
       "    </tr>\n",
       "    <tr>\n",
       "      <th>7148</th>\n",
       "      <td>3</td>\n",
       "      <td>so you only believe there are two ways to run ...</td>\n",
       "      <td>none</td>\n",
       "      <td>NaN</td>\n",
       "    </tr>\n",
       "    <tr>\n",
       "      <th>8147</th>\n",
       "      <td>3</td>\n",
       "      <td>keep things the way they are or change them co...</td>\n",
       "      <td>false_dilemma</td>\n",
       "      <td>NaN</td>\n",
       "    </tr>\n",
       "  </tbody>\n",
       "</table>\n",
       "</div>"
      ],
      "text/plain": [
       "       dataset                                               text   \n",
       "18384        8  testing on animals could save the life of you ...  \\\n",
       "11271        3  i remember when china took over hong kong i re...   \n",
       "15702        4  the only light at the end of the tunnel is the...   \n",
       "7148         3  so you only believe there are two ways to run ...   \n",
       "8147         3  keep things the way they are or change them co...   \n",
       "\n",
       "       logical_fallacies source  \n",
       "18384  appeal_to_emotion    NaN  \n",
       "11271               none    NaN  \n",
       "15702  appeal_to_emotion    NaN  \n",
       "7148                none    NaN  \n",
       "8147       false_dilemma    NaN  "
      ]
     },
     "execution_count": 5,
     "metadata": {},
     "output_type": "execute_result"
    }
   ],
   "source": [
    "df['text'] = df['text'].apply(preprocess_text)\n",
    "df.head()"
   ]
  },
  {
   "cell_type": "code",
   "execution_count": 6,
   "metadata": {},
   "outputs": [
    {
     "data": {
      "text/html": [
       "<div>\n",
       "<style scoped>\n",
       "    .dataframe tbody tr th:only-of-type {\n",
       "        vertical-align: middle;\n",
       "    }\n",
       "\n",
       "    .dataframe tbody tr th {\n",
       "        vertical-align: top;\n",
       "    }\n",
       "\n",
       "    .dataframe thead th {\n",
       "        text-align: right;\n",
       "    }\n",
       "</style>\n",
       "<table border=\"1\" class=\"dataframe\">\n",
       "  <thead>\n",
       "    <tr style=\"text-align: right;\">\n",
       "      <th></th>\n",
       "      <th>dataset</th>\n",
       "      <th>text</th>\n",
       "      <th>logical_fallacies</th>\n",
       "      <th>source</th>\n",
       "    </tr>\n",
       "  </thead>\n",
       "  <tbody>\n",
       "    <tr>\n",
       "      <th>18384</th>\n",
       "      <td>8</td>\n",
       "      <td>testing on animal could save the life of you o...</td>\n",
       "      <td>appeal_to_emotion</td>\n",
       "      <td>NaN</td>\n",
       "    </tr>\n",
       "    <tr>\n",
       "      <th>11271</th>\n",
       "      <td>3</td>\n",
       "      <td>i remember when china took over hong kong i re...</td>\n",
       "      <td>none</td>\n",
       "      <td>NaN</td>\n",
       "    </tr>\n",
       "    <tr>\n",
       "      <th>15702</th>\n",
       "      <td>4</td>\n",
       "      <td>the only light at the end of the tunnel is the...</td>\n",
       "      <td>appeal_to_emotion</td>\n",
       "      <td>NaN</td>\n",
       "    </tr>\n",
       "    <tr>\n",
       "      <th>7148</th>\n",
       "      <td>3</td>\n",
       "      <td>so you only believe there are two way to run a...</td>\n",
       "      <td>none</td>\n",
       "      <td>NaN</td>\n",
       "    </tr>\n",
       "    <tr>\n",
       "      <th>8147</th>\n",
       "      <td>3</td>\n",
       "      <td>keep thing the way they are or change them com...</td>\n",
       "      <td>false_dilemma</td>\n",
       "      <td>NaN</td>\n",
       "    </tr>\n",
       "  </tbody>\n",
       "</table>\n",
       "</div>"
      ],
      "text/plain": [
       "       dataset                                               text   \n",
       "18384        8  testing on animal could save the life of you o...  \\\n",
       "11271        3  i remember when china took over hong kong i re...   \n",
       "15702        4  the only light at the end of the tunnel is the...   \n",
       "7148         3  so you only believe there are two way to run a...   \n",
       "8147         3  keep thing the way they are or change them com...   \n",
       "\n",
       "       logical_fallacies source  \n",
       "18384  appeal_to_emotion    NaN  \n",
       "11271               none    NaN  \n",
       "15702  appeal_to_emotion    NaN  \n",
       "7148                none    NaN  \n",
       "8147       false_dilemma    NaN  "
      ]
     },
     "execution_count": 6,
     "metadata": {},
     "output_type": "execute_result"
    }
   ],
   "source": [
    "# Lemmatize text\n",
    "lemmatize = nltk.WordNetLemmatizer()\n",
    "def lemmatize_text(text):\n",
    "    return ' '.join([lemmatize.lemmatize(word) for word in text.split()])\n",
    "\n",
    "df['text'] = df['text'].apply(lemmatize_text)\n",
    "df.head()"
   ]
  },
  {
   "cell_type": "code",
   "execution_count": 7,
   "metadata": {},
   "outputs": [],
   "source": [
    "Y = df[\"logical_fallacies\"]\n",
    "X = df[\"text\"]\n",
    "\n",
    "X_train, X_test, y_train, y_test = train_test_split(\n",
    "    X, Y, test_size=0.30, random_state=42)"
   ]
  },
  {
   "cell_type": "markdown",
   "metadata": {},
   "source": [
    "### SVM"
   ]
  },
  {
   "cell_type": "code",
   "execution_count": 8,
   "metadata": {},
   "outputs": [],
   "source": [
    "# Use TF-IDF Vecorizer to transform text into numerical data\n",
    "tfidf_vecorizer = TfidfVectorizer()\n",
    "X_vecorized = tfidf_vecorizer.fit_transform(X_train)\n",
    "X_vecorized_test = tfidf_vecorizer.transform(X_test)"
   ]
  },
  {
   "cell_type": "code",
   "execution_count": null,
   "metadata": {},
   "outputs": [],
   "source": [
    "# Open SVM model when it is already trained\n",
    "with open('../models/svm_model.pkl', 'rb') as f:\n",
    "        model = pickle.load(f)"
   ]
  },
  {
   "cell_type": "code",
   "execution_count": 46,
   "metadata": {},
   "outputs": [],
   "source": [
    "# Runs model only if it was not loaded in the previous cell\n",
    "if model == False:\n",
    "    # Grid search\n",
    "    param_grid = {\n",
    "    'C': [0.1, 1, 10, 100],\n",
    "    'gamma': ['scale', 'auto'],\n",
    "    'kernel': ['linear', 'rbf']\n",
    "    }\n",
    "\n",
    "    svm = SVC(probability=True)\n",
    "\n",
    "    grid_search = GridSearchCV(svm, param_grid, cv=5)\n",
    "    grid_search.fit(X_vecorized, y_train)\n",
    "\n",
    "    best_params = grid_search.best_params_\n",
    "    print(best_params)\n",
    "\n",
    "    # Predict on train and test data\n",
    "    best_model = grid_search.best_estimator_\n",
    "    y_train_pred = best_model.predict(X_vecorized)\n",
    "    y_test_pred = best_model.predict(X_vecorized_test)\n",
    "\n",
    "    # Save model to pickle file:\n",
    "    with open('../models/svm_model.pkl', 'wb') as f:\n",
    "        pickle.dump(best_model, f)\n",
    "        \n",
    "\n",
    "else: # makes prediction for saved model\n",
    "    y_train_pred = model.predict(X_vecorized)\n",
    "    y_test_pred = model.predict(X_vecorized_test)\n"
   ]
  },
  {
   "cell_type": "code",
   "execution_count": 15,
   "metadata": {},
   "outputs": [],
   "source": [
    "def __compute_and_log_metrics(\n",
    "    y_true: pd.Series,\n",
    "    y_pred: pd.Series,\n",
    "    prefix: str = \"train\",\n",
    "    average: str = \"macro\"  # 'macro' is suitable for most multiclass scenarios\n",
    "):\n",
    "    # Calculate classification metrics\n",
    "    accuracy = accuracy_score(y_true, y_pred)\n",
    "    recall = recall_score(y_true, y_pred, average=average)\n",
    "    precision = precision_score(y_true, y_pred, average=average)\n",
    "    f1 = f1_score(y_true, y_pred, average=average)\n",
    "\n",
    "    print(accuracy, recall, precision, f1)\n",
    "    print(f\"Multiclass classification performance on {prefix} set: \"\n",
    "        f\"Accuracy = {accuracy:.1%}, \"\n",
    "        f\"Recall = {recall:.1%}, \"\n",
    "        f\"Precision = {precision:.1%}, \"\n",
    "        f\"F1 = {f1:.1%}\")\n",
    "    \n",
    "    print(type(accuracy))"
   ]
  },
  {
   "cell_type": "code",
   "execution_count": 22,
   "metadata": {},
   "outputs": [
    {
     "name": "stdout",
     "output_type": "stream",
     "text": [
      "0.884 0.8124704796635475 0.9379901923482796 0.8631632618330296\n",
      "Multiclass classification performance on train set: Accuracy = 88.4%, Recall = 81.2%, Precision = 93.8%, F1 = 86.3%\n",
      "<class 'numpy.float64'>\n",
      "0.6373333333333333 0.4781058378808691 0.6963732193732194 0.5271944422498412\n",
      "Multiclass classification performance on test set: Accuracy = 63.7%, Recall = 47.8%, Precision = 69.6%, F1 = 52.7%\n",
      "<class 'numpy.float64'>\n"
     ]
    }
   ],
   "source": [
    "__compute_and_log_metrics(y_train, y_train_pred, \"train\")\n",
    "__compute_and_log_metrics(y_test, y_test_pred, \"test\")"
   ]
  },
  {
   "cell_type": "code",
   "execution_count": 17,
   "metadata": {},
   "outputs": [
    {
     "name": "stdout",
     "output_type": "stream",
     "text": [
      "                       precision    recall  f1-score   support\n",
      "\n",
      "           ad_hominem       0.64      0.52      0.57       159\n",
      "  appeal_to_authority       0.75      0.22      0.34        97\n",
      "    appeal_to_emotion       0.59      0.52      0.55       227\n",
      "        false_dilemma       0.80      0.42      0.55       133\n",
      "faulty_generalization       0.78      0.28      0.41       202\n",
      "                 none       0.62      0.91      0.74       682\n",
      "\n",
      "             accuracy                           0.64      1500\n",
      "            macro avg       0.70      0.48      0.53      1500\n",
      "         weighted avg       0.66      0.64      0.61      1500\n",
      "\n"
     ]
    }
   ],
   "source": [
    "print(classification_report(y_test, y_test_pred))"
   ]
  },
  {
   "cell_type": "code",
   "execution_count": 31,
   "metadata": {},
   "outputs": [
    {
     "data": {
      "text/plain": [
       "array([[0.00898322, 0.00323032, 0.01207795, 0.01590949, 0.00600508,\n",
       "        0.95379394],\n",
       "       [0.0068144 , 0.02091489, 0.00352363, 0.04344598, 0.03072252,\n",
       "        0.89457859],\n",
       "       [0.02472325, 0.01702059, 0.06758043, 0.01678032, 0.10553292,\n",
       "        0.76836248],\n",
       "       ...,\n",
       "       [0.0112163 , 0.10717307, 0.01765658, 0.0443113 , 0.07715577,\n",
       "        0.74248698],\n",
       "       [0.0231388 , 0.06512713, 0.0789737 , 0.01291245, 0.04802383,\n",
       "        0.77182408],\n",
       "       [0.01524593, 0.08447687, 0.03947265, 0.62690558, 0.05314447,\n",
       "        0.18075451]])"
      ]
     },
     "execution_count": 31,
     "metadata": {},
     "output_type": "execute_result"
    }
   ],
   "source": [
    "# Get base_probs\n",
    "base_probs = best_model.predict_proba(X_vecorized_test)\n",
    "base_probs\n"
   ]
  },
  {
   "cell_type": "code",
   "execution_count": 32,
   "metadata": {},
   "outputs": [
    {
     "name": "stdout",
     "output_type": "stream",
     "text": [
      "Multiclass Brier score: 0.49862718285668095\n"
     ]
    }
   ],
   "source": [
    "# Brier score\n",
    "# 1. One-hot encode the true labels (y_test)\n",
    "lb = LabelBinarizer()\n",
    "y_true_onehot = lb.fit_transform(y_test)  # Shape: (n_samples, n_classes)\n",
    "# 2. Compute Brier score for multiclass\n",
    "brier_score = np.mean(np.sum((base_probs - y_true_onehot) ** 2, axis=1))\n",
    "print(\"Multiclass Brier score:\", brier_score)"
   ]
  },
  {
   "cell_type": "code",
   "execution_count": 15,
   "metadata": {},
   "outputs": [
    {
     "data": {
      "image/png": "[encoded data removed]",
      "text/plain": [
       "<Figure size 640x480 with 2 Axes>"
      ]
     },
     "metadata": {},
     "output_type": "display_data"
    }
   ],
   "source": [
    "\n",
    "cm = confusion_matrix(y_test, y_test_pred)\n",
    "labels = sorted(df['logical_fallacies'].unique())\n",
    "\n",
    "sns.heatmap(cm, cmap='YlGnBu', annot=True, fmt='d', linewidths=.5, xticklabels=labels, yticklabels=labels);\n",
    "plt.xlabel(\"predicted\")\n",
    "plt.ylabel(\"actual\")\n",
    "\n",
    "plt.show()"
   ]
  },
  {
   "cell_type": "code",
   "execution_count": 71,
   "metadata": {},
   "outputs": [
    {
     "name": "stdout",
     "output_type": "stream",
     "text": [
      "logical_fallacies\n",
      "none                     2346\n",
      "appeal_to_emotion         754\n",
      "faulty_generalization     635\n",
      "ad_hominem                498\n",
      "false_dilemma             439\n",
      "appeal_to_authority       328\n",
      "Name: count, dtype: int64\n"
     ]
    }
   ],
   "source": [
    "labels_count = df['logical_fallacies'].value_counts()\n",
    "print(labels_count)"
   ]
  },
  {
   "cell_type": "markdown",
   "metadata": {},
   "source": [
    "### Naive Bayes"
   ]
  },
  {
   "cell_type": "code",
   "execution_count": 17,
   "metadata": {},
   "outputs": [
    {
     "name": "stdout",
     "output_type": "stream",
     "text": [
      "0.49142857142857144 0.18717955574795095 0.7353085753056675 0.14785729294128555\n",
      "Multiclass classification performance on train set: Accuracy = 49.1%, Recall = 18.7%, Precision = 73.5%, F1 = 14.8%\n",
      "<class 'float'>\n",
      "0.458 0.17123244549003847 0.5205168305034257 0.11386365348327637\n",
      "Multiclass classification performance on test set: Accuracy = 45.8%, Recall = 17.1%, Precision = 52.1%, F1 = 11.4%\n",
      "<class 'float'>\n"
     ]
    },
    {
     "name": "stderr",
     "output_type": "stream",
     "text": [
      "/Users/aylinhanne/Documents/neuefische/capstone_project/Capstone_project/backend/.venv/lib/python3.11/site-packages/sklearn/metrics/_classification.py:1565: UndefinedMetricWarning: Precision is ill-defined and being set to 0.0 in labels with no predicted samples. Use `zero_division` parameter to control this behavior.\n",
      "  _warn_prf(average, modifier, f\"{metric.capitalize()} is\", len(result))\n",
      "/Users/aylinhanne/Documents/neuefische/capstone_project/Capstone_project/backend/.venv/lib/python3.11/site-packages/sklearn/metrics/_classification.py:1565: UndefinedMetricWarning: Precision is ill-defined and being set to 0.0 in labels with no predicted samples. Use `zero_division` parameter to control this behavior.\n",
      "  _warn_prf(average, modifier, f\"{metric.capitalize()} is\", len(result))\n"
     ]
    }
   ],
   "source": [
    "# Pipeline for TF-IFD and Naive Bayes\n",
    "pipeline_bayes = Pipeline([\n",
    "    ('tfidf', TfidfVectorizer()),\n",
    "    ('nb', MultinomialNB()),\n",
    "])\n",
    "\n",
    "# Train the model\n",
    "pipeline_bayes.fit(X_train, y_train)\n",
    "\n",
    "# Predict on train and test data\n",
    "y_train_pred_bayes = pipeline_bayes.predict(X_train)\n",
    "y_test_pred_bayes = pipeline_bayes.predict(X_test)\n",
    "\n",
    "__compute_and_log_metrics(y_train, y_train_pred_bayes, \"train\")\n",
    "__compute_and_log_metrics(y_test, y_test_pred_bayes, \"test\")"
   ]
  }
 ],
 "metadata": {
  "kernelspec": {
   "display_name": ".venv",
   "language": "python",
   "name": "python3"
  },
  "language_info": {
   "codemirror_mode": {
    "name": "ipython",
    "version": 3
   },
   "file_extension": ".py",
   "mimetype": "text/x-python",
   "name": "python",
   "nbconvert_exporter": "python",
   "pygments_lexer": "ipython3",
   "version": "3.11.3"
  }
 },
 "nbformat": 4,
 "nbformat_minor": 2
}
