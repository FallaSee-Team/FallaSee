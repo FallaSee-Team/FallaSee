{
 "cells": [
  {
   "cell_type": "markdown",
   "id": "c8996da6",
   "metadata": {},
   "source": [
    "## Pipeline to combine models"
   ]
  },
  {
   "cell_type": "markdown",
   "id": "5f1c2bc8",
   "metadata": {},
   "source": [
    "### Import"
   ]
  },
  {
   "cell_type": "code",
   "execution_count": 1,
   "id": "0db01f15",
   "metadata": {},
   "outputs": [
    {
     "name": "stderr",
     "output_type": "stream",
     "text": [
      "/Users/katharinabaumgartner/Documents/NeueFische/scripts/34_capstone/Capstone_project/backend/.venv/lib/python3.11/site-packages/tqdm/auto.py:21: TqdmWarning: IProgress not found. Please update jupyter and ipywidgets. See https://ipywidgets.readthedocs.io/en/stable/user_install.html\n",
      "  from .autonotebook import tqdm as notebook_tqdm\n"
     ]
    }
   ],
   "source": [
    "import pandas as pd\n",
    "import numpy as np\n",
    "import pickle\n",
    "\n",
    "import matplotlib.pyplot as plt\n",
    "import seaborn as sns\n",
    "from sklearn.model_selection import train_test_split\n",
    "import mlflow\n",
    "from mlflow.transformers import log_model\n",
    "import logging \n",
    "from mlflow.sklearn import save_model\n",
    "import torch\n",
    "\n",
    "from sklearn.metrics import accuracy_score, classification_report, confusion_matrix\n",
    "from sklearn.preprocessing import LabelEncoder\n",
    "from mlflow.models.signature import infer_signature\n",
    "from sklearn.utils.class_weight import compute_class_weight\n",
    "from sklearn.preprocessing import LabelBinarizer\n",
    "from scipy.special import softmax\n",
    "import numpy as np\n",
    "\n",
    "from sklearn.feature_extraction.text import TfidfVectorizer\n",
    "from transformers import TrainingArguments, Trainer, AutoModelForSequenceClassification, AutoModel, AutoTokenizer, AutoConfig\n",
    "\n",
    "\n",
    "from torch import nn\n",
    "import mlflow.pytorch\n",
    "\n",
    "import sentencepiece\n",
    "import os\n",
    "import config"
   ]
  },
  {
   "cell_type": "code",
   "execution_count": 2,
   "id": "5be0bfca",
   "metadata": {},
   "outputs": [],
   "source": [
    "from basic_functions import (\n",
    "    get_preprocess_data,\n",
    "    get_lemmatized_data,\n",
    "    tokenize,\n",
    "    TextDataset,\n",
    "    get_metrics\n",
    ")"
   ]
  },
  {
   "cell_type": "markdown",
   "id": "d6971ca7",
   "metadata": {},
   "source": [
    "### Setup\n"
   ]
  },
  {
   "cell_type": "code",
   "execution_count": 3,
   "id": "2997e91c",
   "metadata": {},
   "outputs": [],
   "source": [
    "TRACKING_URI = open(\"../.mlflow_uri\").read().strip()\n",
    "EXPERIMENT_NAME = config.EXPERIMENT_NAME\n",
    "\n",
    "logging.basicConfig(format=\"%(asctime)s: %(message)s\") # Configure logging format to show timestamp before every message\n",
    "\n",
    "logger = logging.getLogger()\n",
    "logger.setLevel(logging.INFO) # Only show logs that are INFO or more important (e.g., WARNING, ERROR) — but ignore DEBUG."
   ]
  },
  {
   "cell_type": "markdown",
   "id": "99c935a9",
   "metadata": {},
   "source": [
    "### Prepare for LogReg"
   ]
  },
  {
   "cell_type": "code",
   "execution_count": 4,
   "id": "601fa2d1",
   "metadata": {},
   "outputs": [],
   "source": [
    "def get_vectorizer(data_path):\n",
    "    df = get_preprocess_data(data_path)\n",
    "    df = get_lemmatized_data(df)\n",
    "\n",
    "    X = df['text']\n",
    "    y = df['logical_fallacies']\n",
    "\n",
    "    X_train, X_test, y_train, y_test = train_test_split(\n",
    "        X, y, test_size=0.30, random_state=42, stratify=y)\n",
    "\n",
    "    tfidf_vectorizer = TfidfVectorizer(\n",
    "        ngram_range=(1, 2),  # Bigrams (or even trigrams)\n",
    "        max_features=1000,   # Limit feature space to the most important words\n",
    "        min_df=5,            # Consider words that appear in at least 5 documents\n",
    "        max_df=0.9)       # Ignore words that appear in more than 90% of documents)\n",
    "        \n",
    "    return tfidf_vectorizer.fit(X_train)\n",
    "\n"
   ]
  },
  {
   "cell_type": "code",
   "execution_count": 5,
   "id": "98e0100b",
   "metadata": {},
   "outputs": [],
   "source": [
    "binary_vectorizer = get_vectorizer(\"../data/data_binary.csv\")\n",
    "binary_emotion_hominem_vectorizer = get_vectorizer(\"../data/data_binary_emotion_hominem.csv\")\n",
    "multiclass_with_vectorizer = get_vectorizer(\"../data/data_multiclass_with_none.csv\")\n",
    "multiclass_without_vectorizer = get_vectorizer(\"../data/data_multiclass_without_none.csv\")"
   ]
  },
  {
   "cell_type": "code",
   "execution_count": 6,
   "id": "26cd5726",
   "metadata": {},
   "outputs": [],
   "source": [
    "def get_vectorized_text(df, problem_type):\n",
    "\n",
    "    df['text'] = df['text'].apply(lambda x: x.lower())\n",
    "    df = get_lemmatized_data(df)\n",
    "\n",
    "    # if (problem_type == 'multiclass_with') or (problem_type == 'multiclass_without'):\n",
    "    #     y = df['logical_fallacies']\n",
    "    # else:\n",
    "    #     y = df['two_class_target']\n",
    "    X = df['text']\n",
    "\n",
    "    if problem_type == 'multiclass_with':\n",
    "        X_vectorized = multiclass_with_vectorizer.transform(X)\n",
    "    elif problem_type == 'multiclass_without':\n",
    "        X_vectorized = multiclass_without_vectorizer.transform(X)\n",
    "    elif problem_type == 'binary':\n",
    "        X_vectorized = binary_vectorizer.transform(X)\n",
    "    else:\n",
    "        X_vectorized = binary_emotion_hominem_vectorizer.transform(X)\n",
    "\n",
    "    return X_vectorized\n"
   ]
  },
  {
   "cell_type": "markdown",
   "id": "22611227",
   "metadata": {},
   "source": [
    "### Prepare for DistilBert"
   ]
  },
  {
   "cell_type": "code",
   "execution_count": 7,
   "id": "cd634947",
   "metadata": {},
   "outputs": [],
   "source": [
    "# le = LabelEncoder()\n",
    "# y = df['logical_fallacies']\n",
    "# # y = df['two_class_target']\n",
    "# y_encoded = le.fit_transform(y)\n",
    "\n",
    "def get_tokenized_text(df):\n",
    "    X = df['text']\n",
    "    x_tokenized = tokenize(X.to_list(), \"distilbert-base-uncased\")\n",
    "    return x_tokenized\n"
   ]
  },
  {
   "cell_type": "markdown",
   "id": "be1dc10b",
   "metadata": {},
   "source": [
    "### Distilbert Prediction"
   ]
  },
  {
   "cell_type": "code",
   "execution_count": 8,
   "id": "79c38b39",
   "metadata": {},
   "outputs": [],
   "source": [
    "## Function for prediction\n",
    "\n",
    "def predict(model, encodings, batch_size=8):\n",
    "    # Set the model to evaluation mode\n",
    "    model.eval()\n",
    "    \n",
    "    # Use GPU\n",
    "    device = torch.device(\"mps\")\n",
    "    model.to(device)\n",
    "    \n",
    "    # Perform inference\n",
    "    probabilities = []\n",
    "    for i in range(0, len(encodings[\"input_ids\"]), batch_size):\n",
    "        with torch.no_grad():\n",
    "            batch = {\n",
    "                key: val[i:i+batch_size].to(device) \n",
    "                for key, val in encodings.items()\n",
    "            }\n",
    "            outputs = model(**batch)\n",
    "            probs = torch.softmax(outputs.logits, dim=-1).cpu().numpy()\n",
    "            probabilities.extend(probs)\n",
    "            \n",
    "        # Clear GPU memory after each batch\n",
    "        torch.mps.empty_cache()\n",
    "    \n",
    "    return np.array(probabilities)"
   ]
  },
  {
   "cell_type": "markdown",
   "id": "5267337b",
   "metadata": {},
   "source": [
    "### Pipeline: Binary LogReg + Multiclass DistilBert"
   ]
  },
  {
   "cell_type": "code",
   "execution_count": null,
   "id": "eed2b2bf",
   "metadata": {},
   "outputs": [],
   "source": [
    "MODEL_NAME = \"binary_LogReg_multiclass_DistilBert\" \n",
    "\n",
    "#setting the MLFlow connection and experiment\n",
    "mlflow.set_tracking_uri(TRACKING_URI)\n",
    "mlflow.set_experiment(EXPERIMENT_NAME)\n",
    "\n",
    "\n",
    "mlflow.start_run()\n",
    "run = mlflow.active_run()\n",
    "print(\"Active run_id: {}\".format(run.info.run_id))\n",
    "\n",
    "mlflow.set_tag(\"model_name\", MODEL_NAME)\n",
    "mlflow.set_tag(\"mlflow.runName\", \"binary logreg multi distilbert\")\n",
    "mlflow.log_param(\"dataset\", 'data_val')\n"
   ]
  },
  {
   "cell_type": "markdown",
   "id": "514037bf",
   "metadata": {},
   "source": [
    "#### 1. Step: Binary LogReg"
   ]
  },
  {
   "cell_type": "code",
   "execution_count": null,
   "id": "acb5df88",
   "metadata": {},
   "outputs": [],
   "source": [
    "#Get Val-Data and prepare for binary logreg\n",
    "df_val = pd.read_csv('../data/data_val.csv')\n",
    "X_prep = get_vectorized_text(df_val, 'binary')"
   ]
  },
  {
   "cell_type": "code",
   "execution_count": null,
   "id": "f9bad6b9",
   "metadata": {},
   "outputs": [],
   "source": [
    "#Import LogReg Binary Model\n",
    "with open(\"../models/logreg_binary/logreg_binary.pkl\", \"rb\") as file:\n",
    "    logreg_binary = pickle.load(file)"
   ]
  },
  {
   "cell_type": "code",
   "execution_count": null,
   "id": "09f3443e",
   "metadata": {},
   "outputs": [],
   "source": [
    "y_pred = logreg_binary.predict(X_prep)"
   ]
  },
  {
   "cell_type": "code",
   "execution_count": null,
   "id": "b1a7fac4",
   "metadata": {},
   "outputs": [],
   "source": [
    "#Create dataframe for next step\n",
    "df_first= df_val.copy()\n",
    "df_first['pred_1'] = y_pred\n",
    "df_second = df_first[df_first['pred_1']== 'fallacy']\n",
    "df_first = df_first[df_first['pred_1'] == 'none']"
   ]
  },
  {
   "cell_type": "markdown",
   "id": "2b135093",
   "metadata": {},
   "source": [
    "#### 2.step: Distilbert Multiclass without none"
   ]
  },
  {
   "cell_type": "code",
   "execution_count": null,
   "id": "125a990d",
   "metadata": {},
   "outputs": [],
   "source": [
    "# prepare X for Distilbert\n",
    "X_prep_2 = get_tokenized_text(df_second)"
   ]
  },
  {
   "cell_type": "code",
   "execution_count": null,
   "id": "71921f88",
   "metadata": {},
   "outputs": [],
   "source": [
    "#load Distilbert\n",
    "path_pt = \"../models/distilbert_multiclass_without_none/pytorch_model\"\n",
    "distilbert = mlflow.pytorch.load_model(path_pt)\n"
   ]
  },
  {
   "cell_type": "code",
   "execution_count": null,
   "id": "62068d45",
   "metadata": {},
   "outputs": [],
   "source": [
    "base_probs = predict(distilbert, X_prep_2, batch_size=2)"
   ]
  },
  {
   "cell_type": "code",
   "execution_count": null,
   "id": "ec4bd4c9",
   "metadata": {},
   "outputs": [],
   "source": [
    "def get_first_prediction(proba):\n",
    "    preds = np.argmax(proba, axis=1)\n",
    "    #pred_int = int(pred[0]) --> had to remove this, otherwise it took the same prediction for all\n",
    "    probas = proba[np.arange(len(preds)), preds]\n",
    "    #proba_int = float(proba[0])\n",
    "    return preds, probas"
   ]
  },
  {
   "cell_type": "code",
   "execution_count": null,
   "id": "0f1b01df",
   "metadata": {},
   "outputs": [],
   "source": [
    "first_pred, first_proba = get_first_prediction(base_probs)"
   ]
  },
  {
   "cell_type": "code",
   "execution_count": null,
   "id": "f2db2b84",
   "metadata": {},
   "outputs": [],
   "source": [
    "#get encodings\n",
    "df_encodings = pd.read_csv('../data/data_multiclass_without_none.csv')\n",
    "y = df_encodings[\"logical_fallacies\"]\n",
    "le = LabelEncoder()\n",
    "y_train = le.fit(y)"
   ]
  },
  {
   "cell_type": "code",
   "execution_count": null,
   "id": "4eccb67f",
   "metadata": {},
   "outputs": [],
   "source": [
    "df_second['pred_2'] = first_pred"
   ]
  },
  {
   "cell_type": "code",
   "execution_count": null,
   "id": "e4d0c8c8",
   "metadata": {},
   "outputs": [],
   "source": [
    "df_second['pred_2'] = le.inverse_transform(df_second['pred_2'])"
   ]
  },
  {
   "cell_type": "code",
   "execution_count": null,
   "id": "d90c2e16",
   "metadata": {},
   "outputs": [],
   "source": [
    "df_first['pred_2'] = df_first['pred_1']\n",
    "df_result = pd.concat([df_first, df_second], ignore_index=True)"
   ]
  },
  {
   "cell_type": "code",
   "execution_count": null,
   "id": "37507d71",
   "metadata": {},
   "outputs": [],
   "source": [
    "df_result"
   ]
  },
  {
   "cell_type": "markdown",
   "id": "004ae318",
   "metadata": {},
   "source": [
    "#### Evaluation"
   ]
  },
  {
   "cell_type": "code",
   "execution_count": null,
   "id": "205da297",
   "metadata": {},
   "outputs": [],
   "source": [
    "def log_metrics(cr, split):\n",
    "    for key, value in cr.items():\n",
    "        if (key == \"accuracy\"):\n",
    "                print(f\"{split}_{key}\", round(value,2))\n",
    "                mlflow.log_metric(f\"{split}_{key}\", value)\n",
    "        else:\n",
    "            for metric in value:\n",
    "                mlflow.log_metric(f\"{split}_{key}_{metric}\", value.get(metric))\n",
    "                print(f\"{split}_{key}_{metric}\", round(value.get(metric),2))"
   ]
  },
  {
   "cell_type": "code",
   "execution_count": null,
   "id": "57588669",
   "metadata": {},
   "outputs": [],
   "source": [
    "logger.info('get validation metrics for one-step approach')\n",
    "classification_report_one_train = get_metrics(df_result['logical_fallacies'], df_result['pred_2'])\n",
    "log_metrics(classification_report_one_train, 'val')"
   ]
  },
  {
   "cell_type": "code",
   "execution_count": null,
   "id": "8069cbb1",
   "metadata": {},
   "outputs": [],
   "source": [
    "mlflow.end_run()"
   ]
  },
  {
   "cell_type": "markdown",
   "id": "0d14d688",
   "metadata": {},
   "source": [
    "### Pipeline: Binary LogReg + Multi LogReg"
   ]
  },
  {
   "cell_type": "code",
   "execution_count": null,
   "id": "b329c9e7",
   "metadata": {},
   "outputs": [],
   "source": [
    "MODEL_NAME = \"binary_LogReg_multiclass_LogReg\" \n",
    "\n",
    "#setting the MLFlow connection and experiment\n",
    "mlflow.set_tracking_uri(TRACKING_URI)\n",
    "mlflow.set_experiment(EXPERIMENT_NAME)\n",
    "\n",
    "\n",
    "mlflow.start_run()\n",
    "run = mlflow.active_run()\n",
    "print(\"Active run_id: {}\".format(run.info.run_id))\n",
    "\n",
    "mlflow.set_tag(\"model_name\", MODEL_NAME)\n",
    "mlflow.set_tag(\"mlflow.runName\", \"binary logreg multi logreg\")\n",
    "mlflow.log_param(\"dataset\", 'data_val')\n"
   ]
  },
  {
   "cell_type": "markdown",
   "id": "73c415ed",
   "metadata": {},
   "source": [
    "#### 1. Step: Binary LogReg"
   ]
  },
  {
   "cell_type": "code",
   "execution_count": null,
   "id": "9e3e667c",
   "metadata": {},
   "outputs": [],
   "source": [
    "#Get Val-Data and prepare for binary logreg\n",
    "df_val = pd.read_csv('../data/data_val.csv')\n",
    "X_prep = get_vectorized_text(df_val, 'binary')"
   ]
  },
  {
   "cell_type": "code",
   "execution_count": null,
   "id": "d3960fde",
   "metadata": {},
   "outputs": [],
   "source": [
    "#Import LogReg Binary Model\n",
    "with open(\"../models/logreg_binary/logreg_binary.pkl\", \"rb\") as file:\n",
    "    logreg_binary = pickle.load(file)"
   ]
  },
  {
   "cell_type": "code",
   "execution_count": null,
   "id": "23dcb738",
   "metadata": {},
   "outputs": [],
   "source": [
    "y_pred = logreg_binary.predict(X_prep)"
   ]
  },
  {
   "cell_type": "code",
   "execution_count": null,
   "id": "fa19fe1a",
   "metadata": {},
   "outputs": [],
   "source": [
    "#Create dataframe for next step\n",
    "# df_second = df_val.copy()\n",
    "df_first= df_val.copy()\n",
    "df_first['pred_1'] = y_pred\n",
    "df_second = df_first[df_first['pred_1']== 'fallacy']\n",
    "df_first = df_first[df_first['pred_1'] == 'none']"
   ]
  },
  {
   "cell_type": "code",
   "execution_count": null,
   "id": "9084c5d9",
   "metadata": {},
   "outputs": [],
   "source": [
    "df_first.head()"
   ]
  },
  {
   "cell_type": "code",
   "execution_count": null,
   "id": "595bf6ad",
   "metadata": {},
   "outputs": [],
   "source": [
    "df_second.head()"
   ]
  },
  {
   "cell_type": "code",
   "execution_count": null,
   "id": "6d02fb3c",
   "metadata": {},
   "outputs": [],
   "source": [
    "df_second['pred_1'].unique()"
   ]
  },
  {
   "cell_type": "code",
   "execution_count": null,
   "id": "d9cde471",
   "metadata": {},
   "outputs": [],
   "source": [
    "df_second['logical_fallacies'].value_counts()"
   ]
  },
  {
   "cell_type": "markdown",
   "id": "e8a7f6f7",
   "metadata": {},
   "source": [
    "#### 2.step: LogReg Multiclass without none"
   ]
  },
  {
   "cell_type": "code",
   "execution_count": null,
   "id": "4fd26c6e",
   "metadata": {},
   "outputs": [],
   "source": [
    "#Get Val-Data and prepare for binary logreg\n",
    "X_prep = get_vectorized_text(df_second, 'multiclass_without')"
   ]
  },
  {
   "cell_type": "code",
   "execution_count": null,
   "id": "9d0cf980",
   "metadata": {},
   "outputs": [],
   "source": [
    "#Import LogReg Binary Model\n",
    "with open(\"../models/logreg_multi_without/logreg_multi_without.pkl\", \"rb\") as file:\n",
    "    logreg_multi_without = pickle.load(file)"
   ]
  },
  {
   "cell_type": "code",
   "execution_count": null,
   "id": "b0585535",
   "metadata": {},
   "outputs": [],
   "source": [
    "y_pred = logreg_multi_without.predict(X_prep)"
   ]
  },
  {
   "cell_type": "code",
   "execution_count": null,
   "id": "e705d23c",
   "metadata": {},
   "outputs": [],
   "source": [
    "df_second['pred_2']=y_pred"
   ]
  },
  {
   "cell_type": "code",
   "execution_count": null,
   "id": "f8fb11d8",
   "metadata": {},
   "outputs": [],
   "source": [
    "df_second = df_second.drop('source', axis=1)"
   ]
  },
  {
   "cell_type": "code",
   "execution_count": null,
   "id": "5f91415e",
   "metadata": {},
   "outputs": [],
   "source": [
    "df_first= df_first.drop('source', axis=1)"
   ]
  },
  {
   "cell_type": "code",
   "execution_count": null,
   "id": "b854a189",
   "metadata": {},
   "outputs": [],
   "source": [
    "df_first['pred_2'] = df_first['pred_1']"
   ]
  },
  {
   "cell_type": "code",
   "execution_count": null,
   "id": "42b94bd3",
   "metadata": {},
   "outputs": [],
   "source": [
    "df_result = pd.concat([df_first, df_second], ignore_index=True)"
   ]
  },
  {
   "cell_type": "code",
   "execution_count": null,
   "id": "91178e1b",
   "metadata": {},
   "outputs": [],
   "source": [
    "df_result"
   ]
  },
  {
   "cell_type": "markdown",
   "id": "2c9676f9",
   "metadata": {},
   "source": [
    "#### Evaluation"
   ]
  },
  {
   "cell_type": "code",
   "execution_count": null,
   "id": "f9c89c90",
   "metadata": {},
   "outputs": [],
   "source": [
    "def log_metrics(cr, split):\n",
    "    for key, value in cr.items():\n",
    "        if (key == \"accuracy\"):\n",
    "                print(f\"{split}_{key}\", round(value,2))\n",
    "                mlflow.log_metric(f\"{split}_{key}\", value)\n",
    "        else:\n",
    "            for metric in value:\n",
    "                mlflow.log_metric(f\"{split}_{key}_{metric}\", value.get(metric))\n",
    "                print(f\"{split}_{key}_{metric}\", round(value.get(metric),2))"
   ]
  },
  {
   "cell_type": "code",
   "execution_count": null,
   "id": "0b9909ab",
   "metadata": {},
   "outputs": [],
   "source": [
    "logger.info('get validation metrics')\n",
    "classification_report = get_metrics(df_result['logical_fallacies'], df_result['pred_2'])\n",
    "log_metrics(classification_report, 'val')"
   ]
  },
  {
   "cell_type": "code",
   "execution_count": null,
   "id": "d041e242",
   "metadata": {},
   "outputs": [],
   "source": [
    "mlflow.end_run()"
   ]
  },
  {
   "cell_type": "markdown",
   "id": "ee3f2ec2",
   "metadata": {},
   "source": [
    "### Pipeline Binary & Multiclass Distilbert"
   ]
  },
  {
   "cell_type": "code",
   "execution_count": 9,
   "id": "78d0131a",
   "metadata": {},
   "outputs": [],
   "source": [
    "df_val = pd.read_csv('../data/data_val.csv')"
   ]
  },
  {
   "cell_type": "code",
   "execution_count": 10,
   "id": "acd637b5",
   "metadata": {},
   "outputs": [
    {
     "name": "stderr",
     "output_type": "stream",
     "text": [
      "INFO:basic_functions:create tokenizer & load model\n"
     ]
    }
   ],
   "source": [
    "# prepare X for Distilbert\n",
    "X_prep = get_tokenized_text(df_val)"
   ]
  },
  {
   "cell_type": "markdown",
   "id": "80c16319",
   "metadata": {},
   "source": [
    "#### Binary Model & Prediction"
   ]
  },
  {
   "cell_type": "code",
   "execution_count": 11,
   "id": "7da9b8ea",
   "metadata": {},
   "outputs": [],
   "source": [
    "#load Distilbert\n",
    "path_pt = \"../models/distilbert_binary/pytorch_model\"\n",
    "distilbert_binary = mlflow.pytorch.load_model(path_pt)\n"
   ]
  },
  {
   "cell_type": "code",
   "execution_count": 12,
   "id": "0e781eca",
   "metadata": {},
   "outputs": [],
   "source": [
    "base_probs = predict(distilbert_binary, X_prep, batch_size=2)"
   ]
  },
  {
   "cell_type": "code",
   "execution_count": 13,
   "id": "8dd60c99",
   "metadata": {},
   "outputs": [],
   "source": [
    "def get_first_prediction(proba):\n",
    "    preds = np.argmax(proba, axis=1)\n",
    "    #pred_int = int(pred[0]) --> had to remove this, otherwise it took the same prediction for all\n",
    "    probas = proba[np.arange(len(preds)), preds]\n",
    "    #proba_int = float(proba[0])\n",
    "    return preds, probas"
   ]
  },
  {
   "cell_type": "code",
   "execution_count": 14,
   "id": "40021ecc",
   "metadata": {},
   "outputs": [],
   "source": [
    "first_pred, first_proba = get_first_prediction(base_probs)"
   ]
  },
  {
   "cell_type": "code",
   "execution_count": 15,
   "id": "dddde894",
   "metadata": {},
   "outputs": [
    {
     "data": {
      "text/plain": [
       "array([0, 0, 1, ..., 0, 0, 0])"
      ]
     },
     "execution_count": 15,
     "metadata": {},
     "output_type": "execute_result"
    }
   ],
   "source": [
    "first_pred"
   ]
  },
  {
   "cell_type": "code",
   "execution_count": 16,
   "id": "a1d203eb",
   "metadata": {},
   "outputs": [],
   "source": [
    "#get encodings\n",
    "df_encodings = pd.read_csv('../data/data_binary.csv')\n",
    "y = df_encodings[\"two_class_target\"]\n",
    "le = LabelEncoder()\n",
    "y_train = le.fit(y)\n"
   ]
  },
  {
   "cell_type": "code",
   "execution_count": 17,
   "id": "cc2f2b3a",
   "metadata": {},
   "outputs": [],
   "source": [
    "df_ = df_val.copy()"
   ]
  },
  {
   "cell_type": "code",
   "execution_count": 18,
   "id": "7df96f75",
   "metadata": {},
   "outputs": [],
   "source": [
    "df_['binary'] = first_pred"
   ]
  },
  {
   "cell_type": "code",
   "execution_count": 19,
   "id": "7b4e1647",
   "metadata": {},
   "outputs": [],
   "source": [
    "df_['proba_binary'] = first_proba"
   ]
  },
  {
   "cell_type": "code",
   "execution_count": 20,
   "id": "9ed4367b",
   "metadata": {},
   "outputs": [],
   "source": [
    "df_['binary'] = le.inverse_transform(df_['binary'])"
   ]
  },
  {
   "cell_type": "code",
   "execution_count": 21,
   "id": "a2dd9c40",
   "metadata": {},
   "outputs": [
    {
     "data": {
      "text/html": [
       "<div>\n",
       "<style scoped>\n",
       "    .dataframe tbody tr th:only-of-type {\n",
       "        vertical-align: middle;\n",
       "    }\n",
       "\n",
       "    .dataframe tbody tr th {\n",
       "        vertical-align: top;\n",
       "    }\n",
       "\n",
       "    .dataframe thead th {\n",
       "        text-align: right;\n",
       "    }\n",
       "</style>\n",
       "<table border=\"1\" class=\"dataframe\">\n",
       "  <thead>\n",
       "    <tr style=\"text-align: right;\">\n",
       "      <th></th>\n",
       "      <th>dataset</th>\n",
       "      <th>text</th>\n",
       "      <th>logical_fallacies</th>\n",
       "      <th>source</th>\n",
       "      <th>two_class_target</th>\n",
       "      <th>binary</th>\n",
       "      <th>proba_binary</th>\n",
       "    </tr>\n",
       "  </thead>\n",
       "  <tbody>\n",
       "    <tr>\n",
       "      <th>0</th>\n",
       "      <td>3</td>\n",
       "      <td>Either the Prime Minister lets independent med...</td>\n",
       "      <td>false_dilemma</td>\n",
       "      <td>NaN</td>\n",
       "      <td>fallacy</td>\n",
       "      <td>fallacy</td>\n",
       "      <td>0.994316</td>\n",
       "    </tr>\n",
       "    <tr>\n",
       "      <th>1</th>\n",
       "      <td>3</td>\n",
       "      <td>Turkey really needs to get rid of Erdogan and ...</td>\n",
       "      <td>false_dilemma</td>\n",
       "      <td>NaN</td>\n",
       "      <td>fallacy</td>\n",
       "      <td>fallacy</td>\n",
       "      <td>0.978140</td>\n",
       "    </tr>\n",
       "    <tr>\n",
       "      <th>2</th>\n",
       "      <td>3</td>\n",
       "      <td>I understand Turkey s position here They can t...</td>\n",
       "      <td>false_dilemma</td>\n",
       "      <td>NaN</td>\n",
       "      <td>fallacy</td>\n",
       "      <td>none</td>\n",
       "      <td>0.975645</td>\n",
       "    </tr>\n",
       "    <tr>\n",
       "      <th>3</th>\n",
       "      <td>3</td>\n",
       "      <td>I don t know why the international community e...</td>\n",
       "      <td>false_dilemma</td>\n",
       "      <td>NaN</td>\n",
       "      <td>fallacy</td>\n",
       "      <td>none</td>\n",
       "      <td>0.981612</td>\n",
       "    </tr>\n",
       "    <tr>\n",
       "      <th>4</th>\n",
       "      <td>1</td>\n",
       "      <td>If it is very low for instance around one it m...</td>\n",
       "      <td>false_dilemma</td>\n",
       "      <td>http://business.financialpost.com/opinion/ross...</td>\n",
       "      <td>fallacy</td>\n",
       "      <td>none</td>\n",
       "      <td>0.929342</td>\n",
       "    </tr>\n",
       "  </tbody>\n",
       "</table>\n",
       "</div>"
      ],
      "text/plain": [
       "   dataset                                               text   \n",
       "0        3  Either the Prime Minister lets independent med...  \\\n",
       "1        3  Turkey really needs to get rid of Erdogan and ...   \n",
       "2        3  I understand Turkey s position here They can t...   \n",
       "3        3  I don t know why the international community e...   \n",
       "4        1  If it is very low for instance around one it m...   \n",
       "\n",
       "  logical_fallacies                                             source   \n",
       "0     false_dilemma                                                NaN  \\\n",
       "1     false_dilemma                                                NaN   \n",
       "2     false_dilemma                                                NaN   \n",
       "3     false_dilemma                                                NaN   \n",
       "4     false_dilemma  http://business.financialpost.com/opinion/ross...   \n",
       "\n",
       "  two_class_target   binary  proba_binary  \n",
       "0          fallacy  fallacy      0.994316  \n",
       "1          fallacy  fallacy      0.978140  \n",
       "2          fallacy     none      0.975645  \n",
       "3          fallacy     none      0.981612  \n",
       "4          fallacy     none      0.929342  "
      ]
     },
     "execution_count": 21,
     "metadata": {},
     "output_type": "execute_result"
    }
   ],
   "source": [
    "df_.head()"
   ]
  },
  {
   "cell_type": "markdown",
   "id": "54dcf223",
   "metadata": {},
   "source": [
    "#### Multiclass Model & Prediction"
   ]
  },
  {
   "cell_type": "code",
   "execution_count": 22,
   "id": "f99dcc3b",
   "metadata": {},
   "outputs": [],
   "source": [
    "#load Distilbert\n",
    "path_pt = \"../models/distilbert_multiclass_with_none/pytorch_model\"\n",
    "distilbert_multi = mlflow.pytorch.load_model(path_pt)\n"
   ]
  },
  {
   "cell_type": "code",
   "execution_count": 23,
   "id": "c6e09580",
   "metadata": {},
   "outputs": [],
   "source": [
    "base_probs = predict(distilbert_multi, X_prep, batch_size=2)"
   ]
  },
  {
   "cell_type": "code",
   "execution_count": 24,
   "id": "347a9771",
   "metadata": {},
   "outputs": [],
   "source": [
    "def get_first_prediction(proba):\n",
    "    preds = np.argmax(proba, axis=1)\n",
    "    #pred_int = int(pred[0]) --> had to remove this, otherwise it took the same prediction for all\n",
    "    probas = proba[np.arange(len(preds)), preds]\n",
    "    #proba_int = float(proba[0])\n",
    "    return preds, probas"
   ]
  },
  {
   "cell_type": "code",
   "execution_count": 25,
   "id": "cc8248fa",
   "metadata": {},
   "outputs": [],
   "source": [
    "first_pred, first_proba = get_first_prediction(base_probs)"
   ]
  },
  {
   "cell_type": "code",
   "execution_count": 26,
   "id": "e4d1827a",
   "metadata": {},
   "outputs": [
    {
     "data": {
      "text/plain": [
       "array([3, 3, 4, ..., 1, 5, 5])"
      ]
     },
     "execution_count": 26,
     "metadata": {},
     "output_type": "execute_result"
    }
   ],
   "source": [
    "first_pred"
   ]
  },
  {
   "cell_type": "code",
   "execution_count": 27,
   "id": "6fb6da03",
   "metadata": {},
   "outputs": [],
   "source": [
    "#get encodings\n",
    "df_encodings = pd.read_csv('../data/data_multiclass_with_none.csv')\n",
    "y = df_encodings[\"logical_fallacies\"]\n",
    "le = LabelEncoder()\n",
    "y_train = le.fit(y)\n"
   ]
  },
  {
   "cell_type": "code",
   "execution_count": 28,
   "id": "21b3a79b",
   "metadata": {},
   "outputs": [],
   "source": [
    "df_['multi'] = first_pred"
   ]
  },
  {
   "cell_type": "code",
   "execution_count": 29,
   "id": "1df9bf09",
   "metadata": {},
   "outputs": [],
   "source": [
    "df_['multi'] = le.inverse_transform(df_['multi'])"
   ]
  },
  {
   "cell_type": "code",
   "execution_count": 30,
   "id": "6ac9faf7",
   "metadata": {},
   "outputs": [],
   "source": [
    "df_['proba_multi'] = first_proba"
   ]
  },
  {
   "cell_type": "code",
   "execution_count": 31,
   "id": "33a7d791",
   "metadata": {},
   "outputs": [],
   "source": [
    "df_ = df_.drop('source', axis=1)"
   ]
  },
  {
   "cell_type": "code",
   "execution_count": 32,
   "id": "806ded0c",
   "metadata": {},
   "outputs": [
    {
     "data": {
      "text/html": [
       "<div>\n",
       "<style scoped>\n",
       "    .dataframe tbody tr th:only-of-type {\n",
       "        vertical-align: middle;\n",
       "    }\n",
       "\n",
       "    .dataframe tbody tr th {\n",
       "        vertical-align: top;\n",
       "    }\n",
       "\n",
       "    .dataframe thead th {\n",
       "        text-align: right;\n",
       "    }\n",
       "</style>\n",
       "<table border=\"1\" class=\"dataframe\">\n",
       "  <thead>\n",
       "    <tr style=\"text-align: right;\">\n",
       "      <th></th>\n",
       "      <th>dataset</th>\n",
       "      <th>text</th>\n",
       "      <th>logical_fallacies</th>\n",
       "      <th>two_class_target</th>\n",
       "      <th>binary</th>\n",
       "      <th>proba_binary</th>\n",
       "      <th>multi</th>\n",
       "      <th>proba_multi</th>\n",
       "    </tr>\n",
       "  </thead>\n",
       "  <tbody>\n",
       "    <tr>\n",
       "      <th>0</th>\n",
       "      <td>3</td>\n",
       "      <td>Either the Prime Minister lets independent med...</td>\n",
       "      <td>false_dilemma</td>\n",
       "      <td>fallacy</td>\n",
       "      <td>fallacy</td>\n",
       "      <td>0.994316</td>\n",
       "      <td>false_dilemma</td>\n",
       "      <td>0.986405</td>\n",
       "    </tr>\n",
       "    <tr>\n",
       "      <th>1</th>\n",
       "      <td>3</td>\n",
       "      <td>Turkey really needs to get rid of Erdogan and ...</td>\n",
       "      <td>false_dilemma</td>\n",
       "      <td>fallacy</td>\n",
       "      <td>fallacy</td>\n",
       "      <td>0.978140</td>\n",
       "      <td>false_dilemma</td>\n",
       "      <td>0.982732</td>\n",
       "    </tr>\n",
       "    <tr>\n",
       "      <th>2</th>\n",
       "      <td>3</td>\n",
       "      <td>I understand Turkey s position here They can t...</td>\n",
       "      <td>false_dilemma</td>\n",
       "      <td>fallacy</td>\n",
       "      <td>none</td>\n",
       "      <td>0.975645</td>\n",
       "      <td>none</td>\n",
       "      <td>0.682201</td>\n",
       "    </tr>\n",
       "    <tr>\n",
       "      <th>3</th>\n",
       "      <td>3</td>\n",
       "      <td>I don t know why the international community e...</td>\n",
       "      <td>false_dilemma</td>\n",
       "      <td>fallacy</td>\n",
       "      <td>none</td>\n",
       "      <td>0.981612</td>\n",
       "      <td>none</td>\n",
       "      <td>0.891897</td>\n",
       "    </tr>\n",
       "    <tr>\n",
       "      <th>4</th>\n",
       "      <td>1</td>\n",
       "      <td>If it is very low for instance around one it m...</td>\n",
       "      <td>false_dilemma</td>\n",
       "      <td>fallacy</td>\n",
       "      <td>none</td>\n",
       "      <td>0.929342</td>\n",
       "      <td>none</td>\n",
       "      <td>0.497294</td>\n",
       "    </tr>\n",
       "  </tbody>\n",
       "</table>\n",
       "</div>"
      ],
      "text/plain": [
       "   dataset                                               text   \n",
       "0        3  Either the Prime Minister lets independent med...  \\\n",
       "1        3  Turkey really needs to get rid of Erdogan and ...   \n",
       "2        3  I understand Turkey s position here They can t...   \n",
       "3        3  I don t know why the international community e...   \n",
       "4        1  If it is very low for instance around one it m...   \n",
       "\n",
       "  logical_fallacies two_class_target   binary  proba_binary          multi   \n",
       "0     false_dilemma          fallacy  fallacy      0.994316  false_dilemma  \\\n",
       "1     false_dilemma          fallacy  fallacy      0.978140  false_dilemma   \n",
       "2     false_dilemma          fallacy     none      0.975645           none   \n",
       "3     false_dilemma          fallacy     none      0.981612           none   \n",
       "4     false_dilemma          fallacy     none      0.929342           none   \n",
       "\n",
       "   proba_multi  \n",
       "0     0.986405  \n",
       "1     0.982732  \n",
       "2     0.682201  \n",
       "3     0.891897  \n",
       "4     0.497294  "
      ]
     },
     "execution_count": 32,
     "metadata": {},
     "output_type": "execute_result"
    }
   ],
   "source": [
    "df_.head()"
   ]
  },
  {
   "cell_type": "code",
   "execution_count": 36,
   "id": "7335a40e",
   "metadata": {},
   "outputs": [],
   "source": [
    "df_['binary_eval'] = df_['two_class_target'] == df_['binary']"
   ]
  },
  {
   "cell_type": "code",
   "execution_count": 37,
   "id": "b93b03cd",
   "metadata": {},
   "outputs": [],
   "source": [
    "df_['multi_eval'] = df_['logical_fallacies'] == df_['multi']"
   ]
  },
  {
   "cell_type": "code",
   "execution_count": 57,
   "id": "daa581a7",
   "metadata": {},
   "outputs": [],
   "source": [
    "def getAgreement(binary, multi):\n",
    "    eval = []\n",
    "    for i, value in enumerate(binary):\n",
    "        if (binary[i] == 'fallacy'):\n",
    "            if (multi[i]!= 'none'):\n",
    "                eval.append(True)\n",
    "            else: eval.append(False)\n",
    "        else:\n",
    "            if(multi[i] == 'none'):\n",
    "                eval.append(True)\n",
    "            else: eval.append(False)\n",
    "    return eval"
   ]
  },
  {
   "cell_type": "code",
   "execution_count": 60,
   "id": "ce85df33",
   "metadata": {},
   "outputs": [],
   "source": [
    "df_['agree']= getAgreement(df_['binary'], df_['multi'])"
   ]
  },
  {
   "cell_type": "code",
   "execution_count": null,
   "id": "6e4dec92",
   "metadata": {},
   "outputs": [],
   "source": [
    "### Get Values which are wrongly predicted, but both (binary and multi) gave a wrong prediction\n",
    "### multi_eval == false\n",
    "### agree == True"
   ]
  },
  {
   "cell_type": "code",
   "execution_count": 71,
   "id": "d9beee22",
   "metadata": {},
   "outputs": [
    {
     "data": {
      "text/html": [
       "<div>\n",
       "<style scoped>\n",
       "    .dataframe tbody tr th:only-of-type {\n",
       "        vertical-align: middle;\n",
       "    }\n",
       "\n",
       "    .dataframe tbody tr th {\n",
       "        vertical-align: top;\n",
       "    }\n",
       "\n",
       "    .dataframe thead th {\n",
       "        text-align: right;\n",
       "    }\n",
       "</style>\n",
       "<table border=\"1\" class=\"dataframe\">\n",
       "  <thead>\n",
       "    <tr style=\"text-align: right;\">\n",
       "      <th></th>\n",
       "      <th>dataset</th>\n",
       "      <th>text</th>\n",
       "      <th>logical_fallacies</th>\n",
       "      <th>two_class_target</th>\n",
       "      <th>binary</th>\n",
       "      <th>proba_binary</th>\n",
       "      <th>multi</th>\n",
       "      <th>proba_multi</th>\n",
       "      <th>binary_eval</th>\n",
       "      <th>multi_eval</th>\n",
       "      <th>agree</th>\n",
       "    </tr>\n",
       "  </thead>\n",
       "  <tbody>\n",
       "    <tr>\n",
       "      <th>2</th>\n",
       "      <td>3</td>\n",
       "      <td>I understand Turkey s position here They can t...</td>\n",
       "      <td>false_dilemma</td>\n",
       "      <td>fallacy</td>\n",
       "      <td>none</td>\n",
       "      <td>0.975645</td>\n",
       "      <td>none</td>\n",
       "      <td>0.682201</td>\n",
       "      <td>False</td>\n",
       "      <td>False</td>\n",
       "      <td>True</td>\n",
       "    </tr>\n",
       "    <tr>\n",
       "      <th>478</th>\n",
       "      <td>8</td>\n",
       "      <td>Testing on animals could save the life of you ...</td>\n",
       "      <td>appeal_to_emotion</td>\n",
       "      <td>fallacy</td>\n",
       "      <td>none</td>\n",
       "      <td>0.605331</td>\n",
       "      <td>none</td>\n",
       "      <td>0.676041</td>\n",
       "      <td>False</td>\n",
       "      <td>False</td>\n",
       "      <td>True</td>\n",
       "    </tr>\n",
       "    <tr>\n",
       "      <th>476</th>\n",
       "      <td>4</td>\n",
       "      <td>Covid 19 is a scam It s the flu and hydroxychl...</td>\n",
       "      <td>appeal_to_emotion</td>\n",
       "      <td>fallacy</td>\n",
       "      <td>none</td>\n",
       "      <td>0.933915</td>\n",
       "      <td>none</td>\n",
       "      <td>0.850515</td>\n",
       "      <td>False</td>\n",
       "      <td>False</td>\n",
       "      <td>True</td>\n",
       "    </tr>\n",
       "    <tr>\n",
       "      <th>800</th>\n",
       "      <td>8</td>\n",
       "      <td>Letting everyone vote is a bad idea</td>\n",
       "      <td>none</td>\n",
       "      <td>none</td>\n",
       "      <td>fallacy</td>\n",
       "      <td>0.993612</td>\n",
       "      <td>appeal_to_emotion</td>\n",
       "      <td>0.823450</td>\n",
       "      <td>False</td>\n",
       "      <td>False</td>\n",
       "      <td>True</td>\n",
       "    </tr>\n",
       "    <tr>\n",
       "      <th>472</th>\n",
       "      <td>4</td>\n",
       "      <td>Why don t we see a scientific natural immunity...</td>\n",
       "      <td>appeal_to_emotion</td>\n",
       "      <td>fallacy</td>\n",
       "      <td>none</td>\n",
       "      <td>0.964717</td>\n",
       "      <td>none</td>\n",
       "      <td>0.748347</td>\n",
       "      <td>False</td>\n",
       "      <td>False</td>\n",
       "      <td>True</td>\n",
       "    </tr>\n",
       "    <tr>\n",
       "      <th>...</th>\n",
       "      <td>...</td>\n",
       "      <td>...</td>\n",
       "      <td>...</td>\n",
       "      <td>...</td>\n",
       "      <td>...</td>\n",
       "      <td>...</td>\n",
       "      <td>...</td>\n",
       "      <td>...</td>\n",
       "      <td>...</td>\n",
       "      <td>...</td>\n",
       "      <td>...</td>\n",
       "    </tr>\n",
       "    <tr>\n",
       "      <th>573</th>\n",
       "      <td>2</td>\n",
       "      <td>No one should believe our dear lady Senator wh...</td>\n",
       "      <td>ad_hominem</td>\n",
       "      <td>fallacy</td>\n",
       "      <td>fallacy</td>\n",
       "      <td>0.996901</td>\n",
       "      <td>appeal_to_emotion</td>\n",
       "      <td>0.588560</td>\n",
       "      <td>True</td>\n",
       "      <td>False</td>\n",
       "      <td>True</td>\n",
       "    </tr>\n",
       "    <tr>\n",
       "      <th>578</th>\n",
       "      <td>8</td>\n",
       "      <td>If you are dumb enough to want to kill yoursel...</td>\n",
       "      <td>ad_hominem</td>\n",
       "      <td>fallacy</td>\n",
       "      <td>fallacy</td>\n",
       "      <td>0.995127</td>\n",
       "      <td>false_dilemma</td>\n",
       "      <td>0.874794</td>\n",
       "      <td>True</td>\n",
       "      <td>False</td>\n",
       "      <td>True</td>\n",
       "    </tr>\n",
       "    <tr>\n",
       "      <th>579</th>\n",
       "      <td>2</td>\n",
       "      <td>Primitive people believed in gods to explain n...</td>\n",
       "      <td>ad_hominem</td>\n",
       "      <td>fallacy</td>\n",
       "      <td>fallacy</td>\n",
       "      <td>0.985629</td>\n",
       "      <td>appeal_to_emotion</td>\n",
       "      <td>0.495045</td>\n",
       "      <td>True</td>\n",
       "      <td>False</td>\n",
       "      <td>True</td>\n",
       "    </tr>\n",
       "    <tr>\n",
       "      <th>536</th>\n",
       "      <td>9</td>\n",
       "      <td>Now as to why I should be and he shouldn t be ...</td>\n",
       "      <td>ad_hominem</td>\n",
       "      <td>fallacy</td>\n",
       "      <td>fallacy</td>\n",
       "      <td>0.994771</td>\n",
       "      <td>appeal_to_authority</td>\n",
       "      <td>0.952265</td>\n",
       "      <td>True</td>\n",
       "      <td>False</td>\n",
       "      <td>True</td>\n",
       "    </tr>\n",
       "    <tr>\n",
       "      <th>1347</th>\n",
       "      <td>9</td>\n",
       "      <td>Then he goes on to say that he s going to chan...</td>\n",
       "      <td>slippery_slope</td>\n",
       "      <td>fallacy</td>\n",
       "      <td>fallacy</td>\n",
       "      <td>0.996173</td>\n",
       "      <td>appeal_to_authority</td>\n",
       "      <td>0.829658</td>\n",
       "      <td>True</td>\n",
       "      <td>False</td>\n",
       "      <td>True</td>\n",
       "    </tr>\n",
       "  </tbody>\n",
       "</table>\n",
       "<p>300 rows × 11 columns</p>\n",
       "</div>"
      ],
      "text/plain": [
       "      dataset                                               text   \n",
       "2           3  I understand Turkey s position here They can t...  \\\n",
       "478         8  Testing on animals could save the life of you ...   \n",
       "476         4  Covid 19 is a scam It s the flu and hydroxychl...   \n",
       "800         8                Letting everyone vote is a bad idea   \n",
       "472         4  Why don t we see a scientific natural immunity...   \n",
       "...       ...                                                ...   \n",
       "573         2  No one should believe our dear lady Senator wh...   \n",
       "578         8  If you are dumb enough to want to kill yoursel...   \n",
       "579         2  Primitive people believed in gods to explain n...   \n",
       "536         9  Now as to why I should be and he shouldn t be ...   \n",
       "1347        9  Then he goes on to say that he s going to chan...   \n",
       "\n",
       "      logical_fallacies two_class_target   binary  proba_binary   \n",
       "2         false_dilemma          fallacy     none      0.975645  \\\n",
       "478   appeal_to_emotion          fallacy     none      0.605331   \n",
       "476   appeal_to_emotion          fallacy     none      0.933915   \n",
       "800                none             none  fallacy      0.993612   \n",
       "472   appeal_to_emotion          fallacy     none      0.964717   \n",
       "...                 ...              ...      ...           ...   \n",
       "573          ad_hominem          fallacy  fallacy      0.996901   \n",
       "578          ad_hominem          fallacy  fallacy      0.995127   \n",
       "579          ad_hominem          fallacy  fallacy      0.985629   \n",
       "536          ad_hominem          fallacy  fallacy      0.994771   \n",
       "1347     slippery_slope          fallacy  fallacy      0.996173   \n",
       "\n",
       "                    multi  proba_multi  binary_eval  multi_eval  agree  \n",
       "2                    none     0.682201        False       False   True  \n",
       "478                  none     0.676041        False       False   True  \n",
       "476                  none     0.850515        False       False   True  \n",
       "800     appeal_to_emotion     0.823450        False       False   True  \n",
       "472                  none     0.748347        False       False   True  \n",
       "...                   ...          ...          ...         ...    ...  \n",
       "573     appeal_to_emotion     0.588560         True       False   True  \n",
       "578         false_dilemma     0.874794         True       False   True  \n",
       "579     appeal_to_emotion     0.495045         True       False   True  \n",
       "536   appeal_to_authority     0.952265         True       False   True  \n",
       "1347  appeal_to_authority     0.829658         True       False   True  \n",
       "\n",
       "[300 rows x 11 columns]"
      ]
     },
     "execution_count": 71,
     "metadata": {},
     "output_type": "execute_result"
    }
   ],
   "source": [
    "df_wrong = df_[(df_['multi_eval'] == False)&(df_['agree']==True)]\n",
    "df_wrong.sort_values(by='binary_eval')"
   ]
  },
  {
   "cell_type": "code",
   "execution_count": 73,
   "id": "33cb5388",
   "metadata": {},
   "outputs": [
    {
     "data": {
      "text/plain": [
       "logical_fallacies    binary   multi                agree\n",
       "ad_hominem           fallacy  appeal_to_emotion    True     37\n",
       "                              appeal_to_authority  True     27\n",
       "                     none     none                 True     18\n",
       "                     fallacy  false_dilemma        True      6\n",
       "                              slippery_slope       True      2\n",
       "appeal_to_authority  none     none                 True     22\n",
       "                     fallacy  appeal_to_emotion    True     12\n",
       "                              slippery_slope       True      9\n",
       "                              false_dilemma        True      5\n",
       "                              ad_hominem           True      3\n",
       "appeal_to_emotion    none     none                 True     17\n",
       "                     fallacy  ad_hominem           True     16\n",
       "                              slippery_slope       True     11\n",
       "                              appeal_to_authority  True      8\n",
       "                              false_dilemma        True      7\n",
       "false_dilemma        none     none                 True     34\n",
       "                     fallacy  slippery_slope       True      6\n",
       "                              appeal_to_authority  True      5\n",
       "                              appeal_to_emotion    True      4\n",
       "                              ad_hominem           True      1\n",
       "none                 fallacy  appeal_to_emotion    True     16\n",
       "                              slippery_slope       True     11\n",
       "                              false_dilemma        True      4\n",
       "                              appeal_to_authority  True      3\n",
       "                              ad_hominem           True      2\n",
       "slippery_slope       fallacy  false_dilemma        True      4\n",
       "                     none     none                 True      4\n",
       "                     fallacy  appeal_to_authority  True      3\n",
       "                              appeal_to_emotion    True      3\n",
       "Name: count, dtype: int64"
      ]
     },
     "execution_count": 73,
     "metadata": {},
     "output_type": "execute_result"
    }
   ],
   "source": [
    "df_wrong.groupby('logical_fallacies')[['logical_fallacies', 'binary','multi', 'agree'] ].value_counts()"
   ]
  },
  {
   "cell_type": "code",
   "execution_count": 74,
   "id": "3e2cfe03",
   "metadata": {},
   "outputs": [
    {
     "data": {
      "text/html": [
       "<div>\n",
       "<style scoped>\n",
       "    .dataframe tbody tr th:only-of-type {\n",
       "        vertical-align: middle;\n",
       "    }\n",
       "\n",
       "    .dataframe tbody tr th {\n",
       "        vertical-align: top;\n",
       "    }\n",
       "\n",
       "    .dataframe thead th {\n",
       "        text-align: right;\n",
       "    }\n",
       "</style>\n",
       "<table border=\"1\" class=\"dataframe\">\n",
       "  <thead>\n",
       "    <tr style=\"text-align: right;\">\n",
       "      <th></th>\n",
       "      <th>dataset</th>\n",
       "      <th>text</th>\n",
       "      <th>logical_fallacies</th>\n",
       "      <th>two_class_target</th>\n",
       "      <th>binary</th>\n",
       "      <th>proba_binary</th>\n",
       "      <th>multi</th>\n",
       "      <th>proba_multi</th>\n",
       "      <th>binary_eval</th>\n",
       "      <th>multi_eval</th>\n",
       "      <th>agree</th>\n",
       "    </tr>\n",
       "  </thead>\n",
       "  <tbody>\n",
       "    <tr>\n",
       "      <th>0</th>\n",
       "      <td>3</td>\n",
       "      <td>Either the Prime Minister lets independent med...</td>\n",
       "      <td>false_dilemma</td>\n",
       "      <td>fallacy</td>\n",
       "      <td>fallacy</td>\n",
       "      <td>0.994316</td>\n",
       "      <td>false_dilemma</td>\n",
       "      <td>0.986405</td>\n",
       "      <td>True</td>\n",
       "      <td>True</td>\n",
       "      <td>True</td>\n",
       "    </tr>\n",
       "    <tr>\n",
       "      <th>1</th>\n",
       "      <td>3</td>\n",
       "      <td>Turkey really needs to get rid of Erdogan and ...</td>\n",
       "      <td>false_dilemma</td>\n",
       "      <td>fallacy</td>\n",
       "      <td>fallacy</td>\n",
       "      <td>0.978140</td>\n",
       "      <td>false_dilemma</td>\n",
       "      <td>0.982732</td>\n",
       "      <td>True</td>\n",
       "      <td>True</td>\n",
       "      <td>True</td>\n",
       "    </tr>\n",
       "    <tr>\n",
       "      <th>2</th>\n",
       "      <td>3</td>\n",
       "      <td>I understand Turkey s position here They can t...</td>\n",
       "      <td>false_dilemma</td>\n",
       "      <td>fallacy</td>\n",
       "      <td>none</td>\n",
       "      <td>0.975645</td>\n",
       "      <td>none</td>\n",
       "      <td>0.682201</td>\n",
       "      <td>False</td>\n",
       "      <td>False</td>\n",
       "      <td>True</td>\n",
       "    </tr>\n",
       "    <tr>\n",
       "      <th>3</th>\n",
       "      <td>3</td>\n",
       "      <td>I don t know why the international community e...</td>\n",
       "      <td>false_dilemma</td>\n",
       "      <td>fallacy</td>\n",
       "      <td>none</td>\n",
       "      <td>0.981612</td>\n",
       "      <td>none</td>\n",
       "      <td>0.891897</td>\n",
       "      <td>False</td>\n",
       "      <td>False</td>\n",
       "      <td>True</td>\n",
       "    </tr>\n",
       "    <tr>\n",
       "      <th>4</th>\n",
       "      <td>1</td>\n",
       "      <td>If it is very low for instance around one it m...</td>\n",
       "      <td>false_dilemma</td>\n",
       "      <td>fallacy</td>\n",
       "      <td>none</td>\n",
       "      <td>0.929342</td>\n",
       "      <td>none</td>\n",
       "      <td>0.497294</td>\n",
       "      <td>False</td>\n",
       "      <td>False</td>\n",
       "      <td>True</td>\n",
       "    </tr>\n",
       "  </tbody>\n",
       "</table>\n",
       "</div>"
      ],
      "text/plain": [
       "   dataset                                               text   \n",
       "0        3  Either the Prime Minister lets independent med...  \\\n",
       "1        3  Turkey really needs to get rid of Erdogan and ...   \n",
       "2        3  I understand Turkey s position here They can t...   \n",
       "3        3  I don t know why the international community e...   \n",
       "4        1  If it is very low for instance around one it m...   \n",
       "\n",
       "  logical_fallacies two_class_target   binary  proba_binary          multi   \n",
       "0     false_dilemma          fallacy  fallacy      0.994316  false_dilemma  \\\n",
       "1     false_dilemma          fallacy  fallacy      0.978140  false_dilemma   \n",
       "2     false_dilemma          fallacy     none      0.975645           none   \n",
       "3     false_dilemma          fallacy     none      0.981612           none   \n",
       "4     false_dilemma          fallacy     none      0.929342           none   \n",
       "\n",
       "   proba_multi  binary_eval  multi_eval  agree  \n",
       "0     0.986405         True        True   True  \n",
       "1     0.982732         True        True   True  \n",
       "2     0.682201        False       False   True  \n",
       "3     0.891897        False       False   True  \n",
       "4     0.497294        False       False   True  "
      ]
     },
     "execution_count": 74,
     "metadata": {},
     "output_type": "execute_result"
    }
   ],
   "source": [
    "df_.head()"
   ]
  },
  {
   "cell_type": "code",
   "execution_count": 77,
   "id": "56111936",
   "metadata": {},
   "outputs": [],
   "source": [
    "df_one_right = df_[df_['agree'] == False]\n",
    "df_one_right = df_one_right[(df_one_right['multi_eval']==True) | (df_one_right['binary_eval']==True)]"
   ]
  },
  {
   "cell_type": "code",
   "execution_count": 78,
   "id": "5f6d4775",
   "metadata": {},
   "outputs": [
    {
     "data": {
      "text/plain": [
       "logical_fallacies    binary   multi                agree\n",
       "ad_hominem           fallacy  none                 False    14\n",
       "                     none     ad_hominem           False     8\n",
       "appeal_to_authority  none     appeal_to_authority  False    46\n",
       "                     fallacy  none                 False    16\n",
       "appeal_to_emotion    fallacy  none                 False    14\n",
       "                     none     appeal_to_emotion    False     6\n",
       "false_dilemma        none     false_dilemma        False    38\n",
       "                     fallacy  none                 False     4\n",
       "none                 none     slippery_slope       False    28\n",
       "                              appeal_to_emotion    False    13\n",
       "                              false_dilemma        False    12\n",
       "                     fallacy  none                 False    11\n",
       "                     none     appeal_to_authority  False     8\n",
       "                              ad_hominem           False     4\n",
       "slippery_slope       none     slippery_slope       False    18\n",
       "Name: count, dtype: int64"
      ]
     },
     "execution_count": 78,
     "metadata": {},
     "output_type": "execute_result"
    }
   ],
   "source": [
    "df_one_right.groupby('logical_fallacies')[['logical_fallacies', 'binary','multi', 'agree'] ].value_counts()"
   ]
  },
  {
   "cell_type": "markdown",
   "id": "472b507e",
   "metadata": {},
   "source": [
    "df_['agree'] == False]\n",
    "df_one_right = df_one_right[(df_one_right['multi_eval']==True) | (df_one_right['binary_eval']==True)]"
   ]
  },
  {
   "cell_type": "code",
   "execution_count": null,
   "id": "b6ab6875",
   "metadata": {},
   "outputs": [],
   "source": [
    "def getWeights(df):\n",
    "    weightedResults=[]\n",
    "    for i, value in enumerate(df):\n",
    "        if (df['agree']==False):\n",
    "            if (df.loc[i,'multi'] == 'appeal_to_authority') |(df.loc[i,'multi'] == 'false_dilemma'):\n",
    "                weightedResults.append(df.loc[i,'multi'])   "
   ]
  },
  {
   "cell_type": "markdown",
   "id": "be3f82ef",
   "metadata": {},
   "source": [
    "#### Evaluation"
   ]
  },
  {
   "cell_type": "code",
   "execution_count": 33,
   "id": "052b99cf",
   "metadata": {},
   "outputs": [],
   "source": [
    "def log_metrics(cr, split):\n",
    "    for key, value in cr.items():\n",
    "        if (key == \"accuracy\"):\n",
    "                print(f\"{split}_{key}\", round(value,2))\n",
    "                # mlflow.log_metric(f\"{split}_{key}\", value)\n",
    "        else:\n",
    "            for metric in value:\n",
    "                # mlflow.log_metric(f\"{split}_{key}_{metric}\", value.get(metric))\n",
    "                print(f\"{split}_{key}_{metric}\", round(value.get(metric),2))"
   ]
  },
  {
   "cell_type": "code",
   "execution_count": 80,
   "id": "27e0af46",
   "metadata": {},
   "outputs": [
    {
     "data": {
      "text/html": [
       "<div>\n",
       "<style scoped>\n",
       "    .dataframe tbody tr th:only-of-type {\n",
       "        vertical-align: middle;\n",
       "    }\n",
       "\n",
       "    .dataframe tbody tr th {\n",
       "        vertical-align: top;\n",
       "    }\n",
       "\n",
       "    .dataframe thead th {\n",
       "        text-align: right;\n",
       "    }\n",
       "</style>\n",
       "<table border=\"1\" class=\"dataframe\">\n",
       "  <thead>\n",
       "    <tr style=\"text-align: right;\">\n",
       "      <th></th>\n",
       "      <th>dataset</th>\n",
       "      <th>text</th>\n",
       "      <th>logical_fallacies</th>\n",
       "      <th>two_class_target</th>\n",
       "      <th>binary</th>\n",
       "      <th>proba_binary</th>\n",
       "      <th>multi</th>\n",
       "      <th>proba_multi</th>\n",
       "      <th>binary_eval</th>\n",
       "      <th>multi_eval</th>\n",
       "      <th>agree</th>\n",
       "    </tr>\n",
       "  </thead>\n",
       "  <tbody>\n",
       "    <tr>\n",
       "      <th>0</th>\n",
       "      <td>3</td>\n",
       "      <td>Either the Prime Minister lets independent med...</td>\n",
       "      <td>false_dilemma</td>\n",
       "      <td>fallacy</td>\n",
       "      <td>fallacy</td>\n",
       "      <td>0.994316</td>\n",
       "      <td>false_dilemma</td>\n",
       "      <td>0.986405</td>\n",
       "      <td>True</td>\n",
       "      <td>True</td>\n",
       "      <td>True</td>\n",
       "    </tr>\n",
       "    <tr>\n",
       "      <th>1</th>\n",
       "      <td>3</td>\n",
       "      <td>Turkey really needs to get rid of Erdogan and ...</td>\n",
       "      <td>false_dilemma</td>\n",
       "      <td>fallacy</td>\n",
       "      <td>fallacy</td>\n",
       "      <td>0.978140</td>\n",
       "      <td>false_dilemma</td>\n",
       "      <td>0.982732</td>\n",
       "      <td>True</td>\n",
       "      <td>True</td>\n",
       "      <td>True</td>\n",
       "    </tr>\n",
       "    <tr>\n",
       "      <th>2</th>\n",
       "      <td>3</td>\n",
       "      <td>I understand Turkey s position here They can t...</td>\n",
       "      <td>false_dilemma</td>\n",
       "      <td>fallacy</td>\n",
       "      <td>none</td>\n",
       "      <td>0.975645</td>\n",
       "      <td>none</td>\n",
       "      <td>0.682201</td>\n",
       "      <td>False</td>\n",
       "      <td>False</td>\n",
       "      <td>True</td>\n",
       "    </tr>\n",
       "    <tr>\n",
       "      <th>3</th>\n",
       "      <td>3</td>\n",
       "      <td>I don t know why the international community e...</td>\n",
       "      <td>false_dilemma</td>\n",
       "      <td>fallacy</td>\n",
       "      <td>none</td>\n",
       "      <td>0.981612</td>\n",
       "      <td>none</td>\n",
       "      <td>0.891897</td>\n",
       "      <td>False</td>\n",
       "      <td>False</td>\n",
       "      <td>True</td>\n",
       "    </tr>\n",
       "    <tr>\n",
       "      <th>4</th>\n",
       "      <td>1</td>\n",
       "      <td>If it is very low for instance around one it m...</td>\n",
       "      <td>false_dilemma</td>\n",
       "      <td>fallacy</td>\n",
       "      <td>none</td>\n",
       "      <td>0.929342</td>\n",
       "      <td>none</td>\n",
       "      <td>0.497294</td>\n",
       "      <td>False</td>\n",
       "      <td>False</td>\n",
       "      <td>True</td>\n",
       "    </tr>\n",
       "  </tbody>\n",
       "</table>\n",
       "</div>"
      ],
      "text/plain": [
       "   dataset                                               text   \n",
       "0        3  Either the Prime Minister lets independent med...  \\\n",
       "1        3  Turkey really needs to get rid of Erdogan and ...   \n",
       "2        3  I understand Turkey s position here They can t...   \n",
       "3        3  I don t know why the international community e...   \n",
       "4        1  If it is very low for instance around one it m...   \n",
       "\n",
       "  logical_fallacies two_class_target   binary  proba_binary          multi   \n",
       "0     false_dilemma          fallacy  fallacy      0.994316  false_dilemma  \\\n",
       "1     false_dilemma          fallacy  fallacy      0.978140  false_dilemma   \n",
       "2     false_dilemma          fallacy     none      0.975645           none   \n",
       "3     false_dilemma          fallacy     none      0.981612           none   \n",
       "4     false_dilemma          fallacy     none      0.929342           none   \n",
       "\n",
       "   proba_multi  binary_eval  multi_eval  agree  \n",
       "0     0.986405         True        True   True  \n",
       "1     0.982732         True        True   True  \n",
       "2     0.682201        False       False   True  \n",
       "3     0.891897        False       False   True  \n",
       "4     0.497294        False       False   True  "
      ]
     },
     "execution_count": 80,
     "metadata": {},
     "output_type": "execute_result"
    }
   ],
   "source": [
    "df_.head()"
   ]
  },
  {
   "cell_type": "code",
   "execution_count": null,
   "id": "c93fe49c",
   "metadata": {},
   "outputs": [
    {
     "name": "stderr",
     "output_type": "stream",
     "text": [
      "INFO:root:get validation metrics for binary & multiclass distilbert\n",
      "INFO:basic_functions:classification_report\n",
      "INFO:basic_functions:confusion_matrix\n",
      "INFO:basic_functions:heatmap\n"
     ]
    },
    {
     "name": "stdout",
     "output_type": "stream",
     "text": [
      "              precision    recall  f1-score   support\n",
      "\n",
      "     fallacy       0.95      0.78      0.85      1100\n",
      "        none       0.45      0.81      0.58       250\n",
      "\n",
      "    accuracy                           0.78      1350\n",
      "   macro avg       0.70      0.80      0.72      1350\n",
      "weighted avg       0.86      0.78      0.80      1350\n",
      "\n",
      "[[856 244]\n",
      " [ 47 203]]\n"
     ]
    },
    {
     "data": {
      "image/png": "[encoded data removed]",
      "text/plain": [
       "<Figure size 800x600 with 2 Axes>"
      ]
     },
     "metadata": {},
     "output_type": "display_data"
    },
    {
     "name": "stdout",
     "output_type": "stream",
     "text": [
      "val_fallacy_precision 0.95\n",
      "val_fallacy_recall 0.78\n",
      "val_fallacy_f1-score 0.85\n",
      "val_fallacy_support 1100\n",
      "val_none_precision 0.45\n",
      "val_none_recall 0.81\n",
      "val_none_f1-score 0.58\n",
      "val_none_support 250\n",
      "val_accuracy 0.78\n",
      "val_macro avg_precision 0.7\n",
      "val_macro avg_recall 0.8\n",
      "val_macro avg_f1-score 0.72\n",
      "val_macro avg_support 1350\n",
      "val_weighted avg_precision 0.86\n",
      "val_weighted avg_recall 0.78\n",
      "val_weighted avg_f1-score 0.8\n",
      "val_weighted avg_support 1350\n"
     ]
    }
   ],
   "source": [
    "logger.info('get validation metrics for binary distilbert on validation set')\n",
    "classification_report_one_train = get_metrics(df_['two_class_target'], df_['binary'])\n",
    "log_metrics(classification_report_one_train, 'val')"
   ]
  },
  {
   "cell_type": "code",
   "execution_count": null,
   "id": "93f815eb",
   "metadata": {},
   "outputs": [
    {
     "name": "stderr",
     "output_type": "stream",
     "text": [
      "INFO:root:get validation metrics for binary & multiclass distilbert\n",
      "INFO:basic_functions:classification_report\n",
      "INFO:basic_functions:confusion_matrix\n",
      "INFO:basic_functions:heatmap\n"
     ]
    },
    {
     "name": "stdout",
     "output_type": "stream",
     "text": [
      "                     precision    recall  f1-score   support\n",
      "\n",
      "         ad_hominem       0.82      0.55      0.66       250\n",
      "appeal_to_authority       0.75      0.70      0.73       250\n",
      "  appeal_to_emotion       0.66      0.68      0.67       250\n",
      "      false_dilemma       0.80      0.75      0.78       250\n",
      "               none       0.51      0.60      0.55       250\n",
      "     slippery_slope       0.52      0.84      0.64       100\n",
      "\n",
      "           accuracy                           0.67      1350\n",
      "          macro avg       0.68      0.69      0.67      1350\n",
      "       weighted avg       0.69      0.67      0.67      1350\n",
      "\n",
      "[[137  31  39   9  32   2]\n",
      " [  3 176  12   8  38  13]\n",
      " [ 19   9 170   8  31  13]\n",
      " [  3   5   4 188  38  12]\n",
      " [  6  11  29  16 149  39]\n",
      " [  0   3   3   6   4  84]]\n"
     ]
    },
    {
     "data": {
      "image/png": "[encoded data removed]",
      "text/plain": [
       "<Figure size 800x600 with 2 Axes>"
      ]
     },
     "metadata": {},
     "output_type": "display_data"
    },
    {
     "name": "stdout",
     "output_type": "stream",
     "text": [
      "val_ad_hominem_precision 0.82\n",
      "val_ad_hominem_recall 0.55\n",
      "val_ad_hominem_f1-score 0.66\n",
      "val_ad_hominem_support 250\n",
      "val_appeal_to_authority_precision 0.75\n",
      "val_appeal_to_authority_recall 0.7\n",
      "val_appeal_to_authority_f1-score 0.73\n",
      "val_appeal_to_authority_support 250\n",
      "val_appeal_to_emotion_precision 0.66\n",
      "val_appeal_to_emotion_recall 0.68\n",
      "val_appeal_to_emotion_f1-score 0.67\n",
      "val_appeal_to_emotion_support 250\n",
      "val_false_dilemma_precision 0.8\n",
      "val_false_dilemma_recall 0.75\n",
      "val_false_dilemma_f1-score 0.78\n",
      "val_false_dilemma_support 250\n",
      "val_none_precision 0.51\n",
      "val_none_recall 0.6\n",
      "val_none_f1-score 0.55\n",
      "val_none_support 250\n",
      "val_slippery_slope_precision 0.52\n",
      "val_slippery_slope_recall 0.84\n",
      "val_slippery_slope_f1-score 0.64\n",
      "val_slippery_slope_support 100\n",
      "val_accuracy 0.67\n",
      "val_macro avg_precision 0.68\n",
      "val_macro avg_recall 0.69\n",
      "val_macro avg_f1-score 0.67\n",
      "val_macro avg_support 1350\n",
      "val_weighted avg_precision 0.69\n",
      "val_weighted avg_recall 0.67\n",
      "val_weighted avg_f1-score 0.67\n",
      "val_weighted avg_support 1350\n"
     ]
    }
   ],
   "source": [
    "logger.info('get validation metrics for multiclass distilbert on validation set')\n",
    "classification_report_one_train = get_metrics(df_['logical_fallacies'], df_['multi'])\n",
    "log_metrics(classification_report_one_train, 'val')"
   ]
  },
  {
   "cell_type": "code",
   "execution_count": null,
   "id": "36eb0146",
   "metadata": {},
   "outputs": [],
   "source": []
  }
 ],
 "metadata": {
  "kernelspec": {
   "display_name": ".venv",
   "language": "python",
   "name": "python3"
  },
  "language_info": {
   "codemirror_mode": {
    "name": "ipython",
    "version": 3
   },
   "file_extension": ".py",
   "mimetype": "text/x-python",
   "name": "python",
   "nbconvert_exporter": "python",
   "pygments_lexer": "ipython3",
   "version": "3.11.3"
  }
 },
 "nbformat": 4,
 "nbformat_minor": 5
}
