{
 "cells": [
  {
   "cell_type": "markdown",
   "id": "98241376",
   "metadata": {},
   "source": [
    "## Logical Reasoning"
   ]
  },
  {
   "cell_type": "markdown",
   "id": "08b7d814",
   "metadata": {},
   "source": [
    "### Import necessary packages"
   ]
  },
  {
   "cell_type": "code",
   "execution_count": 1,
   "id": "f31c30fd",
   "metadata": {},
   "outputs": [
    {
     "name": "stderr",
     "output_type": "stream",
     "text": [
      "/Users/alicepope/Capstone project/Capstone_project/backend/.venv/lib/python3.11/site-packages/tqdm/auto.py:21: TqdmWarning: IProgress not found. Please update jupyter and ipywidgets. See https://ipywidgets.readthedocs.io/en/stable/user_install.html\n",
      "  from .autonotebook import tqdm as notebook_tqdm\n"
     ]
    }
   ],
   "source": [
    "import numpy as np\n",
    "import mlflow\n",
    "import logging \n",
    "import torch \n",
    "import config \n",
    "import os \n",
    "import logging\n",
    "import matplotlib.pyplot as plt\n",
    "import seaborn as sns\n",
    "\n",
    "from mlflow.sklearn import save_model\n",
    "from sklearn.metrics import classification_report, accuracy_score, confusion_matrix, accuracy_score, f1_score, precision_score, recall_score\n",
    "from transformers import AutoModelForMultipleChoice, TrainingArguments, Trainer, AutoTokenizer \n",
    "\n",
    "import mlflow.pytorch\n",
    "os.environ[\"TOKENIZERS_PARALLELISM\"] = \"false\"  # This tells Hugging Face: “Don’t use parallel tokenization — avoid possible deadlocks.”"
   ]
  },
  {
   "cell_type": "code",
   "execution_count": 2,
   "id": "ece909d6",
   "metadata": {},
   "outputs": [],
   "source": [
    "from basic_functions import(\n",
    "    tokenize\n",
    ")"
   ]
  },
  {
   "cell_type": "markdown",
   "id": "d6bde6be",
   "metadata": {},
   "source": [
    "#### Define a compute metrics for this dataset (I wasn't sure if the one we have is suitable)"
   ]
  },
  {
   "cell_type": "code",
   "execution_count": 3,
   "id": "b3cae04b",
   "metadata": {},
   "outputs": [],
   "source": [
    "def compute_metrics(p):\n",
    "    preds = p.predictions.argmax(-1)\n",
    "    labels = p.label_ids\n",
    "    return {\n",
    "        \"accuracy\": accuracy_score(labels, preds),\n",
    "        \"f1\": f1_score(labels, preds, average=\"macro\"),\n",
    "        \"precision\": precision_score(labels, preds, average=\"macro\"),\n",
    "        \"recall\": recall_score(labels, preds, average=\"macro\"),\n",
    "    }"
   ]
  },
  {
   "cell_type": "markdown",
   "id": "43b1fbc5",
   "metadata": {},
   "source": [
    "### ReClor preperation"
   ]
  },
  {
   "cell_type": "code",
   "execution_count": 4,
   "id": "ad75fd71",
   "metadata": {},
   "outputs": [],
   "source": [
    "import json\n",
    "import pandas as pd\n",
    "\n",
    "from datasets import Dataset"
   ]
  },
  {
   "cell_type": "code",
   "execution_count": 5,
   "id": "0a85c129",
   "metadata": {},
   "outputs": [],
   "source": [
    "# Load the JSON file for training\n",
    "\n",
    "with open(\"../data/reclor_data/train.json\", \"r\") as f:\n",
    "    data = json.load(f)\n",
    "\n",
    "# Convert JSON to DataFrame\n",
    "records = []\n",
    "for item in data:\n",
    "    record = {\n",
    "        \"context\": item[\"context\"],\n",
    "        \"question\": item[\"question\"],\n",
    "        \"choice_0\": item[\"answers\"][0],\n",
    "        \"choice_1\": item[\"answers\"][1],\n",
    "        \"choice_2\": item[\"answers\"][2],\n",
    "        \"choice_3\": item[\"answers\"][3],\n",
    "        \"label\": item[\"label\"]\n",
    "    }\n",
    "    records.append(record)\n",
    "\n",
    "df = pd.DataFrame(records)\n",
    "\n",
    "# Save to CSV\n",
    "df.to_csv(\"../data/reclor_train.csv\", index=False)\n"
   ]
  },
  {
   "cell_type": "code",
   "execution_count": 6,
   "id": "d3a6eda5",
   "metadata": {},
   "outputs": [],
   "source": [
    "# Load the JSON file for validation\n",
    "\n",
    "with open(\"../data/reclor_data/val.json\", \"r\") as f:\n",
    "    data = json.load(f)\n",
    "\n",
    "# Convert JSON to DataFrame\n",
    "records = []\n",
    "for item in data:\n",
    "    record = {\n",
    "        \"context\": item[\"context\"],\n",
    "        \"question\": item[\"question\"],\n",
    "        \"choice_0\": item[\"answers\"][0],\n",
    "        \"choice_1\": item[\"answers\"][1],\n",
    "        \"choice_2\": item[\"answers\"][2],\n",
    "        \"choice_3\": item[\"answers\"][3],\n",
    "        \"label\": item[\"label\"]\n",
    "    }\n",
    "    records.append(record)\n",
    "\n",
    "df = pd.DataFrame(records)\n",
    "\n",
    "# Save to CSV\n",
    "df.to_csv(\"../data/reclor_val.csv\", index=False)"
   ]
  },
  {
   "cell_type": "code",
   "execution_count": null,
   "id": "8eadc0b3",
   "metadata": {},
   "outputs": [
    {
     "data": {
      "text/html": [
       "<div>\n",
       "<style scoped>\n",
       "    .dataframe tbody tr th:only-of-type {\n",
       "        vertical-align: middle;\n",
       "    }\n",
       "\n",
       "    .dataframe tbody tr th {\n",
       "        vertical-align: top;\n",
       "    }\n",
       "\n",
       "    .dataframe thead th {\n",
       "        text-align: right;\n",
       "    }\n",
       "</style>\n",
       "<table border=\"1\" class=\"dataframe\">\n",
       "  <thead>\n",
       "    <tr style=\"text-align: right;\">\n",
       "      <th></th>\n",
       "      <th>context</th>\n",
       "      <th>question</th>\n",
       "      <th>choice_0</th>\n",
       "      <th>choice_1</th>\n",
       "      <th>choice_2</th>\n",
       "      <th>choice_3</th>\n",
       "      <th>label</th>\n",
       "    </tr>\n",
       "  </thead>\n",
       "  <tbody>\n",
       "    <tr>\n",
       "      <th>0</th>\n",
       "      <td>Researchers have found that when very overweight people, who tend to have relatively low metabolic rates, lose weight primarily through dieting, their metabolisms generally remain unchanged. They will thus burn significantly fewer calories at the new weight than do people whose weight is normally at that level. Such newly thin persons will, ttherefore, ultimately regain weight until their body size again matches their metabolic rate.</td>\n",
       "      <td>The conclusion of the argument above depends on which of the following assumptions?</td>\n",
       "      <td>The amount of calories that a person usually burns in a day is determined more by the amount that is consumed that day than by the current weight of the individual.</td>\n",
       "      <td>The metabolisms of people who are usually not overweight are much more able to vary than the metabolisms of people who have been very overweight.</td>\n",
       "      <td>Researchers have not yet determined whether the metabolic rates of formerly very overweight individuals can be accelerated by means of chemical agents.</td>\n",
       "      <td>Relatively few very overweight people who have dieted down to a new weight tend to continue to consume substantially fewer calories than do people whose normal weight is at that level.</td>\n",
       "      <td>3</td>\n",
       "    </tr>\n",
       "    <tr>\n",
       "      <th>1</th>\n",
       "      <td>Decision makers tend to have distinctive styles. One such style is for the decision maker to seek the widest possible input from advisers and to explore alternatives while making up his or her mind. In fact, decision makers of this sort will often argue vigorously for a particular idea, emphasizing its strong points and downplaying its weaknesses, not because they actually believe in the idea but because they want to see if their real reservations about it are idiosyncratic or are held independently by their advisers.</td>\n",
       "      <td>Which one of the following is most strongly supported by the statements above?</td>\n",
       "      <td>If certain decision makers' statements are quoted accurately and at length, the content of the quote could nonetheless be greatly at variance with the decision eventually made.</td>\n",
       "      <td>Certain decision makers do not know which ideas they do not really believe in until after they have presented a variety of ideas to their advisers.</td>\n",
       "      <td>If certain decision makers' advisers know the actual beliefs of those they advise, those advisers will give better advice than they would if they did not know those beliefs.</td>\n",
       "      <td>Certain decision makers proceed in a way that makes it likely that they will frequently decide in favor of ideas in which they do not believe.</td>\n",
       "      <td>0</td>\n",
       "    </tr>\n",
       "    <tr>\n",
       "      <th>2</th>\n",
       "      <td>Political strategist: Clearly, attacking an opposing candidate on philosophical grounds is generally more effective than attacking the details of the opponent' s policy proposals. A philosophical attack links an opponent' s policy proposals to an overarching ideological scheme, thereby telling a story and providing context. This makes the attack emotionally compelling.</td>\n",
       "      <td>Which one of the following is an assumption required by the political strategist' s argument?</td>\n",
       "      <td>The stories that people are most likely to remember are those that are emotionally compelling.</td>\n",
       "      <td>Political attacks that tell a story are able to provide more context than those that do not.</td>\n",
       "      <td>Voters are typically uninterested in the details of candidates' policy proposals.</td>\n",
       "      <td>Political attacks that are emotionally compelling are generally more effective than those that are not.</td>\n",
       "      <td>3</td>\n",
       "    </tr>\n",
       "    <tr>\n",
       "      <th>3</th>\n",
       "      <td>Jones is selling a house to Smith. The contract between the two specifies that for up to a year after ownership is transferred, Jones will be responsible for repairing any \"major structural defects, \" defined as defects in the roof or roof-supporting components of the house, that might be found. Jones is not responsible for any other repairs. The house has a truss roof, which means that the only walls that support the roof are the exterior walls.</td>\n",
       "      <td>It can be properly concluded from the information above that</td>\n",
       "      <td>the contract does not oblige Jones to repair any defects in the house's nonexterior walls after ownership of the house has been transferred</td>\n",
       "      <td>Jones did not know of any defects in the roof or roof-supporting components of the house at the time the contract was written</td>\n",
       "      <td>Smith will be obligated to repair all structural defects in the house within a year after ownership is transferred, except those for which Jones is responsible</td>\n",
       "      <td>although other components of the house may contain defects, the roof and roof-supporting components of the house are currently free from such defects</td>\n",
       "      <td>0</td>\n",
       "    </tr>\n",
       "    <tr>\n",
       "      <th>4</th>\n",
       "      <td>Medical Investigator: \"Podiatrists initially assumed that Meyer' s Rash, an itchy rash between the toes, was a fungal infection similar to athlete' s foot. &lt;b&gt; At first, only Dr. Pannikar argued that Meyer' s Rash was viral in nature. &lt;/b&gt; All anti-fungal medications proved utterly ineffective in addressing Meyer' s Rash. Now, recent antibody studies seem to suggest, quite surprisingly, that Meyer' s Rash is caused by a virus.</td>\n",
       "      <td>\" In the medical investigator's argument, the portion in boldface plays which of the following roles?</td>\n",
       "      <td>It provides evidence in support of the main conclusion of the argument.</td>\n",
       "      <td>It introduces a judgment that the argument opposes.</td>\n",
       "      <td>It is the main conclusion of the argument.</td>\n",
       "      <td>It presents an explanation that the argument concludes is correct.</td>\n",
       "      <td>3</td>\n",
       "    </tr>\n",
       "  </tbody>\n",
       "</table>\n",
       "</div>"
      ],
      "text/plain": [
       "                                                                                                                                                                                                                                                                                                                                                                                                                                                                                                                                       context   \n",
       "0                                                                                        Researchers have found that when very overweight people, who tend to have relatively low metabolic rates, lose weight primarily through dieting, their metabolisms generally remain unchanged. They will thus burn significantly fewer calories at the new weight than do people whose weight is normally at that level. Such newly thin persons will, ttherefore, ultimately regain weight until their body size again matches their metabolic rate.  \\\n",
       "1  Decision makers tend to have distinctive styles. One such style is for the decision maker to seek the widest possible input from advisers and to explore alternatives while making up his or her mind. In fact, decision makers of this sort will often argue vigorously for a particular idea, emphasizing its strong points and downplaying its weaknesses, not because they actually believe in the idea but because they want to see if their real reservations about it are idiosyncratic or are held independently by their advisers.   \n",
       "2                                                                                                                                                          Political strategist: Clearly, attacking an opposing candidate on philosophical grounds is generally more effective than attacking the details of the opponent' s policy proposals. A philosophical attack links an opponent' s policy proposals to an overarching ideological scheme, thereby telling a story and providing context. This makes the attack emotionally compelling.   \n",
       "3                                                                           Jones is selling a house to Smith. The contract between the two specifies that for up to a year after ownership is transferred, Jones will be responsible for repairing any \"major structural defects, \" defined as defects in the roof or roof-supporting components of the house, that might be found. Jones is not responsible for any other repairs. The house has a truss roof, which means that the only walls that support the roof are the exterior walls.   \n",
       "4                                                                                               Medical Investigator: \"Podiatrists initially assumed that Meyer' s Rash, an itchy rash between the toes, was a fungal infection similar to athlete' s foot. <b> At first, only Dr. Pannikar argued that Meyer' s Rash was viral in nature. </b> All anti-fungal medications proved utterly ineffective in addressing Meyer' s Rash. Now, recent antibody studies seem to suggest, quite surprisingly, that Meyer' s Rash is caused by a virus.   \n",
       "\n",
       "                                                                                                question   \n",
       "0                    The conclusion of the argument above depends on which of the following assumptions?  \\\n",
       "1                         Which one of the following is most strongly supported by the statements above?   \n",
       "2          Which one of the following is an assumption required by the political strategist' s argument?   \n",
       "3                                           It can be properly concluded from the information above that   \n",
       "4  \" In the medical investigator's argument, the portion in boldface plays which of the following roles?   \n",
       "\n",
       "                                                                                                                                                                           choice_0   \n",
       "0              The amount of calories that a person usually burns in a day is determined more by the amount that is consumed that day than by the current weight of the individual.  \\\n",
       "1  If certain decision makers' statements are quoted accurately and at length, the content of the quote could nonetheless be greatly at variance with the decision eventually made.   \n",
       "2                                                                                    The stories that people are most likely to remember are those that are emotionally compelling.   \n",
       "3                                       the contract does not oblige Jones to repair any defects in the house's nonexterior walls after ownership of the house has been transferred   \n",
       "4                                                                                                           It provides evidence in support of the main conclusion of the argument.   \n",
       "\n",
       "                                                                                                                                              choice_1   \n",
       "0    The metabolisms of people who are usually not overweight are much more able to vary than the metabolisms of people who have been very overweight.  \\\n",
       "1  Certain decision makers do not know which ideas they do not really believe in until after they have presented a variety of ideas to their advisers.   \n",
       "2                                                         Political attacks that tell a story are able to provide more context than those that do not.   \n",
       "3                        Jones did not know of any defects in the roof or roof-supporting components of the house at the time the contract was written   \n",
       "4                                                                                                  It introduces a judgment that the argument opposes.   \n",
       "\n",
       "                                                                                                                                                                        choice_2   \n",
       "0                        Researchers have not yet determined whether the metabolic rates of formerly very overweight individuals can be accelerated by means of chemical agents.  \\\n",
       "1  If certain decision makers' advisers know the actual beliefs of those they advise, those advisers will give better advice than they would if they did not know those beliefs.   \n",
       "2                                                                                              Voters are typically uninterested in the details of candidates' policy proposals.   \n",
       "3                Smith will be obligated to repair all structural defects in the house within a year after ownership is transferred, except those for which Jones is responsible   \n",
       "4                                                                                                                                     It is the main conclusion of the argument.   \n",
       "\n",
       "                                                                                                                                                                                   choice_3   \n",
       "0  Relatively few very overweight people who have dieted down to a new weight tend to continue to consume substantially fewer calories than do people whose normal weight is at that level.  \\\n",
       "1                                            Certain decision makers proceed in a way that makes it likely that they will frequently decide in favor of ideas in which they do not believe.   \n",
       "2                                                                                   Political attacks that are emotionally compelling are generally more effective than those that are not.   \n",
       "3                                     although other components of the house may contain defects, the roof and roof-supporting components of the house are currently free from such defects   \n",
       "4                                                                                                                        It presents an explanation that the argument concludes is correct.   \n",
       "\n",
       "   label  \n",
       "0      3  \n",
       "1      0  \n",
       "2      3  \n",
       "3      0  \n",
       "4      3  "
      ]
     },
     "execution_count": 7,
     "metadata": {},
     "output_type": "execute_result"
    }
   ],
   "source": [
    "pd.set_option('display.max_colwidth', None)\n",
    "df_train = pd.read_csv(\"../data/reclor_train.csv\")\n",
    "df_train = df_train.sample(n=500, random_state=42).reset_index(drop=True)\n",
    "\n",
    "\n",
    "# Ensure number of rows is divisible by 4\n",
    "remainder = len(df_train) % 4\n",
    "if remainder != 0:\n",
    "    df_train = df_train.iloc[:-remainder]\n",
    "df_train.head()"
   ]
  },
  {
   "cell_type": "code",
   "execution_count": null,
   "id": "460a511d",
   "metadata": {},
   "outputs": [
    {
     "data": {
      "text/plain": [
       "(100, 7)"
      ]
     },
     "execution_count": 8,
     "metadata": {},
     "output_type": "execute_result"
    }
   ],
   "source": [
    "pd.set_option('display.max_colwidth', None)\n",
    "df_val = pd.read_csv(\"../data/reclor_val.csv\")\n",
    "df_val = df_val.sample(n=500, random_state=42).reset_index(drop=True)\n",
    "\n",
    "# Ensure number of rows is divisible by 4\n",
    "remainder = len(df_val) % 4\n",
    "if remainder != 0:\n",
    "    df_val = df_val.iloc[:-remainder]\n",
    "df_val.shape"
   ]
  },
  {
   "cell_type": "code",
   "execution_count": 9,
   "id": "3d9bafeb",
   "metadata": {},
   "outputs": [],
   "source": [
    "# Create prompt pairs: question + each choice with context. It prepares a list of 4 options per question, \n",
    "# to be used as a batch of 4 input choices during fine-tuning in a multiple-choice setting.\n",
    "\n",
    "def flatten_choices(example):\n",
    "    context = example[\"context\"]\n",
    "    question = example[\"question\"]\n",
    "    return {\n",
    "        \"choices\": [\n",
    "            f\"{question} {choice}\" for choice in [example[\"choice_0\"], example[\"choice_1\"], example[\"choice_2\"], example[\"choice_3\"]]\n",
    "        ],\n",
    "        \"context\": [context] * 4,\n",
    "        \"label\": example[\"label\"]\n",
    "    }"
   ]
  },
  {
   "cell_type": "code",
   "execution_count": 10,
   "id": "1ad00c01",
   "metadata": {},
   "outputs": [],
   "source": [
    "# Turn each row into 4 entries, each combining context + one of the 4 choices\n",
    "processed_train = df_train.apply(flatten_choices, axis=1, result_type=\"expand\")\n",
    "processed_val = df_val.apply(flatten_choices, axis=1, result_type=\"expand\")"
   ]
  },
  {
   "cell_type": "code",
   "execution_count": 11,
   "id": "eafd3245",
   "metadata": {},
   "outputs": [],
   "source": [
    "# Expand to lists\n",
    "choices_flat = sum(processed_train[\"choices\"].tolist(), [])\n",
    "context_flat = sum(processed_train[\"context\"].tolist(), [])\n",
    "labels = processed_train[\"label\"].tolist()\n",
    "\n",
    "choices_flat_val = sum(processed_val[\"choices\"].tolist(), [])\n",
    "context_flat_val = sum(processed_val[\"context\"].tolist(), [])\n",
    "labels_val = processed_val[\"label\"].tolist()"
   ]
  },
  {
   "cell_type": "code",
   "execution_count": 12,
   "id": "d89f2eb3",
   "metadata": {},
   "outputs": [],
   "source": [
    "# Combine context and choice into full text\n",
    "paired_texts = [f\"{c} {q}\" for c, q in zip(context_flat, choices_flat)]\n",
    "paired_texts_val = [f\"{c} {q}\" for c, q in zip(context_flat_val, choices_flat_val)]"
   ]
  },
  {
   "cell_type": "code",
   "execution_count": 13,
   "id": "9208f38c",
   "metadata": {},
   "outputs": [],
   "source": [
    "# Tokenize paired text\n",
    "encodings = tokenize(paired_texts, \"distilbert-base-uncased\")\n",
    "encodings_val = tokenize(paired_texts_val, \"distilbert-base-uncased\")"
   ]
  },
  {
   "cell_type": "code",
   "execution_count": 14,
   "id": "44a945c0",
   "metadata": {},
   "outputs": [],
   "source": [
    "# Truncate so total is divisible by 4 (to form batches of 4 choices)  --> This is the added section\n",
    "n_train = (len(encodings[\"input_ids\"]) // 4) * 4\n",
    "n_val = (len(encodings_val[\"input_ids\"]) // 4) * 4\n",
    "\n",
    "for key in encodings:\n",
    "    encodings[key] = encodings[key][:n_train]\n",
    "labels = labels[:n_train // 4]\n",
    "\n",
    "for key in encodings_val:\n",
    "    encodings_val[key] = encodings_val[key][:n_val]\n",
    "labels_val = labels_val[:n_val // 4]"
   ]
  },
  {
   "cell_type": "code",
   "execution_count": 15,
   "id": "e3de4b9b",
   "metadata": {},
   "outputs": [],
   "source": [
    "# Group into 4-choice batches\n",
    "# unique ID from the model's vocabulary. \n",
    "# This assumes that every group of 4 encodes one example with 4 answer options. So if the total count isn’t divisible by 4, indexing and batching will break.\n",
    "input_ids = encodings[\"input_ids\"].view(-1, 4, encodings[\"input_ids\"].shape[-1])\n",
    "attention_mask = encodings[\"attention_mask\"].view(-1, 4, encodings[\"attention_mask\"].shape[-1])\n",
    "\n",
    "# Dataset ready to go\n",
    "reclor_dataset_train = {\n",
    "    \"input_ids\": input_ids,\n",
    "    \"attention_mask\": attention_mask,\n",
    "    \"labels\": labels\n",
    "}\n",
    "\n",
    "# Group into 4-choice batches\n",
    "input_ids_val = encodings_val[\"input_ids\"].view(-1, 4, encodings_val[\"input_ids\"].shape[-1]) # unique ID from the model's vocabulary:\n",
    "attention_mask_val = encodings_val[\"attention_mask\"].view(-1, 4, encodings_val[\"attention_mask\"].shape[-1])\n",
    "\n",
    "# Dataset ready to go\n",
    "reclor_dataset_val = {\n",
    "    \"input_ids\": input_ids_val,\n",
    "    \"attention_mask\": attention_mask_val,\n",
    "    \"labels\": labels\n",
    "}"
   ]
  },
  {
   "cell_type": "markdown",
   "id": "c985c393",
   "metadata": {},
   "source": [
    "### Wrap reclor_dataset into a PyTorch Dataset"
   ]
  },
  {
   "cell_type": "code",
   "execution_count": 16,
   "id": "3ee2aa55",
   "metadata": {},
   "outputs": [],
   "source": [
    "from torch.utils.data import Dataset\n",
    "\n",
    "class ReClorDataset(Dataset):\n",
    "    def __init__(self, encodings):\n",
    "        self.encodings = encodings\n",
    "\n",
    "    def __len__(self):\n",
    "        return len(self.encodings[\"labels\"])\n",
    "\n",
    "    def __getitem__(self, idx):\n",
    "        return {key: val[idx] for key, val in self.encodings.items()}\n",
    "\n",
    "# initialize\n",
    "train_dataset = ReClorDataset(reclor_dataset_train) \n",
    "eval_dataset = ReClorDataset(reclor_dataset_val) \n",
    "\n"
   ]
  },
  {
   "cell_type": "markdown",
   "id": "9d58acdd",
   "metadata": {},
   "source": [
    "### Setup"
   ]
  },
  {
   "cell_type": "code",
   "execution_count": 17,
   "id": "4832bdfd",
   "metadata": {},
   "outputs": [
    {
     "name": "stderr",
     "output_type": "stream",
     "text": [
      "Some weights of DistilBertForMultipleChoice were not initialized from the model checkpoint at distilbert-base-uncased and are newly initialized: ['classifier.bias', 'classifier.weight', 'pre_classifier.bias', 'pre_classifier.weight']\n",
      "You should probably TRAIN this model on a down-stream task to be able to use it for predictions and inference.\n"
     ]
    }
   ],
   "source": [
    "model = AutoModelForMultipleChoice.from_pretrained(\"distilbert-base-uncased\")"
   ]
  },
  {
   "cell_type": "code",
   "execution_count": 18,
   "id": "36847143",
   "metadata": {},
   "outputs": [
    {
     "name": "stderr",
     "output_type": "stream",
     "text": [
      "/Users/alicepope/Capstone project/Capstone_project/backend/.venv/lib/python3.11/site-packages/transformers/training_args.py:1611: FutureWarning: `evaluation_strategy` is deprecated and will be removed in version 4.46 of 🤗 Transformers. Use `eval_strategy` instead\n",
      "  warnings.warn(\n"
     ]
    }
   ],
   "source": [
    "training_args = TrainingArguments(\n",
    "    output_dir=\"./results\",\n",
    "    evaluation_strategy=\"epoch\",\n",
    "    save_strategy=\"epoch\",\n",
    "    learning_rate=5e-5,\n",
    "    per_device_train_batch_size=4,\n",
    "    per_device_eval_batch_size=4,\n",
    "    num_train_epochs=1,\n",
    "    weight_decay=0.01,\n",
    "    logging_dir=\"./logs\",\n",
    "    logging_steps=10\n",
    ")\n",
    "\n",
    "\n",
    "trainer = Trainer(\n",
    "    model=model,\n",
    "    args=training_args,\n",
    "    train_dataset=train_dataset,\n",
    "    eval_dataset= eval_dataset,\n",
    "    compute_metrics= compute_metrics \n",
    ")"
   ]
  },
  {
   "cell_type": "code",
   "execution_count": 19,
   "id": "30687d76",
   "metadata": {},
   "outputs": [
    {
     "name": "stdout",
     "output_type": "stream",
     "text": [
      "Active run_id: d39868eb6cc94b2ca694aba755c29d0a\n"
     ]
    }
   ],
   "source": [
    "learning_rate= 5e-5\n",
    "weight_decay= 0.01\n",
    "num_train_epochs= 1\n",
    "evaluation_strategy= 'epoch'\n",
    "class_weight=True\n",
    "# dropout= 0.3\n",
    "\n",
    "\n",
    "params = {\n",
    "      \"learning_rate\": learning_rate,\n",
    "      \"weight_decay\": weight_decay,\n",
    "      \"num_train_epochs\": num_train_epochs,\n",
    "      \"evaluation_strategy\": evaluation_strategy,\n",
    "      \"class_weight\":class_weight,\n",
    "      # \"dropout\": dropout,\n",
    "      \"dataset\": \"ReClor\"\n",
    "  }\n",
    "\n",
    "\n",
    "# setting the MLFlow connection and experiment\n",
    "TRACKING_URI = open(\"../.mlflow_uri\").read().strip()\n",
    "EXPERIMENT_NAME = config.EXPERIMENT_NAME\n",
    "MODEL_NAME = \"distilbert-base-uncased\"\n",
    "SAVE_PATH = \"../models/distilber-reclor/pytorch_model\"\n",
    "\n",
    "logging.basicConfig(format=\"%(asctime)s: %(message)s\") # Configure logging format to show timestamp before every message\n",
    "\n",
    "logger = logging.getLogger()\n",
    "logger.setLevel(logging.INFO)\n",
    "\n",
    "mlflow.set_tracking_uri(TRACKING_URI)\n",
    "mlflow.set_experiment(EXPERIMENT_NAME)\n",
    "\n",
    "\n",
    "mlflow.start_run()\n",
    "run = mlflow.active_run()\n",
    "print(\"Active run_id: {}\".format(run.info.run_id))\n",
    "\n",
    "mlflow.set_tag(\"model_name\", MODEL_NAME)\n",
    "mlflow.set_tag(\"mlflow.runName\", \"Training distilbert on logical reasoning \")\n",
    "mlflow.log_params(params)"
   ]
  },
  {
   "cell_type": "code",
   "execution_count": 20,
   "id": "87863f68",
   "metadata": {},
   "outputs": [
    {
     "name": "stderr",
     "output_type": "stream",
     "text": [
      "INFO:root:training is running\n"
     ]
    },
    {
     "data": {
      "text/html": [
       "\n",
       "    <div>\n",
       "      \n",
       "      <progress value='25' max='25' style='width:300px; height:20px; vertical-align: middle;'></progress>\n",
       "      [25/25 08:41, Epoch 1/1]\n",
       "    </div>\n",
       "    <table border=\"1\" class=\"dataframe\">\n",
       "  <thead>\n",
       " <tr style=\"text-align: left;\">\n",
       "      <th>Epoch</th>\n",
       "      <th>Training Loss</th>\n",
       "      <th>Validation Loss</th>\n",
       "      <th>Accuracy</th>\n",
       "      <th>F1</th>\n",
       "      <th>Precision</th>\n",
       "      <th>Recall</th>\n",
       "    </tr>\n",
       "  </thead>\n",
       "  <tbody>\n",
       "    <tr>\n",
       "      <td>1</td>\n",
       "      <td>1.379900</td>\n",
       "      <td>1.387294</td>\n",
       "      <td>0.180000</td>\n",
       "      <td>0.179251</td>\n",
       "      <td>0.183252</td>\n",
       "      <td>0.202428</td>\n",
       "    </tr>\n",
       "  </tbody>\n",
       "</table><p>"
      ],
      "text/plain": [
       "<IPython.core.display.HTML object>"
      ]
     },
     "metadata": {},
     "output_type": "display_data"
    },
    {
     "data": {
      "text/plain": [
       "TrainOutput(global_step=25, training_loss=1.3821545791625978, metrics={'train_runtime': 539.5114, 'train_samples_per_second': 0.185, 'train_steps_per_second': 0.046, 'total_flos': 52986014515200.0, 'train_loss': 1.3821545791625978, 'epoch': 1.0})"
      ]
     },
     "execution_count": 20,
     "metadata": {},
     "output_type": "execute_result"
    }
   ],
   "source": [
    "logger.info('training is running')\n",
    "trainer.train()\n"
   ]
  },
  {
   "cell_type": "markdown",
   "id": "4a0ca2b6",
   "metadata": {},
   "source": [
    "## Evaluation"
   ]
  },
  {
   "cell_type": "code",
   "execution_count": 21,
   "id": "ef4e3f20",
   "metadata": {},
   "outputs": [
    {
     "data": {
      "text/html": [],
      "text/plain": [
       "<IPython.core.display.HTML object>"
      ]
     },
     "metadata": {},
     "output_type": "display_data"
    },
    {
     "name": "stdout",
     "output_type": "stream",
     "text": [
      "Classification Report:\n",
      "              precision    recall  f1-score   support\n",
      "\n",
      "           0       0.14      0.21      0.17        19\n",
      "           1       0.18      0.35      0.24        17\n",
      "           2       0.20      0.11      0.14        27\n",
      "           3       0.21      0.14      0.16        37\n",
      "\n",
      "    accuracy                           0.18       100\n",
      "   macro avg       0.18      0.20      0.18       100\n",
      "weighted avg       0.19      0.18      0.17       100\n",
      "\n"
     ]
    },
    {
     "data": {
      "image/png": "[encoded data removed]",
      "text/plain": [
       "<Figure size 1000x800 with 2 Axes>"
      ]
     },
     "metadata": {},
     "output_type": "display_data"
    }
   ],
   "source": [
    "# Run predictions\n",
    "preds = trainer.predict(eval_dataset)\n",
    "\n",
    "# Extract true and predicted labels\n",
    "y_true = preds.label_ids\n",
    "y_pred = np.argmax(preds.predictions, axis=1)\n",
    "\n",
    "# Print classification report\n",
    "print(\"Classification Report:\")\n",
    "print(classification_report(y_true, y_pred))\n",
    "\n",
    "# Compute confusion matrix\n",
    "cm = confusion_matrix(y_true, y_pred)\n",
    "\n",
    "\n",
    "# Plot confusion matrix\n",
    "plt.figure(figsize=(10, 8))\n",
    "labels = ['choice_0', 'choice_1', 'choice_2', 'choice_3']\n",
    "sns.heatmap(cm, annot=True, fmt='d', cmap='Blues', xticklabels=labels, yticklabels=labels)  \n",
    "plt.xlabel(\"Predicted\")\n",
    "plt.ylabel(\"True\")\n",
    "plt.title(\"Confusion Matrix on Evaluation Dataset\")\n",
    "plt.show()\n"
   ]
  },
  {
   "cell_type": "code",
   "execution_count": 22,
   "id": "74a9aed9",
   "metadata": {},
   "outputs": [],
   "source": [
    "def log_metrics(cr, brier, split):\n",
    "    mlflow.log_metric(f\"{split}_brier\", brier)\n",
    "\n",
    "    for key, value in cr.items():\n",
    "        if (key == \"accuracy\"):\n",
    "                # print(f\"{split}_{key}\", round(value,2))\n",
    "                mlflow.log_metric(f\"{split}_{key}\", value)\n",
    "        else:\n",
    "            for metric in value:\n",
    "                mlflow.log_metric(f\"{split}_{key}_{metric}\", value.get(metric))\n",
    "                # print(f\"{split}_{key}_{metric}\", round(value.get(metric),2))"
   ]
  },
  {
   "cell_type": "code",
   "execution_count": 23,
   "id": "ff152746",
   "metadata": {},
   "outputs": [
    {
     "name": "stdout",
     "output_type": "stream",
     "text": [
      "🏃 View run Training distilbert on logical reasoning  at: http://127.0.0.1:5001/#/experiments/445989666823303942/runs/d39868eb6cc94b2ca694aba755c29d0a\n",
      "🧪 View experiment at: http://127.0.0.1:5001/#/experiments/445989666823303942\n"
     ]
    }
   ],
   "source": [
    "mlflow.end_run()"
   ]
  },
  {
   "cell_type": "code",
   "execution_count": null,
   "id": "3b40ee5c",
   "metadata": {},
   "outputs": [],
   "source": [
    "# # #save with pytorch\n",
    "# mlflow.pytorch.save_model(model, path=SAVE_PATH)"
   ]
  },
  {
   "cell_type": "code",
   "execution_count": null,
   "id": "7969751c",
   "metadata": {},
   "outputs": [],
   "source": [
    "# # or just save the model? \n",
    "# model.save_pretrained(\"models/reclor-finetuned\")\n",
    "# tokenizer.save_pretrained(\"models/reclor-finetuned\")"
   ]
  }
 ],
 "metadata": {
  "kernelspec": {
   "display_name": ".venv",
   "language": "python",
   "name": "python3"
  },
  "language_info": {
   "codemirror_mode": {
    "name": "ipython",
    "version": 3
   },
   "file_extension": ".py",
   "mimetype": "text/x-python",
   "name": "python",
   "nbconvert_exporter": "python",
   "pygments_lexer": "ipython3",
   "version": "3.11.3"
  }
 },
 "nbformat": 4,
 "nbformat_minor": 5
}
