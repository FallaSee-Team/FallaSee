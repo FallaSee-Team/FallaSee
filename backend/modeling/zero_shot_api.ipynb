{
 "cells": [
  {
   "cell_type": "markdown",
   "metadata": {},
   "source": [
    "# Zero shot using an API (LLAMA)"
   ]
  },
  {
   "cell_type": "code",
   "execution_count": 2,
   "metadata": {},
   "outputs": [],
   "source": [
    "import pandas as pd\n",
    "import os\n",
    "from groq import Groq\n",
    "from tqdm import tqdm\n",
    "from sklearn.metrics import accuracy_score, recall_score, precision_score, f1_score, classification_report"
   ]
  },
  {
   "cell_type": "markdown",
   "metadata": {},
   "source": [
    "Either notebook requires credentials to be loaded from a `.env` file, which should contain respectively either of the following lines, if not both:\n",
    "```\n",
    "GROQ_API_KEY=<your groq api key>\n",
    "```\n",
    "\n",
    "- [Groq API Key](https://console.groq.com/playground) can be generated and used free of charge"
   ]
  },
  {
   "cell_type": "markdown",
   "metadata": {},
   "source": [
    "### Load df"
   ]
  },
  {
   "cell_type": "code",
   "execution_count": 3,
   "metadata": {},
   "outputs": [],
   "source": [
    "df = pd.read_csv('../data/data_small.csv')"
   ]
  },
  {
   "cell_type": "code",
   "execution_count": 4,
   "metadata": {},
   "outputs": [
    {
     "data": {
      "text/html": [
       "<div>\n",
       "<style scoped>\n",
       "    .dataframe tbody tr th:only-of-type {\n",
       "        vertical-align: middle;\n",
       "    }\n",
       "\n",
       "    .dataframe tbody tr th {\n",
       "        vertical-align: top;\n",
       "    }\n",
       "\n",
       "    .dataframe thead th {\n",
       "        text-align: right;\n",
       "    }\n",
       "</style>\n",
       "<table border=\"1\" class=\"dataframe\">\n",
       "  <thead>\n",
       "    <tr style=\"text-align: right;\">\n",
       "      <th></th>\n",
       "      <th>Unnamed: 0</th>\n",
       "      <th>dataset</th>\n",
       "      <th>text</th>\n",
       "      <th>logical_fallacies</th>\n",
       "      <th>source</th>\n",
       "    </tr>\n",
       "  </thead>\n",
       "  <tbody>\n",
       "    <tr>\n",
       "      <th>0</th>\n",
       "      <td>18384</td>\n",
       "      <td>8</td>\n",
       "      <td>Testing on animals could save the life of you ...</td>\n",
       "      <td>appeal_to_emotion</td>\n",
       "      <td>NaN</td>\n",
       "    </tr>\n",
       "    <tr>\n",
       "      <th>1</th>\n",
       "      <td>11271</td>\n",
       "      <td>3</td>\n",
       "      <td>I remember when China took over Hong Kong, I r...</td>\n",
       "      <td>none</td>\n",
       "      <td>NaN</td>\n",
       "    </tr>\n",
       "    <tr>\n",
       "      <th>2</th>\n",
       "      <td>15702</td>\n",
       "      <td>4</td>\n",
       "      <td>: The only \"Light at the End of the Tunnel\", i...</td>\n",
       "      <td>appeal_to_emotion</td>\n",
       "      <td>NaN</td>\n",
       "    </tr>\n",
       "    <tr>\n",
       "      <th>3</th>\n",
       "      <td>7148</td>\n",
       "      <td>3</td>\n",
       "      <td>So you only believe there are two ways to run ...</td>\n",
       "      <td>none</td>\n",
       "      <td>NaN</td>\n",
       "    </tr>\n",
       "    <tr>\n",
       "      <th>4</th>\n",
       "      <td>8147</td>\n",
       "      <td>3</td>\n",
       "      <td>Keep things the way they are or change them co...</td>\n",
       "      <td>false_dilemma</td>\n",
       "      <td>NaN</td>\n",
       "    </tr>\n",
       "  </tbody>\n",
       "</table>\n",
       "</div>"
      ],
      "text/plain": [
       "   Unnamed: 0  dataset                                               text   \n",
       "0       18384        8  Testing on animals could save the life of you ...  \\\n",
       "1       11271        3  I remember when China took over Hong Kong, I r...   \n",
       "2       15702        4  : The only \"Light at the End of the Tunnel\", i...   \n",
       "3        7148        3  So you only believe there are two ways to run ...   \n",
       "4        8147        3  Keep things the way they are or change them co...   \n",
       "\n",
       "   logical_fallacies source  \n",
       "0  appeal_to_emotion    NaN  \n",
       "1               none    NaN  \n",
       "2  appeal_to_emotion    NaN  \n",
       "3               none    NaN  \n",
       "4      false_dilemma    NaN  "
      ]
     },
     "execution_count": 4,
     "metadata": {},
     "output_type": "execute_result"
    }
   ],
   "source": [
    "df.head()"
   ]
  },
  {
   "cell_type": "markdown",
   "metadata": {},
   "source": [
    "### Load dotenv with API Key"
   ]
  },
  {
   "cell_type": "code",
   "execution_count": 5,
   "metadata": {},
   "outputs": [
    {
     "data": {
      "text/plain": [
       "True"
      ]
     },
     "execution_count": 5,
     "metadata": {},
     "output_type": "execute_result"
    }
   ],
   "source": [
    "from dotenv import load_dotenv\n",
    "load_dotenv('../../.env')"
   ]
  },
  {
   "cell_type": "code",
   "execution_count": 6,
   "metadata": {},
   "outputs": [],
   "source": [
    "# validate API key\n",
    "assert os.environ.get(\"GROQ_API_KEY\"), \"GROQ_API_KEY not found in .env file\""
   ]
  },
  {
   "cell_type": "markdown",
   "metadata": {},
   "source": [
    "### Define LLM"
   ]
  },
  {
   "cell_type": "code",
   "execution_count": 7,
   "metadata": {},
   "outputs": [],
   "source": [
    "import warnings\n",
    "warnings.filterwarnings(\"ignore\")\n",
    "from langchain_groq import ChatGroq\n",
    "\n",
    "#calling llm from platform, llama3 is called the llm\n",
    "#temperature is hyperparameter, how creative do I want the llm to be (0 is not creative), sometimes, when it is not 0, it can give you the second likely word\n",
    "\n",
    "llm = ChatGroq(\n",
    "    model=\"llama3-8b-8192\",  # Replace with your desired Llama model version\n",
    "    temperature=0,           # No randomness, deterministic output\n",
    "    max_tokens=None,         # Unlimited token length (adjust as needed)\n",
    "    # timeout=None,            # No timeout (can be adjusted)\n",
    "    max_retries=2            # Retry twice on transient failures\n",
    ")"
   ]
  },
  {
   "cell_type": "markdown",
   "metadata": {},
   "source": [
    "### Define a prompt"
   ]
  },
  {
   "cell_type": "code",
   "execution_count": 21,
   "metadata": {},
   "outputs": [
    {
     "data": {
      "text/plain": [
       "{'appeal_to_emotion': \"The most dangerous aspect of this proposal is, for the first time, we would delegate to computers the decision as to whether to start a war. That's dead wrong.\",\n",
       " 'none': \"I don't think that kind of logic is good. It's essentially saying that so long as the authoritarians repress their people enough and nobody can rise up against them, we should think things are okay. We should strive to ensure they have leaders who value democracy, not oppression and authoritarianism.\",\n",
       " 'false_dilemma': 'I think that the Chinese government missed an opportunity here. Instead of controlling the narrative by having a limited press availability, they made it seem like they either having no press availability or to have to answer every little question asked. Why? Were they afraid for people to find out about what they talked about or was it that they did not want to antagonize any of the neighboring countries? Unfortunately, we will never really know. Most of the time you can temper journalists by finding a middle ground with allowing some, not all, questions to be answered and they did not even go that far. I can see why the journalists were upset.',\n",
       " 'ad_hominem': ': 😭 I weep for the innocent. OTOH the #magats can go ahead and drink bleach 🙄',\n",
       " 'faulty_generalization': 'No, because the Ozon layer problem was solved without it. So no need for that!',\n",
       " 'appeal_to_authority': \"He's just not credible when he talks about being fiscally conservative. He's just not credible. If you look at his record in the Senate, he voted to break the caps -- the spending caps -- over 200 times. And here he says he's going to be a fiscal conservative, all of a sudden. It's just not credible. You cannot believe it.  And of course he's going to raise your taxes.\"}"
      ]
     },
     "execution_count": 21,
     "metadata": {},
     "output_type": "execute_result"
    }
   ],
   "source": [
    "# Function to get a random text for each unique logical fallacy\n",
    "def get_random_text_per_fallacy(df):\n",
    "    result = {}\n",
    "    unique_fallacies = df['logical_fallacies'].unique()\n",
    "    for fallacy in unique_fallacies:\n",
    "        random_text = df[df['logical_fallacies'] == fallacy].sample(n=1)['text'].iloc[0]\n",
    "        result[fallacy] = random_text\n",
    "    return result\n",
    "\n",
    "# Get random text examples for each fallacy\n",
    "random_texts = get_random_text_per_fallacy(df)\n",
    "\n",
    "# Print the result\n",
    "random_texts"
   ]
  },
  {
   "cell_type": "code",
   "execution_count": 22,
   "metadata": {},
   "outputs": [],
   "source": [
    "def classify_fallacy(text: str) -> str:\n",
    "    \"\"\"Classifies text into one of the predefined logical fallacies.\"\"\"\n",
    "    try:\n",
    "        # Combine system instructions and user content in one message\n",
    "        # This avoids system message compatibility issues\n",
    "        prompt = \"\"\"Classify the following text into exactly one logical fallacy category:\n",
    "- faulty_generalization\n",
    "- ad_hominem\n",
    "- false_dilemma \n",
    "- appeal_to_authority\n",
    "- appeal_to_emotion  \n",
    "- none\n",
    "\n",
    "Here are definitions of each category for reference:\n",
    "1. **Faulty Generalization**: This fallacy occurs when an argument assumes something is true for a large population without having a large enough sample. A kind of overgeneralization.\n",
    "2. **Ad Hominem**: This fallacy occurs when the speaker is attacking the other person or some aspect of them rather than addressing the argument itself.\n",
    "3. **False Dilemma**: This fallacy occurs when only two options are presented in an argument, even though more options may exist. A case of “either this or that”.\n",
    "4. **Appeal to Authority**: This fallacy occurs when an argument relies on the opinion or endorsement of an authority figure who may not have relevant expertise or whose expertise is questionable. When applicable, a scientific consensus is not an appeal to authority.\n",
    "5. **Appeal to Emotion**: This fallacy occurs when emotion is used to support an argument, such as pity, fear, anger, etc.\n",
    "6. **None**: There are no fallacies in this text!\n",
    "\n",
    "Here are examples of each category for reference:\n",
    "1. **Faulty Generalization**: \"I read one report about corruption, so that industry must be corrupt.\"\n",
    "2. **Ad Hominem**: \"Do you even know what you're talking about?\"\n",
    "3. **False Dilemma**: \"Do you recommend drinking or injecting bleach to fight Covid?\"\n",
    "4. **Appeal to Authority**: \"Trust me, I am a lawyer, so I know how to handle your taxes.\"\n",
    "5. **Appeal to Emotion**: \"You murdered 100,000 people, called Coronavirus a hoax, fired doctors, and told Americans to inject themselves with bleach. Maybe you should shut the fuck up.\"\n",
    "6. **None**: \"I don't think that kind of logic is good. It's essentially saying that so long as the authoritarians repress their people enough and nobody can rise up against them, we should think things are okay. We should strive to ensure they have leaders who value democracy, not oppression and authoritarianism.\"\n",
    "\n",
    "Text to classify: {0}\n",
    "\n",
    "Respond ONLY with the category name and nothing else.\"\"\".format(text)\n",
    "\n",
    "        # Simplified message structure - only user message\n",
    "        response = llm.invoke(prompt)\n",
    "        \n",
    "        # Properly extract content based on LangChain's response structure\n",
    "        prediction = response.content.strip().lower()\n",
    "        \n",
    "        # Normalize the response\n",
    "        valid_categories = [\"faulty_generalization\", \"ad_hominem\", \"false_dilemma\", \n",
    "                          \"appeal_to_authority\", \"appeal_to_emotion\", \"none\"]\n",
    "        \n",
    "        # Match to valid categories\n",
    "        for category in valid_categories:\n",
    "            if category in prediction:\n",
    "                return category\n",
    "                \n",
    "        return prediction if prediction in valid_categories else \"none\"\n",
    "        \n",
    "    except Exception as e:\n",
    "        print(f\"Error processing text: {text[:50]}... | Error: {str(e)}\")\n",
    "        return \"Error\""
   ]
  },
  {
   "cell_type": "markdown",
   "metadata": {},
   "source": [
    "### Process dataframe"
   ]
  },
  {
   "cell_type": "code",
   "execution_count": 23,
   "metadata": {},
   "outputs": [],
   "source": [
    "def process_dataframe(df: pd.DataFrame, batch_size=10) -> pd.DataFrame:\n",
    "    \"\"\"Process DataFrame with chunking for better performance.\"\"\"\n",
    "    result_df = df.copy()\n",
    "    \n",
    "    # Process in smaller batches to reduce API errors\n",
    "    chunks = [df[i:i+batch_size] for i in range(0, len(df), batch_size)]\n",
    "    \n",
    "    with tqdm(total=len(df), desc=\"Classifying Logical Fallacies\") as pbar:\n",
    "        for chunk in chunks:\n",
    "            # Process each text in the chunk\n",
    "            chunk_results = []\n",
    "            for text in chunk['text']:\n",
    "                result = classify_fallacy(text)\n",
    "                chunk_results.append(result)\n",
    "                pbar.update(1)\n",
    "                \n",
    "            # Update results for this chunk\n",
    "            result_df.loc[chunk.index, 'predicted_fallacy'] = chunk_results\n",
    "    \n",
    "    return result_df"
   ]
  },
  {
   "cell_type": "markdown",
   "metadata": {},
   "source": [
    "### Make predictions"
   ]
  },
  {
   "cell_type": "code",
   "execution_count": 24,
   "metadata": {},
   "outputs": [],
   "source": [
    "# make predictions only based on 1000 rows\n",
    "df_small = df.iloc[:1000]"
   ]
  },
  {
   "cell_type": "code",
   "execution_count": 25,
   "metadata": {},
   "outputs": [
    {
     "name": "stderr",
     "output_type": "stream",
     "text": [
      "Classifying Logical Fallacies:  68%|██████▊   | 675/1000 [1:00:16<32:40,  6.03s/it]  "
     ]
    },
    {
     "name": "stdout",
     "output_type": "stream",
     "text": [
      "Error processing text: Violence should never be the answer.   This was cl... | Error: Error code: 429 - {'error': {'message': 'Rate limit reached for model `llama3-8b-8192` in organization `org_01jpvzq9f4e11t7x9pmtnxzxe8` service tier `on_demand` on tokens per day (TPD): Limit 500000, Used 499946, Requested 614. Please try again in 1m36.646s. Need more tokens? Upgrade to Dev Tier today at https://console.groq.com/settings/billing', 'type': 'tokens', 'code': 'rate_limit_exceeded'}}\n",
      "Error processing text: It's wild to me how you have given them the option... | Error: Error code: 429 - {'error': {'message': 'Rate limit reached for model `llama3-8b-8192` in organization `org_01jpvzq9f4e11t7x9pmtnxzxe8` service tier `on_demand` on tokens per day (TPD): Limit 500000, Used 499945, Requested 692. Please try again in 1m50.0704s. Need more tokens? Upgrade to Dev Tier today at https://console.groq.com/settings/billing', 'type': 'tokens', 'code': 'rate_limit_exceeded'}}\n",
      "Error processing text: ruining... | Error: Error code: 429 - {'error': {'message': 'Rate limit reached for model `llama3-8b-8192` in organization `org_01jpvzq9f4e11t7x9pmtnxzxe8` service tier `on_demand` on tokens per day (TPD): Limit 500000, Used 499945, Requested 543. Please try again in 1m24.2572s. Need more tokens? Upgrade to Dev Tier today at https://console.groq.com/settings/billing', 'type': 'tokens', 'code': 'rate_limit_exceeded'}}\n",
      "Error processing text: So nobody should feel regret for playing a bad par... | Error: Error code: 429 - {'error': {'message': 'Rate limit reached for model `llama3-8b-8192` in organization `org_01jpvzq9f4e11t7x9pmtnxzxe8` service tier `on_demand` on tokens per day (TPD): Limit 500000, Used 499945, Requested 628. Please try again in 1m38.8872s. Need more tokens? Upgrade to Dev Tier today at https://console.groq.com/settings/billing', 'type': 'tokens', 'code': 'rate_limit_exceeded'}}\n"
     ]
    },
    {
     "name": "stderr",
     "output_type": "stream",
     "text": [
      "Classifying Logical Fallacies:  68%|██████▊   | 678/1000 [1:00:16<17:39,  3.29s/it]"
     ]
    },
    {
     "name": "stdout",
     "output_type": "stream",
     "text": [
      "Error processing text: I feel that is a little too much information and i... | Error: Error code: 429 - {'error': {'message': 'Rate limit reached for model `llama3-8b-8192` in organization `org_01jpvzq9f4e11t7x9pmtnxzxe8` service tier `on_demand` on tokens per day (TPD): Limit 500000, Used 499944, Requested 557. Please try again in 1m26.5594s. Need more tokens? Upgrade to Dev Tier today at https://console.groq.com/settings/billing', 'type': 'tokens', 'code': 'rate_limit_exceeded'}}\n",
      "Error processing text: Since many of the students at St. Cloud State Univ... | Error: Error code: 429 - {'error': {'message': 'Rate limit reached for model `llama3-8b-8192` in organization `org_01jpvzq9f4e11t7x9pmtnxzxe8` service tier `on_demand` on tokens per day (TPD): Limit 500000, Used 499944, Requested 569. Please try again in 1m28.583s. Need more tokens? Upgrade to Dev Tier today at https://console.groq.com/settings/billing', 'type': 'tokens', 'code': 'rate_limit_exceeded'}}\n",
      "Error processing text: And we can renew and rekindle the American spirit ... | Error: Error code: 429 - {'error': {'message': 'Rate limit reached for model `llama3-8b-8192` in organization `org_01jpvzq9f4e11t7x9pmtnxzxe8` service tier `on_demand` on tokens per day (TPD): Limit 500000, Used 499944, Requested 571. Please try again in 1m28.830599999s. Need more tokens? Upgrade to Dev Tier today at https://console.groq.com/settings/billing', 'type': 'tokens', 'code': 'rate_limit_exceeded'}}\n"
     ]
    },
    {
     "name": "stderr",
     "output_type": "stream",
     "text": [
      "Classifying Logical Fallacies:  68%|██████▊   | 680/1000 [1:00:16<12:21,  2.32s/it]"
     ]
    },
    {
     "name": "stdout",
     "output_type": "stream",
     "text": [
      "Error processing text: The one vegetarian meal I tried was bland, so vege... | Error: Error code: 429 - {'error': {'message': 'Rate limit reached for model `llama3-8b-8192` in organization `org_01jpvzq9f4e11t7x9pmtnxzxe8` service tier `on_demand` on tokens per day (TPD): Limit 500000, Used 499943, Requested 562. Please try again in 1m27.1754s. Need more tokens? Upgrade to Dev Tier today at https://console.groq.com/settings/billing', 'type': 'tokens', 'code': 'rate_limit_exceeded'}}\n",
      "Error processing text: : This is from BC CANADA but it is a wrap of very ... | Error: Error code: 429 - {'error': {'message': 'Rate limit reached for model `llama3-8b-8192` in organization `org_01jpvzq9f4e11t7x9pmtnxzxe8` service tier `on_demand` on tokens per day (TPD): Limit 500000, Used 499942, Requested 586. Please try again in 1m31.222599999s. Need more tokens? Upgrade to Dev Tier today at https://console.groq.com/settings/billing', 'type': 'tokens', 'code': 'rate_limit_exceeded'}}\n"
     ]
    },
    {
     "name": "stderr",
     "output_type": "stream",
     "text": [
      "Classifying Logical Fallacies:  68%|██████▊   | 682/1000 [1:00:16<08:43,  1.65s/it]"
     ]
    },
    {
     "name": "stdout",
     "output_type": "stream",
     "text": [
      "Error processing text: I agree, they need to open the countries back up a... | Error: Error code: 429 - {'error': {'message': 'Rate limit reached for model `llama3-8b-8192` in organization `org_01jpvzq9f4e11t7x9pmtnxzxe8` service tier `on_demand` on tokens per day (TPD): Limit 500000, Used 499942, Requested 611. Please try again in 1m35.4416s. Need more tokens? Upgrade to Dev Tier today at https://console.groq.com/settings/billing', 'type': 'tokens', 'code': 'rate_limit_exceeded'}}\n",
      "Error processing text: Playing the game without fans is truly a hard pill... | Error: Error code: 429 - {'error': {'message': 'Rate limit reached for model `llama3-8b-8192` in organization `org_01jpvzq9f4e11t7x9pmtnxzxe8` service tier `on_demand` on tokens per day (TPD): Limit 500000, Used 499941, Requested 732. Please try again in 1m56.251399999s. Need more tokens? Upgrade to Dev Tier today at https://console.groq.com/settings/billing', 'type': 'tokens', 'code': 'rate_limit_exceeded'}}\n",
      "Error processing text: Only allowing two choices as the solution to a pro... | Error: Error code: 429 - {'error': {'message': 'Rate limit reached for model `llama3-8b-8192` in organization `org_01jpvzq9f4e11t7x9pmtnxzxe8` service tier `on_demand` on tokens per day (TPD): Limit 500000, Used 499941, Requested 601. Please try again in 1m33.5146s. Need more tokens? Upgrade to Dev Tier today at https://console.groq.com/settings/billing', 'type': 'tokens', 'code': 'rate_limit_exceeded'}}\n"
     ]
    },
    {
     "name": "stderr",
     "output_type": "stream",
     "text": [
      "Classifying Logical Fallacies:  69%|██████▊   | 686/1000 [1:00:17<04:28,  1.17it/s]"
     ]
    },
    {
     "name": "stdout",
     "output_type": "stream",
     "text": [
      "Error processing text: :   ...  Rather than report on the facts: \"Trump m... | Error: Error code: 429 - {'error': {'message': 'Rate limit reached for model `llama3-8b-8192` in organization `org_01jpvzq9f4e11t7x9pmtnxzxe8` service tier `on_demand` on tokens per day (TPD): Limit 500000, Used 499940, Requested 613. Please try again in 1m35.4892s. Need more tokens? Upgrade to Dev Tier today at https://console.groq.com/settings/billing', 'type': 'tokens', 'code': 'rate_limit_exceeded'}}\n",
      "Error processing text: Uhh - I believe also that uh - there is some merit... | Error: Error code: 429 - {'error': {'message': 'Rate limit reached for model `llama3-8b-8192` in organization `org_01jpvzq9f4e11t7x9pmtnxzxe8` service tier `on_demand` on tokens per day (TPD): Limit 500000, Used 499940, Requested 602. Please try again in 1m33.489399999s. Need more tokens? Upgrade to Dev Tier today at https://console.groq.com/settings/billing', 'type': 'tokens', 'code': 'rate_limit_exceeded'}}\n",
      "Error processing text: Senator Obama, as a member of the Illinois State S... | Error: Error code: 429 - {'error': {'message': 'Rate limit reached for model `llama3-8b-8192` in organization `org_01jpvzq9f4e11t7x9pmtnxzxe8` service tier `on_demand` on tokens per day (TPD): Limit 500000, Used 499939, Requested 700. Please try again in 1m50.3178s. Need more tokens? Upgrade to Dev Tier today at https://console.groq.com/settings/billing', 'type': 'tokens', 'code': 'rate_limit_exceeded'}}\n"
     ]
    },
    {
     "name": "stderr",
     "output_type": "stream",
     "text": [
      "Classifying Logical Fallacies:  69%|██████▉   | 688/1000 [1:00:17<03:12,  1.62it/s]"
     ]
    },
    {
     "name": "stdout",
     "output_type": "stream",
     "text": [
      "Error processing text: She's only supporting this because of her connecti... | Error: Error code: 429 - {'error': {'message': 'Rate limit reached for model `llama3-8b-8192` in organization `org_01jpvzq9f4e11t7x9pmtnxzxe8` service tier `on_demand` on tokens per day (TPD): Limit 500000, Used 499938, Requested 555. Please try again in 1m25.1648s. Need more tokens? Upgrade to Dev Tier today at https://console.groq.com/settings/billing', 'type': 'tokens', 'code': 'rate_limit_exceeded'}}\n",
      "Error processing text: You cannot be this hasty when it comes to this sit... | Error: Error code: 429 - {'error': {'message': 'Rate limit reached for model `llama3-8b-8192` in organization `org_01jpvzq9f4e11t7x9pmtnxzxe8` service tier `on_demand` on tokens per day (TPD): Limit 500000, Used 499938, Requested 641. Please try again in 1m39.9776s. Need more tokens? Upgrade to Dev Tier today at https://console.groq.com/settings/billing', 'type': 'tokens', 'code': 'rate_limit_exceeded'}}\n",
      "Error processing text: Although it is a barbarian act, we need animal tes... | Error: Error code: 429 - {'error': {'message': 'Rate limit reached for model `llama3-8b-8192` in organization `org_01jpvzq9f4e11t7x9pmtnxzxe8` service tier `on_demand` on tokens per day (TPD): Limit 500000, Used 499938, Requested 555. Please try again in 1m25.063799999s. Need more tokens? Upgrade to Dev Tier today at https://console.groq.com/settings/billing', 'type': 'tokens', 'code': 'rate_limit_exceeded'}}\n",
      "Error processing text: I totally agree that the people in Hong Kong are l... | Error: Error code: 429 - {'error': {'message': 'Rate limit reached for model `llama3-8b-8192` in organization `org_01jpvzq9f4e11t7x9pmtnxzxe8` service tier `on_demand` on tokens per day (TPD): Limit 500000, Used 499937, Requested 723. Please try again in 1m54.0452s. Need more tokens? Upgrade to Dev Tier today at https://console.groq.com/settings/billing', 'type': 'tokens', 'code': 'rate_limit_exceeded'}}\n"
     ]
    },
    {
     "name": "stderr",
     "output_type": "stream",
     "text": [
      "Classifying Logical Fallacies:  69%|██████▉   | 694/1000 [1:00:17<01:22,  3.69it/s]"
     ]
    },
    {
     "name": "stdout",
     "output_type": "stream",
     "text": [
      "Error processing text: In this scenario , by 2100 , 73.9 per cent of the ... | Error: Error code: 429 - {'error': {'message': 'Rate limit reached for model `llama3-8b-8192` in organization `org_01jpvzq9f4e11t7x9pmtnxzxe8` service tier `on_demand` on tokens per day (TPD): Limit 500000, Used 499937, Requested 602. Please try again in 1m33.0854s. Need more tokens? Upgrade to Dev Tier today at https://console.groq.com/settings/billing', 'type': 'tokens', 'code': 'rate_limit_exceeded'}}\n",
      "Error processing text: : Philippine health authorities warn the public ag... | Error: Error code: 429 - {'error': {'message': 'Rate limit reached for model `llama3-8b-8192` in organization `org_01jpvzq9f4e11t7x9pmtnxzxe8` service tier `on_demand` on tokens per day (TPD): Limit 500000, Used 499937, Requested 577. Please try again in 1m28.7114s. Need more tokens? Upgrade to Dev Tier today at https://console.groq.com/settings/billing', 'type': 'tokens', 'code': 'rate_limit_exceeded'}}\n",
      "Error processing text: If you allow one student to take an online course,... | Error: Error code: 429 - {'error': {'message': 'Rate limit reached for model `llama3-8b-8192` in organization `org_01jpvzq9f4e11t7x9pmtnxzxe8` service tier `on_demand` on tokens per day (TPD): Limit 500000, Used 499937, Requested 598. Please try again in 1m32.294199999s. Need more tokens? Upgrade to Dev Tier today at https://console.groq.com/settings/billing', 'type': 'tokens', 'code': 'rate_limit_exceeded'}}\n",
      "Error processing text: :  When doctors do not use the medication availabl... | Error: Error code: 429 - {'error': {'message': 'Rate limit reached for model `llama3-8b-8192` in organization `org_01jpvzq9f4e11t7x9pmtnxzxe8` service tier `on_demand` on tokens per day (TPD): Limit 500000, Used 499936, Requested 555. Please try again in 1m24.811799999s. Need more tokens? Upgrade to Dev Tier today at https://console.groq.com/settings/billing', 'type': 'tokens', 'code': 'rate_limit_exceeded'}}\n",
      "Error processing text: If the UN is against DSM, then I'm with them. They... | Error: Error code: 429 - {'error': {'message': 'Rate limit reached for model `llama3-8b-8192` in organization `org_01jpvzq9f4e11t7x9pmtnxzxe8` service tier `on_demand` on tokens per day (TPD): Limit 500000, Used 499936, Requested 617. Please try again in 1m35.4764s. Need more tokens? Upgrade to Dev Tier today at https://console.groq.com/settings/billing', 'type': 'tokens', 'code': 'rate_limit_exceeded'}}\n"
     ]
    },
    {
     "name": "stderr",
     "output_type": "stream",
     "text": [
      "Classifying Logical Fallacies:  70%|██████▉   | 699/1000 [1:00:17<00:47,  6.36it/s]"
     ]
    },
    {
     "name": "stdout",
     "output_type": "stream",
     "text": [
      "Error processing text: Turkey already has curbed free speech from its cit... | Error: Error code: 429 - {'error': {'message': 'Rate limit reached for model `llama3-8b-8192` in organization `org_01jpvzq9f4e11t7x9pmtnxzxe8` service tier `on_demand` on tokens per day (TPD): Limit 500000, Used 499936, Requested 788. Please try again in 2m4.970199999s. Need more tokens? Upgrade to Dev Tier today at https://console.groq.com/settings/billing', 'type': 'tokens', 'code': 'rate_limit_exceeded'}}\n",
      "Error processing text: : Tucson makes up largest group of COVID-19 vaccin... | Error: Error code: 429 - {'error': {'message': 'Rate limit reached for model `llama3-8b-8192` in organization `org_01jpvzq9f4e11t7x9pmtnxzxe8` service tier `on_demand` on tokens per day (TPD): Limit 500000, Used 499935, Requested 566. Please try again in 1m26.544599999s. Need more tokens? Upgrade to Dev Tier today at https://console.groq.com/settings/billing', 'type': 'tokens', 'code': 'rate_limit_exceeded'}}\n",
      "Error processing text: :  Dr.Nick,Is there any trial for Ivermectin & Azi... | Error: Error code: 429 - {'error': {'message': 'Rate limit reached for model `llama3-8b-8192` in organization `org_01jpvzq9f4e11t7x9pmtnxzxe8` service tier `on_demand` on tokens per day (TPD): Limit 500000, Used 499935, Requested 612. Please try again in 1m34.4474s. Need more tokens? Upgrade to Dev Tier today at https://console.groq.com/settings/billing', 'type': 'tokens', 'code': 'rate_limit_exceeded'}}\n",
      "Error processing text: I'm very pleased that the Fraternal Order of Polic... | Error: Error code: 429 - {'error': {'message': 'Rate limit reached for model `llama3-8b-8192` in organization `org_01jpvzq9f4e11t7x9pmtnxzxe8` service tier `on_demand` on tokens per day (TPD): Limit 500000, Used 499935, Requested 583. Please try again in 1m29.3872s. Need more tokens? Upgrade to Dev Tier today at https://console.groq.com/settings/billing', 'type': 'tokens', 'code': 'rate_limit_exceeded'}}\n",
      "Error processing text: This seat belt ad is using which type of persuasiv... | Error: Error code: 429 - {'error': {'message': 'Rate limit reached for model `llama3-8b-8192` in organization `org_01jpvzq9f4e11t7x9pmtnxzxe8` service tier `on_demand` on tokens per day (TPD): Limit 500000, Used 499935, Requested 569. Please try again in 1m26.920999999s. Need more tokens? Upgrade to Dev Tier today at https://console.groq.com/settings/billing', 'type': 'tokens', 'code': 'rate_limit_exceeded'}}\n"
     ]
    },
    {
     "name": "stderr",
     "output_type": "stream",
     "text": [
      "Classifying Logical Fallacies:  70%|███████   | 702/1000 [1:00:18<00:35,  8.31it/s]"
     ]
    },
    {
     "name": "stdout",
     "output_type": "stream",
     "text": [
      "Error processing text: He's gotta be in his 30s, right? I guess that mean... | Error: Error code: 429 - {'error': {'message': 'Rate limit reached for model `llama3-8b-8192` in organization `org_01jpvzq9f4e11t7x9pmtnxzxe8` service tier `on_demand` on tokens per day (TPD): Limit 500000, Used 499934, Requested 591. Please try again in 1m30.6806s. Need more tokens? Upgrade to Dev Tier today at https://console.groq.com/settings/billing', 'type': 'tokens', 'code': 'rate_limit_exceeded'}}\n",
      "Error processing text: :   ...  Totally disagree here. You hit these owne... | Error: Error code: 429 - {'error': {'message': 'Rate limit reached for model `llama3-8b-8192` in organization `org_01jpvzq9f4e11t7x9pmtnxzxe8` service tier `on_demand` on tokens per day (TPD): Limit 500000, Used 499934, Requested 612. Please try again in 1m34.260399999s. Need more tokens? Upgrade to Dev Tier today at https://console.groq.com/settings/billing', 'type': 'tokens', 'code': 'rate_limit_exceeded'}}\n"
     ]
    },
    {
     "name": "stderr",
     "output_type": "stream",
     "text": [
      "Classifying Logical Fallacies:  71%|███████   | 707/1000 [1:00:18<00:27, 10.73it/s]"
     ]
    },
    {
     "name": "stdout",
     "output_type": "stream",
     "text": [
      "Error processing text: : Pfizer, BioNTech, Moderna Covid-19 vaccine: Will... | Error: Error code: 429 - {'error': {'message': 'Rate limit reached for model `llama3-8b-8192` in organization `org_01jpvzq9f4e11t7x9pmtnxzxe8` service tier `on_demand` on tokens per day (TPD): Limit 500000, Used 499934, Requested 602. Please try again in 1m32.4774s. Need more tokens? Upgrade to Dev Tier today at https://console.groq.com/settings/billing', 'type': 'tokens', 'code': 'rate_limit_exceeded'}}\n",
      "Error processing text: so.I ask Hillary, why doesn’t—she made $250 millio... | Error: Error code: 429 - {'error': {'message': 'Rate limit reached for model `llama3-8b-8192` in organization `org_01jpvzq9f4e11t7x9pmtnxzxe8` service tier `on_demand` on tokens per day (TPD): Limit 500000, Used 499933, Requested 613. Please try again in 1m34.2082s. Need more tokens? Upgrade to Dev Tier today at https://console.groq.com/settings/billing', 'type': 'tokens', 'code': 'rate_limit_exceeded'}}\n",
      "Error processing text: She's been put in jail for reporting a crime that ... | Error: Error code: 429 - {'error': {'message': 'Rate limit reached for model `llama3-8b-8192` in organization `org_01jpvzq9f4e11t7x9pmtnxzxe8` service tier `on_demand` on tokens per day (TPD): Limit 500000, Used 499932, Requested 646. Please try again in 1m39.8616s. Need more tokens? Upgrade to Dev Tier today at https://console.groq.com/settings/billing', 'type': 'tokens', 'code': 'rate_limit_exceeded'}}\n",
      "Error processing text: Four out of five dentists recommend Happy Glossy t... | Error: Error code: 429 - {'error': {'message': 'Rate limit reached for model `llama3-8b-8192` in organization `org_01jpvzq9f4e11t7x9pmtnxzxe8` service tier `on_demand` on tokens per day (TPD): Limit 500000, Used 499932, Requested 564. Please try again in 1m25.646999999s. Need more tokens? Upgrade to Dev Tier today at https://console.groq.com/settings/billing', 'type': 'tokens', 'code': 'rate_limit_exceeded'}}\n",
      "Error processing text: I am against shutting down of internet sites by th... | Error: Error code: 429 - {'error': {'message': 'Rate limit reached for model `llama3-8b-8192` in organization `org_01jpvzq9f4e11t7x9pmtnxzxe8` service tier `on_demand` on tokens per day (TPD): Limit 500000, Used 499932, Requested 723. Please try again in 1m53.079199999s. Need more tokens? Upgrade to Dev Tier today at https://console.groq.com/settings/billing', 'type': 'tokens', 'code': 'rate_limit_exceeded'}}\n"
     ]
    },
    {
     "name": "stderr",
     "output_type": "stream",
     "text": [
      "Classifying Logical Fallacies:  71%|███████   | 712/1000 [1:00:18<00:20, 14.04it/s]"
     ]
    },
    {
     "name": "stdout",
     "output_type": "stream",
     "text": [
      "Error processing text: :   If you truly want to save lives then take Iver... | Error: Error code: 429 - {'error': {'message': 'Rate limit reached for model `llama3-8b-8192` in organization `org_01jpvzq9f4e11t7x9pmtnxzxe8` service tier `on_demand` on tokens per day (TPD): Limit 500000, Used 499932, Requested 576. Please try again in 1m27.6106s. Need more tokens? Upgrade to Dev Tier today at https://console.groq.com/settings/billing', 'type': 'tokens', 'code': 'rate_limit_exceeded'}}\n",
      "Error processing text: People don't need to end up going by what they see... | Error: Error code: 429 - {'error': {'message': 'Rate limit reached for model `llama3-8b-8192` in organization `org_01jpvzq9f4e11t7x9pmtnxzxe8` service tier `on_demand` on tokens per day (TPD): Limit 500000, Used 499931, Requested 599. Please try again in 1m31.535999999s. Need more tokens? Upgrade to Dev Tier today at https://console.groq.com/settings/billing', 'type': 'tokens', 'code': 'rate_limit_exceeded'}}\n",
      "Error processing text: :  why isn't the curfew being lifted in Quebec ? W... | Error: Error code: 429 - {'error': {'message': 'Rate limit reached for model `llama3-8b-8192` in organization `org_01jpvzq9f4e11t7x9pmtnxzxe8` service tier `on_demand` on tokens per day (TPD): Limit 500000, Used 499931, Requested 588. Please try again in 1m29.5922s. Need more tokens? Upgrade to Dev Tier today at https://console.groq.com/settings/billing', 'type': 'tokens', 'code': 'rate_limit_exceeded'}}\n",
      "Error processing text: Kids need to go to a proper school and home school... | Error: Error code: 429 - {'error': {'message': 'Rate limit reached for model `llama3-8b-8192` in organization `org_01jpvzq9f4e11t7x9pmtnxzxe8` service tier `on_demand` on tokens per day (TPD): Limit 500000, Used 499931, Requested 558. Please try again in 1m24.3652s. Need more tokens? Upgrade to Dev Tier today at https://console.groq.com/settings/billing', 'type': 'tokens', 'code': 'rate_limit_exceeded'}}\n",
      "Error processing text: Yet for all the hyperventilating , Pruitt ' s answ... | Error: Error code: 429 - {'error': {'message': 'Rate limit reached for model `llama3-8b-8192` in organization `org_01jpvzq9f4e11t7x9pmtnxzxe8` service tier `on_demand` on tokens per day (TPD): Limit 500000, Used 499930, Requested 596. Please try again in 1m30.8816s. Need more tokens? Upgrade to Dev Tier today at https://console.groq.com/settings/billing', 'type': 'tokens', 'code': 'rate_limit_exceeded'}}\n"
     ]
    },
    {
     "name": "stderr",
     "output_type": "stream",
     "text": [
      "Classifying Logical Fallacies:  72%|███████▏  | 716/1000 [1:00:18<00:17, 15.87it/s]"
     ]
    },
    {
     "name": "stdout",
     "output_type": "stream",
     "text": [
      "Error processing text: “We have known for decades that increasing CO₂ and... | Error: Error code: 429 - {'error': {'message': 'Rate limit reached for model `llama3-8b-8192` in organization `org_01jpvzq9f4e11t7x9pmtnxzxe8` service tier `on_demand` on tokens per day (TPD): Limit 500000, Used 499930, Requested 598. Please try again in 1m31.1812s. Need more tokens? Upgrade to Dev Tier today at https://console.groq.com/settings/billing', 'type': 'tokens', 'code': 'rate_limit_exceeded'}}\n",
      "Error processing text: What type of propaganda uses negative words or fee... | Error: Error code: 429 - {'error': {'message': 'Rate limit reached for model `llama3-8b-8192` in organization `org_01jpvzq9f4e11t7x9pmtnxzxe8` service tier `on_demand` on tokens per day (TPD): Limit 500000, Used 499930, Requested 564. Please try again in 1m25.257s. Need more tokens? Upgrade to Dev Tier today at https://console.groq.com/settings/billing', 'type': 'tokens', 'code': 'rate_limit_exceeded'}}\n",
      "Error processing text: : To illustrate this with an example- Say 15% of a... | Error: Error code: 429 - {'error': {'message': 'Rate limit reached for model `llama3-8b-8192` in organization `org_01jpvzq9f4e11t7x9pmtnxzxe8` service tier `on_demand` on tokens per day (TPD): Limit 500000, Used 499930, Requested 594. Please try again in 1m30.377s. Need more tokens? Upgrade to Dev Tier today at https://console.groq.com/settings/billing', 'type': 'tokens', 'code': 'rate_limit_exceeded'}}\n",
      "Error processing text: We need to quit it with all these half-measures an... | Error: Error code: 429 - {'error': {'message': 'Rate limit reached for model `llama3-8b-8192` in organization `org_01jpvzq9f4e11t7x9pmtnxzxe8` service tier `on_demand` on tokens per day (TPD): Limit 500000, Used 499929, Requested 614. Please try again in 1m33.785s. Need more tokens? Upgrade to Dev Tier today at https://console.groq.com/settings/billing', 'type': 'tokens', 'code': 'rate_limit_exceeded'}}\n"
     ]
    },
    {
     "name": "stderr",
     "output_type": "stream",
     "text": [
      "Classifying Logical Fallacies:  72%|███████▏  | 721/1000 [1:00:19<00:15, 18.25it/s]"
     ]
    },
    {
     "name": "stdout",
     "output_type": "stream",
     "text": [
      "Error processing text: an irresponsible statement, or, maybe, an ill-advi... | Error: Error code: 429 - {'error': {'message': 'Rate limit reached for model `llama3-8b-8192` in organization `org_01jpvzq9f4e11t7x9pmtnxzxe8` service tier `on_demand` on tokens per day (TPD): Limit 500000, Used 499929, Requested 557. Please try again in 1m23.888399999s. Need more tokens? Upgrade to Dev Tier today at https://console.groq.com/settings/billing', 'type': 'tokens', 'code': 'rate_limit_exceeded'}}\n",
      "Error processing text: The people who live in these areas, like the Carib... | Error: Error code: 429 - {'error': {'message': 'Rate limit reached for model `llama3-8b-8192` in organization `org_01jpvzq9f4e11t7x9pmtnxzxe8` service tier `on_demand` on tokens per day (TPD): Limit 500000, Used 499929, Requested 648. Please try again in 1m39.5672s. Need more tokens? Upgrade to Dev Tier today at https://console.groq.com/settings/billing', 'type': 'tokens', 'code': 'rate_limit_exceeded'}}\n",
      "Error processing text: : COVID Vaccines Are Almost Here But How Soon Will... | Error: Error code: 429 - {'error': {'message': 'Rate limit reached for model `llama3-8b-8192` in organization `org_01jpvzq9f4e11t7x9pmtnxzxe8` service tier `on_demand` on tokens per day (TPD): Limit 500000, Used 499928, Requested 586. Please try again in 1m28.8096s. Need more tokens? Upgrade to Dev Tier today at https://console.groq.com/settings/billing', 'type': 'tokens', 'code': 'rate_limit_exceeded'}}\n",
      "Error processing text: I would encourage you to look past your generaliza... | Error: Error code: 429 - {'error': {'message': 'Rate limit reached for model `llama3-8b-8192` in organization `org_01jpvzq9f4e11t7x9pmtnxzxe8` service tier `on_demand` on tokens per day (TPD): Limit 500000, Used 499928, Requested 654. Please try again in 1m40.507s. Need more tokens? Upgrade to Dev Tier today at https://console.groq.com/settings/billing', 'type': 'tokens', 'code': 'rate_limit_exceeded'}}\n",
      "Error processing text: “Several of the papers note that the primary influ... | Error: Error code: 429 - {'error': {'message': 'Rate limit reached for model `llama3-8b-8192` in organization `org_01jpvzq9f4e11t7x9pmtnxzxe8` service tier `on_demand` on tokens per day (TPD): Limit 500000, Used 499928, Requested 588. Please try again in 1m29.0562s. Need more tokens? Upgrade to Dev Tier today at https://console.groq.com/settings/billing', 'type': 'tokens', 'code': 'rate_limit_exceeded'}}\n"
     ]
    },
    {
     "name": "stderr",
     "output_type": "stream",
     "text": [
      "Classifying Logical Fallacies:  73%|███████▎  | 726/1000 [1:00:19<00:13, 19.83it/s]"
     ]
    },
    {
     "name": "stdout",
     "output_type": "stream",
     "text": [
      "Error processing text: While I agree that art can be influential to the p... | Error: Error code: 429 - {'error': {'message': 'Rate limit reached for model `llama3-8b-8192` in organization `org_01jpvzq9f4e11t7x9pmtnxzxe8` service tier `on_demand` on tokens per day (TPD): Limit 500000, Used 499928, Requested 684. Please try again in 1m45.594999999s. Need more tokens? Upgrade to Dev Tier today at https://console.groq.com/settings/billing', 'type': 'tokens', 'code': 'rate_limit_exceeded'}}\n",
      "Error processing text: : If you are listening to Michael Gove talking, th... | Error: Error code: 429 - {'error': {'message': 'Rate limit reached for model `llama3-8b-8192` in organization `org_01jpvzq9f4e11t7x9pmtnxzxe8` service tier `on_demand` on tokens per day (TPD): Limit 500000, Used 499927, Requested 563. Please try again in 1m24.6272s. Need more tokens? Upgrade to Dev Tier today at https://console.groq.com/settings/billing', 'type': 'tokens', 'code': 'rate_limit_exceeded'}}\n",
      "Error processing text: : Valdimir Putin: mass vaccinations by year's end ... | Error: Error code: 429 - {'error': {'message': 'Rate limit reached for model `llama3-8b-8192` in organization `org_01jpvzq9f4e11t7x9pmtnxzxe8` service tier `on_demand` on tokens per day (TPD): Limit 500000, Used 499927, Requested 555. Please try again in 1m23.1968s. Need more tokens? Upgrade to Dev Tier today at https://console.groq.com/settings/billing', 'type': 'tokens', 'code': 'rate_limit_exceeded'}}\n",
      "Error processing text: :   If it was so safe and necessary they would not... | Error: Error code: 429 - {'error': {'message': 'Rate limit reached for model `llama3-8b-8192` in organization `org_01jpvzq9f4e11t7x9pmtnxzxe8` service tier `on_demand` on tokens per day (TPD): Limit 500000, Used 499927, Requested 559. Please try again in 1m23.845999999s. Need more tokens? Upgrade to Dev Tier today at https://console.groq.com/settings/billing', 'type': 'tokens', 'code': 'rate_limit_exceeded'}}\n",
      "Error processing text: If we allow gay people to get married, then the ne... | Error: Error code: 429 - {'error': {'message': 'Rate limit reached for model `llama3-8b-8192` in organization `org_01jpvzq9f4e11t7x9pmtnxzxe8` service tier `on_demand` on tokens per day (TPD): Limit 500000, Used 499926, Requested 569. Please try again in 1m25.532s. Need more tokens? Upgrade to Dev Tier today at https://console.groq.com/settings/billing', 'type': 'tokens', 'code': 'rate_limit_exceeded'}}\n"
     ]
    },
    {
     "name": "stderr",
     "output_type": "stream",
     "text": [
      "Classifying Logical Fallacies:  73%|███████▎  | 729/1000 [1:00:19<00:13, 20.18it/s]"
     ]
    },
    {
     "name": "stdout",
     "output_type": "stream",
     "text": [
      "Error processing text: : Lots of people have been sending me this... what... | Error: Error code: 429 - {'error': {'message': 'Rate limit reached for model `llama3-8b-8192` in organization `org_01jpvzq9f4e11t7x9pmtnxzxe8` service tier `on_demand` on tokens per day (TPD): Limit 500000, Used 499926, Requested 560. Please try again in 1m23.9288s. Need more tokens? Upgrade to Dev Tier today at https://console.groq.com/settings/billing', 'type': 'tokens', 'code': 'rate_limit_exceeded'}}\n",
      "Error processing text: “Not only do polls suggest the public is unmoved a... | Error: Error code: 429 - {'error': {'message': 'Rate limit reached for model `llama3-8b-8192` in organization `org_01jpvzq9f4e11t7x9pmtnxzxe8` service tier `on_demand` on tokens per day (TPD): Limit 500000, Used 499926, Requested 561. Please try again in 1m24.0556s. Need more tokens? Upgrade to Dev Tier today at https://console.groq.com/settings/billing', 'type': 'tokens', 'code': 'rate_limit_exceeded'}}\n",
      "Error processing text: This is an issue that definitely needs to be addre... | Error: Error code: 429 - {'error': {'message': 'Rate limit reached for model `llama3-8b-8192` in organization `org_01jpvzq9f4e11t7x9pmtnxzxe8` service tier `on_demand` on tokens per day (TPD): Limit 500000, Used 499926, Requested 598. Please try again in 1m30.3992s. Need more tokens? Upgrade to Dev Tier today at https://console.groq.com/settings/billing', 'type': 'tokens', 'code': 'rate_limit_exceeded'}}\n",
      "Error processing text: :   ...  😬😱🥺🙏MAKE PETITIONS!... | Error: Error code: 429 - {'error': {'message': 'Rate limit reached for model `llama3-8b-8192` in organization `org_01jpvzq9f4e11t7x9pmtnxzxe8` service tier `on_demand` on tokens per day (TPD): Limit 500000, Used 499925, Requested 552. Please try again in 1m22.4024s. Need more tokens? Upgrade to Dev Tier today at https://console.groq.com/settings/billing', 'type': 'tokens', 'code': 'rate_limit_exceeded'}}\n",
      "Error processing text: horrible sights all over... | Error: Error code: 429 - {'error': {'message': 'Rate limit reached for model `llama3-8b-8192` in organization `org_01jpvzq9f4e11t7x9pmtnxzxe8` service tier `on_demand` on tokens per day (TPD): Limit 500000, Used 499925, Requested 548. Please try again in 1m21.6602s. Need more tokens? Upgrade to Dev Tier today at https://console.groq.com/settings/billing', 'type': 'tokens', 'code': 'rate_limit_exceeded'}}\n"
     ]
    },
    {
     "name": "stderr",
     "output_type": "stream",
     "text": [
      "Classifying Logical Fallacies:  74%|███████▎  | 735/1000 [1:00:19<00:12, 20.88it/s]"
     ]
    },
    {
     "name": "stdout",
     "output_type": "stream",
     "text": [
      "Error processing text: Very true, and really, what is the alternative? So... | Error: Error code: 429 - {'error': {'message': 'Rate limit reached for model `llama3-8b-8192` in organization `org_01jpvzq9f4e11t7x9pmtnxzxe8` service tier `on_demand` on tokens per day (TPD): Limit 500000, Used 499925, Requested 655. Please try again in 1m40.1068s. Need more tokens? Upgrade to Dev Tier today at https://console.groq.com/settings/billing', 'type': 'tokens', 'code': 'rate_limit_exceeded'}}\n",
      "Error processing text: Yes and do not ask silly questions.... | Error: Error code: 429 - {'error': {'message': 'Rate limit reached for model `llama3-8b-8192` in organization `org_01jpvzq9f4e11t7x9pmtnxzxe8` service tier `on_demand` on tokens per day (TPD): Limit 500000, Used 499925, Requested 550. Please try again in 1m21.9168s. Need more tokens? Upgrade to Dev Tier today at https://console.groq.com/settings/billing', 'type': 'tokens', 'code': 'rate_limit_exceeded'}}\n",
      "Error processing text: Everybody who's looked at it, 500 economists, seve... | Error: Error code: 429 - {'error': {'message': 'Rate limit reached for model `llama3-8b-8192` in organization `org_01jpvzq9f4e11t7x9pmtnxzxe8` service tier `on_demand` on tokens per day (TPD): Limit 500000, Used 499924, Requested 567. Please try again in 1m24.8104s. Need more tokens? Upgrade to Dev Tier today at https://console.groq.com/settings/billing', 'type': 'tokens', 'code': 'rate_limit_exceeded'}}\n",
      "Error processing text: She's biased; her company benefits from this polic... | Error: Error code: 429 - {'error': {'message': 'Rate limit reached for model `llama3-8b-8192` in organization `org_01jpvzq9f4e11t7x9pmtnxzxe8` service tier `on_demand` on tokens per day (TPD): Limit 500000, Used 499924, Requested 555. Please try again in 1m22.6908s. Need more tokens? Upgrade to Dev Tier today at https://console.groq.com/settings/billing', 'type': 'tokens', 'code': 'rate_limit_exceeded'}}\n",
      "Error processing text: More food for seals in summer means more fat seal ... | Error: Error code: 429 - {'error': {'message': 'Rate limit reached for model `llama3-8b-8192` in organization `org_01jpvzq9f4e11t7x9pmtnxzxe8` service tier `on_demand` on tokens per day (TPD): Limit 500000, Used 499924, Requested 615. Please try again in 1m33.0098s. Need more tokens? Upgrade to Dev Tier today at https://console.groq.com/settings/billing', 'type': 'tokens', 'code': 'rate_limit_exceeded'}}\n"
     ]
    },
    {
     "name": "stderr",
     "output_type": "stream",
     "text": [
      "Classifying Logical Fallacies:  74%|███████▍  | 738/1000 [1:00:19<00:12, 20.36it/s]"
     ]
    },
    {
     "name": "stdout",
     "output_type": "stream",
     "text": [
      "Error processing text: I totally agree with you, COVID should be the focu... | Error: Error code: 429 - {'error': {'message': 'Rate limit reached for model `llama3-8b-8192` in organization `org_01jpvzq9f4e11t7x9pmtnxzxe8` service tier `on_demand` on tokens per day (TPD): Limit 500000, Used 499923, Requested 655. Please try again in 1m39.866799999s. Need more tokens? Upgrade to Dev Tier today at https://console.groq.com/settings/billing', 'type': 'tokens', 'code': 'rate_limit_exceeded'}}\n",
      "Error processing text: How would you know anything about technology? You'... | Error: Error code: 429 - {'error': {'message': 'Rate limit reached for model `llama3-8b-8192` in organization `org_01jpvzq9f4e11t7x9pmtnxzxe8` service tier `on_demand` on tokens per day (TPD): Limit 500000, Used 499923, Requested 557. Please try again in 1m22.8834s. Need more tokens? Upgrade to Dev Tier today at https://console.groq.com/settings/billing', 'type': 'tokens', 'code': 'rate_limit_exceeded'}}\n",
      "Error processing text: : In fact, there are good reasons to delegate resp... | Error: Error code: 429 - {'error': {'message': 'Rate limit reached for model `llama3-8b-8192` in organization `org_01jpvzq9f4e11t7x9pmtnxzxe8` service tier `on_demand` on tokens per day (TPD): Limit 500000, Used 499923, Requested 611. Please try again in 1m32.1666s. Need more tokens? Upgrade to Dev Tier today at https://console.groq.com/settings/billing', 'type': 'tokens', 'code': 'rate_limit_exceeded'}}\n",
      "Error processing text: : Ok if this is for real?? then this is big and th... | Error: Error code: 429 - {'error': {'message': 'Rate limit reached for model `llama3-8b-8192` in organization `org_01jpvzq9f4e11t7x9pmtnxzxe8` service tier `on_demand` on tokens per day (TPD): Limit 500000, Used 499922, Requested 611. Please try again in 1m32.0856s. Need more tokens? Upgrade to Dev Tier today at https://console.groq.com/settings/billing', 'type': 'tokens', 'code': 'rate_limit_exceeded'}}\n"
     ]
    },
    {
     "name": "stderr",
     "output_type": "stream",
     "text": [
      "Classifying Logical Fallacies:  74%|███████▍  | 743/1000 [1:00:20<00:13, 18.85it/s]"
     ]
    },
    {
     "name": "stdout",
     "output_type": "stream",
     "text": [
      "Error processing text: :  is right. Let us also not forget the importance... | Error: Error code: 429 - {'error': {'message': 'Rate limit reached for model `llama3-8b-8192` in organization `org_01jpvzq9f4e11t7x9pmtnxzxe8` service tier `on_demand` on tokens per day (TPD): Limit 500000, Used 499922, Requested 590. Please try again in 1m28.4148s. Need more tokens? Upgrade to Dev Tier today at https://console.groq.com/settings/billing', 'type': 'tokens', 'code': 'rate_limit_exceeded'}}\n",
      "Error processing text: I believe that when we die, we are all given new, ... | Error: Error code: 429 - {'error': {'message': 'Rate limit reached for model `llama3-8b-8192` in organization `org_01jpvzq9f4e11t7x9pmtnxzxe8` service tier `on_demand` on tokens per day (TPD): Limit 500000, Used 499922, Requested 588. Please try again in 1m27.9952s. Need more tokens? Upgrade to Dev Tier today at https://console.groq.com/settings/billing', 'type': 'tokens', 'code': 'rate_limit_exceeded'}}\n",
      "Error processing text: I was elected the first woman of color, and black ... | Error: Error code: 429 - {'error': {'message': 'Rate limit reached for model `llama3-8b-8192` in organization `org_01jpvzq9f4e11t7x9pmtnxzxe8` service tier `on_demand` on tokens per day (TPD): Limit 500000, Used 499921, Requested 555. Please try again in 1m22.2478s. Need more tokens? Upgrade to Dev Tier today at https://console.groq.com/settings/billing', 'type': 'tokens', 'code': 'rate_limit_exceeded'}}\n",
      "Error processing text: The members of La Manda were released on bail beca... | Error: Error code: 429 - {'error': {'message': 'Rate limit reached for model `llama3-8b-8192` in organization `org_01jpvzq9f4e11t7x9pmtnxzxe8` service tier `on_demand` on tokens per day (TPD): Limit 500000, Used 499921, Requested 630. Please try again in 1m35.165799999s. Need more tokens? Upgrade to Dev Tier today at https://console.groq.com/settings/billing', 'type': 'tokens', 'code': 'rate_limit_exceeded'}}\n"
     ]
    },
    {
     "name": "stderr",
     "output_type": "stream",
     "text": [
      "Classifying Logical Fallacies:  75%|███████▍  | 749/1000 [1:00:20<00:12, 20.37it/s]"
     ]
    },
    {
     "name": "stdout",
     "output_type": "stream",
     "text": [
      "Error processing text: But it's very important that we not overstep our b... | Error: Error code: 429 - {'error': {'message': 'Rate limit reached for model `llama3-8b-8192` in organization `org_01jpvzq9f4e11t7x9pmtnxzxe8` service tier `on_demand` on tokens per day (TPD): Limit 500000, Used 499921, Requested 601. Please try again in 1m30.1126s. Need more tokens? Upgrade to Dev Tier today at https://console.groq.com/settings/billing', 'type': 'tokens', 'code': 'rate_limit_exceeded'}}\n",
      "Error processing text: Each brick in that building weighs less than a pou... | Error: Error code: 429 - {'error': {'message': 'Rate limit reached for model `llama3-8b-8192` in organization `org_01jpvzq9f4e11t7x9pmtnxzxe8` service tier `on_demand` on tokens per day (TPD): Limit 500000, Used 499921, Requested 589. Please try again in 1m27.98s. Need more tokens? Upgrade to Dev Tier today at https://console.groq.com/settings/billing', 'type': 'tokens', 'code': 'rate_limit_exceeded'}}\n",
      "Error processing text: Adding to your point, we can't take the example of... | Error: Error code: 429 - {'error': {'message': 'Rate limit reached for model `llama3-8b-8192` in organization `org_01jpvzq9f4e11t7x9pmtnxzxe8` service tier `on_demand` on tokens per day (TPD): Limit 500000, Used 499920, Requested 668. Please try again in 1m41.586199999s. Need more tokens? Upgrade to Dev Tier today at https://console.groq.com/settings/billing', 'type': 'tokens', 'code': 'rate_limit_exceeded'}}\n",
      "Error processing text: fraudulent process... | Error: Error code: 429 - {'error': {'message': 'Rate limit reached for model `llama3-8b-8192` in organization `org_01jpvzq9f4e11t7x9pmtnxzxe8` service tier `on_demand` on tokens per day (TPD): Limit 500000, Used 499920, Requested 546. Please try again in 1m20.4606s. Need more tokens? Upgrade to Dev Tier today at https://console.groq.com/settings/billing', 'type': 'tokens', 'code': 'rate_limit_exceeded'}}\n",
      "Error processing text: I think the opinion of Dr Joseph Helou should be t... | Error: Error code: 429 - {'error': {'message': 'Rate limit reached for model `llama3-8b-8192` in organization `org_01jpvzq9f4e11t7x9pmtnxzxe8` service tier `on_demand` on tokens per day (TPD): Limit 500000, Used 499920, Requested 643. Please try again in 1m37.1772s. Need more tokens? Upgrade to Dev Tier today at https://console.groq.com/settings/billing', 'type': 'tokens', 'code': 'rate_limit_exceeded'}}\n"
     ]
    },
    {
     "name": "stderr",
     "output_type": "stream",
     "text": [
      "Classifying Logical Fallacies:  75%|███████▌  | 752/1000 [1:00:20<00:11, 21.05it/s]"
     ]
    },
    {
     "name": "stdout",
     "output_type": "stream",
     "text": [
      "Error processing text: While this may be a minor victory on the world sta... | Error: Error code: 429 - {'error': {'message': 'Rate limit reached for model `llama3-8b-8192` in organization `org_01jpvzq9f4e11t7x9pmtnxzxe8` service tier `on_demand` on tokens per day (TPD): Limit 500000, Used 499920, Requested 588. Please try again in 1m27.6292s. Need more tokens? Upgrade to Dev Tier today at https://console.groq.com/settings/billing', 'type': 'tokens', 'code': 'rate_limit_exceeded'}}\n",
      "Error processing text: Im sure you are a christ, that is the reason why y... | Error: Error code: 429 - {'error': {'message': 'Rate limit reached for model `llama3-8b-8192` in organization `org_01jpvzq9f4e11t7x9pmtnxzxe8` service tier `on_demand` on tokens per day (TPD): Limit 500000, Used 499919, Requested 559. Please try again in 1m22.571s. Need more tokens? Upgrade to Dev Tier today at https://console.groq.com/settings/billing', 'type': 'tokens', 'code': 'rate_limit_exceeded'}}\n",
      "Error processing text: All minority groups need to be protected by the go... | Error: Error code: 429 - {'error': {'message': 'Rate limit reached for model `llama3-8b-8192` in organization `org_01jpvzq9f4e11t7x9pmtnxzxe8` service tier `on_demand` on tokens per day (TPD): Limit 500000, Used 499919, Requested 617. Please try again in 1m32.552399999s. Need more tokens? Upgrade to Dev Tier today at https://console.groq.com/settings/billing', 'type': 'tokens', 'code': 'rate_limit_exceeded'}}\n",
      "Error processing text: If we don't succeed, we've failed completely.... | Error: Error code: 429 - {'error': {'message': 'Rate limit reached for model `llama3-8b-8192` in organization `org_01jpvzq9f4e11t7x9pmtnxzxe8` service tier `on_demand` on tokens per day (TPD): Limit 500000, Used 499919, Requested 553. Please try again in 1m21.4492s. Need more tokens? Upgrade to Dev Tier today at https://console.groq.com/settings/billing', 'type': 'tokens', 'code': 'rate_limit_exceeded'}}\n",
      "Error processing text: Media issues are not a big concern since this is n... | Error: Error code: 429 - {'error': {'message': 'Rate limit reached for model `llama3-8b-8192` in organization `org_01jpvzq9f4e11t7x9pmtnxzxe8` service tier `on_demand` on tokens per day (TPD): Limit 500000, Used 499919, Requested 588. Please try again in 1m27.4522s. Need more tokens? Upgrade to Dev Tier today at https://console.groq.com/settings/billing', 'type': 'tokens', 'code': 'rate_limit_exceeded'}}\n"
     ]
    },
    {
     "name": "stderr",
     "output_type": "stream",
     "text": [
      "Classifying Logical Fallacies:  76%|███████▌  | 758/1000 [1:00:20<00:11, 21.09it/s]"
     ]
    },
    {
     "name": "stdout",
     "output_type": "stream",
     "text": [
      "Error processing text: A group is either a terrorist or not. Though one m... | Error: Error code: 429 - {'error': {'message': 'Rate limit reached for model `llama3-8b-8192` in organization `org_01jpvzq9f4e11t7x9pmtnxzxe8` service tier `on_demand` on tokens per day (TPD): Limit 500000, Used 499918, Requested 586. Please try again in 1m27.0646s. Need more tokens? Upgrade to Dev Tier today at https://console.groq.com/settings/billing', 'type': 'tokens', 'code': 'rate_limit_exceeded'}}\n",
      "Error processing text: No one should go see them if they don't want night... | Error: Error code: 429 - {'error': {'message': 'Rate limit reached for model `llama3-8b-8192` in organization `org_01jpvzq9f4e11t7x9pmtnxzxe8` service tier `on_demand` on tokens per day (TPD): Limit 500000, Used 499918, Requested 556. Please try again in 1m21.830599999s. Need more tokens? Upgrade to Dev Tier today at https://console.groq.com/settings/billing', 'type': 'tokens', 'code': 'rate_limit_exceeded'}}\n",
      "Error processing text: How absurd is it that HK can't do what it wants wi... | Error: Error code: 429 - {'error': {'message': 'Rate limit reached for model `llama3-8b-8192` in organization `org_01jpvzq9f4e11t7x9pmtnxzxe8` service tier `on_demand` on tokens per day (TPD): Limit 500000, Used 499918, Requested 615. Please try again in 1m31.9818s. Need more tokens? Upgrade to Dev Tier today at https://console.groq.com/settings/billing', 'type': 'tokens', 'code': 'rate_limit_exceeded'}}\n",
      "Error processing text: Yes, because if they don't, that makes them hatefu... | Error: Error code: 429 - {'error': {'message': 'Rate limit reached for model `llama3-8b-8192` in organization `org_01jpvzq9f4e11t7x9pmtnxzxe8` service tier `on_demand` on tokens per day (TPD): Limit 500000, Used 499918, Requested 559. Please try again in 1m22.253s. Need more tokens? Upgrade to Dev Tier today at https://console.groq.com/settings/billing', 'type': 'tokens', 'code': 'rate_limit_exceeded'}}\n",
      "Error processing text: dog whistle... | Error: Error code: 429 - {'error': {'message': 'Rate limit reached for model `llama3-8b-8192` in organization `org_01jpvzq9f4e11t7x9pmtnxzxe8` service tier `on_demand` on tokens per day (TPD): Limit 500000, Used 499917, Requested 544. Please try again in 1m19.613s. Need more tokens? Upgrade to Dev Tier today at https://console.groq.com/settings/billing', 'type': 'tokens', 'code': 'rate_limit_exceeded'}}\n"
     ]
    },
    {
     "name": "stderr",
     "output_type": "stream",
     "text": [
      "Classifying Logical Fallacies:  76%|███████▌  | 761/1000 [1:00:21<00:11, 20.43it/s]"
     ]
    },
    {
     "name": "stdout",
     "output_type": "stream",
     "text": [
      "Error processing text: :  Dr, Please explain the pathophysiology to the w... | Error: Error code: 429 - {'error': {'message': 'Rate limit reached for model `llama3-8b-8192` in organization `org_01jpvzq9f4e11t7x9pmtnxzxe8` service tier `on_demand` on tokens per day (TPD): Limit 500000, Used 499917, Requested 602. Please try again in 1m29.589399999s. Need more tokens? Upgrade to Dev Tier today at https://console.groq.com/settings/billing', 'type': 'tokens', 'code': 'rate_limit_exceeded'}}\n",
      "Error processing text: Three congressional representatives have had affai... | Error: Error code: 429 - {'error': {'message': 'Rate limit reached for model `llama3-8b-8192` in organization `org_01jpvzq9f4e11t7x9pmtnxzxe8` service tier `on_demand` on tokens per day (TPD): Limit 500000, Used 499917, Requested 564. Please try again in 1m22.961s. Need more tokens? Upgrade to Dev Tier today at https://console.groq.com/settings/billing', 'type': 'tokens', 'code': 'rate_limit_exceeded'}}\n"
     ]
    },
    {
     "name": "stderr",
     "output_type": "stream",
     "text": [
      "Classifying Logical Fallacies:  76%|███████▋  | 764/1000 [1:00:21<00:16, 14.53it/s]"
     ]
    },
    {
     "name": "stdout",
     "output_type": "stream",
     "text": [
      "Error processing text: If you don't say the Pledge of Allegiance, then yo... | Error: Error code: 429 - {'error': {'message': 'Rate limit reached for model `llama3-8b-8192` in organization `org_01jpvzq9f4e11t7x9pmtnxzxe8` service tier `on_demand` on tokens per day (TPD): Limit 500000, Used 499916, Requested 559. Please try again in 1m22.038s. Need more tokens? Upgrade to Dev Tier today at https://console.groq.com/settings/billing', 'type': 'tokens', 'code': 'rate_limit_exceeded'}}\n",
      "Error processing text: Either this movie is a masterpiece, or it's garbag... | Error: Error code: 429 - {'error': {'message': 'Rate limit reached for model `llama3-8b-8192` in organization `org_01jpvzq9f4e11t7x9pmtnxzxe8` service tier `on_demand` on tokens per day (TPD): Limit 500000, Used 499915, Requested 555. Please try again in 1m21.1738s. Need more tokens? Upgrade to Dev Tier today at https://console.groq.com/settings/billing', 'type': 'tokens', 'code': 'rate_limit_exceeded'}}\n",
      "Error processing text: For good reason : In the U.S. , and for much of th... | Error: Error code: 429 - {'error': {'message': 'Rate limit reached for model `llama3-8b-8192` in organization `org_01jpvzq9f4e11t7x9pmtnxzxe8` service tier `on_demand` on tokens per day (TPD): Limit 500000, Used 499915, Requested 619. Please try again in 1m32.126s. Need more tokens? Upgrade to Dev Tier today at https://console.groq.com/settings/billing', 'type': 'tokens', 'code': 'rate_limit_exceeded'}}\n"
     ]
    },
    {
     "name": "stderr",
     "output_type": "stream",
     "text": [
      "Classifying Logical Fallacies:  77%|███████▋  | 766/1000 [1:00:21<00:20, 11.49it/s]"
     ]
    },
    {
     "name": "stdout",
     "output_type": "stream",
     "text": [
      "Error processing text: : Somewhat ironically I suspect vaccine enthusiasm... | Error: Error code: 429 - {'error': {'message': 'Rate limit reached for model `llama3-8b-8192` in organization `org_01jpvzq9f4e11t7x9pmtnxzxe8` service tier `on_demand` on tokens per day (TPD): Limit 500000, Used 499913, Requested 607. Please try again in 1m29.8544s. Need more tokens? Upgrade to Dev Tier today at https://console.groq.com/settings/billing', 'type': 'tokens', 'code': 'rate_limit_exceeded'}}\n",
      "Error processing text: My father told me that things were better when he ... | Error: Error code: 429 - {'error': {'message': 'Rate limit reached for model `llama3-8b-8192` in organization `org_01jpvzq9f4e11t7x9pmtnxzxe8` service tier `on_demand` on tokens per day (TPD): Limit 500000, Used 499913, Requested 564. Please try again in 1m22.318s. Need more tokens? Upgrade to Dev Tier today at https://console.groq.com/settings/billing', 'type': 'tokens', 'code': 'rate_limit_exceeded'}}\n",
      "Error processing text: Violence is never the answer during a peaceful pro... | Error: Error code: 429 - {'error': {'message': 'Rate limit reached for model `llama3-8b-8192` in organization `org_01jpvzq9f4e11t7x9pmtnxzxe8` service tier `on_demand` on tokens per day (TPD): Limit 500000, Used 499912, Requested 594. Please try again in 1m27.405s. Need more tokens? Upgrade to Dev Tier today at https://console.groq.com/settings/billing', 'type': 'tokens', 'code': 'rate_limit_exceeded'}}\n"
     ]
    },
    {
     "name": "stderr",
     "output_type": "stream",
     "text": [
      "Classifying Logical Fallacies:  77%|███████▋  | 770/1000 [1:00:22<00:21, 10.93it/s]"
     ]
    },
    {
     "name": "stdout",
     "output_type": "stream",
     "text": [
      "Error processing text: :  Is the amount of abs produced by a vaccine a ke... | Error: Error code: 429 - {'error': {'message': 'Rate limit reached for model `llama3-8b-8192` in organization `org_01jpvzq9f4e11t7x9pmtnxzxe8` service tier `on_demand` on tokens per day (TPD): Limit 500000, Used 499912, Requested 564. Please try again in 1m22.118s. Need more tokens? Upgrade to Dev Tier today at https://console.groq.com/settings/billing', 'type': 'tokens', 'code': 'rate_limit_exceeded'}}\n",
      "Error processing text: We can't believe what he says out of that ugly mou... | Error: Error code: 429 - {'error': {'message': 'Rate limit reached for model `llama3-8b-8192` in organization `org_01jpvzq9f4e11t7x9pmtnxzxe8` service tier `on_demand` on tokens per day (TPD): Limit 500000, Used 499911, Requested 557. Please try again in 1m20.8134s. Need more tokens? Upgrade to Dev Tier today at https://console.groq.com/settings/billing', 'type': 'tokens', 'code': 'rate_limit_exceeded'}}\n",
      "Error processing text: : EC v AZ latest.  on German radio this morning: t... | Error: Error code: 429 - {'error': {'message': 'Rate limit reached for model `llama3-8b-8192` in organization `org_01jpvzq9f4e11t7x9pmtnxzxe8` service tier `on_demand` on tokens per day (TPD): Limit 500000, Used 499911, Requested 599. Please try again in 1m27.971s. Need more tokens? Upgrade to Dev Tier today at https://console.groq.com/settings/billing', 'type': 'tokens', 'code': 'rate_limit_exceeded'}}\n"
     ]
    },
    {
     "name": "stderr",
     "output_type": "stream",
     "text": [
      "Classifying Logical Fallacies:  77%|███████▋  | 772/1000 [1:00:22<00:21, 10.45it/s]"
     ]
    },
    {
     "name": "stdout",
     "output_type": "stream",
     "text": [
      "Error processing text: You should never break traffic laws.\"\"Who are you ... | Error: Error code: 429 - {'error': {'message': 'Rate limit reached for model `llama3-8b-8192` in organization `org_01jpvzq9f4e11t7x9pmtnxzxe8` service tier `on_demand` on tokens per day (TPD): Limit 500000, Used 499910, Requested 571. Please try again in 1m23.0326s. Need more tokens? Upgrade to Dev Tier today at https://console.groq.com/settings/billing', 'type': 'tokens', 'code': 'rate_limit_exceeded'}}\n",
      "Error processing text: choking... | Error: Error code: 429 - {'error': {'message': 'Rate limit reached for model `llama3-8b-8192` in organization `org_01jpvzq9f4e11t7x9pmtnxzxe8` service tier `on_demand` on tokens per day (TPD): Limit 500000, Used 499909, Requested 543. Please try again in 1m18.0932s. Need more tokens? Upgrade to Dev Tier today at https://console.groq.com/settings/billing', 'type': 'tokens', 'code': 'rate_limit_exceeded'}}\n",
      "Error processing text: :   ...  uspoli cdnpoli pnpcbc UKpolitics auspol p... | Error: Error code: 429 - {'error': {'message': 'Rate limit reached for model `llama3-8b-8192` in organization `org_01jpvzq9f4e11t7x9pmtnxzxe8` service tier `on_demand` on tokens per day (TPD): Limit 500000, Used 499909, Requested 604. Please try again in 1m28.577999999s. Need more tokens? Upgrade to Dev Tier today at https://console.groq.com/settings/billing', 'type': 'tokens', 'code': 'rate_limit_exceeded'}}\n",
      "Error processing text: I will defend Planned Parenthood .  I will defend ... | Error: Error code: 429 - {'error': {'message': 'Rate limit reached for model `llama3-8b-8192` in organization `org_01jpvzq9f4e11t7x9pmtnxzxe8` service tier `on_demand` on tokens per day (TPD): Limit 500000, Used 499909, Requested 576. Please try again in 1m23.6906s. Need more tokens? Upgrade to Dev Tier today at https://console.groq.com/settings/billing', 'type': 'tokens', 'code': 'rate_limit_exceeded'}}\n"
     ]
    },
    {
     "name": "stderr",
     "output_type": "stream",
     "text": [
      "Classifying Logical Fallacies:  78%|███████▊  | 778/1000 [1:00:22<00:14, 14.93it/s]"
     ]
    },
    {
     "name": "stdout",
     "output_type": "stream",
     "text": [
      "Error processing text: :  Mask up, folks! It's not partisan - it's patrio... | Error: Error code: 429 - {'error': {'message': 'Rate limit reached for model `llama3-8b-8192` in organization `org_01jpvzq9f4e11t7x9pmtnxzxe8` service tier `on_demand` on tokens per day (TPD): Limit 500000, Used 499909, Requested 555. Please try again in 1m20.0168s. Need more tokens? Upgrade to Dev Tier today at https://console.groq.com/settings/billing', 'type': 'tokens', 'code': 'rate_limit_exceeded'}}\n",
      "Error processing text: But if Turkey joins the EU, poor Turks might invad... | Error: Error code: 429 - {'error': {'message': 'Rate limit reached for model `llama3-8b-8192` in organization `org_01jpvzq9f4e11t7x9pmtnxzxe8` service tier `on_demand` on tokens per day (TPD): Limit 500000, Used 499908, Requested 569. Please try again in 1m22.392s. Need more tokens? Upgrade to Dev Tier today at https://console.groq.com/settings/billing', 'type': 'tokens', 'code': 'rate_limit_exceeded'}}\n",
      "Error processing text: : I couldn't be prouder than to work for a Preside... | Error: Error code: 429 - {'error': {'message': 'Rate limit reached for model `llama3-8b-8192` in organization `org_01jpvzq9f4e11t7x9pmtnxzxe8` service tier `on_demand` on tokens per day (TPD): Limit 500000, Used 499908, Requested 608. Please try again in 1m29.0852s. Need more tokens? Upgrade to Dev Tier today at https://console.groq.com/settings/billing', 'type': 'tokens', 'code': 'rate_limit_exceeded'}}\n",
      "Error processing text: The Azerbaijan snap election doesn't sound fair. T... | Error: Error code: 429 - {'error': {'message': 'Rate limit reached for model `llama3-8b-8192` in organization `org_01jpvzq9f4e11t7x9pmtnxzxe8` service tier `on_demand` on tokens per day (TPD): Limit 500000, Used 499908, Requested 597. Please try again in 1m27.1354s. Need more tokens? Upgrade to Dev Tier today at https://console.groq.com/settings/billing', 'type': 'tokens', 'code': 'rate_limit_exceeded'}}\n",
      "Error processing text: I think uh - the uh - increase and the uh - prospe... | Error: Error code: 429 - {'error': {'message': 'Rate limit reached for model `llama3-8b-8192` in organization `org_01jpvzq9f4e11t7x9pmtnxzxe8` service tier `on_demand` on tokens per day (TPD): Limit 500000, Used 499907, Requested 609. Please try again in 1m29.164s. Need more tokens? Upgrade to Dev Tier today at https://console.groq.com/settings/billing', 'type': 'tokens', 'code': 'rate_limit_exceeded'}}\n"
     ]
    },
    {
     "name": "stderr",
     "output_type": "stream",
     "text": [
      "Classifying Logical Fallacies:  78%|███████▊  | 784/1000 [1:00:22<00:11, 18.29it/s]"
     ]
    },
    {
     "name": "stdout",
     "output_type": "stream",
     "text": [
      "Error processing text: :  FDA puts out statement against HCQ treatment, d... | Error: Error code: 429 - {'error': {'message': 'Rate limit reached for model `llama3-8b-8192` in organization `org_01jpvzq9f4e11t7x9pmtnxzxe8` service tier `on_demand` on tokens per day (TPD): Limit 500000, Used 499907, Requested 561. Please try again in 1m20.823599999s. Need more tokens? Upgrade to Dev Tier today at https://console.groq.com/settings/billing', 'type': 'tokens', 'code': 'rate_limit_exceeded'}}\n",
      "Error processing text: This whole drama seems absurd and hypocritical fro... | Error: Error code: 429 - {'error': {'message': 'Rate limit reached for model `llama3-8b-8192` in organization `org_01jpvzq9f4e11t7x9pmtnxzxe8` service tier `on_demand` on tokens per day (TPD): Limit 500000, Used 499907, Requested 629. Please try again in 1m32.53s. Need more tokens? Upgrade to Dev Tier today at https://console.groq.com/settings/billing', 'type': 'tokens', 'code': 'rate_limit_exceeded'}}\n",
      "Error processing text: What is the alternative to what the government is ... | Error: Error code: 429 - {'error': {'message': 'Rate limit reached for model `llama3-8b-8192` in organization `org_01jpvzq9f4e11t7x9pmtnxzxe8` service tier `on_demand` on tokens per day (TPD): Limit 500000, Used 499907, Requested 616. Please try again in 1m30.234599999s. Need more tokens? Upgrade to Dev Tier today at https://console.groq.com/settings/billing', 'type': 'tokens', 'code': 'rate_limit_exceeded'}}\n",
      "Error processing text: I don't believe that Hillary has the stamina.... | Error: Error code: 429 - {'error': {'message': 'Rate limit reached for model `llama3-8b-8192` in organization `org_01jpvzq9f4e11t7x9pmtnxzxe8` service tier `on_demand` on tokens per day (TPD): Limit 500000, Used 499906, Requested 553. Please try again in 1m19.3052s. Need more tokens? Upgrade to Dev Tier today at https://console.groq.com/settings/billing', 'type': 'tokens', 'code': 'rate_limit_exceeded'}}\n",
      "Error processing text: John McCain is for me for president because he und... | Error: Error code: 429 - {'error': {'message': 'Rate limit reached for model `llama3-8b-8192` in organization `org_01jpvzq9f4e11t7x9pmtnxzxe8` service tier `on_demand` on tokens per day (TPD): Limit 500000, Used 499906, Requested 579. Please try again in 1m23.756s. Need more tokens? Upgrade to Dev Tier today at https://console.groq.com/settings/billing', 'type': 'tokens', 'code': 'rate_limit_exceeded'}}\n"
     ]
    },
    {
     "name": "stderr",
     "output_type": "stream",
     "text": [
      "Classifying Logical Fallacies:  79%|███████▊  | 787/1000 [1:00:23<00:11, 19.34it/s]"
     ]
    },
    {
     "name": "stdout",
     "output_type": "stream",
     "text": [
      "Error processing text: If they are political refugees, we have a duty to ... | Error: Error code: 429 - {'error': {'message': 'Rate limit reached for model `llama3-8b-8192` in organization `org_01jpvzq9f4e11t7x9pmtnxzxe8` service tier `on_demand` on tokens per day (TPD): Limit 500000, Used 499906, Requested 556. Please try again in 1m19.7346s. Need more tokens? Upgrade to Dev Tier today at https://console.groq.com/settings/billing', 'type': 'tokens', 'code': 'rate_limit_exceeded'}}\n",
      "Error processing text: So , until people actually experience climate chan... | Error: Error code: 429 - {'error': {'message': 'Rate limit reached for model `llama3-8b-8192` in organization `org_01jpvzq9f4e11t7x9pmtnxzxe8` service tier `on_demand` on tokens per day (TPD): Limit 500000, Used 499906, Requested 588. Please try again in 1m25.220199999s. Need more tokens? Upgrade to Dev Tier today at https://console.groq.com/settings/billing', 'type': 'tokens', 'code': 'rate_limit_exceeded'}}\n",
      "Error processing text: They are so poor and helpless, their situation is ... | Error: Error code: 429 - {'error': {'message': 'Rate limit reached for model `llama3-8b-8192` in organization `org_01jpvzq9f4e11t7x9pmtnxzxe8` service tier `on_demand` on tokens per day (TPD): Limit 500000, Used 499905, Requested 565. Please try again in 1m21.201799999s. Need more tokens? Upgrade to Dev Tier today at https://console.groq.com/settings/billing', 'type': 'tokens', 'code': 'rate_limit_exceeded'}}\n",
      "Error processing text: I really feel for these protesters. It feels like ... | Error: Error code: 429 - {'error': {'message': 'Rate limit reached for model `llama3-8b-8192` in organization `org_01jpvzq9f4e11t7x9pmtnxzxe8` service tier `on_demand` on tokens per day (TPD): Limit 500000, Used 499905, Requested 619. Please try again in 1m30.490999999s. Need more tokens? Upgrade to Dev Tier today at https://console.groq.com/settings/billing', 'type': 'tokens', 'code': 'rate_limit_exceeded'}}\n",
      "Error processing text: : Moderna reports its COVID-19 vaccine is safe, pr... | Error: Error code: 429 - {'error': {'message': 'Rate limit reached for model `llama3-8b-8192` in organization `org_01jpvzq9f4e11t7x9pmtnxzxe8` service tier `on_demand` on tokens per day (TPD): Limit 500000, Used 499905, Requested 565. Please try again in 1m21.1168s. Need more tokens? Upgrade to Dev Tier today at https://console.groq.com/settings/billing', 'type': 'tokens', 'code': 'rate_limit_exceeded'}}\n"
     ]
    },
    {
     "name": "stderr",
     "output_type": "stream",
     "text": [
      "Classifying Logical Fallacies:  79%|███████▉  | 793/1000 [1:00:23<00:09, 21.01it/s]"
     ]
    },
    {
     "name": "stdout",
     "output_type": "stream",
     "text": [
      "Error processing text: Not everyone wants him released. It is certainly p... | Error: Error code: 429 - {'error': {'message': 'Rate limit reached for model `llama3-8b-8192` in organization `org_01jpvzq9f4e11t7x9pmtnxzxe8` service tier `on_demand` on tokens per day (TPD): Limit 500000, Used 499905, Requested 636. Please try again in 1m33.3406s. Need more tokens? Upgrade to Dev Tier today at https://console.groq.com/settings/billing', 'type': 'tokens', 'code': 'rate_limit_exceeded'}}\n",
      "Error processing text: Even in warm summers , there ' s plenty of ice ove... | Error: Error code: 429 - {'error': {'message': 'Rate limit reached for model `llama3-8b-8192` in organization `org_01jpvzq9f4e11t7x9pmtnxzxe8` service tier `on_demand` on tokens per day (TPD): Limit 500000, Used 499904, Requested 561. Please try again in 1m20.3326s. Need more tokens? Upgrade to Dev Tier today at https://console.groq.com/settings/billing', 'type': 'tokens', 'code': 'rate_limit_exceeded'}}\n",
      "Error processing text: “CO2 is certainly a heat-trapping greenhouse gas, ... | Error: Error code: 429 - {'error': {'message': 'Rate limit reached for model `llama3-8b-8192` in organization `org_01jpvzq9f4e11t7x9pmtnxzxe8` service tier `on_demand` on tokens per day (TPD): Limit 500000, Used 499904, Requested 609. Please try again in 1m28.582s. Need more tokens? Upgrade to Dev Tier today at https://console.groq.com/settings/billing', 'type': 'tokens', 'code': 'rate_limit_exceeded'}}\n",
      "Error processing text: Facebook should do whatever the government wants t... | Error: Error code: 429 - {'error': {'message': 'Rate limit reached for model `llama3-8b-8192` in organization `org_01jpvzq9f4e11t7x9pmtnxzxe8` service tier `on_demand` on tokens per day (TPD): Limit 500000, Used 499904, Requested 589. Please try again in 1m25.085s. Need more tokens? Upgrade to Dev Tier today at https://console.groq.com/settings/billing', 'type': 'tokens', 'code': 'rate_limit_exceeded'}}\n",
      "Error processing text: Either you're perfect, or you're a failure.... | Error: Error code: 429 - {'error': {'message': 'Rate limit reached for model `llama3-8b-8192` in organization `org_01jpvzq9f4e11t7x9pmtnxzxe8` service tier `on_demand` on tokens per day (TPD): Limit 500000, Used 499904, Requested 552. Please try again in 1m18.6454s. Need more tokens? Upgrade to Dev Tier today at https://console.groq.com/settings/billing', 'type': 'tokens', 'code': 'rate_limit_exceeded'}}\n"
     ]
    },
    {
     "name": "stderr",
     "output_type": "stream",
     "text": [
      "Classifying Logical Fallacies:  80%|███████▉  | 796/1000 [1:00:23<00:09, 21.13it/s]"
     ]
    },
    {
     "name": "stdout",
     "output_type": "stream",
     "text": [
      "Error processing text: : We can see it spreading outside South & East Eng... | Error: Error code: 429 - {'error': {'message': 'Rate limit reached for model `llama3-8b-8192` in organization `org_01jpvzq9f4e11t7x9pmtnxzxe8` service tier `on_demand` on tokens per day (TPD): Limit 500000, Used 499903, Requested 595. Please try again in 1m26.0298s. Need more tokens? Upgrade to Dev Tier today at https://console.groq.com/settings/billing', 'type': 'tokens', 'code': 'rate_limit_exceeded'}}\n",
      "Error processing text: It makes my heart break when I see children sittin... | Error: Error code: 429 - {'error': {'message': 'Rate limit reached for model `llama3-8b-8192` in organization `org_01jpvzq9f4e11t7x9pmtnxzxe8` service tier `on_demand` on tokens per day (TPD): Limit 500000, Used 499903, Requested 579. Please try again in 1m23.219s. Need more tokens? Upgrade to Dev Tier today at https://console.groq.com/settings/billing', 'type': 'tokens', 'code': 'rate_limit_exceeded'}}\n",
      "Error processing text: While I am as concerned as you are over the rise o... | Error: Error code: 429 - {'error': {'message': 'Rate limit reached for model `llama3-8b-8192` in organization `org_01jpvzq9f4e11t7x9pmtnxzxe8` service tier `on_demand` on tokens per day (TPD): Limit 500000, Used 499903, Requested 714. Please try again in 1m46.482s. Need more tokens? Upgrade to Dev Tier today at https://console.groq.com/settings/billing', 'type': 'tokens', 'code': 'rate_limit_exceeded'}}\n",
      "Error processing text: Anybody that is against nazi's is a good group. Al... | Error: Error code: 429 - {'error': {'message': 'Rate limit reached for model `llama3-8b-8192` in organization `org_01jpvzq9f4e11t7x9pmtnxzxe8` service tier `on_demand` on tokens per day (TPD): Limit 500000, Used 499902, Requested 579. Please try again in 1m23.109s. Need more tokens? Upgrade to Dev Tier today at https://console.groq.com/settings/billing', 'type': 'tokens', 'code': 'rate_limit_exceeded'}}\n"
     ]
    },
    {
     "name": "stderr",
     "output_type": "stream",
     "text": [
      "Classifying Logical Fallacies:  80%|████████  | 802/1000 [1:00:23<00:09, 20.28it/s]"
     ]
    },
    {
     "name": "stdout",
     "output_type": "stream",
     "text": [
      "Error processing text: The Apollo missions were all faked. No one has eve... | Error: Error code: 429 - {'error': {'message': 'Rate limit reached for model `llama3-8b-8192` in organization `org_01jpvzq9f4e11t7x9pmtnxzxe8` service tier `on_demand` on tokens per day (TPD): Limit 500000, Used 499902, Requested 559. Please try again in 1m19.610999999s. Need more tokens? Upgrade to Dev Tier today at https://console.groq.com/settings/billing', 'type': 'tokens', 'code': 'rate_limit_exceeded'}}\n",
      "Error processing text: such tremendous potential... | Error: Error code: 429 - {'error': {'message': 'Rate limit reached for model `llama3-8b-8192` in organization `org_01jpvzq9f4e11t7x9pmtnxzxe8` service tier `on_demand` on tokens per day (TPD): Limit 500000, Used 499902, Requested 548. Please try again in 1m17.6432s. Need more tokens? Upgrade to Dev Tier today at https://console.groq.com/settings/billing', 'type': 'tokens', 'code': 'rate_limit_exceeded'}}\n",
      "Error processing text: Of course they are not! You probably went to one, ... | Error: Error code: 429 - {'error': {'message': 'Rate limit reached for model `llama3-8b-8192` in organization `org_01jpvzq9f4e11t7x9pmtnxzxe8` service tier `on_demand` on tokens per day (TPD): Limit 500000, Used 499902, Requested 562. Please try again in 1m20.0204s. Need more tokens? Upgrade to Dev Tier today at https://console.groq.com/settings/billing', 'type': 'tokens', 'code': 'rate_limit_exceeded'}}\n",
      "Error processing text: Do we really believe that one bellowing fan in a c... | Error: Error code: 429 - {'error': {'message': 'Rate limit reached for model `llama3-8b-8192` in organization `org_01jpvzq9f4e11t7x9pmtnxzxe8` service tier `on_demand` on tokens per day (TPD): Limit 500000, Used 499901, Requested 572. Please try again in 1m21.7004s. Need more tokens? Upgrade to Dev Tier today at https://console.groq.com/settings/billing', 'type': 'tokens', 'code': 'rate_limit_exceeded'}}\n",
      "Error processing text: Considering recent events, it was perhaps inevitab... | Error: Error code: 429 - {'error': {'message': 'Rate limit reached for model `llama3-8b-8192` in organization `org_01jpvzq9f4e11t7x9pmtnxzxe8` service tier `on_demand` on tokens per day (TPD): Limit 500000, Used 499901, Requested 595. Please try again in 1m25.6258s. Need more tokens? Upgrade to Dev Tier today at https://console.groq.com/settings/billing', 'type': 'tokens', 'code': 'rate_limit_exceeded'}}\n"
     ]
    },
    {
     "name": "stderr",
     "output_type": "stream",
     "text": [
      "Classifying Logical Fallacies:  80%|████████  | 805/1000 [1:00:23<00:09, 20.02it/s]"
     ]
    },
    {
     "name": "stdout",
     "output_type": "stream",
     "text": [
      "Error processing text: NOAA ’ s alteration of its measurement standard an... | Error: Error code: 429 - {'error': {'message': 'Rate limit reached for model `llama3-8b-8192` in organization `org_01jpvzq9f4e11t7x9pmtnxzxe8` service tier `on_demand` on tokens per day (TPD): Limit 500000, Used 499901, Requested 615. Please try again in 1m29.0348s. Need more tokens? Upgrade to Dev Tier today at https://console.groq.com/settings/billing', 'type': 'tokens', 'code': 'rate_limit_exceeded'}}\n",
      "Error processing text: :  He's committed to improving lives of average Am... | Error: Error code: 429 - {'error': {'message': 'Rate limit reached for model `llama3-8b-8192` in organization `org_01jpvzq9f4e11t7x9pmtnxzxe8` service tier `on_demand` on tokens per day (TPD): Limit 500000, Used 499900, Requested 576. Please try again in 1m22.2406s. Need more tokens? Upgrade to Dev Tier today at https://console.groq.com/settings/billing', 'type': 'tokens', 'code': 'rate_limit_exceeded'}}\n",
      "Error processing text: Well, you owe the president an apology, because as... | Error: Error code: 429 - {'error': {'message': 'Rate limit reached for model `llama3-8b-8192` in organization `org_01jpvzq9f4e11t7x9pmtnxzxe8` service tier `on_demand` on tokens per day (TPD): Limit 500000, Used 499900, Requested 626. Please try again in 1m30.8316s. Need more tokens? Upgrade to Dev Tier today at https://console.groq.com/settings/billing', 'type': 'tokens', 'code': 'rate_limit_exceeded'}}\n",
      "Error processing text: Just because some people there have that opinion d... | Error: Error code: 429 - {'error': {'message': 'Rate limit reached for model `llama3-8b-8192` in organization `org_01jpvzq9f4e11t7x9pmtnxzxe8` service tier `on_demand` on tokens per day (TPD): Limit 500000, Used 499900, Requested 619. Please try again in 1m29.563s. Need more tokens? Upgrade to Dev Tier today at https://console.groq.com/settings/billing', 'type': 'tokens', 'code': 'rate_limit_exceeded'}}\n"
     ]
    },
    {
     "name": "stderr",
     "output_type": "stream",
     "text": [
      "Classifying Logical Fallacies:  81%|████████  | 811/1000 [1:00:24<00:08, 21.03it/s]"
     ]
    },
    {
     "name": "stdout",
     "output_type": "stream",
     "text": [
      "Error processing text: Do we need to fire all the police and start new? O... | Error: Error code: 429 - {'error': {'message': 'Rate limit reached for model `llama3-8b-8192` in organization `org_01jpvzq9f4e11t7x9pmtnxzxe8` service tier `on_demand` on tokens per day (TPD): Limit 500000, Used 499900, Requested 602. Please try again in 1m26.5804s. Need more tokens? Upgrade to Dev Tier today at https://console.groq.com/settings/billing', 'type': 'tokens', 'code': 'rate_limit_exceeded'}}\n",
      "Error processing text: There has to be more options that the people of Na... | Error: Error code: 429 - {'error': {'message': 'Rate limit reached for model `llama3-8b-8192` in organization `org_01jpvzq9f4e11t7x9pmtnxzxe8` service tier `on_demand` on tokens per day (TPD): Limit 500000, Used 499899, Requested 667. Please try again in 1m37.770399999s. Need more tokens? Upgrade to Dev Tier today at https://console.groq.com/settings/billing', 'type': 'tokens', 'code': 'rate_limit_exceeded'}}\n",
      "Error processing text: : Iversun Generic Ivermectin Dispersible 6 Mg and ... | Error: Error code: 429 - {'error': {'message': 'Rate limit reached for model `llama3-8b-8192` in organization `org_01jpvzq9f4e11t7x9pmtnxzxe8` service tier `on_demand` on tokens per day (TPD): Limit 500000, Used 499899, Requested 605. Please try again in 1m27.0118s. Need more tokens? Upgrade to Dev Tier today at https://console.groq.com/settings/billing', 'type': 'tokens', 'code': 'rate_limit_exceeded'}}\n",
      "Error processing text: Either you live by the rules, or you live in chaos... | Error: Error code: 429 - {'error': {'message': 'Rate limit reached for model `llama3-8b-8192` in organization `org_01jpvzq9f4e11t7x9pmtnxzxe8` service tier `on_demand` on tokens per day (TPD): Limit 500000, Used 499899, Requested 554. Please try again in 1m18.157s. Need more tokens? Upgrade to Dev Tier today at https://console.groq.com/settings/billing', 'type': 'tokens', 'code': 'rate_limit_exceeded'}}\n",
      "Error processing text: You either work hard, or you're doomed to fail.... | Error: Error code: 429 - {'error': {'message': 'Rate limit reached for model `llama3-8b-8192` in organization `org_01jpvzq9f4e11t7x9pmtnxzxe8` service tier `on_demand` on tokens per day (TPD): Limit 500000, Used 499899, Requested 553. Please try again in 1m17.9422s. Need more tokens? Upgrade to Dev Tier today at https://console.groq.com/settings/billing', 'type': 'tokens', 'code': 'rate_limit_exceeded'}}\n"
     ]
    },
    {
     "name": "stderr",
     "output_type": "stream",
     "text": [
      "Classifying Logical Fallacies:  82%|████████▏ | 817/1000 [1:00:24<00:08, 21.64it/s]"
     ]
    },
    {
     "name": "stdout",
     "output_type": "stream",
     "text": [
      "Error processing text: “The world’s alpine glaciers recorded a net annual... | Error: Error code: 429 - {'error': {'message': 'Rate limit reached for model `llama3-8b-8192` in organization `org_01jpvzq9f4e11t7x9pmtnxzxe8` service tier `on_demand` on tokens per day (TPD): Limit 500000, Used 499898, Requested 588. Please try again in 1m23.9472s. Need more tokens? Upgrade to Dev Tier today at https://console.groq.com/settings/billing', 'type': 'tokens', 'code': 'rate_limit_exceeded'}}\n",
      "Error processing text: I recognize what you are saying about the US, we a... | Error: Error code: 429 - {'error': {'message': 'Rate limit reached for model `llama3-8b-8192` in organization `org_01jpvzq9f4e11t7x9pmtnxzxe8` service tier `on_demand` on tokens per day (TPD): Limit 500000, Used 499898, Requested 652. Please try again in 1m34.962399999s. Need more tokens? Upgrade to Dev Tier today at https://console.groq.com/settings/billing', 'type': 'tokens', 'code': 'rate_limit_exceeded'}}\n",
      "Error processing text: I remember being in a high school in my own state ... | Error: Error code: 429 - {'error': {'message': 'Rate limit reached for model `llama3-8b-8192` in organization `org_01jpvzq9f4e11t7x9pmtnxzxe8` service tier `on_demand` on tokens per day (TPD): Limit 500000, Used 499898, Requested 612. Please try again in 1m28.0024s. Need more tokens? Upgrade to Dev Tier today at https://console.groq.com/settings/billing', 'type': 'tokens', 'code': 'rate_limit_exceeded'}}\n",
      "Error processing text: We have to have the resources to combat the fires ... | Error: Error code: 429 - {'error': {'message': 'Rate limit reached for model `llama3-8b-8192` in organization `org_01jpvzq9f4e11t7x9pmtnxzxe8` service tier `on_demand` on tokens per day (TPD): Limit 500000, Used 499898, Requested 596. Please try again in 1m25.190599999s. Need more tokens? Upgrade to Dev Tier today at https://console.groq.com/settings/billing', 'type': 'tokens', 'code': 'rate_limit_exceeded'}}\n",
      "Error processing text: I disagree. Just because many in Iran have voted f... | Error: Error code: 429 - {'error': {'message': 'Rate limit reached for model `llama3-8b-8192` in organization `org_01jpvzq9f4e11t7x9pmtnxzxe8` service tier `on_demand` on tokens per day (TPD): Limit 500000, Used 499897, Requested 631. Please try again in 1m31.1976s. Need more tokens? Upgrade to Dev Tier today at https://console.groq.com/settings/billing', 'type': 'tokens', 'code': 'rate_limit_exceeded'}}\n"
     ]
    },
    {
     "name": "stderr",
     "output_type": "stream",
     "text": [
      "Classifying Logical Fallacies:  82%|████████▏ | 820/1000 [1:00:24<00:08, 21.26it/s]"
     ]
    },
    {
     "name": "stdout",
     "output_type": "stream",
     "text": [
      "Error processing text: It will come from the pockets of the people who ar... | Error: Error code: 429 - {'error': {'message': 'Rate limit reached for model `llama3-8b-8192` in organization `org_01jpvzq9f4e11t7x9pmtnxzxe8` service tier `on_demand` on tokens per day (TPD): Limit 500000, Used 499897, Requested 561. Please try again in 1m19.0466s. Need more tokens? Upgrade to Dev Tier today at https://console.groq.com/settings/billing', 'type': 'tokens', 'code': 'rate_limit_exceeded'}}\n",
      "Error processing text: You're either all-in, or you're out.... | Error: Error code: 429 - {'error': {'message': 'Rate limit reached for model `llama3-8b-8192` in organization `org_01jpvzq9f4e11t7x9pmtnxzxe8` service tier `on_demand` on tokens per day (TPD): Limit 500000, Used 499897, Requested 551. Please try again in 1m17.2706s. Need more tokens? Upgrade to Dev Tier today at https://console.groq.com/settings/billing', 'type': 'tokens', 'code': 'rate_limit_exceeded'}}\n",
      "Error processing text: The fact there is no indigenous language means the... | Error: Error code: 429 - {'error': {'message': 'Rate limit reached for model `llama3-8b-8192` in organization `org_01jpvzq9f4e11t7x9pmtnxzxe8` service tier `on_demand` on tokens per day (TPD): Limit 500000, Used 499896, Requested 578. Please try again in 1m21.8912s. Need more tokens? Upgrade to Dev Tier today at https://console.groq.com/settings/billing', 'type': 'tokens', 'code': 'rate_limit_exceeded'}}\n",
      "Error processing text: Imagine how many more lives could have been saved ... | Error: Error code: 429 - {'error': {'message': 'Rate limit reached for model `llama3-8b-8192` in organization `org_01jpvzq9f4e11t7x9pmtnxzxe8` service tier `on_demand` on tokens per day (TPD): Limit 500000, Used 499896, Requested 617. Please try again in 1m28.5804s. Need more tokens? Upgrade to Dev Tier today at https://console.groq.com/settings/billing', 'type': 'tokens', 'code': 'rate_limit_exceeded'}}\n",
      "Error processing text: A charter flight for 144 dogs? That's really going... | Error: Error code: 429 - {'error': {'message': 'Rate limit reached for model `llama3-8b-8192` in organization `org_01jpvzq9f4e11t7x9pmtnxzxe8` service tier `on_demand` on tokens per day (TPD): Limit 500000, Used 499896, Requested 592. Please try again in 1m24.2174s. Need more tokens? Upgrade to Dev Tier today at https://console.groq.com/settings/billing', 'type': 'tokens', 'code': 'rate_limit_exceeded'}}\n"
     ]
    },
    {
     "name": "stderr",
     "output_type": "stream",
     "text": [
      "Classifying Logical Fallacies:  83%|████████▎ | 826/1000 [1:00:24<00:07, 21.90it/s]"
     ]
    },
    {
     "name": "stdout",
     "output_type": "stream",
     "text": [
      "Error processing text: If global warming is \" real , both sides of the de... | Error: Error code: 429 - {'error': {'message': 'Rate limit reached for model `llama3-8b-8192` in organization `org_01jpvzq9f4e11t7x9pmtnxzxe8` service tier `on_demand` on tokens per day (TPD): Limit 500000, Used 499896, Requested 573. Please try again in 1m20.892199999s. Need more tokens? Upgrade to Dev Tier today at https://console.groq.com/settings/billing', 'type': 'tokens', 'code': 'rate_limit_exceeded'}}\n",
      "Error processing text: Could this be a positive development and a fresh s... | Error: Error code: 429 - {'error': {'message': 'Rate limit reached for model `llama3-8b-8192` in organization `org_01jpvzq9f4e11t7x9pmtnxzxe8` service tier `on_demand` on tokens per day (TPD): Limit 500000, Used 499895, Requested 599. Please try again in 1m25.34s. Need more tokens? Upgrade to Dev Tier today at https://console.groq.com/settings/billing', 'type': 'tokens', 'code': 'rate_limit_exceeded'}}\n",
      "Error processing text: I think we all know America is going through tough... | Error: Error code: 429 - {'error': {'message': 'Rate limit reached for model `llama3-8b-8192` in organization `org_01jpvzq9f4e11t7x9pmtnxzxe8` service tier `on_demand` on tokens per day (TPD): Limit 500000, Used 499895, Requested 558. Please try again in 1m18.2142s. Need more tokens? Upgrade to Dev Tier today at https://console.groq.com/settings/billing', 'type': 'tokens', 'code': 'rate_limit_exceeded'}}\n",
      "Error processing text: Online bullying in Sudan is odd. Societies with re... | Error: Error code: 429 - {'error': {'message': 'Rate limit reached for model `llama3-8b-8192` in organization `org_01jpvzq9f4e11t7x9pmtnxzxe8` service tier `on_demand` on tokens per day (TPD): Limit 500000, Used 499895, Requested 587. Please try again in 1m23.1794s. Need more tokens? Upgrade to Dev Tier today at https://console.groq.com/settings/billing', 'type': 'tokens', 'code': 'rate_limit_exceeded'}}\n",
      "Error processing text: I honestly think I've never heard any good news ev... | Error: Error code: 429 - {'error': {'message': 'Rate limit reached for model `llama3-8b-8192` in organization `org_01jpvzq9f4e11t7x9pmtnxzxe8` service tier `on_demand` on tokens per day (TPD): Limit 500000, Used 499895, Requested 622. Please try again in 1m29.184399999s. Need more tokens? Upgrade to Dev Tier today at https://console.groq.com/settings/billing', 'type': 'tokens', 'code': 'rate_limit_exceeded'}}\n"
     ]
    },
    {
     "name": "stderr",
     "output_type": "stream",
     "text": [
      "Classifying Logical Fallacies:  83%|████████▎ | 829/1000 [1:00:24<00:07, 22.28it/s]"
     ]
    },
    {
     "name": "stdout",
     "output_type": "stream",
     "text": [
      "Error processing text: just a test argument... | Error: Error code: 429 - {'error': {'message': 'Rate limit reached for model `llama3-8b-8192` in organization `org_01jpvzq9f4e11t7x9pmtnxzxe8` service tier `on_demand` on tokens per day (TPD): Limit 500000, Used 499894, Requested 547. Please try again in 1m16.183399999s. Need more tokens? Upgrade to Dev Tier today at https://console.groq.com/settings/billing', 'type': 'tokens', 'code': 'rate_limit_exceeded'}}\n",
      "Error processing text: My theory is simple. It's because the Chinese gove... | Error: Error code: 429 - {'error': {'message': 'Rate limit reached for model `llama3-8b-8192` in organization `org_01jpvzq9f4e11t7x9pmtnxzxe8` service tier `on_demand` on tokens per day (TPD): Limit 500000, Used 499894, Requested 612. Please try again in 1m27.3704s. Need more tokens? Upgrade to Dev Tier today at https://console.groq.com/settings/billing', 'type': 'tokens', 'code': 'rate_limit_exceeded'}}\n",
      "Error processing text: Do we think that government overstepping its bound... | Error: Error code: 429 - {'error': {'message': 'Rate limit reached for model `llama3-8b-8192` in organization `org_01jpvzq9f4e11t7x9pmtnxzxe8` service tier `on_demand` on tokens per day (TPD): Limit 500000, Used 499894, Requested 589. Please try again in 1m23.349s. Need more tokens? Upgrade to Dev Tier today at https://console.groq.com/settings/billing', 'type': 'tokens', 'code': 'rate_limit_exceeded'}}\n",
      "Error processing text: can anyone explain the part where it says he tried... | Error: Error code: 429 - {'error': {'message': 'Rate limit reached for model `llama3-8b-8192` in organization `org_01jpvzq9f4e11t7x9pmtnxzxe8` service tier `on_demand` on tokens per day (TPD): Limit 500000, Used 499894, Requested 642. Please try again in 1m32.4644s. Need more tokens? Upgrade to Dev Tier today at https://console.groq.com/settings/billing', 'type': 'tokens', 'code': 'rate_limit_exceeded'}}\n"
     ]
    },
    {
     "name": "stderr",
     "output_type": "stream",
     "text": [
      "Classifying Logical Fallacies:  84%|████████▎ | 835/1000 [1:00:25<00:07, 21.62it/s]"
     ]
    },
    {
     "name": "stdout",
     "output_type": "stream",
     "text": [
      "Error processing text: You can look cool in our clothes, or you can look ... | Error: Error code: 429 - {'error': {'message': 'Rate limit reached for model `llama3-8b-8192` in organization `org_01jpvzq9f4e11t7x9pmtnxzxe8` service tier `on_demand` on tokens per day (TPD): Limit 500000, Used 499893, Requested 557. Please try again in 1m17.7194s. Need more tokens? Upgrade to Dev Tier today at https://console.groq.com/settings/billing', 'type': 'tokens', 'code': 'rate_limit_exceeded'}}\n",
      "Error processing text: The reason its a 2 party place is because they are... | Error: Error code: 429 - {'error': {'message': 'Rate limit reached for model `llama3-8b-8192` in organization `org_01jpvzq9f4e11t7x9pmtnxzxe8` service tier `on_demand` on tokens per day (TPD): Limit 500000, Used 499893, Requested 669. Please try again in 1m37.016s. Need more tokens? Upgrade to Dev Tier today at https://console.groq.com/settings/billing', 'type': 'tokens', 'code': 'rate_limit_exceeded'}}\n",
      "Error processing text: Waiting around for the government to solve their p... | Error: Error code: 429 - {'error': {'message': 'Rate limit reached for model `llama3-8b-8192` in organization `org_01jpvzq9f4e11t7x9pmtnxzxe8` service tier `on_demand` on tokens per day (TPD): Limit 500000, Used 499893, Requested 630. Please try again in 1m30.2358s. Need more tokens? Upgrade to Dev Tier today at https://console.groq.com/settings/billing', 'type': 'tokens', 'code': 'rate_limit_exceeded'}}\n",
      "Error processing text: If indoor smoking laws are passed for bars, the ba... | Error: Error code: 429 - {'error': {'message': 'Rate limit reached for model `llama3-8b-8192` in organization `org_01jpvzq9f4e11t7x9pmtnxzxe8` service tier `on_demand` on tokens per day (TPD): Limit 500000, Used 499892, Requested 573. Please try again in 1m20.339199999s. Need more tokens? Upgrade to Dev Tier today at https://console.groq.com/settings/billing', 'type': 'tokens', 'code': 'rate_limit_exceeded'}}\n",
      "Error processing text: tl;dr: rushed and rejected from one sorority, shou... | Error: Error code: 429 - {'error': {'message': 'Rate limit reached for model `llama3-8b-8192` in organization `org_01jpvzq9f4e11t7x9pmtnxzxe8` service tier `on_demand` on tokens per day (TPD): Limit 500000, Used 499892, Requested 643. Please try again in 1m32.3822s. Need more tokens? Upgrade to Dev Tier today at https://console.groq.com/settings/billing', 'type': 'tokens', 'code': 'rate_limit_exceeded'}}\n"
     ]
    },
    {
     "name": "stderr",
     "output_type": "stream",
     "text": [
      "Classifying Logical Fallacies:  84%|████████▍ | 841/1000 [1:00:25<00:07, 21.55it/s]"
     ]
    },
    {
     "name": "stdout",
     "output_type": "stream",
     "text": [
      "Error processing text: My opponent raised a good point, but can we trust ... | Error: Error code: 429 - {'error': {'message': 'Rate limit reached for model `llama3-8b-8192` in organization `org_01jpvzq9f4e11t7x9pmtnxzxe8` service tier `on_demand` on tokens per day (TPD): Limit 500000, Used 499892, Requested 575. Please try again in 1m20.5838s. Need more tokens? Upgrade to Dev Tier today at https://console.groq.com/settings/billing', 'type': 'tokens', 'code': 'rate_limit_exceeded'}}\n",
      "Error processing text: “The heat extremes were especially pervasive in th... | Error: Error code: 429 - {'error': {'message': 'Rate limit reached for model `llama3-8b-8192` in organization `org_01jpvzq9f4e11t7x9pmtnxzxe8` service tier `on_demand` on tokens per day (TPD): Limit 500000, Used 499892, Requested 588. Please try again in 1m22.7802s. Need more tokens? Upgrade to Dev Tier today at https://console.groq.com/settings/billing', 'type': 'tokens', 'code': 'rate_limit_exceeded'}}\n",
      "Error processing text: I know a woman that works at Deutsche Post, she do... | Error: Error code: 429 - {'error': {'message': 'Rate limit reached for model `llama3-8b-8192` in organization `org_01jpvzq9f4e11t7x9pmtnxzxe8` service tier `on_demand` on tokens per day (TPD): Limit 500000, Used 499891, Requested 566. Please try again in 1m18.9346s. Need more tokens? Upgrade to Dev Tier today at https://console.groq.com/settings/billing', 'type': 'tokens', 'code': 'rate_limit_exceeded'}}\n",
      "Error processing text: I understand why India wanted to hold back on expo... | Error: Error code: 429 - {'error': {'message': 'Rate limit reached for model `llama3-8b-8192` in organization `org_01jpvzq9f4e11t7x9pmtnxzxe8` service tier `on_demand` on tokens per day (TPD): Limit 500000, Used 499891, Requested 658. Please try again in 1m34.7862s. Need more tokens? Upgrade to Dev Tier today at https://console.groq.com/settings/billing', 'type': 'tokens', 'code': 'rate_limit_exceeded'}}\n",
      "Error processing text: If you're not helping, you're hindering.... | Error: Error code: 429 - {'error': {'message': 'Rate limit reached for model `llama3-8b-8192` in organization `org_01jpvzq9f4e11t7x9pmtnxzxe8` service tier `on_demand` on tokens per day (TPD): Limit 500000, Used 499891, Requested 552. Please try again in 1m16.4274s. Need more tokens? Upgrade to Dev Tier today at https://console.groq.com/settings/billing', 'type': 'tokens', 'code': 'rate_limit_exceeded'}}\n"
     ]
    },
    {
     "name": "stderr",
     "output_type": "stream",
     "text": [
      "Classifying Logical Fallacies:  84%|████████▍ | 844/1000 [1:00:25<00:07, 20.50it/s]"
     ]
    },
    {
     "name": "stdout",
     "output_type": "stream",
     "text": [
      "Error processing text: Unfortunately , because of back to back mass bleac... | Error: Error code: 429 - {'error': {'message': 'Rate limit reached for model `llama3-8b-8192` in organization `org_01jpvzq9f4e11t7x9pmtnxzxe8` service tier `on_demand` on tokens per day (TPD): Limit 500000, Used 499890, Requested 600. Please try again in 1m24.6498s. Need more tokens? Upgrade to Dev Tier today at https://console.groq.com/settings/billing', 'type': 'tokens', 'code': 'rate_limit_exceeded'}}\n",
      "Error processing text: Today late for ten minutes, tomorrow late for an h... | Error: Error code: 429 - {'error': {'message': 'Rate limit reached for model `llama3-8b-8192` in organization `org_01jpvzq9f4e11t7x9pmtnxzxe8` service tier `on_demand` on tokens per day (TPD): Limit 500000, Used 499890, Requested 568. Please try again in 1m19.071199999s. Need more tokens? Upgrade to Dev Tier today at https://console.groq.com/settings/billing', 'type': 'tokens', 'code': 'rate_limit_exceeded'}}\n",
      "Error processing text: :  it's so obvious like how could anyone fall for ... | Error: Error code: 429 - {'error': {'message': 'Rate limit reached for model `llama3-8b-8192` in organization `org_01jpvzq9f4e11t7x9pmtnxzxe8` service tier `on_demand` on tokens per day (TPD): Limit 500000, Used 499890, Requested 555. Please try again in 1m16.7828s. Need more tokens? Upgrade to Dev Tier today at https://console.groq.com/settings/billing', 'type': 'tokens', 'code': 'rate_limit_exceeded'}}\n",
      "Error processing text: Huge reductions in meat-eating are essential to av... | Error: Error code: 429 - {'error': {'message': 'Rate limit reached for model `llama3-8b-8192` in organization `org_01jpvzq9f4e11t7x9pmtnxzxe8` service tier `on_demand` on tokens per day (TPD): Limit 500000, Used 499890, Requested 587. Please try again in 1m22.266399999s. Need more tokens? Upgrade to Dev Tier today at https://console.groq.com/settings/billing', 'type': 'tokens', 'code': 'rate_limit_exceeded'}}\n",
      "Error processing text: The use of laptops and other devices to replace bo... | Error: Error code: 429 - {'error': {'message': 'Rate limit reached for model `llama3-8b-8192` in organization `org_01jpvzq9f4e11t7x9pmtnxzxe8` service tier `on_demand` on tokens per day (TPD): Limit 500000, Used 499889, Requested 609. Please try again in 1m26.014s. Need more tokens? Upgrade to Dev Tier today at https://console.groq.com/settings/billing', 'type': 'tokens', 'code': 'rate_limit_exceeded'}}\n"
     ]
    },
    {
     "name": "stderr",
     "output_type": "stream",
     "text": [
      "Classifying Logical Fallacies:  85%|████████▌ | 850/1000 [1:00:26<00:07, 20.38it/s]"
     ]
    },
    {
     "name": "stdout",
     "output_type": "stream",
     "text": [
      "Error processing text: The refugees will perish if not taking care of. I ... | Error: Error code: 429 - {'error': {'message': 'Rate limit reached for model `llama3-8b-8192` in organization `org_01jpvzq9f4e11t7x9pmtnxzxe8` service tier `on_demand` on tokens per day (TPD): Limit 500000, Used 499889, Requested 581. Please try again in 1m21.1306s. Need more tokens? Upgrade to Dev Tier today at https://console.groq.com/settings/billing', 'type': 'tokens', 'code': 'rate_limit_exceeded'}}\n",
      "Error processing text: If there are always bigger issues, then even the s... | Error: Error code: 429 - {'error': {'message': 'Rate limit reached for model `llama3-8b-8192` in organization `org_01jpvzq9f4e11t7x9pmtnxzxe8` service tier `on_demand` on tokens per day (TPD): Limit 500000, Used 499889, Requested 612. Please try again in 1m26.4444s. Need more tokens? Upgrade to Dev Tier today at https://console.groq.com/settings/billing', 'type': 'tokens', 'code': 'rate_limit_exceeded'}}\n",
      "Error processing text: Yes, so why aren't the people free to vote for who... | Error: Error code: 429 - {'error': {'message': 'Rate limit reached for model `llama3-8b-8192` in organization `org_01jpvzq9f4e11t7x9pmtnxzxe8` service tier `on_demand` on tokens per day (TPD): Limit 500000, Used 499888, Requested 595. Please try again in 1m23.4458s. Need more tokens? Upgrade to Dev Tier today at https://console.groq.com/settings/billing', 'type': 'tokens', 'code': 'rate_limit_exceeded'}}\n",
      "Error processing text: They should definitely accept it, everyone has the... | Error: Error code: 429 - {'error': {'message': 'Rate limit reached for model `llama3-8b-8192` in organization `org_01jpvzq9f4e11t7x9pmtnxzxe8` service tier `on_demand` on tokens per day (TPD): Limit 500000, Used 499888, Requested 565. Please try again in 1m18.219799999s. Need more tokens? Upgrade to Dev Tier today at https://console.groq.com/settings/billing', 'type': 'tokens', 'code': 'rate_limit_exceeded'}}\n",
      "Error processing text: : AMEN. How long till they c➖3ns0r this tweet! The... | Error: Error code: 429 - {'error': {'message': 'Rate limit reached for model `llama3-8b-8192` in organization `org_01jpvzq9f4e11t7x9pmtnxzxe8` service tier `on_demand` on tokens per day (TPD): Limit 500000, Used 499888, Requested 610. Please try again in 1m25.9468s. Need more tokens? Upgrade to Dev Tier today at https://console.groq.com/settings/billing', 'type': 'tokens', 'code': 'rate_limit_exceeded'}}\n"
     ]
    },
    {
     "name": "stderr",
     "output_type": "stream",
     "text": [
      "Classifying Logical Fallacies:  86%|████████▌ | 856/1000 [1:00:26<00:06, 21.69it/s]"
     ]
    },
    {
     "name": "stdout",
     "output_type": "stream",
     "text": [
      "Error processing text: If you don't recycle, then you're part of the poll... | Error: Error code: 429 - {'error': {'message': 'Rate limit reached for model `llama3-8b-8192` in organization `org_01jpvzq9f4e11t7x9pmtnxzxe8` service tier `on_demand` on tokens per day (TPD): Limit 500000, Used 499888, Requested 558. Please try again in 1m16.9202s. Need more tokens? Upgrade to Dev Tier today at https://console.groq.com/settings/billing', 'type': 'tokens', 'code': 'rate_limit_exceeded'}}\n",
      "Error processing text: : Reminder: The money is coming from U.S. taxpayer... | Error: Error code: 429 - {'error': {'message': 'Rate limit reached for model `llama3-8b-8192` in organization `org_01jpvzq9f4e11t7x9pmtnxzxe8` service tier `on_demand` on tokens per day (TPD): Limit 500000, Used 499887, Requested 571. Please try again in 1m19.125599999s. Need more tokens? Upgrade to Dev Tier today at https://console.groq.com/settings/billing', 'type': 'tokens', 'code': 'rate_limit_exceeded'}}\n",
      "Error processing text: bad things... | Error: Error code: 429 - {'error': {'message': 'Rate limit reached for model `llama3-8b-8192` in organization `org_01jpvzq9f4e11t7x9pmtnxzxe8` service tier `on_demand` on tokens per day (TPD): Limit 500000, Used 499887, Requested 544. Please try again in 1m14.416s. Need more tokens? Upgrade to Dev Tier today at https://console.groq.com/settings/billing', 'type': 'tokens', 'code': 'rate_limit_exceeded'}}\n",
      "Error processing text: : #Coronavirus relief is on the way for the people... | Error: Error code: 429 - {'error': {'message': 'Rate limit reached for model `llama3-8b-8192` in organization `org_01jpvzq9f4e11t7x9pmtnxzxe8` service tier `on_demand` on tokens per day (TPD): Limit 500000, Used 499887, Requested 590. Please try again in 1m22.3158s. Need more tokens? Upgrade to Dev Tier today at https://console.groq.com/settings/billing', 'type': 'tokens', 'code': 'rate_limit_exceeded'}}\n",
      "Error processing text: Dr. Joseph Helou stated they did not distinguish b... | Error: Error code: 429 - {'error': {'message': 'Rate limit reached for model `llama3-8b-8192` in organization `org_01jpvzq9f4e11t7x9pmtnxzxe8` service tier `on_demand` on tokens per day (TPD): Limit 500000, Used 499887, Requested 635. Please try again in 1m30.0528s. Need more tokens? Upgrade to Dev Tier today at https://console.groq.com/settings/billing', 'type': 'tokens', 'code': 'rate_limit_exceeded'}}\n",
      "Error processing text: With the recent censorship on Mia Jian, it's alarm... | Error: Error code: 429 - {'error': {'message': 'Rate limit reached for model `llama3-8b-8192` in organization `org_01jpvzq9f4e11t7x9pmtnxzxe8` service tier `on_demand` on tokens per day (TPD): Limit 500000, Used 499886, Requested 622. Please try again in 1m27.7604s. Need more tokens? Upgrade to Dev Tier today at https://console.groq.com/settings/billing', 'type': 'tokens', 'code': 'rate_limit_exceeded'}}\n",
      "Error processing text: this is like medieval times... | Error: Error code: 429 - {'error': {'message': 'Rate limit reached for model `llama3-8b-8192` in organization `org_01jpvzq9f4e11t7x9pmtnxzxe8` service tier `on_demand` on tokens per day (TPD): Limit 500000, Used 499886, Requested 548. Please try again in 1m14.8552s. Need more tokens? Upgrade to Dev Tier today at https://console.groq.com/settings/billing', 'type': 'tokens', 'code': 'rate_limit_exceeded'}}\n"
     ]
    },
    {
     "name": "stderr",
     "output_type": "stream",
     "text": [
      "Classifying Logical Fallacies:  86%|████████▌ | 859/1000 [1:00:26<00:08, 16.91it/s]"
     ]
    },
    {
     "name": "stdout",
     "output_type": "stream",
     "text": [
      "Error processing text: And for the media it ’ s ideology , money , and he... | Error: Error code: 429 - {'error': {'message': 'Rate limit reached for model `llama3-8b-8192` in organization `org_01jpvzq9f4e11t7x9pmtnxzxe8` service tier `on_demand` on tokens per day (TPD): Limit 500000, Used 499885, Requested 557. Please try again in 1m16.311399999s. Need more tokens? Upgrade to Dev Tier today at https://console.groq.com/settings/billing', 'type': 'tokens', 'code': 'rate_limit_exceeded'}}\n",
      "Error processing text: It seems that the people are united about their fe... | Error: Error code: 429 - {'error': {'message': 'Rate limit reached for model `llama3-8b-8192` in organization `org_01jpvzq9f4e11t7x9pmtnxzxe8` service tier `on_demand` on tokens per day (TPD): Limit 500000, Used 499885, Requested 603. Please try again in 1m24.1612s. Need more tokens? Upgrade to Dev Tier today at https://console.groq.com/settings/billing', 'type': 'tokens', 'code': 'rate_limit_exceeded'}}\n",
      "Error processing text: All of my red-headed friends are good dancers. The... | Error: Error code: 429 - {'error': {'message': 'Rate limit reached for model `llama3-8b-8192` in organization `org_01jpvzq9f4e11t7x9pmtnxzxe8` service tier `on_demand` on tokens per day (TPD): Limit 500000, Used 499884, Requested 580. Please try again in 1m20.0868s. Need more tokens? Upgrade to Dev Tier today at https://console.groq.com/settings/billing', 'type': 'tokens', 'code': 'rate_limit_exceeded'}}\n"
     ]
    },
    {
     "name": "stderr",
     "output_type": "stream",
     "text": [
      "Classifying Logical Fallacies:  86%|████████▋ | 863/1000 [1:00:26<00:10, 13.13it/s]"
     ]
    },
    {
     "name": "stdout",
     "output_type": "stream",
     "text": [
      "Error processing text: I was with the head of a major country, it’s a for... | Error: Error code: 429 - {'error': {'message': 'Rate limit reached for model `llama3-8b-8192` in organization `org_01jpvzq9f4e11t7x9pmtnxzxe8` service tier `on_demand` on tokens per day (TPD): Limit 500000, Used 499883, Requested 557. Please try again in 1m16.0084s. Need more tokens? Upgrade to Dev Tier today at https://console.groq.com/settings/billing', 'type': 'tokens', 'code': 'rate_limit_exceeded'}}\n",
      "Error processing text: The deutsche post-strike is bad for my children. N... | Error: Error code: 429 - {'error': {'message': 'Rate limit reached for model `llama3-8b-8192` in organization `org_01jpvzq9f4e11t7x9pmtnxzxe8` service tier `on_demand` on tokens per day (TPD): Limit 500000, Used 499883, Requested 570. Please try again in 1m18.209799999s. Need more tokens? Upgrade to Dev Tier today at https://console.groq.com/settings/billing', 'type': 'tokens', 'code': 'rate_limit_exceeded'}}\n"
     ]
    },
    {
     "name": "stderr",
     "output_type": "stream",
     "text": [
      "Classifying Logical Fallacies:  86%|████████▋ | 865/1000 [1:00:27<00:12, 10.47it/s]"
     ]
    },
    {
     "name": "stdout",
     "output_type": "stream",
     "text": [
      "Error processing text: I agree with User 4.  It's good to hear about wome... | Error: Error code: 429 - {'error': {'message': 'Rate limit reached for model `llama3-8b-8192` in organization `org_01jpvzq9f4e11t7x9pmtnxzxe8` service tier `on_demand` on tokens per day (TPD): Limit 500000, Used 499882, Requested 630. Please try again in 1m28.4228s. Need more tokens? Upgrade to Dev Tier today at https://console.groq.com/settings/billing', 'type': 'tokens', 'code': 'rate_limit_exceeded'}}\n",
      "Error processing text: There are only two choices in the matter: fake new... | Error: Error code: 429 - {'error': {'message': 'Rate limit reached for model `llama3-8b-8192` in organization `org_01jpvzq9f4e11t7x9pmtnxzxe8` service tier `on_demand` on tokens per day (TPD): Limit 500000, Used 499881, Requested 582. Please try again in 1m19.9314s. Need more tokens? Upgrade to Dev Tier today at https://console.groq.com/settings/billing', 'type': 'tokens', 'code': 'rate_limit_exceeded'}}\n",
      "Error processing text: I've noticed that from all artists, musicians and ... | Error: Error code: 429 - {'error': {'message': 'Rate limit reached for model `llama3-8b-8192` in organization `org_01jpvzq9f4e11t7x9pmtnxzxe8` service tier `on_demand` on tokens per day (TPD): Limit 500000, Used 499880, Requested 643. Please try again in 1m30.3742s. Need more tokens? Upgrade to Dev Tier today at https://console.groq.com/settings/billing', 'type': 'tokens', 'code': 'rate_limit_exceeded'}}\n"
     ]
    },
    {
     "name": "stderr",
     "output_type": "stream",
     "text": [
      "Classifying Logical Fallacies:  87%|████████▋ | 870/1000 [1:00:27<00:09, 14.01it/s]"
     ]
    },
    {
     "name": "stdout",
     "output_type": "stream",
     "text": [
      "Error processing text: Who are you that you tell this bullshit? Your argu... | Error: Error code: 429 - {'error': {'message': 'Rate limit reached for model `llama3-8b-8192` in organization `org_01jpvzq9f4e11t7x9pmtnxzxe8` service tier `on_demand` on tokens per day (TPD): Limit 500000, Used 499880, Requested 561. Please try again in 1m16.1596s. Need more tokens? Upgrade to Dev Tier today at https://console.groq.com/settings/billing', 'type': 'tokens', 'code': 'rate_limit_exceeded'}}\n",
      "Error processing text: The critical mission was horribly executed.\" is an... | Error: Error code: 429 - {'error': {'message': 'Rate limit reached for model `llama3-8b-8192` in organization `org_01jpvzq9f4e11t7x9pmtnxzxe8` service tier `on_demand` on tokens per day (TPD): Limit 500000, Used 499880, Requested 558. Please try again in 1m15.5912s. Need more tokens? Upgrade to Dev Tier today at https://console.groq.com/settings/billing', 'type': 'tokens', 'code': 'rate_limit_exceeded'}}\n",
      "Error processing text: : Please share your thoughts on Ivermectin prophyl... | Error: Error code: 429 - {'error': {'message': 'Rate limit reached for model `llama3-8b-8192` in organization `org_01jpvzq9f4e11t7x9pmtnxzxe8` service tier `on_demand` on tokens per day (TPD): Limit 500000, Used 499880, Requested 565. Please try again in 1m16.7608s. Need more tokens? Upgrade to Dev Tier today at https://console.groq.com/settings/billing', 'type': 'tokens', 'code': 'rate_limit_exceeded'}}\n",
      "Error processing text: Yes, because you would be a miserable dictator.... | Error: Error code: 429 - {'error': {'message': 'Rate limit reached for model `llama3-8b-8192` in organization `org_01jpvzq9f4e11t7x9pmtnxzxe8` service tier `on_demand` on tokens per day (TPD): Limit 500000, Used 499879, Requested 553. Please try again in 1m14.6452s. Need more tokens? Upgrade to Dev Tier today at https://console.groq.com/settings/billing', 'type': 'tokens', 'code': 'rate_limit_exceeded'}}\n",
      "Error processing text: I disagree. Just because a reaction is the norm, d... | Error: Error code: 429 - {'error': {'message': 'Rate limit reached for model `llama3-8b-8192` in organization `org_01jpvzq9f4e11t7x9pmtnxzxe8` service tier `on_demand` on tokens per day (TPD): Limit 500000, Used 499879, Requested 624. Please try again in 1m26.872s. Need more tokens? Upgrade to Dev Tier today at https://console.groq.com/settings/billing', 'type': 'tokens', 'code': 'rate_limit_exceeded'}}\n"
     ]
    },
    {
     "name": "stderr",
     "output_type": "stream",
     "text": [
      "Classifying Logical Fallacies:  88%|████████▊ | 876/1000 [1:00:27<00:06, 17.78it/s]"
     ]
    },
    {
     "name": "stdout",
     "output_type": "stream",
     "text": [
      "Error processing text: : An actual text from my friend who works in an ER... | Error: Error code: 429 - {'error': {'message': 'Rate limit reached for model `llama3-8b-8192` in organization `org_01jpvzq9f4e11t7x9pmtnxzxe8` service tier `on_demand` on tokens per day (TPD): Limit 500000, Used 499879, Requested 610. Please try again in 1m24.406799999s. Need more tokens? Upgrade to Dev Tier today at https://console.groq.com/settings/billing', 'type': 'tokens', 'code': 'rate_limit_exceeded'}}\n",
      "Error processing text: : #Corona Virus Anti virus masks They are made wit... | Error: Error code: 429 - {'error': {'message': 'Rate limit reached for model `llama3-8b-8192` in organization `org_01jpvzq9f4e11t7x9pmtnxzxe8` service tier `on_demand` on tokens per day (TPD): Limit 500000, Used 499879, Requested 577. Please try again in 1m18.6574s. Need more tokens? Upgrade to Dev Tier today at https://console.groq.com/settings/billing', 'type': 'tokens', 'code': 'rate_limit_exceeded'}}\n",
      "Error processing text: : Professor Jeremy Brown, member of the Joint Comm... | Error: Error code: 429 - {'error': {'message': 'Rate limit reached for model `llama3-8b-8192` in organization `org_01jpvzq9f4e11t7x9pmtnxzxe8` service tier `on_demand` on tokens per day (TPD): Limit 500000, Used 499878, Requested 589. Please try again in 1m20.688s. Need more tokens? Upgrade to Dev Tier today at https://console.groq.com/settings/billing', 'type': 'tokens', 'code': 'rate_limit_exceeded'}}\n",
      "Error processing text: : Almost 100,000 vaccines have been administered a... | Error: Error code: 429 - {'error': {'message': 'Rate limit reached for model `llama3-8b-8192` in organization `org_01jpvzq9f4e11t7x9pmtnxzxe8` service tier `on_demand` on tokens per day (TPD): Limit 500000, Used 499878, Requested 579. Please try again in 1m18.916s. Need more tokens? Upgrade to Dev Tier today at https://console.groq.com/settings/billing', 'type': 'tokens', 'code': 'rate_limit_exceeded'}}\n",
      "Error processing text: Yes, this is the best way for him to honor his wha... | Error: Error code: 429 - {'error': {'message': 'Rate limit reached for model `llama3-8b-8192` in organization `org_01jpvzq9f4e11t7x9pmtnxzxe8` service tier `on_demand` on tokens per day (TPD): Limit 500000, Used 499878, Requested 594. Please try again in 1m21.465s. Need more tokens? Upgrade to Dev Tier today at https://console.groq.com/settings/billing', 'type': 'tokens', 'code': 'rate_limit_exceeded'}}\n"
     ]
    },
    {
     "name": "stderr",
     "output_type": "stream",
     "text": [
      "Classifying Logical Fallacies:  88%|████████▊ | 879/1000 [1:00:27<00:06, 18.85it/s]"
     ]
    },
    {
     "name": "stdout",
     "output_type": "stream",
     "text": [
      "Error processing text: Covid-19 has ended. How is it that the Philippines... | Error: Error code: 429 - {'error': {'message': 'Rate limit reached for model `llama3-8b-8192` in organization `org_01jpvzq9f4e11t7x9pmtnxzxe8` service tier `on_demand` on tokens per day (TPD): Limit 500000, Used 499878, Requested 614. Please try again in 1m24.872s. Need more tokens? Upgrade to Dev Tier today at https://console.groq.com/settings/billing', 'type': 'tokens', 'code': 'rate_limit_exceeded'}}\n",
      "Error processing text: If we allow a housing development to be built on S... | Error: Error code: 429 - {'error': {'message': 'Rate limit reached for model `llama3-8b-8192` in organization `org_01jpvzq9f4e11t7x9pmtnxzxe8` service tier `on_demand` on tokens per day (TPD): Limit 500000, Used 499877, Requested 574. Please try again in 1m17.916s. Need more tokens? Upgrade to Dev Tier today at https://console.groq.com/settings/billing', 'type': 'tokens', 'code': 'rate_limit_exceeded'}}\n",
      "Error processing text: It is unAmerican... | Error: Error code: 429 - {'error': {'message': 'Rate limit reached for model `llama3-8b-8192` in organization `org_01jpvzq9f4e11t7x9pmtnxzxe8` service tier `on_demand` on tokens per day (TPD): Limit 500000, Used 499877, Requested 546. Please try again in 1m13.032599999s. Need more tokens? Upgrade to Dev Tier today at https://console.groq.com/settings/billing', 'type': 'tokens', 'code': 'rate_limit_exceeded'}}\n",
      "Error processing text: :    Especially about the Covid vaccines!... | Error: Error code: 429 - {'error': {'message': 'Rate limit reached for model `llama3-8b-8192` in organization `org_01jpvzq9f4e11t7x9pmtnxzxe8` service tier `on_demand` on tokens per day (TPD): Limit 500000, Used 499877, Requested 552. Please try again in 1m14.0244s. Need more tokens? Upgrade to Dev Tier today at https://console.groq.com/settings/billing', 'type': 'tokens', 'code': 'rate_limit_exceeded'}}\n",
      "Error processing text: It's shocking to think that according to the gover... | Error: Error code: 429 - {'error': {'message': 'Rate limit reached for model `llama3-8b-8192` in organization `org_01jpvzq9f4e11t7x9pmtnxzxe8` service tier `on_demand` on tokens per day (TPD): Limit 500000, Used 499877, Requested 695. Please try again in 1m38.6818s. Need more tokens? Upgrade to Dev Tier today at https://console.groq.com/settings/billing', 'type': 'tokens', 'code': 'rate_limit_exceeded'}}\n"
     ]
    },
    {
     "name": "stderr",
     "output_type": "stream",
     "text": [
      "Classifying Logical Fallacies:  88%|████████▊ | 885/1000 [1:00:28<00:05, 20.67it/s]"
     ]
    },
    {
     "name": "stdout",
     "output_type": "stream",
     "text": [
      "Error processing text: We should use animals as it is necessary to test.... | Error: Error code: 429 - {'error': {'message': 'Rate limit reached for model `llama3-8b-8192` in organization `org_01jpvzq9f4e11t7x9pmtnxzxe8` service tier `on_demand` on tokens per day (TPD): Limit 500000, Used 499876, Requested 554. Please try again in 1m14.27s. Need more tokens? Upgrade to Dev Tier today at https://console.groq.com/settings/billing', 'type': 'tokens', 'code': 'rate_limit_exceeded'}}\n",
      "Error processing text: If you dont pay them, they might land on the stree... | Error: Error code: 429 - {'error': {'message': 'Rate limit reached for model `llama3-8b-8192` in organization `org_01jpvzq9f4e11t7x9pmtnxzxe8` service tier `on_demand` on tokens per day (TPD): Limit 500000, Used 499876, Requested 565. Please try again in 1m16.1298s. Need more tokens? Upgrade to Dev Tier today at https://console.groq.com/settings/billing', 'type': 'tokens', 'code': 'rate_limit_exceeded'}}\n",
      "Error processing text: The impact of humans on Earth is unparalleled , wi... | Error: Error code: 429 - {'error': {'message': 'Rate limit reached for model `llama3-8b-8192` in organization `org_01jpvzq9f4e11t7x9pmtnxzxe8` service tier `on_demand` on tokens per day (TPD): Limit 500000, Used 499876, Requested 612. Please try again in 1m24.2104s. Need more tokens? Upgrade to Dev Tier today at https://console.groq.com/settings/billing', 'type': 'tokens', 'code': 'rate_limit_exceeded'}}\n",
      "Error processing text: It is vital for people in the Arab world to realiz... | Error: Error code: 429 - {'error': {'message': 'Rate limit reached for model `llama3-8b-8192` in organization `org_01jpvzq9f4e11t7x9pmtnxzxe8` service tier `on_demand` on tokens per day (TPD): Limit 500000, Used 499876, Requested 638. Please try again in 1m28.660199999s. Need more tokens? Upgrade to Dev Tier today at https://console.groq.com/settings/billing', 'type': 'tokens', 'code': 'rate_limit_exceeded'}}\n",
      "Error processing text: :  Doctors continue to use hydroxicloriquin or Ive... | Error: Error code: 429 - {'error': {'message': 'Rate limit reached for model `llama3-8b-8192` in organization `org_01jpvzq9f4e11t7x9pmtnxzxe8` service tier `on_demand` on tokens per day (TPD): Limit 500000, Used 499875, Requested 564. Please try again in 1m15.83s. Need more tokens? Upgrade to Dev Tier today at https://console.groq.com/settings/billing', 'type': 'tokens', 'code': 'rate_limit_exceeded'}}\n"
     ]
    },
    {
     "name": "stderr",
     "output_type": "stream",
     "text": [
      "Classifying Logical Fallacies:  89%|████████▉ | 891/1000 [1:00:28<00:05, 21.56it/s]"
     ]
    },
    {
     "name": "stdout",
     "output_type": "stream",
     "text": [
      "Error processing text: : Should I wash fruits 🍎 & vegetables 🥦 with bleac... | Error: Error code: 429 - {'error': {'message': 'Rate limit reached for model `llama3-8b-8192` in organization `org_01jpvzq9f4e11t7x9pmtnxzxe8` service tier `on_demand` on tokens per day (TPD): Limit 500000, Used 499875, Requested 586. Please try again in 1m19.589599999s. Need more tokens? Upgrade to Dev Tier today at https://console.groq.com/settings/billing', 'type': 'tokens', 'code': 'rate_limit_exceeded'}}\n",
      "Error processing text: If you're not growing, you're declining.... | Error: Error code: 429 - {'error': {'message': 'Rate limit reached for model `llama3-8b-8192` in organization `org_01jpvzq9f4e11t7x9pmtnxzxe8` service tier `on_demand` on tokens per day (TPD): Limit 500000, Used 499875, Requested 552. Please try again in 1m13.6664s. Need more tokens? Upgrade to Dev Tier today at https://console.groq.com/settings/billing', 'type': 'tokens', 'code': 'rate_limit_exceeded'}}\n",
      "Error processing text: :   ...  Updated NYTimes article explains Y childr... | Error: Error code: 429 - {'error': {'message': 'Rate limit reached for model `llama3-8b-8192` in organization `org_01jpvzq9f4e11t7x9pmtnxzxe8` service tier `on_demand` on tokens per day (TPD): Limit 500000, Used 499875, Requested 608. Please try again in 1m23.2952s. Need more tokens? Upgrade to Dev Tier today at https://console.groq.com/settings/billing', 'type': 'tokens', 'code': 'rate_limit_exceeded'}}\n",
      "Error processing text: Eat great food at our restaurant, or eat sad, bori... | Error: Error code: 429 - {'error': {'message': 'Rate limit reached for model `llama3-8b-8192` in organization `org_01jpvzq9f4e11t7x9pmtnxzxe8` service tier `on_demand` on tokens per day (TPD): Limit 500000, Used 499874, Requested 558. Please try again in 1m14.6102s. Need more tokens? Upgrade to Dev Tier today at https://console.groq.com/settings/billing', 'type': 'tokens', 'code': 'rate_limit_exceeded'}}\n",
      "Error processing text: This sounds like a worthy project and I hope it ge... | Error: Error code: 429 - {'error': {'message': 'Rate limit reached for model `llama3-8b-8192` in organization `org_01jpvzq9f4e11t7x9pmtnxzxe8` service tier `on_demand` on tokens per day (TPD): Limit 500000, Used 499874, Requested 641. Please try again in 1m28.9096s. Need more tokens? Upgrade to Dev Tier today at https://console.groq.com/settings/billing', 'type': 'tokens', 'code': 'rate_limit_exceeded'}}\n"
     ]
    },
    {
     "name": "stderr",
     "output_type": "stream",
     "text": [
      "Classifying Logical Fallacies:  89%|████████▉ | 894/1000 [1:00:28<00:04, 21.54it/s]"
     ]
    },
    {
     "name": "stdout",
     "output_type": "stream",
     "text": [
      "Error processing text: Eurovision is such a weird contest. I didn't reali... | Error: Error code: 429 - {'error': {'message': 'Rate limit reached for model `llama3-8b-8192` in organization `org_01jpvzq9f4e11t7x9pmtnxzxe8` service tier `on_demand` on tokens per day (TPD): Limit 500000, Used 499874, Requested 600. Please try again in 1m21.781799999s. Need more tokens? Upgrade to Dev Tier today at https://console.groq.com/settings/billing', 'type': 'tokens', 'code': 'rate_limit_exceeded'}}\n",
      "Error processing text: The fact the dogs were rehomed doesn't mean the au... | Error: Error code: 429 - {'error': {'message': 'Rate limit reached for model `llama3-8b-8192` in organization `org_01jpvzq9f4e11t7x9pmtnxzxe8` service tier `on_demand` on tokens per day (TPD): Limit 500000, Used 499874, Requested 596. Please try again in 1m21.047599999s. Need more tokens? Upgrade to Dev Tier today at https://console.groq.com/settings/billing', 'type': 'tokens', 'code': 'rate_limit_exceeded'}}\n",
      "Error processing text: So you can say any way you want to say it, but Bil... | Error: Error code: 429 - {'error': {'message': 'Rate limit reached for model `llama3-8b-8192` in organization `org_01jpvzq9f4e11t7x9pmtnxzxe8` service tier `on_demand` on tokens per day (TPD): Limit 500000, Used 499873, Requested 579. Please try again in 1m18.058s. Need more tokens? Upgrade to Dev Tier today at https://console.groq.com/settings/billing', 'type': 'tokens', 'code': 'rate_limit_exceeded'}}\n",
      "Error processing text: Ms. Didriksson is clearly an expert on this matter... | Error: Error code: 429 - {'error': {'message': 'Rate limit reached for model `llama3-8b-8192` in organization `org_01jpvzq9f4e11t7x9pmtnxzxe8` service tier `on_demand` on tokens per day (TPD): Limit 500000, Used 499873, Requested 667. Please try again in 1m33.2204s. Need more tokens? Upgrade to Dev Tier today at https://console.groq.com/settings/billing', 'type': 'tokens', 'code': 'rate_limit_exceeded'}}\n",
      "Error processing text: The instructions given in the new testament, which... | Error: Error code: 429 - {'error': {'message': 'Rate limit reached for model `llama3-8b-8192` in organization `org_01jpvzq9f4e11t7x9pmtnxzxe8` service tier `on_demand` on tokens per day (TPD): Limit 500000, Used 499873, Requested 569. Please try again in 1m16.235999999s. Need more tokens? Upgrade to Dev Tier today at https://console.groq.com/settings/billing', 'type': 'tokens', 'code': 'rate_limit_exceeded'}}\n"
     ]
    },
    {
     "name": "stderr",
     "output_type": "stream",
     "text": [
      "Classifying Logical Fallacies:  90%|█████████ | 900/1000 [1:00:28<00:04, 21.58it/s]"
     ]
    },
    {
     "name": "stdout",
     "output_type": "stream",
     "text": [
      "Error processing text: There are no studies about the emotional effects a... | Error: Error code: 429 - {'error': {'message': 'Rate limit reached for model `llama3-8b-8192` in organization `org_01jpvzq9f4e11t7x9pmtnxzxe8` service tier `on_demand` on tokens per day (TPD): Limit 500000, Used 499872, Requested 565. Please try again in 1m15.5038s. Need more tokens? Upgrade to Dev Tier today at https://console.groq.com/settings/billing', 'type': 'tokens', 'code': 'rate_limit_exceeded'}}\n",
      "Error processing text: You do not think we have the right to challenge au... | Error: Error code: 429 - {'error': {'message': 'Rate limit reached for model `llama3-8b-8192` in organization `org_01jpvzq9f4e11t7x9pmtnxzxe8` service tier `on_demand` on tokens per day (TPD): Limit 500000, Used 499872, Requested 710. Please try again in 1m40.5098s. Need more tokens? Upgrade to Dev Tier today at https://console.groq.com/settings/billing', 'type': 'tokens', 'code': 'rate_limit_exceeded'}}\n",
      "Error processing text: I tried one hiking trail that was challenging, so ... | Error: Error code: 429 - {'error': {'message': 'Rate limit reached for model `llama3-8b-8192` in organization `org_01jpvzq9f4e11t7x9pmtnxzxe8` service tier `on_demand` on tokens per day (TPD): Limit 500000, Used 499872, Requested 560. Please try again in 1m14.5488s. Need more tokens? Upgrade to Dev Tier today at https://console.groq.com/settings/billing', 'type': 'tokens', 'code': 'rate_limit_exceeded'}}\n",
      "Error processing text: The Bible clearly says, \"Thou shall not bear false... | Error: Error code: 429 - {'error': {'message': 'Rate limit reached for model `llama3-8b-8192` in organization `org_01jpvzq9f4e11t7x9pmtnxzxe8` service tier `on_demand` on tokens per day (TPD): Limit 500000, Used 499872, Requested 609. Please try again in 1m22.965s. Need more tokens? Upgrade to Dev Tier today at https://console.groq.com/settings/billing', 'type': 'tokens', 'code': 'rate_limit_exceeded'}}\n",
      "Error processing text: Jon: Why should I bother exercising while my spous... | Error: Error code: 429 - {'error': {'message': 'Rate limit reached for model `llama3-8b-8192` in organization `org_01jpvzq9f4e11t7x9pmtnxzxe8` service tier `on_demand` on tokens per day (TPD): Limit 500000, Used 499871, Requested 565. Please try again in 1m15.3148s. Need more tokens? Upgrade to Dev Tier today at https://console.groq.com/settings/billing', 'type': 'tokens', 'code': 'rate_limit_exceeded'}}\n"
     ]
    },
    {
     "name": "stderr",
     "output_type": "stream",
     "text": [
      "Classifying Logical Fallacies:  91%|█████████ | 906/1000 [1:00:29<00:04, 21.03it/s]"
     ]
    },
    {
     "name": "stdout",
     "output_type": "stream",
     "text": [
      "Error processing text: :   ...  42% would reject vaccine if FDA approved.... | Error: Error code: 429 - {'error': {'message': 'Rate limit reached for model `llama3-8b-8192` in organization `org_01jpvzq9f4e11t7x9pmtnxzxe8` service tier `on_demand` on tokens per day (TPD): Limit 500000, Used 499871, Requested 606. Please try again in 1m22.3476s. Need more tokens? Upgrade to Dev Tier today at https://console.groq.com/settings/billing', 'type': 'tokens', 'code': 'rate_limit_exceeded'}}\n",
      "Error processing text: John Kennedy proposed cutting capital gains.... | Error: Error code: 429 - {'error': {'message': 'Rate limit reached for model `llama3-8b-8192` in organization `org_01jpvzq9f4e11t7x9pmtnxzxe8` service tier `on_demand` on tokens per day (TPD): Limit 500000, Used 499871, Requested 553. Please try again in 1m13.1432s. Need more tokens? Upgrade to Dev Tier today at https://console.groq.com/settings/billing', 'type': 'tokens', 'code': 'rate_limit_exceeded'}}\n",
      "Error processing text: Just think of the poor nurse, or firefighter cming... | Error: Error code: 429 - {'error': {'message': 'Rate limit reached for model `llama3-8b-8192` in organization `org_01jpvzq9f4e11t7x9pmtnxzxe8` service tier `on_demand` on tokens per day (TPD): Limit 500000, Used 499871, Requested 582. Please try again in 1m18.1094s. Need more tokens? Upgrade to Dev Tier today at https://console.groq.com/settings/billing', 'type': 'tokens', 'code': 'rate_limit_exceeded'}}\n",
      "Error processing text: Why is it not possible to use both? You can listen... | Error: Error code: 429 - {'error': {'message': 'Rate limit reached for model `llama3-8b-8192` in organization `org_01jpvzq9f4e11t7x9pmtnxzxe8` service tier `on_demand` on tokens per day (TPD): Limit 500000, Used 499870, Requested 613. Please try again in 1m23.422199999s. Need more tokens? Upgrade to Dev Tier today at https://console.groq.com/settings/billing', 'type': 'tokens', 'code': 'rate_limit_exceeded'}}\n",
      "Error processing text: I've talked to bankers and builders and developers... | Error: Error code: 429 - {'error': {'message': 'Rate limit reached for model `llama3-8b-8192` in organization `org_01jpvzq9f4e11t7x9pmtnxzxe8` service tier `on_demand` on tokens per day (TPD): Limit 500000, Used 499870, Requested 579. Please try again in 1m17.491s. Need more tokens? Upgrade to Dev Tier today at https://console.groq.com/settings/billing', 'type': 'tokens', 'code': 'rate_limit_exceeded'}}\n"
     ]
    },
    {
     "name": "stderr",
     "output_type": "stream",
     "text": [
      "Classifying Logical Fallacies:  91%|█████████ | 909/1000 [1:00:29<00:04, 20.97it/s]"
     ]
    },
    {
     "name": "stdout",
     "output_type": "stream",
     "text": [
      "Error processing text: TOPIC: Should people let their cats go outside?DEB... | Error: Error code: 429 - {'error': {'message': 'Rate limit reached for model `llama3-8b-8192` in organization `org_01jpvzq9f4e11t7x9pmtnxzxe8` service tier `on_demand` on tokens per day (TPD): Limit 500000, Used 499870, Requested 613. Please try again in 1m23.3202s. Need more tokens? Upgrade to Dev Tier today at https://console.groq.com/settings/billing', 'type': 'tokens', 'code': 'rate_limit_exceeded'}}\n",
      "Error processing text: the most dangers- dangerously irresponsible recomm... | Error: Error code: 429 - {'error': {'message': 'Rate limit reached for model `llama3-8b-8192` in organization `org_01jpvzq9f4e11t7x9pmtnxzxe8` service tier `on_demand` on tokens per day (TPD): Limit 500000, Used 499869, Requested 556. Please try again in 1m13.4306s. Need more tokens? Upgrade to Dev Tier today at https://console.groq.com/settings/billing', 'type': 'tokens', 'code': 'rate_limit_exceeded'}}\n",
      "Error processing text: :   ...  There R some logic flaws wrt high risk pe... | Error: Error code: 429 - {'error': {'message': 'Rate limit reached for model `llama3-8b-8192` in organization `org_01jpvzq9f4e11t7x9pmtnxzxe8` service tier `on_demand` on tokens per day (TPD): Limit 500000, Used 499869, Requested 600. Please try again in 1m20.9788s. Need more tokens? Upgrade to Dev Tier today at https://console.groq.com/settings/billing', 'type': 'tokens', 'code': 'rate_limit_exceeded'}}\n",
      "Error processing text: I think that it is a big ass here to expect develo... | Error: Error code: 429 - {'error': {'message': 'Rate limit reached for model `llama3-8b-8192` in organization `org_01jpvzq9f4e11t7x9pmtnxzxe8` service tier `on_demand` on tokens per day (TPD): Limit 500000, Used 499869, Requested 659. Please try again in 1m31.125s. Need more tokens? Upgrade to Dev Tier today at https://console.groq.com/settings/billing', 'type': 'tokens', 'code': 'rate_limit_exceeded'}}\n",
      "Error processing text: We have had people on the moon, no matter what con... | Error: Error code: 429 - {'error': {'message': 'Rate limit reached for model `llama3-8b-8192` in organization `org_01jpvzq9f4e11t7x9pmtnxzxe8` service tier `on_demand` on tokens per day (TPD): Limit 500000, Used 499869, Requested 567. Please try again in 1m15.1844s. Need more tokens? Upgrade to Dev Tier today at https://console.groq.com/settings/billing', 'type': 'tokens', 'code': 'rate_limit_exceeded'}}\n"
     ]
    },
    {
     "name": "stderr",
     "output_type": "stream",
     "text": [
      "Classifying Logical Fallacies:  92%|█████████▏| 915/1000 [1:00:29<00:03, 22.18it/s]"
     ]
    },
    {
     "name": "stdout",
     "output_type": "stream",
     "text": [
      "Error processing text: I disagree somewhat. China didn't ban the media, t... | Error: Error code: 429 - {'error': {'message': 'Rate limit reached for model `llama3-8b-8192` in organization `org_01jpvzq9f4e11t7x9pmtnxzxe8` service tier `on_demand` on tokens per day (TPD): Limit 500000, Used 499868, Requested 653. Please try again in 1m30.0032s. Need more tokens? Upgrade to Dev Tier today at https://console.groq.com/settings/billing', 'type': 'tokens', 'code': 'rate_limit_exceeded'}}\n",
      "Error processing text: “ This has been the saddest research trip of my li... | Error: Error code: 429 - {'error': {'message': 'Rate limit reached for model `llama3-8b-8192` in organization `org_01jpvzq9f4e11t7x9pmtnxzxe8` service tier `on_demand` on tokens per day (TPD): Limit 500000, Used 499868, Requested 556. Please try again in 1m13.2006s. Need more tokens? Upgrade to Dev Tier today at https://console.groq.com/settings/billing', 'type': 'tokens', 'code': 'rate_limit_exceeded'}}\n",
      "Error processing text: Agreed. And why has nothing been done in the 2 yea... | Error: Error code: 429 - {'error': {'message': 'Rate limit reached for model `llama3-8b-8192` in organization `org_01jpvzq9f4e11t7x9pmtnxzxe8` service tier `on_demand` on tokens per day (TPD): Limit 500000, Used 499868, Requested 567. Please try again in 1m15.060399999s. Need more tokens? Upgrade to Dev Tier today at https://console.groq.com/settings/billing', 'type': 'tokens', 'code': 'rate_limit_exceeded'}}\n",
      "Error processing text: :   ...  Ypu must realise by now what Bill Gates m... | Error: Error code: 429 - {'error': {'message': 'Rate limit reached for model `llama3-8b-8192` in organization `org_01jpvzq9f4e11t7x9pmtnxzxe8` service tier `on_demand` on tokens per day (TPD): Limit 500000, Used 499868, Requested 567. Please try again in 1m15.0154s. Need more tokens? Upgrade to Dev Tier today at https://console.groq.com/settings/billing', 'type': 'tokens', 'code': 'rate_limit_exceeded'}}\n",
      "Error processing text: But Hillary Clinton wanted the wall .... | Error: Error code: 429 - {'error': {'message': 'Rate limit reached for model `llama3-8b-8192` in organization `org_01jpvzq9f4e11t7x9pmtnxzxe8` service tier `on_demand` on tokens per day (TPD): Limit 500000, Used 499867, Requested 551. Please try again in 1m12.2086s. Need more tokens? Upgrade to Dev Tier today at https://console.groq.com/settings/billing', 'type': 'tokens', 'code': 'rate_limit_exceeded'}}\n"
     ]
    },
    {
     "name": "stderr",
     "output_type": "stream",
     "text": [
      "Classifying Logical Fallacies:  92%|█████████▏| 921/1000 [1:00:29<00:03, 22.57it/s]"
     ]
    },
    {
     "name": "stdout",
     "output_type": "stream",
     "text": [
      "Error processing text: Don't buy any of the clothes made by that company.... | Error: Error code: 429 - {'error': {'message': 'Rate limit reached for model `llama3-8b-8192` in organization `org_01jpvzq9f4e11t7x9pmtnxzxe8` service tier `on_demand` on tokens per day (TPD): Limit 500000, Used 499867, Requested 568. Please try again in 1m15.101199999s. Need more tokens? Upgrade to Dev Tier today at https://console.groq.com/settings/billing', 'type': 'tokens', 'code': 'rate_limit_exceeded'}}\n",
      "Error processing text: It's because we can compare it to other countries.... | Error: Error code: 429 - {'error': {'message': 'Rate limit reached for model `llama3-8b-8192` in organization `org_01jpvzq9f4e11t7x9pmtnxzxe8` service tier `on_demand` on tokens per day (TPD): Limit 500000, Used 499867, Requested 607. Please try again in 1m21.7954s. Need more tokens? Upgrade to Dev Tier today at https://console.groq.com/settings/billing', 'type': 'tokens', 'code': 'rate_limit_exceeded'}}\n",
      "Error processing text: : ⭐🏫🦠TUESDAY, SEPTEMBER 22nd - COVID-19 in Ontario... | Error: Error code: 429 - {'error': {'message': 'Rate limit reached for model `llama3-8b-8192` in organization `org_01jpvzq9f4e11t7x9pmtnxzxe8` service tier `on_demand` on tokens per day (TPD): Limit 500000, Used 499867, Requested 592. Please try again in 1m19.1574s. Need more tokens? Upgrade to Dev Tier today at https://console.groq.com/settings/billing', 'type': 'tokens', 'code': 'rate_limit_exceeded'}}\n",
      "Error processing text: : Vietnam says panel recommends Sputnik V, Moderna... | Error: Error code: 429 - {'error': {'message': 'Rate limit reached for model `llama3-8b-8192` in organization `org_01jpvzq9f4e11t7x9pmtnxzxe8` service tier `on_demand` on tokens per day (TPD): Limit 500000, Used 499866, Requested 569. Please try again in 1m15.139999999s. Need more tokens? Upgrade to Dev Tier today at https://console.groq.com/settings/billing', 'type': 'tokens', 'code': 'rate_limit_exceeded'}}\n",
      "Error processing text: It has to be balanced, but for live saving drugs I... | Error: Error code: 429 - {'error': {'message': 'Rate limit reached for model `llama3-8b-8192` in organization `org_01jpvzq9f4e11t7x9pmtnxzxe8` service tier `on_demand` on tokens per day (TPD): Limit 500000, Used 499866, Requested 567. Please try again in 1m14.7534s. Need more tokens? Upgrade to Dev Tier today at https://console.groq.com/settings/billing', 'type': 'tokens', 'code': 'rate_limit_exceeded'}}\n"
     ]
    },
    {
     "name": "stderr",
     "output_type": "stream",
     "text": [
      "Classifying Logical Fallacies:  92%|█████████▏| 924/1000 [1:00:29<00:03, 22.81it/s]"
     ]
    },
    {
     "name": "stdout",
     "output_type": "stream",
     "text": [
      "Error processing text: We shouldn't even bother to interview that job app... | Error: Error code: 429 - {'error': {'message': 'Rate limit reached for model `llama3-8b-8192` in organization `org_01jpvzq9f4e11t7x9pmtnxzxe8` service tier `on_demand` on tokens per day (TPD): Limit 500000, Used 499866, Requested 560. Please try again in 1m13.5018s. Need more tokens? Upgrade to Dev Tier today at https://console.groq.com/settings/billing', 'type': 'tokens', 'code': 'rate_limit_exceeded'}}\n",
      "Error processing text: :  HCG, Ivermectin and the British army using Citr... | Error: Error code: 429 - {'error': {'message': 'Rate limit reached for model `llama3-8b-8192` in organization `org_01jpvzq9f4e11t7x9pmtnxzxe8` service tier `on_demand` on tokens per day (TPD): Limit 500000, Used 499866, Requested 572. Please try again in 1m15.5324s. Need more tokens? Upgrade to Dev Tier today at https://console.groq.com/settings/billing', 'type': 'tokens', 'code': 'rate_limit_exceeded'}}\n",
      "Error processing text: :   ...  That's right ... you better start talking... | Error: Error code: 429 - {'error': {'message': 'Rate limit reached for model `llama3-8b-8192` in organization `org_01jpvzq9f4e11t7x9pmtnxzxe8` service tier `on_demand` on tokens per day (TPD): Limit 500000, Used 499865, Requested 571. Please try again in 1m15.3156s. Need more tokens? Upgrade to Dev Tier today at https://console.groq.com/settings/billing', 'type': 'tokens', 'code': 'rate_limit_exceeded'}}\n",
      "Error processing text: :   ...  Sure, whatever your arrogance suggests.... | Error: Error code: 429 - {'error': {'message': 'Rate limit reached for model `llama3-8b-8192` in organization `org_01jpvzq9f4e11t7x9pmtnxzxe8` service tier `on_demand` on tokens per day (TPD): Limit 500000, Used 499865, Requested 554. Please try again in 1m12.334s. Need more tokens? Upgrade to Dev Tier today at https://console.groq.com/settings/billing', 'type': 'tokens', 'code': 'rate_limit_exceeded'}}\n",
      "Error processing text: a bluffing statement... | Error: Error code: 429 - {'error': {'message': 'Rate limit reached for model `llama3-8b-8192` in organization `org_01jpvzq9f4e11t7x9pmtnxzxe8` service tier `on_demand` on tokens per day (TPD): Limit 500000, Used 499865, Requested 547. Please try again in 1m11.0794s. Need more tokens? Upgrade to Dev Tier today at https://console.groq.com/settings/billing', 'type': 'tokens', 'code': 'rate_limit_exceeded'}}\n"
     ]
    },
    {
     "name": "stderr",
     "output_type": "stream",
     "text": [
      "Classifying Logical Fallacies:  93%|█████████▎| 930/1000 [1:00:30<00:03, 22.92it/s]"
     ]
    },
    {
     "name": "stdout",
     "output_type": "stream",
     "text": [
      "Error processing text: It's not the responses that are the problem here, ... | Error: Error code: 429 - {'error': {'message': 'Rate limit reached for model `llama3-8b-8192` in organization `org_01jpvzq9f4e11t7x9pmtnxzxe8` service tier `on_demand` on tokens per day (TPD): Limit 500000, Used 499865, Requested 650. Please try again in 1m28.832799999s. Need more tokens? Upgrade to Dev Tier today at https://console.groq.com/settings/billing', 'type': 'tokens', 'code': 'rate_limit_exceeded'}}\n",
      "Error processing text: I agree, not everyone has the money to just up and... | Error: Error code: 429 - {'error': {'message': 'Rate limit reached for model `llama3-8b-8192` in organization `org_01jpvzq9f4e11t7x9pmtnxzxe8` service tier `on_demand` on tokens per day (TPD): Limit 500000, Used 499864, Requested 620. Please try again in 1m23.6018s. Need more tokens? Upgrade to Dev Tier today at https://console.groq.com/settings/billing', 'type': 'tokens', 'code': 'rate_limit_exceeded'}}\n",
      "Error processing text: Sure, and people have the discretion to criticize ... | Error: Error code: 429 - {'error': {'message': 'Rate limit reached for model `llama3-8b-8192` in organization `org_01jpvzq9f4e11t7x9pmtnxzxe8` service tier `on_demand` on tokens per day (TPD): Limit 500000, Used 499864, Requested 620. Please try again in 1m23.5588s. Need more tokens? Upgrade to Dev Tier today at https://console.groq.com/settings/billing', 'type': 'tokens', 'code': 'rate_limit_exceeded'}}\n",
      "Error processing text: I think we all recall with some sadness that at uh... | Error: Error code: 429 - {'error': {'message': 'Rate limit reached for model `llama3-8b-8192` in organization `org_01jpvzq9f4e11t7x9pmtnxzxe8` service tier `on_demand` on tokens per day (TPD): Limit 500000, Used 499864, Requested 599. Please try again in 1m19.890999999s. Need more tokens? Upgrade to Dev Tier today at https://console.groq.com/settings/billing', 'type': 'tokens', 'code': 'rate_limit_exceeded'}}\n",
      "Error processing text: I thought you were a good person, but you weren't ... | Error: Error code: 429 - {'error': {'message': 'Rate limit reached for model `llama3-8b-8192` in organization `org_01jpvzq9f4e11t7x9pmtnxzxe8` service tier `on_demand` on tokens per day (TPD): Limit 500000, Used 499864, Requested 558. Please try again in 1m12.7652s. Need more tokens? Upgrade to Dev Tier today at https://console.groq.com/settings/billing', 'type': 'tokens', 'code': 'rate_limit_exceeded'}}\n"
     ]
    },
    {
     "name": "stderr",
     "output_type": "stream",
     "text": [
      "Classifying Logical Fallacies:  94%|█████████▎| 936/1000 [1:00:30<00:02, 22.36it/s]"
     ]
    },
    {
     "name": "stdout",
     "output_type": "stream",
     "text": [
      "Error processing text: This is insane, but not surprising. It is China af... | Error: Error code: 429 - {'error': {'message': 'Rate limit reached for model `llama3-8b-8192` in organization `org_01jpvzq9f4e11t7x9pmtnxzxe8` service tier `on_demand` on tokens per day (TPD): Limit 500000, Used 499863, Requested 628. Please try again in 1m24.8142s. Need more tokens? Upgrade to Dev Tier today at https://console.groq.com/settings/billing', 'type': 'tokens', 'code': 'rate_limit_exceeded'}}\n",
      "Error processing text: Freedom of the press is something that should be n... | Error: Error code: 429 - {'error': {'message': 'Rate limit reached for model `llama3-8b-8192` in organization `org_01jpvzq9f4e11t7x9pmtnxzxe8` service tier `on_demand` on tokens per day (TPD): Limit 500000, Used 499863, Requested 627. Please try again in 1m24.5974s. Need more tokens? Upgrade to Dev Tier today at https://console.groq.com/settings/billing', 'type': 'tokens', 'code': 'rate_limit_exceeded'}}\n",
      "Error processing text: Absolutely. I mean, she calls our people deplorabl... | Error: Error code: 429 - {'error': {'message': 'Rate limit reached for model `llama3-8b-8192` in organization `org_01jpvzq9f4e11t7x9pmtnxzxe8` service tier `on_demand` on tokens per day (TPD): Limit 500000, Used 499863, Requested 563. Please try again in 1m13.4912s. Need more tokens? Upgrade to Dev Tier today at https://console.groq.com/settings/billing', 'type': 'tokens', 'code': 'rate_limit_exceeded'}}\n",
      "Error processing text: They can either change to renewable, or watch the ... | Error: Error code: 429 - {'error': {'message': 'Rate limit reached for model `llama3-8b-8192` in organization `org_01jpvzq9f4e11t7x9pmtnxzxe8` service tier `on_demand` on tokens per day (TPD): Limit 500000, Used 499863, Requested 572. Please try again in 1m15.0034s. Need more tokens? Upgrade to Dev Tier today at https://console.groq.com/settings/billing', 'type': 'tokens', 'code': 'rate_limit_exceeded'}}\n",
      "Error processing text: Everyone should be as wealthy as possible as rapid... | Error: Error code: 429 - {'error': {'message': 'Rate limit reached for model `llama3-8b-8192` in organization `org_01jpvzq9f4e11t7x9pmtnxzxe8` service tier `on_demand` on tokens per day (TPD): Limit 500000, Used 499862, Requested 558. Please try again in 1m12.5362s. Need more tokens? Upgrade to Dev Tier today at https://console.groq.com/settings/billing', 'type': 'tokens', 'code': 'rate_limit_exceeded'}}\n"
     ]
    },
    {
     "name": "stderr",
     "output_type": "stream",
     "text": [
      "Classifying Logical Fallacies:  94%|█████████▍| 939/1000 [1:00:30<00:02, 22.87it/s]"
     ]
    },
    {
     "name": "stdout",
     "output_type": "stream",
     "text": [
      "Error processing text: JOHN F. KENNEDY: I'm not satisfied when the United... | Error: Error code: 429 - {'error': {'message': 'Rate limit reached for model `llama3-8b-8192` in organization `org_01jpvzq9f4e11t7x9pmtnxzxe8` service tier `on_demand` on tokens per day (TPD): Limit 500000, Used 499862, Requested 713. Please try again in 1m39.2752s. Need more tokens? Upgrade to Dev Tier today at https://console.groq.com/settings/billing', 'type': 'tokens', 'code': 'rate_limit_exceeded'}}\n",
      "Error processing text: I think people are far too cynical of the governme... | Error: Error code: 429 - {'error': {'message': 'Rate limit reached for model `llama3-8b-8192` in organization `org_01jpvzq9f4e11t7x9pmtnxzxe8` service tier `on_demand` on tokens per day (TPD): Limit 500000, Used 499862, Requested 656. Please try again in 1m29.3846s. Need more tokens? Upgrade to Dev Tier today at https://console.groq.com/settings/billing', 'type': 'tokens', 'code': 'rate_limit_exceeded'}}\n",
      "Error processing text: Typical politician. All talk, no action.... | Error: Error code: 429 - {'error': {'message': 'Rate limit reached for model `llama3-8b-8192` in organization `org_01jpvzq9f4e11t7x9pmtnxzxe8` service tier `on_demand` on tokens per day (TPD): Limit 500000, Used 499862, Requested 552. Please try again in 1m11.3724s. Need more tokens? Upgrade to Dev Tier today at https://console.groq.com/settings/billing', 'type': 'tokens', 'code': 'rate_limit_exceeded'}}\n",
      "Error processing text: Yes we do.... | Error: Error code: 429 - {'error': {'message': 'Rate limit reached for model `llama3-8b-8192` in organization `org_01jpvzq9f4e11t7x9pmtnxzxe8` service tier `on_demand` on tokens per day (TPD): Limit 500000, Used 499861, Requested 544. Please try again in 1m9.95s. Need more tokens? Upgrade to Dev Tier today at https://console.groq.com/settings/billing', 'type': 'tokens', 'code': 'rate_limit_exceeded'}}\n",
      "Error processing text: The American people decide.... | Error: Error code: 429 - {'error': {'message': 'Rate limit reached for model `llama3-8b-8192` in organization `org_01jpvzq9f4e11t7x9pmtnxzxe8` service tier `on_demand` on tokens per day (TPD): Limit 500000, Used 499861, Requested 548. Please try again in 1m10.601199999s. Need more tokens? Upgrade to Dev Tier today at https://console.groq.com/settings/billing', 'type': 'tokens', 'code': 'rate_limit_exceeded'}}\n"
     ]
    },
    {
     "name": "stderr",
     "output_type": "stream",
     "text": [
      "Classifying Logical Fallacies:  94%|█████████▍| 945/1000 [1:00:30<00:02, 23.03it/s]"
     ]
    },
    {
     "name": "stdout",
     "output_type": "stream",
     "text": [
      "Error processing text: I am not satisfied as an American with the progres... | Error: Error code: 429 - {'error': {'message': 'Rate limit reached for model `llama3-8b-8192` in organization `org_01jpvzq9f4e11t7x9pmtnxzxe8` service tier `on_demand` on tokens per day (TPD): Limit 500000, Used 499861, Requested 559. Please try again in 1m12.459s. Need more tokens? Upgrade to Dev Tier today at https://console.groq.com/settings/billing', 'type': 'tokens', 'code': 'rate_limit_exceeded'}}\n",
      "Error processing text: Co-ed schools... think about what this means. Youn... | Error: Error code: 429 - {'error': {'message': 'Rate limit reached for model `llama3-8b-8192` in organization `org_01jpvzq9f4e11t7x9pmtnxzxe8` service tier `on_demand` on tokens per day (TPD): Limit 500000, Used 499861, Requested 588. Please try again in 1m17.4262s. Need more tokens? Upgrade to Dev Tier today at https://console.groq.com/settings/billing', 'type': 'tokens', 'code': 'rate_limit_exceeded'}}\n",
      "Error processing text: I think that it is good that China is supporting t... | Error: Error code: 429 - {'error': {'message': 'Rate limit reached for model `llama3-8b-8192` in organization `org_01jpvzq9f4e11t7x9pmtnxzxe8` service tier `on_demand` on tokens per day (TPD): Limit 500000, Used 499860, Requested 615. Please try again in 1m22.0408s. Need more tokens? Upgrade to Dev Tier today at https://console.groq.com/settings/billing', 'type': 'tokens', 'code': 'rate_limit_exceeded'}}\n",
      "Error processing text: I agree with you, you should not depend on the gov... | Error: Error code: 429 - {'error': {'message': 'Rate limit reached for model `llama3-8b-8192` in organization `org_01jpvzq9f4e11t7x9pmtnxzxe8` service tier `on_demand` on tokens per day (TPD): Limit 500000, Used 499860, Requested 635. Please try again in 1m25.4588s. Need more tokens? Upgrade to Dev Tier today at https://console.groq.com/settings/billing', 'type': 'tokens', 'code': 'rate_limit_exceeded'}}\n",
      "Error processing text: : Remember when studies in people were what counte... | Error: Error code: 429 - {'error': {'message': 'Rate limit reached for model `llama3-8b-8192` in organization `org_01jpvzq9f4e11t7x9pmtnxzxe8` service tier `on_demand` on tokens per day (TPD): Limit 500000, Used 499860, Requested 598. Please try again in 1m19.0242s. Need more tokens? Upgrade to Dev Tier today at https://console.groq.com/settings/billing', 'type': 'tokens', 'code': 'rate_limit_exceeded'}}\n"
     ]
    },
    {
     "name": "stderr",
     "output_type": "stream",
     "text": [
      "Classifying Logical Fallacies:  95%|█████████▌| 951/1000 [1:00:31<00:02, 22.85it/s]"
     ]
    },
    {
     "name": "stdout",
     "output_type": "stream",
     "text": [
      "Error processing text: It seems like whenever I hear about any race-relat... | Error: Error code: 429 - {'error': {'message': 'Rate limit reached for model `llama3-8b-8192` in organization `org_01jpvzq9f4e11t7x9pmtnxzxe8` service tier `on_demand` on tokens per day (TPD): Limit 500000, Used 499860, Requested 622. Please try again in 1m23.1294s. Need more tokens? Upgrade to Dev Tier today at https://console.groq.com/settings/billing', 'type': 'tokens', 'code': 'rate_limit_exceeded'}}\n",
      "Error processing text: A mother says that she does not trust her pediatri... | Error: Error code: 429 - {'error': {'message': 'Rate limit reached for model `llama3-8b-8192` in organization `org_01jpvzq9f4e11t7x9pmtnxzxe8` service tier `on_demand` on tokens per day (TPD): Limit 500000, Used 499859, Requested 564. Please try again in 1m13.045999999s. Need more tokens? Upgrade to Dev Tier today at https://console.groq.com/settings/billing', 'type': 'tokens', 'code': 'rate_limit_exceeded'}}\n",
      "Error processing text: Yes, independence in clothing is a constitutional ... | Error: Error code: 429 - {'error': {'message': 'Rate limit reached for model `llama3-8b-8192` in organization `org_01jpvzq9f4e11t7x9pmtnxzxe8` service tier `on_demand` on tokens per day (TPD): Limit 500000, Used 499859, Requested 739. Please try again in 1m43.246999999s. Need more tokens? Upgrade to Dev Tier today at https://console.groq.com/settings/billing', 'type': 'tokens', 'code': 'rate_limit_exceeded'}}\n",
      "Error processing text: Of course he supports this policy; he's just tryin... | Error: Error code: 429 - {'error': {'message': 'Rate limit reached for model `llama3-8b-8192` in organization `org_01jpvzq9f4e11t7x9pmtnxzxe8` service tier `on_demand` on tokens per day (TPD): Limit 500000, Used 499859, Requested 558. Please try again in 1m11.9262s. Need more tokens? Upgrade to Dev Tier today at https://console.groq.com/settings/billing', 'type': 'tokens', 'code': 'rate_limit_exceeded'}}\n",
      "Error processing text: A head of state suing an independent journalist is... | Error: Error code: 429 - {'error': {'message': 'Rate limit reached for model `llama3-8b-8192` in organization `org_01jpvzq9f4e11t7x9pmtnxzxe8` service tier `on_demand` on tokens per day (TPD): Limit 500000, Used 499858, Requested 616. Please try again in 1m21.9066s. Need more tokens? Upgrade to Dev Tier today at https://console.groq.com/settings/billing', 'type': 'tokens', 'code': 'rate_limit_exceeded'}}\n"
     ]
    },
    {
     "name": "stderr",
     "output_type": "stream",
     "text": [
      "Classifying Logical Fallacies:  95%|█████████▌| 954/1000 [1:00:31<00:02, 22.67it/s]"
     ]
    },
    {
     "name": "stdout",
     "output_type": "stream",
     "text": [
      "Error processing text: The World Coal Association disputed the conclusion... | Error: Error code: 429 - {'error': {'message': 'Rate limit reached for model `llama3-8b-8192` in organization `org_01jpvzq9f4e11t7x9pmtnxzxe8` service tier `on_demand` on tokens per day (TPD): Limit 500000, Used 499858, Requested 569. Please try again in 1m13.739s. Need more tokens? Upgrade to Dev Tier today at https://console.groq.com/settings/billing', 'type': 'tokens', 'code': 'rate_limit_exceeded'}}\n",
      "Error processing text: I know in my heart of hearts that our home team wi... | Error: Error code: 429 - {'error': {'message': 'Rate limit reached for model `llama3-8b-8192` in organization `org_01jpvzq9f4e11t7x9pmtnxzxe8` service tier `on_demand` on tokens per day (TPD): Limit 500000, Used 499858, Requested 560. Please try again in 1m12.1418s. Need more tokens? Upgrade to Dev Tier today at https://console.groq.com/settings/billing', 'type': 'tokens', 'code': 'rate_limit_exceeded'}}\n",
      "Error processing text: Yes, it's really heartbreaking to see the issues w... | Error: Error code: 429 - {'error': {'message': 'Rate limit reached for model `llama3-8b-8192` in organization `org_01jpvzq9f4e11t7x9pmtnxzxe8` service tier `on_demand` on tokens per day (TPD): Limit 500000, Used 499858, Requested 689. Please try again in 1m34.386999999s. Need more tokens? Upgrade to Dev Tier today at https://console.groq.com/settings/billing', 'type': 'tokens', 'code': 'rate_limit_exceeded'}}\n",
      "Error processing text: Usually, things like this in that part of the worl... | Error: Error code: 429 - {'error': {'message': 'Rate limit reached for model `llama3-8b-8192` in organization `org_01jpvzq9f4e11t7x9pmtnxzxe8` service tier `on_demand` on tokens per day (TPD): Limit 500000, Used 499857, Requested 618. Please try again in 1m22.0732s. Need more tokens? Upgrade to Dev Tier today at https://console.groq.com/settings/billing', 'type': 'tokens', 'code': 'rate_limit_exceeded'}}\n"
     ]
    },
    {
     "name": "stderr",
     "output_type": "stream",
     "text": [
      "Classifying Logical Fallacies:  96%|█████████▌| 957/1000 [1:00:31<00:02, 17.37it/s]"
     ]
    },
    {
     "name": "stdout",
     "output_type": "stream",
     "text": [
      "Error processing text: One thing corrupt governments don't want is journa... | Error: Error code: 429 - {'error': {'message': 'Rate limit reached for model `llama3-8b-8192` in organization `org_01jpvzq9f4e11t7x9pmtnxzxe8` service tier `on_demand` on tokens per day (TPD): Limit 500000, Used 499857, Requested 624. Please try again in 1m22.989s. Need more tokens? Upgrade to Dev Tier today at https://console.groq.com/settings/billing', 'type': 'tokens', 'code': 'rate_limit_exceeded'}}\n",
      "Error processing text: Because she has been a disaster as a senator. A di... | Error: Error code: 429 - {'error': {'message': 'Rate limit reached for model `llama3-8b-8192` in organization `org_01jpvzq9f4e11t7x9pmtnxzxe8` service tier `on_demand` on tokens per day (TPD): Limit 500000, Used 499856, Requested 556. Please try again in 1m11.1406s. Need more tokens? Upgrade to Dev Tier today at https://console.groq.com/settings/billing', 'type': 'tokens', 'code': 'rate_limit_exceeded'}}\n",
      "Error processing text: Either this relationship works out, or it's a wast... | Error: Error code: 429 - {'error': {'message': 'Rate limit reached for model `llama3-8b-8192` in organization `org_01jpvzq9f4e11t7x9pmtnxzxe8` service tier `on_demand` on tokens per day (TPD): Limit 500000, Used 499856, Requested 557. Please try again in 1m11.2104s. Need more tokens? Upgrade to Dev Tier today at https://console.groq.com/settings/billing', 'type': 'tokens', 'code': 'rate_limit_exceeded'}}\n"
     ]
    },
    {
     "name": "stderr",
     "output_type": "stream",
     "text": [
      "Classifying Logical Fallacies:  96%|█████████▌| 959/1000 [1:00:31<00:02, 15.01it/s]"
     ]
    },
    {
     "name": "stdout",
     "output_type": "stream",
     "text": [
      "Error processing text: :  IVERMECTIN works. Safe. Generic. Will big pharm... | Error: Error code: 429 - {'error': {'message': 'Rate limit reached for model `llama3-8b-8192` in organization `org_01jpvzq9f4e11t7x9pmtnxzxe8` service tier `on_demand` on tokens per day (TPD): Limit 500000, Used 499855, Requested 586. Please try again in 1m16.1266s. Need more tokens? Upgrade to Dev Tier today at https://console.groq.com/settings/billing', 'type': 'tokens', 'code': 'rate_limit_exceeded'}}\n",
      "Error processing text: You think he should be supported just because he w... | Error: Error code: 429 - {'error': {'message': 'Rate limit reached for model `llama3-8b-8192` in organization `org_01jpvzq9f4e11t7x9pmtnxzxe8` service tier `on_demand` on tokens per day (TPD): Limit 500000, Used 499854, Requested 730. Please try again in 1m40.9058s. Need more tokens? Upgrade to Dev Tier today at https://console.groq.com/settings/billing', 'type': 'tokens', 'code': 'rate_limit_exceeded'}}\n"
     ]
    },
    {
     "name": "stderr",
     "output_type": "stream",
     "text": [
      "Classifying Logical Fallacies:  96%|█████████▋| 963/1000 [1:00:32<00:03, 12.24it/s]"
     ]
    },
    {
     "name": "stdout",
     "output_type": "stream",
     "text": [
      "Error processing text: : To make the silly-shally a part of life... you m... | Error: Error code: 429 - {'error': {'message': 'Rate limit reached for model `llama3-8b-8192` in organization `org_01jpvzq9f4e11t7x9pmtnxzxe8` service tier `on_demand` on tokens per day (TPD): Limit 500000, Used 499854, Requested 606. Please try again in 1m19.3806s. Need more tokens? Upgrade to Dev Tier today at https://console.groq.com/settings/billing', 'type': 'tokens', 'code': 'rate_limit_exceeded'}}\n",
      "Error processing text: COVID-19 mRNA vaccines will become deadly a few mo... | Error: Error code: 429 - {'error': {'message': 'Rate limit reached for model `llama3-8b-8192` in organization `org_01jpvzq9f4e11t7x9pmtnxzxe8` service tier `on_demand` on tokens per day (TPD): Limit 500000, Used 499853, Requested 590. Please try again in 1m16.510799999s. Need more tokens? Upgrade to Dev Tier today at https://console.groq.com/settings/billing', 'type': 'tokens', 'code': 'rate_limit_exceeded'}}\n",
      "Error processing text: Nobody in their right mind would trust that guy. I... | Error: Error code: 429 - {'error': {'message': 'Rate limit reached for model `llama3-8b-8192` in organization `org_01jpvzq9f4e11t7x9pmtnxzxe8` service tier `on_demand` on tokens per day (TPD): Limit 500000, Used 499853, Requested 559. Please try again in 1m11.058s. Need more tokens? Upgrade to Dev Tier today at https://console.groq.com/settings/billing', 'type': 'tokens', 'code': 'rate_limit_exceeded'}}\n"
     ]
    },
    {
     "name": "stderr",
     "output_type": "stream",
     "text": [
      "Classifying Logical Fallacies:  97%|█████████▋| 967/1000 [1:00:32<00:02, 13.15it/s]"
     ]
    },
    {
     "name": "stdout",
     "output_type": "stream",
     "text": [
      "Error processing text: : Red #HCQW0RKS and blue #ivermectin now in #Iverm... | Error: Error code: 429 - {'error': {'message': 'Rate limit reached for model `llama3-8b-8192` in organization `org_01jpvzq9f4e11t7x9pmtnxzxe8` service tier `on_demand` on tokens per day (TPD): Limit 500000, Used 499852, Requested 571. Please try again in 1m13.0336s. Need more tokens? Upgrade to Dev Tier today at https://console.groq.com/settings/billing', 'type': 'tokens', 'code': 'rate_limit_exceeded'}}\n",
      "Error processing text: Fantastic story about women finally breaking barri... | Error: Error code: 429 - {'error': {'message': 'Rate limit reached for model `llama3-8b-8192` in organization `org_01jpvzq9f4e11t7x9pmtnxzxe8` service tier `on_demand` on tokens per day (TPD): Limit 500000, Used 499852, Requested 752. Please try again in 1m44.2384s. Need more tokens? Upgrade to Dev Tier today at https://console.groq.com/settings/billing', 'type': 'tokens', 'code': 'rate_limit_exceeded'}}\n",
      "Error processing text: why should anyone care about the sex of a referee?... | Error: Error code: 429 - {'error': {'message': 'Rate limit reached for model `llama3-8b-8192` in organization `org_01jpvzq9f4e11t7x9pmtnxzxe8` service tier `on_demand` on tokens per day (TPD): Limit 500000, Used 499851, Requested 600. Please try again in 1m17.924799999s. Need more tokens? Upgrade to Dev Tier today at https://console.groq.com/settings/billing', 'type': 'tokens', 'code': 'rate_limit_exceeded'}}\n",
      "Error processing text: This is one of those issues that seems to have lik... | Error: Error code: 429 - {'error': {'message': 'Rate limit reached for model `llama3-8b-8192` in organization `org_01jpvzq9f4e11t7x9pmtnxzxe8` service tier `on_demand` on tokens per day (TPD): Limit 500000, Used 499851, Requested 621. Please try again in 1m21.4866s. Need more tokens? Upgrade to Dev Tier today at https://console.groq.com/settings/billing', 'type': 'tokens', 'code': 'rate_limit_exceeded'}}\n"
     ]
    },
    {
     "name": "stderr",
     "output_type": "stream",
     "text": [
      "Classifying Logical Fallacies:  97%|█████████▋| 972/1000 [1:00:32<00:01, 16.69it/s]"
     ]
    },
    {
     "name": "stdout",
     "output_type": "stream",
     "text": [
      "Error processing text: People in all nations need freedom of speech. This... | Error: Error code: 429 - {'error': {'message': 'Rate limit reached for model `llama3-8b-8192` in organization `org_01jpvzq9f4e11t7x9pmtnxzxe8` service tier `on_demand` on tokens per day (TPD): Limit 500000, Used 499851, Requested 621. Please try again in 1m21.4286s. Need more tokens? Upgrade to Dev Tier today at https://console.groq.com/settings/billing', 'type': 'tokens', 'code': 'rate_limit_exceeded'}}\n",
      "Error processing text: : Hmm this may be the one with chip in it... | Error: Error code: 429 - {'error': {'message': 'Rate limit reached for model `llama3-8b-8192` in organization `org_01jpvzq9f4e11t7x9pmtnxzxe8` service tier `on_demand` on tokens per day (TPD): Limit 500000, Used 499850, Requested 552. Please try again in 1m9.4554s. Need more tokens? Upgrade to Dev Tier today at https://console.groq.com/settings/billing', 'type': 'tokens', 'code': 'rate_limit_exceeded'}}\n",
      "Error processing text: there should be no violence against women because ... | Error: Error code: 429 - {'error': {'message': 'Rate limit reached for model `llama3-8b-8192` in organization `org_01jpvzq9f4e11t7x9pmtnxzxe8` service tier `on_demand` on tokens per day (TPD): Limit 500000, Used 499850, Requested 598. Please try again in 1m17.3612s. Need more tokens? Upgrade to Dev Tier today at https://console.groq.com/settings/billing', 'type': 'tokens', 'code': 'rate_limit_exceeded'}}\n",
      "Error processing text: Helping raise awareness in his country is really a... | Error: Error code: 429 - {'error': {'message': 'Rate limit reached for model `llama3-8b-8192` in organization `org_01jpvzq9f4e11t7x9pmtnxzxe8` service tier `on_demand` on tokens per day (TPD): Limit 500000, Used 499850, Requested 616. Please try again in 1m20.4236s. Need more tokens? Upgrade to Dev Tier today at https://console.groq.com/settings/billing', 'type': 'tokens', 'code': 'rate_limit_exceeded'}}\n",
      "Error processing text: The United States must be a nation strong; the Uni... | Error: Error code: 429 - {'error': {'message': 'Rate limit reached for model `llama3-8b-8192` in organization `org_01jpvzq9f4e11t7x9pmtnxzxe8` service tier `on_demand` on tokens per day (TPD): Limit 500000, Used 499850, Requested 597. Please try again in 1m17.1004s. Need more tokens? Upgrade to Dev Tier today at https://console.groq.com/settings/billing', 'type': 'tokens', 'code': 'rate_limit_exceeded'}}\n"
     ]
    },
    {
     "name": "stderr",
     "output_type": "stream",
     "text": [
      "Classifying Logical Fallacies:  98%|█████████▊| 977/1000 [1:00:32<00:01, 18.36it/s]"
     ]
    },
    {
     "name": "stdout",
     "output_type": "stream",
     "text": [
      "Error processing text: The fact that this kind of animosity between the m... | Error: Error code: 429 - {'error': {'message': 'Rate limit reached for model `llama3-8b-8192` in organization `org_01jpvzq9f4e11t7x9pmtnxzxe8` service tier `on_demand` on tokens per day (TPD): Limit 500000, Used 499849, Requested 641. Please try again in 1m24.6556s. Need more tokens? Upgrade to Dev Tier today at https://console.groq.com/settings/billing', 'type': 'tokens', 'code': 'rate_limit_exceeded'}}\n",
      "Error processing text: : Moderna gets in the vaccine spotlight. Two days ... | Error: Error code: 429 - {'error': {'message': 'Rate limit reached for model `llama3-8b-8192` in organization `org_01jpvzq9f4e11t7x9pmtnxzxe8` service tier `on_demand` on tokens per day (TPD): Limit 500000, Used 499849, Requested 604. Please try again in 1m18.217999999s. Need more tokens? Upgrade to Dev Tier today at https://console.groq.com/settings/billing', 'type': 'tokens', 'code': 'rate_limit_exceeded'}}\n",
      "Error processing text: It is difficult to know for sure the purpose behin... | Error: Error code: 429 - {'error': {'message': 'Rate limit reached for model `llama3-8b-8192` in organization `org_01jpvzq9f4e11t7x9pmtnxzxe8` service tier `on_demand` on tokens per day (TPD): Limit 500000, Used 499849, Requested 758. Please try again in 1m44.7872s. Need more tokens? Upgrade to Dev Tier today at https://console.groq.com/settings/billing', 'type': 'tokens', 'code': 'rate_limit_exceeded'}}\n",
      "Error processing text: The general election in Cambodia that is scheduled... | Error: Error code: 429 - {'error': {'message': 'Rate limit reached for model `llama3-8b-8192` in organization `org_01jpvzq9f4e11t7x9pmtnxzxe8` service tier `on_demand` on tokens per day (TPD): Limit 500000, Used 499849, Requested 611. Please try again in 1m19.3246s. Need more tokens? Upgrade to Dev Tier today at https://console.groq.com/settings/billing', 'type': 'tokens', 'code': 'rate_limit_exceeded'}}\n",
      "Error processing text: : JFC they are seating people in the arena with no... | Error: Error code: 429 - {'error': {'message': 'Rate limit reached for model `llama3-8b-8192` in organization `org_01jpvzq9f4e11t7x9pmtnxzxe8` service tier `on_demand` on tokens per day (TPD): Limit 500000, Used 499848, Requested 586. Please try again in 1m14.9566s. Need more tokens? Upgrade to Dev Tier today at https://console.groq.com/settings/billing', 'type': 'tokens', 'code': 'rate_limit_exceeded'}}\n"
     ]
    },
    {
     "name": "stderr",
     "output_type": "stream",
     "text": [
      "Classifying Logical Fallacies:  98%|█████████▊| 982/1000 [1:00:33<00:00, 19.15it/s]"
     ]
    },
    {
     "name": "stdout",
     "output_type": "stream",
     "text": [
      "Error processing text: I visited some of those kids with no limbs today, ... | Error: Error code: 429 - {'error': {'message': 'Rate limit reached for model `llama3-8b-8192` in organization `org_01jpvzq9f4e11t7x9pmtnxzxe8` service tier `on_demand` on tokens per day (TPD): Limit 500000, Used 499848, Requested 577. Please try again in 1m13.3554s. Need more tokens? Upgrade to Dev Tier today at https://console.groq.com/settings/billing', 'type': 'tokens', 'code': 'rate_limit_exceeded'}}\n",
      "Error processing text: those safe havens... | Error: Error code: 429 - {'error': {'message': 'Rate limit reached for model `llama3-8b-8192` in organization `org_01jpvzq9f4e11t7x9pmtnxzxe8` service tier `on_demand` on tokens per day (TPD): Limit 500000, Used 499848, Requested 546. Please try again in 1m7.9556s. Need more tokens? Upgrade to Dev Tier today at https://console.groq.com/settings/billing', 'type': 'tokens', 'code': 'rate_limit_exceeded'}}\n",
      "Error processing text: This is very stupid. First of all, who would want ... | Error: Error code: 429 - {'error': {'message': 'Rate limit reached for model `llama3-8b-8192` in organization `org_01jpvzq9f4e11t7x9pmtnxzxe8` service tier `on_demand` on tokens per day (TPD): Limit 500000, Used 499847, Requested 609. Please try again in 1m18.794999999s. Need more tokens? Upgrade to Dev Tier today at https://console.groq.com/settings/billing', 'type': 'tokens', 'code': 'rate_limit_exceeded'}}\n",
      "Error processing text: The Macedonians must be pretty naive and stupid to... | Error: Error code: 429 - {'error': {'message': 'Rate limit reached for model `llama3-8b-8192` in organization `org_01jpvzq9f4e11t7x9pmtnxzxe8` service tier `on_demand` on tokens per day (TPD): Limit 500000, Used 499847, Requested 615. Please try again in 1m19.7858s. Need more tokens? Upgrade to Dev Tier today at https://console.groq.com/settings/billing', 'type': 'tokens', 'code': 'rate_limit_exceeded'}}\n",
      "Error processing text: This is abuse of power at its worst. I believe tha... | Error: Error code: 429 - {'error': {'message': 'Rate limit reached for model `llama3-8b-8192` in organization `org_01jpvzq9f4e11t7x9pmtnxzxe8` service tier `on_demand` on tokens per day (TPD): Limit 500000, Used 499847, Requested 624. Please try again in 1m21.282s. Need more tokens? Upgrade to Dev Tier today at https://console.groq.com/settings/billing', 'type': 'tokens', 'code': 'rate_limit_exceeded'}}\n"
     ]
    },
    {
     "name": "stderr",
     "output_type": "stream",
     "text": [
      "Classifying Logical Fallacies:  98%|█████████▊| 985/1000 [1:00:33<00:00, 20.37it/s]"
     ]
    },
    {
     "name": "stdout",
     "output_type": "stream",
     "text": [
      "Error processing text: we’ll have another 200,000 Americans dead by the t... | Error: Error code: 429 - {'error': {'message': 'Rate limit reached for model `llama3-8b-8192` in organization `org_01jpvzq9f4e11t7x9pmtnxzxe8` service tier `on_demand` on tokens per day (TPD): Limit 500000, Used 499847, Requested 555. Please try again in 1m9.3088s. Need more tokens? Upgrade to Dev Tier today at https://console.groq.com/settings/billing', 'type': 'tokens', 'code': 'rate_limit_exceeded'}}\n",
      "Error processing text: So no speech should ever be censored in any way? A... | Error: Error code: 429 - {'error': {'message': 'Rate limit reached for model `llama3-8b-8192` in organization `org_01jpvzq9f4e11t7x9pmtnxzxe8` service tier `on_demand` on tokens per day (TPD): Limit 500000, Used 499846, Requested 632. Please try again in 1m22.5694s. Need more tokens? Upgrade to Dev Tier today at https://console.groq.com/settings/billing', 'type': 'tokens', 'code': 'rate_limit_exceeded'}}\n",
      "Error processing text: Protesting should always be a right. The public ne... | Error: Error code: 429 - {'error': {'message': 'Rate limit reached for model `llama3-8b-8192` in organization `org_01jpvzq9f4e11t7x9pmtnxzxe8` service tier `on_demand` on tokens per day (TPD): Limit 500000, Used 499846, Requested 567. Please try again in 1m11.2944s. Need more tokens? Upgrade to Dev Tier today at https://console.groq.com/settings/billing', 'type': 'tokens', 'code': 'rate_limit_exceeded'}}\n",
      "Error processing text: Do the best for your baby\"  is an example of ...... | Error: Error code: 429 - {'error': {'message': 'Rate limit reached for model `llama3-8b-8192` in organization `org_01jpvzq9f4e11t7x9pmtnxzxe8` service tier `on_demand` on tokens per day (TPD): Limit 500000, Used 499846, Requested 554. Please try again in 1m9.002s. Need more tokens? Upgrade to Dev Tier today at https://console.groq.com/settings/billing', 'type': 'tokens', 'code': 'rate_limit_exceeded'}}\n",
      "Error processing text: : A surprised Healey said: \"That is not worthy of ... | Error: Error code: 429 - {'error': {'message': 'Rate limit reached for model `llama3-8b-8192` in organization `org_01jpvzq9f4e11t7x9pmtnxzxe8` service tier `on_demand` on tokens per day (TPD): Limit 500000, Used 499846, Requested 605. Please try again in 1m17.769799999s. Need more tokens? Upgrade to Dev Tier today at https://console.groq.com/settings/billing', 'type': 'tokens', 'code': 'rate_limit_exceeded'}}\n"
     ]
    },
    {
     "name": "stderr",
     "output_type": "stream",
     "text": [
      "Classifying Logical Fallacies:  99%|█████████▉| 991/1000 [1:00:33<00:00, 19.98it/s]"
     ]
    },
    {
     "name": "stdout",
     "output_type": "stream",
     "text": [
      "Error processing text: Artists  like MCZO and DJ duke lit the music scene... | Error: Error code: 429 - {'error': {'message': 'Rate limit reached for model `llama3-8b-8192` in organization `org_01jpvzq9f4e11t7x9pmtnxzxe8` service tier `on_demand` on tokens per day (TPD): Limit 500000, Used 499845, Requested 639. Please try again in 1m23.591s. Need more tokens? Upgrade to Dev Tier today at https://console.groq.com/settings/billing', 'type': 'tokens', 'code': 'rate_limit_exceeded'}}\n",
      "Error processing text: depends how you define growth. if any economic act... | Error: Error code: 429 - {'error': {'message': 'Rate limit reached for model `llama3-8b-8192` in organization `org_01jpvzq9f4e11t7x9pmtnxzxe8` service tier `on_demand` on tokens per day (TPD): Limit 500000, Used 499845, Requested 585. Please try again in 1m14.2078s. Need more tokens? Upgrade to Dev Tier today at https://console.groq.com/settings/billing', 'type': 'tokens', 'code': 'rate_limit_exceeded'}}\n",
      "Error processing text: It's about time the violence is addressed. If not ... | Error: Error code: 429 - {'error': {'message': 'Rate limit reached for model `llama3-8b-8192` in organization `org_01jpvzq9f4e11t7x9pmtnxzxe8` service tier `on_demand` on tokens per day (TPD): Limit 500000, Used 499845, Requested 606. Please try again in 1m17.7956s. Need more tokens? Upgrade to Dev Tier today at https://console.groq.com/settings/billing', 'type': 'tokens', 'code': 'rate_limit_exceeded'}}\n",
      "Error processing text: :   ...  Can you provide sound evidence that Iverm... | Error: Error code: 429 - {'error': {'message': 'Rate limit reached for model `llama3-8b-8192` in organization `org_01jpvzq9f4e11t7x9pmtnxzxe8` service tier `on_demand` on tokens per day (TPD): Limit 500000, Used 499844, Requested 578. Please try again in 1m12.9142s. Need more tokens? Upgrade to Dev Tier today at https://console.groq.com/settings/billing', 'type': 'tokens', 'code': 'rate_limit_exceeded'}}\n",
      "Error processing text: Barrie now works for the Climate Change Institute ... | Error: Error code: 429 - {'error': {'message': 'Rate limit reached for model `llama3-8b-8192` in organization `org_01jpvzq9f4e11t7x9pmtnxzxe8` service tier `on_demand` on tokens per day (TPD): Limit 500000, Used 499844, Requested 566. Please try again in 1m10.7746s. Need more tokens? Upgrade to Dev Tier today at https://console.groq.com/settings/billing', 'type': 'tokens', 'code': 'rate_limit_exceeded'}}\n"
     ]
    },
    {
     "name": "stderr",
     "output_type": "stream",
     "text": [
      "Classifying Logical Fallacies:  99%|█████████▉| 994/1000 [1:00:33<00:00, 20.86it/s]"
     ]
    },
    {
     "name": "stdout",
     "output_type": "stream",
     "text": [
      "Error processing text: This is dangerous. It isn't just naive; it's dange... | Error: Error code: 429 - {'error': {'message': 'Rate limit reached for model `llama3-8b-8192` in organization `org_01jpvzq9f4e11t7x9pmtnxzxe8` service tier `on_demand` on tokens per day (TPD): Limit 500000, Used 499844, Requested 555. Please try again in 1m8.832799999s. Need more tokens? Upgrade to Dev Tier today at https://console.groq.com/settings/billing', 'type': 'tokens', 'code': 'rate_limit_exceeded'}}\n",
      "Error processing text: :  This is an EXPERIMENTAL vaccine. Just because y... | Error: Error code: 429 - {'error': {'message': 'Rate limit reached for model `llama3-8b-8192` in organization `org_01jpvzq9f4e11t7x9pmtnxzxe8` service tier `on_demand` on tokens per day (TPD): Limit 500000, Used 499844, Requested 592. Please try again in 1m15.1834s. Need more tokens? Upgrade to Dev Tier today at https://console.groq.com/settings/billing', 'type': 'tokens', 'code': 'rate_limit_exceeded'}}\n",
      "Error processing text: : my quarantine hair was just me wrecking my hair ... | Error: Error code: 429 - {'error': {'message': 'Rate limit reached for model `llama3-8b-8192` in organization `org_01jpvzq9f4e11t7x9pmtnxzxe8` service tier `on_demand` on tokens per day (TPD): Limit 500000, Used 499843, Requested 567. Please try again in 1m10.8094s. Need more tokens? Upgrade to Dev Tier today at https://console.groq.com/settings/billing', 'type': 'tokens', 'code': 'rate_limit_exceeded'}}\n",
      "Error processing text: : I'd say the common questions are: - how is it di... | Error: Error code: 429 - {'error': {'message': 'Rate limit reached for model `llama3-8b-8192` in organization `org_01jpvzq9f4e11t7x9pmtnxzxe8` service tier `on_demand` on tokens per day (TPD): Limit 500000, Used 499843, Requested 597. Please try again in 1m15.9494s. Need more tokens? Upgrade to Dev Tier today at https://console.groq.com/settings/billing', 'type': 'tokens', 'code': 'rate_limit_exceeded'}}\n"
     ]
    },
    {
     "name": "stderr",
     "output_type": "stream",
     "text": [
      "Classifying Logical Fallacies: 100%|██████████| 1000/1000 [1:00:34<00:00,  3.63s/it]"
     ]
    },
    {
     "name": "stdout",
     "output_type": "stream",
     "text": [
      "Error processing text: The internet can be a dangerous place for young ch... | Error: Error code: 429 - {'error': {'message': 'Rate limit reached for model `llama3-8b-8192` in organization `org_01jpvzq9f4e11t7x9pmtnxzxe8` service tier `on_demand` on tokens per day (TPD): Limit 500000, Used 499843, Requested 637. Please try again in 1m22.7894s. Need more tokens? Upgrade to Dev Tier today at https://console.groq.com/settings/billing', 'type': 'tokens', 'code': 'rate_limit_exceeded'}}\n",
      "Error processing text: While I don't agree with it, I do have points of c... | Error: Error code: 429 - {'error': {'message': 'Rate limit reached for model `llama3-8b-8192` in organization `org_01jpvzq9f4e11t7x9pmtnxzxe8` service tier `on_demand` on tokens per day (TPD): Limit 500000, Used 499842, Requested 674. Please try again in 1m29.137s. Need more tokens? Upgrade to Dev Tier today at https://console.groq.com/settings/billing', 'type': 'tokens', 'code': 'rate_limit_exceeded'}}\n",
      "Error processing text: : Is anyone debating about whether to have their s... | Error: Error code: 429 - {'error': {'message': 'Rate limit reached for model `llama3-8b-8192` in organization `org_01jpvzq9f4e11t7x9pmtnxzxe8` service tier `on_demand` on tokens per day (TPD): Limit 500000, Used 499842, Requested 565. Please try again in 1m10.2598s. Need more tokens? Upgrade to Dev Tier today at https://console.groq.com/settings/billing', 'type': 'tokens', 'code': 'rate_limit_exceeded'}}\n",
      "Error processing text: Every 0.008 seconds in the United States, a teen a... | Error: Error code: 429 - {'error': {'message': 'Rate limit reached for model `llama3-8b-8192` in organization `org_01jpvzq9f4e11t7x9pmtnxzxe8` service tier `on_demand` on tokens per day (TPD): Limit 500000, Used 499842, Requested 596. Please try again in 1m15.5756s. Need more tokens? Upgrade to Dev Tier today at https://console.groq.com/settings/billing', 'type': 'tokens', 'code': 'rate_limit_exceeded'}}\n"
     ]
    },
    {
     "name": "stderr",
     "output_type": "stream",
     "text": [
      "\n"
     ]
    }
   ],
   "source": [
    "# Process the DataFrame and classify logical fallacies\n",
    "processed_df = process_dataframe(df_small)"
   ]
  },
  {
   "cell_type": "markdown",
   "metadata": {},
   "source": [
    "### Evaluation"
   ]
  },
  {
   "cell_type": "code",
   "execution_count": 26,
   "metadata": {},
   "outputs": [
    {
     "data": {
      "text/html": [
       "<div>\n",
       "<style scoped>\n",
       "    .dataframe tbody tr th:only-of-type {\n",
       "        vertical-align: middle;\n",
       "    }\n",
       "\n",
       "    .dataframe tbody tr th {\n",
       "        vertical-align: top;\n",
       "    }\n",
       "\n",
       "    .dataframe thead th {\n",
       "        text-align: right;\n",
       "    }\n",
       "</style>\n",
       "<table border=\"1\" class=\"dataframe\">\n",
       "  <thead>\n",
       "    <tr style=\"text-align: right;\">\n",
       "      <th></th>\n",
       "      <th>Unnamed: 0</th>\n",
       "      <th>dataset</th>\n",
       "      <th>text</th>\n",
       "      <th>logical_fallacies</th>\n",
       "      <th>source</th>\n",
       "      <th>predicted_fallacy</th>\n",
       "    </tr>\n",
       "  </thead>\n",
       "  <tbody>\n",
       "    <tr>\n",
       "      <th>0</th>\n",
       "      <td>18384</td>\n",
       "      <td>8</td>\n",
       "      <td>Testing on animals could save the life of you ...</td>\n",
       "      <td>appeal_to_emotion</td>\n",
       "      <td>NaN</td>\n",
       "      <td>faulty_generalization</td>\n",
       "    </tr>\n",
       "    <tr>\n",
       "      <th>1</th>\n",
       "      <td>11271</td>\n",
       "      <td>3</td>\n",
       "      <td>I remember when China took over Hong Kong, I r...</td>\n",
       "      <td>none</td>\n",
       "      <td>NaN</td>\n",
       "      <td>none</td>\n",
       "    </tr>\n",
       "    <tr>\n",
       "      <th>2</th>\n",
       "      <td>15702</td>\n",
       "      <td>4</td>\n",
       "      <td>: The only \"Light at the End of the Tunnel\", i...</td>\n",
       "      <td>appeal_to_emotion</td>\n",
       "      <td>NaN</td>\n",
       "      <td>none</td>\n",
       "    </tr>\n",
       "    <tr>\n",
       "      <th>3</th>\n",
       "      <td>7148</td>\n",
       "      <td>3</td>\n",
       "      <td>So you only believe there are two ways to run ...</td>\n",
       "      <td>none</td>\n",
       "      <td>NaN</td>\n",
       "      <td>false_dilemma</td>\n",
       "    </tr>\n",
       "    <tr>\n",
       "      <th>4</th>\n",
       "      <td>8147</td>\n",
       "      <td>3</td>\n",
       "      <td>Keep things the way they are or change them co...</td>\n",
       "      <td>false_dilemma</td>\n",
       "      <td>NaN</td>\n",
       "      <td>false_dilemma</td>\n",
       "    </tr>\n",
       "  </tbody>\n",
       "</table>\n",
       "</div>"
      ],
      "text/plain": [
       "   Unnamed: 0  dataset                                               text   \n",
       "0       18384        8  Testing on animals could save the life of you ...  \\\n",
       "1       11271        3  I remember when China took over Hong Kong, I r...   \n",
       "2       15702        4  : The only \"Light at the End of the Tunnel\", i...   \n",
       "3        7148        3  So you only believe there are two ways to run ...   \n",
       "4        8147        3  Keep things the way they are or change them co...   \n",
       "\n",
       "   logical_fallacies source      predicted_fallacy  \n",
       "0  appeal_to_emotion    NaN  faulty_generalization  \n",
       "1               none    NaN                   none  \n",
       "2  appeal_to_emotion    NaN                   none  \n",
       "3               none    NaN          false_dilemma  \n",
       "4      false_dilemma    NaN          false_dilemma  "
      ]
     },
     "execution_count": 26,
     "metadata": {},
     "output_type": "execute_result"
    }
   ],
   "source": [
    "processed_df.head()"
   ]
  },
  {
   "cell_type": "code",
   "execution_count": 28,
   "metadata": {},
   "outputs": [
    {
     "name": "stdout",
     "output_type": "stream",
     "text": [
      "                       precision    recall  f1-score   support\n",
      "\n",
      "                Error       0.00      0.00      0.00         0\n",
      "           ad_hominem       0.62      0.39      0.48       101\n",
      "  appeal_to_authority       0.46      0.30      0.37        56\n",
      "    appeal_to_emotion       0.28      0.11      0.16       155\n",
      "        false_dilemma       0.61      0.31      0.42        86\n",
      "faulty_generalization       0.19      0.57      0.28       133\n",
      "                 none       0.70      0.10      0.17       469\n",
      "\n",
      "             accuracy                           0.22      1000\n",
      "            macro avg       0.41      0.25      0.27      1000\n",
      "         weighted avg       0.54      0.22      0.25      1000\n",
      "\n"
     ]
    }
   ],
   "source": [
    "print(classification_report(processed_df[\"logical_fallacies\"], processed_df[\"predicted_fallacy\"]))"
   ]
  }
 ],
 "metadata": {
  "kernelspec": {
   "display_name": ".venv",
   "language": "python",
   "name": "python3"
  },
  "language_info": {
   "codemirror_mode": {
    "name": "ipython",
    "version": 3
   },
   "file_extension": ".py",
   "mimetype": "text/x-python",
   "name": "python",
   "nbconvert_exporter": "python",
   "pygments_lexer": "ipython3",
   "version": "3.11.3"
  }
 },
 "nbformat": 4,
 "nbformat_minor": 2
}
