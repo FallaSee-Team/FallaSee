{
 "cells": [
  {
   "cell_type": "markdown",
   "id": "f94bd545",
   "metadata": {},
   "source": [
    "# q3fer/distilbert-base-fallacy-classification"
   ]
  },
  {
   "cell_type": "code",
   "execution_count": 2,
   "id": "5c39ce8e",
   "metadata": {},
   "outputs": [
    {
     "name": "stdout",
     "output_type": "stream",
     "text": [
      "Requirement already satisfied: transformers in /Users/alicepope/Capstone project/Capstone_project/backend/.venv/lib/python3.11/site-packages (4.50.3)\n",
      "Requirement already satisfied: filelock in /Users/alicepope/Capstone project/Capstone_project/backend/.venv/lib/python3.11/site-packages (from transformers) (3.18.0)\n",
      "Requirement already satisfied: huggingface-hub<1.0,>=0.26.0 in /Users/alicepope/Capstone project/Capstone_project/backend/.venv/lib/python3.11/site-packages (from transformers) (0.30.1)\n",
      "Requirement already satisfied: numpy>=1.17 in /Users/alicepope/Capstone project/Capstone_project/backend/.venv/lib/python3.11/site-packages (from transformers) (1.26.4)\n",
      "Requirement already satisfied: packaging>=20.0 in /Users/alicepope/Capstone project/Capstone_project/backend/.venv/lib/python3.11/site-packages (from transformers) (23.2)\n",
      "Requirement already satisfied: pyyaml>=5.1 in /Users/alicepope/Capstone project/Capstone_project/backend/.venv/lib/python3.11/site-packages (from transformers) (6.0.2)\n",
      "Requirement already satisfied: regex!=2019.12.17 in /Users/alicepope/Capstone project/Capstone_project/backend/.venv/lib/python3.11/site-packages (from transformers) (2024.11.6)\n",
      "Requirement already satisfied: requests in /Users/alicepope/Capstone project/Capstone_project/backend/.venv/lib/python3.11/site-packages (from transformers) (2.32.3)\n",
      "Requirement already satisfied: tokenizers<0.22,>=0.21 in /Users/alicepope/Capstone project/Capstone_project/backend/.venv/lib/python3.11/site-packages (from transformers) (0.21.1)\n",
      "Requirement already satisfied: safetensors>=0.4.3 in /Users/alicepope/Capstone project/Capstone_project/backend/.venv/lib/python3.11/site-packages (from transformers) (0.5.3)\n",
      "Requirement already satisfied: tqdm>=4.27 in /Users/alicepope/Capstone project/Capstone_project/backend/.venv/lib/python3.11/site-packages (from transformers) (4.67.1)\n",
      "Requirement already satisfied: fsspec>=2023.5.0 in /Users/alicepope/Capstone project/Capstone_project/backend/.venv/lib/python3.11/site-packages (from huggingface-hub<1.0,>=0.26.0->transformers) (2024.12.0)\n",
      "Requirement already satisfied: typing-extensions>=3.7.4.3 in /Users/alicepope/Capstone project/Capstone_project/backend/.venv/lib/python3.11/site-packages (from huggingface-hub<1.0,>=0.26.0->transformers) (4.13.0)\n",
      "Requirement already satisfied: charset-normalizer<4,>=2 in /Users/alicepope/Capstone project/Capstone_project/backend/.venv/lib/python3.11/site-packages (from requests->transformers) (3.4.1)\n",
      "Requirement already satisfied: idna<4,>=2.5 in /Users/alicepope/Capstone project/Capstone_project/backend/.venv/lib/python3.11/site-packages (from requests->transformers) (3.10)\n",
      "Requirement already satisfied: urllib3<3,>=1.21.1 in /Users/alicepope/Capstone project/Capstone_project/backend/.venv/lib/python3.11/site-packages (from requests->transformers) (2.3.0)\n",
      "Requirement already satisfied: certifi>=2017.4.17 in /Users/alicepope/Capstone project/Capstone_project/backend/.venv/lib/python3.11/site-packages (from requests->transformers) (2025.1.31)\n"
     ]
    }
   ],
   "source": [
    "# Install dependencies (run once)\n",
    "!pip install transformers"
   ]
  },
  {
   "cell_type": "code",
   "execution_count": 3,
   "id": "27790c34",
   "metadata": {},
   "outputs": [
    {
     "name": "stderr",
     "output_type": "stream",
     "text": [
      "/Users/alicepope/Capstone project/Capstone_project/backend/.venv/lib/python3.11/site-packages/tqdm/auto.py:21: TqdmWarning: IProgress not found. Please update jupyter and ipywidgets. See https://ipywidgets.readthedocs.io/en/stable/user_install.html\n",
      "  from .autonotebook import tqdm as notebook_tqdm\n"
     ]
    }
   ],
   "source": [
    "import pandas as pd\n",
    "import numpy as np\n",
    "from sklearn.preprocessing import LabelEncoder\n",
    "from datasets import Dataset\n",
    "from transformers import AutoTokenizer, AutoModelForSequenceClassification, TrainingArguments, Trainer, TextClassificationPipeline \n",
    "from sklearn.metrics import accuracy_score, recall_score, precision_score, f1_score, classification_report, confusion_matrix\n",
    "import mlflow\n",
    "from mlflow.transformers import log_model\n",
    "import logging \n",
    "from logging import getLogger\n",
    "from transformers import AutoConfig\n",
    "from transformers import AutoTokenizer, AutoModelForSequenceClassification, TextClassificationPipeline\n",
    "import torch\n",
    "\n",
    "\n",
    "from sklearn.model_selection import train_test_split\n",
    "#  import pickle\n",
    "import warnings # why? \n",
    "from mlflow.sklearn import save_model \n",
    "import os\n",
    "os.environ[\"TOKENIZERS_PARALLELISM\"] = \"false\"  # This tells Hugging Face: “Don’t use parallel tokenization — avoid possible deadlocks.”\n",
    "\n",
    "import seaborn as sns\n",
    "import matplotlib.pyplot as plt\n",
    "\n",
    "import config "
   ]
  },
  {
   "cell_type": "code",
   "execution_count": null,
   "id": "aeba3e29",
   "metadata": {},
   "outputs": [
    {
     "name": "stdout",
     "output_type": "stream",
     "text": [
      "Model Label ID to Label Mapping:\n",
      "{0: 'ad hominem', 1: 'ad populum', 2: 'appeal to emotion', 3: 'circular reasoning', 4: 'equivocation', 5: 'fallacy of credibility', 6: 'fallacy of extension', 7: 'fallacy of logic', 8: 'fallacy of relevance', 9: 'false causality', 10: 'false dilemma', 11: 'faulty generalization', 12: 'intentional', 13: 'miscellaneous'}\n",
      "\n",
      "Reverse Mapping (Label to ID):\n",
      "{'ad hominem': 0, 'ad populum': 1, 'appeal to emotion': 2, 'circular reasoning': 3, 'equivocation': 4, 'fallacy of credibility': 5, 'fallacy of extension': 6, 'fallacy of logic': 7, 'fallacy of relevance': 8, 'false causality': 9, 'false dilemma': 10, 'faulty generalization': 11, 'intentional': 12, 'miscellaneous': 13}\n"
     ]
    }
   ],
   "source": [
    "# # Load model config to inspect label mappings\n",
    "\n",
    "# model_name = \"q3fer/distilbert-base-fallacy-classification\"\n",
    "# configuration = AutoConfig.from_pretrained(model_name)\n",
    "\n",
    "# print(\"Model Label ID to Label Mapping:\")\n",
    "# print(configuration.id2label)\n",
    "\n",
    "# print(\"\\nReverse Mapping (Label to ID):\")\n",
    "# print(configuration.label2id)"
   ]
  },
  {
   "cell_type": "code",
   "execution_count": 4,
   "id": "ee9709ca",
   "metadata": {},
   "outputs": [],
   "source": [
    "MODEL_NAME = \"q3fer/distilbert-base-fallacy-classification\" # pulls the fallacy trained model\n",
    "DATA_PATH = \"../data/data_small.csv\"\n",
    "TRACKING_URI = config.TRACKING_URI\n",
    "EXPERIMENT_NAME = config.EXPERIMENT_NAME\n",
    "\n",
    "logging.basicConfig(format=\"%(asctime)s: %(message)s\") # Configure logging format to show timestamp before every message\n",
    "\n",
    "logger = logging.getLogger()\n",
    "logger.setLevel(logging.INFO) # Only show logs that are INFO or more important (e.g., WARNING, ERROR) — but ignore DEBUG."
   ]
  },
  {
   "cell_type": "code",
   "execution_count": 5,
   "id": "f5b0b386",
   "metadata": {},
   "outputs": [
    {
     "name": "stderr",
     "output_type": "stream",
     "text": [
      "2025-04-02 17:15:50,968: Loading and preprocessing data...\n",
      "Map: 100%|██████████| 3500/3500 [00:01<00:00, 2561.11 examples/s]\n",
      "Map: 100%|██████████| 1500/1500 [00:00<00:00, 2674.40 examples/s]\n"
     ]
    }
   ],
   "source": [
    "# Load and preprocess data\n",
    "logger.info(\"Loading and preprocessing data...\")\n",
    "df = pd.read_csv(DATA_PATH)\n",
    "le = LabelEncoder()\n",
    "df[\"label\"] = le.fit_transform(df[\"logical_fallacies\"])\n",
    "dataset = Dataset.from_pandas(df[[\"text\", \"label\"]])\n",
    "dataset = dataset.train_test_split(test_size=0.3)\n",
    "\n",
    "tokenizer = AutoTokenizer.from_pretrained(MODEL_NAME)\n",
    "\n",
    "def tokenize(batch):\n",
    "    return tokenizer(batch[\"text\"], padding=True, truncation=True)\n",
    "\n",
    "dataset = dataset.map(tokenize, batched=True)"
   ]
  },
  {
   "cell_type": "code",
   "execution_count": null,
   "id": "7774dbf5",
   "metadata": {},
   "outputs": [
    {
     "name": "stdout",
     "output_type": "stream",
     "text": [
      "['ad_hominem' 'appeal_to_authority' 'appeal_to_emotion' 'false_dilemma'\n",
      " 'faulty_generalization' 'none']\n",
      "['ad_hominem' 'appeal_to_authority' 'appeal_to_emotion' 'false_dilemma'\n",
      " 'faulty_generalization' 'none']\n"
     ]
    }
   ],
   "source": [
    "print(le.classes_)  \n",
    "print(le.inverse_transform([0,1,2,3,4,5]))"
   ]
  },
  {
   "cell_type": "code",
   "execution_count": 7,
   "id": "f0740229",
   "metadata": {},
   "outputs": [],
   "source": [
    "# Define new labels\n",
    "id2label = {\n",
    "    0: \"ad_hominem\",\n",
    "    1: \"appeal_to_authority\",\n",
    "    2: \"appeal_to_emotion\",\n",
    "    3: \"false_dilemma\",\n",
    "    4: \"faulty_generalization\",\n",
    "    5: \"none\"\n",
    "}\n",
    "\n",
    "label2id = {v: k for k, v in id2label.items()}"
   ]
  },
  {
   "cell_type": "code",
   "execution_count": 16,
   "id": "981718bf",
   "metadata": {},
   "outputs": [
    {
     "name": "stderr",
     "output_type": "stream",
     "text": [
      "Some weights of DistilBertForSequenceClassification were not initialized from the model checkpoint at q3fer/distilbert-base-fallacy-classification and are newly initialized because the shapes did not match:\n",
      "- classifier.weight: found shape torch.Size([14, 768]) in the checkpoint and torch.Size([6, 768]) in the model instantiated\n",
      "- classifier.bias: found shape torch.Size([14]) in the checkpoint and torch.Size([6]) in the model instantiated\n",
      "You should probably TRAIN this model on a down-stream task to be able to use it for predictions and inference.\n"
     ]
    }
   ],
   "source": [
    "# Initialize model\n",
    "model = AutoModelForSequenceClassification.from_pretrained(MODEL_NAME, num_labels=6, ignore_mismatched_sizes= True)\n",
    "model.config.id2label = id2label\n",
    "model.config.label2id = label2id"
   ]
  },
  {
   "cell_type": "code",
   "execution_count": 17,
   "id": "52e23fbc",
   "metadata": {},
   "outputs": [
    {
     "name": "stdout",
     "output_type": "stream",
     "text": [
      "torch.Size([6, 768])\n"
     ]
    }
   ],
   "source": [
    "final_layer = model.classifier\n",
    "# Check the size of the weights\n",
    "print(final_layer.weight.shape)  # Will be [num_labels, hidden_size] (num_labels x hidden_size)"
   ]
  },
  {
   "cell_type": "code",
   "execution_count": 18,
   "id": "6b03955f",
   "metadata": {},
   "outputs": [
    {
     "name": "stdout",
     "output_type": "stream",
     "text": [
      "DistilBertConfig {\n",
      "  \"_attn_implementation_autoset\": true,\n",
      "  \"activation\": \"gelu\",\n",
      "  \"architectures\": [\n",
      "    \"DistilBertForSequenceClassification\"\n",
      "  ],\n",
      "  \"attention_dropout\": 0.1,\n",
      "  \"dim\": 768,\n",
      "  \"dropout\": 0.1,\n",
      "  \"hidden_dim\": 3072,\n",
      "  \"id2label\": {\n",
      "    \"0\": \"ad_hominem\",\n",
      "    \"1\": \"appeal_to_authority\",\n",
      "    \"2\": \"appeal_to_emotion\",\n",
      "    \"3\": \"false_dilemma\",\n",
      "    \"4\": \"faulty_generalization\",\n",
      "    \"5\": \"none\"\n",
      "  },\n",
      "  \"initializer_range\": 0.02,\n",
      "  \"label2id\": {\n",
      "    \"ad_hominem\": 0,\n",
      "    \"appeal_to_authority\": 1,\n",
      "    \"appeal_to_emotion\": 2,\n",
      "    \"false_dilemma\": 3,\n",
      "    \"faulty_generalization\": 4,\n",
      "    \"none\": 5\n",
      "  },\n",
      "  \"max_position_embeddings\": 512,\n",
      "  \"model_type\": \"distilbert\",\n",
      "  \"n_heads\": 12,\n",
      "  \"n_layers\": 6,\n",
      "  \"pad_token_id\": 0,\n",
      "  \"qa_dropout\": 0.1,\n",
      "  \"seq_classif_dropout\": 0.2,\n",
      "  \"sinusoidal_pos_embds\": false,\n",
      "  \"tie_weights_\": true,\n",
      "  \"torch_dtype\": \"float32\",\n",
      "  \"transformers_version\": \"4.50.3\",\n",
      "  \"vocab_size\": 30522\n",
      "}\n",
      "\n"
     ]
    }
   ],
   "source": [
    "# To see a summary of the model\n",
    "print(model.config)"
   ]
  },
  {
   "cell_type": "code",
   "execution_count": 19,
   "id": "e910a33f",
   "metadata": {},
   "outputs": [],
   "source": [
    "# Define metric logging function\n",
    "def compute_metrics(eval_pred):\n",
    "    logits, labels = eval_pred\n",
    "    preds = logits.argmax(axis=1)\n",
    "    acc = accuracy_score(labels, preds)\n",
    "    precision = precision_score(labels, preds, average=\"macro\")\n",
    "    recall = recall_score(labels, preds, average=\"macro\")\n",
    "    f1 = f1_score(labels, preds, average=\"macro\")\n",
    "    return {\"accuracy\": acc, \"precision\": precision, \"recall\": recall, \"f1\": f1}"
   ]
  },
  {
   "cell_type": "code",
   "execution_count": 25,
   "id": "3fd7a660",
   "metadata": {},
   "outputs": [
    {
     "name": "stderr",
     "output_type": "stream",
     "text": [
      "/Users/alicepope/Capstone project/Capstone_project/backend/.venv/lib/python3.11/site-packages/transformers/training_args.py:1611: FutureWarning: `evaluation_strategy` is deprecated and will be removed in version 4.46 of 🤗 Transformers. Use `eval_strategy` instead\n",
      "  warnings.warn(\n"
     ]
    }
   ],
   "source": [
    "# TrainingArguments This config tells the Trainer: \n",
    "# “Train for 3 epochs, evaluate and save the model after each one, \n",
    "# use moderate batch sizes, \n",
    "# and keep logs and checkpoints local — don’t auto-report to external dashboards.” --> can it be set to report to MLFlow?\n",
    "\n",
    "args = TrainingArguments(\n",
    "    output_dir=\"../models/fallacy-model\",\n",
    "    evaluation_strategy=\"epoch\",\n",
    "    per_device_train_batch_size=16,\n",
    "    per_device_eval_batch_size=64,\n",
    "    num_train_epochs=3,\n",
    "    logging_dir=\"./logs\",\n",
    "    save_strategy=\"epoch\",\n",
    "    report_to=\"none\"\n",
    ")"
   ]
  },
  {
   "cell_type": "code",
   "execution_count": 26,
   "id": "a7c7302e",
   "metadata": {},
   "outputs": [
    {
     "name": "stderr",
     "output_type": "stream",
     "text": [
      "/var/folders/qt/8rxmyyc907sdnc599f4rg0080000gn/T/ipykernel_78819/1737596100.py:7: FutureWarning: `tokenizer` is deprecated and will be removed in version 5.0.0 for `Trainer.__init__`. Use `processing_class` instead.\n",
      "  trainer = Trainer(\n"
     ]
    },
    {
     "data": {
      "text/html": [
       "\n",
       "    <div>\n",
       "      \n",
       "      <progress value='657' max='657' style='width:300px; height:20px; vertical-align: middle;'></progress>\n",
       "      [657/657 1:40:50, Epoch 3/3]\n",
       "    </div>\n",
       "    <table border=\"1\" class=\"dataframe\">\n",
       "  <thead>\n",
       " <tr style=\"text-align: left;\">\n",
       "      <th>Epoch</th>\n",
       "      <th>Training Loss</th>\n",
       "      <th>Validation Loss</th>\n",
       "      <th>Accuracy</th>\n",
       "      <th>Precision</th>\n",
       "      <th>Recall</th>\n",
       "      <th>F1</th>\n",
       "    </tr>\n",
       "  </thead>\n",
       "  <tbody>\n",
       "    <tr>\n",
       "      <td>1</td>\n",
       "      <td>No log</td>\n",
       "      <td>0.840560</td>\n",
       "      <td>0.728000</td>\n",
       "      <td>0.726316</td>\n",
       "      <td>0.620646</td>\n",
       "      <td>0.659076</td>\n",
       "    </tr>\n",
       "    <tr>\n",
       "      <td>2</td>\n",
       "      <td>No log</td>\n",
       "      <td>0.946859</td>\n",
       "      <td>0.734000</td>\n",
       "      <td>0.706488</td>\n",
       "      <td>0.657442</td>\n",
       "      <td>0.673988</td>\n",
       "    </tr>\n",
       "    <tr>\n",
       "      <td>3</td>\n",
       "      <td>0.441400</td>\n",
       "      <td>1.043909</td>\n",
       "      <td>0.736667</td>\n",
       "      <td>0.710476</td>\n",
       "      <td>0.657193</td>\n",
       "      <td>0.678199</td>\n",
       "    </tr>\n",
       "  </tbody>\n",
       "</table><p>"
      ],
      "text/plain": [
       "<IPython.core.display.HTML object>"
      ]
     },
     "metadata": {},
     "output_type": "display_data"
    },
    {
     "data": {
      "text/html": [],
      "text/plain": [
       "<IPython.core.display.HTML object>"
      ]
     },
     "metadata": {},
     "output_type": "display_data"
    },
    {
     "name": "stderr",
     "output_type": "stream",
     "text": [
      "Device set to use cpu\n",
      "2025/04/02 20:09:32 WARNING mlflow.transformers.signature: An unsupported task type was supplied for signature inference. Either provide an `input_example` or generate a signature manually via `infer_signature` to have a signature recorded in the MLmodel file.\n",
      "2025/04/02 20:09:56 WARNING mlflow.utils.environment: Encountered an unexpected error while inferring pip requirements (model URI: /var/folders/qt/8rxmyyc907sdnc599f4rg0080000gn/T/tmpj38vqu0z/model, flavor: transformers). Fall back to return ['transformers==4.50.3', 'torch==2.2.2', 'torchvision==0.17.2', 'accelerate==1.5.2']. Set logging level to DEBUG to see the full traceback. \n",
      "\u001b[31m2025/04/02 20:09:56 WARNING mlflow.models.model: Model logged without a signature and input example. Please set `input_example` parameter when logging the model to auto infer the model signature.\u001b[0m\n"
     ]
    }
   ],
   "source": [
    "# Train using Trainer and log to MLflow\n",
    "mlflow.set_tracking_uri(TRACKING_URI)\n",
    "mlflow.set_experiment(EXPERIMENT_NAME)\n",
    "with mlflow.start_run():\n",
    "    mlflow.set_tag(\"model_name\", MODEL_NAME)\n",
    "    mlflow.log_params({\"epochs\" : 1})\n",
    "    trainer = Trainer(\n",
    "        model,\n",
    "        args=args,\n",
    "        train_dataset=dataset[\"train\"],\n",
    "        eval_dataset=dataset[\"test\"],\n",
    "        tokenizer=tokenizer,\n",
    "        compute_metrics=compute_metrics\n",
    "    )\n",
    "\n",
    "    trainer.train()\n",
    "    trainer.evaluate()\n",
    "\n",
    "    # Wrap model in a Hugging Face pipeline so MLflow can log it properly\n",
    "    pipeline = TextClassificationPipeline(model=trainer.model, tokenizer=tokenizer)\n",
    "    log_model(pipeline, artifact_path=\"model\") \n"
   ]
  },
  {
   "cell_type": "code",
   "execution_count": 27,
   "id": "09e808b0",
   "metadata": {},
   "outputs": [
    {
     "name": "stdout",
     "output_type": "stream",
     "text": [
      "                       precision    recall  f1-score   support\n",
      "\n",
      "           ad_hominem       0.77      0.58      0.66       154\n",
      "  appeal_to_authority       0.64      0.54      0.59        90\n",
      "    appeal_to_emotion       0.64      0.75      0.69       207\n",
      "        false_dilemma       0.75      0.68      0.71       140\n",
      "faulty_generalization       0.68      0.54      0.60       194\n",
      "                 none       0.78      0.86      0.82       715\n",
      "\n",
      "             accuracy                           0.74      1500\n",
      "            macro avg       0.71      0.66      0.68      1500\n",
      "         weighted avg       0.74      0.74      0.73      1500\n",
      "\n",
      "Confusion Matrix:\n",
      "[[ 89   6  27   3   8  21]\n",
      " [  4  49  12   1   3  21]\n",
      " [  8   4 155   5   5  30]\n",
      " [  2   0   3  95   4  36]\n",
      " [  3   2  16   2 104  67]\n",
      " [ 10  16  28  20  28 613]]\n"
     ]
    },
    {
     "data": {
      "image/png": "[encoded data removed]",
      "text/plain": [
       "<Figure size 1000x800 with 2 Axes>"
      ]
     },
     "metadata": {},
     "output_type": "display_data"
    }
   ],
   "source": [
    "# Add prediction and reporting here\n",
    "output = trainer.predict(dataset[\"test\"])\n",
    "predictions = np.argmax(output.predictions, axis=1)\n",
    "y_true = output.label_ids\n",
    "\n",
    "# Classification report\n",
    "label_names = le.classes_\n",
    "print(classification_report(y_true, predictions, target_names=label_names))\n",
    "\n",
    "# Confusion matrix\n",
    "cm = confusion_matrix(y_true, predictions)\n",
    "print(\"Confusion Matrix:\")\n",
    "print(cm)\n",
    "\n",
    "# plotting\n",
    "plt.figure(figsize=(10, 8))\n",
    "sns.heatmap(cm, annot=True, fmt=\"d\", cmap=\"Blues\", xticklabels=label_names, yticklabels=label_names)\n",
    "plt.xlabel(\"Predicted\")\n",
    "plt.ylabel(\"True\")\n",
    "plt.title(\"Confusion Matrix\")\n",
    "plt.show()"
   ]
  },
  {
   "cell_type": "code",
   "execution_count": 28,
   "id": "291d4317",
   "metadata": {},
   "outputs": [
    {
     "name": "stderr",
     "output_type": "stream",
     "text": [
      "2025/04/02 20:24:47 WARNING mlflow.sklearn: Model was missing function: predict. Not logging python_function flavor!\n"
     ]
    }
   ],
   "source": [
    "path = \"../models/distilbert-base-fallacy-classification\"\n",
    "save_model(sk_model=model, path=path)"
   ]
  },
  {
   "cell_type": "markdown",
   "id": "10ff82fd",
   "metadata": {},
   "source": [
    "### Checking the q3fer"
   ]
  },
  {
   "cell_type": "code",
   "execution_count": 19,
   "id": "7a61895a",
   "metadata": {},
   "outputs": [
    {
     "name": "stderr",
     "output_type": "stream",
     "text": [
      "Device set to use cpu\n"
     ]
    },
    {
     "name": "stdout",
     "output_type": "stream",
     "text": [
      "Text 1: You have no idea what you're talking about; you've only lived here for six months.\n",
      "Prediction: ad hominem (Score: 0.95)\n",
      "--------------------------------------------------\n",
      "Text 2: I read a book by a nutritionist who says all carbs are bad.\n",
      "Prediction: fallacy of credibility (Score: 0.49)\n",
      "--------------------------------------------------\n",
      "Text 3: Can I have the last piece of cake? You know how much I love it, and it's been a tough day for me.\n",
      "Prediction: appeal to emotion (Score: 0.69)\n",
      "--------------------------------------------------\n",
      "Text 4: If we don't order pizza for dinner, we'll have to eat the week-old spaghetti in the fridge.\n",
      "Prediction: faulty generalization (Score: 0.97)\n",
      "--------------------------------------------------\n",
      "Text 5: I was in Greece for two week. Greeks are amazing people!\n",
      "Prediction: faulty generalization (Score: 0.99)\n",
      "--------------------------------------------------\n",
      "Text 6: We should look into the science that supports this idea.\n",
      "Prediction: fallacy of credibility (Score: 0.55)\n",
      "--------------------------------------------------\n"
     ]
    }
   ],
   "source": [
    "# Run inference with q3fer model on sample texts\n",
    "tokenizer = AutoTokenizer.from_pretrained(model_name)\n",
    "model = AutoModelForSequenceClassification.from_pretrained(model_name)\n",
    "\n",
    "pipeline = TextClassificationPipeline(model=model, tokenizer=tokenizer)\n",
    "\n",
    "examples = [\n",
    "    \"You have no idea what you're talking about; you've only lived here for six months.\", # ad_hominem\n",
    "    \"I read a book by a nutritionist who says all carbs are bad.\", # appeal_to_authority\n",
    "    \"Can I have the last piece of cake? You know how much I love it, and it's been a tough day for me.\", # appeal_to_emotion\n",
    "    \"If we don't order pizza for dinner, we'll have to eat the week-old spaghetti in the fridge.\", # false_dilemma\n",
    "    \"I was in Greece for two week. Greeks are amazing people!\", # faulty_generalization\n",
    "    \"We should look into the science that supports this idea.\" # none\n",
    "]\n",
    "\n",
    "predictions = pipeline(examples)\n",
    "\n",
    "for i, pred in enumerate(predictions):\n",
    "    print(f\"Text {i+1}: {examples[i]}\")\n",
    "    print(f\"Prediction: {pred['label']} (Score: {pred['score']:.2f})\")\n",
    "    print(\"-\" * 50)"
   ]
  },
  {
   "cell_type": "code",
   "execution_count": null,
   "id": "4803b7c3",
   "metadata": {},
   "outputs": [],
   "source": [
    "label_mapping = {\n",
    "    'ad hominem': 'ad_hominem',\n",
    "    'appeal to emotion': 'appeal_to_emotion',\n",
    "    'false dilemma': 'false_dilemma',\n",
    "    'faulty generalization': 'faulty_generalization',\n",
    "    'circular reasoning': 'other',\n",
    "    'appeal to authority': 'appeal_to_authority',  \n",
    "    'miscellaneous': 'other',  \n",
    "    'fallacy of logic': 'other',\n",
    "    'intentional': 'other',\n",
    "    'ad populum': 'other',\n",
    "    'equivocation': 'other',\n",
    "    'false causality': 'other',\n",
    "    'fallacy of relevance': 'other',\n",
    "    'fallacy of credibility': 'other',\n",
    "    'fallacy of extension': 'other'\n",
    "}\n",
    "\n",
    "#  the model's label doesn't include 'none'.Maybe we should/could test it out on our dataset with only the fallacies?"
   ]
  },
  {
   "cell_type": "code",
   "execution_count": 22,
   "id": "1c5c133d",
   "metadata": {},
   "outputs": [
    {
     "name": "stdout",
     "output_type": "stream",
     "text": [
      "Text 1: You have no idea what you're talking about; you've only lived here for six months.\n",
      "Original Prediction: ad hominem (Score: 0.95)\n",
      "Mapped to: ad_hominem\n",
      "--------------------------------------------------\n",
      "Text 2: I read a book by a nutritionist who says all carbs are bad.\n",
      "Original Prediction: fallacy of credibility (Score: 0.49)\n",
      "Mapped to: other\n",
      "--------------------------------------------------\n",
      "Text 3: Can I have the last piece of cake? You know how much I love it, and it's been a tough day for me.\n",
      "Original Prediction: appeal to emotion (Score: 0.69)\n",
      "Mapped to: appeal_to_emotion\n",
      "--------------------------------------------------\n",
      "Text 4: If we don't order pizza for dinner, we'll have to eat the week-old spaghetti in the fridge.\n",
      "Original Prediction: faulty generalization (Score: 0.97)\n",
      "Mapped to: faulty_generalization\n",
      "--------------------------------------------------\n",
      "Text 5: I was in Greece for two week. Greeks are amazing people!\n",
      "Original Prediction: faulty generalization (Score: 0.99)\n",
      "Mapped to: faulty_generalization\n",
      "--------------------------------------------------\n",
      "Text 6: We should look into the science that supports this idea.\n",
      "Original Prediction: fallacy of credibility (Score: 0.55)\n",
      "Mapped to: other\n",
      "--------------------------------------------------\n"
     ]
    }
   ],
   "source": [
    "# testing with the examples\n",
    "mapped_predictions = []\n",
    "\n",
    "for i, pred in enumerate(predictions):\n",
    "    original_label = pred['label']\n",
    "    mapped_label = label_mapping.get(original_label, 'unmapped')\n",
    "\n",
    "    print(f\"Text {i+1}: {examples[i]}\")\n",
    "    print(f\"Original Prediction: {original_label} (Score: {pred['score']:.2f})\")\n",
    "    print(f\"Mapped to: {mapped_label}\")\n",
    "    print(\"-\" * 50)\n",
    "\n",
    "    mapped_predictions.append(mapped_label)\n"
   ]
  }
 ],
 "metadata": {
  "kernelspec": {
   "display_name": ".venv",
   "language": "python",
   "name": "python3"
  },
  "language_info": {
   "codemirror_mode": {
    "name": "ipython",
    "version": 3
   },
   "file_extension": ".py",
   "mimetype": "text/x-python",
   "name": "python",
   "nbconvert_exporter": "python",
   "pygments_lexer": "ipython3",
   "version": "3.11.3"
  }
 },
 "nbformat": 4,
 "nbformat_minor": 5
}
