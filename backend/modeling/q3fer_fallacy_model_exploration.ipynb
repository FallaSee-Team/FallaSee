{
 "cells": [
  {
   "cell_type": "markdown",
   "id": "f94bd545",
   "metadata": {},
   "source": [
    "# q3fer/distilbert-base-fallacy-classification"
   ]
  },
  {
   "cell_type": "code",
   "execution_count": null,
   "id": "5c39ce8e",
   "metadata": {},
   "outputs": [],
   "source": [
    "# Install dependencies (run once)\n",
    "!pip install transformers"
   ]
  },
  {
   "cell_type": "code",
   "execution_count": null,
   "id": "aeba3e29",
   "metadata": {},
   "outputs": [],
   "source": [
    "# Load model config to inspect label mappings\n",
    "from transformers import AutoConfig\n",
    "\n",
    "model_name = \"q3fer/distilbert-base-fallacy-classification\"\n",
    "config = AutoConfig.from_pretrained(model_name)\n",
    "\n",
    "print(\"Model Label ID to Label Mapping:\")\n",
    "print(config.id2label)\n",
    "\n",
    "print(\"\\nReverse Mapping (Label to ID):\")\n",
    "print(config.label2id)"
   ]
  },
  {
   "cell_type": "code",
   "execution_count": null,
   "id": "f5b0b386",
   "metadata": {},
   "outputs": [],
   "source": [
    "# Load your dataset's labels\n",
    "import pandas as pd\n",
    "from sklearn.preprocessing import LabelEncoder\n",
    "\n",
    "df = pd.read_csv(\"data/data_small.csv\")\n",
    "le = LabelEncoder()\n",
    "df[\"label\"] = le.fit_transform(df[\"logical_fallacies\"])\n",
    "print(\"Your dataset's labels:\")\n",
    "print(list(le.classes_))"
   ]
  },
  {
   "cell_type": "code",
   "execution_count": null,
   "id": "7a61895a",
   "metadata": {},
   "outputs": [],
   "source": [
    "# Run inference with q3fer model on sample texts\n",
    "from transformers import AutoTokenizer, AutoModelForSequenceClassification, TextClassificationPipeline\n",
    "\n",
    "tokenizer = AutoTokenizer.from_pretrained(model_name)\n",
    "model = AutoModelForSequenceClassification.from_pretrained(model_name)\n",
    "\n",
    "pipeline = TextClassificationPipeline(model=model, tokenizer=tokenizer)\n",
    "\n",
    "examples = [\n",
    "    \"Oh please, as if you have any idea what you're talking about.\",\n",
    "    \"We must act now or everything will collapse!\",\n",
    "    \"If we legalize this, next we’ll be legalizing everything!\"\n",
    "]\n",
    "\n",
    "predictions = pipeline(examples)\n",
    "\n",
    "for i, pred in enumerate(predictions):\n",
    "    print(f\"Text {i+1}: {examples[i]}\")\n",
    "    print(f\"Prediction: {pred['label']} (Score: {pred['score']:.2f})\")\n",
    "    print(\"-\" * 50)"
   ]
  }
 ],
 "metadata": {
  "language_info": {
   "name": "python"
  }
 },
 "nbformat": 4,
 "nbformat_minor": 5
}
