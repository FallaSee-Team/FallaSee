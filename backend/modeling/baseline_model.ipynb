{
 "cells": [
  {
   "cell_type": "code",
   "execution_count": 16,
   "metadata": {},
   "outputs": [],
   "source": [
    "from logging import getLogger\n",
    "import pandas as pd\n",
    "from sklearn.model_selection import train_test_split\n",
    "from sklearn.metrics import mean_squared_error, r2_score\n",
    "from sklearn.linear_model import LinearRegression"
   ]
  },
  {
   "cell_type": "code",
   "execution_count": 17,
   "metadata": {},
   "outputs": [],
   "source": [
    "df = pd.read_csv('../data/9_Goffredo_used_in_MAFALDA_cleaned.csv')"
   ]
  },
  {
   "cell_type": "code",
   "execution_count": 18,
   "metadata": {},
   "outputs": [
    {
     "data": {
      "text/html": [
       "<div>\n",
       "<style scoped>\n",
       "    .dataframe tbody tr th:only-of-type {\n",
       "        vertical-align: middle;\n",
       "    }\n",
       "\n",
       "    .dataframe tbody tr th {\n",
       "        vertical-align: top;\n",
       "    }\n",
       "\n",
       "    .dataframe thead th {\n",
       "        text-align: right;\n",
       "    }\n",
       "</style>\n",
       "<table border=\"1\" class=\"dataframe\">\n",
       "  <thead>\n",
       "    <tr style=\"text-align: right;\">\n",
       "      <th></th>\n",
       "      <th>Year</th>\n",
       "      <th>Date</th>\n",
       "      <th>SectionID</th>\n",
       "      <th>text</th>\n",
       "      <th>fallacy</th>\n",
       "      <th>subcategory</th>\n",
       "      <th>Speaker</th>\n",
       "      <th>real_date</th>\n",
       "    </tr>\n",
       "  </thead>\n",
       "  <tbody>\n",
       "    <tr>\n",
       "      <th>0</th>\n",
       "      <td>1992</td>\n",
       "      <td>15Oct</td>\n",
       "      <td>7</td>\n",
       "      <td>And I think you get a certain arrogance, burea...</td>\n",
       "      <td>Ad Hominem</td>\n",
       "      <td>Ad Hominem</td>\n",
       "      <td>BUSH</td>\n",
       "      <td>15 10 1992</td>\n",
       "    </tr>\n",
       "    <tr>\n",
       "      <th>1</th>\n",
       "      <td>1992</td>\n",
       "      <td>13Oct</td>\n",
       "      <td>8</td>\n",
       "      <td>Bill Clinton simply has trouble telling the tr...</td>\n",
       "      <td>Ad Hominem</td>\n",
       "      <td>Ad Hominem</td>\n",
       "      <td>QUAYLE</td>\n",
       "      <td>13 10 1992</td>\n",
       "    </tr>\n",
       "    <tr>\n",
       "      <th>2</th>\n",
       "      <td>2016</td>\n",
       "      <td>26Sep</td>\n",
       "      <td>3</td>\n",
       "      <td>he has a long record of engaging in racist beh...</td>\n",
       "      <td>Ad Hominem</td>\n",
       "      <td>Ad Hominem</td>\n",
       "      <td>CLINTON</td>\n",
       "      <td>26 9 2016</td>\n",
       "    </tr>\n",
       "    <tr>\n",
       "      <th>3</th>\n",
       "      <td>2016</td>\n",
       "      <td>26Sep</td>\n",
       "      <td>5</td>\n",
       "      <td>she's got no business ability</td>\n",
       "      <td>Ad Hominem</td>\n",
       "      <td>Ad Hominem</td>\n",
       "      <td>TRUMP</td>\n",
       "      <td>26 9 2016</td>\n",
       "    </tr>\n",
       "    <tr>\n",
       "      <th>4</th>\n",
       "      <td>2016</td>\n",
       "      <td>26Sep</td>\n",
       "      <td>5</td>\n",
       "      <td>she doesn't have that</td>\n",
       "      <td>Ad Hominem</td>\n",
       "      <td>Ad Hominem</td>\n",
       "      <td>TRUMP</td>\n",
       "      <td>26 9 2016</td>\n",
       "    </tr>\n",
       "  </tbody>\n",
       "</table>\n",
       "</div>"
      ],
      "text/plain": [
       "   Year   Date  SectionID                                               text   \n",
       "0  1992  15Oct          7  And I think you get a certain arrogance, burea...  \\\n",
       "1  1992  13Oct          8  Bill Clinton simply has trouble telling the tr...   \n",
       "2  2016  26Sep          3  he has a long record of engaging in racist beh...   \n",
       "3  2016  26Sep          5                      she's got no business ability   \n",
       "4  2016  26Sep          5                              she doesn't have that   \n",
       "\n",
       "      fallacy subcategory  Speaker   real_date  \n",
       "0  Ad Hominem  Ad Hominem     BUSH  15 10 1992  \n",
       "1  Ad Hominem  Ad Hominem   QUAYLE  13 10 1992  \n",
       "2  Ad Hominem  Ad Hominem  CLINTON   26 9 2016  \n",
       "3  Ad Hominem  Ad Hominem    TRUMP   26 9 2016  \n",
       "4  Ad Hominem  Ad Hominem    TRUMP   26 9 2016  "
      ]
     },
     "execution_count": 18,
     "metadata": {},
     "output_type": "execute_result"
    }
   ],
   "source": [
    "df.head()"
   ]
  },
  {
   "cell_type": "code",
   "execution_count": 19,
   "metadata": {},
   "outputs": [],
   "source": [
    "    # define target and features\n",
    "    Y = df[\"fallacy\"]\n",
    "    X = df[\"text\"]"
   ]
  },
  {
   "cell_type": "code",
   "execution_count": 20,
   "metadata": {},
   "outputs": [
    {
     "data": {
      "text/plain": [
       "array(['Ad Hominem', 'Appeal to Emotion', 'Appeal to Authority',\n",
       "       'Slippery Slope', 'False Cause', 'Slogans'], dtype=object)"
      ]
     },
     "execution_count": 20,
     "metadata": {},
     "output_type": "execute_result"
    }
   ],
   "source": [
    "Y.unique()"
   ]
  },
  {
   "cell_type": "code",
   "execution_count": 21,
   "metadata": {},
   "outputs": [
    {
     "data": {
      "text/plain": [
       "0       Ad Hominem\n",
       "1       Ad Hominem\n",
       "2       Ad Hominem\n",
       "3       Ad Hominem\n",
       "4       Ad Hominem\n",
       "           ...    \n",
       "1670       Slogans\n",
       "1671       Slogans\n",
       "1672       Slogans\n",
       "1673    Ad Hominem\n",
       "1674    Ad Hominem\n",
       "Name: fallacy, Length: 1675, dtype: object"
      ]
     },
     "execution_count": 21,
     "metadata": {},
     "output_type": "execute_result"
    }
   ],
   "source": [
    "Y"
   ]
  },
  {
   "cell_type": "code",
   "execution_count": 22,
   "metadata": {},
   "outputs": [],
   "source": [
    "    # splitting into train and test\n",
    "    X_train, X_test, y_train, y_test = train_test_split(\n",
    "        X, Y, test_size=0.30, random_state=42\n",
    "    )"
   ]
  },
  {
   "cell_type": "code",
   "execution_count": 23,
   "metadata": {},
   "outputs": [
    {
     "data": {
      "text/plain": [
       "pandas.core.series.Series"
      ]
     },
     "execution_count": 23,
     "metadata": {},
     "output_type": "execute_result"
    }
   ],
   "source": [
    "type(y_train)"
   ]
  },
  {
   "cell_type": "code",
   "execution_count": 24,
   "metadata": {},
   "outputs": [],
   "source": [
    "#define baseline model\n",
    "import random \n",
    "\n",
    "# y_train_pred = []\n",
    "# for _ in range(len(y_train)):\n",
    "#     random_choice = random.choice(y_train)\n",
    "#     y_train_pred.append(random_choice)\n",
    "\n",
    "y_train_list = y_train.tolist()\n",
    "y_test_list = y_test.tolist()\n",
    "\n",
    "y_train_pred = random.choices(y_train_list, k=len(y_train))\n",
    "y_test_pred = random.choices(y_train_list, k=len(y_test))"
   ]
  },
  {
   "cell_type": "code",
   "execution_count": 26,
   "metadata": {},
   "outputs": [
    {
     "name": "stdout",
     "output_type": "stream",
     "text": [
      "                     precision    recall  f1-score   support\n",
      "\n",
      "         Ad Hominem       0.18      0.16      0.17       154\n",
      "Appeal to Authority       0.14      0.14      0.14       156\n",
      "  Appeal to Emotion       0.64      0.64      0.64       727\n",
      "        False Cause       0.03      0.04      0.04        54\n",
      "     Slippery Slope       0.02      0.02      0.02        43\n",
      "            Slogans       0.03      0.03      0.03        38\n",
      "\n",
      "           accuracy                           0.44      1172\n",
      "          macro avg       0.17      0.17      0.17      1172\n",
      "       weighted avg       0.44      0.44      0.44      1172\n",
      "\n"
     ]
    }
   ],
   "source": [
    "from sklearn.metrics import classification_report\n",
    "\n",
    "print(classification_report(y_train, y_train_pred))"
   ]
  },
  {
   "cell_type": "code",
   "execution_count": 27,
   "metadata": {},
   "outputs": [
    {
     "name": "stdout",
     "output_type": "stream",
     "text": [
      "                     precision    recall  f1-score   support\n",
      "\n",
      "         Ad Hominem       0.17      0.22      0.19        50\n",
      "Appeal to Authority       0.16      0.17      0.17        75\n",
      "  Appeal to Emotion       0.66      0.62      0.64       325\n",
      "        False Cause       0.10      0.09      0.09        23\n",
      "     Slippery Slope       0.00      0.00      0.00        16\n",
      "            Slogans       0.00      0.00      0.00        14\n",
      "\n",
      "           accuracy                           0.45       503\n",
      "          macro avg       0.18      0.18      0.18       503\n",
      "       weighted avg       0.47      0.45      0.46       503\n",
      "\n"
     ]
    }
   ],
   "source": [
    "print(classification_report(y_test, y_test_pred))"
   ]
  },
  {
   "cell_type": "code",
   "execution_count": 39,
   "metadata": {},
   "outputs": [
    {
     "name": "stdout",
     "output_type": "stream",
     "text": [
      "[[ 11   5  28   1   3   2]\n",
      " [  8  13  44   4   2   4]\n",
      " [ 36  55 200  12   8  14]\n",
      " [  2   3  13   2   0   3]\n",
      " [  4   2  10   0   0   0]\n",
      " [  3   3   7   1   0   0]]\n"
     ]
    },
    {
     "data": {
      "text/plain": [
       "Text(50.722222222222214, 0.5, 'actual')"
      ]
     },
     "execution_count": 39,
     "metadata": {},
     "output_type": "execute_result"
    },
    {
     "data": {
      "image/png": "[encoded data removed]",
      "text/plain": [
       "<Figure size 640x480 with 2 Axes>"
      ]
     },
     "metadata": {},
     "output_type": "display_data"
    }
   ],
   "source": [
    "import seaborn as sns\n",
    "import matplotlib.pyplot as plt\n",
    "from sklearn.metrics import confusion_matrix\n",
    "import numpy as np\n",
    "\n",
    "print(confusion_matrix(y_test, y_test_pred))\n",
    "cm = confusion_matrix(y_test, y_test_pred)\n",
    "\n",
    "sns.heatmap(cm, cmap='YlGnBu', annot=True, fmt='d', linewidths=.5);\n",
    "plt.xlabel(\"predicted\")\n",
    "plt.ylabel(\"actual\")"
   ]
  },
  {
   "cell_type": "code",
   "execution_count": 40,
   "metadata": {},
   "outputs": [
    {
     "name": "stdout",
     "output_type": "stream",
     "text": [
      "[[ 25  20  89   5   9   6]\n",
      " [ 19  22  91  10   8   6]\n",
      " [ 78  95 467  39  21  27]\n",
      " [  5  12  33   2   2   0]\n",
      " [  6   6  28   2   1   0]\n",
      " [  4   6  24   2   1   1]]\n"
     ]
    },
    {
     "data": {
      "text/plain": [
       "Text(50.722222222222214, 0.5, 'actual')"
      ]
     },
     "execution_count": 40,
     "metadata": {},
     "output_type": "execute_result"
    },
    {
     "data": {
      "image/png": "[encoded data removed]",
      "text/plain": [
       "<Figure size 640x480 with 2 Axes>"
      ]
     },
     "metadata": {},
     "output_type": "display_data"
    }
   ],
   "source": [
    "print(confusion_matrix(y_train, y_train_pred))\n",
    "cm = confusion_matrix(y_train, y_train_pred)\n",
    "\n",
    "sns.heatmap(cm, cmap='YlGnBu', annot=True, fmt='d', linewidths=.5);\n",
    "plt.xlabel(\"predicted\")\n",
    "plt.ylabel(\"actual\")"
   ]
  }
 ],
 "metadata": {
  "kernelspec": {
   "display_name": ".venv",
   "language": "python",
   "name": "python3"
  },
  "language_info": {
   "codemirror_mode": {
    "name": "ipython",
    "version": 3
   },
   "file_extension": ".py",
   "mimetype": "text/x-python",
   "name": "python",
   "nbconvert_exporter": "python",
   "pygments_lexer": "ipython3",
   "version": "3.11.3"
  }
 },
 "nbformat": 4,
 "nbformat_minor": 2
}
