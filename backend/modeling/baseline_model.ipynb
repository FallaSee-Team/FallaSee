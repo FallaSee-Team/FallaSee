{
 "cells": [
  {
   "cell_type": "code",
   "execution_count": 77,
   "metadata": {},
   "outputs": [],
   "source": [
    "from logging import getLogger\n",
    "import pandas as pd\n",
    "from sklearn.model_selection import train_test_split\n",
    "from sklearn.metrics import accuracy_score, recall_score, precision_score, f1_score\n",
    "import random "
   ]
  },
  {
   "cell_type": "code",
   "execution_count": 92,
   "metadata": {},
   "outputs": [],
   "source": [
    "df = pd.read_csv(\"../data/data_small.csv\", index_col=0)\n",
    "\n",
    "Y = df[\"logical_fallacies\"]\n",
    "X = df[\"text\"]"
   ]
  },
  {
   "cell_type": "code",
   "execution_count": 84,
   "metadata": {},
   "outputs": [
    {
     "data": {
      "text/html": [
       "<div>\n",
       "<style scoped>\n",
       "    .dataframe tbody tr th:only-of-type {\n",
       "        vertical-align: middle;\n",
       "    }\n",
       "\n",
       "    .dataframe tbody tr th {\n",
       "        vertical-align: top;\n",
       "    }\n",
       "\n",
       "    .dataframe thead th {\n",
       "        text-align: right;\n",
       "    }\n",
       "</style>\n",
       "<table border=\"1\" class=\"dataframe\">\n",
       "  <thead>\n",
       "    <tr style=\"text-align: right;\">\n",
       "      <th></th>\n",
       "      <th>dataset</th>\n",
       "      <th>text</th>\n",
       "      <th>logical_fallacies</th>\n",
       "      <th>source</th>\n",
       "    </tr>\n",
       "  </thead>\n",
       "  <tbody>\n",
       "    <tr>\n",
       "      <th>18384</th>\n",
       "      <td>8</td>\n",
       "      <td>Testing on animals could save the life of you ...</td>\n",
       "      <td>appeal_to_emotion</td>\n",
       "      <td>NaN</td>\n",
       "    </tr>\n",
       "    <tr>\n",
       "      <th>11271</th>\n",
       "      <td>3</td>\n",
       "      <td>I remember when China took over Hong Kong, I r...</td>\n",
       "      <td>none</td>\n",
       "      <td>NaN</td>\n",
       "    </tr>\n",
       "    <tr>\n",
       "      <th>15702</th>\n",
       "      <td>4</td>\n",
       "      <td>: The only \"Light at the End of the Tunnel\", i...</td>\n",
       "      <td>appeal_to_emotion</td>\n",
       "      <td>NaN</td>\n",
       "    </tr>\n",
       "    <tr>\n",
       "      <th>7148</th>\n",
       "      <td>3</td>\n",
       "      <td>So you only believe there are two ways to run ...</td>\n",
       "      <td>none</td>\n",
       "      <td>NaN</td>\n",
       "    </tr>\n",
       "    <tr>\n",
       "      <th>8147</th>\n",
       "      <td>3</td>\n",
       "      <td>Keep things the way they are or change them co...</td>\n",
       "      <td>false_dilemma</td>\n",
       "      <td>NaN</td>\n",
       "    </tr>\n",
       "  </tbody>\n",
       "</table>\n",
       "</div>"
      ],
      "text/plain": [
       "      dataset                                               text   \n",
       "18384       8  Testing on animals could save the life of you ...  \\\n",
       "11271       3  I remember when China took over Hong Kong, I r...   \n",
       "15702       4  : The only \"Light at the End of the Tunnel\", i...   \n",
       "7148        3  So you only believe there are two ways to run ...   \n",
       "8147        3  Keep things the way they are or change them co...   \n",
       "\n",
       "       logical_fallacies source  \n",
       "18384  appeal_to_emotion    NaN  \n",
       "11271               none    NaN  \n",
       "15702  appeal_to_emotion    NaN  \n",
       "7148                none    NaN  \n",
       "8147       false_dilemma    NaN  "
      ]
     },
     "execution_count": 84,
     "metadata": {},
     "output_type": "execute_result"
    }
   ],
   "source": [
    "df.head()"
   ]
  },
  {
   "cell_type": "code",
   "execution_count": 96,
   "metadata": {},
   "outputs": [],
   "source": [
    "X_train, X_test, y_train, y_test = train_test_split(\n",
    "    X, Y, test_size=0.30, random_state=42)"
   ]
  },
  {
   "cell_type": "code",
   "execution_count": 97,
   "metadata": {},
   "outputs": [],
   "source": [
    "def __compute_and_log_metrics(\n",
    "    y_true: pd.Series,\n",
    "    y_pred: pd.Series,\n",
    "    prefix: str = \"train\",\n",
    "    average: str = \"macro\"  # 'macro' is suitable for most multiclass scenarios\n",
    "):\n",
    "    # Calculate classification metrics\n",
    "    accuracy = accuracy_score(y_true, y_pred)\n",
    "    recall = recall_score(y_true, y_pred, average=average)\n",
    "    precision = precision_score(y_true, y_pred, average=average)\n",
    "    f1 = f1_score(y_true, y_pred, average=average)\n",
    "\n",
    "    print(accuracy, recall, precision, f1)\n",
    "    print(f\"Multiclass classification performance on {prefix} set: \"\n",
    "        f\"Accuracy = {accuracy:.1%}, \"\n",
    "        f\"Recall = {recall:.1%}, \"\n",
    "        f\"Precision = {precision:.1%}, \"\n",
    "        f\"F1 = {f1:.1%}\")\n",
    "    \n",
    "    print(type(accuracy))"
   ]
  },
  {
   "cell_type": "code",
   "execution_count": 98,
   "metadata": {},
   "outputs": [],
   "source": [
    "y_train_list = y_train.tolist()\n",
    "y_train_pred = random.choices(y_train_list, k=len(y_train))\n",
    "y_test_pred = random.choices(y_train_list, k=len(y_test))"
   ]
  },
  {
   "cell_type": "code",
   "execution_count": 99,
   "metadata": {},
   "outputs": [
    {
     "name": "stdout",
     "output_type": "stream",
     "text": [
      "0.27914285714285714 0.15918706413132858 0.15931428514054888 0.15919165278180417\n",
      "Multiclass classification performance on train set: Accuracy = 27.9%, Recall = 15.9%, Precision = 15.9%, F1 = 15.9%\n",
      "<class 'numpy.float64'>\n",
      "0.28733333333333333 0.1688301166643961 0.16921652070378515 0.16877603195058\n",
      "Multiclass classification performance on test set: Accuracy = 28.7%, Recall = 16.9%, Precision = 16.9%, F1 = 16.9%\n",
      "<class 'numpy.float64'>\n"
     ]
    }
   ],
   "source": [
    "__compute_and_log_metrics(y_train, y_train_pred, \"train\")\n",
    "__compute_and_log_metrics(y_test, y_test_pred, \"test\")"
   ]
  },
  {
   "cell_type": "code",
   "execution_count": null,
   "metadata": {},
   "outputs": [],
   "source": [
    "#import seaborn as sns\n",
    "#import matplotlib.pyplot as plt\n",
    "#from sklearn.metrics import confusion_matrix\n",
    "#import numpy as np\n",
    "\n",
    "#print(confusion_matrix(y_test, y_test_pred))\n",
    "#cm = confusion_matrix(y_test, y_test_pred)\n",
    "\n",
    "#sns.heatmap(cm, cmap='YlGnBu', annot=True, fmt='d', linewidths=.5);\n",
    "#plt.xlabel(\"predicted\")\n",
    "#plt.ylabel(\"actual\")"
   ]
  },
  {
   "cell_type": "code",
   "execution_count": null,
   "metadata": {},
   "outputs": [],
   "source": [
    "#print(confusion_matrix(y_train, y_train_pred))\n",
    "#cm = confusion_matrix(y_train, y_train_pred)\n",
    "\n",
    "#sns.heatmap(cm, cmap='YlGnBu', annot=True, fmt='d', linewidths=.5);\n",
    "#plt.xlabel(\"predicted\")\n",
    "#plt.ylabel(\"actual\")"
   ]
  }
 ],
 "metadata": {
  "kernelspec": {
   "display_name": ".venv",
   "language": "python",
   "name": "python3"
  },
  "language_info": {
   "codemirror_mode": {
    "name": "ipython",
    "version": 3
   },
   "file_extension": ".py",
   "mimetype": "text/x-python",
   "name": "python",
   "nbconvert_exporter": "python",
   "pygments_lexer": "ipython3",
   "version": "3.11.3"
  }
 },
 "nbformat": 4,
 "nbformat_minor": 2
}
