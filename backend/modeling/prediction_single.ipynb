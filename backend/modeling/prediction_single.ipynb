{
 "cells": [
  {
   "cell_type": "markdown",
   "id": "d94be8ce",
   "metadata": {},
   "source": [
    "## Prediction with a trained model of a single sentence"
   ]
  },
  {
   "cell_type": "markdown",
   "id": "2378ae34",
   "metadata": {},
   "source": [
    "## Preparation"
   ]
  },
  {
   "cell_type": "code",
   "execution_count": 14,
   "id": "aaa3d8ef",
   "metadata": {},
   "outputs": [],
   "source": [
    "import numpy as np\n",
    "import pandas as pd\n",
    "import torch\n",
    "import mlflow.pytorch\n",
    "\n",
    "from basic_functions import (\n",
    "    tokenize,\n",
    ")"
   ]
  },
  {
   "cell_type": "code",
   "execution_count": 15,
   "id": "ffa539bd",
   "metadata": {},
   "outputs": [],
   "source": [
    "def get_tokenized_text(txt):\n",
    "    x_tokenized = tokenize(txt, \"distilbert-base-uncased\")\n",
    "    return x_tokenized\n",
    "\n",
    "def predict(model, encodings, batch_size=8):\n",
    "    # Set the model to evaluation mode\n",
    "    model.eval()\n",
    "    \n",
    "    # Use GPU\n",
    "    device = torch.device(\"mps\")\n",
    "    model.to(device)\n",
    "    \n",
    "    # Perform inference\n",
    "    probabilities = []\n",
    "    for i in range(0, len(encodings[\"input_ids\"]), batch_size):\n",
    "        with torch.no_grad():\n",
    "            batch = {\n",
    "                key: val[i:i+batch_size].to(device) \n",
    "                for key, val in encodings.items()\n",
    "            }\n",
    "            outputs = model(**batch)\n",
    "            probs = torch.softmax(outputs.logits, dim=-1).cpu().numpy()\n",
    "            probabilities.extend(probs)\n",
    "            \n",
    "        # Clear GPU memory after each batch\n",
    "        torch.mps.empty_cache()\n",
    "    \n",
    "    return np.array(probabilities)\n",
    "\n",
    "def get_first_prediction(proba):\n",
    "    pred = np.argmax(proba, axis=1)\n",
    "    pred_int = int(pred[0])\n",
    "    proba = proba[np.arange(len(pred)), pred]\n",
    "    proba_int = float(proba[0])\n",
    "    return pred_int, proba_int\n",
    "\n",
    "def get_second_prediction(proba):\n",
    "    pred = np.argsort(proba, axis=1)[:, -2] \n",
    "    pred_int = int(pred[0])\n",
    "    proba = np.sort(proba, axis=1)[:, -2]\n",
    "    proba_int = float(proba[0])\n",
    "    return pred_int, proba_int"
   ]
  },
  {
   "cell_type": "code",
   "execution_count": 16,
   "id": "55151e04",
   "metadata": {},
   "outputs": [],
   "source": [
    "model = mlflow.pytorch.load_model('../models/distilbert_multiclass_with_none/pytorch_model')\n",
    "    "
   ]
  },
  {
   "cell_type": "markdown",
   "id": "07ae5780",
   "metadata": {},
   "source": [
    "## Testing"
   ]
  },
  {
   "cell_type": "code",
   "execution_count": 34,
   "id": "23493da4",
   "metadata": {},
   "outputs": [
    {
     "name": "stdout",
     "output_type": "stream",
     "text": [
      "All probabilites: [[0.03451002 0.00766116 0.9418941  0.00486484 0.00827857 0.00279129]]\n"
     ]
    },
    {
     "data": {
      "text/html": [
       "<div>\n",
       "<style scoped>\n",
       "    .dataframe tbody tr th:only-of-type {\n",
       "        vertical-align: middle;\n",
       "    }\n",
       "\n",
       "    .dataframe tbody tr th {\n",
       "        vertical-align: top;\n",
       "    }\n",
       "\n",
       "    .dataframe thead th {\n",
       "        text-align: right;\n",
       "    }\n",
       "</style>\n",
       "<table border=\"1\" class=\"dataframe\">\n",
       "  <thead>\n",
       "    <tr style=\"text-align: right;\">\n",
       "      <th></th>\n",
       "      <th>fallacy</th>\n",
       "      <th>probability</th>\n",
       "    </tr>\n",
       "  </thead>\n",
       "  <tbody>\n",
       "    <tr>\n",
       "      <th>2</th>\n",
       "      <td>appeal_to_emotion</td>\n",
       "      <td>0.941894</td>\n",
       "    </tr>\n",
       "    <tr>\n",
       "      <th>0</th>\n",
       "      <td>ad_hominem</td>\n",
       "      <td>0.034510</td>\n",
       "    </tr>\n",
       "    <tr>\n",
       "      <th>4</th>\n",
       "      <td>slippery_slope</td>\n",
       "      <td>0.008279</td>\n",
       "    </tr>\n",
       "    <tr>\n",
       "      <th>1</th>\n",
       "      <td>appeal_to_authority</td>\n",
       "      <td>0.007661</td>\n",
       "    </tr>\n",
       "    <tr>\n",
       "      <th>3</th>\n",
       "      <td>false_dilemma</td>\n",
       "      <td>0.004865</td>\n",
       "    </tr>\n",
       "    <tr>\n",
       "      <th>5</th>\n",
       "      <td>none</td>\n",
       "      <td>0.002791</td>\n",
       "    </tr>\n",
       "  </tbody>\n",
       "</table>\n",
       "</div>"
      ],
      "text/plain": [
       "               fallacy  probability\n",
       "2    appeal_to_emotion     0.941894\n",
       "0           ad_hominem     0.034510\n",
       "4       slippery_slope     0.008279\n",
       "1  appeal_to_authority     0.007661\n",
       "3        false_dilemma     0.004865\n",
       "5                 none     0.002791"
      ]
     },
     "execution_count": 34,
     "metadata": {},
     "output_type": "execute_result"
    }
   ],
   "source": [
    "###Insert your Text here:\n",
    "txt = 'yes'\n",
    "\n",
    "\n",
    "### prediction\n",
    "tokenized_txt = get_tokenized_text(txt)\n",
    "probabilities = predict(model, tokenized_txt)\n",
    "fallacies = ['ad_hominem', 'appeal_to_authority', 'appeal_to_emotion', 'false_dilemma', 'slippery_slope', 'none']\n",
    "df = pd.DataFrame({'fallacy': fallacies, 'probability': probabilities[0]})\n",
    "print('All probabilites:', probabilities)\n",
    "df.sort_values(by='probability', ascending=False)"
   ]
  }
 ],
 "metadata": {
  "kernelspec": {
   "display_name": ".venv",
   "language": "python",
   "name": "python3"
  },
  "language_info": {
   "codemirror_mode": {
    "name": "ipython",
    "version": 3
   },
   "file_extension": ".py",
   "mimetype": "text/x-python",
   "name": "python",
   "nbconvert_exporter": "python",
   "pygments_lexer": "ipython3",
   "version": "3.11.3"
  }
 },
 "nbformat": 4,
 "nbformat_minor": 5
}
