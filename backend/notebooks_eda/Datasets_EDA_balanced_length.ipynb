{
 "cells": [
  {
   "cell_type": "markdown",
   "metadata": {},
   "source": [
    "# Generate smaller Datasets"
   ]
  },
  {
   "cell_type": "code",
   "execution_count": 2,
   "metadata": {},
   "outputs": [],
   "source": [
    "import pandas as pd\n",
    "import seaborn as sns\n",
    "from sklearn.model_selection import train_test_split"
   ]
  },
  {
   "cell_type": "code",
   "execution_count": 3,
   "metadata": {},
   "outputs": [
    {
     "data": {
      "text/html": [
       "<div>\n",
       "<style scoped>\n",
       "    .dataframe tbody tr th:only-of-type {\n",
       "        vertical-align: middle;\n",
       "    }\n",
       "\n",
       "    .dataframe tbody tr th {\n",
       "        vertical-align: top;\n",
       "    }\n",
       "\n",
       "    .dataframe thead th {\n",
       "        text-align: right;\n",
       "    }\n",
       "</style>\n",
       "<table border=\"1\" class=\"dataframe\">\n",
       "  <thead>\n",
       "    <tr style=\"text-align: right;\">\n",
       "      <th></th>\n",
       "      <th>dataset</th>\n",
       "      <th>text</th>\n",
       "      <th>logical_fallacies</th>\n",
       "      <th>source</th>\n",
       "    </tr>\n",
       "  </thead>\n",
       "  <tbody>\n",
       "    <tr>\n",
       "      <th>0</th>\n",
       "      <td>1</td>\n",
       "      <td>The World Coal Association disputed the conclu...</td>\n",
       "      <td>false_dilemma</td>\n",
       "      <td>https://www.nytimes.com/2018/10/07/climate/ipc...</td>\n",
       "    </tr>\n",
       "    <tr>\n",
       "      <th>1</th>\n",
       "      <td>1</td>\n",
       "      <td>Refusing to approve the document would place t...</td>\n",
       "      <td>appeal_to_emotion</td>\n",
       "      <td>https://www.nytimes.com/2018/10/07/climate/ipc...</td>\n",
       "    </tr>\n",
       "    <tr>\n",
       "      <th>2</th>\n",
       "      <td>1</td>\n",
       "      <td>At 3 6 degrees of warming the report predicts ...</td>\n",
       "      <td>faulty_generalization</td>\n",
       "      <td>https://www.nytimes.com/2018/10/07/climate/ipc...</td>\n",
       "    </tr>\n",
       "    <tr>\n",
       "      <th>3</th>\n",
       "      <td>1</td>\n",
       "      <td>Scribbler and Beckwith said the anomalies were...</td>\n",
       "      <td>faulty_generalization</td>\n",
       "      <td>https://www.independent.co.uk/news/science/cli...</td>\n",
       "    </tr>\n",
       "    <tr>\n",
       "      <th>4</th>\n",
       "      <td>1</td>\n",
       "      <td>Meanwhile Mr Beckwith confirmed the changes wo...</td>\n",
       "      <td>appeal_to_emotion</td>\n",
       "      <td>https://www.independent.co.uk/news/science/cli...</td>\n",
       "    </tr>\n",
       "  </tbody>\n",
       "</table>\n",
       "</div>"
      ],
      "text/plain": [
       "   dataset                                               text   \n",
       "0        1  The World Coal Association disputed the conclu...  \\\n",
       "1        1  Refusing to approve the document would place t...   \n",
       "2        1  At 3 6 degrees of warming the report predicts ...   \n",
       "3        1  Scribbler and Beckwith said the anomalies were...   \n",
       "4        1  Meanwhile Mr Beckwith confirmed the changes wo...   \n",
       "\n",
       "       logical_fallacies                                             source  \n",
       "0          false_dilemma  https://www.nytimes.com/2018/10/07/climate/ipc...  \n",
       "1      appeal_to_emotion  https://www.nytimes.com/2018/10/07/climate/ipc...  \n",
       "2  faulty_generalization  https://www.nytimes.com/2018/10/07/climate/ipc...  \n",
       "3  faulty_generalization  https://www.independent.co.uk/news/science/cli...  \n",
       "4      appeal_to_emotion  https://www.independent.co.uk/news/science/cli...  "
      ]
     },
     "execution_count": 3,
     "metadata": {},
     "output_type": "execute_result"
    }
   ],
   "source": [
    "df = pd.read_csv(\"../data/data.csv\")\n",
    "df.head()"
   ]
  },
  {
   "cell_type": "code",
   "execution_count": 4,
   "metadata": {},
   "outputs": [
    {
     "data": {
      "text/html": [
       "<div>\n",
       "<style scoped>\n",
       "    .dataframe tbody tr th:only-of-type {\n",
       "        vertical-align: middle;\n",
       "    }\n",
       "\n",
       "    .dataframe tbody tr th {\n",
       "        vertical-align: top;\n",
       "    }\n",
       "\n",
       "    .dataframe thead th {\n",
       "        text-align: right;\n",
       "    }\n",
       "</style>\n",
       "<table border=\"1\" class=\"dataframe\">\n",
       "  <thead>\n",
       "    <tr style=\"text-align: right;\">\n",
       "      <th></th>\n",
       "      <th>dataset</th>\n",
       "      <th>text</th>\n",
       "      <th>source</th>\n",
       "    </tr>\n",
       "    <tr>\n",
       "      <th>logical_fallacies</th>\n",
       "      <th></th>\n",
       "      <th></th>\n",
       "      <th></th>\n",
       "    </tr>\n",
       "  </thead>\n",
       "  <tbody>\n",
       "    <tr>\n",
       "      <th>ad_hominem</th>\n",
       "      <td>1063</td>\n",
       "      <td>1063</td>\n",
       "      <td>87</td>\n",
       "    </tr>\n",
       "    <tr>\n",
       "      <th>appeal_to_authority</th>\n",
       "      <td>727</td>\n",
       "      <td>727</td>\n",
       "      <td>25</td>\n",
       "    </tr>\n",
       "    <tr>\n",
       "      <th>appeal_to_emotion</th>\n",
       "      <td>1619</td>\n",
       "      <td>1619</td>\n",
       "      <td>121</td>\n",
       "    </tr>\n",
       "    <tr>\n",
       "      <th>false_dilemma</th>\n",
       "      <td>941</td>\n",
       "      <td>941</td>\n",
       "      <td>45</td>\n",
       "    </tr>\n",
       "    <tr>\n",
       "      <th>faulty_generalization</th>\n",
       "      <td>1350</td>\n",
       "      <td>1350</td>\n",
       "      <td>120</td>\n",
       "    </tr>\n",
       "    <tr>\n",
       "      <th>none</th>\n",
       "      <td>5418</td>\n",
       "      <td>5418</td>\n",
       "      <td>89</td>\n",
       "    </tr>\n",
       "  </tbody>\n",
       "</table>\n",
       "</div>"
      ],
      "text/plain": [
       "                       dataset  text  source\n",
       "logical_fallacies                           \n",
       "ad_hominem                1063  1063      87\n",
       "appeal_to_authority        727   727      25\n",
       "appeal_to_emotion         1619  1619     121\n",
       "false_dilemma              941   941      45\n",
       "faulty_generalization     1350  1350     120\n",
       "none                      5418  5418      89"
      ]
     },
     "execution_count": 4,
     "metadata": {},
     "output_type": "execute_result"
    }
   ],
   "source": [
    "df.groupby(\"logical_fallacies\").count()"
   ]
  },
  {
   "cell_type": "markdown",
   "metadata": {},
   "source": [
    "## Generate training set (5000 rows)"
   ]
  },
  {
   "cell_type": "code",
   "execution_count": 5,
   "metadata": {},
   "outputs": [
    {
     "name": "stdout",
     "output_type": "stream",
     "text": [
      "logical_fallacies\n",
      "none                     912\n",
      "faulty_generalization    850\n",
      "appeal_to_emotion        839\n",
      "ad_hominem               838\n",
      "false_dilemma            834\n",
      "appeal_to_authority      727\n",
      "Name: count, dtype: int64\n"
     ]
    }
   ],
   "source": [
    "# Pick fallacies randomly, but as balanced as possible\n",
    "# Configuration parameters\n",
    "TARGET_SIZE = 5000\n",
    "CLASSES = df['logical_fallacies'].unique()\n",
    "\n",
    "# Calculate target per class (integer division)\n",
    "target_per_class = TARGET_SIZE // len(CLASSES)\n",
    "\n",
    "# Stratified sampling with undersampling\n",
    "sampled_dfs = []\n",
    "for class_name in CLASSES:\n",
    "    class_df = df[df['logical_fallacies'] == class_name]\n",
    "    sample_size = min(target_per_class, len(class_df))\n",
    "    sampled_dfs.append(class_df.sample(sample_size, random_state=42))\n",
    "\n",
    "# Handle remaining samples\n",
    "balanced_df = pd.concat(sampled_dfs)\n",
    "remaining = TARGET_SIZE - len(balanced_df)\n",
    "\n",
    "if remaining > 0:\n",
    "    extra_samples = df[~df.index.isin(balanced_df.index)]\n",
    "    balanced_df = pd.concat([\n",
    "        balanced_df,\n",
    "        extra_samples.sample(remaining, random_state=42)\n",
    "    ])\n",
    "\n",
    "# Final shuffle\n",
    "balanced_df = balanced_df.sample(frac=1, random_state=42).reset_index(drop=True)\n",
    "\n",
    "# Verify distribution\n",
    "print(balanced_df['logical_fallacies'].value_counts())"
   ]
  },
  {
   "cell_type": "code",
   "execution_count": 6,
   "metadata": {},
   "outputs": [],
   "source": [
    "balanced_df.to_csv(\"../data/data_training.csv\", index=False)"
   ]
  },
  {
   "cell_type": "markdown",
   "metadata": {},
   "source": [
    "### Balance not only the fallacies, but also the word length"
   ]
  },
  {
   "cell_type": "code",
   "execution_count": 7,
   "metadata": {},
   "outputs": [],
   "source": [
    "df['text_char_length'] = df['text'].map(lambda x : len(x))\n",
    "df['text_word_length'] = df['text'].str.split().str.len()"
   ]
  },
  {
   "cell_type": "code",
   "execution_count": 8,
   "metadata": {},
   "outputs": [
    {
     "data": {
      "text/plain": [
       "logical_fallacies\n",
       "ad_hominem               22.436500\n",
       "appeal_to_authority      53.354883\n",
       "appeal_to_emotion        20.291538\n",
       "false_dilemma            44.621679\n",
       "faulty_generalization    38.643704\n",
       "none                     45.946290\n",
       "Name: text_word_length, dtype: float64"
      ]
     },
     "execution_count": 8,
     "metadata": {},
     "output_type": "execute_result"
    }
   ],
   "source": [
    "df.groupby(\"logical_fallacies\")[\"text_word_length\"].mean()"
   ]
  },
  {
   "cell_type": "code",
   "execution_count": 9,
   "metadata": {},
   "outputs": [
    {
     "data": {
      "text/html": [
       "<div>\n",
       "<style scoped>\n",
       "    .dataframe tbody tr th:only-of-type {\n",
       "        vertical-align: middle;\n",
       "    }\n",
       "\n",
       "    .dataframe tbody tr th {\n",
       "        vertical-align: top;\n",
       "    }\n",
       "\n",
       "    .dataframe thead th {\n",
       "        text-align: right;\n",
       "    }\n",
       "</style>\n",
       "<table border=\"1\" class=\"dataframe\">\n",
       "  <thead>\n",
       "    <tr style=\"text-align: right;\">\n",
       "      <th></th>\n",
       "      <th>dataset</th>\n",
       "      <th>text_char_length</th>\n",
       "      <th>text_word_length</th>\n",
       "    </tr>\n",
       "  </thead>\n",
       "  <tbody>\n",
       "    <tr>\n",
       "      <th>count</th>\n",
       "      <td>11118.000000</td>\n",
       "      <td>11118.000000</td>\n",
       "      <td>11118.000000</td>\n",
       "    </tr>\n",
       "    <tr>\n",
       "      <th>mean</th>\n",
       "      <td>4.304731</td>\n",
       "      <td>215.560443</td>\n",
       "      <td>39.448282</td>\n",
       "    </tr>\n",
       "    <tr>\n",
       "      <th>std</th>\n",
       "      <td>2.392147</td>\n",
       "      <td>167.186961</td>\n",
       "      <td>30.738583</td>\n",
       "    </tr>\n",
       "    <tr>\n",
       "      <th>min</th>\n",
       "      <td>1.000000</td>\n",
       "      <td>2.000000</td>\n",
       "      <td>1.000000</td>\n",
       "    </tr>\n",
       "    <tr>\n",
       "      <th>25%</th>\n",
       "      <td>3.000000</td>\n",
       "      <td>87.000000</td>\n",
       "      <td>16.000000</td>\n",
       "    </tr>\n",
       "    <tr>\n",
       "      <th>50%</th>\n",
       "      <td>3.000000</td>\n",
       "      <td>184.000000</td>\n",
       "      <td>33.000000</td>\n",
       "    </tr>\n",
       "    <tr>\n",
       "      <th>75%</th>\n",
       "      <td>4.000000</td>\n",
       "      <td>289.000000</td>\n",
       "      <td>54.000000</td>\n",
       "    </tr>\n",
       "    <tr>\n",
       "      <th>max</th>\n",
       "      <td>9.000000</td>\n",
       "      <td>1385.000000</td>\n",
       "      <td>257.000000</td>\n",
       "    </tr>\n",
       "  </tbody>\n",
       "</table>\n",
       "</div>"
      ],
      "text/plain": [
       "            dataset  text_char_length  text_word_length\n",
       "count  11118.000000      11118.000000      11118.000000\n",
       "mean       4.304731        215.560443         39.448282\n",
       "std        2.392147        167.186961         30.738583\n",
       "min        1.000000          2.000000          1.000000\n",
       "25%        3.000000         87.000000         16.000000\n",
       "50%        3.000000        184.000000         33.000000\n",
       "75%        4.000000        289.000000         54.000000\n",
       "max        9.000000       1385.000000        257.000000"
      ]
     },
     "execution_count": 9,
     "metadata": {},
     "output_type": "execute_result"
    }
   ],
   "source": [
    "df.describe()"
   ]
  },
  {
   "cell_type": "code",
   "execution_count": 10,
   "metadata": {},
   "outputs": [
    {
     "data": {
      "text/html": [
       "<div>\n",
       "<style scoped>\n",
       "    .dataframe tbody tr th:only-of-type {\n",
       "        vertical-align: middle;\n",
       "    }\n",
       "\n",
       "    .dataframe tbody tr th {\n",
       "        vertical-align: top;\n",
       "    }\n",
       "\n",
       "    .dataframe thead th {\n",
       "        text-align: right;\n",
       "    }\n",
       "</style>\n",
       "<table border=\"1\" class=\"dataframe\">\n",
       "  <thead>\n",
       "    <tr style=\"text-align: right;\">\n",
       "      <th></th>\n",
       "      <th>dataset</th>\n",
       "      <th>text_char_length</th>\n",
       "      <th>text_word_length</th>\n",
       "    </tr>\n",
       "  </thead>\n",
       "  <tbody>\n",
       "    <tr>\n",
       "      <th>count</th>\n",
       "      <td>5453.000000</td>\n",
       "      <td>5453.000000</td>\n",
       "      <td>5453.000000</td>\n",
       "    </tr>\n",
       "    <tr>\n",
       "      <th>mean</th>\n",
       "      <td>4.157528</td>\n",
       "      <td>185.653402</td>\n",
       "      <td>33.690262</td>\n",
       "    </tr>\n",
       "    <tr>\n",
       "      <th>std</th>\n",
       "      <td>2.216364</td>\n",
       "      <td>61.100450</td>\n",
       "      <td>10.807085</td>\n",
       "    </tr>\n",
       "    <tr>\n",
       "      <th>min</th>\n",
       "      <td>1.000000</td>\n",
       "      <td>62.000000</td>\n",
       "      <td>17.000000</td>\n",
       "    </tr>\n",
       "    <tr>\n",
       "      <th>25%</th>\n",
       "      <td>3.000000</td>\n",
       "      <td>132.000000</td>\n",
       "      <td>24.000000</td>\n",
       "    </tr>\n",
       "    <tr>\n",
       "      <th>50%</th>\n",
       "      <td>4.000000</td>\n",
       "      <td>184.000000</td>\n",
       "      <td>33.000000</td>\n",
       "    </tr>\n",
       "    <tr>\n",
       "      <th>75%</th>\n",
       "      <td>4.000000</td>\n",
       "      <td>238.000000</td>\n",
       "      <td>43.000000</td>\n",
       "    </tr>\n",
       "    <tr>\n",
       "      <th>max</th>\n",
       "      <td>9.000000</td>\n",
       "      <td>353.000000</td>\n",
       "      <td>53.000000</td>\n",
       "    </tr>\n",
       "  </tbody>\n",
       "</table>\n",
       "</div>"
      ],
      "text/plain": [
       "           dataset  text_char_length  text_word_length\n",
       "count  5453.000000       5453.000000       5453.000000\n",
       "mean      4.157528        185.653402         33.690262\n",
       "std       2.216364         61.100450         10.807085\n",
       "min       1.000000         62.000000         17.000000\n",
       "25%       3.000000        132.000000         24.000000\n",
       "50%       4.000000        184.000000         33.000000\n",
       "75%       4.000000        238.000000         43.000000\n",
       "max       9.000000        353.000000         53.000000"
      ]
     },
     "execution_count": 10,
     "metadata": {},
     "output_type": "execute_result"
    }
   ],
   "source": [
    "df_test = df.query(\"text_word_length > 16 and text_word_length < 54\")\n",
    "df_test.describe()"
   ]
  },
  {
   "cell_type": "code",
   "execution_count": 11,
   "metadata": {},
   "outputs": [
    {
     "data": {
      "text/plain": [
       "logical_fallacies\n",
       "ad_hominem               30.462428\n",
       "appeal_to_authority      34.618076\n",
       "appeal_to_emotion        30.155007\n",
       "false_dilemma            35.635910\n",
       "faulty_generalization    31.707353\n",
       "none                     35.309241\n",
       "Name: text_word_length, dtype: float64"
      ]
     },
     "execution_count": 11,
     "metadata": {},
     "output_type": "execute_result"
    }
   ],
   "source": [
    "df_test.groupby(\"logical_fallacies\")[\"text_word_length\"].mean()"
   ]
  },
  {
   "cell_type": "code",
   "execution_count": 12,
   "metadata": {},
   "outputs": [
    {
     "data": {
      "text/plain": [
       "logical_fallacies\n",
       "none                     2781\n",
       "appeal_to_emotion         729\n",
       "faulty_generalization     680\n",
       "ad_hominem                519\n",
       "false_dilemma             401\n",
       "appeal_to_authority       343\n",
       "Name: count, dtype: int64"
      ]
     },
     "execution_count": 12,
     "metadata": {},
     "output_type": "execute_result"
    }
   ],
   "source": [
    "df_test[\"logical_fallacies\"].value_counts()"
   ]
  },
  {
   "cell_type": "code",
   "execution_count": 13,
   "metadata": {},
   "outputs": [
    {
     "name": "stdout",
     "output_type": "stream",
     "text": [
      "logical_fallacies\n",
      "appeal_to_emotion        334\n",
      "false_dilemma            334\n",
      "appeal_to_authority      333\n",
      "none                     333\n",
      "faulty_generalization    333\n",
      "ad_hominem               333\n",
      "Name: count, dtype: int64\n"
     ]
    }
   ],
   "source": [
    "# Pick fallacies randomly, but as balanced as possible\n",
    "# Configuration parameters\n",
    "df_balanced_length = df_test.copy()\n",
    "\n",
    "TARGET_SIZE = 2000\n",
    "CLASSES = df_balanced_length['logical_fallacies'].unique()\n",
    "\n",
    "# Calculate target per class (integer division)\n",
    "target_per_class = TARGET_SIZE // len(CLASSES)\n",
    "\n",
    "# Stratified sampling with undersampling\n",
    "sampled_dfs = []\n",
    "for class_name in CLASSES:\n",
    "    class_df = df_balanced_length[df_balanced_length['logical_fallacies'] == class_name]\n",
    "    sample_size = min(target_per_class, len(class_df))\n",
    "    sampled_dfs.append(class_df.sample(sample_size, random_state=42))\n",
    "\n",
    "# Handle remaining samples\n",
    "df_balanced_length= pd.concat(sampled_dfs)\n",
    "remaining = TARGET_SIZE - len(df_balanced_length)\n",
    "\n",
    "if remaining > 0:\n",
    "    extra_samples = df[~df.index.isin(df_balanced_length.index)]\n",
    "    df_balanced_length = pd.concat([\n",
    "        df_balanced_length,\n",
    "        extra_samples.sample(remaining, random_state=42)\n",
    "    ])\n",
    "\n",
    "# Final shuffle\n",
    "df_balanced_length = df_balanced_length.sample(frac=1, random_state=42).reset_index(drop=True)\n",
    "\n",
    "# Verify distribution\n",
    "print(df_balanced_length['logical_fallacies'].value_counts())"
   ]
  },
  {
   "cell_type": "code",
   "execution_count": 14,
   "metadata": {},
   "outputs": [
    {
     "data": {
      "text/plain": [
       "logical_fallacies\n",
       "ad_hominem               30.276276\n",
       "appeal_to_authority      34.777778\n",
       "appeal_to_emotion        30.326347\n",
       "false_dilemma            35.589820\n",
       "faulty_generalization    31.135135\n",
       "none                     36.231231\n",
       "Name: text_word_length, dtype: float64"
      ]
     },
     "execution_count": 14,
     "metadata": {},
     "output_type": "execute_result"
    }
   ],
   "source": [
    "df_balanced_length.groupby(\"logical_fallacies\")[\"text_word_length\"].mean()"
   ]
  },
  {
   "cell_type": "code",
   "execution_count": 15,
   "metadata": {},
   "outputs": [],
   "source": [
    "df_balanced_length.to_csv(\"../data/data_length_balanced.csv\")"
   ]
  },
  {
   "cell_type": "markdown",
   "metadata": {},
   "source": [
    "## Generate small dataset (2000 rows)"
   ]
  },
  {
   "cell_type": "code",
   "execution_count": 54,
   "metadata": {},
   "outputs": [],
   "source": [
    "y = balanced_df[\"logical_fallacies\"]\n",
    "X = balanced_df[[\"text\", \"dataset\", \"source\"]]\n",
    "\n",
    "X_train, X_test, y_train, y_test = train_test_split(\n",
    "    X, y, test_size=0.6, random_state=42, stratify=y)\n",
    "\n",
    "df_balanced_small = pd.concat([X_train, y_train], axis=1)\n",
    "df_balanced_small.head()\n",
    "\n",
    "df_balanced_small.to_csv(\"../data/data_small.csv\")"
   ]
  },
  {
   "cell_type": "markdown",
   "metadata": {},
   "source": [
    "## Generate tiny dataset (100 rows)"
   ]
  },
  {
   "cell_type": "code",
   "execution_count": 53,
   "metadata": {},
   "outputs": [],
   "source": [
    "number_of_rows = 100\n",
    "RSEED = 42\n",
    "\n",
    "df_tiny = balanced_df.sample(number_of_rows, axis=0, random_state=RSEED)\n",
    "df_tiny.to_csv(\"../data/data_tiny.csv\", index=False)"
   ]
  }
 ],
 "metadata": {
  "kernelspec": {
   "display_name": ".venv",
   "language": "python",
   "name": "python3"
  },
  "language_info": {
   "codemirror_mode": {
    "name": "ipython",
    "version": 3
   },
   "file_extension": ".py",
   "mimetype": "text/x-python",
   "name": "python",
   "nbconvert_exporter": "python",
   "pygments_lexer": "ipython3",
   "version": "3.11.3"
  }
 },
 "nbformat": 4,
 "nbformat_minor": 2
}
