{
 "cells": [
  {
   "cell_type": "code",
   "execution_count": 6,
   "id": "bc8e9232-1c49-4040-b0ac-7f77bac427cc",
   "metadata": {
    "tags": []
   },
   "outputs": [
    {
     "data": {
      "text/html": [
       "<div>\n",
       "<style scoped>\n",
       "    .dataframe tbody tr th:only-of-type {\n",
       "        vertical-align: middle;\n",
       "    }\n",
       "\n",
       "    .dataframe tbody tr th {\n",
       "        vertical-align: top;\n",
       "    }\n",
       "\n",
       "    .dataframe thead th {\n",
       "        text-align: right;\n",
       "    }\n",
       "</style>\n",
       "<table border=\"1\" class=\"dataframe\">\n",
       "  <thead>\n",
       "    <tr style=\"text-align: right;\">\n",
       "      <th></th>\n",
       "      <th>text</th>\n",
       "      <th>labels</th>\n",
       "      <th>sentences_with_labels</th>\n",
       "    </tr>\n",
       "  </thead>\n",
       "  <tbody>\n",
       "    <tr>\n",
       "      <th>0</th>\n",
       "      <td>TITLE: Gatineau police officer tests positive,...</td>\n",
       "      <td>[[232, 332, slippery slope]]</td>\n",
       "      <td>{\"TITLE: Gatineau police officer tests positiv...</td>\n",
       "    </tr>\n",
       "    <tr>\n",
       "      <th>1</th>\n",
       "      <td>Bill, you drive a beat-up car from the 1980s. ...</td>\n",
       "      <td>[[0, 126, ad hominem]]</td>\n",
       "      <td>{\"Bill, you drive a beat-up car from the 1980s...</td>\n",
       "    </tr>\n",
       "    <tr>\n",
       "      <th>2</th>\n",
       "      <td>\"Four out of five dentists recommend Happy Glo...</td>\n",
       "      <td>[[0, 91, appeal to (false) authority]]</td>\n",
       "      <td>{\"\\\"Four out of five dentists recommend Happy ...</td>\n",
       "    </tr>\n",
       "    <tr>\n",
       "      <th>3</th>\n",
       "      <td>TITLE: What makes a people think they're smart...</td>\n",
       "      <td>[]</td>\n",
       "      <td>{\"TITLE: What makes a people think they're sma...</td>\n",
       "    </tr>\n",
       "    <tr>\n",
       "      <th>4</th>\n",
       "      <td>TITLE: Sound familiar? POST: ok but can I just...</td>\n",
       "      <td>[]</td>\n",
       "      <td>{\"TITLE: Sound familiar?\": [[\"nothing\"]], \"POS...</td>\n",
       "    </tr>\n",
       "  </tbody>\n",
       "</table>\n",
       "</div>"
      ],
      "text/plain": [
       "                                                text   \n",
       "0  TITLE: Gatineau police officer tests positive,...  \\\n",
       "1  Bill, you drive a beat-up car from the 1980s. ...   \n",
       "2  \"Four out of five dentists recommend Happy Glo...   \n",
       "3  TITLE: What makes a people think they're smart...   \n",
       "4  TITLE: Sound familiar? POST: ok but can I just...   \n",
       "\n",
       "                                   labels   \n",
       "0            [[232, 332, slippery slope]]  \\\n",
       "1                  [[0, 126, ad hominem]]   \n",
       "2  [[0, 91, appeal to (false) authority]]   \n",
       "3                                      []   \n",
       "4                                      []   \n",
       "\n",
       "                               sentences_with_labels  \n",
       "0  {\"TITLE: Gatineau police officer tests positiv...  \n",
       "1  {\"Bill, you drive a beat-up car from the 1980s...  \n",
       "2  {\"\\\"Four out of five dentists recommend Happy ...  \n",
       "3  {\"TITLE: What makes a people think they're sma...  \n",
       "4  {\"TITLE: Sound familiar?\": [[\"nothing\"]], \"POS...  "
      ]
     },
     "execution_count": 6,
     "metadata": {},
     "output_type": "execute_result"
    }
   ],
   "source": [
    "import pandas as pd\n",
    "import json\n",
    "\n",
    "# Load JSONL file (one JSON object per line)\n",
    "with open(\"../data/MAFALDA_user_study_examples_with_labels.jsonl\", \"r\") as f:\n",
    "    data = [json.loads(line) for line in f]\n",
    "\n",
    "df = pd.DataFrame(data)\n",
    "df.head()\n"
   ]
  },
  {
   "cell_type": "code",
   "execution_count": 16,
   "id": "38c4322c-4e80-4141-b672-9c90cc182427",
   "metadata": {
    "tags": []
   },
   "outputs": [
    {
     "data": {
      "text/plain": [
       "(20, 4)"
      ]
     },
     "execution_count": 16,
     "metadata": {},
     "output_type": "execute_result"
    }
   ],
   "source": [
    "df.shape"
   ]
  },
  {
   "cell_type": "code",
   "execution_count": 7,
   "id": "35bcda31-282c-4c5e-961a-b1494f2778dd",
   "metadata": {
    "tags": []
   },
   "outputs": [
    {
     "data": {
      "text/plain": [
       "0                 [slippery slope]\n",
       "1                     [ad hominem]\n",
       "2    [appeal to (false) authority]\n",
       "3                               []\n",
       "4                               []\n",
       "Name: fallacy_list, dtype: object"
      ]
     },
     "execution_count": 7,
     "metadata": {},
     "output_type": "execute_result"
    }
   ],
   "source": [
    "def extract_label_names(label_list):\n",
    "    return [label[-1] for label in label_list if isinstance(label, list) and len(label) > 0]\n",
    "\n",
    "df[\"fallacy_list\"] = df[\"labels\"].apply(extract_label_names)\n",
    "df[\"fallacy_list\"].head()\n"
   ]
  },
  {
   "cell_type": "code",
   "execution_count": 8,
   "id": "eebcf39d-8a1a-4d26-8f18-0e93274e428e",
   "metadata": {
    "tags": []
   },
   "outputs": [
    {
     "data": {
      "text/plain": [
       "fallacy_list\n",
       "Appeal to Ridicule             5\n",
       "ad hominem                     4\n",
       "hasty generalization           3\n",
       "straw man                      3\n",
       "false dilemma                  2\n",
       "false causality                2\n",
       "appeal to tradition            2\n",
       "causal oversimplification      2\n",
       "slippery slope                 1\n",
       "appeal to (false) authority    1\n",
       "guilt by association           1\n",
       "ad populum                     1\n",
       "appeal to worse problems       1\n",
       "circular reasoning             1\n",
       "nothing                        1\n",
       "equivocation                   1\n",
       "Name: count, dtype: int64"
      ]
     },
     "execution_count": 8,
     "metadata": {},
     "output_type": "execute_result"
    }
   ],
   "source": [
    "fallacy_exploded = df.explode(\"fallacy_list\")\n",
    "fallacy_counts = fallacy_exploded[\"fallacy_list\"].value_counts()\n",
    "fallacy_counts\n"
   ]
  },
  {
   "cell_type": "code",
   "execution_count": 10,
   "id": "76b6d41f-1c9d-4522-955e-fb4a31667298",
   "metadata": {
    "tags": []
   },
   "outputs": [
    {
     "data": {
      "image/png": "[encoded data removed]",
      "text/plain": [
       "<Figure size 1000x700 with 1 Axes>"
      ]
     },
     "metadata": {},
     "output_type": "display_data"
    }
   ],
   "source": [
    "import matplotlib.pyplot as plt\n",
    "import seaborn as sns\n",
    "\n",
    "plt.figure(figsize=(10, 7))\n",
    "sns.barplot(x=fallacy_counts.values, y=fallacy_counts.index, palette=\"cubehelix\")\n",
    "\n",
    "plt.title(\"Fallacy Frequency Distribution (JSON Dataset)\")\n",
    "plt.xlabel(\"Count\")\n",
    "plt.ylabel(\"Fallacy Type\")\n",
    "plt.tight_layout()\n",
    "plt.show()\n"
   ]
  },
  {
   "cell_type": "code",
   "execution_count": 24,
   "id": "16cc9733-3605-4ee1-922b-54765606481c",
   "metadata": {
    "tags": []
   },
   "outputs": [
    {
     "data": {
      "text/html": [
       "<div>\n",
       "<style scoped>\n",
       "    .dataframe tbody tr th:only-of-type {\n",
       "        vertical-align: middle;\n",
       "    }\n",
       "\n",
       "    .dataframe tbody tr th {\n",
       "        vertical-align: top;\n",
       "    }\n",
       "\n",
       "    .dataframe thead th {\n",
       "        text-align: right;\n",
       "    }\n",
       "</style>\n",
       "<table border=\"1\" class=\"dataframe\">\n",
       "  <thead>\n",
       "    <tr style=\"text-align: right;\">\n",
       "      <th></th>\n",
       "      <th>text</th>\n",
       "      <th>labels</th>\n",
       "    </tr>\n",
       "  </thead>\n",
       "  <tbody>\n",
       "    <tr>\n",
       "      <th>0</th>\n",
       "      <td>Now, you didn't hear any plan from the preside...</td>\n",
       "      <td>[]</td>\n",
       "    </tr>\n",
       "    <tr>\n",
       "      <th>1</th>\n",
       "      <td>You've got about a million right here in Arizo...</td>\n",
       "      <td>[]</td>\n",
       "    </tr>\n",
       "    <tr>\n",
       "      <th>2</th>\n",
       "      <td>You're cutting back on maintenance and equipme...</td>\n",
       "      <td>[]</td>\n",
       "    </tr>\n",
       "    <tr>\n",
       "      <th>3</th>\n",
       "      <td>CARTER: As long as there is a Democratic Presi...</td>\n",
       "      <td>[]</td>\n",
       "    </tr>\n",
       "    <tr>\n",
       "      <th>4</th>\n",
       "      <td>And they want an American foreign policy that ...</td>\n",
       "      <td>[]</td>\n",
       "    </tr>\n",
       "  </tbody>\n",
       "</table>\n",
       "</div>"
      ],
      "text/plain": [
       "                                                text labels\n",
       "0  Now, you didn't hear any plan from the preside...     []\n",
       "1  You've got about a million right here in Arizo...     []\n",
       "2  You're cutting back on maintenance and equipme...     []\n",
       "3  CARTER: As long as there is a Democratic Presi...     []\n",
       "4  And they want an American foreign policy that ...     []"
      ]
     },
     "execution_count": 24,
     "metadata": {},
     "output_type": "execute_result"
    }
   ],
   "source": [
    "with open(\"../data/MAFALDA_non_annotated_dataset.jsonl\", \"r\") as f:\n",
    "    data = [json.loads(line) for line in f]\n",
    "\n",
    "df2 = pd.DataFrame(data)\n",
    "df2.head()"
   ]
  },
  {
   "cell_type": "code",
   "execution_count": 25,
   "id": "d9223e9a-3691-4255-9c73-71ddadfb5441",
   "metadata": {
    "tags": []
   },
   "outputs": [
    {
     "data": {
      "text/plain": [
       "(9545, 2)"
      ]
     },
     "execution_count": 25,
     "metadata": {},
     "output_type": "execute_result"
    }
   ],
   "source": [
    "df2.shape"
   ]
  },
  {
   "cell_type": "code",
   "execution_count": 22,
   "id": "ed209315-61f3-4f53-9ced-be5326468584",
   "metadata": {
    "tags": []
   },
   "outputs": [
    {
     "data": {
      "text/plain": [
       "array(['TITLE: TIL that 82 percent of avocado oil sold in the United States is either rancid or mixed with other oils. While it is a great source of vitamins and minerals when fresh and pure, the vast majority of avocado oil in the United States is of extremely poor quality.\\nPOST: LPT : Wanna the good benefits from an avocado? Buy an avocado.',\n",
       "       \"TITLE: The closing of supposed healing sites like Lourdes proves that there is no validity to the healing claims\\nPOST: I know very, very few Christians (or religious folk in general) who believe in faith healing, or sacred healing sites or junk like that. > the fact that even Christians don't believe Lourdes can heal anything shows that religion is useless when it comes to practicality That's such a weird statement. So you're trying to apply the fact that most Christians don't believe in (what you admit is) a false premise as a way to checkmate their faith??? How does that make any sense??\"],\n",
       "      dtype=object)"
      ]
     },
     "execution_count": 22,
     "metadata": {},
     "output_type": "execute_result"
    }
   ],
   "source": [
    "df2.sample(2)[\"text\"].values"
   ]
  },
  {
   "cell_type": "code",
   "execution_count": 18,
   "id": "c961b422-0a6d-4072-9150-cf5cac455eb6",
   "metadata": {
    "tags": []
   },
   "outputs": [
    {
     "data": {
      "text/html": [
       "<div>\n",
       "<style scoped>\n",
       "    .dataframe tbody tr th:only-of-type {\n",
       "        vertical-align: middle;\n",
       "    }\n",
       "\n",
       "    .dataframe tbody tr th {\n",
       "        vertical-align: top;\n",
       "    }\n",
       "\n",
       "    .dataframe thead th {\n",
       "        text-align: right;\n",
       "    }\n",
       "</style>\n",
       "<table border=\"1\" class=\"dataframe\">\n",
       "  <thead>\n",
       "    <tr style=\"text-align: right;\">\n",
       "      <th></th>\n",
       "      <th>text</th>\n",
       "      <th>labels</th>\n",
       "      <th>comments</th>\n",
       "      <th>sentences_with_labels</th>\n",
       "    </tr>\n",
       "  </thead>\n",
       "  <tbody>\n",
       "    <tr>\n",
       "      <th>0</th>\n",
       "      <td>TITLE: Endless Ledge Skip Campaign for Alts PO...</td>\n",
       "      <td>[[155, 588, slippery slope]]</td>\n",
       "      <td>[Slippery slope: P1 = poster, A = why not just...</td>\n",
       "      <td>{\"TITLE: Endless Ledge Skip Campaign for Alts ...</td>\n",
       "    </tr>\n",
       "    <tr>\n",
       "      <th>1</th>\n",
       "      <td>Two of my best friends are really introverted,...</td>\n",
       "      <td>[[84, 145, hasty generalization]]</td>\n",
       "      <td>[Based on two people only, you can't draw gene...</td>\n",
       "      <td>{\"Two of my best friends are really introverte...</td>\n",
       "    </tr>\n",
       "    <tr>\n",
       "      <th>2</th>\n",
       "      <td>TITLE: There is a difference between a'smurf' ...</td>\n",
       "      <td>[[118, 265, false analogy]]</td>\n",
       "      <td>[False Analogy: X: Having an alt , Y: smurfing...</td>\n",
       "      <td>{\"TITLE: There is a difference between a'smurf...</td>\n",
       "    </tr>\n",
       "    <tr>\n",
       "      <th>3</th>\n",
       "      <td>TITLE: Discussion Thread (Part 3): 2020 Presid...</td>\n",
       "      <td>[[107, 261, guilt by association], [107, 338, ...</td>\n",
       "      <td>[Circular reasoning: X = The status quo in Ame...</td>\n",
       "      <td>{\"TITLE: Discussion Thread (Part 3): 2020 Pres...</td>\n",
       "    </tr>\n",
       "    <tr>\n",
       "      <th>4</th>\n",
       "      <td>America is the best place to live, because it'...</td>\n",
       "      <td>[[0, 78, circular reasoning]]</td>\n",
       "      <td>[Circular reasoning: X=America is the best pla...</td>\n",
       "      <td>{\"America is the best place to live, because i...</td>\n",
       "    </tr>\n",
       "  </tbody>\n",
       "</table>\n",
       "</div>"
      ],
      "text/plain": [
       "                                                text   \n",
       "0  TITLE: Endless Ledge Skip Campaign for Alts PO...  \\\n",
       "1  Two of my best friends are really introverted,...   \n",
       "2  TITLE: There is a difference between a'smurf' ...   \n",
       "3  TITLE: Discussion Thread (Part 3): 2020 Presid...   \n",
       "4  America is the best place to live, because it'...   \n",
       "\n",
       "                                              labels   \n",
       "0                       [[155, 588, slippery slope]]  \\\n",
       "1                  [[84, 145, hasty generalization]]   \n",
       "2                        [[118, 265, false analogy]]   \n",
       "3  [[107, 261, guilt by association], [107, 338, ...   \n",
       "4                      [[0, 78, circular reasoning]]   \n",
       "\n",
       "                                            comments   \n",
       "0  [Slippery slope: P1 = poster, A = why not just...  \\\n",
       "1  [Based on two people only, you can't draw gene...   \n",
       "2  [False Analogy: X: Having an alt , Y: smurfing...   \n",
       "3  [Circular reasoning: X = The status quo in Ame...   \n",
       "4  [Circular reasoning: X=America is the best pla...   \n",
       "\n",
       "                               sentences_with_labels  \n",
       "0  {\"TITLE: Endless Ledge Skip Campaign for Alts ...  \n",
       "1  {\"Two of my best friends are really introverte...  \n",
       "2  {\"TITLE: There is a difference between a'smurf...  \n",
       "3  {\"TITLE: Discussion Thread (Part 3): 2020 Pres...  \n",
       "4  {\"America is the best place to live, because i...  "
      ]
     },
     "execution_count": 18,
     "metadata": {},
     "output_type": "execute_result"
    }
   ],
   "source": [
    "\n",
    "\n",
    "with open(\"../data/MAFALDA_gold_standard_dataset.jsonl\", \"r\") as f:\n",
    "    data = [json.loads(line) for line in f]\n",
    "\n",
    "df3 = pd.DataFrame(data)\n",
    "df3.head()\n"
   ]
  },
  {
   "cell_type": "markdown",
   "id": "7d5db43e-f304-4d92-a283-69b82747bbc9",
   "metadata": {},
   "source": [
    "We’ve got:\n",
    "\n",
    "text: The source content\n",
    "\n",
    "labels: List of span positions + fallacy names\n",
    "\n",
    "comments: Annotator reasoning **particularly important**\n",
    "\n",
    "sentences_with_labels: JSON-style sentence annotations\n",
    "\n"
   ]
  },
  {
   "cell_type": "code",
   "execution_count": 20,
   "id": "5a721aae-6e49-48e6-84df-b358bc52ba24",
   "metadata": {
    "tags": []
   },
   "outputs": [
    {
     "data": {
      "text/plain": [
       "(200, 4)"
      ]
     },
     "execution_count": 20,
     "metadata": {},
     "output_type": "execute_result"
    }
   ],
   "source": [
    "df3.shape"
   ]
  },
  {
   "cell_type": "code",
   "execution_count": 23,
   "id": "cde91ea8-541a-450e-983f-61c10ba884fb",
   "metadata": {
    "tags": []
   },
   "outputs": [
    {
     "data": {
      "text/plain": [
       "0                                     [slippery slope]\n",
       "1                               [hasty generalization]\n",
       "2                                      [false analogy]\n",
       "3    [guilt by association, causal oversimplificati...\n",
       "4                                 [circular reasoning]\n",
       "Name: fallacy_list, dtype: object"
      ]
     },
     "execution_count": 23,
     "metadata": {},
     "output_type": "execute_result"
    }
   ],
   "source": [
    "def extract_label_names(label_list):\n",
    "    return [label[-1] for label in label_list if isinstance(label, list) and len(label) > 0]\n",
    "\n",
    "df3[\"fallacy_list\"] = df3[\"labels\"].apply(extract_label_names)\n",
    "df3[\"fallacy_list\"].head()\n"
   ]
  },
  {
   "cell_type": "markdown",
   "id": "33003dca-f1a5-4b4c-b359-fed685e5248c",
   "metadata": {},
   "source": [
    "\n",
    "\n",
    "## **Why This Dataset Rocks according to ChatGPT:**\n",
    "\n",
    "🔥 1. High-quality labeled examples\n",
    "These 200 entries can be:\n",
    "\n",
    "A validation set for your models\n",
    "\n",
    "A training seed for few-shot / rule-based / LLM evaluation\n",
    "\n",
    "A benchmark for comparing annotator vs. model reasoning\n",
    "\n",
    "🧠 2. Annotator comments = explainability gold\n",
    "You could:\n",
    "\n",
    "Use them to train an explanation generator\n",
    "\n",
    "Display them alongside predictions for user trust\n",
    "\n",
    "Study which fallacies have most/least agreement or reasoning depth\n",
    "\n",
    "🧪 3. Super detailed sentence-level labeling\n",
    "You can:\n",
    "\n",
    "Train a sentence-level classifier (vs full-text)\n",
    "\n",
    "Highlight fallacy spans in your UI\n",
    "\n",
    "Combine this with labels for token-level analysis if you want to go granular\n",
    "\n"
   ]
  },
  {
   "cell_type": "code",
   "execution_count": null,
   "id": "6bb25a9e-847a-4f1c-bc13-79659ef713ab",
   "metadata": {},
   "outputs": [],
   "source": []
  }
 ],
 "metadata": {
  "kernelspec": {
   "display_name": "Python 3 (ipykernel)",
   "language": "python",
   "name": "python3"
  },
  "language_info": {
   "codemirror_mode": {
    "name": "ipython",
    "version": 3
   },
   "file_extension": ".py",
   "mimetype": "text/x-python",
   "name": "python",
   "nbconvert_exporter": "python",
   "pygments_lexer": "ipython3",
   "version": "3.11.3"
  }
 },
 "nbformat": 4,
 "nbformat_minor": 5
}
