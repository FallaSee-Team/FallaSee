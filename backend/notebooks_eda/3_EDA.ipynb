{
 "cells": [
  {
   "cell_type": "markdown",
   "metadata": {},
   "source": [
    "### EDA of the Database CoCoLoFa"
   ]
  },
  {
   "cell_type": "markdown",
   "metadata": {},
   "source": [
    "CoCoLoFa was created using the techniques proposed in the following paper. Please cite this work if you use CoCoLoFa.\n",
    "\n",
    "@misc{yeh2024cocolofadatasetnewscomments,\n",
    "      title={CoCoLoFa: A Dataset of News Comments with Common Logical Fallacies Written by LLM-Assisted Crowds}, \n",
    "      author={Min-Hsuan Yeh and Ruyuan Wan and Ting-Hao 'Kenneth' Huang},\n",
    "      year={2024},\n",
    "      eprint={2410.03457},\n",
    "      archivePrefix={arXiv},\n",
    "      primaryClass={cs.CL},\n",
    "      url={https://arxiv.org/abs/2410.03457}, \n",
    "}"
   ]
  },
  {
   "cell_type": "code",
   "execution_count": 1,
   "metadata": {},
   "outputs": [],
   "source": [
    "import json\n",
    "import pandas as pd\n",
    "import os"
   ]
  },
  {
   "cell_type": "code",
   "execution_count": 2,
   "metadata": {},
   "outputs": [],
   "source": [
    "# Load 3_CoCoLoFa_train_EDA.json into Python\n",
    "file_path = '../data/3_CoCoLoFa_train_EDA.json' \n",
    "with open(file_path, 'r') as file:\n",
    "    train_data = json.load(file)\n",
    "\n",
    "# Load test data\n",
    "with open('../data/3_CoCoLoFa_test_EDA.json', 'r') as file:\n",
    "    test_data = json.load(file)\n",
    "\n",
    "# Load dev data\n",
    "with open('../data/3_CoCoLoFa_dev_EDA.json', 'r') as file:\n",
    "    dev_data = json.load(file)"
   ]
  },
  {
   "cell_type": "code",
   "execution_count": 3,
   "metadata": {},
   "outputs": [],
   "source": [
    "data = train_data + test_data + dev_data"
   ]
  },
  {
   "cell_type": "code",
   "execution_count": 4,
   "metadata": {},
   "outputs": [],
   "source": [
    "# Initialize a list to store comment data\n",
    "comments_data = []\n",
    "\n",
    "# Iterate through each article in the JSON data\n",
    "for article in data:\n",
    "    # Extract comments from each article\n",
    "    for comment in article['comments']:\n",
    "        comment_info = {\n",
    "            'id': comment['id'],\n",
    "            'news_id': comment['news_id'],\n",
    "            'worker_id': comment['worker_id'],\n",
    "            'respond_to': comment['respond_to'],\n",
    "            'fallacy': comment['fallacy'],\n",
    "            'comment': comment['comment']\n",
    "        }\n",
    "        comments_data.append(comment_info)\n"
   ]
  },
  {
   "cell_type": "code",
   "execution_count": 5,
   "metadata": {},
   "outputs": [],
   "source": [
    "# Create a DataFrame from the extracted comment data\n",
    "df_comments = pd.DataFrame(comments_data)"
   ]
  },
  {
   "cell_type": "markdown",
   "metadata": {},
   "source": [
    "### Check if comments have different fallacies"
   ]
  },
  {
   "cell_type": "code",
   "execution_count": 6,
   "metadata": {},
   "outputs": [],
   "source": [
    "# Group by the 'comment' column and aggregate unique fallacy labels\n",
    "fallacy_analysis = (\n",
    "    df_comments.groupby('comment')['fallacy']\n",
    "    .apply(lambda x: list(x.unique()))  # Get unique fallacy labels per comment\n",
    "    .reset_index()\n",
    ")"
   ]
  },
  {
   "cell_type": "code",
   "execution_count": 7,
   "metadata": {},
   "outputs": [],
   "source": [
    "# Add a column to count how many unique fallacy labels exist per comment\n",
    "fallacy_analysis['num_fallacies'] = fallacy_analysis['fallacy'].apply(len)"
   ]
  },
  {
   "cell_type": "code",
   "execution_count": 8,
   "metadata": {},
   "outputs": [],
   "source": [
    "# Filter for comments that have more than one unique fallacy label\n",
    "comments_with_multiple_fallacies = fallacy_analysis[fallacy_analysis['num_fallacies'] > 1]"
   ]
  },
  {
   "cell_type": "code",
   "execution_count": 9,
   "metadata": {},
   "outputs": [
    {
     "name": "stdout",
     "output_type": "stream",
     "text": [
      "Comments with multiple fallacy labels:\n",
      "Empty DataFrame\n",
      "Columns: [comment, fallacy, num_fallacies]\n",
      "Index: []\n"
     ]
    }
   ],
   "source": [
    "# Display the results\n",
    "print(\"Comments with multiple fallacy labels:\")\n",
    "print(comments_with_multiple_fallacies)"
   ]
  },
  {
   "cell_type": "markdown",
   "metadata": {},
   "source": [
    "### Look for duplicates and drop"
   ]
  },
  {
   "cell_type": "code",
   "execution_count": 10,
   "metadata": {},
   "outputs": [
    {
     "name": "stdout",
     "output_type": "stream",
     "text": [
      "Number of exact duplicates: 5370\n"
     ]
    }
   ],
   "source": [
    "exact_duplicates = df_comments[df_comments.duplicated()]\n",
    "print(f\"Number of exact duplicates: {len(exact_duplicates)}\")"
   ]
  },
  {
   "cell_type": "code",
   "execution_count": 11,
   "metadata": {},
   "outputs": [
    {
     "data": {
      "text/plain": [
       "5373"
      ]
     },
     "execution_count": 11,
     "metadata": {},
     "output_type": "execute_result"
    }
   ],
   "source": [
    "df_comments.comment.duplicated().sum()"
   ]
  },
  {
   "cell_type": "code",
   "execution_count": 12,
   "metadata": {},
   "outputs": [],
   "source": [
    "# Drop duplicate rows based on the 'id' column\n",
    "df_comments = df_comments.drop_duplicates()\n"
   ]
  },
  {
   "cell_type": "code",
   "execution_count": 13,
   "metadata": {},
   "outputs": [],
   "source": [
    "df_comments.reset_index(inplace=True)"
   ]
  },
  {
   "cell_type": "markdown",
   "metadata": {},
   "source": [
    "### Save CSV"
   ]
  },
  {
   "cell_type": "code",
   "execution_count": 14,
   "metadata": {},
   "outputs": [],
   "source": [
    "df_comments.to_csv('../data/3_CoCoLoFa_merged.csv', index=False)"
   ]
  },
  {
   "cell_type": "markdown",
   "metadata": {},
   "source": [
    "### Some EDA"
   ]
  },
  {
   "cell_type": "code",
   "execution_count": 15,
   "metadata": {},
   "outputs": [
    {
     "data": {
      "text/html": [
       "<div>\n",
       "<style scoped>\n",
       "    .dataframe tbody tr th:only-of-type {\n",
       "        vertical-align: middle;\n",
       "    }\n",
       "\n",
       "    .dataframe tbody tr th {\n",
       "        vertical-align: top;\n",
       "    }\n",
       "\n",
       "    .dataframe thead th {\n",
       "        text-align: right;\n",
       "    }\n",
       "</style>\n",
       "<table border=\"1\" class=\"dataframe\">\n",
       "  <thead>\n",
       "    <tr style=\"text-align: right;\">\n",
       "      <th></th>\n",
       "      <th>index</th>\n",
       "      <th>id</th>\n",
       "      <th>news_id</th>\n",
       "      <th>worker_id</th>\n",
       "      <th>respond_to</th>\n",
       "      <th>fallacy</th>\n",
       "      <th>comment</th>\n",
       "    </tr>\n",
       "  </thead>\n",
       "  <tbody>\n",
       "    <tr>\n",
       "      <th>0</th>\n",
       "      <td>0</td>\n",
       "      <td>5584</td>\n",
       "      <td>262</td>\n",
       "      <td>1</td>\n",
       "      <td></td>\n",
       "      <td>none</td>\n",
       "      <td>Lack of transparency in government isn't unexp...</td>\n",
       "    </tr>\n",
       "    <tr>\n",
       "      <th>1</th>\n",
       "      <td>1</td>\n",
       "      <td>5582</td>\n",
       "      <td>262</td>\n",
       "      <td>2</td>\n",
       "      <td></td>\n",
       "      <td>appeal to authority</td>\n",
       "      <td>While the issues discussed here should be addr...</td>\n",
       "    </tr>\n",
       "    <tr>\n",
       "      <th>2</th>\n",
       "      <td>2</td>\n",
       "      <td>5583</td>\n",
       "      <td>262</td>\n",
       "      <td>3</td>\n",
       "      <td></td>\n",
       "      <td>none</td>\n",
       "      <td>The excuse that Brazilian municipalities do no...</td>\n",
       "    </tr>\n",
       "    <tr>\n",
       "      <th>3</th>\n",
       "      <td>3</td>\n",
       "      <td>6183</td>\n",
       "      <td>262</td>\n",
       "      <td>4</td>\n",
       "      <td></td>\n",
       "      <td>none</td>\n",
       "      <td>This is what's to be expected of developing an...</td>\n",
       "    </tr>\n",
       "    <tr>\n",
       "      <th>4</th>\n",
       "      <td>4</td>\n",
       "      <td>6182</td>\n",
       "      <td>262</td>\n",
       "      <td>2</td>\n",
       "      <td>5584</td>\n",
       "      <td>appeal to tradition</td>\n",
       "      <td>Sad to say, I have to agree with you. Rulers c...</td>\n",
       "    </tr>\n",
       "  </tbody>\n",
       "</table>\n",
       "</div>"
      ],
      "text/plain": [
       "   index    id  news_id  worker_id respond_to              fallacy   \n",
       "0      0  5584      262          1                            none  \\\n",
       "1      1  5582      262          2             appeal to authority   \n",
       "2      2  5583      262          3                            none   \n",
       "3      3  6183      262          4                            none   \n",
       "4      4  6182      262          2       5584  appeal to tradition   \n",
       "\n",
       "                                             comment  \n",
       "0  Lack of transparency in government isn't unexp...  \n",
       "1  While the issues discussed here should be addr...  \n",
       "2  The excuse that Brazilian municipalities do no...  \n",
       "3  This is what's to be expected of developing an...  \n",
       "4  Sad to say, I have to agree with you. Rulers c...  "
      ]
     },
     "execution_count": 15,
     "metadata": {},
     "output_type": "execute_result"
    }
   ],
   "source": [
    "df_comments.head()"
   ]
  },
  {
   "cell_type": "code",
   "execution_count": 16,
   "metadata": {},
   "outputs": [
    {
     "name": "stdout",
     "output_type": "stream",
     "text": [
      "<class 'pandas.core.frame.DataFrame'>\n",
      "RangeIndex: 6908 entries, 0 to 6907\n",
      "Data columns (total 7 columns):\n",
      " #   Column      Non-Null Count  Dtype \n",
      "---  ------      --------------  ----- \n",
      " 0   index       6908 non-null   int64 \n",
      " 1   id          6908 non-null   object\n",
      " 2   news_id     6908 non-null   int64 \n",
      " 3   worker_id   6908 non-null   int64 \n",
      " 4   respond_to  6908 non-null   object\n",
      " 5   fallacy     6908 non-null   object\n",
      " 6   comment     6908 non-null   object\n",
      "dtypes: int64(3), object(4)\n",
      "memory usage: 377.9+ KB\n"
     ]
    }
   ],
   "source": [
    "df_comments.info()"
   ]
  },
  {
   "cell_type": "code",
   "execution_count": 17,
   "metadata": {},
   "outputs": [
    {
     "data": {
      "text/plain": [
       "array(['none', 'appeal to authority', 'appeal to tradition',\n",
       "       'appeal to worse problems', 'hasty generalization',\n",
       "       'slippery slope', 'false dilemma', 'appeal to majority',\n",
       "       'appeal to nature'], dtype=object)"
      ]
     },
     "execution_count": 17,
     "metadata": {},
     "output_type": "execute_result"
    }
   ],
   "source": [
    "df_comments['fallacy'].unique()"
   ]
  },
  {
   "cell_type": "code",
   "execution_count": 18,
   "metadata": {},
   "outputs": [
    {
     "data": {
      "text/plain": [
       "9"
      ]
     },
     "execution_count": 18,
     "metadata": {},
     "output_type": "execute_result"
    }
   ],
   "source": [
    "df_comments['fallacy'].nunique()"
   ]
  },
  {
   "cell_type": "code",
   "execution_count": 19,
   "metadata": {},
   "outputs": [
    {
     "name": "stdout",
     "output_type": "stream",
     "text": [
      "Fallacy counts:\n",
      "fallacy\n",
      "none                        2813\n",
      "slippery slope               572\n",
      "appeal to nature             538\n",
      "appeal to worse problems     531\n",
      "appeal to tradition          515\n",
      "false dilemma                504\n",
      "hasty generalization         497\n",
      "appeal to majority           492\n",
      "appeal to authority          446\n",
      "Name: comment, dtype: int64\n",
      "\n",
      "Total number of unique fallacies: 9\n"
     ]
    }
   ],
   "source": [
    "fallacy_counts = df_comments.groupby('fallacy')['comment'].count().sort_values(ascending=False)\n",
    "\n",
    "print(\"Fallacy counts:\")\n",
    "print(fallacy_counts)\n",
    "\n",
    "print(f\"\\nTotal number of unique fallacies: {len(fallacy_counts)}\")"
   ]
  },
  {
   "cell_type": "code",
   "execution_count": 20,
   "metadata": {},
   "outputs": [
    {
     "data": {
      "image/png": "[encoded data removed]",
      "text/plain": [
       "<Figure size 1200x600 with 1 Axes>"
      ]
     },
     "metadata": {},
     "output_type": "display_data"
    }
   ],
   "source": [
    "import matplotlib.pyplot as plt\n",
    "import seaborn as sns\n",
    "\n",
    "# Create figure\n",
    "plt.figure(figsize=(12, 6))\n",
    "sns.barplot(x=fallacy_counts.index, y=fallacy_counts.values, palette=\"viridis\")\n",
    "\n",
    "# Customize plot\n",
    "plt.title(\"Distribution of Logical Fallacies in Comments\", fontsize=14)\n",
    "plt.xlabel(\"Fallacy Type\", fontsize=12)\n",
    "plt.ylabel(\"Number of Comments\", fontsize=12)\n",
    "plt.xticks(rotation=45, ha='right')\n",
    "plt.tight_layout()\n",
    "\n",
    "# Add value labels on bars\n",
    "for i, value in enumerate(fallacy_counts.values):\n",
    "    plt.text(i, value + 0.5, str(value), ha='center', va='bottom')\n",
    "\n",
    "plt.show()\n"
   ]
  }
 ],
 "metadata": {
  "kernelspec": {
   "display_name": ".venv",
   "language": "python",
   "name": "python3"
  },
  "language_info": {
   "codemirror_mode": {
    "name": "ipython",
    "version": 3
   },
   "file_extension": ".py",
   "mimetype": "text/x-python",
   "name": "python",
   "nbconvert_exporter": "python",
   "pygments_lexer": "ipython3",
   "version": "3.11.3"
  }
 },
 "nbformat": 4,
 "nbformat_minor": 2
}
