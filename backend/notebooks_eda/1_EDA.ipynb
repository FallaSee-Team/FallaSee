{
 "cells": [
  {
   "cell_type": "code",
   "execution_count": 91,
   "metadata": {},
   "outputs": [],
   "source": [
    "import pandas as pd\n",
    "import numpy as np\n"
   ]
  },
  {
   "cell_type": "code",
   "execution_count": 92,
   "metadata": {},
   "outputs": [
    {
     "data": {
      "text/html": [
       "<div>\n",
       "<style scoped>\n",
       "    .dataframe tbody tr th:only-of-type {\n",
       "        vertical-align: middle;\n",
       "    }\n",
       "\n",
       "    .dataframe tbody tr th {\n",
       "        vertical-align: top;\n",
       "    }\n",
       "\n",
       "    .dataframe thead th {\n",
       "        text-align: right;\n",
       "    }\n",
       "</style>\n",
       "<table border=\"1\" class=\"dataframe\">\n",
       "  <thead>\n",
       "    <tr style=\"text-align: right;\">\n",
       "      <th></th>\n",
       "      <th>original_url</th>\n",
       "      <th>source_article</th>\n",
       "      <th>logical_fallacies</th>\n",
       "    </tr>\n",
       "  </thead>\n",
       "  <tbody>\n",
       "    <tr>\n",
       "      <th>0</th>\n",
       "      <td>https://www.theguardian.com/environment/2016/a...</td>\n",
       "      <td>In June last year , a severe heatwave claimed ...</td>\n",
       "      <td>intentional</td>\n",
       "    </tr>\n",
       "    <tr>\n",
       "      <th>1</th>\n",
       "      <td>https://www.theguardian.com/environment/2016/a...</td>\n",
       "      <td>Diminishing sea ice is causing major walrus he...</td>\n",
       "      <td>intentional</td>\n",
       "    </tr>\n",
       "    <tr>\n",
       "      <th>2</th>\n",
       "      <td>https://www.nytimes.com/2018/10/07/climate/ipc...</td>\n",
       "      <td>A landmark report from the United Nations ’ sc...</td>\n",
       "      <td>fallacy of credibility</td>\n",
       "    </tr>\n",
       "    <tr>\n",
       "      <th>3</th>\n",
       "      <td>https://www.nytimes.com/2018/10/07/climate/ipc...</td>\n",
       "      <td>The report “ is quite a shock , and quite conc...</td>\n",
       "      <td>fallacy of credibility</td>\n",
       "    </tr>\n",
       "    <tr>\n",
       "      <th>4</th>\n",
       "      <td>https://www.nytimes.com/2018/10/07/climate/ipc...</td>\n",
       "      <td>The World Coal Association disputed the conclu...</td>\n",
       "      <td>false dilemma</td>\n",
       "    </tr>\n",
       "    <tr>\n",
       "      <th>...</th>\n",
       "      <td>...</td>\n",
       "      <td>...</td>\n",
       "      <td>...</td>\n",
       "    </tr>\n",
       "    <tr>\n",
       "      <th>214</th>\n",
       "      <td>https://www.facebook.com/watch/?v=316929899311...</td>\n",
       "      <td>Global warming alarmism provides them , more t...</td>\n",
       "      <td>fallacy of extension</td>\n",
       "    </tr>\n",
       "    <tr>\n",
       "      <th>215</th>\n",
       "      <td>https://www.facebook.com/watch/?v=316929899311...</td>\n",
       "      <td>Meanwhile , over the last decade , scientists ...</td>\n",
       "      <td>intentional</td>\n",
       "    </tr>\n",
       "    <tr>\n",
       "      <th>216</th>\n",
       "      <td>https://www.facebook.com/watch/?v=316929899311...</td>\n",
       "      <td>And crony capitalists have eagerly grabbed for...</td>\n",
       "      <td>ad hominem</td>\n",
       "    </tr>\n",
       "    <tr>\n",
       "      <th>217</th>\n",
       "      <td>https://www.theguardian.com/environment/2016/a...</td>\n",
       "      <td>NaN</td>\n",
       "      <td>false dilemma</td>\n",
       "    </tr>\n",
       "    <tr>\n",
       "      <th>218</th>\n",
       "      <td>https://www.washingtonpost.com/news/energy-env...</td>\n",
       "      <td>AD\\nLong was not involved in the current work ...</td>\n",
       "      <td>fallacy of credibility</td>\n",
       "    </tr>\n",
       "  </tbody>\n",
       "</table>\n",
       "<p>1351 rows × 3 columns</p>\n",
       "</div>"
      ],
      "text/plain": [
       "                                          original_url                                     source_article       logical_fallacies\n",
       "0    https://www.theguardian.com/environment/2016/a...  In June last year , a severe heatwave claimed ...             intentional\n",
       "1    https://www.theguardian.com/environment/2016/a...  Diminishing sea ice is causing major walrus he...             intentional\n",
       "2    https://www.nytimes.com/2018/10/07/climate/ipc...  A landmark report from the United Nations ’ sc...  fallacy of credibility\n",
       "3    https://www.nytimes.com/2018/10/07/climate/ipc...  The report “ is quite a shock , and quite conc...  fallacy of credibility\n",
       "4    https://www.nytimes.com/2018/10/07/climate/ipc...  The World Coal Association disputed the conclu...           false dilemma\n",
       "..                                                 ...                                                ...                     ...\n",
       "214  https://www.facebook.com/watch/?v=316929899311...  Global warming alarmism provides them , more t...    fallacy of extension\n",
       "215  https://www.facebook.com/watch/?v=316929899311...  Meanwhile , over the last decade , scientists ...             intentional\n",
       "216  https://www.facebook.com/watch/?v=316929899311...  And crony capitalists have eagerly grabbed for...              ad hominem\n",
       "217  https://www.theguardian.com/environment/2016/a...                                                NaN           false dilemma\n",
       "218  https://www.washingtonpost.com/news/energy-env...  AD\\nLong was not involved in the current work ...  fallacy of credibility\n",
       "\n",
       "[1351 rows x 3 columns]"
      ]
     },
     "execution_count": 92,
     "metadata": {},
     "output_type": "execute_result"
    }
   ],
   "source": [
    "df = pd.read_csv(f'../data/rawdata/1_data.csv', index_col=0)\n",
    "df"
   ]
  },
  {
   "cell_type": "code",
   "execution_count": 93,
   "metadata": {},
   "outputs": [
    {
     "name": "stdout",
     "output_type": "stream",
     "text": [
      "<class 'pandas.core.frame.DataFrame'>\n",
      "Index: 1351 entries, 0 to 218\n",
      "Data columns (total 3 columns):\n",
      " #   Column             Non-Null Count  Dtype \n",
      "---  ------             --------------  ----- \n",
      " 0   original_url       1351 non-null   object\n",
      " 1   source_article     1312 non-null   object\n",
      " 2   logical_fallacies  1351 non-null   object\n",
      "dtypes: object(3)\n",
      "memory usage: 42.2+ KB\n"
     ]
    }
   ],
   "source": [
    "df.info()"
   ]
  },
  {
   "cell_type": "code",
   "execution_count": 94,
   "metadata": {},
   "outputs": [
    {
     "data": {
      "text/plain": [
       "array(['intentional', 'fallacy of credibility', 'false dilemma',\n",
       "       'appeal to emotion', 'equivocation', 'faulty generalization',\n",
       "       'fallacy of relevance', 'fallacy of logic', 'ad populum',\n",
       "       'false causality', 'ad hominem', 'fallacy of extension',\n",
       "       'circular reasoning'], dtype=object)"
      ]
     },
     "execution_count": 94,
     "metadata": {},
     "output_type": "execute_result"
    }
   ],
   "source": [
    "df['logical_fallacies'].unique()"
   ]
  },
  {
   "cell_type": "code",
   "execution_count": 95,
   "metadata": {},
   "outputs": [
    {
     "data": {
      "text/plain": [
       "logical_fallacies\n",
       "intentional               342\n",
       "appeal to emotion         151\n",
       "faulty generalization     138\n",
       "fallacy of credibility    133\n",
       "fallacy of relevance      107\n",
       "ad hominem                104\n",
       "fallacy of logic           89\n",
       "false causality            73\n",
       "fallacy of extension       65\n",
       "ad populum                 63\n",
       "false dilemma              52\n",
       "equivocation               27\n",
       "circular reasoning          7\n",
       "Name: count, dtype: int64"
      ]
     },
     "execution_count": 95,
     "metadata": {},
     "output_type": "execute_result"
    }
   ],
   "source": [
    "df['logical_fallacies'].value_counts()"
   ]
  },
  {
   "cell_type": "code",
   "execution_count": 96,
   "metadata": {},
   "outputs": [
    {
     "data": {
      "text/plain": [
       "0    In June last year , a severe heatwave claimed ...\n",
       "1    Diminishing sea ice is causing major walrus he...\n",
       "2    A landmark report from the United Nations ’ sc...\n",
       "3    The report “ is quite a shock , and quite conc...\n",
       "4    The World Coal Association disputed the conclu...\n",
       "Name: source_article, dtype: object"
      ]
     },
     "execution_count": 96,
     "metadata": {},
     "output_type": "execute_result"
    }
   ],
   "source": [
    "df['source_article'].head()"
   ]
  },
  {
   "cell_type": "code",
   "execution_count": 97,
   "metadata": {},
   "outputs": [
    {
     "name": "stdout",
     "output_type": "stream",
     "text": [
      "intentional :\n",
      "In June last year , a severe heatwave claimed over 1,000 lives in Karachi , Pakistan . Severe drought caused food shortages for millions of people in Ethiopia , with a lack of rainfall resulting in “ intense and widespread ” forest fires in Indonesia that belched out a vast quantity of greenhouse gas .\n",
      "intentional :\n",
      "Diminishing sea ice is causing major walrus herds to haul themselves out on to land . Arctic marine species , such as snailfish and polar cod , are being pushed out of the region by species coming from further south , attracted to the warming waters . A huge algal bloom off the west coast of North America harmed marine life and fisheries .\n",
      "fallacy of credibility :\n",
      "A landmark report from the United Nations ’ scientific panel on climate change paints a far more dire picture of the immediate consequences of climate change than previously thought and says that avoiding the damage requires transforming the world economy at a speed and scale that has “ no documented historic precedent . ”\n",
      "fallacy of credibility :\n",
      "The report “ is quite a shock , and quite concerning , ” said Bill Hare , an author of previous I.P.C.C . reports and a physicist with Climate Analytics , a nonprofit organization . “ We were not aware of this just a few years ago. ”\n",
      "false dilemma :\n",
      "The World Coal Association disputed the conclusion that stopping global warming calls for an end of coal use .\n"
     ]
    }
   ],
   "source": [
    "i = 0\n",
    "for i in np.arange(0,5,1):\n",
    "    print(df.iloc[i, 2], ':')\n",
    "    print(df.iloc[i, 1])\n",
    "    i = i+1"
   ]
  },
  {
   "cell_type": "code",
   "execution_count": 98,
   "metadata": {},
   "outputs": [
    {
     "data": {
      "text/plain": [
       "1074"
      ]
     },
     "execution_count": 98,
     "metadata": {},
     "output_type": "execute_result"
    }
   ],
   "source": [
    "df['source_article'].nunique()"
   ]
  },
  {
   "cell_type": "code",
   "execution_count": 99,
   "metadata": {},
   "outputs": [
    {
     "data": {
      "text/plain": [
       "1351"
      ]
     },
     "execution_count": 99,
     "metadata": {},
     "output_type": "execute_result"
    }
   ],
   "source": [
    "len(df)"
   ]
  },
  {
   "cell_type": "code",
   "execution_count": 100,
   "metadata": {},
   "outputs": [
    {
     "data": {
      "text/plain": [
       "276"
      ]
     },
     "execution_count": 100,
     "metadata": {},
     "output_type": "execute_result"
    }
   ],
   "source": [
    "df.duplicated(subset='source_article').sum()"
   ]
  },
  {
   "cell_type": "code",
   "execution_count": 101,
   "metadata": {},
   "outputs": [],
   "source": [
    "df_duplicates = df[df.duplicated()]\n"
   ]
  },
  {
   "cell_type": "code",
   "execution_count": 102,
   "metadata": {},
   "outputs": [
    {
     "data": {
      "text/plain": [
       "source_article\n",
       "Access to cleaner water has increased ; mortality from ‘ Extreme Weather Events ’ has declined by 99 per cent since the 1920s ; fewer people are dying from heat ; death rates from climate-sensitive diseases like malaria and diarrhoea have decreased ( since 1900 malaria death rates have declined 96 per cent ) ; hunger rates have declined ; poverty has declined ( GDP per capita has quadrupled since 1950 even as CO2 levels have sextupled ) ; life expectancy has more than doubled since the start of industrialisation ; health adjusted life expectancy has increased ; global inequality has decreased in terms of incomes , life expectancies and access to modern-day amenities ; the earth is green and more productive ; habitat lost to agriculture has peaked due to fossil fuel dependent technologies .    10\n",
       "Thus , nitrogen fertilisers and carbon dioxide fertilisation have together increased global food production by 111 per cent .                                                                                                                                                                                                                                                                                                                                                                                                                                                                                                                                                                                                                                                                                                        5\n",
       "Here ’ s an unusual one from Guillet et al suggesting that there ’ s nothing new about wildly early or late grape harvests through the centuries :                                                                                                                                                                                                                                                                                                                                                                                                                                                                                                                                                                                                                                                                                   3\n",
       "Ever since December temperatures in the Arctic have consistently been lower than minus 20 C.                                                                                                                                                                                                                                                                                                                                                                                                                                                                                                                                                                                                                                                                                                                                         2\n",
       "Global average temperatures over land have plummeted by more than 1C since the middle of this year – their biggest and steepest fall on record .                                                                                                                                                                                                                                                                                                                                                                                                                                                                                                                                                                                                                                                                                     1\n",
       "Compared with the last assessment in 2014 , 25 % of them show a sharp upward shift from 3C to 5C in climate sensitivity – the amount of warming projected from a doubling of atmospheric carbon dioxide from the preindustrial level of 280 parts per million .                                                                                                                                                                                                                                                                                                                                                                                                                                                                                                                                                                      1\n",
       "Now , you could make a different argument if you want to talk about Greenland or the Arctic . ''                                                                                                                                                                                                                                                                                                                                                                                                                                                                                                                                                                                                                                                                                                                                     1\n",
       "• Most extreme weather phenomena have not become more extreme , more deadly , or more destructive                                                                                                                                                                                                                                                                                                                                                                                                                                                                                                                                                                                                                                                                                                                                    1\n",
       "Not only , he suggests , has their CO2 contributed to “ global greening ” — “ contrary to prevailing wisdom , tree cover globally has increased by over 2 million km2 between 1982 and 2016 , an increase of 7 per cent ” — but they provide the fertilisers and pesticides which simultaneously feed the planet and reduce the amount of land required for agriculture :                                                                                                                                                                                                                                                                                                                                                                                                                                                            1\n",
       "But scientific research indicates the world was last this warm about 115,000 years ago and that the planet has not experienced such high levels of carbon dioxide in the atmosphere for 4m years .                                                                                                                                                                                                                                                                                                                                                                                                                                                                                                                                                                                                                                   1\n",
       "People who study the impacts of global warming have found that if ECS is low — say , less than two — then the impacts of global warming on the economy will be mostly small and , in many places , mildly beneficial .                                                                                                                                                                                                                                                                                                                                                                                                                                                                                                                                                                                                               1\n",
       "The strongest hurricanes will come more often , and we ’ ll have to invent new categories with which to describe them ; tornadoes will grow longer and wider and strike much more frequently , and hail rocks will quadruple in size .                                                                                                                                                                                                                                                                                                                                                                                                                                                                                                                                                                                               1\n",
       "You can say this for bleeding-heart liberals : They certainly have a flair for the ironic .                                                                                                                                                                                                                                                                                                                                                                                                                                                                                                                                                                                                                                                                                                                                          1\n",
       "As soon as the words emissions , climate change and Paris are used , you know you are being conned and that the world ’ s biggest scam will continue .                                                                                                                                                                                                                                                                                                                                                                                                                                                                                                                                                                                                                                                                               1\n",
       "The news comes amid mounting evidence that the recent run of world record high temperatures is about to end .                                                                                                                                                                                                                                                                                                                                                                                                                                                                                                                                                                                                                                                                                                                        1\n",
       "Using terms such as `` battlefield , '' `` siege , '' and `` front , '' those opposed this `` war effort '' have been labeled anything from Nazis to Holocaust deniers . ( I personally have been called a sociopath by climate activist Joe Romm of the Center for American Progress , another story . )                                                                                                                                                                                                                                                                                                                                                                                                                                                                                                                            1\n",
       "And the great middle can be excused for realizing that obsessing about climate change is avoiding a frank discussion about the here-and-now problems of budget deficits , the federal debt , school choice , entitlement reform , and so on .                                                                                                                                                                                                                                                                                                                                                                                                                                                                                                                                                                                        1\n",
       "The climate denialists ’ arguments have become so strained that even oil and coal companies have distanced themselves publicly , though some still help to finance the campaigns of politicians who espouse such views .                                                                                                                                                                                                                                                                                                                                                                                                                                                                                                                                                                                                             1\n",
       "This means the global temperature trend has now shown no further warming for 19 years .                                                                                                                                                                                                                                                                                                                                                                                                                                                                                                                                                                                                                                                                                                                                              1\n",
       "Furthermore , whereas in 2008 most of the ice was extremely thin , this year most has been at least two metres thick .                                                                                                                                                                                                                                                                                                                                                                                                                                                                                                                                                                                                                                                                                                               1\n",
       "It ’ s a slow , gradual attack , but it threatens the safety and security of the United States . ”                                                                                                                                                                                                                                                                                                                                                                                                                                                                                                                                                                                                                                                                                                                                   1\n",
       "Future generations are bound to ask why America closed its coal-fueled generating stations , its cheapest , most plentiful source of electric power , and wasted billions of dollars trying to stop insignificant changes in imaginary phenomena .                                                                                                                                                                                                                                                                                                                                                                                                                                                                                                                                                                                   1\n",
       "The earth is 15 years from a period of low solar activity similar to that last seen during the `` mini ice-age '' of the 17th century , when the Thames froze .                                                                                                                                                                                                                                                                                                                                                                                                                                                                                                                                                                                                                                                                      1\n",
       "Similarly , another list of the 15 most polluted cities in the world featured three cities from China , three cities from Saudi Arabia , and a whopping seven cities from India .                                                                                                                                                                                                                                                                                                                                                                                                                                                                                                                                                                                                                                                    1\n",
       "Once again , the data does not support the claim that the United States is hotter than ever as a result of rising Carbon dioxide levels .                                                                                                                                                                                                                                                                                                                                                                                                                                                                                                                                                                                                                                                                                            1\n",
       "Sounding more like an Old Testament doomsayer than a president , Obama warned in his Alaska speech that unless carbon fuels are restricted , “ we will condemn our children to a planet beyond their capacity to repair : Submerged countries .                                                                                                                                                                                                                                                                                                                                                                                                                                                                                                                                                                                      1\n",
       "Name: count, dtype: int64"
      ]
     },
     "execution_count": 102,
     "metadata": {},
     "output_type": "execute_result"
    }
   ],
   "source": [
    "df_duplicates['source_article'].value_counts()"
   ]
  },
  {
   "cell_type": "code",
   "execution_count": 103,
   "metadata": {},
   "outputs": [],
   "source": [
    "def search_text(t):\n",
    "    row = df[df['source_article']==t]\n",
    "    return row"
   ]
  },
  {
   "cell_type": "code",
   "execution_count": 104,
   "metadata": {},
   "outputs": [
    {
     "data": {
      "text/html": [
       "<div>\n",
       "<style scoped>\n",
       "    .dataframe tbody tr th:only-of-type {\n",
       "        vertical-align: middle;\n",
       "    }\n",
       "\n",
       "    .dataframe tbody tr th {\n",
       "        vertical-align: top;\n",
       "    }\n",
       "\n",
       "    .dataframe thead th {\n",
       "        text-align: right;\n",
       "    }\n",
       "</style>\n",
       "<table border=\"1\" class=\"dataframe\">\n",
       "  <thead>\n",
       "    <tr style=\"text-align: right;\">\n",
       "      <th></th>\n",
       "      <th>original_url</th>\n",
       "      <th>source_article</th>\n",
       "      <th>logical_fallacies</th>\n",
       "    </tr>\n",
       "  </thead>\n",
       "  <tbody>\n",
       "    <tr>\n",
       "      <th>176</th>\n",
       "      <td>https://www.breitbart.com/europe/2021/02/07/de...</td>\n",
       "      <td>Access to cleaner water has increased ; mortal...</td>\n",
       "      <td>fallacy of extension</td>\n",
       "    </tr>\n",
       "    <tr>\n",
       "      <th>177</th>\n",
       "      <td>https://www.breitbart.com/europe/2021/02/07/de...</td>\n",
       "      <td>Access to cleaner water has increased ; mortal...</td>\n",
       "      <td>fallacy of extension</td>\n",
       "    </tr>\n",
       "    <tr>\n",
       "      <th>178</th>\n",
       "      <td>https://www.breitbart.com/europe/2021/02/07/de...</td>\n",
       "      <td>Access to cleaner water has increased ; mortal...</td>\n",
       "      <td>fallacy of extension</td>\n",
       "    </tr>\n",
       "    <tr>\n",
       "      <th>180</th>\n",
       "      <td>https://www.breitbart.com/europe/2021/02/07/de...</td>\n",
       "      <td>Access to cleaner water has increased ; mortal...</td>\n",
       "      <td>appeal to emotion</td>\n",
       "    </tr>\n",
       "    <tr>\n",
       "      <th>181</th>\n",
       "      <td>https://www.breitbart.com/europe/2021/02/07/de...</td>\n",
       "      <td>Access to cleaner water has increased ; mortal...</td>\n",
       "      <td>intentional</td>\n",
       "    </tr>\n",
       "    <tr>\n",
       "      <th>182</th>\n",
       "      <td>https://www.breitbart.com/europe/2021/02/07/de...</td>\n",
       "      <td>Access to cleaner water has increased ; mortal...</td>\n",
       "      <td>intentional</td>\n",
       "    </tr>\n",
       "    <tr>\n",
       "      <th>183</th>\n",
       "      <td>https://www.breitbart.com/europe/2021/02/07/de...</td>\n",
       "      <td>Access to cleaner water has increased ; mortal...</td>\n",
       "      <td>intentional</td>\n",
       "    </tr>\n",
       "    <tr>\n",
       "      <th>184</th>\n",
       "      <td>https://www.breitbart.com/europe/2021/02/07/de...</td>\n",
       "      <td>Access to cleaner water has increased ; mortal...</td>\n",
       "      <td>intentional</td>\n",
       "    </tr>\n",
       "    <tr>\n",
       "      <th>195</th>\n",
       "      <td>https://www.breitbart.com/europe/2021/02/07/de...</td>\n",
       "      <td>Access to cleaner water has increased ; mortal...</td>\n",
       "      <td>fallacy of extension</td>\n",
       "    </tr>\n",
       "    <tr>\n",
       "      <th>200</th>\n",
       "      <td>https://www.breitbart.com/europe/2021/02/07/de...</td>\n",
       "      <td>Access to cleaner water has increased ; mortal...</td>\n",
       "      <td>appeal to emotion</td>\n",
       "    </tr>\n",
       "    <tr>\n",
       "      <th>201</th>\n",
       "      <td>https://www.breitbart.com/europe/2021/02/07/de...</td>\n",
       "      <td>Access to cleaner water has increased ; mortal...</td>\n",
       "      <td>appeal to emotion</td>\n",
       "    </tr>\n",
       "    <tr>\n",
       "      <th>202</th>\n",
       "      <td>https://www.breitbart.com/europe/2021/02/07/de...</td>\n",
       "      <td>Access to cleaner water has increased ; mortal...</td>\n",
       "      <td>appeal to emotion</td>\n",
       "    </tr>\n",
       "    <tr>\n",
       "      <th>203</th>\n",
       "      <td>https://www.breitbart.com/europe/2021/02/07/de...</td>\n",
       "      <td>Access to cleaner water has increased ; mortal...</td>\n",
       "      <td>intentional</td>\n",
       "    </tr>\n",
       "  </tbody>\n",
       "</table>\n",
       "</div>"
      ],
      "text/plain": [
       "                                          original_url                                     source_article     logical_fallacies\n",
       "176  https://www.breitbart.com/europe/2021/02/07/de...  Access to cleaner water has increased ; mortal...  fallacy of extension\n",
       "177  https://www.breitbart.com/europe/2021/02/07/de...  Access to cleaner water has increased ; mortal...  fallacy of extension\n",
       "178  https://www.breitbart.com/europe/2021/02/07/de...  Access to cleaner water has increased ; mortal...  fallacy of extension\n",
       "180  https://www.breitbart.com/europe/2021/02/07/de...  Access to cleaner water has increased ; mortal...     appeal to emotion\n",
       "181  https://www.breitbart.com/europe/2021/02/07/de...  Access to cleaner water has increased ; mortal...           intentional\n",
       "182  https://www.breitbart.com/europe/2021/02/07/de...  Access to cleaner water has increased ; mortal...           intentional\n",
       "183  https://www.breitbart.com/europe/2021/02/07/de...  Access to cleaner water has increased ; mortal...           intentional\n",
       "184  https://www.breitbart.com/europe/2021/02/07/de...  Access to cleaner water has increased ; mortal...           intentional\n",
       "195  https://www.breitbart.com/europe/2021/02/07/de...  Access to cleaner water has increased ; mortal...  fallacy of extension\n",
       "200  https://www.breitbart.com/europe/2021/02/07/de...  Access to cleaner water has increased ; mortal...     appeal to emotion\n",
       "201  https://www.breitbart.com/europe/2021/02/07/de...  Access to cleaner water has increased ; mortal...     appeal to emotion\n",
       "202  https://www.breitbart.com/europe/2021/02/07/de...  Access to cleaner water has increased ; mortal...     appeal to emotion\n",
       "203  https://www.breitbart.com/europe/2021/02/07/de...  Access to cleaner water has increased ; mortal...           intentional"
      ]
     },
     "execution_count": 104,
     "metadata": {},
     "output_type": "execute_result"
    }
   ],
   "source": [
    "search_text('Access to cleaner water has increased ; mortality from ‘ Extreme Weather Events ’ has declined by 99 per cent since the 1920s ; fewer people are dying from heat ; death rates from climate-sensitive diseases like malaria and diarrhoea have decreased ( since 1900 malaria death rates have declined 96 per cent ) ; hunger rates have declined ; poverty has declined ( GDP per capita has quadrupled since 1950 even as CO2 levels have sextupled ) ; life expectancy has more than doubled since the start of industrialisation ; health adjusted life expectancy has increased ; global inequality has decreased in terms of incomes , life expectancies and access to modern-day amenities ; the earth is green and more productive ; habitat lost to agriculture has peaked due to fossil fuel dependent technologies .')"
   ]
  },
  {
   "cell_type": "code",
   "execution_count": 105,
   "metadata": {},
   "outputs": [
    {
     "data": {
      "text/html": [
       "<div>\n",
       "<style scoped>\n",
       "    .dataframe tbody tr th:only-of-type {\n",
       "        vertical-align: middle;\n",
       "    }\n",
       "\n",
       "    .dataframe tbody tr th {\n",
       "        vertical-align: top;\n",
       "    }\n",
       "\n",
       "    .dataframe thead th {\n",
       "        text-align: right;\n",
       "    }\n",
       "</style>\n",
       "<table border=\"1\" class=\"dataframe\">\n",
       "  <thead>\n",
       "    <tr style=\"text-align: right;\">\n",
       "      <th></th>\n",
       "      <th>original_url</th>\n",
       "      <th>source_article</th>\n",
       "      <th>logical_fallacies</th>\n",
       "    </tr>\n",
       "  </thead>\n",
       "  <tbody>\n",
       "    <tr>\n",
       "      <th>176</th>\n",
       "      <td>https://www.breitbart.com/europe/2021/02/07/de...</td>\n",
       "      <td>Access to cleaner water has increased ; mortal...</td>\n",
       "      <td>fallacy of extension</td>\n",
       "    </tr>\n",
       "    <tr>\n",
       "      <th>177</th>\n",
       "      <td>https://www.breitbart.com/europe/2021/02/07/de...</td>\n",
       "      <td>Access to cleaner water has increased ; mortal...</td>\n",
       "      <td>fallacy of extension</td>\n",
       "    </tr>\n",
       "    <tr>\n",
       "      <th>178</th>\n",
       "      <td>https://www.breitbart.com/europe/2021/02/07/de...</td>\n",
       "      <td>Access to cleaner water has increased ; mortal...</td>\n",
       "      <td>fallacy of extension</td>\n",
       "    </tr>\n",
       "    <tr>\n",
       "      <th>180</th>\n",
       "      <td>https://www.breitbart.com/europe/2021/02/07/de...</td>\n",
       "      <td>Access to cleaner water has increased ; mortal...</td>\n",
       "      <td>appeal to emotion</td>\n",
       "    </tr>\n",
       "    <tr>\n",
       "      <th>181</th>\n",
       "      <td>https://www.breitbart.com/europe/2021/02/07/de...</td>\n",
       "      <td>Access to cleaner water has increased ; mortal...</td>\n",
       "      <td>intentional</td>\n",
       "    </tr>\n",
       "    <tr>\n",
       "      <th>182</th>\n",
       "      <td>https://www.breitbart.com/europe/2021/02/07/de...</td>\n",
       "      <td>Access to cleaner water has increased ; mortal...</td>\n",
       "      <td>intentional</td>\n",
       "    </tr>\n",
       "    <tr>\n",
       "      <th>183</th>\n",
       "      <td>https://www.breitbart.com/europe/2021/02/07/de...</td>\n",
       "      <td>Access to cleaner water has increased ; mortal...</td>\n",
       "      <td>intentional</td>\n",
       "    </tr>\n",
       "    <tr>\n",
       "      <th>184</th>\n",
       "      <td>https://www.breitbart.com/europe/2021/02/07/de...</td>\n",
       "      <td>Access to cleaner water has increased ; mortal...</td>\n",
       "      <td>intentional</td>\n",
       "    </tr>\n",
       "    <tr>\n",
       "      <th>195</th>\n",
       "      <td>https://www.breitbart.com/europe/2021/02/07/de...</td>\n",
       "      <td>Access to cleaner water has increased ; mortal...</td>\n",
       "      <td>fallacy of extension</td>\n",
       "    </tr>\n",
       "    <tr>\n",
       "      <th>200</th>\n",
       "      <td>https://www.breitbart.com/europe/2021/02/07/de...</td>\n",
       "      <td>Access to cleaner water has increased ; mortal...</td>\n",
       "      <td>appeal to emotion</td>\n",
       "    </tr>\n",
       "    <tr>\n",
       "      <th>201</th>\n",
       "      <td>https://www.breitbart.com/europe/2021/02/07/de...</td>\n",
       "      <td>Access to cleaner water has increased ; mortal...</td>\n",
       "      <td>appeal to emotion</td>\n",
       "    </tr>\n",
       "    <tr>\n",
       "      <th>202</th>\n",
       "      <td>https://www.breitbart.com/europe/2021/02/07/de...</td>\n",
       "      <td>Access to cleaner water has increased ; mortal...</td>\n",
       "      <td>appeal to emotion</td>\n",
       "    </tr>\n",
       "    <tr>\n",
       "      <th>203</th>\n",
       "      <td>https://www.breitbart.com/europe/2021/02/07/de...</td>\n",
       "      <td>Access to cleaner water has increased ; mortal...</td>\n",
       "      <td>intentional</td>\n",
       "    </tr>\n",
       "  </tbody>\n",
       "</table>\n",
       "</div>"
      ],
      "text/plain": [
       "                                          original_url                                     source_article     logical_fallacies\n",
       "176  https://www.breitbart.com/europe/2021/02/07/de...  Access to cleaner water has increased ; mortal...  fallacy of extension\n",
       "177  https://www.breitbart.com/europe/2021/02/07/de...  Access to cleaner water has increased ; mortal...  fallacy of extension\n",
       "178  https://www.breitbart.com/europe/2021/02/07/de...  Access to cleaner water has increased ; mortal...  fallacy of extension\n",
       "180  https://www.breitbart.com/europe/2021/02/07/de...  Access to cleaner water has increased ; mortal...     appeal to emotion\n",
       "181  https://www.breitbart.com/europe/2021/02/07/de...  Access to cleaner water has increased ; mortal...           intentional\n",
       "182  https://www.breitbart.com/europe/2021/02/07/de...  Access to cleaner water has increased ; mortal...           intentional\n",
       "183  https://www.breitbart.com/europe/2021/02/07/de...  Access to cleaner water has increased ; mortal...           intentional\n",
       "184  https://www.breitbart.com/europe/2021/02/07/de...  Access to cleaner water has increased ; mortal...           intentional\n",
       "195  https://www.breitbart.com/europe/2021/02/07/de...  Access to cleaner water has increased ; mortal...  fallacy of extension\n",
       "200  https://www.breitbart.com/europe/2021/02/07/de...  Access to cleaner water has increased ; mortal...     appeal to emotion\n",
       "201  https://www.breitbart.com/europe/2021/02/07/de...  Access to cleaner water has increased ; mortal...     appeal to emotion\n",
       "202  https://www.breitbart.com/europe/2021/02/07/de...  Access to cleaner water has increased ; mortal...     appeal to emotion\n",
       "203  https://www.breitbart.com/europe/2021/02/07/de...  Access to cleaner water has increased ; mortal...           intentional"
      ]
     },
     "execution_count": 105,
     "metadata": {},
     "output_type": "execute_result"
    }
   ],
   "source": [
    "search_text('Access to cleaner water has increased ; mortality from ‘ Extreme Weather Events ’ has declined by 99 per cent since the 1920s ; fewer people are dying from heat ; death rates from climate-sensitive diseases like malaria and diarrhoea have decreased ( since 1900 malaria death rates have declined 96 per cent ) ; hunger rates have declined ; poverty has declined ( GDP per capita has quadrupled since 1950 even as CO2 levels have sextupled ) ; life expectancy has more than doubled since the start of industrialisation ; health adjusted life expectancy has increased ; global inequality has decreased in terms of incomes , life expectancies and access to modern-day amenities ; the earth is green and more productive ; habitat lost to agriculture has peaked due to fossil fuel dependent technologies .')"
   ]
  },
  {
   "cell_type": "code",
   "execution_count": 107,
   "metadata": {},
   "outputs": [],
   "source": [
    "df.to_csv('../data/cleaned/1_logicClimate.csv', index=False)"
   ]
  },
  {
   "cell_type": "code",
   "execution_count": null,
   "metadata": {},
   "outputs": [],
   "source": []
  }
 ],
 "metadata": {
  "kernelspec": {
   "display_name": ".venv",
   "language": "python",
   "name": "python3"
  },
  "language_info": {
   "codemirror_mode": {
    "name": "ipython",
    "version": 3
   },
   "file_extension": ".py",
   "mimetype": "text/x-python",
   "name": "python",
   "nbconvert_exporter": "python",
   "pygments_lexer": "ipython3",
   "version": "3.11.3"
  }
 },
 "nbformat": 4,
 "nbformat_minor": 2
}
