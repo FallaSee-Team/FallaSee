{
 "cells": [
  {
   "cell_type": "markdown",
   "metadata": {},
   "source": [
    "# Generate smaller Datasets"
   ]
  },
  {
   "cell_type": "code",
   "execution_count": 24,
   "metadata": {},
   "outputs": [],
   "source": [
    "import pandas as pd\n",
    "import seaborn as sns\n",
    "from sklearn.model_selection import train_test_split"
   ]
  },
  {
   "cell_type": "code",
   "execution_count": 25,
   "metadata": {},
   "outputs": [
    {
     "data": {
      "text/html": [
       "<div>\n",
       "<style scoped>\n",
       "    .dataframe tbody tr th:only-of-type {\n",
       "        vertical-align: middle;\n",
       "    }\n",
       "\n",
       "    .dataframe tbody tr th {\n",
       "        vertical-align: top;\n",
       "    }\n",
       "\n",
       "    .dataframe thead th {\n",
       "        text-align: right;\n",
       "    }\n",
       "</style>\n",
       "<table border=\"1\" class=\"dataframe\">\n",
       "  <thead>\n",
       "    <tr style=\"text-align: right;\">\n",
       "      <th></th>\n",
       "      <th>dataset</th>\n",
       "      <th>text</th>\n",
       "      <th>logical_fallacies</th>\n",
       "      <th>source</th>\n",
       "    </tr>\n",
       "  </thead>\n",
       "  <tbody>\n",
       "    <tr>\n",
       "      <th>0</th>\n",
       "      <td>1</td>\n",
       "      <td>The World Coal Association disputed the conclu...</td>\n",
       "      <td>false_dilemma</td>\n",
       "      <td>https://www.nytimes.com/2018/10/07/climate/ipc...</td>\n",
       "    </tr>\n",
       "    <tr>\n",
       "      <th>1</th>\n",
       "      <td>1</td>\n",
       "      <td>Refusing to approve the document would place t...</td>\n",
       "      <td>appeal_to_emotion</td>\n",
       "      <td>https://www.nytimes.com/2018/10/07/climate/ipc...</td>\n",
       "    </tr>\n",
       "    <tr>\n",
       "      <th>2</th>\n",
       "      <td>1</td>\n",
       "      <td>At 3 6 degrees of warming the report predicts ...</td>\n",
       "      <td>faulty_generalization</td>\n",
       "      <td>https://www.nytimes.com/2018/10/07/climate/ipc...</td>\n",
       "    </tr>\n",
       "    <tr>\n",
       "      <th>3</th>\n",
       "      <td>1</td>\n",
       "      <td>Scribbler and Beckwith said the anomalies were...</td>\n",
       "      <td>faulty_generalization</td>\n",
       "      <td>https://www.independent.co.uk/news/science/cli...</td>\n",
       "    </tr>\n",
       "    <tr>\n",
       "      <th>4</th>\n",
       "      <td>1</td>\n",
       "      <td>Meanwhile Mr Beckwith confirmed the changes wo...</td>\n",
       "      <td>appeal_to_emotion</td>\n",
       "      <td>https://www.independent.co.uk/news/science/cli...</td>\n",
       "    </tr>\n",
       "  </tbody>\n",
       "</table>\n",
       "</div>"
      ],
      "text/plain": [
       "   dataset                                               text   \n",
       "0        1  The World Coal Association disputed the conclu...  \\\n",
       "1        1  Refusing to approve the document would place t...   \n",
       "2        1  At 3 6 degrees of warming the report predicts ...   \n",
       "3        1  Scribbler and Beckwith said the anomalies were...   \n",
       "4        1  Meanwhile Mr Beckwith confirmed the changes wo...   \n",
       "\n",
       "       logical_fallacies                                             source  \n",
       "0          false_dilemma  https://www.nytimes.com/2018/10/07/climate/ipc...  \n",
       "1      appeal_to_emotion  https://www.nytimes.com/2018/10/07/climate/ipc...  \n",
       "2  faulty_generalization  https://www.nytimes.com/2018/10/07/climate/ipc...  \n",
       "3  faulty_generalization  https://www.independent.co.uk/news/science/cli...  \n",
       "4      appeal_to_emotion  https://www.independent.co.uk/news/science/cli...  "
      ]
     },
     "execution_count": 25,
     "metadata": {},
     "output_type": "execute_result"
    }
   ],
   "source": [
    "df = pd.read_csv(\"../data/data.csv\")\n",
    "df.head()"
   ]
  },
  {
   "cell_type": "code",
   "execution_count": 26,
   "metadata": {},
   "outputs": [
    {
     "data": {
      "text/html": [
       "<div>\n",
       "<style scoped>\n",
       "    .dataframe tbody tr th:only-of-type {\n",
       "        vertical-align: middle;\n",
       "    }\n",
       "\n",
       "    .dataframe tbody tr th {\n",
       "        vertical-align: top;\n",
       "    }\n",
       "\n",
       "    .dataframe thead th {\n",
       "        text-align: right;\n",
       "    }\n",
       "</style>\n",
       "<table border=\"1\" class=\"dataframe\">\n",
       "  <thead>\n",
       "    <tr style=\"text-align: right;\">\n",
       "      <th></th>\n",
       "      <th>dataset</th>\n",
       "      <th>text</th>\n",
       "      <th>source</th>\n",
       "    </tr>\n",
       "    <tr>\n",
       "      <th>logical_fallacies</th>\n",
       "      <th></th>\n",
       "      <th></th>\n",
       "      <th></th>\n",
       "    </tr>\n",
       "  </thead>\n",
       "  <tbody>\n",
       "    <tr>\n",
       "      <th>ad_hominem</th>\n",
       "      <td>1062</td>\n",
       "      <td>1062</td>\n",
       "      <td>87</td>\n",
       "    </tr>\n",
       "    <tr>\n",
       "      <th>appeal_to_authority</th>\n",
       "      <td>726</td>\n",
       "      <td>726</td>\n",
       "      <td>25</td>\n",
       "    </tr>\n",
       "    <tr>\n",
       "      <th>appeal_to_emotion</th>\n",
       "      <td>1619</td>\n",
       "      <td>1619</td>\n",
       "      <td>121</td>\n",
       "    </tr>\n",
       "    <tr>\n",
       "      <th>false_dilemma</th>\n",
       "      <td>941</td>\n",
       "      <td>941</td>\n",
       "      <td>45</td>\n",
       "    </tr>\n",
       "    <tr>\n",
       "      <th>faulty_generalization</th>\n",
       "      <td>1347</td>\n",
       "      <td>1347</td>\n",
       "      <td>120</td>\n",
       "    </tr>\n",
       "    <tr>\n",
       "      <th>none</th>\n",
       "      <td>5418</td>\n",
       "      <td>5418</td>\n",
       "      <td>89</td>\n",
       "    </tr>\n",
       "    <tr>\n",
       "      <th>slippery_slope</th>\n",
       "      <td>627</td>\n",
       "      <td>627</td>\n",
       "      <td>0</td>\n",
       "    </tr>\n",
       "  </tbody>\n",
       "</table>\n",
       "</div>"
      ],
      "text/plain": [
       "                       dataset  text  source\n",
       "logical_fallacies                           \n",
       "ad_hominem                1062  1062      87\n",
       "appeal_to_authority        726   726      25\n",
       "appeal_to_emotion         1619  1619     121\n",
       "false_dilemma              941   941      45\n",
       "faulty_generalization     1347  1347     120\n",
       "none                      5418  5418      89\n",
       "slippery_slope             627   627       0"
      ]
     },
     "execution_count": 26,
     "metadata": {},
     "output_type": "execute_result"
    }
   ],
   "source": [
    "df.groupby(\"logical_fallacies\").count()"
   ]
  },
  {
   "cell_type": "code",
   "execution_count": 27,
   "metadata": {},
   "outputs": [],
   "source": [
    "df_ss = df[df['logical_fallacies'] != 'faulty_generalization'] # remove 'faulty_generalization'"
   ]
  },
  {
   "cell_type": "code",
   "execution_count": 28,
   "metadata": {},
   "outputs": [],
   "source": [
    "df_fg =  df[df['logical_fallacies'] != 'slippery_slope'] # remove 'slippery_slope'"
   ]
  },
  {
   "cell_type": "code",
   "execution_count": 32,
   "metadata": {},
   "outputs": [],
   "source": [
    "df_ex3 =  df[df['dataset'] != 3] # remove dataset 3\n",
    "df_ex3 =  df_ex3[df_ex3['logical_fallacies'] != 'slippery_slope'] # remove 'slippery_slope'"
   ]
  },
  {
   "cell_type": "markdown",
   "metadata": {},
   "source": [
    "## Generate training set (5000 rows)"
   ]
  },
  {
   "cell_type": "code",
   "execution_count": 6,
   "metadata": {},
   "outputs": [
    {
     "name": "stdout",
     "output_type": "stream",
     "text": [
      "logical_fallacies\n",
      "none                   1088\n",
      "appeal_to_emotion       878\n",
      "ad_hominem              844\n",
      "false_dilemma           837\n",
      "appeal_to_authority     726\n",
      "slippery_slope          627\n",
      "Name: count, dtype: int64\n"
     ]
    }
   ],
   "source": [
    "## With 'slippery_slope' and not 'faulty_generalization'\n",
    "\n",
    "\n",
    "# Pick fallacies randomly, but as balanced as possible\n",
    "# Configuration parameters\n",
    "TARGET_SIZE = 5000\n",
    "CLASSES = df_ss['logical_fallacies'].unique()\n",
    "\n",
    "# Calculate target per class (integer division)\n",
    "target_per_class = TARGET_SIZE // len(CLASSES)\n",
    "\n",
    "# Stratified sampling with undersampling\n",
    "sampled_dfs_ss = []\n",
    "for class_name in CLASSES:\n",
    "    class_dfss = df_ss[df_ss['logical_fallacies'] == class_name]\n",
    "    sample_size = min(target_per_class, len(class_dfss))\n",
    "    sampled_dfs_ss.append(class_dfss.sample(sample_size, random_state=42))\n",
    "\n",
    "# Handle remaining samples\n",
    "balanced_df_ss = pd.concat(sampled_dfs_ss)\n",
    "remaining = TARGET_SIZE - len(balanced_df_ss)\n",
    "\n",
    "if remaining > 0:\n",
    "    extra_samples = df_ss[~df_ss.index.isin(balanced_df_ss.index)]\n",
    "    balanced_df_ss = pd.concat([\n",
    "        balanced_df_ss,\n",
    "        extra_samples.sample(remaining, random_state=42)\n",
    "    ])\n",
    "\n",
    "# Final shuffle\n",
    "balanced_df_ss = balanced_df_ss.sample(frac=1, random_state=42).reset_index(drop=True)\n",
    "\n",
    "# Verify distribution\n",
    "print(balanced_df_ss['logical_fallacies'].value_counts())"
   ]
  },
  {
   "cell_type": "code",
   "execution_count": 7,
   "metadata": {},
   "outputs": [
    {
     "name": "stdout",
     "output_type": "stream",
     "text": [
      "logical_fallacies\n",
      "none                     915\n",
      "appeal_to_emotion        843\n",
      "ad_hominem               837\n",
      "false_dilemma            836\n",
      "faulty_generalization    835\n",
      "appeal_to_authority      726\n",
      "slippery_slope             8\n",
      "Name: count, dtype: int64\n"
     ]
    }
   ],
   "source": [
    "## With 'faulty_generalization' and not 'slippery_slope'\n",
    "\n",
    "\n",
    "# Pick fallacies randomly, but as balanced as possible\n",
    "# Configuration parameters\n",
    "TARGET_SIZE = 5000\n",
    "CLASSES = df_fg['logical_fallacies'].unique()\n",
    "\n",
    "# Calculate target per class (integer division)\n",
    "target_per_class = TARGET_SIZE // len(CLASSES)\n",
    "\n",
    "# Stratified sampling with undersampling\n",
    "sampled_dfs_fg = []\n",
    "for class_name in CLASSES:\n",
    "    class_df_fg = df_fg[df_fg['logical_fallacies'] == class_name]\n",
    "    sample_size = min(target_per_class, len(class_df_fg))\n",
    "    sampled_dfs_fg.append(class_df_fg.sample(sample_size, random_state=42))\n",
    "\n",
    "# Handle remaining samples\n",
    "balanced_df_fg = pd.concat(sampled_dfs_fg)\n",
    "remaining = TARGET_SIZE - len(balanced_df_fg)\n",
    "\n",
    "if remaining > 0:\n",
    "    extra_samples = df[~df.index.isin(balanced_df_fg.index)]\n",
    "    balanced_df_fg = pd.concat([\n",
    "        balanced_df_fg,\n",
    "        extra_samples.sample(remaining, random_state=42)\n",
    "    ])\n",
    "\n",
    "# Final shuffle\n",
    "balanced_df_fg = balanced_df_fg.sample(frac=1, random_state=42).reset_index(drop=True)\n",
    "\n",
    "# Verify distribution\n",
    "print(balanced_df_fg['logical_fallacies'].value_counts())"
   ]
  },
  {
   "cell_type": "code",
   "execution_count": 8,
   "metadata": {},
   "outputs": [],
   "source": [
    "balanced_df_fg.to_csv(\"../data/data_training_fg.csv\", index=False)\n",
    "balanced_df_ss.to_csv(\"../data/data_training_ss.csv\", index=False)"
   ]
  },
  {
   "cell_type": "markdown",
   "metadata": {},
   "source": [
    "## Generate small dataset (2000 rows)"
   ]
  },
  {
   "cell_type": "code",
   "execution_count": 9,
   "metadata": {},
   "outputs": [],
   "source": [
    "# Slipery slope\n",
    "y = balanced_df_ss[\"logical_fallacies\"]\n",
    "X = balanced_df_ss[[\"text\", \"dataset\", \"source\"]]\n",
    "\n",
    "X_train, X_test, y_train, y_test = train_test_split(\n",
    "    X, y, test_size=0.6, random_state=42, stratify=y)\n",
    "\n",
    "df_balanced_ss_small = pd.concat([X_train, y_train], axis=1)\n",
    "df_balanced_ss_small.head()\n",
    "\n",
    "df_balanced_ss_small.to_csv(\"../data/data_ss_small.csv\", index=False)"
   ]
  },
  {
   "cell_type": "code",
   "execution_count": 10,
   "metadata": {},
   "outputs": [],
   "source": [
    "# faulty generalization\n",
    "y = balanced_df_fg[\"logical_fallacies\"]\n",
    "X = balanced_df_fg[[\"text\", \"dataset\", \"source\"]]\n",
    "\n",
    "X_train, X_test, y_train, y_test = train_test_split(\n",
    "    X, y, test_size=0.6, random_state=42, stratify=y)\n",
    "\n",
    "df_balanced_fg_small = pd.concat([X_train, y_train], axis=1)\n",
    "df_balanced_fg_small.head()\n",
    "\n",
    "df_balanced_fg_small.to_csv(\"../data/data_fg_small.csv\", index=False)"
   ]
  },
  {
   "cell_type": "code",
   "execution_count": 37,
   "metadata": {},
   "outputs": [
    {
     "name": "stdout",
     "output_type": "stream",
     "text": [
      "logical_fallacies\n",
      "none                     358\n",
      "appeal_to_emotion        350\n",
      "ad_hominem               342\n",
      "faulty_generalization    336\n",
      "false_dilemma            334\n",
      "appeal_to_authority      280\n",
      "Name: count, dtype: int64\n"
     ]
    }
   ],
   "source": [
    "## without dataset 3 and with 'faulty_generalization' and without 'slippery slope'\n",
    "\n",
    "# Pick fallacies randomly, but as balanced as possible\n",
    "# Configuration parameters\n",
    "TARGET_SIZE = 2000\n",
    "CLASSES = df_ex3['logical_fallacies'].unique()\n",
    "\n",
    "# Calculate target per class (integer division)\n",
    "target_per_class = TARGET_SIZE // len(CLASSES)\n",
    "\n",
    "# Stratified sampling with undersampling\n",
    "sampled_df_ex3 = []\n",
    "for class_name in CLASSES:\n",
    "    class_dfss = df_ex3[df_ex3['logical_fallacies'] == class_name]\n",
    "    sample_size = min(target_per_class, len(class_dfss))\n",
    "    sampled_df_ex3.append(class_dfss.sample(sample_size, random_state=42))\n",
    "\n",
    "# Handle remaining samples\n",
    "balanced_df_ex3_small = pd.concat(sampled_df_ex3)\n",
    "remaining = TARGET_SIZE - len(balanced_df_ex3_small)\n",
    "\n",
    "if remaining > 0:\n",
    "    extra_samples = df_ex3[~df_ex3.index.isin(balanced_df_ex3_small.index)]\n",
    "    balanced_df_ex3_small = pd.concat([\n",
    "        balanced_df_ex3_small,\n",
    "        extra_samples.sample(remaining, random_state=42)\n",
    "    ])\n",
    "\n",
    "# Final shuffle\n",
    "balanced_df_ex3_small = balanced_df_ex3_small.sample(frac=1, random_state=42).reset_index(drop=True)\n",
    "\n",
    "# Verify distribution\n",
    "print(balanced_df_ex3_small['logical_fallacies'].value_counts())\n",
    "\n",
    "balanced_df_ex3_small.to_csv(\"../data/data_ex3_small.csv\", index=False)"
   ]
  },
  {
   "cell_type": "code",
   "execution_count": 11,
   "metadata": {},
   "outputs": [],
   "source": [
    "# what used to be! \n",
    "\n",
    "# y = balanced_df[\"logical_fallacies\"]\n",
    "# X = balanced_df[[\"text\", \"dataset\", \"source\"]]\n",
    "\n",
    "# X_train, X_test, y_train, y_test = train_test_split(\n",
    "#     X, y, test_size=0.6, random_state=42, stratify=y)\n",
    "\n",
    "# df_balanced_small = pd.concat([X_train, y_train], axis=1)\n",
    "# df_balanced_small.head()\n",
    "\n",
    "# df_balanced_small.to_csv(\"../data/data_small.csv\", index=False)"
   ]
  },
  {
   "cell_type": "markdown",
   "metadata": {},
   "source": [
    "## Generate tiny dataset (100 rows)"
   ]
  },
  {
   "cell_type": "code",
   "execution_count": 12,
   "metadata": {},
   "outputs": [],
   "source": [
    "# Slipery slope\n",
    "number_of_rows = 100\n",
    "RSEED = 42\n",
    "\n",
    "df_ss_tiny = balanced_df_ss.sample(number_of_rows, axis=0, random_state=RSEED)\n",
    "df_ss_tiny.to_csv(\"../data/data_ss_tiny.csv\", index=False)"
   ]
  },
  {
   "cell_type": "code",
   "execution_count": 13,
   "metadata": {},
   "outputs": [],
   "source": [
    "# faulty generalization\n",
    "number_of_rows = 100\n",
    "RSEED = 42\n",
    "\n",
    "df_fg_tiny = balanced_df_fg.sample(number_of_rows, axis=0, random_state=RSEED)\n",
    "df_fg_tiny.to_csv(\"../data/data_fg_tiny.csv\", index=False)"
   ]
  }
 ],
 "metadata": {
  "kernelspec": {
   "display_name": ".venv",
   "language": "python",
   "name": "python3"
  },
  "language_info": {
   "codemirror_mode": {
    "name": "ipython",
    "version": 3
   },
   "file_extension": ".py",
   "mimetype": "text/x-python",
   "name": "python",
   "nbconvert_exporter": "python",
   "pygments_lexer": "ipython3",
   "version": "3.11.3"
  }
 },
 "nbformat": 4,
 "nbformat_minor": 2
}
