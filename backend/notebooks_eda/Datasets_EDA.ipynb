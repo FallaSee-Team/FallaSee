{
 "cells": [
  {
   "cell_type": "markdown",
   "metadata": {},
   "source": [
    "# Generate smaller Datasets"
   ]
  },
  {
   "cell_type": "code",
   "execution_count": 1,
   "metadata": {},
   "outputs": [],
   "source": [
    "import pandas as pd\n",
    "import seaborn as sns\n",
    "from sklearn.model_selection import train_test_split"
   ]
  },
  {
   "cell_type": "code",
   "execution_count": 2,
   "metadata": {},
   "outputs": [
    {
     "data": {
      "text/html": [
       "<div>\n",
       "<style scoped>\n",
       "    .dataframe tbody tr th:only-of-type {\n",
       "        vertical-align: middle;\n",
       "    }\n",
       "\n",
       "    .dataframe tbody tr th {\n",
       "        vertical-align: top;\n",
       "    }\n",
       "\n",
       "    .dataframe thead th {\n",
       "        text-align: right;\n",
       "    }\n",
       "</style>\n",
       "<table border=\"1\" class=\"dataframe\">\n",
       "  <thead>\n",
       "    <tr style=\"text-align: right;\">\n",
       "      <th></th>\n",
       "      <th>dataset</th>\n",
       "      <th>text</th>\n",
       "      <th>logical_fallacies</th>\n",
       "      <th>source</th>\n",
       "    </tr>\n",
       "  </thead>\n",
       "  <tbody>\n",
       "    <tr>\n",
       "      <th>0</th>\n",
       "      <td>1</td>\n",
       "      <td>The World Coal Association disputed the conclu...</td>\n",
       "      <td>false_dilemma</td>\n",
       "      <td>https://www.nytimes.com/2018/10/07/climate/ipc...</td>\n",
       "    </tr>\n",
       "    <tr>\n",
       "      <th>1</th>\n",
       "      <td>1</td>\n",
       "      <td>Refusing to approve the document would place t...</td>\n",
       "      <td>appeal_to_emotion</td>\n",
       "      <td>https://www.nytimes.com/2018/10/07/climate/ipc...</td>\n",
       "    </tr>\n",
       "    <tr>\n",
       "      <th>2</th>\n",
       "      <td>1</td>\n",
       "      <td>At 3 6 degrees of warming the report predicts ...</td>\n",
       "      <td>faulty_generalization</td>\n",
       "      <td>https://www.nytimes.com/2018/10/07/climate/ipc...</td>\n",
       "    </tr>\n",
       "    <tr>\n",
       "      <th>3</th>\n",
       "      <td>1</td>\n",
       "      <td>Scribbler and Beckwith said the anomalies were...</td>\n",
       "      <td>faulty_generalization</td>\n",
       "      <td>https://www.independent.co.uk/news/science/cli...</td>\n",
       "    </tr>\n",
       "    <tr>\n",
       "      <th>4</th>\n",
       "      <td>1</td>\n",
       "      <td>Meanwhile Mr Beckwith confirmed the changes wo...</td>\n",
       "      <td>appeal_to_emotion</td>\n",
       "      <td>https://www.independent.co.uk/news/science/cli...</td>\n",
       "    </tr>\n",
       "  </tbody>\n",
       "</table>\n",
       "</div>"
      ],
      "text/plain": [
       "   dataset                                               text   \n",
       "0        1  The World Coal Association disputed the conclu...  \\\n",
       "1        1  Refusing to approve the document would place t...   \n",
       "2        1  At 3 6 degrees of warming the report predicts ...   \n",
       "3        1  Scribbler and Beckwith said the anomalies were...   \n",
       "4        1  Meanwhile Mr Beckwith confirmed the changes wo...   \n",
       "\n",
       "       logical_fallacies                                             source  \n",
       "0          false_dilemma  https://www.nytimes.com/2018/10/07/climate/ipc...  \n",
       "1      appeal_to_emotion  https://www.nytimes.com/2018/10/07/climate/ipc...  \n",
       "2  faulty_generalization  https://www.nytimes.com/2018/10/07/climate/ipc...  \n",
       "3  faulty_generalization  https://www.independent.co.uk/news/science/cli...  \n",
       "4      appeal_to_emotion  https://www.independent.co.uk/news/science/cli...  "
      ]
     },
     "execution_count": 2,
     "metadata": {},
     "output_type": "execute_result"
    }
   ],
   "source": [
    "df = pd.read_csv(\"../data/data.csv\")\n",
    "df.head()"
   ]
  },
  {
   "cell_type": "code",
   "execution_count": 3,
   "metadata": {},
   "outputs": [
    {
     "data": {
      "text/html": [
       "<div>\n",
       "<style scoped>\n",
       "    .dataframe tbody tr th:only-of-type {\n",
       "        vertical-align: middle;\n",
       "    }\n",
       "\n",
       "    .dataframe tbody tr th {\n",
       "        vertical-align: top;\n",
       "    }\n",
       "\n",
       "    .dataframe thead th {\n",
       "        text-align: right;\n",
       "    }\n",
       "</style>\n",
       "<table border=\"1\" class=\"dataframe\">\n",
       "  <thead>\n",
       "    <tr style=\"text-align: right;\">\n",
       "      <th></th>\n",
       "      <th>dataset</th>\n",
       "      <th>text</th>\n",
       "      <th>logical_fallacies</th>\n",
       "      <th>source</th>\n",
       "    </tr>\n",
       "  </thead>\n",
       "  <tbody>\n",
       "    <tr>\n",
       "      <th>0</th>\n",
       "      <td>1</td>\n",
       "      <td>The World Coal Association disputed the conclu...</td>\n",
       "      <td>false_dilemma</td>\n",
       "      <td>https://www.nytimes.com/2018/10/07/climate/ipc...</td>\n",
       "    </tr>\n",
       "    <tr>\n",
       "      <th>1</th>\n",
       "      <td>1</td>\n",
       "      <td>Refusing to approve the document would place t...</td>\n",
       "      <td>appeal_to_emotion</td>\n",
       "      <td>https://www.nytimes.com/2018/10/07/climate/ipc...</td>\n",
       "    </tr>\n",
       "    <tr>\n",
       "      <th>4</th>\n",
       "      <td>1</td>\n",
       "      <td>Meanwhile Mr Beckwith confirmed the changes wo...</td>\n",
       "      <td>appeal_to_emotion</td>\n",
       "      <td>https://www.independent.co.uk/news/science/cli...</td>\n",
       "    </tr>\n",
       "    <tr>\n",
       "      <th>5</th>\n",
       "      <td>1</td>\n",
       "      <td>We must declare a global climate emergency</td>\n",
       "      <td>appeal_to_emotion</td>\n",
       "      <td>https://www.independent.co.uk/news/science/cli...</td>\n",
       "    </tr>\n",
       "    <tr>\n",
       "      <th>6</th>\n",
       "      <td>1</td>\n",
       "      <td>Some plants and wildlife taking their thermal ...</td>\n",
       "      <td>appeal_to_emotion</td>\n",
       "      <td>https://www.npr.org/2018/07/23/630181622/sprin...</td>\n",
       "    </tr>\n",
       "    <tr>\n",
       "      <th>...</th>\n",
       "      <td>...</td>\n",
       "      <td>...</td>\n",
       "      <td>...</td>\n",
       "      <td>...</td>\n",
       "    </tr>\n",
       "    <tr>\n",
       "      <th>11735</th>\n",
       "      <td>9</td>\n",
       "      <td>I could call the heads of Wall Street the head...</td>\n",
       "      <td>slippery_slope</td>\n",
       "      <td>NaN</td>\n",
       "    </tr>\n",
       "    <tr>\n",
       "      <th>11736</th>\n",
       "      <td>9</td>\n",
       "      <td>They d impose the Green New Deal which would c...</td>\n",
       "      <td>slippery_slope</td>\n",
       "      <td>NaN</td>\n",
       "    </tr>\n",
       "    <tr>\n",
       "      <th>11737</th>\n",
       "      <td>9</td>\n",
       "      <td>that once you do this follow this course of ac...</td>\n",
       "      <td>slippery_slope</td>\n",
       "      <td>NaN</td>\n",
       "    </tr>\n",
       "    <tr>\n",
       "      <th>11738</th>\n",
       "      <td>9</td>\n",
       "      <td>I don t believe that Hillary has the stamina</td>\n",
       "      <td>ad_hominem</td>\n",
       "      <td>NaN</td>\n",
       "    </tr>\n",
       "    <tr>\n",
       "      <th>11739</th>\n",
       "      <td>9</td>\n",
       "      <td>But Hillary Clinton wanted the wall</td>\n",
       "      <td>ad_hominem</td>\n",
       "      <td>NaN</td>\n",
       "    </tr>\n",
       "  </tbody>\n",
       "</table>\n",
       "<p>10393 rows × 4 columns</p>\n",
       "</div>"
      ],
      "text/plain": [
       "       dataset                                               text   \n",
       "0            1  The World Coal Association disputed the conclu...  \\\n",
       "1            1  Refusing to approve the document would place t...   \n",
       "4            1  Meanwhile Mr Beckwith confirmed the changes wo...   \n",
       "5            1         We must declare a global climate emergency   \n",
       "6            1  Some plants and wildlife taking their thermal ...   \n",
       "...        ...                                                ...   \n",
       "11735        9  I could call the heads of Wall Street the head...   \n",
       "11736        9  They d impose the Green New Deal which would c...   \n",
       "11737        9  that once you do this follow this course of ac...   \n",
       "11738        9       I don t believe that Hillary has the stamina   \n",
       "11739        9                But Hillary Clinton wanted the wall   \n",
       "\n",
       "       logical_fallacies                                             source  \n",
       "0          false_dilemma  https://www.nytimes.com/2018/10/07/climate/ipc...  \n",
       "1      appeal_to_emotion  https://www.nytimes.com/2018/10/07/climate/ipc...  \n",
       "4      appeal_to_emotion  https://www.independent.co.uk/news/science/cli...  \n",
       "5      appeal_to_emotion  https://www.independent.co.uk/news/science/cli...  \n",
       "6      appeal_to_emotion  https://www.npr.org/2018/07/23/630181622/sprin...  \n",
       "...                  ...                                                ...  \n",
       "11735     slippery_slope                                                NaN  \n",
       "11736     slippery_slope                                                NaN  \n",
       "11737     slippery_slope                                                NaN  \n",
       "11738         ad_hominem                                                NaN  \n",
       "11739         ad_hominem                                                NaN  \n",
       "\n",
       "[10393 rows x 4 columns]"
      ]
     },
     "execution_count": 3,
     "metadata": {},
     "output_type": "execute_result"
    }
   ],
   "source": [
    "# Remove faulty generalization\n",
    "df =df[df[\"logical_fallacies\"] != \"faulty_generalization\"]\n",
    "df"
   ]
  },
  {
   "cell_type": "code",
   "execution_count": 4,
   "metadata": {},
   "outputs": [
    {
     "data": {
      "text/plain": [
       "logical_fallacies\n",
       "none                   5418\n",
       "appeal_to_emotion      1619\n",
       "ad_hominem             1062\n",
       "false_dilemma           941\n",
       "appeal_to_authority     726\n",
       "slippery_slope          627\n",
       "Name: count, dtype: int64"
      ]
     },
     "execution_count": 4,
     "metadata": {},
     "output_type": "execute_result"
    }
   ],
   "source": [
    "df[\"logical_fallacies\"].value_counts()"
   ]
  },
  {
   "cell_type": "markdown",
   "metadata": {},
   "source": [
    "### Add binary fallacy column (fallacy vs no fallacy)"
   ]
  },
  {
   "cell_type": "code",
   "execution_count": 5,
   "metadata": {},
   "outputs": [],
   "source": [
    "def binary_classification(x):\n",
    "    if x == 'none':\n",
    "        return 'none'\n",
    "    else:\n",
    "        return 'fallacy'"
   ]
  },
  {
   "cell_type": "code",
   "execution_count": 6,
   "metadata": {},
   "outputs": [
    {
     "data": {
      "text/plain": [
       "(10393, 5)"
      ]
     },
     "execution_count": 6,
     "metadata": {},
     "output_type": "execute_result"
    }
   ],
   "source": [
    "df['two_class_target'] = df['logical_fallacies'].apply(binary_classification)\n",
    "df.shape"
   ]
  },
  {
   "cell_type": "markdown",
   "metadata": {},
   "source": [
    "### Dataset with val for creating larger datasets"
   ]
  },
  {
   "cell_type": "code",
   "execution_count": 7,
   "metadata": {},
   "outputs": [],
   "source": [
    "df_large = df.copy()"
   ]
  },
  {
   "cell_type": "markdown",
   "metadata": {},
   "source": [
    "### Validation set"
   ]
  },
  {
   "cell_type": "code",
   "execution_count": 8,
   "metadata": {},
   "outputs": [],
   "source": [
    "def get_stratified_samples(df):\n",
    "    df_current = pd.DataFrame([])\n",
    "    for fallacies in df[\"logical_fallacies\"].unique():\n",
    "        if fallacies == \"slippery_slope\":\n",
    "            n = 100 \n",
    "        else:\n",
    "            n = 250\n",
    "\n",
    "        df_fallacy = df[df[\"logical_fallacies\"] == fallacies]\n",
    "        df_fallacy = df_fallacy.sample(n=n, random_state=42)\n",
    "        df_current = pd.concat([df_current, df_fallacy], ignore_index=True)\n",
    "  \n",
    "    return df_current"
   ]
  },
  {
   "cell_type": "code",
   "execution_count": 9,
   "metadata": {},
   "outputs": [],
   "source": [
    "df_val = get_stratified_samples(df)"
   ]
  },
  {
   "cell_type": "code",
   "execution_count": 10,
   "metadata": {},
   "outputs": [
    {
     "data": {
      "text/plain": [
       "logical_fallacies\n",
       "false_dilemma          250\n",
       "appeal_to_emotion      250\n",
       "ad_hominem             250\n",
       "none                   250\n",
       "appeal_to_authority    250\n",
       "slippery_slope         100\n",
       "Name: count, dtype: int64"
      ]
     },
     "execution_count": 10,
     "metadata": {},
     "output_type": "execute_result"
    }
   ],
   "source": [
    "df_val[\"logical_fallacies\"].value_counts()"
   ]
  },
  {
   "cell_type": "code",
   "execution_count": 11,
   "metadata": {},
   "outputs": [],
   "source": [
    "df_val.to_csv(\"../data/data_val.csv\", index=False)"
   ]
  },
  {
   "cell_type": "markdown",
   "metadata": {},
   "source": [
    "### Remove validation set from df"
   ]
  },
  {
   "cell_type": "code",
   "execution_count": 12,
   "metadata": {},
   "outputs": [
    {
     "data": {
      "text/plain": [
       "(9043, 5)"
      ]
     },
     "execution_count": 12,
     "metadata": {},
     "output_type": "execute_result"
    }
   ],
   "source": [
    "df = pd.concat([df, df_val], ignore_index=True)\n",
    "df = df.drop_duplicates(keep=False)\n",
    "df.shape"
   ]
  },
  {
   "cell_type": "markdown",
   "metadata": {},
   "source": [
    "We want to have:\n",
    "- binary dataset with fallacy vs none\n",
    "- multiclass slippery slope with none\n",
    "- multiclass slippery slope without none\n",
    "- binary with ad hominem and appeal to emotion"
   ]
  },
  {
   "cell_type": "markdown",
   "metadata": {},
   "source": [
    "### Get balanced binary dataset"
   ]
  },
  {
   "cell_type": "code",
   "execution_count": 13,
   "metadata": {},
   "outputs": [
    {
     "data": {
      "text/plain": [
       "two_class_target\n",
       "none       5168\n",
       "fallacy    3875\n",
       "Name: count, dtype: int64"
      ]
     },
     "execution_count": 13,
     "metadata": {},
     "output_type": "execute_result"
    }
   ],
   "source": [
    "df[\"two_class_target\"].value_counts()"
   ]
  },
  {
   "cell_type": "code",
   "execution_count": 14,
   "metadata": {},
   "outputs": [],
   "source": [
    "def get_balanced_binary(df):\n",
    "    df_current = pd.DataFrame([])\n",
    "    for fallacies in df[\"two_class_target\"].unique():\n",
    "        df_fallacy = df[df[\"two_class_target\"] == fallacies]\n",
    "        df_fallacy = df_fallacy.sample(n=3875, random_state=42)\n",
    "        df_current = pd.concat([df_current, df_fallacy], ignore_index=True)\n",
    "  \n",
    "    return df_current"
   ]
  },
  {
   "cell_type": "code",
   "execution_count": 15,
   "metadata": {},
   "outputs": [],
   "source": [
    "df_binary = get_balanced_binary(df)"
   ]
  },
  {
   "cell_type": "code",
   "execution_count": 16,
   "metadata": {},
   "outputs": [
    {
     "data": {
      "text/plain": [
       "two_class_target\n",
       "fallacy    3875\n",
       "none       3875\n",
       "Name: count, dtype: int64"
      ]
     },
     "execution_count": 16,
     "metadata": {},
     "output_type": "execute_result"
    }
   ],
   "source": [
    "df_binary[\"two_class_target\"].value_counts()"
   ]
  },
  {
   "cell_type": "code",
   "execution_count": 17,
   "metadata": {},
   "outputs": [],
   "source": [
    "df_binary.to_csv(\"../data/data_binary.csv\", index=False)"
   ]
  },
  {
   "cell_type": "markdown",
   "metadata": {},
   "source": [
    "### Get imbalanced binary dataset"
   ]
  },
  {
   "cell_type": "code",
   "execution_count": 18,
   "metadata": {},
   "outputs": [],
   "source": [
    "def get_imbalanced_binary(df):\n",
    "    df_current = pd.DataFrame([])\n",
    "    for fallacies in df[\"two_class_target\"].unique():\n",
    "        if fallacies == \"none\":\n",
    "            n = 5168\n",
    "        else:\n",
    "            n = 1000\n",
    "        df_fallacy = df[df[\"two_class_target\"] == fallacies]\n",
    "        df_fallacy = df_fallacy.sample(n=n, random_state=42)\n",
    "        df_current = pd.concat([df_current, df_fallacy], ignore_index=True)\n",
    "  \n",
    "    return df_current"
   ]
  },
  {
   "cell_type": "code",
   "execution_count": 19,
   "metadata": {},
   "outputs": [],
   "source": [
    "df_binary_imbalanced = get_imbalanced_binary(df)"
   ]
  },
  {
   "cell_type": "code",
   "execution_count": 20,
   "metadata": {},
   "outputs": [
    {
     "data": {
      "text/plain": [
       "two_class_target\n",
       "none       5168\n",
       "fallacy    1000\n",
       "Name: count, dtype: int64"
      ]
     },
     "execution_count": 20,
     "metadata": {},
     "output_type": "execute_result"
    }
   ],
   "source": [
    "df_binary_imbalanced[\"two_class_target\"].value_counts()"
   ]
  },
  {
   "cell_type": "code",
   "execution_count": 21,
   "metadata": {},
   "outputs": [],
   "source": [
    "df_binary_imbalanced.to_csv(\"../data/data_binary_imbalanced.csv\", index=False)"
   ]
  },
  {
   "cell_type": "markdown",
   "metadata": {},
   "source": [
    "### Multiclass with slippery slope and none"
   ]
  },
  {
   "cell_type": "code",
   "execution_count": 22,
   "metadata": {},
   "outputs": [
    {
     "data": {
      "text/plain": [
       "logical_fallacies\n",
       "none                   5168\n",
       "appeal_to_emotion      1369\n",
       "ad_hominem              812\n",
       "false_dilemma           691\n",
       "slippery_slope          527\n",
       "appeal_to_authority     476\n",
       "Name: count, dtype: int64"
      ]
     },
     "execution_count": 22,
     "metadata": {},
     "output_type": "execute_result"
    }
   ],
   "source": [
    "df[\"logical_fallacies\"].value_counts()"
   ]
  },
  {
   "cell_type": "code",
   "execution_count": 23,
   "metadata": {},
   "outputs": [
    {
     "name": "stdout",
     "output_type": "stream",
     "text": [
      "logical_fallacies\n",
      "appeal_to_emotion      579\n",
      "false_dilemma          543\n",
      "ad_hominem             542\n",
      "none                   533\n",
      "slippery_slope         527\n",
      "appeal_to_authority    476\n",
      "Name: count, dtype: int64\n"
     ]
    }
   ],
   "source": [
    "# Pick fallacies randomly, but as balanced as possible\n",
    "# Configuration parameters\n",
    "TARGET_SIZE = 3200\n",
    "CLASSES = df['logical_fallacies'].unique()\n",
    "\n",
    "# Calculate target per class (integer division)\n",
    "target_per_class = TARGET_SIZE // len(CLASSES)\n",
    "\n",
    "# Stratified sampling with undersampling\n",
    "sampled_dfs = []\n",
    "for class_name in CLASSES:\n",
    "    class_df = df[df['logical_fallacies'] == class_name]\n",
    "    sample_size = min(target_per_class, len(class_df))\n",
    "    sampled_dfs.append(class_df.sample(sample_size, random_state=42))\n",
    "\n",
    "# Handle remaining samples\n",
    "balanced_df = pd.concat(sampled_dfs)\n",
    "remaining = TARGET_SIZE - len(balanced_df)\n",
    "\n",
    "if remaining > 0:\n",
    "    extra_samples = df[~df.index.isin(balanced_df.index)]\n",
    "    extra_samples = extra_samples[extra_samples[\"logical_fallacies\"] != \"none\"]\n",
    "    balanced_df = pd.concat([\n",
    "        balanced_df,\n",
    "        extra_samples.sample(remaining, random_state=42)\n",
    "    ])\n",
    "\n",
    "# Final shuffle\n",
    "balanced_df = balanced_df.sample(frac=1, random_state=42).reset_index(drop=True)\n",
    "\n",
    "# remove the nons \n",
    "# balanced_df_ex_none = balanced_df[balanced_df['logical_fallacies'] != 'none']\n",
    "\n",
    "# Verify distribution\n",
    "print(balanced_df['logical_fallacies'].value_counts())"
   ]
  },
  {
   "cell_type": "code",
   "execution_count": 24,
   "metadata": {},
   "outputs": [],
   "source": [
    "balanced_df.to_csv(\"../data/data_multiclass_with_none.csv\", index=False)"
   ]
  },
  {
   "cell_type": "markdown",
   "metadata": {},
   "source": [
    "### Multiclass with slippery slope and none with validation dataset"
   ]
  },
  {
   "cell_type": "code",
   "execution_count": 25,
   "metadata": {},
   "outputs": [
    {
     "data": {
      "text/plain": [
       "logical_fallacies\n",
       "none                   5418\n",
       "appeal_to_emotion      1619\n",
       "ad_hominem             1062\n",
       "false_dilemma           941\n",
       "appeal_to_authority     726\n",
       "slippery_slope          627\n",
       "Name: count, dtype: int64"
      ]
     },
     "execution_count": 25,
     "metadata": {},
     "output_type": "execute_result"
    }
   ],
   "source": [
    "df_large[\"logical_fallacies\"].value_counts()"
   ]
  },
  {
   "cell_type": "code",
   "execution_count": 26,
   "metadata": {},
   "outputs": [
    {
     "name": "stdout",
     "output_type": "stream",
     "text": [
      "logical_fallacies\n",
      "appeal_to_emotion      846\n",
      "ad_hominem             778\n",
      "false_dilemma          773\n",
      "none                   750\n",
      "appeal_to_authority    726\n",
      "slippery_slope         627\n",
      "Name: count, dtype: int64\n"
     ]
    }
   ],
   "source": [
    "# Pick fallacies randomly, but as balanced as possible\n",
    "# Configuration parameters\n",
    "TARGET_SIZE = 4500\n",
    "CLASSES = df_large['logical_fallacies'].unique()\n",
    "\n",
    "# Calculate target per class (integer division)\n",
    "target_per_class = TARGET_SIZE // len(CLASSES)\n",
    "\n",
    "# Stratified sampling with undersampling\n",
    "sampled_dfs = []\n",
    "for class_name in CLASSES:\n",
    "    class_df = df_large[df_large['logical_fallacies'] == class_name]\n",
    "    sample_size = min(target_per_class, len(class_df))\n",
    "    sampled_dfs.append(class_df.sample(sample_size, random_state=42))\n",
    "\n",
    "# Handle remaining samples\n",
    "balanced_df_large = pd.concat(sampled_dfs)\n",
    "remaining = TARGET_SIZE - len(balanced_df_large)\n",
    "\n",
    "if remaining > 0:\n",
    "    extra_samples = df_large[~df_large.index.isin(balanced_df_large.index)]\n",
    "    extra_samples = extra_samples[extra_samples[\"logical_fallacies\"] != \"none\"]\n",
    "    balanced_df_large = pd.concat([\n",
    "        balanced_df_large,\n",
    "        extra_samples.sample(remaining, random_state=42)\n",
    "    ])\n",
    "\n",
    "# Final shuffle\n",
    "balanced_df_large = balanced_df_large.sample(frac=1, random_state=42).reset_index(drop=True)\n",
    "\n",
    "# Verify distribution\n",
    "print(balanced_df_large['logical_fallacies'].value_counts())"
   ]
  },
  {
   "cell_type": "code",
   "execution_count": 27,
   "metadata": {},
   "outputs": [],
   "source": [
    "balanced_df_large.to_csv(\"../data/data_multiclass_with_none_large.csv\", index=False)"
   ]
  },
  {
   "cell_type": "markdown",
   "metadata": {},
   "source": [
    "### Multiclass with slippery slope without none"
   ]
  },
  {
   "cell_type": "code",
   "execution_count": 28,
   "metadata": {},
   "outputs": [],
   "source": [
    "df_without_none = df[df['logical_fallacies'] != 'none']"
   ]
  },
  {
   "cell_type": "code",
   "execution_count": 29,
   "metadata": {},
   "outputs": [
    {
     "data": {
      "text/plain": [
       "logical_fallacies\n",
       "appeal_to_emotion      1369\n",
       "ad_hominem              812\n",
       "false_dilemma           691\n",
       "slippery_slope          527\n",
       "appeal_to_authority     476\n",
       "Name: count, dtype: int64"
      ]
     },
     "execution_count": 29,
     "metadata": {},
     "output_type": "execute_result"
    }
   ],
   "source": [
    "df_without_none[\"logical_fallacies\"].value_counts()"
   ]
  },
  {
   "cell_type": "code",
   "execution_count": 30,
   "metadata": {},
   "outputs": [
    {
     "name": "stdout",
     "output_type": "stream",
     "text": [
      "logical_fallacies\n",
      "appeal_to_emotion      515\n",
      "false_dilemma          505\n",
      "ad_hominem             503\n",
      "slippery_slope         501\n",
      "appeal_to_authority    476\n",
      "Name: count, dtype: int64\n"
     ]
    }
   ],
   "source": [
    "# Pick fallacies randomly, but as balanced as possible\n",
    "# Configuration parameters\n",
    "TARGET_SIZE = 2500\n",
    "CLASSES = df_without_none['logical_fallacies'].unique()\n",
    "\n",
    "# Calculate target per class (integer division)\n",
    "target_per_class = TARGET_SIZE // len(CLASSES)\n",
    "\n",
    "# Stratified sampling with undersampling\n",
    "sampled_dfs = []\n",
    "for class_name in CLASSES:\n",
    "    class_df = df_without_none[df_without_none['logical_fallacies'] == class_name]\n",
    "    sample_size = min(target_per_class, len(class_df))\n",
    "    sampled_dfs.append(class_df.sample(sample_size, random_state=42))\n",
    "\n",
    "# Handle remaining samples\n",
    "balanced_df = pd.concat(sampled_dfs)\n",
    "remaining = TARGET_SIZE - len(balanced_df)\n",
    "\n",
    "if remaining > 0:\n",
    "    extra_samples = df_without_none[~df_without_none.index.isin(balanced_df.index)]\n",
    "    extra_samples = extra_samples[extra_samples[\"logical_fallacies\"] != \"none\"]\n",
    "    balanced_df = pd.concat([\n",
    "        balanced_df,\n",
    "        extra_samples.sample(remaining, random_state=42)\n",
    "    ])\n",
    "\n",
    "# Final shuffle\n",
    "balanced_df_without_none = balanced_df.sample(frac=1, random_state=42).reset_index(drop=True)\n",
    "\n",
    "# Verify distribution\n",
    "print(balanced_df_without_none['logical_fallacies'].value_counts())"
   ]
  },
  {
   "cell_type": "code",
   "execution_count": 31,
   "metadata": {},
   "outputs": [],
   "source": [
    "balanced_df_without_none.to_csv(\"../data/data_multiclass_without_none.csv\", index=False)"
   ]
  },
  {
   "cell_type": "markdown",
   "metadata": {},
   "source": [
    "### Binary dataset with ad hominem and appeal to emotion"
   ]
  },
  {
   "cell_type": "code",
   "execution_count": 32,
   "metadata": {},
   "outputs": [],
   "source": [
    "def get_balanced_binary_new(df):\n",
    "    df_current = pd.DataFrame([])\n",
    "    for fallacies in [\"appeal_to_emotion\", \"ad_hominem\"]:\n",
    "        df_fallacy = df[df[\"logical_fallacies\"] == fallacies]\n",
    "        df_fallacy = df_fallacy.sample(n=812, random_state=42)\n",
    "        df_current = pd.concat([df_current, df_fallacy], ignore_index=True)\n",
    "  \n",
    "    return df_current"
   ]
  },
  {
   "cell_type": "code",
   "execution_count": 33,
   "metadata": {},
   "outputs": [],
   "source": [
    "df_binary_new = get_balanced_binary_new(df)"
   ]
  },
  {
   "cell_type": "code",
   "execution_count": 34,
   "metadata": {},
   "outputs": [
    {
     "data": {
      "text/plain": [
       "logical_fallacies\n",
       "appeal_to_emotion    812\n",
       "ad_hominem           812\n",
       "Name: count, dtype: int64"
      ]
     },
     "execution_count": 34,
     "metadata": {},
     "output_type": "execute_result"
    }
   ],
   "source": [
    "df_binary_new[\"logical_fallacies\"].value_counts()"
   ]
  },
  {
   "cell_type": "code",
   "execution_count": 35,
   "metadata": {},
   "outputs": [],
   "source": [
    "df_binary_new.to_csv(\"../data/data_binary_emotion_hominem.csv\", index=False)"
   ]
  },
  {
   "cell_type": "markdown",
   "metadata": {},
   "source": [
    "## Generate tiny dataset (100 rows)"
   ]
  },
  {
   "cell_type": "code",
   "execution_count": 36,
   "metadata": {},
   "outputs": [],
   "source": [
    "# Slipery slope\n",
    "number_of_rows = 100\n",
    "RSEED = 42\n",
    "\n",
    "df_tiny = df.sample(number_of_rows, axis=0, random_state=RSEED)\n",
    "df_tiny.to_csv(\"../data/data_tiny.csv\", index=False)"
   ]
  }
 ],
 "metadata": {
  "kernelspec": {
   "display_name": ".venv",
   "language": "python",
   "name": "python3"
  },
  "language_info": {
   "codemirror_mode": {
    "name": "ipython",
    "version": 3
   },
   "file_extension": ".py",
   "mimetype": "text/x-python",
   "name": "python",
   "nbconvert_exporter": "python",
   "pygments_lexer": "ipython3",
   "version": "3.11.3"
  }
 },
 "nbformat": 4,
 "nbformat_minor": 2
}
