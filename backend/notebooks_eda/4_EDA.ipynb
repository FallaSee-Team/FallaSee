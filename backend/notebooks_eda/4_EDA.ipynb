{
 "cells": [
  {
   "cell_type": "code",
   "execution_count": 3,
   "id": "dd8bc293-70e6-4f55-aa2b-8b3bdf574bae",
   "metadata": {
    "tags": []
   },
   "outputs": [
    {
     "data": {
      "text/html": [
       "<div>\n",
       "<style scoped>\n",
       "    .dataframe tbody tr th:only-of-type {\n",
       "        vertical-align: middle;\n",
       "    }\n",
       "\n",
       "    .dataframe tbody tr th {\n",
       "        vertical-align: top;\n",
       "    }\n",
       "\n",
       "    .dataframe thead th {\n",
       "        text-align: right;\n",
       "    }\n",
       "</style>\n",
       "<table border=\"1\" class=\"dataframe\">\n",
       "  <thead>\n",
       "    <tr style=\"text-align: right;\">\n",
       "      <th></th>\n",
       "      <th>annotation_id</th>\n",
       "      <th>annotator</th>\n",
       "      <th>component_id</th>\n",
       "      <th>created_at</th>\n",
       "      <th>fallacy</th>\n",
       "      <th>id</th>\n",
       "      <th>lead_time</th>\n",
       "      <th>main_tweet</th>\n",
       "      <th>new_id</th>\n",
       "      <th>posterior_context</th>\n",
       "      <th>previous_context</th>\n",
       "      <th>updated_at</th>\n",
       "    </tr>\n",
       "  </thead>\n",
       "  <tbody>\n",
       "    <tr>\n",
       "      <th>0</th>\n",
       "      <td>3471</td>\n",
       "      <td>3</td>\n",
       "      <td>249</td>\n",
       "      <td>2024-06-20T09:44:30.875808Z</td>\n",
       "      <td>{\"choices\":[\"Loaded Language\",\"Appeal to Ridic...</td>\n",
       "      <td>8418</td>\n",
       "      <td>1659.959</td>\n",
       "      <td>[main_tweet] [user47446]: @user @user @user ye...</td>\n",
       "      <td>106213</td>\n",
       "      <td>[context] [user104337]: @user @user ... @user...</td>\n",
       "      <td>NaN</td>\n",
       "      <td>2024-06-20T09:44:30.875831Z</td>\n",
       "    </tr>\n",
       "    <tr>\n",
       "      <th>1</th>\n",
       "      <td>3472</td>\n",
       "      <td>3</td>\n",
       "      <td>249</td>\n",
       "      <td>2024-06-20T09:46:54.742790Z</td>\n",
       "      <td>{\"choices\":[\"Appeal to Ridicule\",\"Hasty Genera...</td>\n",
       "      <td>8419</td>\n",
       "      <td>143.362</td>\n",
       "      <td>[main_tweet] [user1779]: @user @user ... @user...</td>\n",
       "      <td>83274</td>\n",
       "      <td>[context] [user47446]: @user @user ... @user ...</td>\n",
       "      <td>[context] [user104337]: @user @user ... @user ...</td>\n",
       "      <td>2024-06-20T09:46:54.742822Z</td>\n",
       "    </tr>\n",
       "    <tr>\n",
       "      <th>2</th>\n",
       "      <td>3473</td>\n",
       "      <td>3</td>\n",
       "      <td>249</td>\n",
       "      <td>2024-06-20T09:51:19.948042Z</td>\n",
       "      <td>Ad Hominem</td>\n",
       "      <td>8420</td>\n",
       "      <td>264.776</td>\n",
       "      <td>[main_tweet] [user1779]: @user @user ... @user...</td>\n",
       "      <td>144789</td>\n",
       "      <td>[context] [user47446]: @user @user ... @user ...</td>\n",
       "      <td>[context] [user1779]: @user @user ... @user ex...</td>\n",
       "      <td>2024-06-20T09:51:19.948065Z</td>\n",
       "    </tr>\n",
       "    <tr>\n",
       "      <th>3</th>\n",
       "      <td>3474</td>\n",
       "      <td>3</td>\n",
       "      <td>249</td>\n",
       "      <td>2024-06-20T09:52:20.700055Z</td>\n",
       "      <td>Appeal to Fear</td>\n",
       "      <td>8421</td>\n",
       "      <td>60.417</td>\n",
       "      <td>[main_tweet] [user79987]: @user @user ... @use...</td>\n",
       "      <td>124804</td>\n",
       "      <td>[context] [user47446]: @user @user ... @user ...</td>\n",
       "      <td>[context] [user79987]: @user @user ... @user H...</td>\n",
       "      <td>2024-06-20T09:52:20.700078Z</td>\n",
       "    </tr>\n",
       "    <tr>\n",
       "      <th>4</th>\n",
       "      <td>3475</td>\n",
       "      <td>3</td>\n",
       "      <td>249</td>\n",
       "      <td>2024-06-25T12:05:12.267556Z</td>\n",
       "      <td>Hasty Generalization</td>\n",
       "      <td>8422</td>\n",
       "      <td>301.410</td>\n",
       "      <td>[main_tweet] [user104337]: @user @user ... @us...</td>\n",
       "      <td>144792</td>\n",
       "      <td>[context] [user47446]: @user @user ... @user ...</td>\n",
       "      <td>[context] [user79987]: @user @user ... @user A...</td>\n",
       "      <td>2024-06-25T12:05:12.267581Z</td>\n",
       "    </tr>\n",
       "  </tbody>\n",
       "</table>\n",
       "</div>"
      ],
      "text/plain": [
       "   annotation_id  annotator  component_id                   created_at   \n",
       "0           3471          3           249  2024-06-20T09:44:30.875808Z  \\\n",
       "1           3472          3           249  2024-06-20T09:46:54.742790Z   \n",
       "2           3473          3           249  2024-06-20T09:51:19.948042Z   \n",
       "3           3474          3           249  2024-06-20T09:52:20.700055Z   \n",
       "4           3475          3           249  2024-06-25T12:05:12.267556Z   \n",
       "\n",
       "                                             fallacy    id  lead_time   \n",
       "0  {\"choices\":[\"Loaded Language\",\"Appeal to Ridic...  8418   1659.959  \\\n",
       "1  {\"choices\":[\"Appeal to Ridicule\",\"Hasty Genera...  8419    143.362   \n",
       "2                                         Ad Hominem  8420    264.776   \n",
       "3                                     Appeal to Fear  8421     60.417   \n",
       "4                               Hasty Generalization  8422    301.410   \n",
       "\n",
       "                                          main_tweet  new_id   \n",
       "0  [main_tweet] [user47446]: @user @user @user ye...  106213  \\\n",
       "1  [main_tweet] [user1779]: @user @user ... @user...   83274   \n",
       "2  [main_tweet] [user1779]: @user @user ... @user...  144789   \n",
       "3  [main_tweet] [user79987]: @user @user ... @use...  124804   \n",
       "4  [main_tweet] [user104337]: @user @user ... @us...  144792   \n",
       "\n",
       "                                   posterior_context   \n",
       "0   [context] [user104337]: @user @user ... @user...  \\\n",
       "1   [context] [user47446]: @user @user ... @user ...   \n",
       "2   [context] [user47446]: @user @user ... @user ...   \n",
       "3   [context] [user47446]: @user @user ... @user ...   \n",
       "4   [context] [user47446]: @user @user ... @user ...   \n",
       "\n",
       "                                    previous_context   \n",
       "0                                                NaN  \\\n",
       "1  [context] [user104337]: @user @user ... @user ...   \n",
       "2  [context] [user1779]: @user @user ... @user ex...   \n",
       "3  [context] [user79987]: @user @user ... @user H...   \n",
       "4  [context] [user79987]: @user @user ... @user A...   \n",
       "\n",
       "                    updated_at  \n",
       "0  2024-06-20T09:44:30.875831Z  \n",
       "1  2024-06-20T09:46:54.742822Z  \n",
       "2  2024-06-20T09:51:19.948065Z  \n",
       "3  2024-06-20T09:52:20.700078Z  \n",
       "4  2024-06-25T12:05:12.267581Z  "
      ]
     },
     "execution_count": 3,
     "metadata": {},
     "output_type": "execute_result"
    }
   ],
   "source": [
    "import pandas as pd\n",
    "import numpy as np\n",
    "import matplotlib.pyplot as plt\n",
    "import seaborn as sns\n",
    "\n",
    "df = pd.read_csv(\"../data/falcon_annotations_multiple2_annotator2.csv\", sep= \",\")\n",
    "df.head()"
   ]
  },
  {
   "cell_type": "code",
   "execution_count": 4,
   "id": "d19f8bcd-0bab-4ff1-9fe8-53039a6c9690",
   "metadata": {
    "tags": []
   },
   "outputs": [
    {
     "data": {
      "text/plain": [
       "Index(['annotation_id', 'annotator', 'component_id', 'created_at', 'fallacy',\n",
       "       'id', 'lead_time', 'main_tweet', 'new_id', 'posterior_context',\n",
       "       'previous_context', 'updated_at'],\n",
       "      dtype='object')"
      ]
     },
     "execution_count": 4,
     "metadata": {},
     "output_type": "execute_result"
    }
   ],
   "source": [
    "df.columns"
   ]
  },
  {
   "cell_type": "code",
   "execution_count": 6,
   "id": "3598942c-d644-4e7b-8569-651db879000a",
   "metadata": {
    "tags": []
   },
   "outputs": [
    {
     "data": {
      "text/plain": [
       "(50, 12)"
      ]
     },
     "execution_count": 6,
     "metadata": {},
     "output_type": "execute_result"
    }
   ],
   "source": [
    "df.shape"
   ]
  },
  {
   "cell_type": "code",
   "execution_count": 7,
   "id": "86479a3d-2e80-47c5-9477-c563b696040a",
   "metadata": {
    "tags": []
   },
   "outputs": [
    {
     "name": "stdout",
     "output_type": "stream",
     "text": [
      "<class 'pandas.core.frame.DataFrame'>\n",
      "RangeIndex: 50 entries, 0 to 49\n",
      "Data columns (total 12 columns):\n",
      " #   Column             Non-Null Count  Dtype  \n",
      "---  ------             --------------  -----  \n",
      " 0   annotation_id      50 non-null     int64  \n",
      " 1   annotator          50 non-null     int64  \n",
      " 2   component_id       50 non-null     int64  \n",
      " 3   created_at         50 non-null     object \n",
      " 4   fallacy            50 non-null     object \n",
      " 5   id                 50 non-null     int64  \n",
      " 6   lead_time          50 non-null     float64\n",
      " 7   main_tweet         50 non-null     object \n",
      " 8   new_id             50 non-null     int64  \n",
      " 9   posterior_context  24 non-null     object \n",
      " 10  previous_context   25 non-null     object \n",
      " 11  updated_at         50 non-null     object \n",
      "dtypes: float64(1), int64(5), object(6)\n",
      "memory usage: 4.8+ KB\n"
     ]
    }
   ],
   "source": [
    "df.info()"
   ]
  },
  {
   "cell_type": "code",
   "execution_count": 9,
   "id": "e1995aaa-529d-4e12-aca2-730900d6aa89",
   "metadata": {
    "tags": []
   },
   "outputs": [
    {
     "data": {
      "text/plain": [
       "array(['{\"choices\":[\"Loaded Language\",\"Appeal to Ridicule\",\"Ad Hominem\",\"False Dilemma\"]}',\n",
       "       '{\"choices\":[\"Appeal to Ridicule\",\"Hasty Generalization\"]}',\n",
       "       'Ad Hominem', 'Appeal to Fear', 'Hasty Generalization',\n",
       "       'None of the above', '{\"choices\":[\"Appeal to Fear\",\"Ad Hominem\"]}',\n",
       "       '{\"choices\":[\"Loaded Language\",\"Appeal to Fear\",\"Appeal to Ridicule\",\"Ad Hominem\"]}',\n",
       "       '{\"choices\":[\"Loaded Language\",\"Hasty Generalization\"]}',\n",
       "       '{\"choices\":[\"Loaded Language\",\"Ad Hominem\"]}', 'False Dilemma',\n",
       "       '{\"choices\":[\"Appeal to Ridicule\",\"False Dilemma\"]}',\n",
       "       'Loaded Language',\n",
       "       '{\"choices\":[\"Appeal to Fear\",\"Hasty Generalization\",\"False Dilemma\"]}',\n",
       "       'Appeal to Ridicule',\n",
       "       '{\"choices\":[\"Appeal to Ridicule\",\"Ad Hominem\"]}',\n",
       "       '{\"choices\":[\"Loaded Language\",\"Appeal to Fear\",\"False Dilemma\"]}',\n",
       "       '{\"choices\":[\"Loaded Language\",\"Ad Hominem\",\"False Dilemma\"]}',\n",
       "       '{\"choices\":[\"Loaded Language\",\"Appeal to Ridicule\",\"Ad Hominem\"]}',\n",
       "       '{\"choices\":[\"Appeal to Fear\",\"Hasty Generalization\",\"Ad Hominem\"]}'],\n",
       "      dtype=object)"
      ]
     },
     "execution_count": 9,
     "metadata": {},
     "output_type": "execute_result"
    }
   ],
   "source": [
    "df.fallacy.unique()"
   ]
  },
  {
   "cell_type": "code",
   "execution_count": 10,
   "id": "19eff72d-0367-4f54-933b-f1202de23798",
   "metadata": {
    "tags": []
   },
   "outputs": [
    {
     "data": {
      "text/plain": [
       "20"
      ]
     },
     "execution_count": 10,
     "metadata": {},
     "output_type": "execute_result"
    }
   ],
   "source": [
    "df.fallacy.nunique()"
   ]
  },
  {
   "cell_type": "code",
   "execution_count": 12,
   "id": "d48ba222-2a3c-41b1-a9d2-c36a84d8dc03",
   "metadata": {
    "tags": []
   },
   "outputs": [
    {
     "data": {
      "text/plain": [
       "annotation_id         0\n",
       "annotator             0\n",
       "component_id          0\n",
       "created_at            0\n",
       "fallacy               0\n",
       "id                    0\n",
       "lead_time             0\n",
       "main_tweet            0\n",
       "new_id                0\n",
       "posterior_context    26\n",
       "previous_context     25\n",
       "updated_at            0\n",
       "dtype: int64"
      ]
     },
     "execution_count": 12,
     "metadata": {},
     "output_type": "execute_result"
    }
   ],
   "source": [
    "df.isnull().sum()"
   ]
  },
  {
   "cell_type": "code",
   "execution_count": 13,
   "id": "82bdb29a-d5d1-4d12-a175-8613a84082df",
   "metadata": {
    "tags": []
   },
   "outputs": [
    {
     "data": {
      "text/plain": [
       "0    [Loaded Language, Appeal to Ridicule, Ad Homin...\n",
       "1           [Appeal to Ridicule, Hasty Generalization]\n",
       "2                                         [Ad Hominem]\n",
       "3                                     [Appeal to Fear]\n",
       "4                               [Hasty Generalization]\n",
       "Name: fallacy_list, dtype: object"
      ]
     },
     "execution_count": 13,
     "metadata": {},
     "output_type": "execute_result"
    }
   ],
   "source": [
    "import ast\n",
    "\n",
    "def extract_fallacies(val):\n",
    "    try:\n",
    "        # If it's a dict-like string, parse and extract the list\n",
    "        if val.startswith('{') and \"choices\" in val:\n",
    "            return ast.literal_eval(val)[\"choices\"]\n",
    "        # Otherwise assume it's a single fallacy\n",
    "        return [val]\n",
    "    except:\n",
    "        return []\n",
    "\n",
    "df[\"fallacy_list\"] = df[\"fallacy\"].apply(extract_fallacies)\n",
    "df[\"fallacy_list\"].head()\n"
   ]
  },
  {
   "cell_type": "code",
   "execution_count": 14,
   "id": "24813151-f748-4021-ba98-60702617594d",
   "metadata": {
    "tags": []
   },
   "outputs": [
    {
     "data": {
      "text/plain": [
       "fallacy_list\n",
       "None of the above       15\n",
       "Loaded Language         13\n",
       "Ad Hominem              13\n",
       "Appeal to Ridicule      10\n",
       "Hasty Generalization    10\n",
       "Appeal to Fear          10\n",
       "False Dilemma            7\n",
       "Name: count, dtype: int64"
      ]
     },
     "execution_count": 14,
     "metadata": {},
     "output_type": "execute_result"
    }
   ],
   "source": [
    "# Explode the list into individual rows\n",
    "fallacy_exploded = df.explode(\"fallacy_list\")\n",
    "\n",
    "# Count frequency of each fallacy\n",
    "fallacy_counts = fallacy_exploded[\"fallacy_list\"].value_counts()\n",
    "\n",
    "# Display the counts\n",
    "fallacy_counts"
   ]
  },
  {
   "cell_type": "code",
   "execution_count": 15,
   "id": "09e8e630-f4ed-406b-a7dd-cb00fa87cc2a",
   "metadata": {
    "tags": []
   },
   "outputs": [
    {
     "data": {
      "image/png": "[encoded data removed]",
      "text/plain": [
       "<Figure size 1000x600 with 1 Axes>"
      ]
     },
     "metadata": {},
     "output_type": "display_data"
    }
   ],
   "source": [
    "import matplotlib.pyplot as plt\n",
    "import seaborn as sns\n",
    "\n",
    "plt.figure(figsize=(10, 6))\n",
    "sns.barplot(x=fallacy_counts.values, y=fallacy_counts.index, palette=\"viridis\")\n",
    "\n",
    "plt.title(\"Fallacy Frequency Distribution\")\n",
    "plt.xlabel(\"Count\")\n",
    "plt.ylabel(\"Fallacy Type\")\n",
    "plt.tight_layout()\n",
    "plt.show()\n"
   ]
  },
  {
   "cell_type": "code",
   "execution_count": 16,
   "id": "daf9ce72-11b6-43c7-83cf-dfe64b3dca62",
   "metadata": {
    "tags": []
   },
   "outputs": [
    {
     "data": {
      "text/html": [
       "<div>\n",
       "<style scoped>\n",
       "    .dataframe tbody tr th:only-of-type {\n",
       "        vertical-align: middle;\n",
       "    }\n",
       "\n",
       "    .dataframe tbody tr th {\n",
       "        vertical-align: top;\n",
       "    }\n",
       "\n",
       "    .dataframe thead th {\n",
       "        text-align: right;\n",
       "    }\n",
       "</style>\n",
       "<table border=\"1\" class=\"dataframe\">\n",
       "  <thead>\n",
       "    <tr style=\"text-align: right;\">\n",
       "      <th></th>\n",
       "      <th>annotator</th>\n",
       "      <th>fallacy</th>\n",
       "      <th>id</th>\n",
       "      <th>lead_time</th>\n",
       "      <th>main_tweet</th>\n",
       "      <th>new_id</th>\n",
       "      <th>posterior_context</th>\n",
       "      <th>previous_context</th>\n",
       "      <th>updated_at</th>\n",
       "      <th>Ad Hominem</th>\n",
       "      <th>Appeal to Fear</th>\n",
       "      <th>Appeal to Ridicule</th>\n",
       "      <th>False Dilemma</th>\n",
       "      <th>Hasty Generalization</th>\n",
       "      <th>Loaded Language</th>\n",
       "      <th>None of the above</th>\n",
       "      <th>component_id</th>\n",
       "    </tr>\n",
       "  </thead>\n",
       "  <tbody>\n",
       "    <tr>\n",
       "      <th>0</th>\n",
       "      <td>1</td>\n",
       "      <td>['None of the above']</td>\n",
       "      <td>5365</td>\n",
       "      <td>51.307</td>\n",
       "      <td>[main_tweet] [user104337]: @user @user ... @us...</td>\n",
       "      <td>144793</td>\n",
       "      <td>[context] [user79987]: @user @user ... @user ...</td>\n",
       "      <td>[context] [user47446]: @user @user @user yeh b...</td>\n",
       "      <td>2024-02-27T12:17:43.890057Z</td>\n",
       "      <td>0</td>\n",
       "      <td>0</td>\n",
       "      <td>0</td>\n",
       "      <td>0</td>\n",
       "      <td>0</td>\n",
       "      <td>0</td>\n",
       "      <td>1</td>\n",
       "      <td>NaN</td>\n",
       "    </tr>\n",
       "    <tr>\n",
       "      <th>1</th>\n",
       "      <td>1</td>\n",
       "      <td>['None of the above']</td>\n",
       "      <td>5366</td>\n",
       "      <td>49.260</td>\n",
       "      <td>[main_tweet] [user79987]: @user @user ... @use...</td>\n",
       "      <td>124801</td>\n",
       "      <td>[context] [user104337]: @user @user ... @user...</td>\n",
       "      <td>[context] [user47446]: @user @user @user yeh b...</td>\n",
       "      <td>2024-02-27T12:18:33.482380Z</td>\n",
       "      <td>0</td>\n",
       "      <td>0</td>\n",
       "      <td>0</td>\n",
       "      <td>0</td>\n",
       "      <td>0</td>\n",
       "      <td>0</td>\n",
       "      <td>1</td>\n",
       "      <td>NaN</td>\n",
       "    </tr>\n",
       "    <tr>\n",
       "      <th>2</th>\n",
       "      <td>1</td>\n",
       "      <td>['None of the above']</td>\n",
       "      <td>5367</td>\n",
       "      <td>64.336</td>\n",
       "      <td>[main_tweet] [user104337]: @user @user ... @us...</td>\n",
       "      <td>83279</td>\n",
       "      <td>[context] [user79987]: @user @user ... @user ...</td>\n",
       "      <td>[context] [user104337]: @user @user ... @user ...</td>\n",
       "      <td>2024-02-27T15:18:53.164245Z</td>\n",
       "      <td>0</td>\n",
       "      <td>0</td>\n",
       "      <td>0</td>\n",
       "      <td>0</td>\n",
       "      <td>0</td>\n",
       "      <td>0</td>\n",
       "      <td>1</td>\n",
       "      <td>NaN</td>\n",
       "    </tr>\n",
       "    <tr>\n",
       "      <th>3</th>\n",
       "      <td>1</td>\n",
       "      <td>['Loaded Language', 'Ad Hominem']</td>\n",
       "      <td>5368</td>\n",
       "      <td>74.861</td>\n",
       "      <td>[main_tweet] [user79987]: @user @user ... @use...</td>\n",
       "      <td>124800</td>\n",
       "      <td>[context] [user1779]: @user @user ... @user f...</td>\n",
       "      <td>[context] [user79987]: @user @user ... @user T...</td>\n",
       "      <td>2024-04-05T09:50:00.162745Z</td>\n",
       "      <td>1</td>\n",
       "      <td>0</td>\n",
       "      <td>0</td>\n",
       "      <td>0</td>\n",
       "      <td>0</td>\n",
       "      <td>1</td>\n",
       "      <td>0</td>\n",
       "      <td>NaN</td>\n",
       "    </tr>\n",
       "    <tr>\n",
       "      <th>4</th>\n",
       "      <td>1</td>\n",
       "      <td>['None of the above']</td>\n",
       "      <td>5370</td>\n",
       "      <td>44.231</td>\n",
       "      <td>[main_tweet] [user47446]: @user @user ... @use...</td>\n",
       "      <td>165415</td>\n",
       "      <td>[context] [user1779]: @user @user ... @user t...</td>\n",
       "      <td>[context] [user79987]: @user @user ... @user T...</td>\n",
       "      <td>2024-02-27T12:21:12.844757Z</td>\n",
       "      <td>0</td>\n",
       "      <td>0</td>\n",
       "      <td>0</td>\n",
       "      <td>0</td>\n",
       "      <td>0</td>\n",
       "      <td>0</td>\n",
       "      <td>1</td>\n",
       "      <td>NaN</td>\n",
       "    </tr>\n",
       "  </tbody>\n",
       "</table>\n",
       "</div>"
      ],
      "text/plain": [
       "   annotator                            fallacy    id  lead_time   \n",
       "0          1              ['None of the above']  5365     51.307  \\\n",
       "1          1              ['None of the above']  5366     49.260   \n",
       "2          1              ['None of the above']  5367     64.336   \n",
       "3          1  ['Loaded Language', 'Ad Hominem']  5368     74.861   \n",
       "4          1              ['None of the above']  5370     44.231   \n",
       "\n",
       "                                          main_tweet  new_id   \n",
       "0  [main_tweet] [user104337]: @user @user ... @us...  144793  \\\n",
       "1  [main_tweet] [user79987]: @user @user ... @use...  124801   \n",
       "2  [main_tweet] [user104337]: @user @user ... @us...   83279   \n",
       "3  [main_tweet] [user79987]: @user @user ... @use...  124800   \n",
       "4  [main_tweet] [user47446]: @user @user ... @use...  165415   \n",
       "\n",
       "                                   posterior_context   \n",
       "0   [context] [user79987]: @user @user ... @user ...  \\\n",
       "1   [context] [user104337]: @user @user ... @user...   \n",
       "2   [context] [user79987]: @user @user ... @user ...   \n",
       "3   [context] [user1779]: @user @user ... @user f...   \n",
       "4   [context] [user1779]: @user @user ... @user t...   \n",
       "\n",
       "                                    previous_context   \n",
       "0  [context] [user47446]: @user @user @user yeh b...  \\\n",
       "1  [context] [user47446]: @user @user @user yeh b...   \n",
       "2  [context] [user104337]: @user @user ... @user ...   \n",
       "3  [context] [user79987]: @user @user ... @user T...   \n",
       "4  [context] [user79987]: @user @user ... @user T...   \n",
       "\n",
       "                    updated_at  Ad Hominem  Appeal to Fear   \n",
       "0  2024-02-27T12:17:43.890057Z           0               0  \\\n",
       "1  2024-02-27T12:18:33.482380Z           0               0   \n",
       "2  2024-02-27T15:18:53.164245Z           0               0   \n",
       "3  2024-04-05T09:50:00.162745Z           1               0   \n",
       "4  2024-02-27T12:21:12.844757Z           0               0   \n",
       "\n",
       "   Appeal to Ridicule  False Dilemma  Hasty Generalization  Loaded Language   \n",
       "0                   0              0                     0                0  \\\n",
       "1                   0              0                     0                0   \n",
       "2                   0              0                     0                0   \n",
       "3                   0              0                     0                1   \n",
       "4                   0              0                     0                0   \n",
       "\n",
       "   None of the above  component_id  \n",
       "0                  1           NaN  \n",
       "1                  1           NaN  \n",
       "2                  1           NaN  \n",
       "3                  0           NaN  \n",
       "4                  1           NaN  "
      ]
     },
     "execution_count": 16,
     "metadata": {},
     "output_type": "execute_result"
    }
   ],
   "source": [
    "\n",
    "df2 = pd.read_csv(\"../data/falcon_df_multilabel_annotations.csv\", sep= \",\")\n",
    "df2.head()"
   ]
  },
  {
   "cell_type": "markdown",
   "id": "24d8b460-8cd3-402d-bd0f-3963ecf25d93",
   "metadata": {},
   "source": [
    "⏱ Why Is lead_time Important?\n",
    "The lead_time column measures how long the annotator took to label that example.\n",
    "\n",
    "Here’s why it matters for your project:\n",
    "\n",
    "✅ 1. **Annotation Confidence Proxy**\n",
    "Short time might mean the example was obvious (or rushed).\n",
    "\n",
    "Long time might indicate a harder, ambiguous case.\n",
    "\n",
    "→ You could filter out very quick annotations if you suspect they're low-quality or use long ones for model stress-testing.\n",
    "\n",
    "✅ 2. **Quality Control**\n",
    "You can:\n",
    "\n",
    "Spot outliers (e.g. annotators that always take 2 seconds… 🤔)\n",
    "\n",
    "Flag confusing examples that slow everyone down — these might be great for rule-based edge cases or extra training examples.\n",
    "\n",
    "✅ 3. **UX Insight**\n",
    "If you plan to build a practice mode or educational tool, lead_time gives insight into which types of fallacies take users longer to process — helpful for learning analytics.\n",
    "\n"
   ]
  },
  {
   "cell_type": "code",
   "execution_count": 19,
   "id": "8ba828a6-dfdf-4181-880c-0756d741d9a5",
   "metadata": {
    "tags": []
   },
   "outputs": [
    {
     "data": {
      "image/png": "[encoded data removed]",
      "text/plain": [
       "<Figure size 1000x500 with 1 Axes>"
      ]
     },
     "metadata": {},
     "output_type": "display_data"
    }
   ],
   "source": [
    "plt.figure(figsize=(10, 5))\n",
    "plt.hist(df[\"lead_time\"], bins=20, color=\"skyblue\", edgecolor=\"black\")\n",
    "\n",
    "plt.title(\"Distribution of Annotation Lead Time\")\n",
    "plt.xlabel(\"Lead Time (seconds)\")\n",
    "plt.ylabel(\"Number of Annotations\")\n",
    "plt.tight_layout()\n",
    "plt.show()\n"
   ]
  },
  {
   "cell_type": "code",
   "execution_count": 20,
   "id": "08693aac-f5e1-42c4-94de-a9e7a912cec0",
   "metadata": {
    "tags": []
   },
   "outputs": [
    {
     "data": {
      "text/plain": [
       "fallacy_list\n",
       "False Dilemma           279.475857\n",
       "Ad Hominem              221.441692\n",
       "Appeal to Ridicule      219.381200\n",
       "Loaded Language         217.743385\n",
       "Hasty Generalization     85.359500\n",
       "Appeal to Fear           68.969300\n",
       "None of the above        34.953733\n",
       "Name: lead_time, dtype: float64"
      ]
     },
     "execution_count": 20,
     "metadata": {},
     "output_type": "execute_result"
    }
   ],
   "source": [
    "# Use the exploded version for one fallacy per row\n",
    "avg_lead_per_fallacy = fallacy_exploded.groupby(\"fallacy_list\")[\"lead_time\"].mean().sort_values(ascending=False)\n",
    "avg_lead_per_fallacy\n"
   ]
  },
  {
   "cell_type": "markdown",
   "id": "4c0dfce9-3c78-494d-a5ad-34a4acffbcff",
   "metadata": {},
   "source": [
    "- False Dilemma, Ad Hominem, and Appeal to Ridicule took the longest — possibly because they're more subtle or context-heavy.\n",
    "\n",
    "- None of the above was quickest — which makes sense, probably easy to spot nothing was wrong.\n",
    "\n",
    "could use this later to:\n",
    "\n",
    "- Prioritize training examples that take longer.\n",
    "\n",
    "- Weight predictions or difficulty levels in practice mode.\n",
    "\n",
    "- Investigate why specific fallacies are tougher to label."
   ]
  },
  {
   "cell_type": "code",
   "execution_count": null,
   "id": "5f00d188-c653-43db-ba4b-05ac7c757f20",
   "metadata": {},
   "outputs": [],
   "source": []
  }
 ],
 "metadata": {
  "kernelspec": {
   "display_name": "Python 3 (ipykernel)",
   "language": "python",
   "name": "python3"
  },
  "language_info": {
   "codemirror_mode": {
    "name": "ipython",
    "version": 3
   },
   "file_extension": ".py",
   "mimetype": "text/x-python",
   "name": "python",
   "nbconvert_exporter": "python",
   "pygments_lexer": "ipython3",
   "version": "3.11.3"
  }
 },
 "nbformat": 4,
 "nbformat_minor": 5
}
