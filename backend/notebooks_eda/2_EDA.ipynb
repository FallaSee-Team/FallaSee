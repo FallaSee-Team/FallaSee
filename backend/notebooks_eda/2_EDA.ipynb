{
 "cells": [
  {
   "cell_type": "markdown",
   "metadata": {},
   "source": [
    "# 2. EDA Huggingface Dataset"
   ]
  },
  {
   "cell_type": "markdown",
   "metadata": {},
   "source": [
    "Logical Fallacy Classification Dataset by MidhunKanadan"
   ]
  },
  {
   "cell_type": "markdown",
   "metadata": {},
   "source": [
    "If you use this dataset, please cite the Hugging Face repository link:\n",
    "\n",
    "@dataset{MidhunKanadan_logical_fallacy_classification,\n",
    "  title={Logical Fallacy Classification},\n",
    "  author={Midhun Kanadan},\n",
    "  year={2024},\n",
    "  howpublished={\\url{https://huggingface.co/datasets/MidhunKanadan/logical-fallacy-classification}},\n",
    "}"
   ]
  },
  {
   "cell_type": "code",
   "execution_count": 173,
   "metadata": {},
   "outputs": [],
   "source": [
    "# You need to pip install datasets\n",
    "from datasets import load_dataset\n",
    "import pandas as pd\n",
    "import numpy as np\n",
    "import seaborn as sns\n",
    "import matplotlib.pyplot as plt"
   ]
  },
  {
   "cell_type": "code",
   "execution_count": 174,
   "metadata": {},
   "outputs": [],
   "source": [
    "# Load the dataset\n",
    "dataset = load_dataset(\"MidhunKanadan/logical-fallacy-classification\")"
   ]
  },
  {
   "cell_type": "code",
   "execution_count": 175,
   "metadata": {},
   "outputs": [],
   "source": [
    "# Access the splits\n",
    "train_data = dataset[\"train\"]\n",
    "dev_data = dataset[\"dev\"]\n",
    "test_data = dataset[\"test\"]"
   ]
  },
  {
   "cell_type": "code",
   "execution_count": 176,
   "metadata": {},
   "outputs": [],
   "source": [
    "# Convert to pandas dataframe\n",
    "train_data = train_data.to_pandas()\n",
    "test_data = test_data.to_pandas()\n",
    "dev_data = dev_data.to_pandas()"
   ]
  },
  {
   "cell_type": "code",
   "execution_count": 177,
   "metadata": {},
   "outputs": [],
   "source": [
    "# Concatenate the dataframes\n",
    "df = pd.concat([train_data, test_data, dev_data])\n",
    "\n",
    "# Remove last column\n",
    "df = df.iloc[:, :-1]"
   ]
  },
  {
   "cell_type": "code",
   "execution_count": 178,
   "metadata": {},
   "outputs": [
    {
     "data": {
      "text/html": [
       "<div>\n",
       "<style scoped>\n",
       "    .dataframe tbody tr th:only-of-type {\n",
       "        vertical-align: middle;\n",
       "    }\n",
       "\n",
       "    .dataframe tbody tr th {\n",
       "        vertical-align: top;\n",
       "    }\n",
       "\n",
       "    .dataframe thead th {\n",
       "        text-align: right;\n",
       "    }\n",
       "</style>\n",
       "<table border=\"1\" class=\"dataframe\">\n",
       "  <thead>\n",
       "    <tr style=\"text-align: right;\">\n",
       "      <th></th>\n",
       "      <th>statement</th>\n",
       "      <th>label</th>\n",
       "    </tr>\n",
       "  </thead>\n",
       "  <tbody>\n",
       "    <tr>\n",
       "      <th>0</th>\n",
       "      <td>The book is popular because it's good, and it's good because it's popular.</td>\n",
       "      <td>circular reasoning</td>\n",
       "    </tr>\n",
       "    <tr>\n",
       "      <th>1</th>\n",
       "      <td>This policy is effective because it's popular, and it's popular because it's effective.</td>\n",
       "      <td>circular reasoning</td>\n",
       "    </tr>\n",
       "    <tr>\n",
       "      <th>2</th>\n",
       "      <td>I know that our TV advertisements are more effective than radio. The numbers show that we hit twice the audience with TV, and our focus groups remember the TV commercial 38 percent more than the radio slot.</td>\n",
       "      <td>faulty generalization</td>\n",
       "    </tr>\n",
       "    <tr>\n",
       "      <th>3</th>\n",
       "      <td>President Trump , who in the past has called global warming a hoax , has vowed to pull the United States out of the accord as soon as that becomes possible , in 2020 . The 2017 National Climate Assessment , released in November , concluded what it has for nearly three decades : Human-made climate change is real , and the impacts have already started .</td>\n",
       "      <td>intentional</td>\n",
       "    </tr>\n",
       "    <tr>\n",
       "      <th>4</th>\n",
       "      <td>A commercial shows a group of friends all hanging out wearing clothes from a popular clothing company. This is an example of</td>\n",
       "      <td>ad populum</td>\n",
       "    </tr>\n",
       "    <tr>\n",
       "      <th>...</th>\n",
       "      <td>...</td>\n",
       "      <td>...</td>\n",
       "    </tr>\n",
       "    <tr>\n",
       "      <th>865</th>\n",
       "      <td>If you're not early, you're late.</td>\n",
       "      <td>false dilemma</td>\n",
       "    </tr>\n",
       "    <tr>\n",
       "      <th>866</th>\n",
       "      <td>Open-minded readers should have very little difficulty dismissing the mythical global warming crisis after examining the top 10 assertions in the alarmist playbook .</td>\n",
       "      <td>appeal to emotion</td>\n",
       "    </tr>\n",
       "    <tr>\n",
       "      <th>867</th>\n",
       "      <td>In school science , Shorten would have learned carbon dioxide is the food of life and without this natural gas , which occurs in space and all planets , there would be no life .</td>\n",
       "      <td>fallacy of relevance</td>\n",
       "    </tr>\n",
       "    <tr>\n",
       "      <th>868</th>\n",
       "      <td>Using new salad dressing, my plants produce more fruit. The dressing helps my plants.</td>\n",
       "      <td>false causality</td>\n",
       "    </tr>\n",
       "    <tr>\n",
       "      <th>869</th>\n",
       "      <td>Helping others is a waste of time since no one can make a difference on their own.</td>\n",
       "      <td>fallacy of logic</td>\n",
       "    </tr>\n",
       "  </tbody>\n",
       "</table>\n",
       "<p>5801 rows × 2 columns</p>\n",
       "</div>"
      ],
      "text/plain": [
       "                                                                                                                                                                                                                                                                                                                                                             statement   \n",
       "0                                                                                                                                                                                                                                                                                           The book is popular because it's good, and it's good because it's popular.  \\\n",
       "1                                                                                                                                                                                                                                                                              This policy is effective because it's popular, and it's popular because it's effective.   \n",
       "2                                                                                                                                                       I know that our TV advertisements are more effective than radio. The numbers show that we hit twice the audience with TV, and our focus groups remember the TV commercial 38 percent more than the radio slot.   \n",
       "3    President Trump , who in the past has called global warming a hoax , has vowed to pull the United States out of the accord as soon as that becomes possible , in 2020 . The 2017 National Climate Assessment , released in November , concluded what it has for nearly three decades : Human-made climate change is real , and the impacts have already started .   \n",
       "4                                                                                                                                                                                                                                         A commercial shows a group of friends all hanging out wearing clothes from a popular clothing company. This is an example of   \n",
       "..                                                                                                                                                                                                                                                                                                                                                                 ...   \n",
       "865                                                                                                                                                                                                                                                                                                                                  If you're not early, you're late.   \n",
       "866                                                                                                                                                                                              Open-minded readers should have very little difficulty dismissing the mythical global warming crisis after examining the top 10 assertions in the alarmist playbook .   \n",
       "867                                                                                                                                                                                  In school science , Shorten would have learned carbon dioxide is the food of life and without this natural gas , which occurs in space and all planets , there would be no life .   \n",
       "868                                                                                                                                                                                                                                                                              Using new salad dressing, my plants produce more fruit. The dressing helps my plants.   \n",
       "869                                                                                                                                                                                                                                                                                 Helping others is a waste of time since no one can make a difference on their own.   \n",
       "\n",
       "                     label  \n",
       "0       circular reasoning  \n",
       "1       circular reasoning  \n",
       "2    faulty generalization  \n",
       "3              intentional  \n",
       "4               ad populum  \n",
       "..                     ...  \n",
       "865          false dilemma  \n",
       "866      appeal to emotion  \n",
       "867   fallacy of relevance  \n",
       "868        false causality  \n",
       "869       fallacy of logic  \n",
       "\n",
       "[5801 rows x 2 columns]"
      ]
     },
     "execution_count": 178,
     "metadata": {},
     "output_type": "execute_result"
    }
   ],
   "source": [
    "df"
   ]
  },
  {
   "cell_type": "code",
   "execution_count": 179,
   "metadata": {},
   "outputs": [
    {
     "data": {
      "text/html": [
       "<div>\n",
       "<style scoped>\n",
       "    .dataframe tbody tr th:only-of-type {\n",
       "        vertical-align: middle;\n",
       "    }\n",
       "\n",
       "    .dataframe tbody tr th {\n",
       "        vertical-align: top;\n",
       "    }\n",
       "\n",
       "    .dataframe thead th {\n",
       "        text-align: right;\n",
       "    }\n",
       "</style>\n",
       "<table border=\"1\" class=\"dataframe\">\n",
       "  <thead>\n",
       "    <tr style=\"text-align: right;\">\n",
       "      <th></th>\n",
       "      <th>count</th>\n",
       "      <th>unique</th>\n",
       "      <th>top</th>\n",
       "      <th>freq</th>\n",
       "    </tr>\n",
       "  </thead>\n",
       "  <tbody>\n",
       "    <tr>\n",
       "      <th>statement</th>\n",
       "      <td>5801</td>\n",
       "      <td>4745</td>\n",
       "      <td>Access to cleaner water has increased ; mortality from ' Extreme Weather Events ' has declined by 99 per cent since the 1920s ; fewer people are dying from heat ; death rates from climate-sensitive diseases like malaria and diarrhoea have decreased ( since 1900 malaria death rates have declined 96 per cent ) ; hunger rates have declined ; poverty has declined ( GDP per capita has quadrupled since 1950 even as CO2 levels have sextupled ) ; life expectancy has more than doubled since the start of industrialisation ; health adjusted life expectancy has increased ; global inequality has decreased in terms of incomes , life expectancies and access to modern-day amenities ; the earth is green and more productive ; habitat lost to agriculture has peaked due to fossil fuel dependent technologies .</td>\n",
       "      <td>13</td>\n",
       "    </tr>\n",
       "    <tr>\n",
       "      <th>label</th>\n",
       "      <td>5801</td>\n",
       "      <td>13</td>\n",
       "      <td>faulty generalization</td>\n",
       "      <td>726</td>\n",
       "    </tr>\n",
       "  </tbody>\n",
       "</table>\n",
       "</div>"
      ],
      "text/plain": [
       "          count unique   \n",
       "statement  5801   4745  \\\n",
       "label      5801     13   \n",
       "\n",
       "                                                                                                                                                                                                                                                                                                                                                                                                                                                                                                                                                                                                                                                                                                                                                                                                                                        top   \n",
       "statement  Access to cleaner water has increased ; mortality from ' Extreme Weather Events ' has declined by 99 per cent since the 1920s ; fewer people are dying from heat ; death rates from climate-sensitive diseases like malaria and diarrhoea have decreased ( since 1900 malaria death rates have declined 96 per cent ) ; hunger rates have declined ; poverty has declined ( GDP per capita has quadrupled since 1950 even as CO2 levels have sextupled ) ; life expectancy has more than doubled since the start of industrialisation ; health adjusted life expectancy has increased ; global inequality has decreased in terms of incomes , life expectancies and access to modern-day amenities ; the earth is green and more productive ; habitat lost to agriculture has peaked due to fossil fuel dependent technologies .  \\\n",
       "label                                                                                                                                                                                                                                                                                                                                                                                                                                                                                                                                                                                                                                                                                                                                                                                                                 faulty generalization   \n",
       "\n",
       "          freq  \n",
       "statement   13  \n",
       "label      726  "
      ]
     },
     "execution_count": 179,
     "metadata": {},
     "output_type": "execute_result"
    }
   ],
   "source": [
    "df.describe().T"
   ]
  },
  {
   "cell_type": "code",
   "execution_count": 180,
   "metadata": {},
   "outputs": [
    {
     "data": {
      "text/plain": [
       "statement    0\n",
       "label        0\n",
       "dtype: int64"
      ]
     },
     "execution_count": 180,
     "metadata": {},
     "output_type": "execute_result"
    }
   ],
   "source": [
    "# Get NaN values\n",
    "df.isnull().sum()"
   ]
  },
  {
   "cell_type": "code",
   "execution_count": 181,
   "metadata": {},
   "outputs": [
    {
     "name": "stdout",
     "output_type": "stream",
     "text": [
      "There are 854 duplicates in the dataset\n",
      "Duplicates removed\n"
     ]
    }
   ],
   "source": [
    "# Get duplicate values\n",
    "nr_duplicates = df.duplicated().sum()\n",
    "print(\"There are\", nr_duplicates, \"duplicates in the dataset\")\n",
    "\n",
    "# Remove duplicates\n",
    "df = df.drop_duplicates()\n",
    "print(\"Duplicates removed\")"
   ]
  },
  {
   "cell_type": "code",
   "execution_count": 182,
   "metadata": {},
   "outputs": [
    {
     "name": "stdout",
     "output_type": "stream",
     "text": [
      "There are 202 duplicated statements in the dataset\n"
     ]
    }
   ],
   "source": [
    "# Check whether statements are duplicated\n",
    "nr_duplicates_statement = df.duplicated(subset=[\"statement\"]).sum()\n",
    "print(\"There are\", nr_duplicates_statement, \"duplicated statements in the dataset\")\n",
    "\n",
    "# Note: the duplicated statements are not dropped yet!"
   ]
  },
  {
   "cell_type": "code",
   "execution_count": 183,
   "metadata": {},
   "outputs": [
    {
     "data": {
      "text/html": [
       "<div>\n",
       "<style scoped>\n",
       "    .dataframe tbody tr th:only-of-type {\n",
       "        vertical-align: middle;\n",
       "    }\n",
       "\n",
       "    .dataframe tbody tr th {\n",
       "        vertical-align: top;\n",
       "    }\n",
       "\n",
       "    .dataframe thead th {\n",
       "        text-align: right;\n",
       "    }\n",
       "</style>\n",
       "<table border=\"1\" class=\"dataframe\">\n",
       "  <thead>\n",
       "    <tr style=\"text-align: right;\">\n",
       "      <th></th>\n",
       "      <th>statement</th>\n",
       "      <th>label</th>\n",
       "    </tr>\n",
       "  </thead>\n",
       "  <tbody>\n",
       "    <tr>\n",
       "      <th>3</th>\n",
       "      <td>President Trump , who in the past has called global warming a hoax , has vowed to pull the United States out of the accord as soon as that becomes possible , in 2020 . The 2017 National Climate Assessment , released in November , concluded what it has for nearly three decades : Human-made climate change is real , and the impacts have already started .</td>\n",
       "      <td>intentional</td>\n",
       "    </tr>\n",
       "    <tr>\n",
       "      <th>19</th>\n",
       "      <td>Just like Dr Mann ' s ' hockey stick ' graph he had cut off the tree-ring data just at the point where it stopped showing an upward trend and swapped in thermometer temperatures for recent decades , making them look much warmer .</td>\n",
       "      <td>intentional</td>\n",
       "    </tr>\n",
       "    <tr>\n",
       "      <th>20</th>\n",
       "      <td>Area burned by wildfire increasing </td>\n",
       "      <td>intentional</td>\n",
       "    </tr>\n",
       "    <tr>\n",
       "      <th>32</th>\n",
       "      <td>But don ' t blame climate change on humans . There are bigger forces at work here .</td>\n",
       "      <td>intentional</td>\n",
       "    </tr>\n",
       "    <tr>\n",
       "      <th>39</th>\n",
       "      <td>With such relatively clean air throughout America , how can even reputable news agencies like Reuters continue spreading the well-worn lie that the United States is one of the \" biggest polluters  in the world ? Rather than follow the time-tested practice used by the World Health Organization , which measures levels of disease-causing pollutants that get into people ' s lungs , some have played a shell game , swapping a new measure of \" pollution  based solely on emissions of carbon dioxide .</td>\n",
       "      <td>intentional</td>\n",
       "    </tr>\n",
       "    <tr>\n",
       "      <th>...</th>\n",
       "      <td>...</td>\n",
       "      <td>...</td>\n",
       "    </tr>\n",
       "    <tr>\n",
       "      <th>829</th>\n",
       "      <td>A harrowing scenario analysis of how human civilization might collapse in coming decades due to climate change has been endorsed by a former Australian defense chief and senior royal navy commander .</td>\n",
       "      <td>intentional</td>\n",
       "    </tr>\n",
       "    <tr>\n",
       "      <th>830</th>\n",
       "      <td>He now says : \" Anyone who tries to predict more than five to 10 years is a bit of an idiot , because so many things can change unexpectedly. </td>\n",
       "      <td>intentional</td>\n",
       "    </tr>\n",
       "    <tr>\n",
       "      <th>842</th>\n",
       "      <td>But by studying a very short time interval , it is possible to sidestep most of the complications , like \" isostatic adjustment  of the shoreline ( as continents rise after the overlying ice has melted ) and \" subsidence  of the shoreline ( as ground water and minerals are extracted ) .</td>\n",
       "      <td>intentional</td>\n",
       "    </tr>\n",
       "    <tr>\n",
       "      <th>852</th>\n",
       "      <td>The musician's addiction influences the melancholy in their songs.</td>\n",
       "      <td>intentional</td>\n",
       "    </tr>\n",
       "    <tr>\n",
       "      <th>860</th>\n",
       "      <td>John: Members of the UbaTuba White Men's Club are upstanding citizens of the community.\\nMarvin: Then why are there so many of these members in jail?\\nJohn: They were never true UbaTuba White Men's Club members.\\nMarvin: What's a true UbaTuba White Men's Club member?\\nJohn: Those who don't go to jail.\\n</td>\n",
       "      <td>intentional</td>\n",
       "    </tr>\n",
       "  </tbody>\n",
       "</table>\n",
       "<p>585 rows × 2 columns</p>\n",
       "</div>"
      ],
      "text/plain": [
       "                                                                                                                                                                                                                                                                                                                                                                                                                                                                                                                 statement   \n",
       "3                                                                                                                                                        President Trump , who in the past has called global warming a hoax , has vowed to pull the United States out of the accord as soon as that becomes possible , in 2020 . The 2017 National Climate Assessment , released in November , concluded what it has for nearly three decades : Human-made climate change is real , and the impacts have already started .  \\\n",
       "19                                                                                                                                                                                                                                                                                   Just like Dr Mann ' s ' hockey stick ' graph he had cut off the tree-ring data just at the point where it stopped showing an upward trend and swapped in thermometer temperatures for recent decades , making them look much warmer .   \n",
       "20                                                                                                                                                                                                                                                                                                                                                                                                                                                                                   Area burned by wildfire increasing    \n",
       "32                                                                                                                                                                                                                                                                                                                                                                                                                                     But don ' t blame climate change on humans . There are bigger forces at work here .   \n",
       "39   With such relatively clean air throughout America , how can even reputable news agencies like Reuters continue spreading the well-worn lie that the United States is one of the \" biggest polluters  in the world ? Rather than follow the time-tested practice used by the World Health Organization , which measures levels of disease-causing pollutants that get into people ' s lungs , some have played a shell game , swapping a new measure of \" pollution  based solely on emissions of carbon dioxide .   \n",
       "..                                                                                                                                                                                                                                                                                                                                                                                                                                                                                                                     ...   \n",
       "829                                                                                                                                                                                                                                                                                                                A harrowing scenario analysis of how human civilization might collapse in coming decades due to climate change has been endorsed by a former Australian defense chief and senior royal navy commander .   \n",
       "830                                                                                                                                                                                                                                                                                                                                                                       He now says : \" Anyone who tries to predict more than five to 10 years is a bit of an idiot , because so many things can change unexpectedly.    \n",
       "842                                                                                                                                                                                                                    But by studying a very short time interval , it is possible to sidestep most of the complications , like \" isostatic adjustment  of the shoreline ( as continents rise after the overlying ice has melted ) and \" subsidence  of the shoreline ( as ground water and minerals are extracted ) .   \n",
       "852                                                                                                                                                                                                                                                                                                                                                                                                                                                     The musician's addiction influences the melancholy in their songs.   \n",
       "860                                                                                                                                                                                                       John: Members of the UbaTuba White Men's Club are upstanding citizens of the community.\\nMarvin: Then why are there so many of these members in jail?\\nJohn: They were never true UbaTuba White Men's Club members.\\nMarvin: What's a true UbaTuba White Men's Club member?\\nJohn: Those who don't go to jail.\\n   \n",
       "\n",
       "           label  \n",
       "3    intentional  \n",
       "19   intentional  \n",
       "20   intentional  \n",
       "32   intentional  \n",
       "39   intentional  \n",
       "..           ...  \n",
       "829  intentional  \n",
       "830  intentional  \n",
       "842  intentional  \n",
       "852  intentional  \n",
       "860  intentional  \n",
       "\n",
       "[585 rows x 2 columns]"
      ]
     },
     "execution_count": 183,
     "metadata": {},
     "output_type": "execute_result"
    }
   ],
   "source": [
    "count_intentional = df[df[\"label\"]==\"intentional\"]\n",
    "count_intentional"
   ]
  },
  {
   "cell_type": "code",
   "execution_count": 184,
   "metadata": {},
   "outputs": [
    {
     "data": {
      "text/plain": [
       "202"
      ]
     },
     "execution_count": 184,
     "metadata": {},
     "output_type": "execute_result"
    }
   ],
   "source": [
    "df.duplicated(subset=[\"statement\"]).sum()"
   ]
  },
  {
   "cell_type": "code",
   "execution_count": 185,
   "metadata": {},
   "outputs": [
    {
     "name": "stdout",
     "output_type": "stream",
     "text": [
      "label\n",
      "ad hominem                505\n",
      "ad populum                420\n",
      "appeal to emotion         302\n",
      "circular reasoning        249\n",
      "equivocation              195\n",
      "fallacy of credibility    264\n",
      "fallacy of extension      317\n",
      "fallacy of logic          280\n",
      "fallacy of relevance      392\n",
      "false causality           461\n",
      "false dilemma             313\n",
      "faulty generalization     664\n",
      "intentional               585\n",
      "Name: count, dtype: int64\n"
     ]
    }
   ],
   "source": [
    "# Get labels\n",
    "labels = df['label'].value_counts().sort_index()\n",
    "print(labels)"
   ]
  },
  {
   "cell_type": "code",
   "execution_count": 186,
   "metadata": {},
   "outputs": [
    {
     "data": {
      "text/html": [
       "<div>\n",
       "<style scoped>\n",
       "    .dataframe tbody tr th:only-of-type {\n",
       "        vertical-align: middle;\n",
       "    }\n",
       "\n",
       "    .dataframe tbody tr th {\n",
       "        vertical-align: top;\n",
       "    }\n",
       "\n",
       "    .dataframe thead th {\n",
       "        text-align: right;\n",
       "    }\n",
       "</style>\n",
       "<table border=\"1\" class=\"dataframe\">\n",
       "  <thead>\n",
       "    <tr style=\"text-align: right;\">\n",
       "      <th></th>\n",
       "      <th>statement</th>\n",
       "      <th>label</th>\n",
       "    </tr>\n",
       "  </thead>\n",
       "  <tbody>\n",
       "    <tr>\n",
       "      <th>0</th>\n",
       "      <td>The book is popular because it's good, and it's good because it's popular.</td>\n",
       "      <td>circular reasoning</td>\n",
       "    </tr>\n",
       "    <tr>\n",
       "      <th>1</th>\n",
       "      <td>This policy is effective because it's popular, and it's popular because it's effective.</td>\n",
       "      <td>circular reasoning</td>\n",
       "    </tr>\n",
       "    <tr>\n",
       "      <th>2</th>\n",
       "      <td>I know that our TV advertisements are more effective than radio. The numbers show that we hit twice the audience with TV, and our focus groups remember the TV commercial 38 percent more than the radio slot.</td>\n",
       "      <td>faulty generalization</td>\n",
       "    </tr>\n",
       "    <tr>\n",
       "      <th>3</th>\n",
       "      <td>President Trump , who in the past has called global warming a hoax , has vowed to pull the United States out of the accord as soon as that becomes possible , in 2020 . The 2017 National Climate Assessment , released in November , concluded what it has for nearly three decades : Human-made climate change is real , and the impacts have already started .</td>\n",
       "      <td>intentional</td>\n",
       "    </tr>\n",
       "    <tr>\n",
       "      <th>4</th>\n",
       "      <td>A commercial shows a group of friends all hanging out wearing clothes from a popular clothing company. This is an example of</td>\n",
       "      <td>ad populum</td>\n",
       "    </tr>\n",
       "    <tr>\n",
       "      <th>...</th>\n",
       "      <td>...</td>\n",
       "      <td>...</td>\n",
       "    </tr>\n",
       "    <tr>\n",
       "      <th>864</th>\n",
       "      <td>The noble forefathers who created this great country did not fail; it is a great country now as it was then, by their very making.</td>\n",
       "      <td>ad hominem</td>\n",
       "    </tr>\n",
       "    <tr>\n",
       "      <th>865</th>\n",
       "      <td>If you're not early, you're late.</td>\n",
       "      <td>false dilemma</td>\n",
       "    </tr>\n",
       "    <tr>\n",
       "      <th>866</th>\n",
       "      <td>Open-minded readers should have very little difficulty dismissing the mythical global warming crisis after examining the top 10 assertions in the alarmist playbook .</td>\n",
       "      <td>appeal to emotion</td>\n",
       "    </tr>\n",
       "    <tr>\n",
       "      <th>867</th>\n",
       "      <td>In school science , Shorten would have learned carbon dioxide is the food of life and without this natural gas , which occurs in space and all planets , there would be no life .</td>\n",
       "      <td>fallacy of relevance</td>\n",
       "    </tr>\n",
       "    <tr>\n",
       "      <th>868</th>\n",
       "      <td>Using new salad dressing, my plants produce more fruit. The dressing helps my plants.</td>\n",
       "      <td>false causality</td>\n",
       "    </tr>\n",
       "  </tbody>\n",
       "</table>\n",
       "<p>4947 rows × 2 columns</p>\n",
       "</div>"
      ],
      "text/plain": [
       "                                                                                                                                                                                                                                                                                                                                                             statement   \n",
       "0                                                                                                                                                                                                                                                                                           The book is popular because it's good, and it's good because it's popular.  \\\n",
       "1                                                                                                                                                                                                                                                                              This policy is effective because it's popular, and it's popular because it's effective.   \n",
       "2                                                                                                                                                       I know that our TV advertisements are more effective than radio. The numbers show that we hit twice the audience with TV, and our focus groups remember the TV commercial 38 percent more than the radio slot.   \n",
       "3    President Trump , who in the past has called global warming a hoax , has vowed to pull the United States out of the accord as soon as that becomes possible , in 2020 . The 2017 National Climate Assessment , released in November , concluded what it has for nearly three decades : Human-made climate change is real , and the impacts have already started .   \n",
       "4                                                                                                                                                                                                                                         A commercial shows a group of friends all hanging out wearing clothes from a popular clothing company. This is an example of   \n",
       "..                                                                                                                                                                                                                                                                                                                                                                 ...   \n",
       "864                                                                                                                                                                                                                                 The noble forefathers who created this great country did not fail; it is a great country now as it was then, by their very making.   \n",
       "865                                                                                                                                                                                                                                                                                                                                  If you're not early, you're late.   \n",
       "866                                                                                                                                                                                              Open-minded readers should have very little difficulty dismissing the mythical global warming crisis after examining the top 10 assertions in the alarmist playbook .   \n",
       "867                                                                                                                                                                                  In school science , Shorten would have learned carbon dioxide is the food of life and without this natural gas , which occurs in space and all planets , there would be no life .   \n",
       "868                                                                                                                                                                                                                                                                              Using new salad dressing, my plants produce more fruit. The dressing helps my plants.   \n",
       "\n",
       "                     label  \n",
       "0       circular reasoning  \n",
       "1       circular reasoning  \n",
       "2    faulty generalization  \n",
       "3              intentional  \n",
       "4               ad populum  \n",
       "..                     ...  \n",
       "864             ad hominem  \n",
       "865          false dilemma  \n",
       "866      appeal to emotion  \n",
       "867   fallacy of relevance  \n",
       "868        false causality  \n",
       "\n",
       "[4947 rows x 2 columns]"
      ]
     },
     "execution_count": 186,
     "metadata": {},
     "output_type": "execute_result"
    }
   ],
   "source": [
    "# Show full text in all cells\n",
    "pd.set_option('display.max_colwidth', None)\n",
    "df"
   ]
  },
  {
   "cell_type": "code",
   "execution_count": 187,
   "metadata": {},
   "outputs": [],
   "source": [
    "# Save dataset\n",
    "df.to_csv(\"../data/2_Huggingface_dataset.csv\")"
   ]
  }
 ],
 "metadata": {
  "kernelspec": {
   "display_name": ".venv",
   "language": "python",
   "name": "python3"
  },
  "language_info": {
   "codemirror_mode": {
    "name": "ipython",
    "version": 3
   },
   "file_extension": ".py",
   "mimetype": "text/x-python",
   "name": "python",
   "nbconvert_exporter": "python",
   "pygments_lexer": "ipython3",
   "version": "3.11.3"
  }
 },
 "nbformat": 4,
 "nbformat_minor": 2
}
