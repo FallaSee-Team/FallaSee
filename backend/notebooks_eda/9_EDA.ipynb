{
 "cells": [
  {
   "cell_type": "markdown",
   "metadata": {},
   "source": [
    "### EDA of the Database ElecDeb60to20"
   ]
  },
  {
   "cell_type": "markdown",
   "metadata": {},
   "source": [
    "loaded fallacy_second_version.csv from GitHub"
   ]
  },
  {
   "cell_type": "code",
   "execution_count": 234,
   "metadata": {},
   "outputs": [],
   "source": [
    "import pandas as pd"
   ]
  },
  {
   "cell_type": "code",
   "execution_count": 235,
   "metadata": {},
   "outputs": [],
   "source": [
    "df = pd.read_csv('../data/9_Goffredo_used_in_MAFALDA.csv', sep=';')"
   ]
  },
  {
   "cell_type": "markdown",
   "metadata": {},
   "source": [
    "### Check if comments have different fallacies"
   ]
  },
  {
   "cell_type": "code",
   "execution_count": 236,
   "metadata": {},
   "outputs": [
    {
     "data": {
      "text/plain": [
       "1152"
      ]
     },
     "execution_count": 236,
     "metadata": {},
     "output_type": "execute_result"
    }
   ],
   "source": [
    "df.text.duplicated().sum()"
   ]
  },
  {
   "cell_type": "code",
   "execution_count": 237,
   "metadata": {},
   "outputs": [
    {
     "name": "stdout",
     "output_type": "stream",
     "text": [
      "Number of exact duplicates across all columns: 1104\n"
     ]
    }
   ],
   "source": [
    "exact_duplicates = df[df.duplicated()]\n",
    "print(f\"Number of exact duplicates across all columns: {len(exact_duplicates)}\")"
   ]
  },
  {
   "cell_type": "code",
   "execution_count": 238,
   "metadata": {},
   "outputs": [],
   "source": [
    "# Group by the 'comment' column and aggregate unique fallacy labels\n",
    "fallacy_analysis = (\n",
    "    df.groupby('text')['fallacy']\n",
    "    .apply(lambda x: list(x.unique()))  # Get unique fallacy labels per comment\n",
    "    .reset_index()\n",
    ")"
   ]
  },
  {
   "cell_type": "code",
   "execution_count": 239,
   "metadata": {},
   "outputs": [],
   "source": [
    "# Add a column to count how many unique fallacy labels exist per comment\n",
    "fallacy_analysis['num_fallacies'] = fallacy_analysis['fallacy'].apply(len)"
   ]
  },
  {
   "cell_type": "code",
   "execution_count": 240,
   "metadata": {},
   "outputs": [],
   "source": [
    "# Filter for comments that have more than one unique fallacy label\n",
    "comments_with_multiple_fallacies = fallacy_analysis[fallacy_analysis['num_fallacies'] > 1]['text']"
   ]
  },
  {
   "cell_type": "code",
   "execution_count": 241,
   "metadata": {},
   "outputs": [
    {
     "name": "stdout",
     "output_type": "stream",
     "text": [
      "Comments with multiple fallacy labels:\n",
      "57      And I think you get a certain arrogance, burea...\n",
      "61      And I'll tell you, I had a town hall meeting i...\n",
      "230     But the important thing is, if we suffer defea...\n",
      "538     In this Administration we've stopped them at Q...\n",
      "822     The position of the United States has been tha...\n",
      "1216                                             disaster\n",
      "1217                                             disgrace\n",
      "1367                                               racist\n",
      "1529                              trumped-up trickle-down\n",
      "1577                                           xenophobic\n",
      "Name: text, dtype: object\n"
     ]
    }
   ],
   "source": [
    "# Display the results\n",
    "print(\"Comments with multiple fallacy labels:\")\n",
    "print(comments_with_multiple_fallacies)"
   ]
  },
  {
   "cell_type": "code",
   "execution_count": 242,
   "metadata": {},
   "outputs": [
    {
     "name": "stdout",
     "output_type": "stream",
     "text": [
      "Number of comments with more than one unique fallacy: 10\n"
     ]
    }
   ],
   "source": [
    "# Count the number of comments with more than one unique fallacy label\n",
    "num_comments_with_multiple_fallacies = fallacy_analysis[fallacy_analysis['num_fallacies'] > 1].shape[0]\n",
    "\n",
    "# Print the result\n",
    "print(f\"Number of comments with more than one unique fallacy: {num_comments_with_multiple_fallacies}\")"
   ]
  },
  {
   "cell_type": "markdown",
   "metadata": {},
   "source": [
    "### only drop comments that do not have more than one unique fallacy"
   ]
  },
  {
   "cell_type": "code",
   "execution_count": 243,
   "metadata": {},
   "outputs": [],
   "source": [
    "# Step 4: Filter the original DataFrame\n",
    "df_filtered = df[\n",
    "    (df['text'].isin(comments_with_multiple_fallacies)) |  # Keep texts with multiple fallacies\n",
    "    (~df.duplicated(subset=['text']))  # Keep unique rows for texts with a single fallacy\n",
    "]\n",
    "\n",
    "# Step 5: Reset index for clarity\n",
    "df_filtered = df_filtered.reset_index(drop=True)\n",
    "\n",
    "\n",
    "# Reset index for clarity\n",
    "df = df_filtered.reset_index(drop=True)"
   ]
  },
  {
   "cell_type": "code",
   "execution_count": 244,
   "metadata": {},
   "outputs": [
    {
     "data": {
      "text/plain": [
       "50"
      ]
     },
     "execution_count": 244,
     "metadata": {},
     "output_type": "execute_result"
    }
   ],
   "source": [
    "df.text.duplicated().sum()"
   ]
  },
  {
   "cell_type": "code",
   "execution_count": 245,
   "metadata": {},
   "outputs": [
    {
     "name": "stdout",
     "output_type": "stream",
     "text": [
      "Number of exact duplicates across all columns: 8\n"
     ]
    }
   ],
   "source": [
    "exact_duplicates = df[df.duplicated()].sum()\n",
    "print(f\"Number of exact duplicates across all columns: {len(exact_duplicates)}\")"
   ]
  },
  {
   "cell_type": "code",
   "execution_count": 246,
   "metadata": {},
   "outputs": [
    {
     "name": "stdout",
     "output_type": "stream",
     "text": [
      "Comments with multiple fallacy labels:\n",
      "57      And I think you get a certain arrogance, burea...\n",
      "61      And I'll tell you, I had a town hall meeting i...\n",
      "230     But the important thing is, if we suffer defea...\n",
      "538     In this Administration we've stopped them at Q...\n",
      "822     The position of the United States has been tha...\n",
      "1216                                             disaster\n",
      "1217                                             disgrace\n",
      "1367                                               racist\n",
      "1529                              trumped-up trickle-down\n",
      "1577                                           xenophobic\n",
      "Name: text, dtype: object\n"
     ]
    }
   ],
   "source": [
    "# Group by the 'comment' column and aggregate unique fallacy labels\n",
    "fallacy_analysis = (\n",
    "    df.groupby('text')['fallacy']\n",
    "    .apply(lambda x: list(x.unique()))  # Get unique fallacy labels per comment\n",
    "    .reset_index())\n",
    "\n",
    "# Add a column to count how many unique fallacy labels exist per comment\n",
    "fallacy_analysis['num_fallacies'] = fallacy_analysis['fallacy'].apply(len)\n",
    "\n",
    "# Filter for comments that have more than one unique fallacy label\n",
    "comments_with_multiple_fallacies = fallacy_analysis[fallacy_analysis['num_fallacies'] > 1]['text']\n",
    "\n",
    "# Display the results\n",
    "print(\"Comments with multiple fallacy labels:\")\n",
    "print(comments_with_multiple_fallacies)"
   ]
  },
  {
   "cell_type": "markdown",
   "metadata": {},
   "source": [
    "### saving file"
   ]
  },
  {
   "cell_type": "code",
   "execution_count": 247,
   "metadata": {},
   "outputs": [],
   "source": [
    "df.to_csv('../data/9_Goffredo_used_in_MAFALDA_cleaned.csv', index=False)"
   ]
  },
  {
   "cell_type": "markdown",
   "metadata": {},
   "source": [
    "### some EDA"
   ]
  },
  {
   "cell_type": "code",
   "execution_count": 8,
   "metadata": {},
   "outputs": [
    {
     "data": {
      "text/html": [
       "<div>\n",
       "<style scoped>\n",
       "    .dataframe tbody tr th:only-of-type {\n",
       "        vertical-align: middle;\n",
       "    }\n",
       "\n",
       "    .dataframe tbody tr th {\n",
       "        vertical-align: top;\n",
       "    }\n",
       "\n",
       "    .dataframe thead th {\n",
       "        text-align: right;\n",
       "    }\n",
       "</style>\n",
       "<table border=\"1\" class=\"dataframe\">\n",
       "  <thead>\n",
       "    <tr style=\"text-align: right;\">\n",
       "      <th></th>\n",
       "      <th>Year</th>\n",
       "      <th>Date</th>\n",
       "      <th>SectionID</th>\n",
       "      <th>text</th>\n",
       "      <th>fallacy</th>\n",
       "      <th>subcategory</th>\n",
       "      <th>Speaker</th>\n",
       "      <th>real_date</th>\n",
       "    </tr>\n",
       "  </thead>\n",
       "  <tbody>\n",
       "    <tr>\n",
       "      <th>0</th>\n",
       "      <td>1992</td>\n",
       "      <td>15Oct</td>\n",
       "      <td>7</td>\n",
       "      <td>And I think you get a certain arrogance, burea...</td>\n",
       "      <td>Ad Hominem</td>\n",
       "      <td>Ad Hominem</td>\n",
       "      <td>BUSH</td>\n",
       "      <td>15 10 1992</td>\n",
       "    </tr>\n",
       "    <tr>\n",
       "      <th>1</th>\n",
       "      <td>1992</td>\n",
       "      <td>13Oct</td>\n",
       "      <td>8</td>\n",
       "      <td>Bill Clinton simply has trouble telling the tr...</td>\n",
       "      <td>Ad Hominem</td>\n",
       "      <td>Ad Hominem</td>\n",
       "      <td>QUAYLE</td>\n",
       "      <td>13 10 1992</td>\n",
       "    </tr>\n",
       "    <tr>\n",
       "      <th>2</th>\n",
       "      <td>1992</td>\n",
       "      <td>13Oct</td>\n",
       "      <td>8</td>\n",
       "      <td>Bill Clinton simply has trouble telling the tr...</td>\n",
       "      <td>Ad Hominem</td>\n",
       "      <td>Ad Hominem</td>\n",
       "      <td>QUAYLE</td>\n",
       "      <td>13 10 1992</td>\n",
       "    </tr>\n",
       "    <tr>\n",
       "      <th>3</th>\n",
       "      <td>2016</td>\n",
       "      <td>26Sep</td>\n",
       "      <td>3</td>\n",
       "      <td>he has a long record of engaging in racist beh...</td>\n",
       "      <td>Ad Hominem</td>\n",
       "      <td>Ad Hominem</td>\n",
       "      <td>CLINTON</td>\n",
       "      <td>26 9 2016</td>\n",
       "    </tr>\n",
       "    <tr>\n",
       "      <th>4</th>\n",
       "      <td>2016</td>\n",
       "      <td>26Sep</td>\n",
       "      <td>5</td>\n",
       "      <td>she's got no business ability</td>\n",
       "      <td>Ad Hominem</td>\n",
       "      <td>Ad Hominem</td>\n",
       "      <td>TRUMP</td>\n",
       "      <td>26 9 2016</td>\n",
       "    </tr>\n",
       "  </tbody>\n",
       "</table>\n",
       "</div>"
      ],
      "text/plain": [
       "   Year   Date  SectionID                                               text   \n",
       "0  1992  15Oct          7  And I think you get a certain arrogance, burea...  \\\n",
       "1  1992  13Oct          8  Bill Clinton simply has trouble telling the tr...   \n",
       "2  1992  13Oct          8  Bill Clinton simply has trouble telling the tr...   \n",
       "3  2016  26Sep          3  he has a long record of engaging in racist beh...   \n",
       "4  2016  26Sep          5                      she's got no business ability   \n",
       "\n",
       "      fallacy subcategory  Speaker   real_date  \n",
       "0  Ad Hominem  Ad Hominem     BUSH  15 10 1992  \n",
       "1  Ad Hominem  Ad Hominem   QUAYLE  13 10 1992  \n",
       "2  Ad Hominem  Ad Hominem   QUAYLE  13 10 1992  \n",
       "3  Ad Hominem  Ad Hominem  CLINTON   26 9 2016  \n",
       "4  Ad Hominem  Ad Hominem    TRUMP   26 9 2016  "
      ]
     },
     "execution_count": 8,
     "metadata": {},
     "output_type": "execute_result"
    }
   ],
   "source": [
    "df.head()"
   ]
  },
  {
   "cell_type": "code",
   "execution_count": 9,
   "metadata": {},
   "outputs": [
    {
     "data": {
      "text/plain": [
       "927     2020\n",
       "237     2020\n",
       "2278    2020\n",
       "2277    2020\n",
       "2276    2020\n",
       "        ... \n",
       "1028    1960\n",
       "800     1960\n",
       "2031    1960\n",
       "2032    1960\n",
       "2600    1960\n",
       "Name: Year, Length: 2744, dtype: int64"
      ]
     },
     "execution_count": 9,
     "metadata": {},
     "output_type": "execute_result"
    }
   ],
   "source": [
    "df.Year.sort_values(ascending=False)"
   ]
  },
  {
   "cell_type": "code",
   "execution_count": 10,
   "metadata": {},
   "outputs": [
    {
     "name": "stdout",
     "output_type": "stream",
     "text": [
      "<class 'pandas.core.frame.DataFrame'>\n",
      "RangeIndex: 2744 entries, 0 to 2743\n",
      "Data columns (total 8 columns):\n",
      " #   Column       Non-Null Count  Dtype \n",
      "---  ------       --------------  ----- \n",
      " 0   Year         2744 non-null   int64 \n",
      " 1   Date         2744 non-null   object\n",
      " 2   SectionID    2744 non-null   int64 \n",
      " 3   text         2744 non-null   object\n",
      " 4   fallacy      2744 non-null   object\n",
      " 5   subcategory  2744 non-null   object\n",
      " 6   Speaker      2697 non-null   object\n",
      " 7   real_date    2744 non-null   object\n",
      "dtypes: int64(2), object(6)\n",
      "memory usage: 171.6+ KB\n"
     ]
    }
   ],
   "source": [
    "df.info()"
   ]
  },
  {
   "cell_type": "code",
   "execution_count": 11,
   "metadata": {},
   "outputs": [
    {
     "data": {
      "text/plain": [
       "array(['Ad Hominem', 'Appeal to hypocrisy', 'Circumstantial Ad Hominem',\n",
       "       'Name-Calling, Labeling', 'Tu quoque', 'Appeal to Authority',\n",
       "       'Appeal to Authority without evidence',\n",
       "       'Appeal to false authority', 'Appeal to fear', 'Popular Opinion',\n",
       "       'False Authority', 'Without Evidence', 'Appeal to Emotion',\n",
       "       'Appeal to pity', 'Flag waving', 'Loaded Language', 'False Cause',\n",
       "       'Slippery Slope', 'Slogan', 'Slogans'], dtype=object)"
      ]
     },
     "execution_count": 11,
     "metadata": {},
     "output_type": "execute_result"
    }
   ],
   "source": [
    "df['subcategory'].unique()"
   ]
  },
  {
   "cell_type": "code",
   "execution_count": 12,
   "metadata": {},
   "outputs": [
    {
     "data": {
      "text/plain": [
       "20"
      ]
     },
     "execution_count": 12,
     "metadata": {},
     "output_type": "execute_result"
    }
   ],
   "source": [
    "df['subcategory'].nunique()"
   ]
  },
  {
   "cell_type": "code",
   "execution_count": 13,
   "metadata": {},
   "outputs": [
    {
     "data": {
      "text/plain": [
       "array(['Ad Hominem', 'Appeal to Emotion', 'Appeal to Authority',\n",
       "       'Slippery Slope', 'False Cause', 'Slogans'], dtype=object)"
      ]
     },
     "execution_count": 13,
     "metadata": {},
     "output_type": "execute_result"
    }
   ],
   "source": [
    "df['fallacy'].unique()"
   ]
  },
  {
   "cell_type": "code",
   "execution_count": 14,
   "metadata": {},
   "outputs": [
    {
     "data": {
      "text/plain": [
       "6"
      ]
     },
     "execution_count": 14,
     "metadata": {},
     "output_type": "execute_result"
    }
   ],
   "source": [
    "df['fallacy'].nunique()"
   ]
  },
  {
   "cell_type": "code",
   "execution_count": 15,
   "metadata": {},
   "outputs": [
    {
     "name": "stdout",
     "output_type": "stream",
     "text": [
      "Fallacy counts:\n",
      "fallacy\n",
      "Appeal to Emotion      1591\n",
      "Appeal to Authority     433\n",
      "Ad Hominem              341\n",
      "False Cause             179\n",
      "Slippery Slope          122\n",
      "Slogans                  78\n",
      "Name: text, dtype: int64\n",
      "\n",
      "Total number of unique fallacies: 6\n"
     ]
    }
   ],
   "source": [
    "fallacy_counts = df.groupby('fallacy')['text'].count().sort_values(ascending=False)\n",
    "\n",
    "print(\"Fallacy counts:\")\n",
    "print(fallacy_counts)\n",
    "\n",
    "print(f\"\\nTotal number of unique fallacies: {len(fallacy_counts)}\")"
   ]
  },
  {
   "cell_type": "code",
   "execution_count": 16,
   "metadata": {},
   "outputs": [
    {
     "data": {
      "image/png": "[encoded data removed]",
      "text/plain": [
       "<Figure size 1200x600 with 1 Axes>"
      ]
     },
     "metadata": {},
     "output_type": "display_data"
    }
   ],
   "source": [
    "import matplotlib.pyplot as plt\n",
    "import seaborn as sns\n",
    "\n",
    "# Create figure\n",
    "plt.figure(figsize=(12, 6))\n",
    "sns.barplot(x=fallacy_counts.index, y=fallacy_counts.values, palette=\"viridis\")\n",
    "\n",
    "# Customize plot\n",
    "plt.title(\"Distribution of Logical Fallacies in Comments\", fontsize=14)\n",
    "plt.xlabel(\"Fallacy Type\", fontsize=12)\n",
    "plt.ylabel(\"Number of Comments\", fontsize=12)\n",
    "plt.xticks(rotation=45, ha='right')\n",
    "plt.tight_layout()\n",
    "\n",
    "# Add value labels on bars\n",
    "for i, value in enumerate(fallacy_counts.values):\n",
    "    plt.text(i, value + 0.5, str(value), ha='center', va='bottom')\n",
    "\n",
    "plt.show()"
   ]
  }
 ],
 "metadata": {
  "kernelspec": {
   "display_name": ".venv",
   "language": "python",
   "name": "python3"
  },
  "language_info": {
   "codemirror_mode": {
    "name": "ipython",
    "version": 3
   },
   "file_extension": ".py",
   "mimetype": "text/x-python",
   "name": "python",
   "nbconvert_exporter": "python",
   "pygments_lexer": "ipython3",
   "version": "3.11.3"
  }
 },
 "nbformat": 4,
 "nbformat_minor": 2
}
