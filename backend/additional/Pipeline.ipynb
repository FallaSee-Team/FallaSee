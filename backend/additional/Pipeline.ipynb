{
 "cells": [
  {
   "cell_type": "markdown",
   "id": "c8996da6",
   "metadata": {},
   "source": [
    "## Pipeline to combine models"
   ]
  },
  {
   "cell_type": "markdown",
   "id": "35af13f8",
   "metadata": {},
   "source": [
    "Pipeline for validation dataset (unseen while training!):\n",
    "- prepare dataset for different models\n",
    "- load trained models\n",
    "- evaluate"
   ]
  },
  {
   "cell_type": "markdown",
   "id": "5f1c2bc8",
   "metadata": {},
   "source": [
    "### Import"
   ]
  },
  {
   "cell_type": "code",
   "execution_count": 27,
   "id": "0db01f15",
   "metadata": {},
   "outputs": [],
   "source": [
    "import pandas as pd\n",
    "import numpy as np\n",
    "import pickle\n",
    "\n",
    "import matplotlib.pyplot as plt\n",
    "import seaborn as sns\n",
    "from sklearn.model_selection import train_test_split\n",
    "import mlflow\n",
    "from mlflow.transformers import log_model\n",
    "import logging \n",
    "from mlflow.sklearn import save_model\n",
    "import torch\n",
    "\n",
    "from sklearn.metrics import accuracy_score, classification_report, confusion_matrix\n",
    "from sklearn.preprocessing import LabelEncoder\n",
    "from mlflow.models.signature import infer_signature\n",
    "from sklearn.utils.class_weight import compute_class_weight\n",
    "from sklearn.preprocessing import LabelBinarizer\n",
    "from scipy.special import softmax\n",
    "import numpy as np\n",
    "\n",
    "from sklearn.feature_extraction.text import TfidfVectorizer\n",
    "from transformers import TrainingArguments, Trainer, AutoModelForSequenceClassification, AutoModel, AutoTokenizer, AutoConfig\n",
    "\n",
    "\n",
    "from torch import nn\n",
    "import mlflow.pytorch\n",
    "\n",
    "import sentencepiece\n",
    "import os\n",
    "import config"
   ]
  },
  {
   "cell_type": "code",
   "execution_count": 28,
   "id": "5be0bfca",
   "metadata": {},
   "outputs": [],
   "source": [
    "from basic_functions import (\n",
    "    get_preprocess_data,\n",
    "    get_lemmatized_data,\n",
    "    tokenize,\n",
    "    TextDataset,\n",
    "    get_metrics\n",
    ")"
   ]
  },
  {
   "cell_type": "markdown",
   "id": "d6971ca7",
   "metadata": {},
   "source": [
    "### Setup\n"
   ]
  },
  {
   "cell_type": "code",
   "execution_count": 29,
   "id": "2997e91c",
   "metadata": {},
   "outputs": [],
   "source": [
    "TRACKING_URI = open(\"../.mlflow_uri\").read().strip()\n",
    "EXPERIMENT_NAME = config.EXPERIMENT_NAME\n",
    "\n",
    "logging.basicConfig(format=\"%(asctime)s: %(message)s\") # Configure logging format to show timestamp before every message\n",
    "\n",
    "logger = logging.getLogger()\n",
    "logger.setLevel(logging.INFO) # Only show logs that are INFO or more important (e.g., WARNING, ERROR) — but ignore DEBUG."
   ]
  },
  {
   "cell_type": "markdown",
   "id": "99c935a9",
   "metadata": {},
   "source": [
    "### Prepare for LogReg"
   ]
  },
  {
   "cell_type": "code",
   "execution_count": 30,
   "id": "601fa2d1",
   "metadata": {},
   "outputs": [],
   "source": [
    "def get_vectorizer(data_path):\n",
    "    df = get_preprocess_data(data_path)\n",
    "    df = get_lemmatized_data(df)\n",
    "\n",
    "    X = df['text']\n",
    "    y = df['logical_fallacies']\n",
    "\n",
    "    X_train, X_test, y_train, y_test = train_test_split(\n",
    "        X, y, test_size=0.30, random_state=42, stratify=y)\n",
    "\n",
    "    tfidf_vectorizer = TfidfVectorizer(\n",
    "        ngram_range=(1, 2),  # Bigrams (or even trigrams)\n",
    "        max_features=1000,   # Limit feature space to the most important words\n",
    "        min_df=5,            # Consider words that appear in at least 5 documents\n",
    "        max_df=0.9)       # Ignore words that appear in more than 90% of documents)\n",
    "        \n",
    "    return tfidf_vectorizer.fit(X_train)\n",
    "\n"
   ]
  },
  {
   "cell_type": "code",
   "execution_count": 31,
   "id": "98e0100b",
   "metadata": {},
   "outputs": [],
   "source": [
    "binary_vectorizer = get_vectorizer(\"../data/data_binary.csv\")\n",
    "binary_emotion_hominem_vectorizer = get_vectorizer(\"../data/data_binary_emotion_hominem.csv\")\n",
    "multiclass_with_vectorizer = get_vectorizer(\"../data/data_multiclass_with_none.csv\")\n",
    "multiclass_without_vectorizer = get_vectorizer(\"../data/data_multiclass_without_none.csv\")"
   ]
  },
  {
   "cell_type": "code",
   "execution_count": 32,
   "id": "26cd5726",
   "metadata": {},
   "outputs": [],
   "source": [
    "def get_vectorized_text(df, problem_type):\n",
    "\n",
    "    df['text'] = df['text'].apply(lambda x: x.lower())\n",
    "    df = get_lemmatized_data(df)\n",
    "\n",
    "    # if (problem_type == 'multiclass_with') or (problem_type == 'multiclass_without'):\n",
    "    #     y = df['logical_fallacies']\n",
    "    # else:\n",
    "    #     y = df['two_class_target']\n",
    "    X = df['text']\n",
    "\n",
    "    if problem_type == 'multiclass_with':\n",
    "        X_vectorized = multiclass_with_vectorizer.transform(X)\n",
    "    elif problem_type == 'multiclass_without':\n",
    "        X_vectorized = multiclass_without_vectorizer.transform(X)\n",
    "    elif problem_type == 'binary':\n",
    "        X_vectorized = binary_vectorizer.transform(X)\n",
    "    else:\n",
    "        X_vectorized = binary_emotion_hominem_vectorizer.transform(X)\n",
    "\n",
    "    return X_vectorized\n"
   ]
  },
  {
   "cell_type": "markdown",
   "id": "22611227",
   "metadata": {},
   "source": [
    "### Prepare for DistilBert"
   ]
  },
  {
   "cell_type": "code",
   "execution_count": 33,
   "id": "cd634947",
   "metadata": {},
   "outputs": [],
   "source": [
    "# le = LabelEncoder()\n",
    "# y = df['logical_fallacies']\n",
    "# # y = df['two_class_target']\n",
    "# y_encoded = le.fit_transform(y)\n",
    "\n",
    "def get_tokenized_text(df):\n",
    "    X = df['text']\n",
    "    x_tokenized = tokenize(X.to_list(), \"distilbert-base-uncased\")\n",
    "    return x_tokenized\n"
   ]
  },
  {
   "cell_type": "markdown",
   "id": "be1dc10b",
   "metadata": {},
   "source": [
    "### Distilbert Prediction"
   ]
  },
  {
   "cell_type": "code",
   "execution_count": 34,
   "id": "79c38b39",
   "metadata": {},
   "outputs": [],
   "source": [
    "## Function for prediction\n",
    "\n",
    "def predict(model, encodings, batch_size=8):\n",
    "    # Set the model to evaluation mode\n",
    "    model.eval()\n",
    "    \n",
    "    # Use GPU\n",
    "    device = torch.device(\"mps\")\n",
    "    model.to(device)\n",
    "    \n",
    "    # Perform inference\n",
    "    probabilities = []\n",
    "    for i in range(0, len(encodings[\"input_ids\"]), batch_size):\n",
    "        with torch.no_grad():\n",
    "            batch = {\n",
    "                key: val[i:i+batch_size].to(device) \n",
    "                for key, val in encodings.items()\n",
    "            }\n",
    "            outputs = model(**batch)\n",
    "            probs = torch.softmax(outputs.logits, dim=-1).cpu().numpy()\n",
    "            probabilities.extend(probs)\n",
    "            \n",
    "        # Clear GPU memory after each batch\n",
    "        torch.mps.empty_cache()\n",
    "    \n",
    "    return np.array(probabilities)"
   ]
  },
  {
   "cell_type": "markdown",
   "id": "5267337b",
   "metadata": {},
   "source": [
    "### Pipeline: Binary LogReg + Multiclass DistilBert"
   ]
  },
  {
   "cell_type": "code",
   "execution_count": 35,
   "id": "eed2b2bf",
   "metadata": {},
   "outputs": [
    {
     "name": "stdout",
     "output_type": "stream",
     "text": [
      "Active run_id: f2ade096e8e044eea809c8be70562d81\n"
     ]
    },
    {
     "data": {
      "text/plain": [
       "'data_val'"
      ]
     },
     "execution_count": 35,
     "metadata": {},
     "output_type": "execute_result"
    }
   ],
   "source": [
    "MODEL_NAME = \"binary_LogReg_multiclass_DistilBert\" \n",
    "\n",
    "#setting the MLFlow connection and experiment\n",
    "mlflow.set_tracking_uri(TRACKING_URI)\n",
    "mlflow.set_experiment(EXPERIMENT_NAME)\n",
    "\n",
    "\n",
    "mlflow.start_run()\n",
    "run = mlflow.active_run()\n",
    "print(\"Active run_id: {}\".format(run.info.run_id))\n",
    "\n",
    "mlflow.set_tag(\"model_name\", MODEL_NAME)\n",
    "mlflow.set_tag(\"mlflow.runName\", \"binary logreg multi distilbert\")\n",
    "mlflow.log_param(\"dataset\", 'data_val')\n"
   ]
  },
  {
   "cell_type": "markdown",
   "id": "514037bf",
   "metadata": {},
   "source": [
    "#### 1. Step: Binary LogReg"
   ]
  },
  {
   "cell_type": "code",
   "execution_count": 36,
   "id": "acb5df88",
   "metadata": {},
   "outputs": [],
   "source": [
    "#Get Val-Data and prepare for binary logreg\n",
    "df_val = pd.read_csv('../data/data_val.csv')\n",
    "X_prep = get_vectorized_text(df_val, 'binary')"
   ]
  },
  {
   "cell_type": "code",
   "execution_count": 37,
   "id": "f9bad6b9",
   "metadata": {},
   "outputs": [],
   "source": [
    "#Import LogReg Binary Model\n",
    "with open(\"../models/logreg_binary/logreg_binary.pkl\", \"rb\") as file:\n",
    "    logreg_binary = pickle.load(file)"
   ]
  },
  {
   "cell_type": "code",
   "execution_count": 38,
   "id": "09f3443e",
   "metadata": {},
   "outputs": [],
   "source": [
    "y_pred = logreg_binary.predict(X_prep)"
   ]
  },
  {
   "cell_type": "code",
   "execution_count": 39,
   "id": "b1a7fac4",
   "metadata": {},
   "outputs": [],
   "source": [
    "#Create dataframe for next step\n",
    "df_first= df_val.copy()\n",
    "df_first['pred_1'] = y_pred\n",
    "df_second = df_first[df_first['pred_1']== 'fallacy']\n",
    "df_first = df_first[df_first['pred_1'] == 'none']"
   ]
  },
  {
   "cell_type": "markdown",
   "id": "2b135093",
   "metadata": {},
   "source": [
    "#### 2.step: Distilbert Multiclass without none"
   ]
  },
  {
   "cell_type": "code",
   "execution_count": 40,
   "id": "125a990d",
   "metadata": {},
   "outputs": [
    {
     "name": "stderr",
     "output_type": "stream",
     "text": [
      "INFO:basic_functions:create tokenizer & load model\n"
     ]
    }
   ],
   "source": [
    "# prepare X for Distilbert\n",
    "X_prep_2 = get_tokenized_text(df_second)"
   ]
  },
  {
   "cell_type": "code",
   "execution_count": 41,
   "id": "71921f88",
   "metadata": {},
   "outputs": [],
   "source": [
    "#load Distilbert\n",
    "path_pt = \"../models/distilbert_multiclass_without_none/pytorch_model\"\n",
    "distilbert = mlflow.pytorch.load_model(path_pt)\n"
   ]
  },
  {
   "cell_type": "code",
   "execution_count": 42,
   "id": "62068d45",
   "metadata": {},
   "outputs": [],
   "source": [
    "base_probs = predict(distilbert, X_prep_2, batch_size=2)"
   ]
  },
  {
   "cell_type": "code",
   "execution_count": 43,
   "id": "ec4bd4c9",
   "metadata": {},
   "outputs": [],
   "source": [
    "def get_first_prediction(proba):\n",
    "    preds = np.argmax(proba, axis=1)\n",
    "    #pred_int = int(pred[0]) --> had to remove this, otherwise it took the same prediction for all\n",
    "    probas = proba[np.arange(len(preds)), preds]\n",
    "    #proba_int = float(proba[0])\n",
    "    return preds, probas"
   ]
  },
  {
   "cell_type": "code",
   "execution_count": 44,
   "id": "0f1b01df",
   "metadata": {},
   "outputs": [],
   "source": [
    "first_pred, first_proba = get_first_prediction(base_probs)"
   ]
  },
  {
   "cell_type": "code",
   "execution_count": 45,
   "id": "f2db2b84",
   "metadata": {},
   "outputs": [],
   "source": [
    "#get encodings\n",
    "df_encodings = pd.read_csv('../data/data_multiclass_without_none.csv')\n",
    "y = df_encodings[\"logical_fallacies\"]\n",
    "le = LabelEncoder()\n",
    "y_train = le.fit(y)"
   ]
  },
  {
   "cell_type": "code",
   "execution_count": 46,
   "id": "4eccb67f",
   "metadata": {},
   "outputs": [],
   "source": [
    "df_second['pred_2'] = first_pred"
   ]
  },
  {
   "cell_type": "code",
   "execution_count": 47,
   "id": "e4d0c8c8",
   "metadata": {},
   "outputs": [],
   "source": [
    "df_second['pred_2'] = le.inverse_transform(df_second['pred_2'])"
   ]
  },
  {
   "cell_type": "code",
   "execution_count": 48,
   "id": "d90c2e16",
   "metadata": {},
   "outputs": [],
   "source": [
    "df_first['pred_2'] = df_first['pred_1']\n",
    "df_result = pd.concat([df_first, df_second], ignore_index=True)"
   ]
  },
  {
   "cell_type": "markdown",
   "id": "004ae318",
   "metadata": {},
   "source": [
    "#### Evaluation"
   ]
  },
  {
   "cell_type": "code",
   "execution_count": 49,
   "id": "205da297",
   "metadata": {},
   "outputs": [],
   "source": [
    "def log_metrics(cr, split):\n",
    "    for key, value in cr.items():\n",
    "        if (key == \"accuracy\"):\n",
    "                print(f\"{split}_{key}\", round(value,2))\n",
    "                mlflow.log_metric(f\"{split}_{key}\", value)\n",
    "        else:\n",
    "            for metric in value:\n",
    "                mlflow.log_metric(f\"{split}_{key}_{metric}\", value.get(metric))\n",
    "                print(f\"{split}_{key}_{metric}\", round(value.get(metric),2))"
   ]
  },
  {
   "cell_type": "code",
   "execution_count": 50,
   "id": "57588669",
   "metadata": {},
   "outputs": [
    {
     "name": "stderr",
     "output_type": "stream",
     "text": [
      "INFO:root:get validation metrics for one-step approach\n",
      "INFO:basic_functions:classification_report\n",
      "INFO:basic_functions:confusion_matrix\n",
      "INFO:basic_functions:heatmap\n"
     ]
    },
    {
     "name": "stdout",
     "output_type": "stream",
     "text": [
      "                     precision    recall  f1-score   support\n",
      "\n",
      "         ad_hominem       0.67      0.48      0.56       250\n",
      "appeal_to_authority       0.58      0.58      0.58       250\n",
      "  appeal_to_emotion       0.62      0.63      0.63       250\n",
      "      false_dilemma       0.72      0.62      0.67       250\n",
      "               none       0.22      0.32      0.26       250\n",
      "     slippery_slope       0.52      0.47      0.49       100\n",
      "\n",
      "           accuracy                           0.52      1350\n",
      "          macro avg       0.55      0.52      0.53      1350\n",
      "       weighted avg       0.56      0.52      0.53      1350\n",
      "\n",
      "[[119  28  36   8  59   0]\n",
      " [  9 144   9   4  79   5]\n",
      " [ 21  23 158   6  39   3]\n",
      " [  9   9   6 155  64   7]\n",
      " [ 20  44  40  37  80  29]\n",
      " [  0   2   5   6  40  47]]\n"
     ]
    },
    {
     "data": {
      "image/png": "[encoded data removed]",
      "text/plain": [
       "<Figure size 800x600 with 2 Axes>"
      ]
     },
     "metadata": {},
     "output_type": "display_data"
    },
    {
     "name": "stdout",
     "output_type": "stream",
     "text": [
      "val_ad_hominem_precision 0.67\n",
      "val_ad_hominem_recall 0.48\n",
      "val_ad_hominem_f1-score 0.56\n",
      "val_ad_hominem_support 250.0\n",
      "val_appeal_to_authority_precision 0.58\n",
      "val_appeal_to_authority_recall 0.58\n",
      "val_appeal_to_authority_f1-score 0.58\n",
      "val_appeal_to_authority_support 250.0\n",
      "val_appeal_to_emotion_precision 0.62\n",
      "val_appeal_to_emotion_recall 0.63\n",
      "val_appeal_to_emotion_f1-score 0.63\n",
      "val_appeal_to_emotion_support 250.0\n",
      "val_false_dilemma_precision 0.72\n",
      "val_false_dilemma_recall 0.62\n",
      "val_false_dilemma_f1-score 0.67\n",
      "val_false_dilemma_support 250.0\n",
      "val_none_precision 0.22\n",
      "val_none_recall 0.32\n",
      "val_none_f1-score 0.26\n",
      "val_none_support 250.0\n",
      "val_slippery_slope_precision 0.52\n",
      "val_slippery_slope_recall 0.47\n",
      "val_slippery_slope_f1-score 0.49\n",
      "val_slippery_slope_support 100.0\n",
      "val_accuracy 0.52\n",
      "val_macro avg_precision 0.55\n",
      "val_macro avg_recall 0.52\n",
      "val_macro avg_f1-score 0.53\n",
      "val_macro avg_support 1350.0\n",
      "val_weighted avg_precision 0.56\n",
      "val_weighted avg_recall 0.52\n",
      "val_weighted avg_f1-score 0.53\n",
      "val_weighted avg_support 1350.0\n"
     ]
    }
   ],
   "source": [
    "logger.info('get validation metrics for one-step approach')\n",
    "classification_report_one_train = get_metrics(df_result['logical_fallacies'], df_result['pred_2'])\n",
    "log_metrics(classification_report_one_train, 'val')"
   ]
  },
  {
   "cell_type": "code",
   "execution_count": 51,
   "id": "8069cbb1",
   "metadata": {},
   "outputs": [
    {
     "name": "stdout",
     "output_type": "stream",
     "text": [
      "🏃 View run binary logreg multi distilbert at: http://127.0.0.1:5001/#/experiments/823412171152425451/runs/f2ade096e8e044eea809c8be70562d81\n",
      "🧪 View experiment at: http://127.0.0.1:5001/#/experiments/823412171152425451\n"
     ]
    }
   ],
   "source": [
    "mlflow.end_run()"
   ]
  },
  {
   "cell_type": "markdown",
   "id": "0d14d688",
   "metadata": {},
   "source": [
    "### Pipeline: Binary LogReg + Multi LogReg"
   ]
  },
  {
   "cell_type": "code",
   "execution_count": 67,
   "id": "b329c9e7",
   "metadata": {},
   "outputs": [
    {
     "name": "stdout",
     "output_type": "stream",
     "text": [
      "Active run_id: 5d2691f31d83482d80d7fb2cc7e93e65\n"
     ]
    },
    {
     "data": {
      "text/plain": [
       "'data_val'"
      ]
     },
     "execution_count": 67,
     "metadata": {},
     "output_type": "execute_result"
    }
   ],
   "source": [
    "MODEL_NAME = \"binary_LogReg_multiclass_LogReg\" \n",
    "\n",
    "#setting the MLFlow connection and experiment\n",
    "mlflow.set_tracking_uri(TRACKING_URI)\n",
    "mlflow.set_experiment(EXPERIMENT_NAME)\n",
    "\n",
    "\n",
    "mlflow.start_run()\n",
    "run = mlflow.active_run()\n",
    "print(\"Active run_id: {}\".format(run.info.run_id))\n",
    "\n",
    "mlflow.set_tag(\"model_name\", MODEL_NAME)\n",
    "mlflow.set_tag(\"mlflow.runName\", \"binary logreg multi logreg\")\n",
    "mlflow.log_param(\"dataset\", 'data_val')\n"
   ]
  },
  {
   "cell_type": "markdown",
   "id": "73c415ed",
   "metadata": {},
   "source": [
    "#### 1. Step: Binary LogReg"
   ]
  },
  {
   "cell_type": "code",
   "execution_count": 68,
   "id": "9e3e667c",
   "metadata": {},
   "outputs": [],
   "source": [
    "#Get Val-Data and prepare for binary logreg\n",
    "df_val = pd.read_csv('../data/data_val.csv')\n",
    "X_prep = get_vectorized_text(df_val, 'binary')"
   ]
  },
  {
   "cell_type": "code",
   "execution_count": 69,
   "id": "d3960fde",
   "metadata": {},
   "outputs": [],
   "source": [
    "#Import LogReg Binary Model\n",
    "with open(\"../models/logreg_binary/logreg_binary.pkl\", \"rb\") as file:\n",
    "    logreg_binary = pickle.load(file)"
   ]
  },
  {
   "cell_type": "code",
   "execution_count": 70,
   "id": "23dcb738",
   "metadata": {},
   "outputs": [],
   "source": [
    "y_pred = logreg_binary.predict(X_prep)"
   ]
  },
  {
   "cell_type": "code",
   "execution_count": 71,
   "id": "fa19fe1a",
   "metadata": {},
   "outputs": [],
   "source": [
    "#Create dataframe for next step\n",
    "# df_second = df_val.copy()\n",
    "df_first= df_val.copy()\n",
    "df_first['pred_1'] = y_pred\n",
    "df_second = df_first[df_first['pred_1']== 'fallacy']\n",
    "df_first = df_first[df_first['pred_1'] == 'none']"
   ]
  },
  {
   "cell_type": "code",
   "execution_count": 72,
   "id": "9084c5d9",
   "metadata": {},
   "outputs": [
    {
     "data": {
      "text/html": [
       "<div>\n",
       "<style scoped>\n",
       "    .dataframe tbody tr th:only-of-type {\n",
       "        vertical-align: middle;\n",
       "    }\n",
       "\n",
       "    .dataframe tbody tr th {\n",
       "        vertical-align: top;\n",
       "    }\n",
       "\n",
       "    .dataframe thead th {\n",
       "        text-align: right;\n",
       "    }\n",
       "</style>\n",
       "<table border=\"1\" class=\"dataframe\">\n",
       "  <thead>\n",
       "    <tr style=\"text-align: right;\">\n",
       "      <th></th>\n",
       "      <th>dataset</th>\n",
       "      <th>text</th>\n",
       "      <th>logical_fallacies</th>\n",
       "      <th>source</th>\n",
       "      <th>two_class_target</th>\n",
       "      <th>pred_1</th>\n",
       "    </tr>\n",
       "  </thead>\n",
       "  <tbody>\n",
       "    <tr>\n",
       "      <th>2</th>\n",
       "      <td>3</td>\n",
       "      <td>i understand turkey s position here they can t...</td>\n",
       "      <td>false_dilemma</td>\n",
       "      <td>NaN</td>\n",
       "      <td>fallacy</td>\n",
       "      <td>none</td>\n",
       "    </tr>\n",
       "    <tr>\n",
       "      <th>3</th>\n",
       "      <td>3</td>\n",
       "      <td>i don t know why the international community e...</td>\n",
       "      <td>false_dilemma</td>\n",
       "      <td>NaN</td>\n",
       "      <td>fallacy</td>\n",
       "      <td>none</td>\n",
       "    </tr>\n",
       "    <tr>\n",
       "      <th>4</th>\n",
       "      <td>1</td>\n",
       "      <td>if it is very low for instance around one it m...</td>\n",
       "      <td>false_dilemma</td>\n",
       "      <td>http://business.financialpost.com/opinion/ross...</td>\n",
       "      <td>fallacy</td>\n",
       "      <td>none</td>\n",
       "    </tr>\n",
       "    <tr>\n",
       "      <th>6</th>\n",
       "      <td>3</td>\n",
       "      <td>the people who live in these area like the car...</td>\n",
       "      <td>false_dilemma</td>\n",
       "      <td>NaN</td>\n",
       "      <td>fallacy</td>\n",
       "      <td>none</td>\n",
       "    </tr>\n",
       "    <tr>\n",
       "      <th>9</th>\n",
       "      <td>3</td>\n",
       "      <td>with fake drug on the market it could end up b...</td>\n",
       "      <td>false_dilemma</td>\n",
       "      <td>NaN</td>\n",
       "      <td>fallacy</td>\n",
       "      <td>none</td>\n",
       "    </tr>\n",
       "  </tbody>\n",
       "</table>\n",
       "</div>"
      ],
      "text/plain": [
       "   dataset                                               text   \n",
       "2        3  i understand turkey s position here they can t...  \\\n",
       "3        3  i don t know why the international community e...   \n",
       "4        1  if it is very low for instance around one it m...   \n",
       "6        3  the people who live in these area like the car...   \n",
       "9        3  with fake drug on the market it could end up b...   \n",
       "\n",
       "  logical_fallacies                                             source   \n",
       "2     false_dilemma                                                NaN  \\\n",
       "3     false_dilemma                                                NaN   \n",
       "4     false_dilemma  http://business.financialpost.com/opinion/ross...   \n",
       "6     false_dilemma                                                NaN   \n",
       "9     false_dilemma                                                NaN   \n",
       "\n",
       "  two_class_target pred_1  \n",
       "2          fallacy   none  \n",
       "3          fallacy   none  \n",
       "4          fallacy   none  \n",
       "6          fallacy   none  \n",
       "9          fallacy   none  "
      ]
     },
     "execution_count": 72,
     "metadata": {},
     "output_type": "execute_result"
    }
   ],
   "source": [
    "df_first.head()"
   ]
  },
  {
   "cell_type": "code",
   "execution_count": 73,
   "id": "595bf6ad",
   "metadata": {},
   "outputs": [
    {
     "data": {
      "text/html": [
       "<div>\n",
       "<style scoped>\n",
       "    .dataframe tbody tr th:only-of-type {\n",
       "        vertical-align: middle;\n",
       "    }\n",
       "\n",
       "    .dataframe tbody tr th {\n",
       "        vertical-align: top;\n",
       "    }\n",
       "\n",
       "    .dataframe thead th {\n",
       "        text-align: right;\n",
       "    }\n",
       "</style>\n",
       "<table border=\"1\" class=\"dataframe\">\n",
       "  <thead>\n",
       "    <tr style=\"text-align: right;\">\n",
       "      <th></th>\n",
       "      <th>dataset</th>\n",
       "      <th>text</th>\n",
       "      <th>logical_fallacies</th>\n",
       "      <th>source</th>\n",
       "      <th>two_class_target</th>\n",
       "      <th>pred_1</th>\n",
       "    </tr>\n",
       "  </thead>\n",
       "  <tbody>\n",
       "    <tr>\n",
       "      <th>0</th>\n",
       "      <td>3</td>\n",
       "      <td>either the prime minister let independent medi...</td>\n",
       "      <td>false_dilemma</td>\n",
       "      <td>NaN</td>\n",
       "      <td>fallacy</td>\n",
       "      <td>fallacy</td>\n",
       "    </tr>\n",
       "    <tr>\n",
       "      <th>1</th>\n",
       "      <td>3</td>\n",
       "      <td>turkey really need to get rid of erdogan and h...</td>\n",
       "      <td>false_dilemma</td>\n",
       "      <td>NaN</td>\n",
       "      <td>fallacy</td>\n",
       "      <td>fallacy</td>\n",
       "    </tr>\n",
       "    <tr>\n",
       "      <th>5</th>\n",
       "      <td>3</td>\n",
       "      <td>they can oppose or support the curfew that won...</td>\n",
       "      <td>false_dilemma</td>\n",
       "      <td>NaN</td>\n",
       "      <td>fallacy</td>\n",
       "      <td>fallacy</td>\n",
       "    </tr>\n",
       "    <tr>\n",
       "      <th>7</th>\n",
       "      <td>3</td>\n",
       "      <td>great job for the lockdown measure it s either...</td>\n",
       "      <td>false_dilemma</td>\n",
       "      <td>NaN</td>\n",
       "      <td>fallacy</td>\n",
       "      <td>fallacy</td>\n",
       "    </tr>\n",
       "    <tr>\n",
       "      <th>8</th>\n",
       "      <td>1</td>\n",
       "      <td>mann who testifies before congress this week i...</td>\n",
       "      <td>false_dilemma</td>\n",
       "      <td>https://www.washingtonpost.com/news/energy-env...</td>\n",
       "      <td>fallacy</td>\n",
       "      <td>fallacy</td>\n",
       "    </tr>\n",
       "  </tbody>\n",
       "</table>\n",
       "</div>"
      ],
      "text/plain": [
       "   dataset                                               text   \n",
       "0        3  either the prime minister let independent medi...  \\\n",
       "1        3  turkey really need to get rid of erdogan and h...   \n",
       "5        3  they can oppose or support the curfew that won...   \n",
       "7        3  great job for the lockdown measure it s either...   \n",
       "8        1  mann who testifies before congress this week i...   \n",
       "\n",
       "  logical_fallacies                                             source   \n",
       "0     false_dilemma                                                NaN  \\\n",
       "1     false_dilemma                                                NaN   \n",
       "5     false_dilemma                                                NaN   \n",
       "7     false_dilemma                                                NaN   \n",
       "8     false_dilemma  https://www.washingtonpost.com/news/energy-env...   \n",
       "\n",
       "  two_class_target   pred_1  \n",
       "0          fallacy  fallacy  \n",
       "1          fallacy  fallacy  \n",
       "5          fallacy  fallacy  \n",
       "7          fallacy  fallacy  \n",
       "8          fallacy  fallacy  "
      ]
     },
     "execution_count": 73,
     "metadata": {},
     "output_type": "execute_result"
    }
   ],
   "source": [
    "df_second.head()"
   ]
  },
  {
   "cell_type": "code",
   "execution_count": 57,
   "id": "6d02fb3c",
   "metadata": {},
   "outputs": [
    {
     "data": {
      "text/plain": [
       "array(['fallacy'], dtype=object)"
      ]
     },
     "execution_count": 57,
     "metadata": {},
     "output_type": "execute_result"
    }
   ],
   "source": [
    "df_second['pred_1'].unique()"
   ]
  },
  {
   "cell_type": "code",
   "execution_count": 58,
   "id": "d9cde471",
   "metadata": {},
   "outputs": [
    {
     "data": {
      "text/plain": [
       "logical_fallacies\n",
       "appeal_to_emotion      211\n",
       "ad_hominem             191\n",
       "false_dilemma          186\n",
       "appeal_to_authority    171\n",
       "none                   170\n",
       "slippery_slope          60\n",
       "Name: count, dtype: int64"
      ]
     },
     "execution_count": 58,
     "metadata": {},
     "output_type": "execute_result"
    }
   ],
   "source": [
    "df_second['logical_fallacies'].value_counts()"
   ]
  },
  {
   "cell_type": "markdown",
   "id": "e8a7f6f7",
   "metadata": {},
   "source": [
    "#### 2.step: LogReg Multiclass without none"
   ]
  },
  {
   "cell_type": "code",
   "execution_count": 74,
   "id": "4fd26c6e",
   "metadata": {},
   "outputs": [],
   "source": [
    "#Get Val-Data and prepare for binary logreg\n",
    "X_prep = get_vectorized_text(df_second, 'multiclass_without')"
   ]
  },
  {
   "cell_type": "code",
   "execution_count": 75,
   "id": "9d0cf980",
   "metadata": {},
   "outputs": [],
   "source": [
    "#Import LogReg Binary Model\n",
    "with open(\"../models/logreg_multi_without/logreg_multi_without.pkl\", \"rb\") as file:\n",
    "    logreg_multi_without = pickle.load(file)"
   ]
  },
  {
   "cell_type": "code",
   "execution_count": 76,
   "id": "b0585535",
   "metadata": {},
   "outputs": [],
   "source": [
    "y_pred = logreg_multi_without.predict(X_prep)"
   ]
  },
  {
   "cell_type": "code",
   "execution_count": 77,
   "id": "e705d23c",
   "metadata": {},
   "outputs": [],
   "source": [
    "df_second['pred_2']=y_pred"
   ]
  },
  {
   "cell_type": "code",
   "execution_count": 78,
   "id": "f8fb11d8",
   "metadata": {},
   "outputs": [],
   "source": [
    "df_second = df_second.drop('source', axis=1)"
   ]
  },
  {
   "cell_type": "code",
   "execution_count": 79,
   "id": "5f91415e",
   "metadata": {},
   "outputs": [],
   "source": [
    "df_first= df_first.drop('source', axis=1)"
   ]
  },
  {
   "cell_type": "code",
   "execution_count": 81,
   "id": "b854a189",
   "metadata": {},
   "outputs": [],
   "source": [
    "df_first['pred_2'] = df_first['pred_1']"
   ]
  },
  {
   "cell_type": "code",
   "execution_count": 82,
   "id": "42b94bd3",
   "metadata": {},
   "outputs": [],
   "source": [
    "df_result = pd.concat([df_first, df_second], ignore_index=True)"
   ]
  },
  {
   "cell_type": "code",
   "execution_count": 83,
   "id": "91178e1b",
   "metadata": {},
   "outputs": [
    {
     "data": {
      "text/html": [
       "<div>\n",
       "<style scoped>\n",
       "    .dataframe tbody tr th:only-of-type {\n",
       "        vertical-align: middle;\n",
       "    }\n",
       "\n",
       "    .dataframe tbody tr th {\n",
       "        vertical-align: top;\n",
       "    }\n",
       "\n",
       "    .dataframe thead th {\n",
       "        text-align: right;\n",
       "    }\n",
       "</style>\n",
       "<table border=\"1\" class=\"dataframe\">\n",
       "  <thead>\n",
       "    <tr style=\"text-align: right;\">\n",
       "      <th></th>\n",
       "      <th>dataset</th>\n",
       "      <th>text</th>\n",
       "      <th>logical_fallacies</th>\n",
       "      <th>two_class_target</th>\n",
       "      <th>pred_1</th>\n",
       "      <th>pred_2</th>\n",
       "    </tr>\n",
       "  </thead>\n",
       "  <tbody>\n",
       "    <tr>\n",
       "      <th>0</th>\n",
       "      <td>3</td>\n",
       "      <td>i understand turkey s position here they can t...</td>\n",
       "      <td>false_dilemma</td>\n",
       "      <td>fallacy</td>\n",
       "      <td>none</td>\n",
       "      <td>none</td>\n",
       "    </tr>\n",
       "    <tr>\n",
       "      <th>1</th>\n",
       "      <td>3</td>\n",
       "      <td>i don t know why the international community e...</td>\n",
       "      <td>false_dilemma</td>\n",
       "      <td>fallacy</td>\n",
       "      <td>none</td>\n",
       "      <td>none</td>\n",
       "    </tr>\n",
       "    <tr>\n",
       "      <th>2</th>\n",
       "      <td>1</td>\n",
       "      <td>if it is very low for instance around one it m...</td>\n",
       "      <td>false_dilemma</td>\n",
       "      <td>fallacy</td>\n",
       "      <td>none</td>\n",
       "      <td>none</td>\n",
       "    </tr>\n",
       "    <tr>\n",
       "      <th>3</th>\n",
       "      <td>3</td>\n",
       "      <td>the people who live in these area like the car...</td>\n",
       "      <td>false_dilemma</td>\n",
       "      <td>fallacy</td>\n",
       "      <td>none</td>\n",
       "      <td>none</td>\n",
       "    </tr>\n",
       "    <tr>\n",
       "      <th>4</th>\n",
       "      <td>3</td>\n",
       "      <td>with fake drug on the market it could end up b...</td>\n",
       "      <td>false_dilemma</td>\n",
       "      <td>fallacy</td>\n",
       "      <td>none</td>\n",
       "      <td>none</td>\n",
       "    </tr>\n",
       "    <tr>\n",
       "      <th>...</th>\n",
       "      <td>...</td>\n",
       "      <td>...</td>\n",
       "      <td>...</td>\n",
       "      <td>...</td>\n",
       "      <td>...</td>\n",
       "      <td>...</td>\n",
       "    </tr>\n",
       "    <tr>\n",
       "      <th>1345</th>\n",
       "      <td>3</td>\n",
       "      <td>protesting to make it easier on people who are...</td>\n",
       "      <td>slippery_slope</td>\n",
       "      <td>fallacy</td>\n",
       "      <td>fallacy</td>\n",
       "      <td>slippery_slope</td>\n",
       "    </tr>\n",
       "    <tr>\n",
       "      <th>1346</th>\n",
       "      <td>3</td>\n",
       "      <td>this is all interesting to know for historical...</td>\n",
       "      <td>slippery_slope</td>\n",
       "      <td>fallacy</td>\n",
       "      <td>fallacy</td>\n",
       "      <td>appeal_to_authority</td>\n",
       "    </tr>\n",
       "    <tr>\n",
       "      <th>1347</th>\n",
       "      <td>3</td>\n",
       "      <td>it s easy to understand why people are upset i...</td>\n",
       "      <td>slippery_slope</td>\n",
       "      <td>fallacy</td>\n",
       "      <td>fallacy</td>\n",
       "      <td>slippery_slope</td>\n",
       "    </tr>\n",
       "    <tr>\n",
       "      <th>1348</th>\n",
       "      <td>9</td>\n",
       "      <td>then he go on to say that he s going to change...</td>\n",
       "      <td>slippery_slope</td>\n",
       "      <td>fallacy</td>\n",
       "      <td>fallacy</td>\n",
       "      <td>slippery_slope</td>\n",
       "    </tr>\n",
       "    <tr>\n",
       "      <th>1349</th>\n",
       "      <td>3</td>\n",
       "      <td>letting them do this once won t let off the st...</td>\n",
       "      <td>slippery_slope</td>\n",
       "      <td>fallacy</td>\n",
       "      <td>fallacy</td>\n",
       "      <td>slippery_slope</td>\n",
       "    </tr>\n",
       "  </tbody>\n",
       "</table>\n",
       "<p>1350 rows × 6 columns</p>\n",
       "</div>"
      ],
      "text/plain": [
       "      dataset                                               text   \n",
       "0           3  i understand turkey s position here they can t...  \\\n",
       "1           3  i don t know why the international community e...   \n",
       "2           1  if it is very low for instance around one it m...   \n",
       "3           3  the people who live in these area like the car...   \n",
       "4           3  with fake drug on the market it could end up b...   \n",
       "...       ...                                                ...   \n",
       "1345        3  protesting to make it easier on people who are...   \n",
       "1346        3  this is all interesting to know for historical...   \n",
       "1347        3  it s easy to understand why people are upset i...   \n",
       "1348        9  then he go on to say that he s going to change...   \n",
       "1349        3  letting them do this once won t let off the st...   \n",
       "\n",
       "     logical_fallacies two_class_target   pred_1               pred_2  \n",
       "0        false_dilemma          fallacy     none                 none  \n",
       "1        false_dilemma          fallacy     none                 none  \n",
       "2        false_dilemma          fallacy     none                 none  \n",
       "3        false_dilemma          fallacy     none                 none  \n",
       "4        false_dilemma          fallacy     none                 none  \n",
       "...                ...              ...      ...                  ...  \n",
       "1345    slippery_slope          fallacy  fallacy       slippery_slope  \n",
       "1346    slippery_slope          fallacy  fallacy  appeal_to_authority  \n",
       "1347    slippery_slope          fallacy  fallacy       slippery_slope  \n",
       "1348    slippery_slope          fallacy  fallacy       slippery_slope  \n",
       "1349    slippery_slope          fallacy  fallacy       slippery_slope  \n",
       "\n",
       "[1350 rows x 6 columns]"
      ]
     },
     "execution_count": 83,
     "metadata": {},
     "output_type": "execute_result"
    }
   ],
   "source": [
    "df_result"
   ]
  },
  {
   "cell_type": "markdown",
   "id": "2c9676f9",
   "metadata": {},
   "source": [
    "#### Evaluation"
   ]
  },
  {
   "cell_type": "code",
   "execution_count": 84,
   "id": "f9c89c90",
   "metadata": {},
   "outputs": [],
   "source": [
    "def log_metrics(cr, split):\n",
    "    for key, value in cr.items():\n",
    "        if (key == \"accuracy\"):\n",
    "                print(f\"{split}_{key}\", round(value,2))\n",
    "                mlflow.log_metric(f\"{split}_{key}\", value)\n",
    "        else:\n",
    "            for metric in value:\n",
    "                mlflow.log_metric(f\"{split}_{key}_{metric}\", value.get(metric))\n",
    "                print(f\"{split}_{key}_{metric}\", round(value.get(metric),2))"
   ]
  },
  {
   "cell_type": "code",
   "execution_count": 85,
   "id": "0b9909ab",
   "metadata": {},
   "outputs": [
    {
     "name": "stderr",
     "output_type": "stream",
     "text": [
      "INFO:root:get validation metrics\n",
      "INFO:basic_functions:classification_report\n",
      "INFO:basic_functions:confusion_matrix\n",
      "INFO:basic_functions:heatmap\n"
     ]
    },
    {
     "name": "stdout",
     "output_type": "stream",
     "text": [
      "                     precision    recall  f1-score   support\n",
      "\n",
      "         ad_hominem       0.58      0.41      0.48       250\n",
      "appeal_to_authority       0.53      0.49      0.51       250\n",
      "  appeal_to_emotion       0.56      0.56      0.56       250\n",
      "      false_dilemma       0.65      0.55      0.60       250\n",
      "               none       0.22      0.32      0.26       250\n",
      "     slippery_slope       0.39      0.46      0.42       100\n",
      "\n",
      "           accuracy                           0.47      1350\n",
      "          macro avg       0.49      0.46      0.47      1350\n",
      "       weighted avg       0.50      0.47      0.48      1350\n",
      "\n",
      "[[102  26  38  22  59   3]\n",
      " [ 10 122  21   8  79  10]\n",
      " [ 30  24 140   8  39   9]\n",
      " [ 10  12  12 138  64  14]\n",
      " [ 23  39  39  34  80  35]\n",
      " [  2   8   1   3  40  46]]\n"
     ]
    },
    {
     "data": {
      "image/png": "[encoded data removed]",
      "text/plain": [
       "<Figure size 800x600 with 2 Axes>"
      ]
     },
     "metadata": {},
     "output_type": "display_data"
    },
    {
     "name": "stdout",
     "output_type": "stream",
     "text": [
      "val_ad_hominem_precision 0.58\n",
      "val_ad_hominem_recall 0.41\n",
      "val_ad_hominem_f1-score 0.48\n",
      "val_ad_hominem_support 250\n",
      "val_appeal_to_authority_precision 0.53\n",
      "val_appeal_to_authority_recall 0.49\n",
      "val_appeal_to_authority_f1-score 0.51\n",
      "val_appeal_to_authority_support 250\n",
      "val_appeal_to_emotion_precision 0.56\n",
      "val_appeal_to_emotion_recall 0.56\n",
      "val_appeal_to_emotion_f1-score 0.56\n",
      "val_appeal_to_emotion_support 250\n",
      "val_false_dilemma_precision 0.65\n",
      "val_false_dilemma_recall 0.55\n",
      "val_false_dilemma_f1-score 0.6\n",
      "val_false_dilemma_support 250\n",
      "val_none_precision 0.22\n",
      "val_none_recall 0.32\n",
      "val_none_f1-score 0.26\n",
      "val_none_support 250\n",
      "val_slippery_slope_precision 0.39\n",
      "val_slippery_slope_recall 0.46\n",
      "val_slippery_slope_f1-score 0.42\n",
      "val_slippery_slope_support 100\n",
      "val_accuracy 0.47\n",
      "val_macro avg_precision 0.49\n",
      "val_macro avg_recall 0.46\n",
      "val_macro avg_f1-score 0.47\n",
      "val_macro avg_support 1350\n",
      "val_weighted avg_precision 0.5\n",
      "val_weighted avg_recall 0.47\n",
      "val_weighted avg_f1-score 0.48\n",
      "val_weighted avg_support 1350\n"
     ]
    }
   ],
   "source": [
    "logger.info('get validation metrics')\n",
    "classification_report = get_metrics(df_result['logical_fallacies'], df_result['pred_2'])\n",
    "log_metrics(classification_report, 'val')"
   ]
  },
  {
   "cell_type": "code",
   "execution_count": null,
   "id": "d041e242",
   "metadata": {},
   "outputs": [],
   "source": [
    "mlflow.end_run()"
   ]
  }
 ],
 "metadata": {
  "kernelspec": {
   "display_name": ".venv",
   "language": "python",
   "name": "python3"
  },
  "language_info": {
   "codemirror_mode": {
    "name": "ipython",
    "version": 3
   },
   "file_extension": ".py",
   "mimetype": "text/x-python",
   "name": "python",
   "nbconvert_exporter": "python",
   "pygments_lexer": "ipython3",
   "version": "3.11.3"
  }
 },
 "nbformat": 4,
 "nbformat_minor": 5
}
