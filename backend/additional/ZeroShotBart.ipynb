{
 "cells": [
  {
   "cell_type": "markdown",
   "metadata": {},
   "source": [
    "### Import"
   ]
  },
  {
   "cell_type": "code",
   "execution_count": 47,
   "metadata": {},
   "outputs": [
    {
     "name": "stderr",
     "output_type": "stream",
     "text": [
      "python(88293) MallocStackLogging: can't turn off malloc stack logging because it was not enabled.\n"
     ]
    }
   ],
   "source": [
    "from transformers import pipeline\n",
    "import pandas as pd\n",
    "import numpy as np\n",
    "from tqdm import tqdm\n",
    "from sklearn.metrics import classification_report, confusion_matrix\n",
    "import matplotlib.pyplot as plt\n",
    "import seaborn as sns"
   ]
  },
  {
   "cell_type": "code",
   "execution_count": 11,
   "metadata": {},
   "outputs": [
    {
     "data": {
      "text/html": [
       "<div>\n",
       "<style scoped>\n",
       "    .dataframe tbody tr th:only-of-type {\n",
       "        vertical-align: middle;\n",
       "    }\n",
       "\n",
       "    .dataframe tbody tr th {\n",
       "        vertical-align: top;\n",
       "    }\n",
       "\n",
       "    .dataframe thead th {\n",
       "        text-align: right;\n",
       "    }\n",
       "</style>\n",
       "<table border=\"1\" class=\"dataframe\">\n",
       "  <thead>\n",
       "    <tr style=\"text-align: right;\">\n",
       "      <th></th>\n",
       "      <th>text</th>\n",
       "      <th>logical_fallacies</th>\n",
       "    </tr>\n",
       "  </thead>\n",
       "  <tbody>\n",
       "    <tr>\n",
       "      <th>0</th>\n",
       "      <td>Testing on animals could save the life of you ...</td>\n",
       "      <td>appeal_to_emotion</td>\n",
       "    </tr>\n",
       "    <tr>\n",
       "      <th>1</th>\n",
       "      <td>I remember when China took over Hong Kong, I r...</td>\n",
       "      <td>none</td>\n",
       "    </tr>\n",
       "    <tr>\n",
       "      <th>2</th>\n",
       "      <td>: The only \"Light at the End of the Tunnel\", i...</td>\n",
       "      <td>appeal_to_emotion</td>\n",
       "    </tr>\n",
       "    <tr>\n",
       "      <th>3</th>\n",
       "      <td>So you only believe there are two ways to run ...</td>\n",
       "      <td>none</td>\n",
       "    </tr>\n",
       "    <tr>\n",
       "      <th>4</th>\n",
       "      <td>Keep things the way they are or change them co...</td>\n",
       "      <td>false_dilemma</td>\n",
       "    </tr>\n",
       "    <tr>\n",
       "      <th>...</th>\n",
       "      <td>...</td>\n",
       "      <td>...</td>\n",
       "    </tr>\n",
       "    <tr>\n",
       "      <th>4995</th>\n",
       "      <td>tesforArgumentforAr</td>\n",
       "      <td>none</td>\n",
       "    </tr>\n",
       "    <tr>\n",
       "      <th>4996</th>\n",
       "      <td>Either you support all of my ideas, or you don...</td>\n",
       "      <td>false_dilemma</td>\n",
       "    </tr>\n",
       "    <tr>\n",
       "      <th>4997</th>\n",
       "      <td>These former Soviet countries are all the same...</td>\n",
       "      <td>faulty_generalization</td>\n",
       "    </tr>\n",
       "    <tr>\n",
       "      <th>4998</th>\n",
       "      <td>: Revealed: leader of group peddling bleach as...</td>\n",
       "      <td>none</td>\n",
       "    </tr>\n",
       "    <tr>\n",
       "      <th>4999</th>\n",
       "      <td>: Here is a summary of today's #COVID19AB upda...</td>\n",
       "      <td>none</td>\n",
       "    </tr>\n",
       "  </tbody>\n",
       "</table>\n",
       "<p>5000 rows × 2 columns</p>\n",
       "</div>"
      ],
      "text/plain": [
       "                                                   text      logical_fallacies\n",
       "0     Testing on animals could save the life of you ...      appeal_to_emotion\n",
       "1     I remember when China took over Hong Kong, I r...                   none\n",
       "2     : The only \"Light at the End of the Tunnel\", i...      appeal_to_emotion\n",
       "3     So you only believe there are two ways to run ...                   none\n",
       "4     Keep things the way they are or change them co...          false_dilemma\n",
       "...                                                 ...                    ...\n",
       "4995                                tesforArgumentforAr                   none\n",
       "4996  Either you support all of my ideas, or you don...          false_dilemma\n",
       "4997  These former Soviet countries are all the same...  faulty_generalization\n",
       "4998  : Revealed: leader of group peddling bleach as...                   none\n",
       "4999  : Here is a summary of today's #COVID19AB upda...                   none\n",
       "\n",
       "[5000 rows x 2 columns]"
      ]
     },
     "execution_count": 11,
     "metadata": {},
     "output_type": "execute_result"
    }
   ],
   "source": [
    "data = pd.read_csv(\"../data/data_small.csv\")\n",
    "data = data.drop(columns = [\"Unnamed: 0\", \"dataset\", \"source\"])\n",
    "data"
   ]
  },
  {
   "cell_type": "markdown",
   "metadata": {},
   "source": [
    "### Preparing the pipeline"
   ]
  },
  {
   "cell_type": "code",
   "execution_count": 13,
   "metadata": {},
   "outputs": [
    {
     "name": "stderr",
     "output_type": "stream",
     "text": [
      "No model was supplied, defaulted to facebook/bart-large-mnli and revision d7645e1 (https://huggingface.co/facebook/bart-large-mnli).\n",
      "Using a pipeline without specifying a model name and revision in production is not recommended.\n",
      "Device set to use mps:0\n"
     ]
    }
   ],
   "source": [
    "classifier = pipeline(\"zero-shot-classification\",device = 0)"
   ]
  },
  {
   "cell_type": "markdown",
   "metadata": {},
   "source": [
    "### Making Predictions"
   ]
  },
  {
   "cell_type": "code",
   "execution_count": 54,
   "metadata": {},
   "outputs": [],
   "source": [
    "category_map = {\n",
    "    'appeal_to_emotion': 'appeal to emotion',\n",
    "    'faulty_generalization': 'faulty generalization',\n",
    "    'ad_hominem': 'ad hominem',\n",
    "    'false_dilemma': 'false dilemma',\n",
    "    'appeal_to_authority': 'appeal to authority',\n",
    "    'none': 'none'\n",
    "}"
   ]
  },
  {
   "cell_type": "code",
   "execution_count": 22,
   "metadata": {},
   "outputs": [],
   "source": [
    "category_map_def = {\n",
    "    'appeal_to_emotion': 'This fallacy occurs when emotion is used to support an argument, such as pity, fear, anger, etc.',\n",
    "    'faulty_generalization': 'This fallacy occurs when an argument assumes something is true for a large population without having a large enough sample. A kind of overgeneralization.',\n",
    "    'ad_hominem': 'This fallacy occurs when the speaker is attacking the other person or some aspect of them rather than addressing the argument itself.',\n",
    "    'false_dilemma': 'This fallacy occurs when only two options are presented in an argument, even though more options may exist. A case of “either this or that”.',\n",
    "    'appeal_to_authority': 'This fallacy occurs when an argument relies on the opinion or endorsement of an authority figure who may not have relevant expertise or whose expertise is questionable. When applicable, a scientific consensus is not an appeal to authority.',\n",
    "    'none': 'There are no fallacies in this text!'\n",
    "}"
   ]
  },
  {
   "cell_type": "code",
   "execution_count": 57,
   "metadata": {},
   "outputs": [
    {
     "name": "stderr",
     "output_type": "stream",
     "text": [
      "100%|██████████| 5000/5000 [51:16<00:00,  1.63it/s]  \n"
     ]
    }
   ],
   "source": [
    "candidate_labels = list(category_map.values())\n",
    "predictedCategories = []\n",
    "trueCategories = []\n",
    "for i in tqdm(range(len(data))):\n",
    "#for i in tqdm(range(100)):\n",
    "    text = data.iloc[i,]['text']\n",
    "    cat = [data.iloc[i,]['logical_fallacies']]\n",
    "    res = classifier(text, candidate_labels, multi_label=False)\n",
    "    labels = res['labels'] \n",
    "    scores = res['scores'] #extracting the scores associated with the labels\n",
    "    res_dict = {label : score for label,score in zip(labels, scores)}\n",
    "    sorted_dict = dict(sorted(res_dict.items(), key=lambda x:x[1],reverse = True)) #sorting the dictionary of labels in descending order based on their score\n",
    "    categories  = next(k for i, (k,v) in enumerate(sorted_dict.items()))\n",
    "\n",
    "    predictedCategories.append(categories)\n",
    "    trueCats = [category_map[x] for x in cat]\n",
    "    trueCategories.append(trueCats)"
   ]
  },
  {
   "cell_type": "markdown",
   "metadata": {},
   "source": [
    "### Classification Report"
   ]
  },
  {
   "cell_type": "code",
   "execution_count": 58,
   "metadata": {},
   "outputs": [
    {
     "name": "stdout",
     "output_type": "stream",
     "text": [
      "                       precision    recall  f1-score   support\n",
      "\n",
      "           ad hominem       0.15      0.19      0.17       498\n",
      "  appeal to authority       0.11      0.74      0.19       328\n",
      "    appeal to emotion       0.29      0.23      0.26       754\n",
      "        false dilemma       0.09      0.09      0.09       439\n",
      "faulty generalization       0.13      0.19      0.15       635\n",
      "                 none       0.39      0.02      0.03      2346\n",
      "\n",
      "             accuracy                           0.14      5000\n",
      "            macro avg       0.19      0.24      0.15      5000\n",
      "         weighted avg       0.27      0.14      0.11      5000\n",
      "\n"
     ]
    }
   ],
   "source": [
    "print(classification_report(trueCategories, predictedCategories))"
   ]
  },
  {
   "cell_type": "code",
   "execution_count": 33,
   "metadata": {},
   "outputs": [
    {
     "name": "stdout",
     "output_type": "stream",
     "text": [
      "true_label appeal_to_emotion\n"
     ]
    },
    {
     "data": {
      "text/plain": [
       "{'sequence': 'Testing on animals could save the life of you or a family member. Do you really think the life of your child is less important than a mouse?',\n",
       " 'labels': ['appeal_to_emotion',\n",
       "  'appeal_to_authority',\n",
       "  'false_dilemma',\n",
       "  'ad_hominem',\n",
       "  'faulty_generalization',\n",
       "  'none'],\n",
       " 'scores': [0.3103480339050293,\n",
       "  0.2585570514202118,\n",
       "  0.17311961948871613,\n",
       "  0.15250879526138306,\n",
       "  0.07671978324651718,\n",
       "  0.028746716678142548]}"
      ]
     },
     "execution_count": 33,
     "metadata": {},
     "output_type": "execute_result"
    }
   ],
   "source": [
    "sequence_to_classify = data.iloc[0,]['text']\n",
    "print(\"true_label\", data.iloc[0,]['logical_fallacies'])\n",
    "candidate_labels = ['ad_hominem', 'appeal_to_authority', 'appeal_to_emotion', 'false_dilemma', 'faulty_generalization', 'none']\n",
    "classifier(sequence_to_classify, candidate_labels)"
   ]
  },
  {
   "cell_type": "code",
   "execution_count": 59,
   "metadata": {},
   "outputs": [
    {
     "data": {
      "image/png": "[encoded data removed]",
      "text/plain": [
       "<Figure size 640x480 with 2 Axes>"
      ]
     },
     "metadata": {},
     "output_type": "display_data"
    }
   ],
   "source": [
    "cm = confusion_matrix(trueCategories, predictedCategories)\n",
    "labels = sorted(data['logical_fallacies'].unique())\n",
    "\n",
    "sns.heatmap(cm, cmap='YlGnBu', annot=True, fmt='d', linewidths=.5, xticklabels=labels, yticklabels=labels);\n",
    "plt.xlabel(\"predicted\")\n",
    "plt.ylabel(\"actual\")\n",
    "\n",
    "plt.show()"
   ]
  }
 ],
 "metadata": {
  "kernelspec": {
   "display_name": ".venv",
   "language": "python",
   "name": "python3"
  },
  "language_info": {
   "codemirror_mode": {
    "name": "ipython",
    "version": 3
   },
   "file_extension": ".py",
   "mimetype": "text/x-python",
   "name": "python",
   "nbconvert_exporter": "python",
   "pygments_lexer": "ipython3",
   "version": "3.11.3"
  }
 },
 "nbformat": 4,
 "nbformat_minor": 4
}
